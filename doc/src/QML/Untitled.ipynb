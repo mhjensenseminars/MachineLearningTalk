{
 "cells": [
  {
   "cell_type": "code",
   "execution_count": 10,
   "id": "81dde194-4816-471b-ae52-f357e99c0772",
   "metadata": {},
   "outputs": [
    {
     "name": "stdout",
     "output_type": "stream",
     "text": [
      "0.01543441099741428\n"
     ]
    }
   ],
   "source": [
    "import numpy as np\n",
    "from numpy.linalg import norm\n",
    "from scipy.linalg import expm\n",
    "\n",
    "#Define Pauli matrices\n",
    "X = np.array([[0, 1],[1, 0]])\n",
    "Z = np.array([[1, 0],[0,-1]])\n",
    "H = X + Z\n",
    "t = 1.0\n",
    "N = 64\n",
    "dt = t/N\n",
    "#First-order Trotter approximation\n",
    "U_trot = np.eye(2)\n",
    "for k in range(N):\n",
    "    U_trot = expm(-1j * X * dt) @ expm(-1j * Z * dt) @ U_trot\n",
    "#Exact evolution\n",
    "U_exact = expm(-1j * H * t)\n",
    "error = norm(U_trot - U_exact)\n",
    "print(error)"
   ]
  },
  {
   "cell_type": "code",
   "execution_count": 4,
   "id": "52c50ae6-f561-43ed-9197-a04e01e07743",
   "metadata": {},
   "outputs": [
    {
     "name": "stdout",
     "output_type": "stream",
     "text": [
      "(e^A e^B - e^{A+B}=) 0.0070750014758736565\n",
      "(e^A e^B - e^{A+B+0.5[A,B]}=) 0.00023787905729058485\n"
     ]
    }
   ],
   "source": [
    "import numpy as np\n",
    "from numpy.linalg import norm\n",
    "from scipy.linalg import expm  # matrix exponential\n",
    "A = np.array([[0, 0.1],[0, 0   ]])\n",
    "B = np.array([[0,   0 ],[0.1, 0 ]])\n",
    "\n",
    "#Compute exponentials:\n",
    "U = expm(A) @ expm(B)          # e^A e^B\n",
    "U_direct = expm(A + B)         # e^{A+B}\n",
    "U_BCH = expm(A + B + 0.5*(A@B - B@A))  # e^{A+B+0.5[A,B]}\n",
    "print('(e^A e^B - e^{A+B}=)', norm(U - U_direct))\n",
    "print('(e^A e^B - e^{A+B+0.5[A,B]}=)', norm(U - U_BCH))"
   ]
  },
  {
   "cell_type": "code",
   "execution_count": 5,
   "id": "d1015c11-3280-422c-a4e5-e78d53c42226",
   "metadata": {},
   "outputs": [
    {
     "name": "stdout",
     "output_type": "stream",
     "text": [
      "-[[X,Y],X]/12 + [[X,Y],Y]/12 + [X,Y]/2 + X + Y\n"
     ]
    }
   ],
   "source": [
    "from sympy.physics.quantum import Commutator, Operator\n",
    "from sympy import Rational, expand\n",
    "X, Y = Operator('X'), Operator('Y')\n",
    "# BCH series up to third order:\n",
    "Z =X+Y+Rational(1,2)*Commutator(X, Y)+ Rational(1,12)*(Commutator(X, Commutator(X,Y))+ Commutator(Y, Commutator(Y,X)))\n",
    "print(Z.expand(commutator=True))   "
   ]
  },
  {
   "cell_type": "code",
   "execution_count": null,
   "id": "426361e0-542c-448f-bebd-1b283eab5dd7",
   "metadata": {},
   "outputs": [],
   "source": []
  }
 ],
 "metadata": {
  "kernelspec": {
   "display_name": "Python 3 (ipykernel)",
   "language": "python",
   "name": "python3"
  },
  "language_info": {
   "codemirror_mode": {
    "name": "ipython",
    "version": 3
   },
   "file_extension": ".py",
   "mimetype": "text/x-python",
   "name": "python",
   "nbconvert_exporter": "python",
   "pygments_lexer": "ipython3",
   "version": "3.9.15"
  }
 },
 "nbformat": 4,
 "nbformat_minor": 5
}
