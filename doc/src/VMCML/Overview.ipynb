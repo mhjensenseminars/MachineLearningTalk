{
 "cells": [
  {
   "cell_type": "markdown",
   "id": "a0398c32",
   "metadata": {
    "editable": true
   },
   "source": [
    "<!-- HTML file automatically generated from DocOnce source (https://github.com/doconce/doconce/)\n",
    "doconce format html Overview.do.txt --no_mako -->\n",
    "<!-- dom:TITLE: Quantum computing, Machine Learning and Quantum Machine Learning at UiO -->"
   ]
  },
  {
   "cell_type": "markdown",
   "id": "f3906cc4",
   "metadata": {
    "editable": true
   },
   "source": [
    "# Quantum computing, Machine Learning and Quantum Machine Learning at UiO\n",
    "**Morten Hjorth-Jensen, Department of Physics, UiO**\n",
    "<!-- at Department of Physics and Astronomy and FRIB, Michigan State University, USA, and Department of Physics and Center for Computing in Science Education, -->\n",
    "<!-- University of Oslo, Norway -->\n",
    "\n",
    "Date: **Nov 14, 2023**"
   ]
  },
  {
   "cell_type": "markdown",
   "id": "ac423c36",
   "metadata": {
    "editable": true
   },
   "source": [
    "## People\n",
    "\n",
    "**UiO.**\n",
    "\n",
    "1. Morten Hjorth-Jensen, theory, Lasse Vines, Marianne Bathen Etzelmueller and David Gongarra, experiment\n",
    "\n",
    "2. Four theory PhD students (2019-2025), one PD shared with Lasse Vines' QuTE project.\n",
    "\n",
    "3. Nine  master of science students  (theory), many-body physics, quantum computing, quantum machine learning and machine learning\n",
    "\n",
    "**MSU.**\n",
    "\n",
    "1. Dean Lee, Scott Bogner, Angela Wilson and Heiko Hergert, theory and Johannes Pollanen and Niyaz Beysengulov, experiment\n",
    "\n",
    "2. Four PhD students working on quantum computing and machine learning (theory)\n",
    "\n",
    "Since 2020, final thesis of three PhD students (MSU) and ten master of science students (UiO)."
   ]
  },
  {
   "cell_type": "markdown",
   "id": "ff7a5c60",
   "metadata": {
    "editable": true
   },
   "source": [
    "## Educational strategies\n",
    "\n",
    "1. **New study direction on Quantum technology** in Bachelor program Physis and Astronomy, starts Fall 2024. Three new courses:\n",
    "\n",
    "  * FYS1400 Introduction to Quantum Technologies\n",
    "\n",
    "  * FYS3405/4405 Quantum Materials\n",
    "\n",
    "  * FYS3415/4415 Quantum Computing\n",
    "\n",
    "2. **Developed Master of Science program on Computational Science**, started fall  2018 and many students here work on quantum computing and machine learning\n",
    "\n",
    "3. Developed courses on machine learning, from basic to advanced ones, FYS-STK3155/4155 and FYS5429/9429\n",
    "\n",
    "4. Developed advanced course on quantum computing and quantum machine learning, FYS5419/9419\n",
    "\n",
    "5. Since 2019 organized and taught more than twenty  international schools and intensive courses on quantum computing and machine learning"
   ]
  },
  {
   "cell_type": "markdown",
   "id": "854862d3",
   "metadata": {
    "editable": true
   },
   "source": [
    "## Machine learning research\n",
    "\n",
    "1. Solving complicated quantum mechanical many-body systems with deep learning, see references at the end\n",
    "\n",
    "2. Developing new machine learning algorithms **with applications to quantum computing as well**\n",
    "\n",
    "3. Analyzing experimental data from nuclear physics experiments, NIMA <https://www.sciencedirect.com/science/article/abs/pii/S0168900221004460?via%3Dihub>\n",
    "\n",
    "4. Predicting solid state material platforms for quantum technologies, Nature Computational Materials <https://www.nature.com/articles/s41524-022-00888-3>"
   ]
  },
  {
   "cell_type": "markdown",
   "id": "29823400",
   "metadata": {
    "editable": true
   },
   "source": [
    "## Quantum computing and quantum machine learning, main activities\n",
    "\n",
    "**How to use many-body theory to design quantum circuits (Quantum engineering)**\n",
    "1. Many-body methods like F(ull)C(onfiguration)I(nteraction) theory  with\n",
    "\n",
    "  * Adaptive basis sets \n",
    "\n",
    "  * Time dependence\n",
    "\n",
    "  * Optimization of experimental parameters \n",
    "\n",
    "  * Feedback from experiment\n",
    "\n",
    "2. Finding optimal parameters for tuning of entanglement \n",
    "\n",
    "3. Numerical experiments to mimick real systems, quantum twins\n",
    "\n",
    "4. Constructing quantum circuits to simulate specific systems\n",
    "\n",
    "5. Quantum machine learning to optimize quantum circuits"
   ]
  },
  {
   "cell_type": "markdown",
   "id": "6e0161fe",
   "metadata": {
    "editable": true
   },
   "source": [
    "## Candidate systems at UiO and MSU\n",
    "\n",
    "1. **Quantum dots, experiments at MSU and UiO**\n",
    "\n",
    "2. **Point Defects in semiconductors, experiments at UiO**\n",
    "\n",
    "3. Recent article Coulomb interaction-driven entanglement of electrons on helium, see <https://arxiv.org/abs/2310.04927>, and submitted to Physical Review Research"
   ]
  },
  {
   "cell_type": "markdown",
   "id": "7979022f",
   "metadata": {
    "editable": true
   },
   "source": [
    "## Selected references\n",
    "* [Artificial Intelligence and Machine Learning in Nuclear Physics, Amber Boehnlein et al., Reviews Modern of Physics 94, 031003 (2022)](https://journals.aps.org/rmp/abstract/10.1103/RevModPhys.94.031003) \n",
    "\n",
    "* [Dilute neutron star matter from neural-network quantum states by Fore et al, Physical Review Research 5, 033062 (2023)](https://journals.aps.org/prresearch/pdf/10.1103/PhysRevResearch.5.033062)\n",
    "\n",
    "* [Neural-network quantum states for ultra-cold Fermi gases, Jane Kim et al, Nature Physics Communcication, in press](https://doi.org/10.48550/arXiv.2305.08831)\n",
    "\n",
    "* [Message-Passing Neural Quantum States for the Homogeneous Electron Gas, Gabriel Pescia, Jane Kim et al. arXiv.2305.07240,](https://doi.org/10.48550/arXiv.2305.07240)\n",
    "\n",
    "* [Efficient solutions of fermionic systems using artificial neural networks, Nordhagen et al, Frontiers in Physics 11, 2023](https://doi.org/10.3389/fphy.2023.1061580)"
   ]
  },
  {
   "cell_type": "markdown",
   "id": "423edffa",
   "metadata": {
    "editable": true
   },
   "source": [
    "## More selected references\n",
    "* [Unsupervised learning for identifying events in active target experiments, R. Solli et al, Nuclear Instruments and Methods Physics A](https://www.sciencedirect.com/science/article/abs/pii/S0168900221004460?via%3Dihub)\n",
    "\n",
    "* [Coulomb interaction-driven entanglement of electrons on helium](https://arxiv.org/abs/2310.04927), and submitted to Physical Review Research\n",
    "\n",
    "* [Predicting solid state material platforms for quantum technologies, Hebnes et al, Nature Computational Materials, 2022](https://www.nature.com/articles/s41524-022-00888-3)"
   ]
  },
  {
   "cell_type": "markdown",
   "id": "b0630856",
   "metadata": {
    "editable": true
   },
   "source": [
    "## Machine Learning and Quantum Computing grants\n",
    "\n",
    "1. 2021-2025 9M NOK from RCN, Norway, [QUantum emitters in semiconductors for future TEchnologies](https://www.mn.uio.no/smn/english/research/projects/physics/325573-qute/index.html), co-PI\n",
    "\n",
    "2. 2023-2025 1M USD from Department of Energy, USA, [STREAMLINE Collaboration: Machine Learning for Nuclear Many-Body Systems](https://frib.msu.edu/news/2023/machine-learning.html#:~:text=For%20the%20grant%20supporting%20theoretical,in%20the%20cores%20of%20atoms), co-PI.\n",
    "\n",
    "3. 2023-2026 450 kUSD from Department of Energy, USA, [Effective Field Theory and Renormalization Group Studies of Quantum Algorithms](https://frib.msu.edu/news/2023/quantum-computing.html), co-PI.\n",
    "\n",
    "4. 2020-2023 750 kUSD from the Department of Energy, USA, From Quarks to Stars; A Quantum Computing Approach to the Nuclear Many-Body Problem. PI."
   ]
  }
 ],
 "metadata": {},
 "nbformat": 4,
 "nbformat_minor": 5
}
