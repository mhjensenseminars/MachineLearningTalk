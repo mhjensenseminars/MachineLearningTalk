{
 "cells": [
  {
   "cell_type": "markdown",
   "id": "858100f8",
   "metadata": {
    "editable": true
   },
   "source": [
    "<!-- HTML file automatically generated from DocOnce source (https://github.com/doconce/doconce/)\n",
    "doconce format html NB.do.txt --no_mako -->\n",
    "<!-- dom:TITLE: Exciting Avenues in Research and Education in AI, Quantum Science and Technology -->"
   ]
  },
  {
   "cell_type": "markdown",
   "id": "a2fc2f9b",
   "metadata": {
    "editable": true
   },
   "source": [
    "# Exciting Avenues in Research and Education in AI, Quantum Science and Technology\n",
    "**Morten Hjorth-Jensen**, Department of Physics and Astronomy and Facility for Rare Isotope Beams, Michigan State University, USA and Department of Physics and Center for Computing in Science Education, University of Oslo, Norway\n",
    "\n",
    "Date: **April 11, 2024**"
   ]
  },
  {
   "cell_type": "markdown",
   "id": "737aa86b",
   "metadata": {
    "editable": true
   },
   "source": [
    "## What is this talk about?\n",
    "\n",
    "The main aim is to give you a short introduction to quantum computing and our\n",
    "activities and **possibly** how to build AI/ML, Quantum Information Systems and\n",
    "Quantum Technologies/Quantum Computing\n",
    "collaborations and activities, research and **education**."
   ]
  },
  {
   "cell_type": "markdown",
   "id": "d14d6009",
   "metadata": {
    "editable": true
   },
   "source": [
    "## What are Quantum Computers?\n",
    "\n",
    " A quantum computer is a type of computer that harnesses the laws of\n",
    "quantum mechanics to solve problems and perform calculations that\n",
    "would otherwise be too complex for classical computers."
   ]
  },
  {
   "cell_type": "markdown",
   "id": "9a754fda",
   "metadata": {
    "editable": true
   },
   "source": [
    "## Fairly new concepts\n",
    "\n",
    "Quantum computing is a fairly new concept, introduced just \n",
    "four decades ago. It was first put forward in the 1980s, when Paul\n",
    "Benioff proposed a quantum version of the Turing Machine. Richard Feynman suggested that a\n",
    "quantum computer possesses the potential to simulate things a\n",
    "classical computer could not feasibly do."
   ]
  },
  {
   "cell_type": "markdown",
   "id": "bc6c0728",
   "metadata": {
    "editable": true
   },
   "source": [
    "## Revolution in the last years\n",
    "\n",
    "**Two-qubit quantum computer.**\n",
    "\n",
    "The research in quantum computing sped up at a rapid rate after that. In 1998 Isaac Chuang, Neil Gershenfeld, and Mark Kubinec created the first two-qubit quantum computer that could perform computations.\n",
    "\n",
    "See for example <https://www.ibm.com/quantum/assets/IBM_Quantum_Development_&_Innovation_Roadmap.pdf>"
   ]
  },
  {
   "cell_type": "markdown",
   "id": "6692bac5",
   "metadata": {
    "editable": true
   },
   "source": [
    "## Getting started yourself\n",
    "\n",
    "Today, many companies make quantum computers while many others are actively working on them. IBM has now made availbale their 100++-qubits quantum computer for free use.\n",
    "See <https://quantum.ibm.com/services/resources>.\n",
    "\n",
    "However, it must be kept in mind that these computers are only prototypes. They are too small to outperform classical computers. But with advancements in research, a real working quantum computer is becoming visible on the horizon."
   ]
  },
  {
   "cell_type": "markdown",
   "id": "1f30db19",
   "metadata": {
    "editable": true
   },
   "source": [
    "## Basics of a quantum computer\n",
    "\n",
    "**The classical computer.**\n",
    "\n",
    "uses bits, which are small units of data for performing all the tasks. A bit can hold a value of either 0 or 1. Therefore, all our applications on smartphones, videos, Internet, etc., use 1s and 0s at machine level.\n",
    "\n",
    "**Quantum computers.**\n",
    "\n",
    "work by using\n",
    "so-called called qubits. A qubit can be in a state of 0 and 1 at the same time. This state of a particle is called “superposition”. A qubit can remain in a superposition until it is checked for a value. At that point it gives the value of either 0 or 1."
   ]
  },
  {
   "cell_type": "markdown",
   "id": "3470b3f8",
   "metadata": {
    "editable": true
   },
   "source": [
    "## Huge dimensionalities\n",
    "\n",
    "With $N$ qubits we can ideally represent $2^N$ configurations. IBM's 127-qubit quantum computer can then ideally represent $2^{127}=170141183460469231731687303715884105728=1.7\\times 10^{38}$ realizations. \n",
    "\n",
    "See note on **Quantum parallelism** at <https://quantum-algorithms.herokuapp.com/299/paper/node16.html>."
   ]
  },
  {
   "cell_type": "markdown",
   "id": "3cbf1601",
   "metadata": {
    "editable": true
   },
   "source": [
    "## Quantum Superposition\n",
    "\n",
    "While classical bits can only take the values 0 or 1, quantum qubits\n",
    "can exist in both the 0 and 1 states at the same time. This is called\n",
    "quantum superposition. Quantum computing uses qubits in the\n",
    "superposition state to simultaneously process a computational problem\n",
    "with different possibilities. **In summary, quantum superposition is the\n",
    "simultaneous expression of multiple possibilities**.\n",
    "\n",
    "See for example the case of so-called Bell states at <https://github.com/CompPhysics/QuantumComputingMachineLearning/blob/gh-pages/doc/pub/week5/ipynb/week5.ipynb>"
   ]
  },
  {
   "cell_type": "markdown",
   "id": "7181e43f",
   "metadata": {
    "editable": true
   },
   "source": [
    "## Quantum Entanglement\n",
    "\n",
    "A special relationship can be established between qubits, called\n",
    "quantum entanglement or quantum correlation. Quantum entanglement\n",
    "allows quantum computing to provide parallel computing and data\n",
    "processing advantages in some algorithms. **In summary, quantum\n",
    "entanglement allows instantaneous interaction between connected\n",
    "qubits**.\n",
    "\n",
    "See for example the case of so-called Bell states at <https://github.com/CompPhysics/QuantumComputingMachineLearning/blob/gh-pages/doc/pub/week5/ipynb/week5.ipynb>"
   ]
  },
  {
   "cell_type": "markdown",
   "id": "4b963fea",
   "metadata": {
    "editable": true
   },
   "source": [
    "## Quantum Gates\n",
    "\n",
    "A quantum computer performs operations on qubits using quantum\n",
    "gates. Similar to the logical gates of classical computers, quantum\n",
    "gates are used to control specific quantum giants. Quantum gates can\n",
    "perform state changes between qubits and direct the computational\n",
    "process. **In summary, quantum gates control operations on qubits**.\n",
    "\n",
    "See for example the case of so-called Bell states at <https://github.com/CompPhysics/QuantumComputingMachineLearning/blob/gh-pages/doc/pub/week5/ipynb/week5.ipynb>"
   ]
  },
  {
   "cell_type": "markdown",
   "id": "24bda5a9",
   "metadata": {
    "editable": true
   },
   "source": [
    "## Quantum Supremacy\n",
    "\n",
    "Quantum supremacy refers to the situation where quantum computers can\n",
    "perform a given task faster and more efficiently than classical\n",
    "computers. Quantum supremacy uses the potential of quantum computing\n",
    "to solve problems that classical computers cannot practically solve or\n",
    "to perform complex calculations faster. **In summary, quantum supremacy\n",
    "is the ability to perform tasks faster and more efficiently**."
   ]
  },
  {
   "cell_type": "markdown",
   "id": "584d732f",
   "metadata": {
    "editable": true
   },
   "source": [
    "## Error Correction\n",
    "\n",
    "Quantum computers require precise and stable qubits. But qubits can be\n",
    "easily affected by environmental factors and errors can\n",
    "occur. Therefore, error correction techniques are used in quantum\n",
    "computers. Error correction algorithms detect and correct errors in\n",
    "qubits. This ensures reliable results in the computational process. **In\n",
    "summary, error correction refers to error correction techniques in\n",
    "quantum computing to ensure reliability**."
   ]
  },
  {
   "cell_type": "markdown",
   "id": "3cafa4c7",
   "metadata": {
    "editable": true
   },
   "source": [
    "## Outperforming classical computers\n",
    "\n",
    "Due to its use of qubits, a quantum computer is a lot more efficient\n",
    "and faster than traditional computers. In fact, a fully functional\n",
    "quantum computer can outperform the world’s most powerful\n",
    "supercomputers. In 2020, China claimed to have developed a quantum\n",
    "computer that performed computations 100 trillion times faster than\n",
    "any supercomputer.\n",
    "\n",
    "In 2019, Google’s quantum computer, named Sycamore,\n",
    "did a calculation in less than four minutes that would take the\n",
    "world’s most powerful computer 10,000 years to do."
   ]
  },
  {
   "cell_type": "markdown",
   "id": "9e1a5707",
   "metadata": {
    "editable": true
   },
   "source": [
    "## A quantum computer can have several applications due to its efficiency\n",
    "\n",
    "* Quantum computers can help boost advancements in the field of artificial intelligence and machine learning.\n",
    "\n",
    "* Quantum computing can be an effective way of figuring out the structures of drugs and their reactions to humans, which, in turn, can save a ton of money and time for drug companies.\n",
    "\n",
    "* Quantum computing, with the help of machine learning, can help in developing various techniques to combat cybersecurity threats. Additionally, quantum computing can help in creating encryption methods, also known as quantum cryptography."
   ]
  },
  {
   "cell_type": "markdown",
   "id": "0d65f4c3",
   "metadata": {
    "editable": true
   },
   "source": [
    "## And more\n",
    "\n",
    "* With so many variables to consider, accurate weather forecasts are difficult to produce. Machine learning using quantum computers can improve pattern recognition, making it easier to predict extreme weather events and potentially saving thousands of lives a year.\n",
    "\n",
    "* One potential application for quantum technologies is algorithmic trading — the use of complex algorithms to automatically trigger shared dealings based on a wide variety of market variables. The advantages, especially for high-volume transactions, are significant."
   ]
  },
  {
   "cell_type": "markdown",
   "id": "af1d4cc3",
   "metadata": {
    "editable": true
   },
   "source": [
    "## Some references\n",
    "Machine Learning and Quantum Computing hold great promise in tackling the \n",
    "ever increasing dimensionalities. A hot new field is  **Quantum Machine Learning**, see for example the recent textbook by [Maria Schuld and Francesco Petruccione](https://www.springer.com/gp/book/9783319964232).\n",
    "\n",
    "Quantum Machine Learning and Optimisation in Finance, see <https://www.packtpub.com/product/quantum-machine-learning-and-optimisation-in-finance/9781801813570> by Antoine Jacquier and Oleksiy Kondratyev"
   ]
  },
  {
   "cell_type": "markdown",
   "id": "cccb25e9",
   "metadata": {
    "editable": true
   },
   "source": [
    "## Our basic activities (theory), Overview\n",
    "* Machine Learning applied to Quantum Mechanical systems (optimize circuits)\n",
    "\n",
    "* Quantum Engineering\n",
    "\n",
    "* Quantum algorithms \n",
    "\n",
    "* Quantum Machine Learning"
   ]
  },
  {
   "cell_type": "markdown",
   "id": "9269fe3d",
   "metadata": {
    "editable": true
   },
   "source": [
    "## Quantum Engineering\n",
    "\n",
    "**Quantum Computing requirements.**\n",
    "\n",
    "1. be scalable\n",
    "\n",
    "2. have qubits that can be entangled\n",
    "\n",
    "3. have reliable initializations protocols to a standard state\n",
    "\n",
    "4. have a set of universal quantum gates to control the quantum evolution\n",
    "\n",
    "5. have a coherence time much longer than the gate operation time\n",
    "\n",
    "6. have a reliable read-out mechanism for measuring the qubit states\n",
    "\n",
    "7. and many more"
   ]
  },
  {
   "cell_type": "markdown",
   "id": "4734ab81",
   "metadata": {
    "editable": true
   },
   "source": [
    "## Candidate systems\n",
    "1. Superconducting Josephon junctions\n",
    "\n",
    "2. Single photons\n",
    "\n",
    "3. [Trapped ions and atoms](https://www.insidequantumtechnology.com/news-archive/ionq-is-first-quantum-startup-to-go-public-will-it-be-first-to-deliver-profits/)\n",
    "\n",
    "4. Nuclear Magnetic Resonance\n",
    "\n",
    "5. **Quantum dots**\n",
    "\n",
    "6. **Point Defects in semiconductors**\n",
    "\n",
    "7. more"
   ]
  },
  {
   "cell_type": "markdown",
   "id": "e77f5fe6",
   "metadata": {
    "editable": true
   },
   "source": [
    "## Electrons (quantum dots) on superfluid helium\n",
    "\n",
    "Electrons on [superfluid helium represent](https://www.youtube.com/watch?v=EuDuM-fe-lA&ab_channel=JoshuahHeath) a promising platform for investigating\n",
    "strongly-coupled qubits.\n",
    "\n",
    "Therefore a systematic investigation of the\n",
    "controlled generation of entanglement between two trapped electrons\n",
    "under the influence of coherent microwave driving pulses, taking into\n",
    "account the effects of the Coulomb interaction between electrons, is\n",
    "of significant importance for quantum information processing using\n",
    "trapped electrons."
   ]
  },
  {
   "cell_type": "markdown",
   "id": "2b5bc86b",
   "metadata": {
    "editable": true
   },
   "source": [
    "## Education, Quantum and AI/Machine Learning: what we have at UiO\n",
    "\n",
    "1. [Bachelor program](https://www.uio.no/studier/program/fysikk-astronomi/) in Physics@UiO\n",
    "\n",
    "a. study direction/option in **quantum technologies**, start fall 2024\n",
    "\n",
    "2. [New Bachelor program on Computational Science and Data Science](https://www.uio.no/studier/program/matematikk-data-beregninger/), start fall 2024\n",
    "\n",
    "a. Lots of emphasis on statistical data analysis and Machine Learning/AI\n",
    "\n",
    "2. Master of Science programs in [Computational Science](https://www.uio.no/english/studies/programmes/computational-science-master/) and [Data Science](https://www.uio.no/english/studies/programmes/datascience-master/).\n",
    "\n",
    "a. Study direction/option in Quantum Science and Technology in the Computational Science program, start fall 2025\n",
    "\n",
    "2. Master program in Physics\n",
    "\n",
    "a. Study direction/option in Quantum Technologies and Quantum Science, start fall 2025\n",
    "\n",
    "2. PhD research on quantum technologies and quantum science"
   ]
  },
  {
   "cell_type": "markdown",
   "id": "22582c8c",
   "metadata": {
    "editable": true
   },
   "source": [
    "## Courses we offer or are developing now\n",
    "\n",
    "**Topics.**\n",
    "\n",
    "1. Information Systems \n",
    "\n",
    "2. From Classical Information theory to Quantum Information theory\n",
    "\n",
    "3. Classical and Quantum Laboratory \n",
    "\n",
    "4. Discipline-Based Quantum Mechanics \n",
    "\n",
    "5. Quantum Software and Hardware\n",
    "\n",
    "6. Several  machine learning/AI courses, at all levels"
   ]
  },
  {
   "cell_type": "markdown",
   "id": "066db5ac",
   "metadata": {
    "editable": true
   },
   "source": [
    "## Important Issues to think of\n",
    "\n",
    "1. Lots of conceptual learning: superposition, entanglement, QIS applications, AI/ML etc\n",
    "\n",
    "2. Coding is indispensable \n",
    "\n",
    "3. Teamwork, project management, and communication are important and highly valued"
   ]
  },
  {
   "cell_type": "markdown",
   "id": "83fd4e90",
   "metadata": {
    "editable": true
   },
   "source": [
    "## Observations\n",
    "\n",
    "1. Students do not really know what Quantum science, technology etc is. \n",
    "\n",
    "2. Many perceive that a graduate degree is necessary to work in QIS."
   ]
  },
  {
   "cell_type": "markdown",
   "id": "6d8b8baa",
   "metadata": {
    "editable": true
   },
   "source": [
    "## Future Needs/Problems\n",
    "\n",
    "1. There are already great needs for specialized people, but also needs of  people with a broad overview of what is possible in Quantum and AI.\n",
    "\n",
    "2. There are not enough potential employees. It is a supply gap, not a skills gap.\n",
    "\n",
    "3. A BSc with specialization  is a good place to start\n",
    "\n",
    "4. It is tremendously important to get everyone speaking the same language. Facility with the vernacular of quantum mechanics is a big plus. Same with ML/AI\n",
    "\n",
    "5. There is a huge list of areas where technical expertise may be important."
   ]
  },
  {
   "cell_type": "markdown",
   "id": "f729e5f2",
   "metadata": {
    "editable": true
   },
   "source": [
    "## What can we offer to you?\n",
    "\n",
    "<!-- dom:FIGURE: [figures/qusteam.png, width=800 frac=1.0] -->\n",
    "<!-- begin figure -->\n",
    "\n",
    "<img src=\"figures/qusteam.png\" width=\"800\"><p style=\"font-size: 0.9em\"><i>Figure 1: </i></p>\n",
    "<!-- end figure -->"
   ]
  },
  {
   "cell_type": "markdown",
   "id": "c00663f1",
   "metadata": {
    "editable": true
   },
   "source": [
    "## Education for a broader audience\n",
    "\n",
    "1. We have yearslong experience (with research based evidence on what works or not) in developing intensive training courses on ML/AI and Quantum Science\n",
    "\n",
    "2. We are now developing a framework for a center for research-based innovation  (SFI) in AI which includes quantum technologies, **QAI**, The Quantum Science and Artificial Intelligence center.\n",
    "\n",
    "And we are obviously searching for partners from the private sector and the public sector."
   ]
  },
  {
   "cell_type": "markdown",
   "id": "7efb275b",
   "metadata": {
    "editable": true
   },
   "source": [
    "## What can be done\n",
    "\n",
    "The QAI centers plans to develop an education activity on quantum science and AI, **QAI TALENT**\n",
    "(TALENT=Training and Advanced Lectures in ENabling Technologies) offering\n",
    "1. Intensive short courses on selected topics (which can lead to credits and certificates)\n",
    "\n",
    "2. Certificates of expertise with modules that can add up to one year of credits or more.\n",
    "\n",
    "3. Possibilities of adding up to a master specialization in quantum science/technologies and/or AI/ML\n",
    "\n",
    "4. Common educational projects and supervision of students (examples from the Norwegian IRS)\n",
    "\n",
    "5. Input from you is essential!"
   ]
  }
 ],
 "metadata": {},
 "nbformat": 4,
 "nbformat_minor": 5
}
