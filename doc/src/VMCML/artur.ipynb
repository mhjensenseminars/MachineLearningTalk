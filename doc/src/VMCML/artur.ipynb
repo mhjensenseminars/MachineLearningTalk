{
 "cells": [
  {
   "cell_type": "markdown",
   "metadata": {},
   "source": [
    "<!-- dom:TITLE: Artur's many journeys on the Fermi sea; tales from the smallest length scales to infinity  -->\n",
    "# Artur's many journeys on the Fermi sea; tales from the smallest length scales to infinity \n",
    "<!-- dom:AUTHOR: Morten Hjorth-Jensen at Department of Physics and Astronomy and FRIB/NSCL Laboratory, Michigan State University, USA & Department of Physics and Center for Computing in Science Education, University of Oslo, Norway -->\n",
    "<!-- Author: -->  \n",
    "**Morten Hjorth-Jensen**, Department of Physics and Astronomy and FRIB/NSCL Laboratory, Michigan State University, USA and Department of Physics and Center for Computing in Science Education, University of Oslo, Norway\n",
    "\n",
    "Date: **University of Barcelona, June 11, 2021**\n",
    "\n",
    "## What is this talk about?\n",
    "* A personal selection of Artur's work, with an emphasis on our understanding of correlations in many-particle systems.\n",
    "\n",
    "a. Here I will limit myself to fermionic systems, from Hartree-Fock theory to several post Hartree-Fock methods (CBF, Green's functions, Coupled Cluster theory, many-body perturbation theory, Monte Carlo methods, and many more).\n",
    "\n",
    "b. And we will start with nuclei and end with nuclear matter and dense matter as expected in say neutron stars.\n",
    "\n",
    "\n",
    "* Hopefully, together with the other talks, this will give credit to Artur's incredibly broad scientific activity.\n",
    "\n",
    "\n",
    "\n",
    "\n",
    "\n",
    "## Why? Basic motivation\n",
    "\n",
    "\n",
    "To get a proper handle on correlations in interacting many-particle  systems and relate\n",
    "these to the underlying forces, forms an essential part in basic\n",
    "physics research and has wide ranging implications for our\n",
    "understanding of how matter organizes itself and what\n",
    "phenomena emerge.\n",
    "\n",
    "Understanding correlations  provides us with a window into the fascinating microscopic world of quantum physics.\n",
    "\n",
    "\n",
    "\n",
    "## Correlations in nuclear systems\n",
    "\n",
    "1. Herbert Müther and Artur Polls, *Two-body correlations in nuclear systems*, Progress in Particle and Nuclear Physics **45**, 243 (2000)\n",
    "\n",
    "2. Artur Polls, Herbert Müther, and Wim Dickhoff, *Short-range correlations and the one-body density matrix in finite nuclei*, Nuclear Physics **A 594**, 114 (1995)\n",
    "\n",
    "3. Herbert Müther, Artur Polls and Wim Dickhoff, *Momentum and energy distributions of nucleons in finite nuclei due to short-range correlations*, Physical Review **C 51**, 3040 (1995)\n",
    "\n",
    "4. Angels Ramos, Artur Polls and Wim Dickhoff, Nuclear Physics **A 503**, 1 (1989)\n",
    "\n",
    "5. Nuclear Physics **A 539**, 189 (1995)\n",
    "\n",
    "6. Physical Review **C 55**, 810 (1994)\n",
    "\n",
    "7. Nuclear Physics **A 605**, 458 (1996)\n",
    "\n",
    "8. Nuclear Physics **A 604**, 245 (1996)\n",
    "\n",
    "9. Physical Review **C 50**, 501  (1994)\n",
    "\n",
    "10. and obviously many many more\n",
    "\n",
    "\n",
    "\n",
    "\n",
    "## Natural orbits, one-body densities and correlations\n",
    "\n",
    "In Nuclear Physics A 594, 114 (1995)\n",
    "the effects of short-range correlations derived from a realistic\n",
    "meson-exchange potential on the single-particle density matrix in\n",
    "finite nuclei are investigated by analyzing the one-body density in\n",
    "terms of the natural orbits. \n",
    "Artur, Herbert and Wim comment that \n",
    "for many observables it seems to be\n",
    "sufficient to approximate the one-body density matrix in terms of those\n",
    "natural orbits, which exhibit the largest occupation probabilities. For the\n",
    "investigation of the high-momentum components in the single-particle\n",
    "density, however, it is important to take into account natural\n",
    "orbits with small occupation probabilities, originating from the\n",
    "single-particle Green function at large negative energies.\n",
    "\n",
    "\n",
    "## Definitions\n",
    "\n",
    "\n",
    "The one-body density matrix of the correlated system can be expressed in terms\n",
    "of these occupation numbers $n_{\\alpha}$ and the corresponding natural\n",
    "orbits $\\phi^{no}_{\\alpha}$ by"
   ]
  },
  {
   "cell_type": "markdown",
   "metadata": {},
   "source": [
    "<!-- Equation labels as ordinary links -->\n",
    "<div id=\"eq:natorb\"></div>\n",
    "\n",
    "$$\n",
    "\\rho(r,r') = \\sum_{\\alpha} n_{\\alpha} {\\phi^{no}_{\\alpha}}^*(r)\n",
    "\\phi^{no}_{\\alpha}(r')\n",
    "%\\label{eq:natorb} \\tag{1}\n",
    "$$"
   ]
  },
  {
   "cell_type": "markdown",
   "metadata": {},
   "source": [
    "## Additional observations, taken from NPA 594\n",
    "\n",
    "As the one\n",
    "body density matrix is diagonal in the $no$ representation, this basis\n",
    "appears to contain the most suitable single-particle wave functions for the\n",
    "calculation of the expectation value of a general one-body operator.\n",
    "In particular, if the total wave function of the system is a unique\n",
    "Slater determinant build with single-particle wave functions then the\n",
    "natural orbits coincide with those wave functions and the natural\n",
    "occupations are equal to unity. The deviations of this ideal situation\n",
    "indicate the impossibility to obtain the one-body density matrix from\n",
    "a single Slater determinant. One can say that the effect\n",
    "of correlations in the calculation of one-body observables are smallest\n",
    "when using the $no$ basis; for example, the depletion of the Fermi sea is\n",
    "smallest in this basis.\n",
    "\n",
    "\n",
    "## [Single-particle Density Matrix](https://arxiv.org/pdf/nucl-th/9503025.pdf)\n",
    "\n",
    "The single-particle\n",
    "density matrix $\\rho_{mn}$ is defined in a basis of appropriate\n",
    "single-particle states $m,n$ by"
   ]
  },
  {
   "cell_type": "markdown",
   "metadata": {},
   "source": [
    "$$\n",
    "\\rho_{mn} = <\\Psi_0^A\\vert a^\\dagger_m a_n\\vert \\Psi_0^A>\n",
    "$$"
   ]
  },
  {
   "cell_type": "markdown",
   "metadata": {},
   "source": [
    "where $\\Psi_0^A$ denotes the correlated ground state of the nucleus and\n",
    "$a^\\dagger_m$ ($a_n$) define the single-particle creation (annihilation)\n",
    "operators for the basis considered.\n",
    "\n",
    "\n",
    "## Green's function Approach\n",
    "\n",
    "Within the Green's function approach the density matrix can\n",
    "be evaluated from the imaginary part of the single-particle Green's function\n",
    "by integrating"
   ]
  },
  {
   "cell_type": "markdown",
   "metadata": {},
   "source": [
    "$$\n",
    "\\rho_{lj}(k_1,k_2) = \\int_{-\\infty}^{\\epsilon_F} dE\\,\n",
    "\\frac{1}{\\pi} \\mbox{Im} \\left( g_{lj}(k_1,k_2;E) \\right) ,\n",
    "$$"
   ]
  },
  {
   "cell_type": "markdown",
   "metadata": {},
   "source": [
    "where the energy variable $E$ corresponds to the energy difference between\n",
    "the ground state of the $A$ particle system and the various energies of all\n",
    "the states in the $A-1$ system\n",
    "(negative $E$ with large absolute value correspond\n",
    "to high excitation energies in the remaining system) and $\\epsilon_F$ is the\n",
    "Fermi energy.\n",
    "\n",
    "## Dyson Equation\n",
    "\n",
    "The single-particle Green function $g_{lj}$ or propagator\n",
    "is obtained from a solution of the Dyson equation"
   ]
  },
  {
   "cell_type": "markdown",
   "metadata": {},
   "source": [
    "$$\n",
    "g_{lj}(k_1,k_2;E) = g^{(0)}_{lj}(k_1,k_2;E)\n",
    "+ \\int dk_3\\int dk_4 g^{(0)}_{lj}(k_1,k_3;E) \\Delta\\Sigma_{lj}(k_3,k_4;E)\n",
    " g_{lj}(k_4,k_2;E) ,\n",
    "$$"
   ]
  },
  {
   "cell_type": "markdown",
   "metadata": {},
   "source": [
    "where $g^{(0)}$ refers to a Hartree-Fock propagator and $\\Delta\\Sigma_{lj}$\n",
    "represents contributions to the real and imaginary part of the irreducible\n",
    "self-energy, which go beyond the Hartree-Fock approximation of the nucleon\n",
    "self-energy used to derive $g^{(0)}$. \n",
    "\n",
    "\n",
    "## Technicalities\n",
    "\n",
    "To evaluate the single-particle Green function and densities\n",
    "Artur, Herbert and Wim\n",
    "considered a  complete basis within a spherical box of a radius $R_{\\rm box}$. This box\n",
    "radius was made  be larger than the radius of the nucleus considered.\n",
    "The calculated observables are independent of the choice of $R_{\\rm box}$,\n",
    "if it is chosen to be around 15 fm or larger. A complete and\n",
    "orthonormal set of regular basis functions within this box is given by"
   ]
  },
  {
   "cell_type": "markdown",
   "metadata": {},
   "source": [
    "$$\n",
    "\\Phi_{iljm} ({\\bf r}) = \\left\\langle {\\bf r} \\vert k_i l j m\n",
    "\\right\\rangle = N_{il} j_l(k_ir)\n",
    "{\\cal Y}_{ljm} (\\theta\\phi )\n",
    "$$"
   ]
  },
  {
   "cell_type": "markdown",
   "metadata": {},
   "source": [
    "## More Technicalities\n",
    "\n",
    "In this equation ${\\cal Y}_{ljm}$ represent the spherical harmonics\n",
    "including the spin degrees of freedom and $j_l$ denote the spherical\n",
    "Bessel functions for the discrete momenta $k_i$ which fulfill"
   ]
  },
  {
   "cell_type": "markdown",
   "metadata": {},
   "source": [
    "<!-- Equation labels as ordinary links -->\n",
    "<div id=\"eq:bound\"></div>\n",
    "\n",
    "$$\n",
    "\\\n",
    "j_l (k_i R_{\\rm box}) = 0 .\n",
    "\\label{eq:bound} \\tag{2}\n",
    "$$"
   ]
  },
  {
   "cell_type": "markdown",
   "metadata": {},
   "source": [
    "## Normalization constants"
   ]
  },
  {
   "cell_type": "markdown",
   "metadata": {},
   "source": [
    "$$\n",
    "N_{il} =\\frac{\\sqrt{2}}{\\sqrt{R_{\\rm box}^3} j_{l-1}(k_i R_{\\rm box})},\n",
    "$$"
   ]
  },
  {
   "cell_type": "markdown",
   "metadata": {},
   "source": [
    "for $l > 0$  and"
   ]
  },
  {
   "cell_type": "markdown",
   "metadata": {},
   "source": [
    "$$\n",
    "N_{il}=\\frac{i \\pi\\sqrt{2}}{\\sqrt{R_{\\rm box}^3}},\n",
    "$$"
   ]
  },
  {
   "cell_type": "markdown",
   "metadata": {},
   "source": [
    "for $l=0$."
   ]
  },
  {
   "cell_type": "markdown",
   "metadata": {},
   "source": [
    "$$\n",
    "\\int_0^{R_{\\rm box}} d^3 r\\, \\left\\langle k_{i'} l' j' m' \\vert {\\bf r}\n",
    "\\right\\rangle \\left\\langle {\\bf r}\n",
    "\\vert k_i l j m \\right\\rangle\n",
    "= \\delta_{ii'} \\delta_{ll'} \\delta_{jj'} \\delta_{mm'} .\n",
    "$$"
   ]
  },
  {
   "cell_type": "markdown",
   "metadata": {},
   "source": [
    "## Basis functions\n",
    "\n",
    "The basis functions defined for discrete values of the momentum\n",
    "$k_i$ within the box differ from the plane wave states defined in the\n",
    "continuum with the corresponding momentum just by the normalization constant,\n",
    "which is $\\sqrt{2/\\pi}$ for the latter. \n",
    "\n",
    "The Hartree-Fock Hamiltonian is diagonalized"
   ]
  },
  {
   "cell_type": "markdown",
   "metadata": {},
   "source": [
    "$$\n",
    "\\sum_{n=1}^{N_{\\rm max}} \\left\\langle k_i \\right| \\frac{k_i^2}{2m}\\delta_{in} +\n",
    "\\Sigma^{HF}_{lj} \\left| k_n \\right\\rangle \\left\\langle k_n \\vert a\n",
    "\\right\\rangle_{lj} = \\epsilon^{HF}_{a\n",
    "lj} \\left\\langle k_i \\vert a\\right\\rangle_{lj}.\n",
    "$$"
   ]
  },
  {
   "cell_type": "markdown",
   "metadata": {},
   "source": [
    "## From the Smallest scales to Infinity\n",
    "\n",
    "\n",
    "\n",
    "## Parlem de Tu (Miquel Martì i Pol)\n",
    "\n",
    "<!-- dom:FIGURE: [FigsTalkArtur/Parlemdetu.png, width=800 frac=0.8] -->\n",
    "<!-- begin figure -->\n",
    "<img src=\"FigsTalkArtur/Parlemdetu.png\" width=800><p style=\"font-size: 0.9em\"><i>Figure 1: </i></p><!-- end figure -->\n",
    "\n",
    "\n",
    "\n",
    "## The Fluidity of Time I (1994)\n",
    "\n",
    "<!-- dom:FIGURE: [FigsTalkArtur/ancienttimes.png, width=800 frac=1.5] -->\n",
    "<!-- begin figure -->\n",
    "<img src=\"FigsTalkArtur/ancienttimes.png\" width=800><p style=\"font-size: 0.9em\"><i>Figure 1: </i></p><!-- end figure -->\n",
    "\n",
    "\n",
    "## The Fluidity of Time II (2019)\n",
    "\n",
    "\n",
    "<!-- dom:FIGURE: [FigsTalkArtur/figureEFI.jpg, width=800 frac=1.0] -->\n",
    "<!-- begin figure -->\n",
    "<img src=\"FigsTalkArtur/figureEFI.jpg\" width=800><p style=\"font-size: 0.9em\"><i>Figure 1: </i></p><!-- end figure -->\n",
    "\n",
    "\n",
    "\n",
    "\n",
    "\n",
    "\n",
    "## Ciao Carissimo, sei sempre con noi, e sempre rimarrai\n",
    "\n",
    "<!-- dom:FIGURE: [FigsTalkArtur/Artur-Polls.jpeg, width=800 frac=0.8] -->\n",
    "<!-- begin figure -->\n",
    "<img src=\"FigsTalkArtur/Artur-Polls.jpeg\" width=800><p style=\"font-size: 0.9em\"><i>Figure 1: </i></p><!-- end figure -->"
   ]
  }
 ],
 "metadata": {},
 "nbformat": 4,
 "nbformat_minor": 4
}
