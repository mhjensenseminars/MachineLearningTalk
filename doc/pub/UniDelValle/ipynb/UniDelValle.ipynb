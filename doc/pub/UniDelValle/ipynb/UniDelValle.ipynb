{
 "cells": [
  {
   "cell_type": "markdown",
   "id": "7f543004",
   "metadata": {
    "editable": true
   },
   "source": [
    "<!-- HTML file automatically generated from DocOnce source (https://github.com/doconce/doconce/)\n",
    "doconce format html UniDelValle.do.txt --no_mako -->\n",
    "<!-- dom:TITLE: Artificial intelligence and machine learning in physics  -->"
   ]
  },
  {
   "cell_type": "markdown",
   "id": "a7f33097",
   "metadata": {
    "editable": true
   },
   "source": [
    "# Artificial intelligence and machine learning in physics \n",
    "**Morten Hjorth-Jensen**, Department of Physics and Astronomy and FRIB, Michigan State University, USA, and Department of Physics and Center for Computing in Science Education, University of Oslo, Norway\n",
    "\n",
    "Date: **Department of Physics, Universidad del Valle, November 7, 2024**"
   ]
  },
  {
   "cell_type": "markdown",
   "id": "9fc14f99",
   "metadata": {
    "editable": true
   },
   "source": [
    "## What is this talk about?\n",
    "The main emphasis is to give you a short and pedestrian introduction to the whys and hows we can use (with several examples) machine learning methods\n",
    "in physics. And why this could (or should) be of interest.\n",
    "\n",
    "These slides and more at <http://mhjensenseminars.github.io/MachineLearningTalk/doc/pub/UniDelValle/pdf/UniDelValle.pdf>"
   ]
  },
  {
   "cell_type": "markdown",
   "id": "2f81a134",
   "metadata": {
    "editable": true
   },
   "source": [
    "## Thanks to many\n",
    "\n",
    "Jane Kim (MSU), Julie Butler (MSU), Patrick Cook (MSU), Danny Jammooa (MSU), Daniel Bazin (MSU), Dean Lee (MSU), Witek Nazarewicz (MSU), Michelle Kuchera (Davidson College), Even Nordhagen (UiO), Robert Solli (UiO, Expert Analytics), Bryce Fore (ANL), Alessandro Lovato (ANL), Stefano Gandolfi (LANL), Francesco Pederiva (UniTN), and Giuseppe Carleo (EPFL). \n",
    "Niyaz Beysengulov and Johannes Pollanen (experiment, MSU); Zachary Stewart, Jared Weidman, and Angela Wilson (quantum chemistry, MSU)\n",
    "Jonas Flaten, Oskar, Leinonen, Øyvind Sigmundson Schøyen, Stian Dysthe Bilek, and Håkon Emil Kristiansen (UiO). Marianne Bathen and Lasse Vines (experiments (UiO). Excuses to those I have omitted."
   ]
  },
  {
   "cell_type": "markdown",
   "id": "e794c752",
   "metadata": {
    "editable": true
   },
   "source": [
    "## And sponsors\n",
    "\n",
    "1. National Science Foundation, US (various grants)\n",
    "\n",
    "2. Department of Energy, US (various grants)\n",
    "\n",
    "3. Research Council of Norway (various grants) and my employers University of Oslo and Michigan State University"
   ]
  },
  {
   "cell_type": "markdown",
   "id": "e8d176f6",
   "metadata": {
    "editable": true
   },
   "source": [
    "## AI/ML and some statements you may have heard (and what do they mean?)\n",
    "\n",
    "1. Fei-Fei Li on ImageNet: **map out the entire world of objects** ([The data that transformed AI research](https://cacm.acm.org/news/219702-the-data-that-transformed-ai-research-and-possibly-the-world/fulltext))\n",
    "\n",
    "2. Russell and Norvig in their popular textbook: **relevant to any intellectual task; it is truly a universal field** ([Artificial Intelligence, A modern approach](http://aima.cs.berkeley.edu/))\n",
    "\n",
    "3. Woody Bledsoe puts it more bluntly: **in the long run, AI is the only science** (quoted in Pamilla McCorduck, [Machines who think](https://www.pamelamccorduck.com/machines-who-think))\n",
    "\n",
    "If you wish to have a critical read on AI/ML from a societal point of view, see [Kate Crawford's recent text Atlas of AI](https://www.katecrawford.net/). \n",
    "\n",
    "**Here: with AI/ML we intend a collection of machine learning methods with an emphasis on statistical learning and data analysis**"
   ]
  },
  {
   "cell_type": "markdown",
   "id": "e00ede4d",
   "metadata": {
    "editable": true
   },
   "source": [
    "## Types of machine learning\n",
    "\n",
    "The approaches to machine learning are many, but are often split into two main categories. \n",
    "In *supervised learning* we know the answer to a problem,\n",
    "and let the computer deduce the logic behind it. On the other hand, *unsupervised learning*\n",
    "is a method for finding patterns and relationship in data sets without any prior knowledge of the system.\n",
    "\n",
    "An important  third category is  *reinforcement learning*. This is a paradigm \n",
    "of learning inspired by behavioural psychology, where learning is achieved by trial-and-error, \n",
    "solely from rewards and punishment."
   ]
  },
  {
   "cell_type": "markdown",
   "id": "18104aaf",
   "metadata": {
    "editable": true
   },
   "source": [
    "## Main categories\n",
    "Another way to categorize machine learning tasks is to consider the desired output of a system.\n",
    "Some of the most common tasks are:\n",
    "\n",
    "  * Classification: Outputs are divided into two or more classes. The goal is to   produce a model that assigns inputs into one of these classes. An example is to identify  digits based on pictures of hand-written ones. Classification is typically supervised learning.\n",
    "\n",
    "  * Regression: Finding a functional relationship between an input data set and a reference data set.   The goal is to construct a function that maps input data to continuous output values.\n",
    "\n",
    "  * Clustering: Data are divided into groups with certain common traits, without knowing the different groups beforehand.  It is thus a form of unsupervised learning."
   ]
  },
  {
   "cell_type": "markdown",
   "id": "157d106b",
   "metadata": {
    "editable": true
   },
   "source": [
    "## The plethora  of machine learning algorithms/methods\n",
    "\n",
    "1. Deep learning: Neural Networks (NN), Convolutional NN, Recurrent NN, Boltzmann machines, autoencoders and variational autoencoders  and generative adversarial networks, stable diffusion and many more generative models\n",
    "\n",
    "2. Bayesian statistics and Bayesian Machine Learning, Bayesian experimental design, Bayesian Regression models, Bayesian neural networks, Gaussian processes and much more\n",
    "\n",
    "3. Dimensionality reduction (Principal component analysis), Clustering Methods and more\n",
    "\n",
    "4. Ensemble Methods, Random forests, bagging and voting methods, gradient boosting approaches \n",
    "\n",
    "5. Linear and logistic regression, Kernel methods, support vector machines and more\n",
    "\n",
    "6. Reinforcement Learning; Transfer Learning and more"
   ]
  },
  {
   "cell_type": "markdown",
   "id": "83db002d",
   "metadata": {
    "editable": true
   },
   "source": [
    "## Example of generative modeling, [taken from Generative Deep Learning by David Foster](https://www.oreilly.com/library/view/generative-deep-learning/9781098134174/ch01.html)\n",
    "\n",
    "<!-- dom:FIGURE: [figures/generativelearning.png, width=900 frac=1.0] -->\n",
    "<!-- begin figure -->\n",
    "\n",
    "<img src=\"figures/generativelearning.png\" width=\"900\"><p style=\"font-size: 0.9em\"><i>Figure 1: </i></p>\n",
    "<!-- end figure -->"
   ]
  },
  {
   "cell_type": "markdown",
   "id": "be06944b",
   "metadata": {
    "editable": true
   },
   "source": [
    "## Example of discriminative modeling, [taken from Generative Deeep Learning by David Foster](https://www.oreilly.com/library/view/generative-deep-learning/9781098134174/ch01.html)\n",
    "\n",
    "<!-- dom:FIGURE: [figures/standarddeeplearning.png, width=900 frac=1.0] -->\n",
    "<!-- begin figure -->\n",
    "\n",
    "<img src=\"figures/standarddeeplearning.png\" width=\"900\"><p style=\"font-size: 0.9em\"><i>Figure 1: </i></p>\n",
    "<!-- end figure -->"
   ]
  },
  {
   "cell_type": "markdown",
   "id": "77a705f7",
   "metadata": {
    "editable": true
   },
   "source": [
    "## Taxonomy of generative deep learning, [taken from Generative Deep Learning by David Foster](https://www.oreilly.com/library/view/generative-deep-learning/9781098134174/ch01.html)\n",
    "\n",
    "<!-- dom:FIGURE: [figures/generativemodels.png, width=900 frac=1.0] -->\n",
    "<!-- begin figure -->\n",
    "\n",
    "<img src=\"figures/generativemodels.png\" width=\"900\"><p style=\"font-size: 0.9em\"><i>Figure 1: </i></p>\n",
    "<!-- end figure -->"
   ]
  },
  {
   "cell_type": "markdown",
   "id": "e9019200",
   "metadata": {
    "editable": true
   },
   "source": [
    "## Good books with hands-on material and codes\n",
    "* [Sebastian Rashcka et al, Machine learning with Sickit-Learn and PyTorch](https://sebastianraschka.com/blog/2022/ml-pytorch-book.html)\n",
    "\n",
    "* [David Foster, Generative Deep Learning with TensorFlow](https://www.oreilly.com/library/view/generative-deep-learning/9781098134174/ch01.html)\n",
    "\n",
    "* [Bali and Gavras, Generative AI with Python and TensorFlow 2](https://github.com/PacktPublishing/Hands-On-Generative-AI-with-Python-and-TensorFlow-2)\n",
    "\n",
    "All three books have GitHub addresses from where  one can download all codes. We will borrow most of the material from these three texts as well as \n",
    "from Goodfellow, Bengio and Courville's text [Deep Learning](https://www.deeplearningbook.org/)"
   ]
  },
  {
   "cell_type": "markdown",
   "id": "52bf9a9a",
   "metadata": {
    "editable": true
   },
   "source": [
    "## What are the basic Machine Learning ingredients?\n",
    "Almost every problem in ML and data science starts with the same ingredients:\n",
    "* The dataset $\\boldsymbol{x}$ (could be some observable quantity of the system we are studying)\n",
    "\n",
    "* A model which is a function of a set of parameters $\\boldsymbol{\\alpha}$ that relates to the dataset, say a likelihood  function $p(\\boldsymbol{x}\\vert \\boldsymbol{\\alpha})$ or just a simple model $f(\\boldsymbol{\\alpha})$\n",
    "\n",
    "* A so-called **loss/cost/risk** function $\\mathcal{C} (\\boldsymbol{x}, f(\\boldsymbol{\\alpha}))$ which allows us to decide how well our model represents the dataset. \n",
    "\n",
    "We seek to minimize the function $\\mathcal{C} (\\boldsymbol{x}, f(\\boldsymbol{\\alpha}))$ by finding the parameter values which minimize $\\mathcal{C}$. This leads to  various minimization algorithms. It may surprise many, but at the heart of all machine learning algortihms there is an optimization problem."
   ]
  },
  {
   "cell_type": "markdown",
   "id": "0b5a88be",
   "metadata": {
    "editable": true
   },
   "source": [
    "## Low-level machine learning, the family of ordinary least squares methods\n",
    "\n",
    "Our data which we want to apply a machine learning method on, consist\n",
    "of a set of inputs $\\boldsymbol{x}^T=[x_0,x_1,x_2,\\dots,x_{n-1}]$ and the\n",
    "outputs we want to model $\\boldsymbol{y}^T=[y_0,y_1,y_2,\\dots,y_{n-1}]$.\n",
    "We assume  that the output data can be represented (for a regression case) by a continuous function $f$\n",
    "through"
   ]
  },
  {
   "cell_type": "markdown",
   "id": "048fe226",
   "metadata": {
    "editable": true
   },
   "source": [
    "$$\n",
    "\\boldsymbol{y}=f(\\boldsymbol{x})+\\boldsymbol{\\epsilon}.\n",
    "$$"
   ]
  },
  {
   "cell_type": "markdown",
   "id": "5a975ae6",
   "metadata": {
    "editable": true
   },
   "source": [
    "## Setting up the equations\n",
    "\n",
    "In linear regression we approximate the unknown function with another\n",
    "continuous function $\\tilde{\\boldsymbol{y}}(\\boldsymbol{x})$ which depends linearly on\n",
    "some unknown parameters\n",
    "$\\boldsymbol{\\theta}^T=[\\theta_0,\\theta_1,\\theta_2,\\dots,\\theta_{p-1}]$.\n",
    "\n",
    "The input data can be organized in terms of a so-called design matrix \n",
    "with an approximating function $\\boldsymbol{\\tilde{y}}$"
   ]
  },
  {
   "cell_type": "markdown",
   "id": "874f401f",
   "metadata": {
    "editable": true
   },
   "source": [
    "$$\n",
    "\\boldsymbol{\\tilde{y}}= \\boldsymbol{X}\\boldsymbol{\\theta},\n",
    "$$"
   ]
  },
  {
   "cell_type": "markdown",
   "id": "cf25c37e",
   "metadata": {
    "editable": true
   },
   "source": [
    "## The objective/cost/loss function\n",
    "\n",
    "The  simplest approach is the mean squared error"
   ]
  },
  {
   "cell_type": "markdown",
   "id": "18df4f77",
   "metadata": {
    "editable": true
   },
   "source": [
    "$$\n",
    "C(\\boldsymbol{\\Theta})=\\frac{1}{n}\\sum_{i=0}^{n-1}\\left(y_i-\\tilde{y}_i\\right)^2=\\frac{1}{n}\\left\\{\\left(\\boldsymbol{y}-\\boldsymbol{\\tilde{y}}\\right)^T\\left(\\boldsymbol{y}-\\boldsymbol{\\tilde{y}}\\right)\\right\\},\n",
    "$$"
   ]
  },
  {
   "cell_type": "markdown",
   "id": "7193d437",
   "metadata": {
    "editable": true
   },
   "source": [
    "or using the matrix $\\boldsymbol{X}$ and in a more compact matrix-vector notation as"
   ]
  },
  {
   "cell_type": "markdown",
   "id": "5bbf649f",
   "metadata": {
    "editable": true
   },
   "source": [
    "$$\n",
    "C(\\boldsymbol{\\Theta})=\\frac{1}{n}\\left\\{\\left(\\boldsymbol{y}-\\boldsymbol{X}\\boldsymbol{\\theta}\\right)^T\\left(\\boldsymbol{y}-\\boldsymbol{X}\\boldsymbol{\\theta}\\right)\\right\\}.\n",
    "$$"
   ]
  },
  {
   "cell_type": "markdown",
   "id": "344f237d",
   "metadata": {
    "editable": true
   },
   "source": [
    "This function represents one of many possible ways to define the so-called cost function."
   ]
  },
  {
   "cell_type": "markdown",
   "id": "270e7e19",
   "metadata": {
    "editable": true
   },
   "source": [
    "## Training solution\n",
    "\n",
    "Optimizing with respect to the unknown parameters $\\theta_j$ we get"
   ]
  },
  {
   "cell_type": "markdown",
   "id": "83fc6d00",
   "metadata": {
    "editable": true
   },
   "source": [
    "$$\n",
    "\\boldsymbol{X}^T\\boldsymbol{y} = \\boldsymbol{X}^T\\boldsymbol{X}\\boldsymbol{\\theta},\n",
    "$$"
   ]
  },
  {
   "cell_type": "markdown",
   "id": "b8860933",
   "metadata": {
    "editable": true
   },
   "source": [
    "and if the matrix $\\boldsymbol{X}^T\\boldsymbol{X}$ is invertible we have the optimal values"
   ]
  },
  {
   "cell_type": "markdown",
   "id": "2654f311",
   "metadata": {
    "editable": true
   },
   "source": [
    "$$\n",
    "\\hat{\\boldsymbol{\\theta}} =\\left(\\boldsymbol{X}^T\\boldsymbol{X}\\right)^{-1}\\boldsymbol{X}^T\\boldsymbol{y}.\n",
    "$$"
   ]
  },
  {
   "cell_type": "markdown",
   "id": "75842487",
   "metadata": {
    "editable": true
   },
   "source": [
    "We say we 'learn' the unknown parameters $\\boldsymbol{\\theta}$ from the last equation."
   ]
  },
  {
   "cell_type": "markdown",
   "id": "678d9ad5",
   "metadata": {
    "editable": true
   },
   "source": [
    "## Ridge and LASSO Regression\n",
    "\n",
    "Our optimization problem is"
   ]
  },
  {
   "cell_type": "markdown",
   "id": "32074a65",
   "metadata": {
    "editable": true
   },
   "source": [
    "$$\n",
    "{\\displaystyle \\min_{\\boldsymbol{\\theta}\\in {\\mathbb{R}}^{p}}}\\frac{1}{n}\\left\\{\\left(\\boldsymbol{y}-\\boldsymbol{X}\\boldsymbol{\\theta}\\right)^T\\left(\\boldsymbol{y}-\\boldsymbol{X}\\boldsymbol{\\theta}\\right)\\right\\}.\n",
    "$$"
   ]
  },
  {
   "cell_type": "markdown",
   "id": "c789e53e",
   "metadata": {
    "editable": true
   },
   "source": [
    "or we can state it as"
   ]
  },
  {
   "cell_type": "markdown",
   "id": "7133ffbb",
   "metadata": {
    "editable": true
   },
   "source": [
    "$$\n",
    "{\\displaystyle \\min_{\\boldsymbol{\\theta}\\in\n",
    "{\\mathbb{R}}^{p}}}\\frac{1}{n}\\sum_{i=0}^{n-1}\\left(y_i-\\tilde{y}_i\\right)^2=\\frac{1}{n}\\vert\\vert \\boldsymbol{y}-\\boldsymbol{X}\\boldsymbol{\\theta}\\vert\\vert_2^2,\n",
    "$$"
   ]
  },
  {
   "cell_type": "markdown",
   "id": "43669af8",
   "metadata": {
    "editable": true
   },
   "source": [
    "where we have used the definition of  a norm-2 vector, that is"
   ]
  },
  {
   "cell_type": "markdown",
   "id": "30d15841",
   "metadata": {
    "editable": true
   },
   "source": [
    "$$\n",
    "\\vert\\vert \\boldsymbol{x}\\vert\\vert_2 = \\sqrt{\\sum_i x_i^2}.\n",
    "$$"
   ]
  },
  {
   "cell_type": "markdown",
   "id": "834be2c9",
   "metadata": {
    "editable": true
   },
   "source": [
    "## From OLS to Ridge and Lasso\n",
    "\n",
    "By minimizing the above equation with respect to the parameters\n",
    "$\\boldsymbol{\\theta}$ we could then obtain an analytical expression for the\n",
    "parameters $\\boldsymbol{\\theta}$.  We can add a regularization parameter $\\lambda$ by\n",
    "defining a new cost function to be optimized, that is"
   ]
  },
  {
   "cell_type": "markdown",
   "id": "90ff1ba2",
   "metadata": {
    "editable": true
   },
   "source": [
    "$$\n",
    "{\\displaystyle \\min_{\\boldsymbol{\\theta}\\in\n",
    "{\\mathbb{R}}^{p}}}\\frac{1}{n}\\vert\\vert \\boldsymbol{y}-\\boldsymbol{X}\\boldsymbol{\\theta}\\vert\\vert_2^2+\\lambda\\vert\\vert \\boldsymbol{\\theta}\\vert\\vert_2^2\n",
    "$$"
   ]
  },
  {
   "cell_type": "markdown",
   "id": "46f93353",
   "metadata": {
    "editable": true
   },
   "source": [
    "which leads to the Ridge regression minimization problem where we\n",
    "require that $\\vert\\vert \\boldsymbol{\\theta}\\vert\\vert_2^2\\le t$, where $t$ is\n",
    "a finite number larger than zero. We do not include such a constraints in the discussions here."
   ]
  },
  {
   "cell_type": "markdown",
   "id": "d15a8343",
   "metadata": {
    "editable": true
   },
   "source": [
    "## Lasso regression\n",
    "\n",
    "Defining"
   ]
  },
  {
   "cell_type": "markdown",
   "id": "7d4910c6",
   "metadata": {
    "editable": true
   },
   "source": [
    "$$\n",
    "C(\\boldsymbol{X},\\boldsymbol{\\theta})=\\frac{1}{n}\\vert\\vert \\boldsymbol{y}-\\boldsymbol{X}\\boldsymbol{\\theta}\\vert\\vert_2^2+\\lambda\\vert\\vert \\boldsymbol{\\theta}\\vert\\vert_1,\n",
    "$$"
   ]
  },
  {
   "cell_type": "markdown",
   "id": "6e233d01",
   "metadata": {
    "editable": true
   },
   "source": [
    "we have a new optimization equation"
   ]
  },
  {
   "cell_type": "markdown",
   "id": "3d6d47ee",
   "metadata": {
    "editable": true
   },
   "source": [
    "$$\n",
    "{\\displaystyle \\min_{\\boldsymbol{\\theta}\\in\n",
    "{\\mathbb{R}}^{p}}}\\frac{1}{n}\\vert\\vert \\boldsymbol{y}-\\boldsymbol{X}\\boldsymbol{\\theta}\\vert\\vert_2^2+\\lambda\\vert\\vert \\boldsymbol{\\theta}\\vert\\vert_1\n",
    "$$"
   ]
  },
  {
   "cell_type": "markdown",
   "id": "8d212cbb",
   "metadata": {
    "editable": true
   },
   "source": [
    "which leads to Lasso regression. Lasso stands for least absolute shrinkage and selection operator. \n",
    "Here we have defined the norm-1 as"
   ]
  },
  {
   "cell_type": "markdown",
   "id": "6f380c43",
   "metadata": {
    "editable": true
   },
   "source": [
    "$$\n",
    "\\vert\\vert \\boldsymbol{x}\\vert\\vert_1 = \\sum_i \\vert x_i\\vert.\n",
    "$$"
   ]
  },
  {
   "cell_type": "markdown",
   "id": "e81077e7",
   "metadata": {
    "editable": true
   },
   "source": [
    "## Lots of room for creativity\n",
    "Not all the\n",
    "algorithms and methods can be given a rigorous mathematical\n",
    "justification, opening up thereby for experimenting\n",
    "and trial and error and thereby exciting new developments.\n",
    "\n",
    "A solid command of linear algebra, multivariate theory, \n",
    "probability theory, statistical data analysis, optimization algorithms, \n",
    "understanding errors and Monte Carlo methods is important in order to understand many of the \n",
    "various algorithms and methods.\n",
    "\n",
    "**Job market, a personal statement**: [A familiarity with ML is almost becoming a prerequisite for many of the most exciting employment opportunities](https://www.analyticsindiamag.com/top-countries-hiring-most-number-of-artificial-intelligence-machine-learning-experts/). And add quantum computing and there you are!"
   ]
  },
  {
   "cell_type": "markdown",
   "id": "ac25b0bd",
   "metadata": {
    "editable": true
   },
   "source": [
    "## Selected references\n",
    "* [Mehta et al.](https://arxiv.org/abs/1803.08823) and [Physics Reports (2019)](https://www.sciencedirect.com/science/article/pii/S0370157319300766?via%3Dihub).\n",
    "\n",
    "* [Machine Learning and the Physical Sciences by Carleo et al](https://link.aps.org/doi/10.1103/RevModPhys.91.045002)\n",
    "\n",
    "* [Artificial Intelligence and Machine Learning in Nuclear Physics, Amber Boehnlein et al., Reviews Modern of Physics 94, 031003 (2022)](https://journals.aps.org/rmp/abstract/10.1103/RevModPhys.94.031003) \n",
    "\n",
    "* [Dilute neutron star matter from neural-network quantum states by Fore et al, Physical Review Research 5, 033062 (2023)](https://journals.aps.org/prresearch/pdf/10.1103/PhysRevResearch.5.033062)\n",
    "\n",
    "* [Neural-network quantum states for ultra-cold Fermi gases, Jane Kim et al, Nature Physics Communcication, submitted](https://doi.org/10.48550/arXiv.2305.08831)\n",
    "\n",
    "* [Message-Passing Neural Quantum States for the Homogeneous Electron Gas, Gabriel Pescia, Jane Kim et al. arXiv.2305.07240,](https://doi.org/10.48550/arXiv.2305.07240)\n",
    "\n",
    "* [Efficient solutions of fermionic systems using artificial neural networks, Nordhagen et al, Frontiers in Physics 11, 2023](https://doi.org/10.3389/fphy.2023.1061580)\n",
    "\n",
    "* [Particle Data Group summary on ML methods](https://pdg.lbl.gov/2021/reviews/rpp2021-rev-machine-learning.pdf)"
   ]
  },
  {
   "cell_type": "markdown",
   "id": "9e1cf5ae",
   "metadata": {
    "editable": true
   },
   "source": [
    "## Machine learning. A simple perspective on the interface between ML and Physics\n",
    "\n",
    "<!-- dom:FIGURE: [figures/mlimage.png, width=800 frac=1.0] -->\n",
    "<!-- begin figure -->\n",
    "\n",
    "<img src=\"figures/mlimage.png\" width=\"800\"><p style=\"font-size: 0.9em\"><i>Figure 1: </i></p>\n",
    "<!-- end figure -->"
   ]
  },
  {
   "cell_type": "markdown",
   "id": "3d3b210f",
   "metadata": {
    "editable": true
   },
   "source": [
    "## ML in Nuclear  Physics (or any field in physics)\n",
    "\n",
    "<!-- dom:FIGURE: [figures/ML-NP.png, width=900 frac=1.0] -->\n",
    "<!-- begin figure -->\n",
    "\n",
    "<img src=\"figures/ML-NP.png\" width=\"900\"><p style=\"font-size: 0.9em\"><i>Figure 1: </i></p>\n",
    "<!-- end figure -->"
   ]
  },
  {
   "cell_type": "markdown",
   "id": "fc09e134",
   "metadata": {
    "editable": true
   },
   "source": [
    "## Scientific Machine Learning\n",
    "\n",
    "An important and emerging field is what has been dubbed as scientific ML, see the article by Deiana et al \"Applications and Techniques for Fast Machine Learning in Science, Big Data **5**, 787421 (2022):https://doi.org/10.3389/fdata.2022.787421\"\n",
    "\n",
    "The authors discuss applications and techniques for fast machine\n",
    "learning (ML) in science - the concept of integrating power ML\n",
    "methods into the real-time experimental data processing loop to\n",
    "accelerate scientific discovery. The report covers three main areas\n",
    "\n",
    "1. applications for fast ML across a number of scientific domains;\n",
    "\n",
    "2. techniques for training and implementing performant and resource-efficient ML algorithms;\n",
    "\n",
    "3. and computing architectures, platforms, and technologies for deploying these algorithms."
   ]
  },
  {
   "cell_type": "markdown",
   "id": "5300bb59",
   "metadata": {
    "editable": true
   },
   "source": [
    "## ML for detectors\n",
    "\n",
    "<!-- dom:FIGURE: [figures/detectors.png, width=900 frac=1.0] -->\n",
    "<!-- begin figure -->\n",
    "\n",
    "<img src=\"figures/detectors.png\" width=\"900\"><p style=\"font-size: 0.9em\"><i>Figure 1: </i></p>\n",
    "<!-- end figure -->"
   ]
  },
  {
   "cell_type": "markdown",
   "id": "21112985",
   "metadata": {
    "editable": true
   },
   "source": [
    "## Physics driven Machine Learning\n",
    "\n",
    "Another hot topic is what has loosely been dubbed **Physics-driven deep learning**. See the recent work on [Learning nonlinear operators via DeepONet based on the universal approximation theorem of operators, Nature Machine Learning, vol 3, 218 (2021)](https://www.nature.com/articles/s42256-021-00302-5).\n",
    "\n",
    "**From their abstract.**\n",
    "\n",
    "A less known but powerful result is that an NN with a single hidden layer can accurately approximate any nonlinear continuous operator. This universal approximation theorem of operators is suggestive of the structure and potential of deep neural networks (DNNs) in learning continuous operators or complex systems from streams of scattered data. ...  We demonstrate that DeepONet can learn various explicit operators, such as integrals and fractional Laplacians, as well as implicit operators that represent deterministic and stochastic differential equations."
   ]
  },
  {
   "cell_type": "markdown",
   "id": "71ecdd6a",
   "metadata": {
    "editable": true
   },
   "source": [
    "## And more\n",
    "\n",
    "* An important application of AI/ML methods is to improve the estimation of bias or uncertainty due to the introduction of or lack of physical constraints in various theoretical models.\n",
    "\n",
    "* In theory, we expect to use AI/ML algorithms and methods to improve our knowledge about  correlations of physical model parameters in data for quantum many-body systems. Deep learning methods show great promise in circumventing the exploding dimensionalities encountered in quantum mechanical many-body studies. \n",
    "\n",
    "* Merging a frequentist approach (the standard path in ML theory) with a Bayesian approach, has the potential to infer better probabilitity distributions and error estimates. \n",
    "\n",
    "* Machine Learning and Quantum Computing is a very interesting avenue to explore. See for example a recent talk by [Sofia Vallecorsa](https://www.youtube.com/watch?v=7WPKv1Q57os&list=PLUPPQ1TVXK7uHwCTccWMBud-zLyvAf8A2&index=5&ab_channel=ECTstar)."
   ]
  },
  {
   "cell_type": "markdown",
   "id": "7d11e75d",
   "metadata": {
    "editable": true
   },
   "source": [
    "## Argon-46 by Solli et al., NIMA 1010, 165461 (2021)\n",
    "\n",
    "Representations of two events from the\n",
    "Argon-46 experiment. Each row is one event in two projections,\n",
    "where the color intensity of each point indicates higher charge values\n",
    "recorded by the detector. The bottom row illustrates a carbon event with\n",
    "a large fraction of noise, while the top row shows a proton event\n",
    "almost free of noise.\n",
    "\n",
    "<!-- dom:FIGURE: [figures/examples_raw.png, width=500 frac=0.6] -->\n",
    "<!-- begin figure -->\n",
    "\n",
    "<img src=\"figures/examples_raw.png\" width=\"500\"><p style=\"font-size: 0.9em\"><i>Figure 1: </i></p>\n",
    "<!-- end figure -->"
   ]
  },
  {
   "cell_type": "markdown",
   "id": "3fe95069",
   "metadata": {
    "editable": true
   },
   "source": [
    "## Many-body physics, Quantum Monte Carlo and deep learning\n",
    "Given a hamiltonian $H$ and a trial wave function $\\Psi_T$, the variational principle states that the expectation value of $\\langle H \\rangle$, defined through"
   ]
  },
  {
   "cell_type": "markdown",
   "id": "d1b30c17",
   "metadata": {
    "editable": true
   },
   "source": [
    "$$\n",
    "\\langle E \\rangle =\n",
    "   \\frac{\\int d\\boldsymbol{R}\\Psi^{\\ast}_T(\\boldsymbol{R})H(\\boldsymbol{R})\\Psi_T(\\boldsymbol{R})}\n",
    "        {\\int d\\boldsymbol{R}\\Psi^{\\ast}_T(\\boldsymbol{R})\\Psi_T(\\boldsymbol{R})},\n",
    "$$"
   ]
  },
  {
   "cell_type": "markdown",
   "id": "4133781c",
   "metadata": {
    "editable": true
   },
   "source": [
    "is an upper bound to the ground state energy $E_0$ of the hamiltonian $H$, that is"
   ]
  },
  {
   "cell_type": "markdown",
   "id": "e79e301c",
   "metadata": {
    "editable": true
   },
   "source": [
    "$$\n",
    "E_0 \\le \\langle E \\rangle.\n",
    "$$"
   ]
  },
  {
   "cell_type": "markdown",
   "id": "d4ef651a",
   "metadata": {
    "editable": true
   },
   "source": [
    "In general, the integrals involved in the calculation of various  expectation values  are multi-dimensional ones. Traditional integration methods such as the Gauss-Legendre will not be adequate for say the  computation of the energy of a many-body system.  **Basic philosophy: Let a neural network find the optimal wave function**"
   ]
  },
  {
   "cell_type": "markdown",
   "id": "404abd52",
   "metadata": {
    "editable": true
   },
   "source": [
    "## Quantum Monte Carlo Motivation\n",
    "**Basic steps.**\n",
    "\n",
    "Choose a trial wave function\n",
    "$\\psi_T(\\boldsymbol{R})$."
   ]
  },
  {
   "cell_type": "markdown",
   "id": "f0efd282",
   "metadata": {
    "editable": true
   },
   "source": [
    "$$\n",
    "P(\\boldsymbol{R},\\boldsymbol{\\alpha})= \\frac{\\left|\\psi_T(\\boldsymbol{R},\\boldsymbol{\\alpha})\\right|^2}{\\int \\left|\\psi_T(\\boldsymbol{R},\\boldsymbol{\\alpha})\\right|^2d\\boldsymbol{R}}.\n",
    "$$"
   ]
  },
  {
   "cell_type": "markdown",
   "id": "41e86975",
   "metadata": {
    "editable": true
   },
   "source": [
    "This is our model, or likelihood/probability distribution function  (PDF). It depends on some variational parameters $\\boldsymbol{\\alpha}$.\n",
    "The approximation to the expectation value of the Hamiltonian is now"
   ]
  },
  {
   "cell_type": "markdown",
   "id": "0e19cb48",
   "metadata": {
    "editable": true
   },
   "source": [
    "$$\n",
    "\\langle E[\\boldsymbol{\\alpha}] \\rangle = \n",
    "   \\frac{\\int d\\boldsymbol{R}\\Psi^{\\ast}_T(\\boldsymbol{R},\\boldsymbol{\\alpha})H(\\boldsymbol{R})\\Psi_T(\\boldsymbol{R},\\boldsymbol{\\alpha})}\n",
    "        {\\int d\\boldsymbol{R}\\Psi^{\\ast}_T(\\boldsymbol{R},\\boldsymbol{\\alpha})\\Psi_T(\\boldsymbol{R},\\boldsymbol{\\alpha})}.\n",
    "$$"
   ]
  },
  {
   "cell_type": "markdown",
   "id": "a03edf8e",
   "metadata": {
    "editable": true
   },
   "source": [
    "## Quantum Monte Carlo Motivation\n",
    "**Define a new quantity.**"
   ]
  },
  {
   "cell_type": "markdown",
   "id": "ee0969ff",
   "metadata": {
    "editable": true
   },
   "source": [
    "$$\n",
    "E_L(\\boldsymbol{R},\\boldsymbol{\\alpha})=\\frac{1}{\\psi_T(\\boldsymbol{R},\\boldsymbol{\\alpha})}H\\psi_T(\\boldsymbol{R},\\boldsymbol{\\alpha}),\n",
    "$$"
   ]
  },
  {
   "cell_type": "markdown",
   "id": "844f886f",
   "metadata": {
    "editable": true
   },
   "source": [
    "called the local energy, which, together with our trial PDF yields"
   ]
  },
  {
   "cell_type": "markdown",
   "id": "566e326c",
   "metadata": {
    "editable": true
   },
   "source": [
    "$$\n",
    "\\langle E[\\boldsymbol{\\alpha}] \\rangle=\\int P(\\boldsymbol{R})E_L(\\boldsymbol{R},\\boldsymbol{\\alpha}) d\\boldsymbol{R}\\approx \\frac{1}{N}\\sum_{i=1}^NE_L(\\boldsymbol{R_i},\\boldsymbol{\\alpha})\n",
    "$$"
   ]
  },
  {
   "cell_type": "markdown",
   "id": "a3417dfb",
   "metadata": {
    "editable": true
   },
   "source": [
    "with $N$ being the number of Monte Carlo samples."
   ]
  },
  {
   "cell_type": "markdown",
   "id": "4529c041",
   "metadata": {
    "editable": true
   },
   "source": [
    "## Energy derivatives\n",
    "The local energy as function of the variational parameters defines now our **objective/cost** function.\n",
    "\n",
    "To find the derivatives of the local energy expectation value as function of the variational parameters, we can use the chain rule and the hermiticity of the Hamiltonian.  \n",
    "\n",
    "Let us define (with the notation $\\langle E[\\boldsymbol{\\alpha}]\\rangle =\\langle  E_L\\rangle$)"
   ]
  },
  {
   "cell_type": "markdown",
   "id": "53eadc09",
   "metadata": {
    "editable": true
   },
   "source": [
    "$$\n",
    "\\bar{E}_{\\alpha_i}=\\frac{d\\langle  E_L\\rangle}{d\\alpha_i},\n",
    "$$"
   ]
  },
  {
   "cell_type": "markdown",
   "id": "3f70e415",
   "metadata": {
    "editable": true
   },
   "source": [
    "as the derivative of the energy with respect to the variational parameter $\\alpha_i$\n",
    "We define also the derivative of the trial function (skipping the subindex $T$) as"
   ]
  },
  {
   "cell_type": "markdown",
   "id": "165974c4",
   "metadata": {
    "editable": true
   },
   "source": [
    "$$\n",
    "\\bar{\\Psi}_{i}=\\frac{d\\Psi}{d\\alpha_i}.\n",
    "$$"
   ]
  },
  {
   "cell_type": "markdown",
   "id": "c9935302",
   "metadata": {
    "editable": true
   },
   "source": [
    "## Derivatives of the local energy\n",
    "The elements of the gradient of the local energy are"
   ]
  },
  {
   "cell_type": "markdown",
   "id": "ee77a85e",
   "metadata": {
    "editable": true
   },
   "source": [
    "$$\n",
    "\\bar{E}_{i}= 2\\left( \\langle \\frac{\\bar{\\Psi}_{i}}{\\Psi}E_L\\rangle -\\langle \\frac{\\bar{\\Psi}_{i}}{\\Psi}\\rangle\\langle E_L \\rangle\\right).\n",
    "$$"
   ]
  },
  {
   "cell_type": "markdown",
   "id": "666b2b3a",
   "metadata": {
    "editable": true
   },
   "source": [
    "From a computational point of view it means that you need to compute the expectation values of"
   ]
  },
  {
   "cell_type": "markdown",
   "id": "8c2f5918",
   "metadata": {
    "editable": true
   },
   "source": [
    "$$\n",
    "\\langle \\frac{\\bar{\\Psi}_{i}}{\\Psi}E_L\\rangle,\n",
    "$$"
   ]
  },
  {
   "cell_type": "markdown",
   "id": "3c05fa69",
   "metadata": {
    "editable": true
   },
   "source": [
    "and"
   ]
  },
  {
   "cell_type": "markdown",
   "id": "8777240f",
   "metadata": {
    "editable": true
   },
   "source": [
    "$$\n",
    "\\langle \\frac{\\bar{\\Psi}_{i}}{\\Psi}\\rangle\\langle E_L\\rangle\n",
    "$$"
   ]
  },
  {
   "cell_type": "markdown",
   "id": "e47f0188",
   "metadata": {
    "editable": true
   },
   "source": [
    "These integrals are evaluted using MC intergration (with all its possible error sources). Use methods like stochastic gradient or other minimization methods to find the optimal parameters."
   ]
  },
  {
   "cell_type": "markdown",
   "id": "8fcea165",
   "metadata": {
    "editable": true
   },
   "source": [
    "## Why Feed Forward Neural Networks (FFNN)?\n",
    "\n",
    "According to the *Universal approximation theorem*, a feed-forward\n",
    "neural network with just a single hidden layer containing a finite\n",
    "number of neurons can approximate a continuous multidimensional\n",
    "function to arbitrary accuracy, assuming the activation function for\n",
    "the hidden layer is a **non-constant, bounded and\n",
    "monotonically-increasing continuous function**."
   ]
  },
  {
   "cell_type": "markdown",
   "id": "92f32b4d",
   "metadata": {
    "editable": true
   },
   "source": [
    "## Universal approximation theorem\n",
    "\n",
    "The universal approximation theorem plays a central role in deep\n",
    "learning.  [Cybenko (1989)](https://link.springer.com/article/10.1007/BF02551274) showed\n",
    "the following:\n",
    "\n",
    "Let $\\sigma$ be any continuous sigmoidal function such that"
   ]
  },
  {
   "cell_type": "markdown",
   "id": "162947c5",
   "metadata": {
    "editable": true
   },
   "source": [
    "$$\n",
    "\\sigma(z) = \\left\\{\\begin{array}{cc} 1 & z\\rightarrow \\infty\\\\ 0 & z \\rightarrow -\\infty \\end{array}\\right.\n",
    "$$"
   ]
  },
  {
   "cell_type": "markdown",
   "id": "f25b5367",
   "metadata": {
    "editable": true
   },
   "source": [
    "Given a continuous and deterministic function $F(\\boldsymbol{x})$ on the unit\n",
    "cube in $d$-dimensions $F\\in [0,1]^d$, $x\\in [0,1]^d$ and a parameter\n",
    "$\\epsilon >0$, there is a one-layer (hidden) neural network\n",
    "$f(\\boldsymbol{x};\\boldsymbol{\\Theta})$ with $\\boldsymbol{\\Theta}=(\\boldsymbol{W},\\boldsymbol{b})$ and $\\boldsymbol{W}\\in\n",
    "\\mathbb{R}^{m\\times n}$ and $\\boldsymbol{b}\\in \\mathbb{R}^{n}$, for which"
   ]
  },
  {
   "cell_type": "markdown",
   "id": "23261990",
   "metadata": {
    "editable": true
   },
   "source": [
    "$$\n",
    "\\vert F(\\boldsymbol{x})-f(\\boldsymbol{x};\\boldsymbol{\\Theta})\\vert < \\epsilon \\hspace{0.1cm} \\forall \\boldsymbol{x}\\in[0,1]^d.\n",
    "$$"
   ]
  },
  {
   "cell_type": "markdown",
   "id": "5bf22c7d",
   "metadata": {
    "editable": true
   },
   "source": [
    "## The approximation theorem in words\n",
    "\n",
    "**Any continuous function $y=F(\\boldsymbol{x})$ supported on the unit cube in\n",
    "$d$-dimensions can be approximated by a one-layer sigmoidal network to\n",
    "arbitrary accuracy.**\n",
    "\n",
    "[Hornik (1991)](https://www.sciencedirect.com/science/article/abs/pii/089360809190009T) extended the theorem by letting any non-constant, bounded activation function to be included using that the expectation value"
   ]
  },
  {
   "cell_type": "markdown",
   "id": "d8a4a23a",
   "metadata": {
    "editable": true
   },
   "source": [
    "$$\n",
    "\\mathbb{E}[\\vert F(\\boldsymbol{x})\\vert^2] =\\int_{\\boldsymbol{x}\\in D} \\vert F(\\boldsymbol{x})\\vert^2p(\\boldsymbol{x})d\\boldsymbol{x} < \\infty.\n",
    "$$"
   ]
  },
  {
   "cell_type": "markdown",
   "id": "c7a3a6ad",
   "metadata": {
    "editable": true
   },
   "source": [
    "Then we have"
   ]
  },
  {
   "cell_type": "markdown",
   "id": "472aaa99",
   "metadata": {
    "editable": true
   },
   "source": [
    "$$\n",
    "\\mathbb{E}[\\vert F(\\boldsymbol{x})-f(\\boldsymbol{x};\\boldsymbol{\\Theta})\\vert^2] =\\int_{\\boldsymbol{x}\\in D} \\vert F(\\boldsymbol{x})-f(\\boldsymbol{x};\\boldsymbol{\\Theta})\\vert^2p(\\boldsymbol{x})d\\boldsymbol{x} < \\epsilon.\n",
    "$$"
   ]
  },
  {
   "cell_type": "markdown",
   "id": "89de5f80",
   "metadata": {
    "editable": true
   },
   "source": [
    "## More on the general approximation theorem\n",
    "\n",
    "None of the proofs give any insight into the relation between the\n",
    "number of of hidden layers and nodes and the approximation error\n",
    "$\\epsilon$, nor the magnitudes of $\\boldsymbol{W}$ and $\\boldsymbol{b}$.\n",
    "\n",
    "Neural networks (NNs) have what we may call a kind of universality no matter what function we want to compute.\n",
    "\n",
    "It does not mean that an NN can be used to exactly compute any function. Rather, we get an approximation that is as good as we want."
   ]
  },
  {
   "cell_type": "markdown",
   "id": "f6869952",
   "metadata": {
    "editable": true
   },
   "source": [
    "## Class of functions we can approximate\n",
    "\n",
    "The class of functions that can be approximated are the continuous ones.\n",
    "If the function $F(\\boldsymbol{x})$ is discontinuous, it won't in general be possible to approximate it. However, an NN may still give an approximation even if we fail in some points."
   ]
  },
  {
   "cell_type": "markdown",
   "id": "601c549b",
   "metadata": {
    "editable": true
   },
   "source": [
    "## Monte Carlo methods and Neural Networks\n",
    "\n",
    "[Machine Learning and the Deuteron by Kebble and Rios](https://www.sciencedirect.com/science/article/pii/S0370269320305463?via%3Dihub) and\n",
    "[Variational Monte Carlo calculations of $A\\le 4$ nuclei with an artificial neural-network correlator ansatz by Adams et al.](https://journals.aps.org/prl/abstract/10.1103/PhysRevLett.127.022502)\n",
    "\n",
    "**Adams et al**:"
   ]
  },
  {
   "cell_type": "markdown",
   "id": "ae093e15",
   "metadata": {
    "editable": true
   },
   "source": [
    "$$\n",
    "H_{LO} =-\\sum_i \\frac{{\\vec{\\nabla}_i^2}}{2m_N}\n",
    "+\\sum_{i<j} {\\left(C_1  + C_2\\, \\vec{\\sigma_i}\\cdot\\vec{\\sigma_j}\\right)\n",
    "e^{-r_{ij}^2\\Lambda^2 / 4 }}\n",
    "\\nonumber\n",
    "$$"
   ]
  },
  {
   "cell_type": "markdown",
   "id": "870a56c4",
   "metadata": {
    "editable": true
   },
   "source": [
    "<!-- Equation labels as ordinary links -->\n",
    "<div id=\"_auto1\"></div>\n",
    "\n",
    "$$\n",
    "\\begin{equation} \n",
    "+D_0 \\sum_{i<j<k} \\sum_{\\text{cyc}}\n",
    "{e^{-\\left(r_{ik}^2+r_{ij}^2\\right)\\Lambda^2/4}}\\,,\n",
    "\\label{_auto1} \\tag{1}\n",
    "\\end{equation}\n",
    "$$"
   ]
  },
  {
   "cell_type": "markdown",
   "id": "32aef859",
   "metadata": {
    "editable": true
   },
   "source": [
    "where $m_N$ is the mass of the nucleon, $\\vec{\\sigma_i}$ is the Pauli\n",
    "matrix acting on nucleon $i$, and $\\sum_{\\text{cyc}}$ stands for the\n",
    "cyclic permutation of $i$, $j$, and $k$. The low-energy constants\n",
    "$C_1$ and $C_2$ are fit to the deuteron binding energy and to the\n",
    "neutron-neutron scattering length"
   ]
  },
  {
   "cell_type": "markdown",
   "id": "41d37bee",
   "metadata": {
    "editable": true
   },
   "source": [
    "## Deep learning neural networks, [Variational Monte Carlo calculations of $A\\le 4$ nuclei with an artificial neural-network correlator ansatz by Adams et al.](https://journals.aps.org/prl/abstract/10.1103/PhysRevLett.127.022502)\n",
    "\n",
    "An appealing feature of the neural network ansatz is that it is more general than the more conventional product of two-\n",
    "and three-body spin-independent Jastrow functions"
   ]
  },
  {
   "cell_type": "markdown",
   "id": "7fee9707",
   "metadata": {
    "editable": true
   },
   "source": [
    "<!-- Equation labels as ordinary links -->\n",
    "<div id=\"_auto2\"></div>\n",
    "\n",
    "$$\n",
    "\\begin{equation}\n",
    "|\\Psi_V^J \\rangle = \\prod_{i<j<k} \\Big( 1-\\sum_{\\text{cyc}} u(r_{ij}) u(r_{jk})\\Big) \\prod_{i<j} f(r_{ij}) | \\Phi\\rangle\\,,\n",
    "\\label{_auto2} \\tag{2}\n",
    "\\end{equation}\n",
    "$$"
   ]
  },
  {
   "cell_type": "markdown",
   "id": "785e08eb",
   "metadata": {
    "editable": true
   },
   "source": [
    "which is commonly used for nuclear Hamiltonians that do not contain tensor and spin-orbit terms.\n",
    "The above function is replaced by a four-layer Neural Network."
   ]
  },
  {
   "cell_type": "markdown",
   "id": "55e8220d",
   "metadata": {
    "editable": true
   },
   "source": [
    "## Ansatz for a fermionic state function, Jane Kim et al, Commun Phys 7, 148 (2024)"
   ]
  },
  {
   "cell_type": "markdown",
   "id": "acb3a127",
   "metadata": {
    "editable": true
   },
   "source": [
    "$$\n",
    "\\Psi_T(\\boldsymbol{X}) =\\exp{U(\\boldsymbol{X})}\\Phi(\\boldsymbol{X}).\n",
    "$$"
   ]
  },
  {
   "cell_type": "markdown",
   "id": "eda595d5",
   "metadata": {
    "editable": true
   },
   "source": [
    "1. Build in fermion antisymmetry for network compactness\n",
    "\n",
    "2. Permutation-invariant Jastrow function improves ansatz flexibility\n",
    "\n",
    "3. Build $U$ and $\\Phi$ functions from fully connected, deep neural networks\n",
    "\n",
    "4. Use Slater determinant (or Pfaffian) $\\Phi$ to enforce antisymmetry with single particle wavefunctions represented by neural networks"
   ]
  },
  {
   "cell_type": "markdown",
   "id": "8ee49616",
   "metadata": {
    "editable": true
   },
   "source": [
    "## Nuclear matter setup\n",
    "\n",
    "<!-- dom:FIGURE: [figures/mbpfig4.png, width=900 frac=1.0] -->\n",
    "<!-- begin figure -->\n",
    "\n",
    "<img src=\"figures/mbpfig4.png\" width=\"900\"><p style=\"font-size: 0.9em\"><i>Figure 1: </i></p>\n",
    "<!-- end figure -->"
   ]
  },
  {
   "cell_type": "markdown",
   "id": "1356f5d1",
   "metadata": {
    "editable": true
   },
   "source": [
    "## Neutron star structure\n",
    "\n",
    "<!-- dom:FIGURE: [figures/mbpfig5.png, width=900 frac=1.0] -->\n",
    "<!-- begin figure -->\n",
    "\n",
    "<img src=\"figures/mbpfig5.png\" width=\"900\"><p style=\"font-size: 0.9em\"><i>Figure 1: </i></p>\n",
    "<!-- end figure -->"
   ]
  },
  {
   "cell_type": "markdown",
   "id": "54283053",
   "metadata": {
    "editable": true
   },
   "source": [
    "## [Dilute neutron star matter from neural-network quantum states by Fore et al, Physical Review Research 5, 033062 (2023)](https://journals.aps.org/prresearch/pdf/10.1103/PhysRevResearch.5.033062) at density $\\rho=0.04$ fm$^{-3}$\n",
    "\n",
    "<!-- dom:FIGURE: [figures/nmatter.png, width=700 frac=0.9] -->\n",
    "<!-- begin figure -->\n",
    "\n",
    "<img src=\"figures/nmatter.png\" width=\"700\"><p style=\"font-size: 0.9em\"><i>Figure 1: </i></p>\n",
    "<!-- end figure -->"
   ]
  },
  {
   "cell_type": "markdown",
   "id": "a11088b8",
   "metadata": {
    "editable": true
   },
   "source": [
    "## Pairing and Spin-singlet and triplet two-body distribution functions at $\\rho=0.01$ fm$^{-3}$\n",
    "<!-- dom:FIGURE: [figures/01_tbd.png, width=700 frac=0.9] -->\n",
    "<!-- begin figure -->\n",
    "\n",
    "<img src=\"figures/01_tbd.png\" width=\"700\"><p style=\"font-size: 0.9em\"><i>Figure 1: </i></p>\n",
    "<!-- end figure -->"
   ]
  },
  {
   "cell_type": "markdown",
   "id": "c0605e55",
   "metadata": {
    "editable": true
   },
   "source": [
    "## Pairing and Spin-singlet and triplet two-body distribution functions at $\\rho=0.04$ fm$^{-3}$\n",
    "\n",
    "<!-- dom:FIGURE: [figures/04_tbd.png, width=700 frac=0.9] -->\n",
    "<!-- begin figure -->\n",
    "\n",
    "<img src=\"figures/04_tbd.png\" width=\"700\"><p style=\"font-size: 0.9em\"><i>Figure 1: </i></p>\n",
    "<!-- end figure -->"
   ]
  },
  {
   "cell_type": "markdown",
   "id": "9942f512",
   "metadata": {
    "editable": true
   },
   "source": [
    "## Pairing and Spin-singlet and triplet two-body distribution functions at $\\rho=0.08$ fm$^{-3}$\n",
    "<!-- dom:FIGURE: [figures/08_tbd.png, width=700 frac=0.9] -->\n",
    "<!-- begin figure -->\n",
    "\n",
    "<img src=\"figures/08_tbd.png\" width=\"700\"><p style=\"font-size: 0.9em\"><i>Figure 1: </i></p>\n",
    "<!-- end figure -->"
   ]
  },
  {
   "cell_type": "markdown",
   "id": "8b480478",
   "metadata": {
    "editable": true
   },
   "source": [
    "## Symmetric nuclear matter\n",
    "\n",
    "<!-- dom:FIGURE: [figures/mbpfig6.png, width=900 frac=1.0] -->\n",
    "<!-- begin figure -->\n",
    "\n",
    "<img src=\"figures/mbpfig6.png\" width=\"900\"><p style=\"font-size: 0.9em\"><i>Figure 1: </i></p>\n",
    "<!-- end figure -->"
   ]
  },
  {
   "cell_type": "markdown",
   "id": "c175a7ea",
   "metadata": {
    "editable": true
   },
   "source": [
    "## Self-emerging clustering\n",
    "\n",
    "<!-- dom:FIGURE: [figures/mbpfig7.png, width=900 frac=1.0] -->\n",
    "<!-- begin figure -->\n",
    "\n",
    "<img src=\"figures/mbpfig7.png\" width=\"900\"><p style=\"font-size: 0.9em\"><i>Figure 1: </i></p>\n",
    "<!-- end figure -->"
   ]
  },
  {
   "cell_type": "markdown",
   "id": "f6b43c24",
   "metadata": {
    "editable": true
   },
   "source": [
    "## Clustering: Two-body pair distributions\n",
    "\n",
    "<!-- dom:FIGURE: [figures/mbpfig8.png, width=900 frac=1.0] -->\n",
    "<!-- begin figure -->\n",
    "\n",
    "<img src=\"figures/mbpfig8.png\" width=\"900\"><p style=\"font-size: 0.9em\"><i>Figure 1: </i></p>\n",
    "<!-- end figure -->"
   ]
  },
  {
   "cell_type": "markdown",
   "id": "cfdbceee",
   "metadata": {
    "editable": true
   },
   "source": [
    "## Nuclear matter proton fraction\n",
    "\n",
    "<!-- dom:FIGURE: [figures/mbpfig9.png, width=900 frac=1.0] -->\n",
    "<!-- begin figure -->\n",
    "\n",
    "<img src=\"figures/mbpfig9.png\" width=\"900\"><p style=\"font-size: 0.9em\"><i>Figure 1: </i></p>\n",
    "<!-- end figure -->"
   ]
  },
  {
   "cell_type": "markdown",
   "id": "50b742ac",
   "metadata": {
    "editable": true
   },
   "source": [
    "## The electron gas in three dimensions with $N=14$ electrons (Wigner-Seitz radius $r_s=2$ a.u.), [Gabriel Pescia, Jane Kim et al. arXiv.2305.07240,](https://doi.org/10.48550/arXiv.2305.07240)\n",
    "\n",
    "<!-- dom:FIGURE: [figures/elgasnew.png, width=700 frac=0.9] -->\n",
    "<!-- begin figure -->\n",
    "\n",
    "<img src=\"figures/elgasnew.png\" width=\"700\"><p style=\"font-size: 0.9em\"><i>Figure 1: </i></p>\n",
    "<!-- end figure -->"
   ]
  },
  {
   "cell_type": "markdown",
   "id": "29bf6b7b",
   "metadata": {
    "editable": true
   },
   "source": [
    "## Extrapolations and model interpretability\n",
    "\n",
    "When you hear phrases like **predictions and estimations** and\n",
    "**correlations and causations**, what do you think of?  May be you think\n",
    "of the difference between classifying new data points and generating\n",
    "new data points.\n",
    "Or perhaps you consider that correlations represent some kind of symmetric statements like\n",
    "if $A$ is correlated with $B$, then $B$ is correlated with\n",
    "$A$. Causation on the other hand is directional, that is if $A$ causes $B$, $B$ does not\n",
    "necessarily cause $A$."
   ]
  },
  {
   "cell_type": "markdown",
   "id": "d6d10482",
   "metadata": {
    "editable": true
   },
   "source": [
    "## Physics based statistical learning and data analysis\n",
    "\n",
    "The above concepts are in some sense the difference between **old-fashioned** machine\n",
    "learning and statistics and Bayesian learning. In machine learning and prediction based\n",
    "tasks, we are often interested in developing algorithms that are\n",
    "capable of learning patterns from given data in an automated fashion,\n",
    "and then using these learned patterns to make predictions or\n",
    "assessments of newly given data. In many cases, our primary concern\n",
    "is the quality of the predictions or assessments, and we are less\n",
    "concerned about the underlying patterns that were learned in order\n",
    "to make these predictions.\n",
    "\n",
    "Physics based statistical learning points however to approaches that give us both predictions and correlations as well as being able to produce error estimates and understand causations.  This leads us to the very interesting field of Bayesian statistics."
   ]
  },
  {
   "cell_type": "markdown",
   "id": "03f032ef",
   "metadata": {
    "editable": true
   },
   "source": [
    "## Bayes' Theorem\n",
    "\n",
    "Bayes' theorem"
   ]
  },
  {
   "cell_type": "markdown",
   "id": "42e39d7e",
   "metadata": {
    "editable": true
   },
   "source": [
    "$$\n",
    "p(X\\vert Y)= \\frac{p(X,Y)}{\\sum_{i=0}^{n-1}p(Y\\vert X=x_i)p(x_i)}=\\frac{p(Y\\vert X)p(X)}{\\sum_{i=0}^{n-1}p(Y\\vert X=x_i)p(x_i)}.\n",
    "$$"
   ]
  },
  {
   "cell_type": "markdown",
   "id": "8a20f669",
   "metadata": {
    "editable": true
   },
   "source": [
    "The quantity $p(Y\\vert X)$ on the right-hand side of the theorem is\n",
    "evaluated for the observed data $Y$ and can be viewed as a function of\n",
    "the parameter space represented by $X$. This function is not\n",
    "necessarily normalized and is normally called the likelihood function.\n",
    "\n",
    "The function $p(X)$ on the right hand side is called the prior while the function on the left hand side is the called the posterior probability. The denominator on the right hand side serves as a normalization factor for the posterior distribution."
   ]
  },
  {
   "cell_type": "markdown",
   "id": "3571725a",
   "metadata": {
    "editable": true
   },
   "source": [
    "## [Quantified limits of the nuclear landscape](https://journals.aps.org/prc/abstract/10.1103/PhysRevC.101.044307)\n",
    "\n",
    "Predictions made with eleven global mass model and Bayesian model averaging\n",
    "\n",
    "<!-- dom:FIGURE: [figures/landscape.jpg, width=800 frac=1.0] -->\n",
    "<!-- begin figure -->\n",
    "\n",
    "<img src=\"figures/landscape.jpg\" width=\"800\"><p style=\"font-size: 0.9em\"><i>Figure 1: </i></p>\n",
    "<!-- end figure -->"
   ]
  },
  {
   "cell_type": "markdown",
   "id": "2c9a19fb",
   "metadata": {
    "editable": true
   },
   "source": [
    "## Observations (or conclusions if you prefer)\n",
    "* Need for AI/Machine Learning in physics, lots of ongoing activities\n",
    "\n",
    "* To solve many complex problems and facilitate discoveries, multidisciplinary efforts efforts are required involving scientists in  physics, statistics, computational science, applied math and other fields.\n",
    "\n",
    "* There is a need for  focused AI/ML learning efforts that will benefit accelerator science and experimental and theoretical programs"
   ]
  },
  {
   "cell_type": "markdown",
   "id": "694e2be6",
   "metadata": {
    "editable": true
   },
   "source": [
    "## More observations\n",
    "* How do we develop insights, competences, knowledge in statistical learning that can advance a given field?\n",
    "\n",
    "  * For example: Can we use ML to find out which correlations are relevant and thereby diminish the dimensionality problem in standard many-body  theories?\n",
    "\n",
    "  * Can we use AI/ML in detector analysis, accelerator design, analysis of experimental data and more?\n",
    "\n",
    "  * Can we use AL/ML to carry out reliable extrapolations by using current experimental knowledge and current theoretical models?\n",
    "\n",
    "* The community needs to invest in relevant educational efforts and training of scientists with knowledge in AI/ML. These are great challenges to the CS and DS communities\n",
    "\n",
    "* Quantum computing and quantum machine learning not discussed here\n",
    "\n",
    "* Most likely tons of things I have forgotten"
   ]
  },
  {
   "cell_type": "markdown",
   "id": "0bd57c1d",
   "metadata": {
    "editable": true
   },
   "source": [
    "## Possible start to raise awareness about ML in your own field\n",
    "* Make an ML challenge in your own field a la [Learning to discover: the Higgs boson machine learning challenge](https://home.cern/news/news/computing/higgs-boson-machine-learning-challenge). Alternatively go to kaggle.com at <https://www.kaggle.com/c/higgs-boson>\n",
    "\n",
    "* HEP@CERN and HEP in general have made significant impacts in the field of machine learning and AI. Something to learn from"
   ]
  },
  {
   "cell_type": "markdown",
   "id": "1cc026e6",
   "metadata": {
    "editable": true
   },
   "source": [
    "## Possible questions for discussions\n",
    "\n",
    "1. How do we incorporate these topics in our education?\n",
    "\n",
    "2. More difficult: what are the consequences for universities and our educational mission?"
   ]
  },
  {
   "cell_type": "markdown",
   "id": "3e4a1bb0",
   "metadata": {
    "editable": true
   },
   "source": [
    "## Education\n",
    "\n",
    "1. Incorporate elements of statistical data analysis and Machine Learning in undergraduate programs\n",
    "\n",
    "2. Develop courses on Machine Learning and statistical data analysis\n",
    "\n",
    "3. Build up a series of courses in Quantum Information Technologies (QIT)\n",
    "\n",
    "4. Modifying contents of present Physics programs or new programs on  Computational Physics and Quantum Technologies\n",
    "\n",
    "a. study direction/option in **quantum technologies**\n",
    "\n",
    "b. study direction/option in **Artificial Intelligence and Machine Learning**\n",
    "\n",
    "c. and more\n",
    "\n",
    "4. Master of Science/PhD programs in Computational and Data Science\n",
    "\n",
    "a. UiO has already MSc programs in CS and DS\n",
    "\n",
    "b. MSU has own graduate programs plus dual degree programs in CS and DS\n",
    "\n",
    "c. Many other universities are developing or have similar programs"
   ]
  },
  {
   "cell_type": "markdown",
   "id": "053ab794",
   "metadata": {
    "editable": true
   },
   "source": [
    "## Possible courses quantum courses\n",
    "\n",
    "**Topics  in a Bachelor of Science/Master of Science.**\n",
    "\n",
    "1. General university course on quantum mech and quantum technologies\n",
    "\n",
    "2. Information Systems \n",
    "\n",
    "3. From Classical Information theory to Quantum Information theory\n",
    "\n",
    "4. Classical vs. Quantum Logic\n",
    "\n",
    "5. Classical and Quantum Laboratory \n",
    "\n",
    "6. Discipline-Based Quantum Mechanics \n",
    "\n",
    "7. Quantum Software\n",
    "\n",
    "8. Quantum Hardware\n",
    "\n",
    "9. more"
   ]
  },
  {
   "cell_type": "markdown",
   "id": "2d3daa7a",
   "metadata": {
    "editable": true
   },
   "source": [
    "## Important Issues to think of\n",
    "\n",
    "1. Lots of conceptual learning: superposition, entanglement, QIT applications, etc.\n",
    "\n",
    "2. Coding is indispensable. \n",
    "\n",
    "3. Teamwork, project management, and communication are important and highly valued\n",
    "\n",
    "4. Engagement with industry: guest lectures, virtual tours, co-ops, and/or internships."
   ]
  },
  {
   "cell_type": "markdown",
   "id": "4f34a16b",
   "metadata": {
    "editable": true
   },
   "source": [
    "## Observations\n",
    "\n",
    "1. Students do not really know what QIT is.\n",
    "\n",
    "2. ML/AI seen as black boxes/magic!\n",
    "\n",
    "3. Students perceive that a graduate degree is necessary to work in QIS. A BSc will help."
   ]
  },
  {
   "cell_type": "markdown",
   "id": "a8d99d6e",
   "metadata": {
    "editable": true
   },
   "source": [
    "## Future Needs/Problems\n",
    "\n",
    "1. There are already  great needs for specialized people (Ph. D. s, postdocs), but also needs of  people with a broad overview of what is possible in ML/AI and/or QIT.\n",
    "\n",
    "2. There are not enough potential employees in AI/ML and QIT . It is a supply gap, not a skills gap.\n",
    "\n",
    "3. A BSc with specialization  is a good place to start\n",
    "\n",
    "4. It is tremendously important to get everyone speaking the same language. Facility with the vernacular of quantum mechanics is a big plus.\n",
    "\n",
    "5. There is a huge list of areas where technical expertise may be important. But employers are often more concerned with attributes like project management, working well in a team, interest in the field, and adaptability than in specific technical skills."
   ]
  },
  {
   "cell_type": "markdown",
   "id": "f9ff6007",
   "metadata": {
    "editable": true
   },
   "source": [
    "## Illustration of a single perceptron model and an FFNN\n",
    "\n",
    "<!-- dom:FIGURE: [figures/nns.png, width=600 frac=0.7]  In a) we show a single perceptron model while in b) we dispay a network with two  hidden layers, an input layer and an output layer. -->\n",
    "<!-- begin figure -->\n",
    "\n",
    "<img src=\"figures/nns.png\" width=\"600\"><p style=\"font-size: 0.9em\"><i>Figure 1: In a) we show a single perceptron model while in b) we dispay a network with two  hidden layers, an input layer and an output layer.</i></p>\n",
    "<!-- end figure -->"
   ]
  },
  {
   "cell_type": "markdown",
   "id": "91b5a20d",
   "metadata": {
    "editable": true
   },
   "source": [
    "## Our network example, simple percepetron with one input\n",
    "\n",
    "As as simple example we define now a simple perceptron model with\n",
    "all quantities given by scalars. We consider only one input variable\n",
    "$x$ and one target value $y$.  We define an activation function\n",
    "$\\sigma_1$ which takes as input"
   ]
  },
  {
   "cell_type": "markdown",
   "id": "0258692c",
   "metadata": {
    "editable": true
   },
   "source": [
    "$$\n",
    "z_1 = w_1x+b_1,\n",
    "$$"
   ]
  },
  {
   "cell_type": "markdown",
   "id": "28e8e666",
   "metadata": {
    "editable": true
   },
   "source": [
    "where $w_1$ is the weight and $b_1$ is the bias. These are the\n",
    "parameters we want to optimize.  This output is then fed into the\n",
    "**cost/loss** function, which we here for the sake of simplicity just\n",
    "define as the squared error"
   ]
  },
  {
   "cell_type": "markdown",
   "id": "9dce9e15",
   "metadata": {
    "editable": true
   },
   "source": [
    "$$\n",
    "C(x;w_1,b_1)=\\frac{1}{2}(a_1-y)^2.\n",
    "$$"
   ]
  },
  {
   "cell_type": "markdown",
   "id": "5bb27095",
   "metadata": {
    "editable": true
   },
   "source": [
    "## Optimizing the parameters\n",
    "\n",
    "In setting up the feed forward and back propagation parts of the\n",
    "algorithm, we need now the derivative of the various variables we want\n",
    "to train.\n",
    "\n",
    "We need"
   ]
  },
  {
   "cell_type": "markdown",
   "id": "e24182f4",
   "metadata": {
    "editable": true
   },
   "source": [
    "$$\n",
    "\\frac{\\partial C}{\\partial w_1} \\hspace{0.1cm}\\mathrm{and}\\hspace{0.1cm}\\frac{\\partial C}{\\partial b_1}.\n",
    "$$"
   ]
  },
  {
   "cell_type": "markdown",
   "id": "41e50642",
   "metadata": {
    "editable": true
   },
   "source": [
    "Using the chain rule we find"
   ]
  },
  {
   "cell_type": "markdown",
   "id": "0848e89e",
   "metadata": {
    "editable": true
   },
   "source": [
    "$$\n",
    "\\frac{\\partial C}{\\partial w_1}=\\frac{\\partial C}{\\partial a_1}\\frac{\\partial a_1}{\\partial z_1}\\frac{\\partial z_1}{\\partial w_1}=(a_1-y)\\sigma_1'x,\n",
    "$$"
   ]
  },
  {
   "cell_type": "markdown",
   "id": "fa772210",
   "metadata": {
    "editable": true
   },
   "source": [
    "and"
   ]
  },
  {
   "cell_type": "markdown",
   "id": "5bc4ba64",
   "metadata": {
    "editable": true
   },
   "source": [
    "$$\n",
    "\\frac{\\partial C}{\\partial b_1}=\\frac{\\partial C}{\\partial a_1}\\frac{\\partial a_1}{\\partial z_1}\\frac{\\partial z_1}{\\partial b_1}=(a_1-y)\\sigma_1',\n",
    "$$"
   ]
  },
  {
   "cell_type": "markdown",
   "id": "3e108c4e",
   "metadata": {
    "editable": true
   },
   "source": [
    "which we later will just define as"
   ]
  },
  {
   "cell_type": "markdown",
   "id": "ad95cb8a",
   "metadata": {
    "editable": true
   },
   "source": [
    "$$\n",
    "\\frac{\\partial C}{\\partial a_1}\\frac{\\partial a_1}{\\partial z_1}=\\delta_1.\n",
    "$$"
   ]
  },
  {
   "cell_type": "markdown",
   "id": "a709fb85",
   "metadata": {
    "editable": true
   },
   "source": [
    "## Implementing the simple perceptron model\n",
    "\n",
    "In the example code here we implement the above equations (with explict\n",
    "expressions for the derivatives) with just one input variable $x$ and\n",
    "one output variable.  The target value $y=2x+1$ is a simple linear\n",
    "function in $x$. Since this is a regression problem, we define the cost function to be proportional to the least squares error"
   ]
  },
  {
   "cell_type": "markdown",
   "id": "6ba0e7b6",
   "metadata": {
    "editable": true
   },
   "source": [
    "$$\n",
    "C(y,w_1,b_1)=\\frac{1}{2}(a_1-y)^2,\n",
    "$$"
   ]
  },
  {
   "cell_type": "markdown",
   "id": "c5c6e914",
   "metadata": {
    "editable": true
   },
   "source": [
    "with $a_1$ the output from the network."
   ]
  },
  {
   "cell_type": "code",
   "execution_count": 1,
   "id": "c706bbcb",
   "metadata": {
    "collapsed": false,
    "editable": true
   },
   "outputs": [],
   "source": [
    "%matplotlib inline\n",
    "\n",
    "# import necessary packages\n",
    "import numpy as np\n",
    "import matplotlib.pyplot as plt\n",
    "\n",
    "def feed_forward(x):\n",
    "    # weighted sum of inputs to the output layer\n",
    "    z_1 = x*output_weights + output_bias\n",
    "    # Output from output node (one node only)\n",
    "    # Here the output is equal to the input\n",
    "    a_1 = z_1\n",
    "    return a_1\n",
    "\n",
    "def backpropagation(x, y):\n",
    "    a_1 = feed_forward(x)\n",
    "    # derivative of cost function\n",
    "    derivative_cost = a_1 - y\n",
    "    # the variable delta in the equations, note that output a_1 = z_1, its derivatives wrt z_o is thus 1\n",
    "    delta_1 = derivative_cost\n",
    "    # gradients for the output layer\n",
    "    output_weights_gradient = delta_1*x\n",
    "    output_bias_gradient = delta_1\n",
    "    # The cost function is 0.5*(a_1-y)^2. This gives a measure of the error for each iteration\n",
    "    return output_weights_gradient, output_bias_gradient\n",
    "\n",
    "# ensure the same random numbers appear every time\n",
    "np.random.seed(0)\n",
    "# Input variable\n",
    "x = 4.0\n",
    "# Target values\n",
    "y = 2*x+1.0\n",
    "\n",
    "# Defining the neural network\n",
    "n_inputs = 1\n",
    "n_outputs = 1\n",
    "# Initialize the network\n",
    "# weights and bias in the output layer\n",
    "output_weights = np.random.randn()\n",
    "output_bias = np.random.randn()\n",
    "\n",
    "# implementing a simple gradient descent approach with fixed learning rate\n",
    "eta = 0.01\n",
    "for i in range(40):\n",
    "    # calculate gradients from back propagation\n",
    "    derivative_w1, derivative_b1 = backpropagation(x, y)\n",
    "    # update weights and biases\n",
    "    output_weights -= eta * derivative_w1\n",
    "    output_bias -= eta * derivative_b1\n",
    "# our final prediction after training\n",
    "ytilde = output_weights*x+output_bias\n",
    "print(0.5*((ytilde-y)**2))"
   ]
  },
  {
   "cell_type": "markdown",
   "id": "272386cb",
   "metadata": {
    "editable": true
   },
   "source": [
    "Running this code gives us an acceptable results after some 40-50 iterations. Note that the results depend on the value of the learning rate."
   ]
  },
  {
   "cell_type": "markdown",
   "id": "077cc76f",
   "metadata": {
    "editable": true
   },
   "source": [
    "## Central magic\n",
    "\n",
    "[Automatic differentian](https://en.wikipedia.org/wiki/Automatic_differentiation)"
   ]
  },
  {
   "cell_type": "markdown",
   "id": "11e9c147",
   "metadata": {
    "editable": true
   },
   "source": [
    "## [Efficient solutions of fermionic systems using artificial neural networks, Nordhagen et al, Frontiers in Physics 11, 2023](https://doi.org/10.3389/fphy.2023.1061580)\n",
    "\n",
    "The Hamiltonian of the quantum dot is given by"
   ]
  },
  {
   "cell_type": "markdown",
   "id": "cb0d459f",
   "metadata": {
    "editable": true
   },
   "source": [
    "$$\n",
    "\\hat{H} = \\hat{H}_0 + \\hat{V},\n",
    "$$"
   ]
  },
  {
   "cell_type": "markdown",
   "id": "bbc2c4b6",
   "metadata": {
    "editable": true
   },
   "source": [
    "where $\\hat{H}_0$ is the many-body HO Hamiltonian, and $\\hat{V}$ is the\n",
    "inter-electron Coulomb interactions. In dimensionless units,"
   ]
  },
  {
   "cell_type": "markdown",
   "id": "4aa16d39",
   "metadata": {
    "editable": true
   },
   "source": [
    "$$\n",
    "\\hat{V}= \\sum_{i < j}^N \\frac{1}{r_{ij}},\n",
    "$$"
   ]
  },
  {
   "cell_type": "markdown",
   "id": "5e9d0ed2",
   "metadata": {
    "editable": true
   },
   "source": [
    "with $r_{ij}=\\sqrt{\\mathbf{r}_i^2 - \\mathbf{r}_j^2}$.\n",
    "\n",
    "Separable Hamiltonian with the relative motion part ($r_{ij}=r$)"
   ]
  },
  {
   "cell_type": "markdown",
   "id": "b4202d19",
   "metadata": {
    "editable": true
   },
   "source": [
    "$$\n",
    "\\hat{H}_r=-\\nabla^2_r + \\frac{1}{4}\\omega^2r^2+ \\frac{1}{r},\n",
    "$$"
   ]
  },
  {
   "cell_type": "markdown",
   "id": "e9cb369e",
   "metadata": {
    "editable": true
   },
   "source": [
    "Analytical solutions in two and three dimensions ([M. Taut 1993 and 1994](https://journals.aps.org/pra/abstract/10.1103/PhysRevA.48.3561))."
   ]
  },
  {
   "cell_type": "markdown",
   "id": "1f69c988",
   "metadata": {
    "editable": true
   },
   "source": [
    "## Generative models: Why Boltzmann machines?\n",
    "\n",
    "What is known as restricted Boltzmann Machines (RMB) have received a\n",
    "lot of attention lately.  One of the major reasons is that they can be\n",
    "stacked layer-wise to build deep neural networks that capture\n",
    "complicated statistics.\n",
    "\n",
    "The original RBMs had just one visible layer and a hidden layer, but\n",
    "recently so-called Gaussian-binary RBMs have gained quite some\n",
    "popularity in imaging since they are capable of modeling continuous\n",
    "data that are common to natural images.\n",
    "\n",
    "Furthermore, they have been used to solve complicated quantum\n",
    "mechanical many-particle problems or classical statistical physics\n",
    "problems like the Ising and Potts classes of models."
   ]
  },
  {
   "cell_type": "markdown",
   "id": "36f531dc",
   "metadata": {
    "editable": true
   },
   "source": [
    "## The structure of the RBM network\n",
    "\n",
    "<!-- dom:FIGURE: [figures/RBM.png, width=800 frac=1.0] -->\n",
    "<!-- begin figure -->\n",
    "\n",
    "<img src=\"figures/RBM.png\" width=\"800\"><p style=\"font-size: 0.9em\"><i>Figure 1: </i></p>\n",
    "<!-- end figure -->"
   ]
  },
  {
   "cell_type": "markdown",
   "id": "a5703f04",
   "metadata": {
    "editable": true
   },
   "source": [
    "## The network\n",
    "\n",
    "**The network layers**:\n",
    "1. A function $\\boldsymbol{x}$ that represents the visible layer, a vector of $M$ elements (nodes). This layer represents both what the RBM might be given as training input, and what we want it to be able to reconstruct. This might for example be the pixels of an image, the spin values of the Ising model, or coefficients representing speech.\n",
    "\n",
    "2. The function $\\boldsymbol{h}$ represents the hidden, or latent, layer. A vector of $N$ elements (nodes). Also called \"feature detectors\"."
   ]
  },
  {
   "cell_type": "markdown",
   "id": "81678647",
   "metadata": {
    "editable": true
   },
   "source": [
    "## Goals\n",
    "\n",
    "The goal of the hidden layer is to increase the model's expressive\n",
    "power. We encode complex interactions between visible variables by\n",
    "introducing additional, hidden variables that interact with visible\n",
    "degrees of freedom in a simple manner, yet still reproduce the complex\n",
    "correlations between visible degrees in the data once marginalized\n",
    "over (integrated out).\n",
    "\n",
    "**The network parameters, to be optimized/learned**:\n",
    "1. $\\boldsymbol{a}$ represents the visible bias, a vector of same length as $\\boldsymbol{x}$.\n",
    "\n",
    "2. $\\boldsymbol{b}$ represents the hidden bias, a vector of same lenght as $\\boldsymbol{h}$.\n",
    "\n",
    "3. $W$ represents the interaction weights, a matrix of size $M\\times N$."
   ]
  },
  {
   "cell_type": "markdown",
   "id": "49af6443",
   "metadata": {
    "editable": true
   },
   "source": [
    "## Joint distribution\n",
    "The restricted Boltzmann machine is described by a Bolztmann distribution"
   ]
  },
  {
   "cell_type": "markdown",
   "id": "7b3e96f4",
   "metadata": {
    "editable": true
   },
   "source": [
    "$$\n",
    "P_{\\mathrm{rbm}}(\\boldsymbol{x},\\boldsymbol{h}) = \\frac{1}{Z} \\exp{-E(\\boldsymbol{x},\\boldsymbol{h})},\n",
    "$$"
   ]
  },
  {
   "cell_type": "markdown",
   "id": "57a246a0",
   "metadata": {
    "editable": true
   },
   "source": [
    "where $Z$ is the normalization constant or partition function, defined as"
   ]
  },
  {
   "cell_type": "markdown",
   "id": "0654a4ad",
   "metadata": {
    "editable": true
   },
   "source": [
    "$$\n",
    "Z = \\int \\int \\exp{-E(\\boldsymbol{x},\\boldsymbol{h})} d\\boldsymbol{x} d\\boldsymbol{h}.\n",
    "$$"
   ]
  },
  {
   "cell_type": "markdown",
   "id": "7dc379d2",
   "metadata": {
    "editable": true
   },
   "source": [
    "Note the absence of the inverse temperature in these equations."
   ]
  },
  {
   "cell_type": "markdown",
   "id": "8c47c276",
   "metadata": {
    "editable": true
   },
   "source": [
    "## Network Elements, the energy function\n",
    "\n",
    "The function $E(\\boldsymbol{x},\\boldsymbol{h})$ gives the **energy** of a\n",
    "configuration (pair of vectors) $(\\boldsymbol{x}, \\boldsymbol{h})$. The lower\n",
    "the energy of a configuration, the higher the probability of it. This\n",
    "function also depends on the parameters $\\boldsymbol{a}$, $\\boldsymbol{b}$ and\n",
    "$W$. Thus, when we adjust them during the learning procedure, we are\n",
    "adjusting the energy function to best fit our problem."
   ]
  },
  {
   "cell_type": "markdown",
   "id": "42730525",
   "metadata": {
    "editable": true
   },
   "source": [
    "## Defining different types of RBMs (Energy based models)\n",
    "\n",
    "There are different variants of RBMs, and the differences lie in the types of visible and hidden units we choose as well as in the implementation of the energy function $E(\\boldsymbol{x},\\boldsymbol{h})$. The connection between the nodes in the two layers is given by the weights $w_{ij}$. \n",
    "\n",
    "**Binary-Binary RBM:**\n",
    "\n",
    "RBMs were first developed using binary units in both the visible and hidden layer. The corresponding energy function is defined as follows:"
   ]
  },
  {
   "cell_type": "markdown",
   "id": "48045fa8",
   "metadata": {
    "editable": true
   },
   "source": [
    "$$\n",
    "E(\\boldsymbol{x}, \\boldsymbol{h}) = - \\sum_i^M x_i a_i- \\sum_j^N b_j h_j - \\sum_{i,j}^{M,N} x_i w_{ij} h_j,\n",
    "$$"
   ]
  },
  {
   "cell_type": "markdown",
   "id": "664d2ba6",
   "metadata": {
    "editable": true
   },
   "source": [
    "where the binary values taken on by the nodes are most commonly 0 and 1."
   ]
  },
  {
   "cell_type": "markdown",
   "id": "02d88e00",
   "metadata": {
    "editable": true
   },
   "source": [
    "## Gaussian binary\n",
    "\n",
    "**Gaussian-Binary RBM:**\n",
    "\n",
    "Another varient is the RBM where the visible units are Gaussian while the hidden units remain binary:"
   ]
  },
  {
   "cell_type": "markdown",
   "id": "5f8f9fe4",
   "metadata": {
    "editable": true
   },
   "source": [
    "$$\n",
    "E(\\boldsymbol{x}, \\boldsymbol{h}) = \\sum_i^M \\frac{(x_i - a_i)^2}{2\\sigma_i^2} - \\sum_j^N b_j h_j - \\sum_{i,j}^{M,N} \\frac{x_i w_{ij} h_j}{\\sigma_i^2}.\n",
    "$$"
   ]
  },
  {
   "cell_type": "markdown",
   "id": "a0d8e4d8",
   "metadata": {
    "editable": true
   },
   "source": [
    "## Representing the wave function\n",
    "\n",
    "The wavefunction should be a probability amplitude depending on\n",
    " $\\boldsymbol{x}$. The RBM model is given by the joint distribution of\n",
    " $\\boldsymbol{x}$ and $\\boldsymbol{h}$"
   ]
  },
  {
   "cell_type": "markdown",
   "id": "aa009921",
   "metadata": {
    "editable": true
   },
   "source": [
    "$$\n",
    "P_{\\mathrm{rbm}}(\\boldsymbol{x},\\boldsymbol{h}) = \\frac{1}{Z} \\exp{-E(\\boldsymbol{x},\\boldsymbol{h})}.\n",
    "$$"
   ]
  },
  {
   "cell_type": "markdown",
   "id": "9a474483",
   "metadata": {
    "editable": true
   },
   "source": [
    "To find the marginal distribution of $\\boldsymbol{x}$ we set:"
   ]
  },
  {
   "cell_type": "markdown",
   "id": "603a519c",
   "metadata": {
    "editable": true
   },
   "source": [
    "$$\n",
    "P_{\\mathrm{rbm}}(\\boldsymbol{x}) =\\frac{1}{Z}\\sum_{\\boldsymbol{h}} \\exp{-E(\\boldsymbol{x}, \\boldsymbol{h})}.\n",
    "$$"
   ]
  },
  {
   "cell_type": "markdown",
   "id": "cca28871",
   "metadata": {
    "editable": true
   },
   "source": [
    "Now this is what we use to represent the wave function, calling it a neural-network quantum state (NQS)"
   ]
  },
  {
   "cell_type": "markdown",
   "id": "b171e440",
   "metadata": {
    "editable": true
   },
   "source": [
    "$$\n",
    "\\vert\\Psi (\\boldsymbol{X})\\vert^2 = P_{\\mathrm{rbm}}(\\boldsymbol{x}).\n",
    "$$"
   ]
  },
  {
   "cell_type": "markdown",
   "id": "1eaffab1",
   "metadata": {
    "editable": true
   },
   "source": [
    "## Define the cost function\n",
    "\n",
    "Now we don't necessarily have training data (unless we generate it by\n",
    "using some other method). However, what we do have is the variational\n",
    "principle which allows us to obtain the ground state wave function by\n",
    "minimizing the expectation value of the energy of a trial wavefunction\n",
    "(corresponding to the untrained NQS). Similarly to the traditional\n",
    "variational Monte Carlo method then, it is the local energy we wish to\n",
    "minimize. The gradient to use for the stochastic gradient descent\n",
    "procedure is"
   ]
  },
  {
   "cell_type": "markdown",
   "id": "d1bf0e1e",
   "metadata": {
    "editable": true
   },
   "source": [
    "$$\n",
    "C_i = \\frac{\\partial \\langle E_L \\rangle}{\\partial \\theta_i}\n",
    "\t= 2(\\langle E_L \\frac{1}{\\Psi}\\frac{\\partial \\Psi}{\\partial \\theta_i} \\rangle - \\langle E_L \\rangle \\langle \\frac{1}{\\Psi}\\frac{\\partial \\Psi}{\\partial \\theta_i} \\rangle ),\n",
    "$$"
   ]
  },
  {
   "cell_type": "markdown",
   "id": "770a1cba",
   "metadata": {
    "editable": true
   },
   "source": [
    "where the local energy is given by"
   ]
  },
  {
   "cell_type": "markdown",
   "id": "cdbf874a",
   "metadata": {
    "editable": true
   },
   "source": [
    "$$\n",
    "E_L = \\frac{1}{\\Psi} \\hat{\\boldsymbol{H}} \\Psi.\n",
    "$$"
   ]
  },
  {
   "cell_type": "markdown",
   "id": "8c4a6d1a",
   "metadata": {
    "editable": true
   },
   "source": [
    "## Quantum dots and Boltzmann machines, onebody densities $N=6$, $\\hbar\\omega=0.1$ a.u.\n",
    "\n",
    "<!-- dom:FIGURE: [figures/OB6hw01.png, width=700 frac=0.9] -->\n",
    "<!-- begin figure -->\n",
    "\n",
    "<img src=\"figures/OB6hw01.png\" width=\"700\"><p style=\"font-size: 0.9em\"><i>Figure 1: </i></p>\n",
    "<!-- end figure -->"
   ]
  },
  {
   "cell_type": "markdown",
   "id": "9a115fba",
   "metadata": {
    "editable": true
   },
   "source": [
    "## Onebody densities $N=30$, $\\hbar\\omega=1.0$ a.u.\n",
    "<!-- dom:FIGURE: [figures/OB30hw1.png, width=700 frac=0.9] -->\n",
    "<!-- begin figure -->\n",
    "\n",
    "<img src=\"figures/OB30hw1.png\" width=\"700\"><p style=\"font-size: 0.9em\"><i>Figure 1: </i></p>\n",
    "<!-- end figure -->"
   ]
  },
  {
   "cell_type": "markdown",
   "id": "454d215b",
   "metadata": {
    "editable": true
   },
   "source": [
    "## Expectation values as functions of the oscillator frequency\n",
    "\n",
    "<!-- dom:FIGURE: [figures/virialtheorem.png, width=700 frac=0.9] -->\n",
    "<!-- begin figure -->\n",
    "\n",
    "<img src=\"figures/virialtheorem.png\" width=\"700\"><p style=\"font-size: 0.9em\"><i>Figure 1: </i></p>\n",
    "<!-- end figure -->"
   ]
  }
 ],
 "metadata": {},
 "nbformat": 4,
 "nbformat_minor": 5
}
