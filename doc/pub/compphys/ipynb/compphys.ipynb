{
 "cells": [
  {
   "cell_type": "markdown",
   "id": "9356a17a",
   "metadata": {
    "editable": true
   },
   "source": [
    "<!-- HTML file automatically generated from DocOnce source (https://github.com/doconce/doconce/)\n",
    "doconce format html compphys.do.txt --no_mako -->\n",
    "<!-- dom:TITLE: Nye kurs of nytt studieprogram -->"
   ]
  },
  {
   "cell_type": "markdown",
   "id": "67b836e5",
   "metadata": {
    "editable": true
   },
   "source": [
    "# Nye kurs of nytt studieprogram\n",
    "**Morten Hjorth-Jensen**, Department of Physics and Astronomy and FRIB Laboratory, Michigan State University, USA and Department of Physics and Center for Computing in Science Education, University of Oslo, Norway\n",
    "\n",
    "Date: **Dec 9, 2021**\n",
    "\n",
    "Copyright 1999-2021, Morten Hjorth-Jensen. Released under CC Attribution-NonCommercial 4.0 license"
   ]
  },
  {
   "cell_type": "markdown",
   "id": "ccaef949",
   "metadata": {
    "editable": true
   },
   "source": [
    "## Kurs, to nye og et nedlagt\n",
    "\n",
    "**[FYS4480/9480 Quantum mechanics for many-particle systems](https://github.com/mhjensen/CPMLS/blob/gh-pages/doc/src/Courses/fys4480.md).**\n",
    "\n",
    "Siden vi la det ned (2018) har vi hatt ca 10 studenter som har tatt\n",
    "dette som spesialpensum. Kurset er sentralt for studenter som jobber\n",
    "med kvantemekaniske problemstillinger i atom og molekylfysikk,\n",
    "kondenserte fasers fysikk, kjernefysikk og kvantekjemi (kjemisk\n",
    "institutt). Master og PhD variant.  KJM5560 har ikke vært en god nok\n",
    "erstatning for fysikkstudenter og undervises også sporadisk.\n",
    "\n",
    "**Forslag: kurset gjenopprettes som et regulært kurs fom h-2022**\n",
    "\n",
    "**[FYS4446/9446 Quantum computing and quantum machine learning](https://github.com/mhjensen/CPMLS/blob/gh-pages/doc/src/Courses/fys4446.md).**\n",
    "\n",
    "Nytt kurs. Vi har flere studenter som følger dette temaet som\n",
    "spesialpensum, siden 2020 har vi 7-8 studenter som jobber med\n",
    "tematikken.  Dette er også tenkt som et samarbeid med OsloMet hvor\n",
    "tanken er å bruke deres to kvantedatamaskiner i hands-on\n",
    "eksperimenteringer.  Ukentlig undervisning fom h-2021.\n",
    "\n",
    "**Forslag: kurset opprettes som et sjølstudiumskurs med ukentlige samlinger fom v-2023**\n",
    "\n",
    "**[FYS4447/9447 Advanced machine learning and data analysis for the physical sciences](https://github.com/mhjensen/CPMLS/blob/gh-pages/doc/src/Courses/fys4447.md).**\n",
    "\n",
    "Siden 2019 har vi hatt ca 20 studenter som har hatt spesialpensum i\n",
    "dette temaet. Strategisk viktig emne og vil kunne være et sentralt\n",
    "emne utover fys-stk3155/4155 i Maskinlæring for master og PhD\n",
    "studenter i fysiske fag. **Åtte studenter som har dette som spesialpensum v-2022**.\n",
    "Undervises ukentlig fom h-2021. Vil være sentralt for\n",
    "CompSci PhD-programmet og fysisk institutt. \n",
    "\n",
    "**Forslag: kurset opprettes som et sjølstudiums kurs med ukentlige samlinger fom v-2023**"
   ]
  },
  {
   "cell_type": "markdown",
   "id": "297c2623",
   "metadata": {
    "editable": true
   },
   "source": [
    "## [Nytt Bachelor program](https://github.com/mhjensen/CPMLS/blob/gh-pages/doc/src/Courses/CompPhysicsQT.pdf)\n",
    "\n",
    "Overordna: FI må tenke igjennom hvordan vi vil posisjonere oss fremover, særlig med tanke på\n",
    "\n",
    "1. utviklinga som skjer i quantum information systems og quantum technologies QIS/QT, og\n",
    "\n",
    "2. kunstig intelligens og maskinlæring (AI/ML)\n",
    "\n",
    "Her meiner vi  et nytt bachelorprogram er sentralt.\n",
    "\n",
    "Om vi ikke lager et slikt program (med liknende profil), vil andre gjøre det."
   ]
  },
  {
   "cell_type": "markdown",
   "id": "6382da7d",
   "metadata": {
    "editable": true
   },
   "source": [
    "## Eksempler på forskning med AI/ML og QIS/QT i fysikk\n",
    "\n",
    "1. [Artificial Intelligence and Machine Learning in Nuclear Physics](https://arxiv.org/abs/2112.02309)\n",
    "\n",
    "2. [Applications and Techniques for Fast Machine Learning in Science](https://arxiv.org/abs/2110.13041)\n",
    "\n",
    "3. [Opportunities in Machine Learning for Particle Accelerators](https://arxiv.org/abs/1811.03172)\n",
    "\n",
    "4. [From DFT to machine learning: recent approaches to materials science;a review](https://doi.org/10.1088/2515-7639/ab084b)\n",
    "\n",
    "5. [Sofia Vallecorsa, CERN, quantum machine learning and AI/ML](https://www.youtube.com/watch?v=7WPKv1Q57os&list=PLUPPQ1TVXK7uHwCTccWMBud-zLyvAf8A2&index=5&ab_channel=ECTstar)."
   ]
  },
  {
   "cell_type": "markdown",
   "id": "c13d12db",
   "metadata": {
    "editable": true
   },
   "source": [
    "## Kommentarer til innspillet\n",
    "\n",
    "**Fra Heidi Sandaker, HEP.**\n",
    "\n",
    "Jeg syns dette er et kjempebra tiltak og vi er veldig interessert i kvantedeteksjon og ML!\n",
    "\n",
    "Om dette bør være et eget Bachelor studie, kanskje tiden er moden for det nå?\n",
    "\n",
    "Jeg skulle gjerne hatt disse fagene inn for alle fysikk studenter også, selvfølgelig får man mer dybde med et eget program. \n",
    "\n",
    "Jeg ser egenglig ingen hindringer … helt klart bør vi få inn fag på disse områdene, kanskje en større diskusjon om hvor vi vil med fysikkprogrammet bør på bordet. \n",
    "\n",
    "Vennlig hilsen, \n",
    "\n",
    "Heidi"
   ]
  },
  {
   "cell_type": "markdown",
   "id": "0268307a",
   "metadata": {
    "editable": true
   },
   "source": [
    "## Flere kommentarer\n",
    "\n",
    "**Fra Anders Kvellestad, HEP/Teori.**\n",
    "\n",
    "Jeg tror den mest fruktbare kommentaren jeg kan gi er et spørsmål som kanskje kan hjelpe dere å gjøre identiteten til den nye studieretningen enda tydeligere: Dersom jeg ser for meg \"meg selv\" som fersk student i dag, så ville jeg vært en ~20-åring som \n",
    "\n",
    "1. er fascinert av \"fysikk for fysikkens skyld\", naturen og \"de store spørsmålene\", ikke teknologiutvikling (enn hvor viktig det er!);\n",
    "\n",
    "b. liker å jobbe med datamaskiner; og\n",
    "\n",
    "c. har hørt mye om maskinlæring og kunstig intelligens og gjerne vil lære mer om dette.\n",
    "\n",
    "(Og jeg tror en slik studentprofil kan være ganske vanlig.)"
   ]
  },
  {
   "cell_type": "markdown",
   "id": "ebccbb18",
   "metadata": {
    "editable": true
   },
   "source": [
    "## Inputs from OsloMet\n",
    "\n",
    "**Fra Andre Brodtkorb, OsloMet.**\n",
    "\n",
    "Hi Morten,\n",
    "\n",
    "I briefly skimmed through the bachelor program that you sent, and this is definitely relevant to collaborate on.\n",
    "\n",
    "As Gustavo mentioned, **I’m coordinating and working on a new bachelor program here at OsloMet**. I therefore had a talk with Knut Mørken earlier this year about ways of collaborating in that context. I think it would be great to follow up on this for both of us (OsloMet and UiO). \n",
    "\n",
    "-André:)"
   ]
  },
  {
   "cell_type": "markdown",
   "id": "4f62548c",
   "metadata": {
    "editable": true
   },
   "source": [
    "## Mulige løp og nytt [Bachelor program](https://github.com/mhjensen/CPMLS/blob/gh-pages/doc/src/Courses/CompPhysicsQT.pdf)\n",
    "\n",
    "1. Build up a series of courses in QIS, inspiration [QuSTEAM (Quantum Information Science, Technology, Engineering, Arts and Mathematics) initiative from USA](https://qusteam.org/)\n",
    "\n",
    "2. [Bachelor program in Computational Science and Data Science](https://github.com/mhjensen/CPMLS/blob/gh-pages/doc/src/Courses/CSDSProgramsUiO.pdf)\n",
    "\n",
    "3. [We should consider a  more dedicated one on Computational Physics, AI/ML and Quantum Technologies](https://github.com/mhjensen/CPMLS/blob/gh-pages/doc/src/Courses/CompPhysicsQT.pdf)\n",
    "\n",
    "a. study direction/option in **quantum technologies**\n",
    "\n",
    "b. study direction/option in **Artificial Intelligence and Machine Learning**\n",
    "\n",
    "3. Master of Science program in Computational and Data Science\n",
    "\n",
    "a. UiO has already MSc programs in CS and DS. CS program dominated by AI/ML projects\n",
    "\n",
    "2. PhD program in CS (CompSci) and DS\n",
    "\n",
    "a. with directions in **quantum technologies**\n",
    "\n",
    "b. with directions in **Artificial Intelligence and Machine Learning**\n",
    "\n",
    "Coordination across university boundaries?  Collaboration with OsloMet and Simula research lab, SINTEF and UMB. IBM, Accenture, DNB and many other companies in the private sector are very interested."
   ]
  },
  {
   "cell_type": "markdown",
   "id": "4edc22ea",
   "metadata": {
    "editable": true
   },
   "source": [
    "## QuSTEAM Model\n",
    "\n",
    "<!-- dom:FIGURE: [figures/qusteam.png, width=800 frac=1.0] -->\n",
    "<!-- begin figure -->\n",
    "\n",
    "<img src=\"figures/qusteam.png\" width=\"800\"><p style=\"font-size: 0.9em\"><i>Figure 1: </i></p>\n",
    "<!-- end figure -->"
   ]
  },
  {
   "cell_type": "markdown",
   "id": "77310697",
   "metadata": {
    "editable": true
   },
   "source": [
    "## Courses\n",
    "\n",
    "The [Center for Computing in Science Education at UiO](https://www.mn.uio.no/ccse/english/) should be the entity which provides the pedagogical resourses. It has research experience\n",
    "on how do we design curricula so that students develop deep knowledge that is connected and useful.\n",
    "\n",
    "**Topics  in a Bachelor of Science/Master of Science.**\n",
    "\n",
    "1. Information Systems \n",
    "\n",
    "2. From Classical Information theory to Quantum Information theory\n",
    "\n",
    "3. Classical vs. Quantum Logic\n",
    "\n",
    "4. Classical and Quantum Laboratory \n",
    "\n",
    "5. Discipline-Based Quantum Mechanics \n",
    "\n",
    "6. Quantum Software\n",
    "\n",
    "7. Quantum Hardware\n",
    "\n",
    "8. more"
   ]
  },
  {
   "cell_type": "markdown",
   "id": "a81c7ddf",
   "metadata": {
    "editable": true
   },
   "source": [
    "## Important Issues to think of\n",
    "1. Lots of conceptual learning: superposition, entanglement, QIS applications, AI, machine learning\n",
    "\n",
    "2. Coding is indispensable. That is why this should be a part of a CS/DS program/Computational Physics\n",
    "\n",
    "3. Teamwork, project management, and communication are important and highly valued\n",
    "\n",
    "4. Engagement with industry: guest lectures, virtual tours, co-ops, and/or internships.\n",
    "\n",
    "5. Mentorship should begin the moment students enroll."
   ]
  },
  {
   "cell_type": "markdown",
   "id": "97edb887",
   "metadata": {
    "editable": true
   },
   "source": [
    "## Observations\n",
    "\n",
    "1. Students do not really know what QIS is. This may be important when advertising\n",
    "\n",
    "2. There is conflation of “Quantum Information Science” with “Quantum computing”.\n",
    "\n",
    "3. Students perceive that a graduate degree is necessary to work in QIS. A BSc will help.\n",
    "\n",
    "4. Students perceive AI/ML as central topics in modern science"
   ]
  },
  {
   "cell_type": "markdown",
   "id": "9920f900",
   "metadata": {
    "editable": true
   },
   "source": [
    "## Future Needs/Problems\n",
    "\n",
    "1. There are already (USA) great needs for specialized people (Ph. D. s, postdocs), but also needs of  people with a broad overview of what is possible in QIS and AI/ML.\n",
    "\n",
    "2. There are not enough potential employees in QIS and AI/ML. It is a supply gap, not a skills gap.\n",
    "\n",
    "3. A BSc with specialization  is a good place to start\n",
    "\n",
    "4. It is tremendously important to get everyone speaking the same language. Facility with the vernacular of quantum mechanics and AI/ML is a big plus."
   ]
  }
 ],
 "metadata": {},
 "nbformat": 4,
 "nbformat_minor": 5
}
