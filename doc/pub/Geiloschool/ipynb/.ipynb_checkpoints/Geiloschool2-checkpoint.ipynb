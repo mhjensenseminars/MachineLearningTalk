{
 "cells": [
  {
   "cell_type": "markdown",
   "id": "10cdc67f",
   "metadata": {},
   "source": [
    "<!-- HTML file automatically generated from DocOnce source (https://github.com/doconce/doconce/)\n",
    "doconce format html Geiloschool2.do.txt --no_mako -->\n",
    "<!-- dom:TITLE: Third part, quantum mechanical studies  -->"
   ]
  },
  {
   "cell_type": "markdown",
   "id": "7742cf8b",
   "metadata": {},
   "source": [
    "# Third part, quantum mechanical studies \n",
    "**Morten Hjorth-Jensen**, Department of Physics and Center for Computing in Science Education, University of Oslo, Norway\n",
    "\n",
    "Date: **Geilo Winter School, March 10-20, 2025**"
   ]
  },
  {
   "cell_type": "markdown",
   "id": "6ebe6841",
   "metadata": {},
   "source": [
    "## Many-body physics, Quantum Monte Carlo and deep learning\n",
    "Given a hamiltonian $H$ and a trial wave function $\\Psi_T$, the variational principle states that the expectation value of $\\langle H \\rangle$, defined through"
   ]
  },
  {
   "cell_type": "markdown",
   "id": "86458a22",
   "metadata": {},
   "source": [
    "$$\n",
    "\\langle E \\rangle =\n",
    "   \\frac{\\int d\\boldsymbol{R}\\Psi^{\\ast}_T(\\boldsymbol{R})H(\\boldsymbol{R})\\Psi_T(\\boldsymbol{R})}\n",
    "        {\\int d\\boldsymbol{R}\\Psi^{\\ast}_T(\\boldsymbol{R})\\Psi_T(\\boldsymbol{R})},\n",
    "$$"
   ]
  },
  {
   "cell_type": "markdown",
   "id": "6e47c5a8",
   "metadata": {},
   "source": [
    "is an upper bound to the ground state energy $E_0$ of the hamiltonian $H$, that is"
   ]
  },
  {
   "cell_type": "markdown",
   "id": "030870df",
   "metadata": {},
   "source": [
    "$$\n",
    "E_0 \\le \\langle E \\rangle.\n",
    "$$"
   ]
  },
  {
   "cell_type": "markdown",
   "id": "a1a7aad1",
   "metadata": {},
   "source": [
    "In general, the integrals involved in the calculation of various  expectation values  are multi-dimensional ones. Traditional integration methods such as the Gauss-Legendre will not be adequate for say the  computation of the energy of a many-body system.  **Basic philosophy: Let a neural network find the optimal wave function**"
   ]
  },
  {
   "cell_type": "markdown",
   "id": "63dd4cee",
   "metadata": {},
   "source": [
    "## Quantum Monte Carlo Motivation\n",
    "**Basic steps.**\n",
    "\n",
    "Choose a trial wave function\n",
    "$\\psi_T(\\boldsymbol{R})$."
   ]
  },
  {
   "cell_type": "markdown",
   "id": "fde07c44",
   "metadata": {},
   "source": [
    "$$\n",
    "P(\\boldsymbol{R},\\boldsymbol{\\alpha})= \\frac{\\left|\\psi_T(\\boldsymbol{R},\\boldsymbol{\\alpha})\\right|^2}{\\int \\left|\\psi_T(\\boldsymbol{R},\\boldsymbol{\\alpha})\\right|^2d\\boldsymbol{R}}.\n",
    "$$"
   ]
  },
  {
   "cell_type": "markdown",
   "id": "aa63b8e6",
   "metadata": {},
   "source": [
    "This is our model, or likelihood/probability distribution function  (PDF). It depends on some variational parameters $\\boldsymbol{\\alpha}$.\n",
    "The approximation to the expectation value of the Hamiltonian is now"
   ]
  },
  {
   "cell_type": "markdown",
   "id": "68817776",
   "metadata": {},
   "source": [
    "$$\n",
    "\\langle E[\\boldsymbol{\\alpha}] \\rangle = \n",
    "   \\frac{\\int d\\boldsymbol{R}\\Psi^{\\ast}_T(\\boldsymbol{R},\\boldsymbol{\\alpha})H(\\boldsymbol{R})\\Psi_T(\\boldsymbol{R},\\boldsymbol{\\alpha})}\n",
    "        {\\int d\\boldsymbol{R}\\Psi^{\\ast}_T(\\boldsymbol{R},\\boldsymbol{\\alpha})\\Psi_T(\\boldsymbol{R},\\boldsymbol{\\alpha})}.\n",
    "$$"
   ]
  },
  {
   "cell_type": "markdown",
   "id": "e82f7994",
   "metadata": {},
   "source": [
    "## Quantum Monte Carlo Motivation\n",
    "**Define a new quantity.**"
   ]
  },
  {
   "cell_type": "markdown",
   "id": "05bd0828",
   "metadata": {},
   "source": [
    "$$\n",
    "E_L(\\boldsymbol{R},\\boldsymbol{\\alpha})=\\frac{1}{\\psi_T(\\boldsymbol{R},\\boldsymbol{\\alpha})}H\\psi_T(\\boldsymbol{R},\\boldsymbol{\\alpha}),\n",
    "$$"
   ]
  },
  {
   "cell_type": "markdown",
   "id": "d631b298",
   "metadata": {},
   "source": [
    "called the local energy, which, together with our trial PDF yields"
   ]
  },
  {
   "cell_type": "markdown",
   "id": "f5f70388",
   "metadata": {},
   "source": [
    "$$\n",
    "\\langle E[\\boldsymbol{\\alpha}] \\rangle=\\int P(\\boldsymbol{R})E_L(\\boldsymbol{R},\\boldsymbol{\\alpha}) d\\boldsymbol{R}\\approx \\frac{1}{N}\\sum_{i=1}^NE_L(\\boldsymbol{R_i},\\boldsymbol{\\alpha})\n",
    "$$"
   ]
  },
  {
   "cell_type": "markdown",
   "id": "be33caa2",
   "metadata": {},
   "source": [
    "with $N$ being the number of Monte Carlo samples."
   ]
  },
  {
   "cell_type": "markdown",
   "id": "65404790",
   "metadata": {},
   "source": [
    "## Energy derivatives\n",
    "The local energy as function of the variational parameters defines now our **objective/cost** function.\n",
    "\n",
    "To find the derivatives of the local energy expectation value as function of the variational parameters, we can use the chain rule and the hermiticity of the Hamiltonian.  \n",
    "\n",
    "Let us define (with the notation $\\langle E[\\boldsymbol{\\alpha}]\\rangle =\\langle  E_L\\rangle$)"
   ]
  },
  {
   "cell_type": "markdown",
   "id": "4f89ccd0",
   "metadata": {},
   "source": [
    "$$\n",
    "\\bar{E}_{\\alpha_i}=\\frac{d\\langle  E_L\\rangle}{d\\alpha_i},\n",
    "$$"
   ]
  },
  {
   "cell_type": "markdown",
   "id": "9a90ae0e",
   "metadata": {},
   "source": [
    "as the derivative of the energy with respect to the variational parameter $\\alpha_i$\n",
    "We define also the derivative of the trial function (skipping the subindex $T$) as"
   ]
  },
  {
   "cell_type": "markdown",
   "id": "5591259a",
   "metadata": {},
   "source": [
    "$$\n",
    "\\bar{\\Psi}_{i}=\\frac{d\\Psi}{d\\alpha_i}.\n",
    "$$"
   ]
  },
  {
   "cell_type": "markdown",
   "id": "a2fd03ad",
   "metadata": {},
   "source": [
    "## Derivatives of the local energy\n",
    "The elements of the gradient of the local energy are"
   ]
  },
  {
   "cell_type": "markdown",
   "id": "d770a1fb",
   "metadata": {},
   "source": [
    "$$\n",
    "\\bar{E}_{i}= 2\\left( \\langle \\frac{\\bar{\\Psi}_{i}}{\\Psi}E_L\\rangle -\\langle \\frac{\\bar{\\Psi}_{i}}{\\Psi}\\rangle\\langle E_L \\rangle\\right).\n",
    "$$"
   ]
  },
  {
   "cell_type": "markdown",
   "id": "31d7c1ec",
   "metadata": {},
   "source": [
    "From a computational point of view it means that you need to compute the expectation values of"
   ]
  },
  {
   "cell_type": "markdown",
   "id": "21c13ab4",
   "metadata": {},
   "source": [
    "$$\n",
    "\\langle \\frac{\\bar{\\Psi}_{i}}{\\Psi}E_L\\rangle,\n",
    "$$"
   ]
  },
  {
   "cell_type": "markdown",
   "id": "bc617273",
   "metadata": {},
   "source": [
    "and"
   ]
  },
  {
   "cell_type": "markdown",
   "id": "cb319295",
   "metadata": {},
   "source": [
    "$$\n",
    "\\langle \\frac{\\bar{\\Psi}_{i}}{\\Psi}\\rangle\\langle E_L\\rangle\n",
    "$$"
   ]
  },
  {
   "cell_type": "markdown",
   "id": "0aba9642",
   "metadata": {},
   "source": [
    "These integrals are evaluted using MC integration (with all its possible error sources). Use methods like stochastic gradient or other minimization methods to find the optimal parameters."
   ]
  },
  {
   "cell_type": "markdown",
   "id": "990897c1",
   "metadata": {},
   "source": [
    "## Monte Carlo methods and Neural Networks\n",
    "\n",
    "[Machine Learning and the Deuteron by Kebble and Rios](https://www.sciencedirect.com/science/article/pii/S0370269320305463?via%3Dihub) and\n",
    "[Variational Monte Carlo calculations of $A\\le 4$ nuclei with an artificial neural-network correlator ansatz by Adams et al.](https://journals.aps.org/prl/abstract/10.1103/PhysRevLett.127.022502)\n",
    "\n",
    "**Adams et al**:"
   ]
  },
  {
   "cell_type": "markdown",
   "id": "3af4b695",
   "metadata": {},
   "source": [
    "$$\n",
    "H_{LO} =-\\sum_i \\frac{{\\vec{\\nabla}_i^2}}{2m_N}\n",
    "+\\sum_{i<j} {\\left(C_1  + C_2\\, \\vec{\\sigma_i}\\cdot\\vec{\\sigma_j}\\right)\n",
    "e^{-r_{ij}^2\\Lambda^2 / 4 }}\n",
    "\\nonumber\n",
    "$$"
   ]
  },
  {
   "cell_type": "markdown",
   "id": "d16e67d8",
   "metadata": {},
   "source": [
    "<!-- Equation labels as ordinary links -->\n",
    "<div id=\"_auto1\"></div>\n",
    "\n",
    "$$\n",
    "\\begin{equation} \n",
    "+D_0 \\sum_{i<j<k} \\sum_{\\text{cyc}}\n",
    "{e^{-\\left(r_{ik}^2+r_{ij}^2\\right)\\Lambda^2/4}}\\,,\n",
    "\\label{_auto1} \\tag{1}\n",
    "\\end{equation}\n",
    "$$"
   ]
  },
  {
   "cell_type": "markdown",
   "id": "5c219311",
   "metadata": {},
   "source": [
    "where $m_N$ is the mass of the nucleon, $\\vec{\\sigma_i}$ is the Pauli\n",
    "matrix acting on nucleon $i$, and $\\sum_{\\text{cyc}}$ stands for the\n",
    "cyclic permutation of $i$, $j$, and $k$. The low-energy constants\n",
    "$C_1$ and $C_2$ are fit to the deuteron binding energy and to the\n",
    "neutron-neutron scattering length"
   ]
  },
  {
   "cell_type": "markdown",
   "id": "6e9d29bf",
   "metadata": {},
   "source": [
    "## Deep learning neural networks, [Variational Monte Carlo calculations of $A\\le 4$ nuclei with an artificial neural-network correlator ansatz by Adams et al.](https://journals.aps.org/prl/abstract/10.1103/PhysRevLett.127.022502)\n",
    "\n",
    "An appealing feature of the neural network ansatz is that it is more general than the more conventional product of two-\n",
    "and three-body spin-independent Jastrow functions"
   ]
  },
  {
   "cell_type": "markdown",
   "id": "bbc500a8",
   "metadata": {},
   "source": [
    "<!-- Equation labels as ordinary links -->\n",
    "<div id=\"_auto2\"></div>\n",
    "\n",
    "$$\n",
    "\\begin{equation}\n",
    "|\\Psi_V^J \\rangle = \\prod_{i<j<k} \\Big( 1-\\sum_{\\text{cyc}} u(r_{ij}) u(r_{jk})\\Big) \\prod_{i<j} f(r_{ij}) | \\Phi\\rangle\\,,\n",
    "\\label{_auto2} \\tag{2}\n",
    "\\end{equation}\n",
    "$$"
   ]
  },
  {
   "cell_type": "markdown",
   "id": "76de52f1",
   "metadata": {},
   "source": [
    "which is commonly used for nuclear Hamiltonians that do not contain tensor and spin-orbit terms.\n",
    "The above function is replaced by a four-layer Neural Network."
   ]
  },
  {
   "cell_type": "markdown",
   "id": "3688ad3b",
   "metadata": {},
   "source": [
    "## Ansatz for a fermionic state function, Jane Kim et al, Commun Phys 7, 148 (2024)"
   ]
  },
  {
   "cell_type": "markdown",
   "id": "b685360a",
   "metadata": {},
   "source": [
    "$$\n",
    "\\Psi_T(\\boldsymbol{X}) =\\exp{U(\\boldsymbol{X})}\\Phi(\\boldsymbol{X}).\n",
    "$$"
   ]
  },
  {
   "cell_type": "markdown",
   "id": "8a043192",
   "metadata": {},
   "source": [
    "1. Build in fermion antisymmetry for network compactness\n",
    "\n",
    "2. Permutation-invariant Jastrow function improves ansatz flexibility\n",
    "\n",
    "3. Build $U$ and $\\Phi$ functions from fully connected, deep neural networks\n",
    "\n",
    "4. Use Slater determinant (or Pfaffian) $\\Phi$ to enforce antisymmetry with single particle wavefunctions represented by neural networks"
   ]
  },
  {
   "cell_type": "markdown",
   "id": "82dcbeb2",
   "metadata": {},
   "source": [
    "## Nuclear matter setup\n",
    "\n",
    "<!-- dom:FIGURE: [figures/mbpfig4.png, width=900 frac=1.0] -->\n",
    "<!-- begin figure -->\n",
    "\n",
    "<img src=\"figures/mbpfig4.png\" width=\"900\"><p style=\"font-size: 0.9em\"><i>Figure 1: </i></p>\n",
    "<!-- end figure -->"
   ]
  },
  {
   "cell_type": "markdown",
   "id": "c8852aad",
   "metadata": {},
   "source": [
    "## Neutron star structure\n",
    "\n",
    "<!-- dom:FIGURE: [figures/mbpfig5.png, width=900 frac=1.0] -->\n",
    "<!-- begin figure -->\n",
    "\n",
    "<img src=\"figures/mbpfig5.png\" width=\"900\"><p style=\"font-size: 0.9em\"><i>Figure 1: </i></p>\n",
    "<!-- end figure -->"
   ]
  },
  {
   "cell_type": "markdown",
   "id": "59f0ddcc",
   "metadata": {},
   "source": [
    "## [Dilute neutron star matter from neural-network quantum states by Fore et al, Physical Review Research 5, 033062 (2023)](https://journals.aps.org/prresearch/pdf/10.1103/PhysRevResearch.5.033062) at density $\\rho=0.04$ fm$^{-3}$\n",
    "\n",
    "<!-- dom:FIGURE: [figures/nmatter.png, width=700 frac=0.9] -->\n",
    "<!-- begin figure -->\n",
    "\n",
    "<img src=\"figures/nmatter.png\" width=\"700\"><p style=\"font-size: 0.9em\"><i>Figure 1: </i></p>\n",
    "<!-- end figure -->"
   ]
  },
  {
   "cell_type": "markdown",
   "id": "3e51d40a",
   "metadata": {},
   "source": [
    "## Pairing and Spin-singlet and triplet two-body distribution functions at $\\rho=0.01$ fm$^{-3}$\n",
    "<!-- dom:FIGURE: [figures/01_tbd.png, width=700 frac=0.9] -->\n",
    "<!-- begin figure -->\n",
    "\n",
    "<img src=\"figures/01_tbd.png\" width=\"700\"><p style=\"font-size: 0.9em\"><i>Figure 1: </i></p>\n",
    "<!-- end figure -->"
   ]
  },
  {
   "cell_type": "markdown",
   "id": "14bd1858",
   "metadata": {},
   "source": [
    "## Pairing and Spin-singlet and triplet two-body distribution functions at $\\rho=0.04$ fm$^{-3}$\n",
    "\n",
    "<!-- dom:FIGURE: [figures/04_tbd.png, width=700 frac=0.9] -->\n",
    "<!-- begin figure -->\n",
    "\n",
    "<img src=\"figures/04_tbd.png\" width=\"700\"><p style=\"font-size: 0.9em\"><i>Figure 1: </i></p>\n",
    "<!-- end figure -->"
   ]
  },
  {
   "cell_type": "markdown",
   "id": "7d11bcad",
   "metadata": {},
   "source": [
    "## Pairing and Spin-singlet and triplet two-body distribution functions at $\\rho=0.08$ fm$^{-3}$\n",
    "<!-- dom:FIGURE: [figures/08_tbd.png, width=700 frac=0.9] -->\n",
    "<!-- begin figure -->\n",
    "\n",
    "<img src=\"figures/08_tbd.png\" width=\"700\"><p style=\"font-size: 0.9em\"><i>Figure 1: </i></p>\n",
    "<!-- end figure -->"
   ]
  },
  {
   "cell_type": "markdown",
   "id": "4bcae251",
   "metadata": {},
   "source": [
    "## Symmetric nuclear matter\n",
    "\n",
    "<!-- dom:FIGURE: [figures/mbpfig6.png, width=900 frac=1.0] -->\n",
    "<!-- begin figure -->\n",
    "\n",
    "<img src=\"figures/mbpfig6.png\" width=\"900\"><p style=\"font-size: 0.9em\"><i>Figure 1: </i></p>\n",
    "<!-- end figure -->"
   ]
  },
  {
   "cell_type": "markdown",
   "id": "6a58e018",
   "metadata": {},
   "source": [
    "## Self-emerging clustering\n",
    "\n",
    "<!-- dom:FIGURE: [figures/mbpfig7.png, width=900 frac=1.0] -->\n",
    "<!-- begin figure -->\n",
    "\n",
    "<img src=\"figures/mbpfig7.png\" width=\"900\"><p style=\"font-size: 0.9em\"><i>Figure 1: </i></p>\n",
    "<!-- end figure -->"
   ]
  },
  {
   "cell_type": "markdown",
   "id": "2f19ebc1",
   "metadata": {},
   "source": [
    "## Clustering: Two-body pair distributions\n",
    "\n",
    "<!-- dom:FIGURE: [figures/mbpfig8.png, width=900 frac=1.0] -->\n",
    "<!-- begin figure -->\n",
    "\n",
    "<img src=\"figures/mbpfig8.png\" width=\"900\"><p style=\"font-size: 0.9em\"><i>Figure 1: </i></p>\n",
    "<!-- end figure -->"
   ]
  },
  {
   "cell_type": "markdown",
   "id": "08a75b9b",
   "metadata": {},
   "source": [
    "## Nuclear matter proton fraction\n",
    "\n",
    "<!-- dom:FIGURE: [figures/mbpfig9.png, width=900 frac=1.0] -->\n",
    "<!-- begin figure -->\n",
    "\n",
    "<img src=\"figures/mbpfig9.png\" width=\"900\"><p style=\"font-size: 0.9em\"><i>Figure 1: </i></p>\n",
    "<!-- end figure -->"
   ]
  },
  {
   "cell_type": "markdown",
   "id": "39c44bfb",
   "metadata": {},
   "source": [
    "## The electron gas in three dimensions with $N=14$ electrons (Wigner-Seitz radius $r_s=2$ a.u.), [Gabriel Pescia, Jane Kim et al. arXiv.2305.07240,](https://doi.org/10.48550/arXiv.2305.07240)\n",
    "\n",
    "<!-- dom:FIGURE: [figures/elgasnew.png, width=700 frac=0.9] -->\n",
    "<!-- begin figure -->\n",
    "\n",
    "<img src=\"figures/elgasnew.png\" width=\"700\"><p style=\"font-size: 0.9em\"><i>Figure 1: </i></p>\n",
    "<!-- end figure -->"
   ]
  },
  {
   "cell_type": "markdown",
   "id": "f1bad3a6",
   "metadata": {},
   "source": [
    "## Essential elements of generative models\n",
    "\n",
    "The aim of generative methods is to train a probability distribution $p$. There are several methods:\n",
    "1. Energy based models, with the family of Boltzmann distributions as a typical example\n",
    "\n",
    "2. Variational autoencoders, based on our discussions on autoencoders\n",
    "\n",
    "3. Generative adversarial networks (GANs) and\n",
    "\n",
    "4. Diffusion models"
   ]
  },
  {
   "cell_type": "markdown",
   "id": "6892a009",
   "metadata": {},
   "source": [
    "## Energy models\n",
    "\n",
    "Let us define  a domain $\\boldsymbol{X}$ of stochastic variables $\\boldsymbol{X}= \\{x_0,x_1, \\dots , x_{n-1}\\}$ with a pertinent probability distribution"
   ]
  },
  {
   "cell_type": "markdown",
   "id": "319c9e82",
   "metadata": {},
   "source": [
    "$$\n",
    "p(\\boldsymbol{X})=\\prod_{x_i\\in \\boldsymbol{X}}p(x_i),\n",
    "$$"
   ]
  },
  {
   "cell_type": "markdown",
   "id": "bd17905f",
   "metadata": {},
   "source": [
    "where we have assumed that the random varaibles $x_i$ are all independent and identically distributed (iid).\n",
    "\n",
    "We will now assume that we can defined this function in terms of optimization parameters $\\boldsymbol{\\Theta}$, which could be the biases and weights of deep network, and a set of hidden variables we also assume to be random variables which also are iid. The domain of these variables is\n",
    "$\\boldsymbol{H}= \\{h_0,h_1, \\dots , h_{m-1}\\}$."
   ]
  },
  {
   "cell_type": "markdown",
   "id": "e1d07fe2",
   "metadata": {},
   "source": [
    "## Probability model\n",
    "\n",
    "We define a probability"
   ]
  },
  {
   "cell_type": "markdown",
   "id": "c1703afd",
   "metadata": {},
   "source": [
    "$$\n",
    "p(x_i,h_j;\\boldsymbol{\\Theta}) = \\frac{f(x_i,h_j;\\boldsymbol{\\Theta})}{Z(\\boldsymbol{\\Theta})},\n",
    "$$"
   ]
  },
  {
   "cell_type": "markdown",
   "id": "d9d247d9",
   "metadata": {},
   "source": [
    "where $f(x_i,h_j;\\boldsymbol{\\Theta})$ is a function which we assume is larger or\n",
    "equal than zero and obeys all properties required for a probability\n",
    "distribution and $Z(\\boldsymbol{\\Theta})$ is a normalization constant. Inspired by\n",
    "statistical mechanics, we call it often for the partition function.\n",
    "It is defined as (assuming that we have discrete probability distributions)"
   ]
  },
  {
   "cell_type": "markdown",
   "id": "b1cbcf2d",
   "metadata": {},
   "source": [
    "$$\n",
    "Z(\\boldsymbol{\\Theta})=\\sum_{x_i\\in \\boldsymbol{X}}\\sum_{h_j\\in \\boldsymbol{H}} f(x_i,h_j;\\boldsymbol{\\Theta}).\n",
    "$$"
   ]
  },
  {
   "cell_type": "markdown",
   "id": "c5d3ea81",
   "metadata": {},
   "source": [
    "## Marginal and conditional probabilities\n",
    "\n",
    "We can in turn define the marginal probabilities"
   ]
  },
  {
   "cell_type": "markdown",
   "id": "08507f20",
   "metadata": {},
   "source": [
    "$$\n",
    "p(x_i;\\boldsymbol{\\Theta}) = \\frac{\\sum_{h_j\\in \\boldsymbol{H}}f(x_i,h_j;\\boldsymbol{\\Theta})}{Z(\\boldsymbol{\\Theta})},\n",
    "$$"
   ]
  },
  {
   "cell_type": "markdown",
   "id": "563c38c0",
   "metadata": {},
   "source": [
    "and"
   ]
  },
  {
   "cell_type": "markdown",
   "id": "0e642356",
   "metadata": {},
   "source": [
    "$$\n",
    "p(h_i;\\boldsymbol{\\Theta}) = \\frac{\\sum_{x_i\\in \\boldsymbol{X}}f(x_i,h_j;\\boldsymbol{\\Theta})}{Z(\\boldsymbol{\\Theta})}.\n",
    "$$"
   ]
  },
  {
   "cell_type": "markdown",
   "id": "98b6a9d2",
   "metadata": {},
   "source": [
    "## Change of notation\n",
    "\n",
    "**Note the change to a vector notation**. A variable like $\\boldsymbol{x}$\n",
    "represents now a specific **configuration**. We can generate an infinity\n",
    "of such configurations. The final partition function is then the sum\n",
    "over all such possible configurations, that is"
   ]
  },
  {
   "cell_type": "markdown",
   "id": "17c92b43",
   "metadata": {},
   "source": [
    "$$\n",
    "Z(\\boldsymbol{\\Theta})=\\sum_{x_i\\in \\boldsymbol{X}}\\sum_{h_j\\in \\boldsymbol{H}} f(x_i,h_j;\\boldsymbol{\\Theta}),\n",
    "$$"
   ]
  },
  {
   "cell_type": "markdown",
   "id": "c64d4fdd",
   "metadata": {},
   "source": [
    "changes to"
   ]
  },
  {
   "cell_type": "markdown",
   "id": "0c4bbb5b",
   "metadata": {},
   "source": [
    "$$\n",
    "Z(\\boldsymbol{\\Theta})=\\sum_{\\boldsymbol{x}}\\sum_{\\boldsymbol{h}} f(\\boldsymbol{x},\\boldsymbol{h};\\boldsymbol{\\Theta}).\n",
    "$$"
   ]
  },
  {
   "cell_type": "markdown",
   "id": "6d3bd2fd",
   "metadata": {},
   "source": [
    "If we have a binary set of variable $x_i$ and $h_j$ and $M$ values of $x_i$ and $N$ values of $h_j$ we have in total $2^M$ and $2^N$ possible $\\boldsymbol{x}$ and $\\boldsymbol{h}$ configurations, respectively.\n",
    "\n",
    "We see that even for the modest binary case, we can easily approach a\n",
    "number of configuration which is not possible to deal with."
   ]
  },
  {
   "cell_type": "markdown",
   "id": "ce020096",
   "metadata": {},
   "source": [
    "## Optimization problem\n",
    "\n",
    "At the end, we are not interested in the probabilities of the hidden variables. The probability we thus want to optimize is"
   ]
  },
  {
   "cell_type": "markdown",
   "id": "129c810c",
   "metadata": {},
   "source": [
    "$$\n",
    "p(\\boldsymbol{X};\\boldsymbol{\\Theta})=\\prod_{x_i\\in \\boldsymbol{X}}p(x_i;\\boldsymbol{\\Theta})=\\prod_{x_i\\in \\boldsymbol{X}}\\left(\\frac{\\sum_{h_j\\in \\boldsymbol{H}}f(x_i,h_j;\\boldsymbol{\\Theta})}{Z(\\boldsymbol{\\Theta})}\\right),\n",
    "$$"
   ]
  },
  {
   "cell_type": "markdown",
   "id": "1f4e9ac9",
   "metadata": {},
   "source": [
    "which we rewrite as"
   ]
  },
  {
   "cell_type": "markdown",
   "id": "4e9ca2a5",
   "metadata": {},
   "source": [
    "$$\n",
    "p(\\boldsymbol{X};\\boldsymbol{\\Theta})=\\frac{1}{Z(\\boldsymbol{\\Theta})}\\prod_{x_i\\in \\boldsymbol{X}}\\left(\\sum_{h_j\\in \\boldsymbol{H}}f(x_i,h_j;\\boldsymbol{\\Theta})\\right).\n",
    "$$"
   ]
  },
  {
   "cell_type": "markdown",
   "id": "128a822b",
   "metadata": {},
   "source": [
    "## Further simplifications\n",
    "\n",
    "We simplify further by rewriting it as"
   ]
  },
  {
   "cell_type": "markdown",
   "id": "08113477",
   "metadata": {},
   "source": [
    "$$\n",
    "p(\\boldsymbol{X};\\boldsymbol{\\Theta})=\\frac{1}{Z(\\boldsymbol{\\Theta})}\\prod_{x_i\\in \\boldsymbol{X}}f(x_i;\\boldsymbol{\\Theta}),\n",
    "$$"
   ]
  },
  {
   "cell_type": "markdown",
   "id": "177267e3",
   "metadata": {},
   "source": [
    "where we used $p(x_i;\\boldsymbol{\\Theta}) = \\sum_{h_j\\in \\boldsymbol{H}}f(x_i,h_j;\\boldsymbol{\\Theta})$.\n",
    "The optimization problem is then"
   ]
  },
  {
   "cell_type": "markdown",
   "id": "bce9c052",
   "metadata": {},
   "source": [
    "$$\n",
    "{\\displaystyle \\mathrm{arg} \\hspace{0.1cm}\\max_{\\boldsymbol{\\boldsymbol{\\Theta}}\\in {\\mathbb{R}}^{p}}} \\hspace{0.1cm}p(\\boldsymbol{X};\\boldsymbol{\\Theta}).\n",
    "$$"
   ]
  },
  {
   "cell_type": "markdown",
   "id": "b5e8f7d4",
   "metadata": {},
   "source": [
    "## Optimizing the logarithm instead\n",
    "\n",
    "Computing the derivatives with respect to the parameters $\\boldsymbol{\\Theta}$ is\n",
    "easier (and equivalent) with taking the logarithm of the\n",
    "probability. We will thus optimize"
   ]
  },
  {
   "cell_type": "markdown",
   "id": "372abe64",
   "metadata": {},
   "source": [
    "$$\n",
    "{\\displaystyle \\mathrm{arg} \\hspace{0.1cm}\\max_{\\boldsymbol{\\boldsymbol{\\Theta}}\\in {\\mathbb{R}}^{p}}} \\hspace{0.1cm}\\log{p(\\boldsymbol{X};\\boldsymbol{\\Theta})},\n",
    "$$"
   ]
  },
  {
   "cell_type": "markdown",
   "id": "44eadae7",
   "metadata": {},
   "source": [
    "which leads to"
   ]
  },
  {
   "cell_type": "markdown",
   "id": "f937d1d5",
   "metadata": {},
   "source": [
    "$$\n",
    "\\nabla_{\\boldsymbol{\\Theta}}\\log{p(\\boldsymbol{X};\\boldsymbol{\\Theta})}=0.\n",
    "$$"
   ]
  },
  {
   "cell_type": "markdown",
   "id": "5ea226c8",
   "metadata": {},
   "source": [
    "## Expression for the gradients\n",
    "This leads to the following equation"
   ]
  },
  {
   "cell_type": "markdown",
   "id": "8da55618",
   "metadata": {},
   "source": [
    "$$\n",
    "\\nabla_{\\boldsymbol{\\Theta}}\\log{p(\\boldsymbol{X};\\boldsymbol{\\Theta})}=\\nabla_{\\boldsymbol{\\Theta}}\\left(\\sum_{x_i\\in \\boldsymbol{X}}\\log{f(x_i;\\boldsymbol{\\Theta})}\\right)-\\nabla_{\\boldsymbol{\\Theta}}\\log{Z(\\boldsymbol{\\Theta})}=0.\n",
    "$$"
   ]
  },
  {
   "cell_type": "markdown",
   "id": "ae6379e7",
   "metadata": {},
   "source": [
    "The first term is called the positive phase and we assume that we have a model for the function $f$ from which we can sample values. Below we will develop an explicit model for this.\n",
    "The second term is called the negative phase and is the one which leads to more difficulties."
   ]
  },
  {
   "cell_type": "markdown",
   "id": "7df5a93f",
   "metadata": {},
   "source": [
    "## The derivative of the partition function\n",
    "\n",
    "The partition function, defined above as"
   ]
  },
  {
   "cell_type": "markdown",
   "id": "d98efa27",
   "metadata": {},
   "source": [
    "$$\n",
    "Z(\\boldsymbol{\\Theta})=\\sum_{x_i\\in \\boldsymbol{X}}\\sum_{h_j\\in \\boldsymbol{H}} f(x_i,h_j;\\boldsymbol{\\Theta}),\n",
    "$$"
   ]
  },
  {
   "cell_type": "markdown",
   "id": "e0b176a7",
   "metadata": {},
   "source": [
    "is in general the most problematic term. In principle both $x$ and $h$ can span large degrees of freedom, if not even infinitely many ones, and computing the partition function itself is often not desirable or even feasible. The above derivative of the partition function can however be written in terms of an expectation value which is in turn evaluated  using Monte Carlo sampling and the theory of Markov chains, popularly shortened to MCMC (or just MC$^2$)."
   ]
  },
  {
   "cell_type": "markdown",
   "id": "9dbdeca5",
   "metadata": {},
   "source": [
    "## Explicit expression for the derivative\n",
    "We can rewrite"
   ]
  },
  {
   "cell_type": "markdown",
   "id": "99306e81",
   "metadata": {},
   "source": [
    "$$\n",
    "\\nabla_{\\boldsymbol{\\Theta}}\\log{Z(\\boldsymbol{\\Theta})}=\\frac{\\nabla_{\\boldsymbol{\\Theta}}Z(\\boldsymbol{\\Theta})}{Z(\\boldsymbol{\\Theta})},\n",
    "$$"
   ]
  },
  {
   "cell_type": "markdown",
   "id": "13282fec",
   "metadata": {},
   "source": [
    "which reads in more detail"
   ]
  },
  {
   "cell_type": "markdown",
   "id": "fbda4723",
   "metadata": {},
   "source": [
    "$$\n",
    "\\nabla_{\\boldsymbol{\\Theta}}\\log{Z(\\boldsymbol{\\Theta})}=\\frac{\\nabla_{\\boldsymbol{\\Theta}} \\sum_{x_i\\in \\boldsymbol{X}}f(x_i;\\boldsymbol{\\Theta})   }{Z(\\boldsymbol{\\Theta})}.\n",
    "$$"
   ]
  },
  {
   "cell_type": "markdown",
   "id": "affce7ac",
   "metadata": {},
   "source": [
    "We can rewrite the function $f$ (we have assumed that is larger or\n",
    "equal than zero) as $f=\\exp{\\log{f}}$. We can then reqrite the last\n",
    "equation as"
   ]
  },
  {
   "cell_type": "markdown",
   "id": "6fd60047",
   "metadata": {},
   "source": [
    "$$\n",
    "\\nabla_{\\boldsymbol{\\Theta}}\\log{Z(\\boldsymbol{\\Theta})}=\\frac{ \\sum_{x_i\\in \\boldsymbol{X}} \\nabla_{\\boldsymbol{\\Theta}}\\exp{\\log{f(x_i;\\boldsymbol{\\Theta})}}   }{Z(\\boldsymbol{\\Theta})}.\n",
    "$$"
   ]
  },
  {
   "cell_type": "markdown",
   "id": "20892ecb",
   "metadata": {},
   "source": [
    "## Final expression\n",
    "\n",
    "Taking the derivative gives us"
   ]
  },
  {
   "cell_type": "markdown",
   "id": "d395c1c5",
   "metadata": {},
   "source": [
    "$$\n",
    "\\nabla_{\\boldsymbol{\\Theta}}\\log{Z(\\boldsymbol{\\Theta})}=\\frac{ \\sum_{x_i\\in \\boldsymbol{X}}f(x_i;\\boldsymbol{\\Theta}) \\nabla_{\\boldsymbol{\\Theta}}\\log{f(x_i;\\boldsymbol{\\Theta})}   }{Z(\\boldsymbol{\\Theta})},\n",
    "$$"
   ]
  },
  {
   "cell_type": "markdown",
   "id": "5861f8b7",
   "metadata": {},
   "source": [
    "which is the expectation value of $\\log{f}$"
   ]
  },
  {
   "cell_type": "markdown",
   "id": "a728be16",
   "metadata": {},
   "source": [
    "$$\n",
    "\\nabla_{\\boldsymbol{\\Theta}}\\log{Z(\\boldsymbol{\\Theta})}=\\sum_{x_i\\in \\boldsymbol{X}}p(x_i;\\boldsymbol{\\Theta}) \\nabla_{\\boldsymbol{\\Theta}}\\log{f(x_i;\\boldsymbol{\\Theta})},\n",
    "$$"
   ]
  },
  {
   "cell_type": "markdown",
   "id": "aab77fef",
   "metadata": {},
   "source": [
    "that is"
   ]
  },
  {
   "cell_type": "markdown",
   "id": "af64b488",
   "metadata": {},
   "source": [
    "$$\n",
    "\\nabla_{\\boldsymbol{\\Theta}}\\log{Z(\\boldsymbol{\\Theta})}=\\mathbb{E}(\\log{f(x_i;\\boldsymbol{\\Theta})}).\n",
    "$$"
   ]
  },
  {
   "cell_type": "markdown",
   "id": "cd77f30d",
   "metadata": {},
   "source": [
    "This quantity is evaluated using Monte Carlo sampling, with Gibbs\n",
    "sampling as the standard sampling rule.  Before we discuss the\n",
    "explicit algorithms, we need to remind ourselves about Markov chains\n",
    "and sampling rules like the Metropolis-Hastings algorithm and Gibbs\n",
    "sampling."
   ]
  },
  {
   "cell_type": "markdown",
   "id": "05e68fd2",
   "metadata": {},
   "source": [
    "## Introducing the energy model\n",
    "\n",
    "As we will see below, a typical Boltzmann machines employs a probability distribution"
   ]
  },
  {
   "cell_type": "markdown",
   "id": "f783472c",
   "metadata": {},
   "source": [
    "$$\n",
    "p(\\boldsymbol{x},\\boldsymbol{h};\\boldsymbol{\\Theta}) = \\frac{f(\\boldsymbol{x},\\boldsymbol{h};\\boldsymbol{\\Theta})}{Z(\\boldsymbol{\\Theta})},\n",
    "$$"
   ]
  },
  {
   "cell_type": "markdown",
   "id": "314c832d",
   "metadata": {},
   "source": [
    "where $f(\\boldsymbol{x},\\boldsymbol{h};\\boldsymbol{\\Theta})$ is given by a so-called energy model. If we assume that the random variables $x_i$ and $h_j$ take binary values only, for example $x_i,h_j=\\{0,1\\}$, we have a so-called binary-binary model where"
   ]
  },
  {
   "cell_type": "markdown",
   "id": "d77a41b0",
   "metadata": {},
   "source": [
    "$$\n",
    "f(\\boldsymbol{x},\\boldsymbol{h};\\boldsymbol{\\Theta})=-E(\\boldsymbol{x}, \\boldsymbol{h};\\boldsymbol{\\Theta}) = \\sum_{x_i\\in \\boldsymbol{X}} x_i a_i+\\sum_{h_j\\in \\boldsymbol{H}} b_j h_j + \\sum_{x_i\\in \\boldsymbol{X},h_j\\in\\boldsymbol{H}} x_i w_{ij} h_j,\n",
    "$$"
   ]
  },
  {
   "cell_type": "markdown",
   "id": "967ee39a",
   "metadata": {},
   "source": [
    "where the set of parameters are given by the biases and weights $\\boldsymbol{\\Theta}=\\{\\boldsymbol{a},\\boldsymbol{b},\\boldsymbol{W}\\}$.\n",
    "**Note the vector notation** instead of $x_i$ and $h_j$ for $f$. The vectors $\\boldsymbol{x}$ and $\\boldsymbol{h}$ represent a specific instance of stochastic variables $x_i$ and $h_j$. These arrangements of $\\boldsymbol{x}$ and $\\boldsymbol{h}$ lead to a specific energy configuration."
   ]
  },
  {
   "cell_type": "markdown",
   "id": "2b7a306a",
   "metadata": {},
   "source": [
    "## More compact notation\n",
    "\n",
    "With the above definition we can write the probability as"
   ]
  },
  {
   "cell_type": "markdown",
   "id": "5004c184",
   "metadata": {},
   "source": [
    "$$\n",
    "p(\\boldsymbol{x},\\boldsymbol{h};\\boldsymbol{\\Theta}) = \\frac{\\exp{(\\boldsymbol{a}^T\\boldsymbol{x}+\\boldsymbol{b}^T\\boldsymbol{h}+\\boldsymbol{x}^T\\boldsymbol{W}\\boldsymbol{h})}}{Z(\\boldsymbol{\\Theta})},\n",
    "$$"
   ]
  },
  {
   "cell_type": "markdown",
   "id": "912cb58d",
   "metadata": {},
   "source": [
    "where the biases $\\boldsymbol{a}$ and $\\boldsymbol{h}$ and the weights defined by the matrix $\\boldsymbol{W}$ are the parameters we need to optimize."
   ]
  },
  {
   "cell_type": "markdown",
   "id": "431e7223",
   "metadata": {},
   "source": [
    "## Anticipating results to be derived\n",
    "\n",
    "Since the binary-binary energy model is linear in the parameters $a_i$, $b_j$ and\n",
    "$w_{ij}$, it is easy to see that the derivatives with respect to the\n",
    "various optimization parameters yield expressions used in the\n",
    "evaluation of gradients like"
   ]
  },
  {
   "cell_type": "markdown",
   "id": "8fb3f970",
   "metadata": {},
   "source": [
    "$$\n",
    "\\frac{\\partial E(\\boldsymbol{x}, \\boldsymbol{h};\\boldsymbol{\\Theta})}{\\partial w_{ij}}=-x_ih_j,\n",
    "$$"
   ]
  },
  {
   "cell_type": "markdown",
   "id": "48e87e73",
   "metadata": {},
   "source": [
    "and"
   ]
  },
  {
   "cell_type": "markdown",
   "id": "9c5d1cae",
   "metadata": {},
   "source": [
    "$$\n",
    "\\frac{\\partial E(\\boldsymbol{x}, \\boldsymbol{h};\\boldsymbol{\\Theta})}{\\partial a_i}=-x_i,\n",
    "$$"
   ]
  },
  {
   "cell_type": "markdown",
   "id": "ff8734e4",
   "metadata": {},
   "source": [
    "and"
   ]
  },
  {
   "cell_type": "markdown",
   "id": "ba99b381",
   "metadata": {},
   "source": [
    "$$\n",
    "\\frac{\\partial E(\\boldsymbol{x}, \\boldsymbol{h};\\boldsymbol{\\Theta})}{\\partial b_j}=-h_j.\n",
    "$$"
   ]
  },
  {
   "cell_type": "markdown",
   "id": "cc7aa7bc",
   "metadata": {},
   "source": [
    "## Basics of the Boltzmann machine\n",
    "A BM is what we would call an undirected probabilistic graphical model\n",
    "with stochastic continuous or discrete units.\n",
    "\n",
    "It is interpreted as a stochastic recurrent neural network where the\n",
    "state of each unit(neurons/nodes) depends on the units it is connected\n",
    "to. The weights in the network represent thus the strength of the\n",
    "interaction between various units/nodes."
   ]
  },
  {
   "cell_type": "markdown",
   "id": "0da6bd57",
   "metadata": {},
   "source": [
    "## More about the basics\n",
    "A standard BM network is divided into a set of observable and visible units $\\boldsymbol{x}$ and a set of unknown hidden units/nodes $\\boldsymbol{h}$.\n",
    "\n",
    "Additionally there can be bias nodes for the hidden and visible layers. These biases are normally set to $1$.\n",
    "\n",
    "BMs are stackable, meaning they cwe can train a BM which serves as input to another BM. We can construct deep networks for learning complex PDFs. The layers can be trained one after another, a feature which makes them popular in deep learning"
   ]
  },
  {
   "cell_type": "markdown",
   "id": "60bbbc0e",
   "metadata": {},
   "source": [
    "## Difficult to train\n",
    "\n",
    "However, they are often hard to train. This leads to the introduction\n",
    "of so-called restricted BMs, or RBMS.  Here we take away all lateral\n",
    "connections between nodes in the visible layer as well as connections\n",
    "between nodes in the hidden layer."
   ]
  },
  {
   "cell_type": "markdown",
   "id": "4d175630",
   "metadata": {},
   "source": [
    "## The network layers\n",
    "\n",
    "1. A function $\\boldsymbol{x}$ that represents the visible layer, a vector of $M$ elements (nodes). This layer represents both what the RBM might be given as training input, and what we want it to be able to reconstruct. This might for example be the pixels of an image, the spin values of the Ising model, or coefficients representing speech.\n",
    "\n",
    "2. The function $\\boldsymbol{h}$ represents the hidden, or latent, layer. A vector of $N$ elements (nodes). Also called \"feature detectors\"."
   ]
  },
  {
   "cell_type": "markdown",
   "id": "d11c78ca",
   "metadata": {},
   "source": [
    "## Goal of hidden layer\n",
    "\n",
    "The goal of the hidden layer is to increase the model's expressive\n",
    "power. We encode complex interactions between visible variables by\n",
    "introducing additional, hidden variables that interact with visible\n",
    "degrees of freedom in a simple manner, yet still reproduce the complex\n",
    "correlations between visible degrees in the data once marginalized\n",
    "over (integrated out)."
   ]
  },
  {
   "cell_type": "markdown",
   "id": "acea03da",
   "metadata": {},
   "source": [
    "## The parameters\n",
    "\n",
    "The network parameters, to be optimized/learned:\n",
    "1. $\\boldsymbol{a}$ represents the visible bias, a vector of same length $M$ as $\\boldsymbol{x}$.\n",
    "\n",
    "2. $\\boldsymbol{b}$ represents the hidden bias, a vector of same length $N$  as $\\boldsymbol{h}$.\n",
    "\n",
    "3. $\\boldsymbol{W}$ represents the interaction weights, a matrix of size $M\\times N$.\n",
    "\n",
    "Note that we have specified the lengths of $bm{x}$ and $\\boldsymbol{h}$. These\n",
    "lengths define the number of visible and hidden units, respectively."
   ]
  },
  {
   "cell_type": "markdown",
   "id": "283cbfe1",
   "metadata": {},
   "source": [
    "## Joint distribution\n",
    "\n",
    "The restricted Boltzmann machine is described by a Boltzmann distribution"
   ]
  },
  {
   "cell_type": "markdown",
   "id": "c0bd20e4",
   "metadata": {},
   "source": [
    "$$\n",
    "\\begin{align*}\n",
    "\tP_{rbm}(\\boldsymbol{x},\\boldsymbol{h},\\boldsymbol{\\Theta}) = \\frac{1}{Z(\\boldsymbol{\\Theta})} \\exp{-(E(\\boldsymbol{x},\\boldsymbol{h},\\boldsymbol{\\Theta}))},\n",
    "\\end{align*}\n",
    "$$"
   ]
  },
  {
   "cell_type": "markdown",
   "id": "cc0ca9df",
   "metadata": {},
   "source": [
    "where $Z$ is the normalization constant or partition function discussed earlier and defined as"
   ]
  },
  {
   "cell_type": "markdown",
   "id": "5362c0c8",
   "metadata": {},
   "source": [
    "$$\n",
    "\\begin{align*}\n",
    "\tZ(\\boldsymbol{\\Theta}) = \\int \\int \\exp{-E(\\boldsymbol{x},\\boldsymbol{h},\\boldsymbol{\\Theta})} d\\boldsymbol{x} d\\boldsymbol{h}.\n",
    "\\end{align*}\n",
    "$$"
   ]
  },
  {
   "cell_type": "markdown",
   "id": "2b4d0852",
   "metadata": {},
   "source": [
    "It is common to set  the temperature $T$ to one. It is omitted in the equations above. The energy is thus a dimensionless function."
   ]
  },
  {
   "cell_type": "markdown",
   "id": "a21033fa",
   "metadata": {},
   "source": [
    "## Network Elements, the energy function\n",
    "\n",
    "The function $E(\\boldsymbol{x},\\boldsymbol{h},\\boldsymbol{\\Theta})$ gives the **energy** of a\n",
    "configuration (pair of vectors) $(\\boldsymbol{x}, \\boldsymbol{h})$. The lower\n",
    "the energy of a configuration, the higher the probability of it. This\n",
    "function also depends on the parameters $\\boldsymbol{a}$, $\\boldsymbol{b}$ and\n",
    "$W$. Thus, when we adjust them during the learning procedure, we are\n",
    "adjusting the energy function to best fit our problem."
   ]
  },
  {
   "cell_type": "markdown",
   "id": "6ee3ae8a",
   "metadata": {},
   "source": [
    "## Defining different types of RBMs\n",
    "\n",
    "There are different variants of RBMs, and the differences lie in the types of visible and hidden units we choose as well as in the implementation of the energy function $E(\\boldsymbol{x},\\boldsymbol{h},\\boldsymbol{\\Theta})$. The connection between the nodes in the two layers is given by the weights $w_{ij}$. \n",
    "\n",
    "**Binary-Binary RBM:**\n",
    "\n",
    "RBMs were first developed using binary units in both the visible and hidden layer. The corresponding energy function is defined as follows:"
   ]
  },
  {
   "cell_type": "markdown",
   "id": "47e8ee04",
   "metadata": {},
   "source": [
    "$$\n",
    "\\begin{align*}\n",
    "\tE(\\boldsymbol{x}, \\boldsymbol{h},\\boldsymbol{\\Theta}) = - \\sum_i^M x_i a_i- \\sum_j^N b_j h_j - \\sum_{i,j}^{M,N} x_i w_{ij} h_j,\n",
    "\\end{align*}\n",
    "$$"
   ]
  },
  {
   "cell_type": "markdown",
   "id": "f1781894",
   "metadata": {},
   "source": [
    "where the binary values taken on by the nodes are most commonly 0 and 1."
   ]
  },
  {
   "cell_type": "markdown",
   "id": "fc01d510",
   "metadata": {},
   "source": [
    "## Gaussian-binary RBM\n",
    "\n",
    "Another varient is the RBM where the visible units are Gaussian while the hidden units remain binary:"
   ]
  },
  {
   "cell_type": "markdown",
   "id": "3d22d722",
   "metadata": {},
   "source": [
    "$$\n",
    "\\begin{align*}\n",
    "\tE(\\boldsymbol{x}, \\boldsymbol{h},\\boldsymbol{\\Theta}) = \\sum_i^M \\frac{(x_i - a_i)^2}{2\\sigma_i^2} - \\sum_j^N b_j h_j - \\sum_{i,j}^{M,N} \\frac{x_i w_{ij} h_j}{\\sigma_i^2}. \n",
    "\\end{align*}\n",
    "$$"
   ]
  },
  {
   "cell_type": "markdown",
   "id": "b75fb74c",
   "metadata": {},
   "source": [
    "This type of RBMs are useful when we model continuous data (i.e., we wish $\\boldsymbol{x}$ to be continuous). The paramater $\\sigma_i^2$ is meant to represent a variance and is foten just set to one."
   ]
  },
  {
   "cell_type": "markdown",
   "id": "08fc971e",
   "metadata": {},
   "source": [
    "## Energy-based models and Langevin sampling\n",
    "\n",
    "See discussions in Foster, chapter 7 on energy-based models at <https://github.com/davidADSP/Generative_Deep_Learning_2nd_Edition/tree/main/notebooks/07_ebm/01_ebm>\n",
    "\n",
    "That notebook is based on a recent article by Du and Mordatch, **Implicit generation and modeling with energy-based models**, see <https://arxiv.org/pdf/1903.08689.pdf.>"
   ]
  },
  {
   "cell_type": "markdown",
   "id": "77d7aeb9",
   "metadata": {},
   "source": [
    "## Tensor-flow examples\n",
    "\n",
    "1. To create Boltzmann machine using Keras, see Babcock and Bali chapter 4, see <https://github.com/PacktPublishing/Hands-On-Generative-AI-with-Python-and-TensorFlow-2/blob/master/Chapter_4/models/rbm.py>\n",
    "\n",
    "2. See also Foster, chapter 7 on energy-based models at <https://github.com/davidADSP/Generative_Deep_Learning_2nd_Edition/tree/main/notebooks/07_ebm/01_ebm>"
   ]
  },
  {
   "cell_type": "markdown",
   "id": "daeb13a7",
   "metadata": {},
   "source": [
    "## [Efficient solutions of fermionic systems using artificial neural networks, Nordhagen et al, Frontiers in Physics 11, 2023](https://doi.org/10.3389/fphy.2023.1061580)\n",
    "\n",
    "The Hamiltonian of the quantum dot is given by"
   ]
  },
  {
   "cell_type": "markdown",
   "id": "7cb6650a",
   "metadata": {},
   "source": [
    "$$\n",
    "\\hat{H} = \\hat{H}_0 + \\hat{V},\n",
    "$$"
   ]
  },
  {
   "cell_type": "markdown",
   "id": "ae435a7d",
   "metadata": {},
   "source": [
    "where $\\hat{H}_0$ is the many-body HO Hamiltonian, and $\\hat{V}$ is the\n",
    "inter-electron Coulomb interactions. In dimensionless units,"
   ]
  },
  {
   "cell_type": "markdown",
   "id": "f57ae958",
   "metadata": {},
   "source": [
    "$$\n",
    "\\hat{V}= \\sum_{i < j}^N \\frac{1}{r_{ij}},\n",
    "$$"
   ]
  },
  {
   "cell_type": "markdown",
   "id": "836054ad",
   "metadata": {},
   "source": [
    "with $r_{ij}=\\sqrt{\\mathbf{r}_i^2 - \\mathbf{r}_j^2}$.\n",
    "\n",
    "Separable Hamiltonian with the relative motion part ($r_{ij}=r$)"
   ]
  },
  {
   "cell_type": "markdown",
   "id": "53512722",
   "metadata": {},
   "source": [
    "$$\n",
    "\\hat{H}_r=-\\nabla^2_r + \\frac{1}{4}\\omega^2r^2+ \\frac{1}{r},\n",
    "$$"
   ]
  },
  {
   "cell_type": "markdown",
   "id": "9ac7f22a",
   "metadata": {},
   "source": [
    "Analytical solutions in two and three dimensions ([M. Taut 1993 and 1994](https://journals.aps.org/pra/abstract/10.1103/PhysRevA.48.3561))."
   ]
  },
  {
   "cell_type": "markdown",
   "id": "61f9b223",
   "metadata": {},
   "source": [
    "## The structure of the RBM network\n",
    "\n",
    "<!-- dom:FIGURE: [figures/RBM.png, width=800 frac=1.0] -->\n",
    "<!-- begin figure -->\n",
    "\n",
    "<img src=\"figures/RBM.png\" width=\"800\"><p style=\"font-size: 0.9em\"><i>Figure 1: </i></p>\n",
    "<!-- end figure -->"
   ]
  },
  {
   "cell_type": "markdown",
   "id": "94ac7eed",
   "metadata": {},
   "source": [
    "## The network\n",
    "\n",
    "**The network layers**:\n",
    "1. A function $\\boldsymbol{x}$ that represents the visible layer, a vector of $M$ elements (nodes). This layer represents both what the RBM might be given as training input, and what we want it to be able to reconstruct. This might for example be the pixels of an image, the spin values of the Ising model, or coefficients representing speech.\n",
    "\n",
    "2. The function $\\boldsymbol{h}$ represents the hidden, or latent, layer. A vector of $N$ elements (nodes). Also called \"feature detectors\"."
   ]
  },
  {
   "cell_type": "markdown",
   "id": "0717fc17",
   "metadata": {},
   "source": [
    "## Goals\n",
    "\n",
    "The goal of the hidden layer is to increase the model's expressive\n",
    "power. We encode complex interactions between visible variables by\n",
    "introducing additional, hidden variables that interact with visible\n",
    "degrees of freedom in a simple manner, yet still reproduce the complex\n",
    "correlations between visible degrees in the data once marginalized\n",
    "over (integrated out).\n",
    "\n",
    "**The network parameters, to be optimized/learned**:\n",
    "1. $\\boldsymbol{a}$ represents the visible bias, a vector of same length as $\\boldsymbol{x}$.\n",
    "\n",
    "2. $\\boldsymbol{b}$ represents the hidden bias, a vector of same lenght as $\\boldsymbol{h}$.\n",
    "\n",
    "3. $W$ represents the interaction weights, a matrix of size $M\\times N$."
   ]
  },
  {
   "cell_type": "markdown",
   "id": "c56fe98d",
   "metadata": {},
   "source": [
    "## Joint distribution\n",
    "The restricted Boltzmann machine is described by a Bolztmann distribution"
   ]
  },
  {
   "cell_type": "markdown",
   "id": "d80ea1d4",
   "metadata": {},
   "source": [
    "$$\n",
    "P_{\\mathrm{rbm}}(\\boldsymbol{x},\\boldsymbol{h}) = \\frac{1}{Z} \\exp{-E(\\boldsymbol{x},\\boldsymbol{h})},\n",
    "$$"
   ]
  },
  {
   "cell_type": "markdown",
   "id": "0875d87f",
   "metadata": {},
   "source": [
    "where $Z$ is the normalization constant or partition function, defined as"
   ]
  },
  {
   "cell_type": "markdown",
   "id": "9ceba3f7",
   "metadata": {},
   "source": [
    "$$\n",
    "Z = \\int \\int \\exp{-E(\\boldsymbol{x},\\boldsymbol{h})} d\\boldsymbol{x} d\\boldsymbol{h}.\n",
    "$$"
   ]
  },
  {
   "cell_type": "markdown",
   "id": "7f40fab6",
   "metadata": {},
   "source": [
    "Note the absence of the inverse temperature in these equations."
   ]
  },
  {
   "cell_type": "markdown",
   "id": "ac016192",
   "metadata": {},
   "source": [
    "## Network Elements, the energy function\n",
    "\n",
    "The function $E(\\boldsymbol{x},\\boldsymbol{h})$ gives the **energy** of a\n",
    "configuration (pair of vectors) $(\\boldsymbol{x}, \\boldsymbol{h})$. The lower\n",
    "the energy of a configuration, the higher the probability of it. This\n",
    "function also depends on the parameters $\\boldsymbol{a}$, $\\boldsymbol{b}$ and\n",
    "$W$. Thus, when we adjust them during the learning procedure, we are\n",
    "adjusting the energy function to best fit our problem."
   ]
  },
  {
   "cell_type": "markdown",
   "id": "49ff98d9",
   "metadata": {},
   "source": [
    "## Defining different types of RBMs (Energy based models)\n",
    "\n",
    "There are different variants of RBMs, and the differences lie in the types of visible and hidden units we choose as well as in the implementation of the energy function $E(\\boldsymbol{x},\\boldsymbol{h})$. The connection between the nodes in the two layers is given by the weights $w_{ij}$. \n",
    "\n",
    "**Binary-Binary RBM:**\n",
    "\n",
    "RBMs were first developed using binary units in both the visible and hidden layer. The corresponding energy function is defined as follows:"
   ]
  },
  {
   "cell_type": "markdown",
   "id": "7288d35b",
   "metadata": {},
   "source": [
    "$$\n",
    "E(\\boldsymbol{x}, \\boldsymbol{h}) = - \\sum_i^M x_i a_i- \\sum_j^N b_j h_j - \\sum_{i,j}^{M,N} x_i w_{ij} h_j,\n",
    "$$"
   ]
  },
  {
   "cell_type": "markdown",
   "id": "831469b9",
   "metadata": {},
   "source": [
    "where the binary values taken on by the nodes are most commonly 0 and 1."
   ]
  },
  {
   "cell_type": "markdown",
   "id": "ad452c2f",
   "metadata": {},
   "source": [
    "## Gaussian binary\n",
    "\n",
    "**Gaussian-Binary RBM:**\n",
    "\n",
    "Another varient is the RBM where the visible units are Gaussian while the hidden units remain binary:"
   ]
  },
  {
   "cell_type": "markdown",
   "id": "63cff9dd",
   "metadata": {},
   "source": [
    "$$\n",
    "E(\\boldsymbol{x}, \\boldsymbol{h}) = \\sum_i^M \\frac{(x_i - a_i)^2}{2\\sigma_i^2} - \\sum_j^N b_j h_j - \\sum_{i,j}^{M,N} \\frac{x_i w_{ij} h_j}{\\sigma_i^2}.\n",
    "$$"
   ]
  },
  {
   "cell_type": "markdown",
   "id": "14506e9c",
   "metadata": {},
   "source": [
    "## Representing the wave function\n",
    "\n",
    "The wavefunction should be a probability amplitude depending on\n",
    " $\\boldsymbol{x}$. The RBM model is given by the joint distribution of\n",
    " $\\boldsymbol{x}$ and $\\boldsymbol{h}$"
   ]
  },
  {
   "cell_type": "markdown",
   "id": "864c56ae",
   "metadata": {},
   "source": [
    "$$\n",
    "P_{\\mathrm{rbm}}(\\boldsymbol{x},\\boldsymbol{h}) = \\frac{1}{Z} \\exp{-E(\\boldsymbol{x},\\boldsymbol{h})}.\n",
    "$$"
   ]
  },
  {
   "cell_type": "markdown",
   "id": "c6239e92",
   "metadata": {},
   "source": [
    "To find the marginal distribution of $\\boldsymbol{x}$ we set:"
   ]
  },
  {
   "cell_type": "markdown",
   "id": "f45b522f",
   "metadata": {},
   "source": [
    "$$\n",
    "P_{\\mathrm{rbm}}(\\boldsymbol{x}) =\\frac{1}{Z}\\sum_{\\boldsymbol{h}} \\exp{-E(\\boldsymbol{x}, \\boldsymbol{h})}.\n",
    "$$"
   ]
  },
  {
   "cell_type": "markdown",
   "id": "5b79f8ab",
   "metadata": {},
   "source": [
    "Now this is what we use to represent the wave function, calling it a neural-network quantum state (NQS)"
   ]
  },
  {
   "cell_type": "markdown",
   "id": "a204c8b3",
   "metadata": {},
   "source": [
    "$$\n",
    "\\vert\\Psi (\\boldsymbol{X})\\vert^2 = P_{\\mathrm{rbm}}(\\boldsymbol{x}).\n",
    "$$"
   ]
  },
  {
   "cell_type": "markdown",
   "id": "f64ae949",
   "metadata": {},
   "source": [
    "## Define the cost function\n",
    "\n",
    "Now we don't necessarily have training data (unless we generate it by\n",
    "using some other method). However, what we do have is the variational\n",
    "principle which allows us to obtain the ground state wave function by\n",
    "minimizing the expectation value of the energy of a trial wavefunction\n",
    "(corresponding to the untrained NQS). Similarly to the traditional\n",
    "variational Monte Carlo method then, it is the local energy we wish to\n",
    "minimize. The gradient to use for the stochastic gradient descent\n",
    "procedure is"
   ]
  },
  {
   "cell_type": "markdown",
   "id": "e5b149a5",
   "metadata": {},
   "source": [
    "$$\n",
    "C_i = \\frac{\\partial \\langle E_L \\rangle}{\\partial \\theta_i}\n",
    "\t= 2(\\langle E_L \\frac{1}{\\Psi}\\frac{\\partial \\Psi}{\\partial \\theta_i} \\rangle - \\langle E_L \\rangle \\langle \\frac{1}{\\Psi}\\frac{\\partial \\Psi}{\\partial \\theta_i} \\rangle ),\n",
    "$$"
   ]
  },
  {
   "cell_type": "markdown",
   "id": "09f23b22",
   "metadata": {},
   "source": [
    "where the local energy is given by"
   ]
  },
  {
   "cell_type": "markdown",
   "id": "8a78c68c",
   "metadata": {},
   "source": [
    "$$\n",
    "E_L = \\frac{1}{\\Psi} \\hat{\\boldsymbol{H}} \\Psi.\n",
    "$$"
   ]
  },
  {
   "cell_type": "markdown",
   "id": "400614dc",
   "metadata": {},
   "source": [
    "## Quantum dots and Boltzmann machines, onebody densities $N=6$, $\\hbar\\omega=0.1$ a.u.\n",
    "\n",
    "<!-- dom:FIGURE: [figures/OB6hw01.png, width=700 frac=0.9] -->\n",
    "<!-- begin figure -->\n",
    "\n",
    "<img src=\"figures/OB6hw01.png\" width=\"700\"><p style=\"font-size: 0.9em\"><i>Figure 1: </i></p>\n",
    "<!-- end figure -->"
   ]
  },
  {
   "cell_type": "markdown",
   "id": "86f7cf02",
   "metadata": {},
   "source": [
    "## Onebody densities $N=30$, $\\hbar\\omega=1.0$ a.u.\n",
    "<!-- dom:FIGURE: [figures/OB30hw1.png, width=700 frac=0.9] -->\n",
    "<!-- begin figure -->\n",
    "\n",
    "<img src=\"figures/OB30hw1.png\" width=\"700\"><p style=\"font-size: 0.9em\"><i>Figure 1: </i></p>\n",
    "<!-- end figure -->"
   ]
  },
  {
   "cell_type": "markdown",
   "id": "dde7b686",
   "metadata": {},
   "source": [
    "## Expectation values as functions of the oscillator frequency\n",
    "\n",
    "<!-- dom:FIGURE: [figures/virialtheorem.png, width=700 frac=0.9] -->\n",
    "<!-- begin figure -->\n",
    "\n",
    "<img src=\"figures/virialtheorem.png\" width=\"700\"><p style=\"font-size: 0.9em\"><i>Figure 1: </i></p>\n",
    "<!-- end figure -->"
   ]
  },
  {
   "cell_type": "markdown",
   "id": "b2dea60e",
   "metadata": {},
   "source": [
    "## Cost function\n",
    "\n",
    "When working with a training dataset, the most common training\n",
    "approach is maximizing the log-likelihood of the training data. The\n",
    "log likelihood characterizes the log-probability of generating the\n",
    "observed data using our generative model. Using this method our cost\n",
    "function is chosen as the negative log-likelihood. The learning then\n",
    "consists of trying to find parameters that maximize the probability of\n",
    "the dataset, and is known as Maximum Likelihood Estimation (MLE).\n",
    "\n",
    "Denoting the parameters as $\\boldsymbol{\\Theta} = a_1,...,a_M,b_1,...,b_N,w_{11},...,w_{MN}$, the log-likelihood is given by"
   ]
  },
  {
   "cell_type": "markdown",
   "id": "628ec786",
   "metadata": {},
   "source": [
    "$$\n",
    "\\begin{align*}\n",
    "\t\\mathcal{L}(\\{ \\Theta_i \\}) &= \\langle \\text{log} P_\\theta(\\boldsymbol{x}) \\rangle_{data} \\\\\n",
    "\t&= - \\langle E(\\boldsymbol{x}; \\{ \\Theta_i\\}) \\rangle_{data} - \\text{log} Z(\\{ \\Theta_i\\}),\n",
    "\\end{align*}\n",
    "$$"
   ]
  },
  {
   "cell_type": "markdown",
   "id": "d7dc2114",
   "metadata": {},
   "source": [
    "where we used that the normalization constant does not depend on the data, $\\langle \\text{log} Z(\\{ \\Theta_i\\}) \\rangle = \\text{log} Z(\\{ \\Theta_i\\})$\n",
    "Our cost function is the negative log-likelihood, $\\mathcal{C}(\\{ \\Theta_i \\}) = - \\mathcal{L}(\\{ \\Theta_i \\})$"
   ]
  },
  {
   "cell_type": "markdown",
   "id": "f2494acf",
   "metadata": {},
   "source": [
    "## Optimization / Training\n",
    "\n",
    "The training procedure of choice often is Stochastic Gradient Descent (SGD). It consists of a series of iterations where we update the parameters according to the equation"
   ]
  },
  {
   "cell_type": "markdown",
   "id": "717b8509",
   "metadata": {},
   "source": [
    "$$\n",
    "\\begin{align*}\n",
    "\t\\boldsymbol{\\Theta}_{k+1} = \\boldsymbol{\\Theta}_k - \\eta \\nabla \\mathcal{C} (\\boldsymbol{\\Theta}_k)\n",
    "\\end{align*}\n",
    "$$"
   ]
  },
  {
   "cell_type": "markdown",
   "id": "c50d2c22",
   "metadata": {},
   "source": [
    "at each $k$-th iteration. There are a range of variants of the algorithm which aim at making the learning rate $\\eta$ more adaptive so the method might be more efficient while remaining stable."
   ]
  },
  {
   "cell_type": "markdown",
   "id": "04f16ee4",
   "metadata": {},
   "source": [
    "## Gradients\n",
    "We now need the gradient of the cost function in order to minimize it. We find that"
   ]
  },
  {
   "cell_type": "markdown",
   "id": "833496e6",
   "metadata": {},
   "source": [
    "$$\n",
    "\\begin{align*}\n",
    "\t\\frac{\\partial \\mathcal{C}(\\{ \\Theta_i\\})}{\\partial \\Theta_i}\n",
    "\t&= \\langle \\frac{\\partial E(\\boldsymbol{x}; \\Theta_i)}{\\partial \\Theta_i} \\rangle_{data}\n",
    "\t+ \\frac{\\partial \\text{log} Z(\\{ \\Theta_i\\})}{\\partial \\Theta_i} \\\\\n",
    "\t&= \\langle O_i(\\boldsymbol{x}) \\rangle_{data} - \\langle O_i(\\boldsymbol{x}) \\rangle_{model}.\n",
    "\\end{align*}\n",
    "$$"
   ]
  },
  {
   "cell_type": "markdown",
   "id": "6f31edf9",
   "metadata": {},
   "source": [
    "## Simplifications\n",
    "\n",
    "In order to simplify notation we defined the \"operator\""
   ]
  },
  {
   "cell_type": "markdown",
   "id": "76227cf6",
   "metadata": {},
   "source": [
    "$$\n",
    "\\begin{align*}\n",
    "\tO_i(\\boldsymbol{x}) = \\frac{\\partial E(\\boldsymbol{x}; \\Theta_i)}{\\partial \\Theta_i}, \n",
    "\\end{align*}\n",
    "$$"
   ]
  },
  {
   "cell_type": "markdown",
   "id": "313b8149",
   "metadata": {},
   "source": [
    "and used the statistical mechanics relationship between expectation values and the log-partition function:"
   ]
  },
  {
   "cell_type": "markdown",
   "id": "d07e0d96",
   "metadata": {},
   "source": [
    "$$\n",
    "\\begin{align*}\n",
    "\t\\langle O_i(\\boldsymbol{x}) \\rangle_{model} = \\text{Tr} P_\\Theta(\\boldsymbol{x})O_i(\\boldsymbol{x}) = - \\frac{\\partial \\text{log} Z(\\{ \\Theta_i\\})}{\\partial \\Theta_i}.\n",
    "\\end{align*}\n",
    "$$"
   ]
  },
  {
   "cell_type": "markdown",
   "id": "e470ca7f",
   "metadata": {},
   "source": [
    "## Positive and negative phases\n",
    "As discussed earlier, the data-dependent term in the gradient is known as the positive phase\n",
    "of the gradient, while the model-dependent term is known as the\n",
    "negative phase of the gradient. The aim of the training is to lower\n",
    "the energy of configurations that are near observed data points\n",
    "(increasing their probability), and raising the energy of\n",
    "configurations that are far from observed data points (decreasing\n",
    "their probability)."
   ]
  },
  {
   "cell_type": "markdown",
   "id": "24a886d0",
   "metadata": {},
   "source": [
    "## Gradient examples\n",
    "The gradient of the negative log-likelihood cost function of a Binary-Binary RBM is then"
   ]
  },
  {
   "cell_type": "markdown",
   "id": "b7025aae",
   "metadata": {},
   "source": [
    "$$\n",
    "\\begin{align*}\n",
    "\t\\frac{\\partial \\mathcal{C} (w_{ij}, a_i, b_j)}{\\partial w_{ij}} =& \\langle x_i h_j \\rangle_{data} - \\langle x_i h_j \\rangle_{model} \\\\\n",
    "\t\\frac{\\partial \\mathcal{C} (w_{ij}, a_i, b_j)}{\\partial a_{ij}} =& \\langle x_i \\rangle_{data} - \\langle x_i \\rangle_{model} \\\\\n",
    "\t\\frac{\\partial \\mathcal{C} (w_{ij}, a_i, b_j)}{\\partial b_{ij}} =& \\langle h_i \\rangle_{data} - \\langle h_i \\rangle_{model}. \\\\\n",
    "\\end{align*}\n",
    "$$"
   ]
  },
  {
   "cell_type": "markdown",
   "id": "e06bf846",
   "metadata": {},
   "source": [
    "To get the expectation values with respect to the *data*, we set the visible units to each of the observed samples in the training data, then update the hidden units according to the conditional probability found before. We then average over all samples in the training data to calculate expectation values with respect to the data."
   ]
  },
  {
   "cell_type": "markdown",
   "id": "4e8a7435",
   "metadata": {},
   "source": [
    "## Kullback-Leibler relative entropy\n",
    "\n",
    "When the goal of the training is to approximate a probability\n",
    "distribution, as it is in generative modeling, another relevant\n",
    "measure is the **Kullback-Leibler divergence**, also known as the\n",
    "relative entropy or Shannon entropy. It is a non-symmetric measure of the\n",
    "dissimilarity between two probability density functions $p$ and\n",
    "$q$. If $p$ is the unkown probability which we approximate with $q$,\n",
    "we can measure the difference by"
   ]
  },
  {
   "cell_type": "markdown",
   "id": "46289fc4",
   "metadata": {},
   "source": [
    "$$\n",
    "\\begin{align*}\n",
    "\t\\text{KL}(p||q) = \\int_{-\\infty}^{\\infty} p (\\boldsymbol{x}) \\log \\frac{p(\\boldsymbol{x})}{q(\\boldsymbol{x})}  d\\boldsymbol{x}.\n",
    "\\end{align*}\n",
    "$$"
   ]
  },
  {
   "cell_type": "markdown",
   "id": "6a588f89",
   "metadata": {},
   "source": [
    "## Kullback-Leibler divergence\n",
    "\n",
    "Thus, the Kullback-Leibler divergence between the distribution of the\n",
    "training data $f(\\boldsymbol{x})$ and the model distribution $p(\\boldsymbol{x}|\n",
    "\\boldsymbol{\\Theta})$ is"
   ]
  },
  {
   "cell_type": "markdown",
   "id": "8267ded8",
   "metadata": {},
   "source": [
    "$$\n",
    "\\begin{align*}\n",
    "\t\\text{KL} (f(\\boldsymbol{x})|| p(\\boldsymbol{x}| \\boldsymbol{\\Theta})) =& \\int_{-\\infty}^{\\infty}\n",
    "\tf (\\boldsymbol{x}) \\log \\frac{f(\\boldsymbol{x})}{p(\\boldsymbol{x}| \\boldsymbol{\\Theta})} d\\boldsymbol{x} \\\\\n",
    "\t=& \\int_{-\\infty}^{\\infty} f(\\boldsymbol{x}) \\log f(\\boldsymbol{x}) d\\boldsymbol{x} - \\int_{-\\infty}^{\\infty} f(\\boldsymbol{x}) \\log\n",
    "\tp(\\boldsymbol{x}| \\boldsymbol{\\Theta}) d\\boldsymbol{x} \\\\\n",
    "\t%=& \\mathbb{E}_{f(\\boldsymbol{x})} (\\log f(\\boldsymbol{x})) - \\mathbb{E}_{f(\\boldsymbol{x})} (\\log p(\\boldsymbol{x}| \\boldsymbol{\\Theta}))\n",
    "\t=& \\langle \\log f(\\boldsymbol{x}) \\rangle_{f(\\boldsymbol{x})} - \\langle \\log p(\\boldsymbol{x}| \\boldsymbol{\\Theta}) \\rangle_{f(\\boldsymbol{x})} \\\\\n",
    "\t=& \\langle \\log f(\\boldsymbol{x}) \\rangle_{data} + \\langle E(\\boldsymbol{x}) \\rangle_{data} + \\log Z \\\\\n",
    "\t=& \\langle \\log f(\\boldsymbol{x}) \\rangle_{data} + \\mathcal{C}_{LL} .\n",
    "\\end{align*}\n",
    "$$"
   ]
  },
  {
   "cell_type": "markdown",
   "id": "db9d8b47",
   "metadata": {},
   "source": [
    "## Maximizing log-likelihood\n",
    "\n",
    "The first term is constant with respect to $\\boldsymbol{\\Theta}$ since\n",
    "$f(\\boldsymbol{x})$ is independent of $\\boldsymbol{\\Theta}$. Thus the Kullback-Leibler\n",
    "Divergence is minimal when the second term is minimal. The second term\n",
    "is the log-likelihood cost function, hence minimizing the\n",
    "Kullback-Leibler divergence is equivalent to maximizing the\n",
    "log-likelihood.\n",
    "\n",
    "To further understand generative models it is useful to study the\n",
    "gradient of the cost function which is needed in order to minimize it\n",
    "using methods like stochastic gradient descent."
   ]
  },
  {
   "cell_type": "markdown",
   "id": "ff75978d",
   "metadata": {},
   "source": [
    "## More on the partition function\n",
    "\n",
    "The partition function is the generating function of\n",
    "expectation values, in particular there are mathematical relationships\n",
    "between expectation values and the log-partition function. In this\n",
    "case we have"
   ]
  },
  {
   "cell_type": "markdown",
   "id": "9b882fcc",
   "metadata": {},
   "source": [
    "$$\n",
    "\\begin{align*}\n",
    "\t\\langle \\frac{ \\partial E(\\boldsymbol{x}; \\Theta_i) } { \\partial \\Theta_i} \\rangle_{model}\n",
    "\t= \\int p(\\boldsymbol{x}| \\boldsymbol{\\Theta}) \\frac{ \\partial E(\\boldsymbol{x}; \\Theta_i) } { \\partial \\Theta_i} d\\boldsymbol{x} \n",
    "\t= -\\frac{\\partial \\log Z(\\Theta_i)}{ \\partial  \\Theta_i} .\n",
    "\\end{align*}\n",
    "$$"
   ]
  },
  {
   "cell_type": "markdown",
   "id": "50cdb157",
   "metadata": {},
   "source": [
    "Here $\\langle \\cdot \\rangle_{model}$ is the expectation value over the model probability distribution $p(\\boldsymbol{x}| \\boldsymbol{\\Theta})$."
   ]
  },
  {
   "cell_type": "markdown",
   "id": "11f8358b",
   "metadata": {},
   "source": [
    "## Setting up for gradient descent calculations\n",
    "\n",
    "Using the previous relationship we can express the gradient of the cost function as"
   ]
  },
  {
   "cell_type": "markdown",
   "id": "dbbc8ca6",
   "metadata": {},
   "source": [
    "$$\n",
    "\\begin{align*}\n",
    "\t\\frac{\\partial \\mathcal{C}_{LL}}{\\partial \\Theta_i}\n",
    "\t=& \\langle \\frac{ \\partial E(\\boldsymbol{x}; \\Theta_i) } { \\partial \\Theta_i} \\rangle_{data} + \\frac{\\partial \\log Z(\\Theta_i)}{ \\partial  \\Theta_i} \\\\\n",
    "\t=& \\langle \\frac{ \\partial E(\\boldsymbol{x}; \\Theta_i) } { \\partial \\Theta_i} \\rangle_{data} - \\langle \\frac{ \\partial E(\\boldsymbol{x}; \\Theta_i) } { \\partial \\Theta_i} \\rangle_{model} \\\\\n",
    "\t%=& \\langle O_i(\\boldsymbol{x}) \\rangle_{data} - \\langle O_i(\\boldsymbol{x}) \\rangle_{model}\n",
    "\\end{align*}\n",
    "$$"
   ]
  },
  {
   "cell_type": "markdown",
   "id": "8aac6f2f",
   "metadata": {},
   "source": [
    "## Difference of moments\n",
    "\n",
    "This expression shows that the gradient of the log-likelihood cost\n",
    "function is a **difference of moments**, with one calculated from\n",
    "the data and one calculated from the model. The data-dependent term is\n",
    "called the **positive phase** and the model-dependent term is\n",
    "called the **negative phase** of the gradient. We see now that\n",
    "minimizing the cost function results in lowering the energy of\n",
    "configurations $\\boldsymbol{x}$ near points in the training data and\n",
    "increasing the energy of configurations not observed in the training\n",
    "data. That means we increase the model's probability of configurations\n",
    "similar to those in the training data."
   ]
  },
  {
   "cell_type": "markdown",
   "id": "88dc22b8",
   "metadata": {},
   "source": [
    "## More observations\n",
    "\n",
    "The gradient of the cost function also demonstrates why gradients of\n",
    "unsupervised, generative models must be computed differently from for\n",
    "those of for example FNNs. While the data-dependent expectation value\n",
    "is easily calculated based on the samples $\\boldsymbol{x}_i$ in the training\n",
    "data, we must sample from the model in order to generate samples from\n",
    "which to caclulate the model-dependent term. We sample from the model\n",
    "by using MCMC-based methods. We can not sample from the model directly\n",
    "because the partition function $Z$ is generally intractable."
   ]
  },
  {
   "cell_type": "markdown",
   "id": "6edd6c86",
   "metadata": {},
   "source": [
    "## Adding hyperparameters\n",
    "\n",
    "As in supervised machine learning problems, the goal is also here to\n",
    "perform well on **unseen** data, that is to have good\n",
    "generalization from the training data. The distribution $f(x)$ we\n",
    "approximate is not the **true** distribution we wish to estimate,\n",
    "it is limited to the training data. Hence, in unsupervised training as\n",
    "well it is important to prevent overfitting to the training data. Thus\n",
    "it is common to add regularizers to the cost function in the same\n",
    "manner as we discussed for say linear regression."
   ]
  },
  {
   "cell_type": "markdown",
   "id": "2f11ea4a",
   "metadata": {},
   "source": [
    "## Mathematical details\n",
    "\n",
    "Because we are restricted to potential functions which are positive it\n",
    "is convenient to express them as exponentials.\n",
    "\n",
    "The original RBM had binary visible and hidden nodes. They were\n",
    "showned to be universal approximators of discrete distributions.\n",
    "It was also shown that adding hidden units yields\n",
    "strictly improved modelling power."
   ]
  },
  {
   "cell_type": "markdown",
   "id": "df1eacc9",
   "metadata": {},
   "source": [
    "## Binary-binary (BB) RBMs\n",
    "\n",
    "The common choice of binary values\n",
    "are 0 and 1. However, in some physics applications, -1 and 1 might be\n",
    "a more natural choice. We will here use 0 and 1. We habe the energy function"
   ]
  },
  {
   "cell_type": "markdown",
   "id": "3c2c036b",
   "metadata": {},
   "source": [
    "$$\n",
    "\\begin{align*}\n",
    "\tE_{BB}(\\boldsymbol{x}, \\boldsymbol{h},\\boldsymbol{\\Theta}) = - \\sum_i^M x_i a_i- \\sum_j^N b_j h_j - \\sum_{i,j}^{M,N} x_i w_{ij} h_j.\n",
    "\\end{align*}\n",
    "$$"
   ]
  },
  {
   "cell_type": "markdown",
   "id": "812e4971",
   "metadata": {},
   "source": [
    "## Marginal probability\n",
    "\n",
    "We have the binary-binary marginal probability defined as"
   ]
  },
  {
   "cell_type": "markdown",
   "id": "f3e288b6",
   "metadata": {},
   "source": [
    "$$\n",
    "\\begin{align*}\n",
    "\tp_{BB}(\\boldsymbol{x}, \\boldsymbol{h},\\boldsymbol{\\Theta}) =& \\frac{1}{Z_{BB}(\\boldsymbol{\\Theta})} e^{\\sum_i^M a_i x_i + \\sum_j^N b_j h_j + \\sum_{ij}^{M,N} x_i w_{ij} h_j} \\\\\n",
    "\t=& \\frac{1}{Z_{BB}(\\boldsymbol{\\Theta})} e^{\\boldsymbol{a}^T \\boldsymbol{x} + \\boldsymbol{b}^T \\boldsymbol{h} + \\boldsymbol{x}^T \\boldsymbol{W} \\boldsymbol{h}}\n",
    "\\end{align*}\n",
    "$$"
   ]
  },
  {
   "cell_type": "markdown",
   "id": "ac4254a1",
   "metadata": {},
   "source": [
    "with the partition function"
   ]
  },
  {
   "cell_type": "markdown",
   "id": "1825d658",
   "metadata": {},
   "source": [
    "$$\n",
    "\\begin{align*}\n",
    "\tZ_{BB}(\\boldsymbol{\\Theta}) = \\sum_{\\boldsymbol{x}, \\boldsymbol{h}} e^{\\boldsymbol{a}^T \\boldsymbol{x} + \\boldsymbol{b}^T \\boldsymbol{h} + \\boldsymbol{x}^T \\boldsymbol{W} \\boldsymbol{h}} .\n",
    "\\end{align*}\n",
    "$$"
   ]
  },
  {
   "cell_type": "markdown",
   "id": "c110e7be",
   "metadata": {},
   "source": [
    "## Marginal Probability Density Function for the visible units\n",
    "\n",
    "In order to find the probability of any configuration of the visible units we derive the marginal probability density function."
   ]
  },
  {
   "cell_type": "markdown",
   "id": "8a9d48a2",
   "metadata": {},
   "source": [
    "$$\n",
    "\\begin{align*}\n",
    "\tp_{BB} (\\boldsymbol{x},\\boldsymbol{\\Theta}) =& \\sum_{\\boldsymbol{h}} p_{BB} (\\boldsymbol{x}, \\boldsymbol{h},\\boldsymbol{\\Theta}) \\\\\n",
    "\t=& \\frac{1}{Z_{BB}} \\sum_{\\boldsymbol{h}} e^{\\boldsymbol{a}^T \\boldsymbol{x} + \\boldsymbol{b}^T \\boldsymbol{h} + \\boldsymbol{x}^T \\boldsymbol{W} \\boldsymbol{h}} \\nonumber \\\\\n",
    "\t=& \\frac{1}{Z_{BB}} e^{\\boldsymbol{a}^T \\boldsymbol{x}} \\sum_{\\boldsymbol{h}} e^{\\sum_j^N (b_j + \\boldsymbol{x}^T \\boldsymbol{w}_{\\ast j})h_j} \\nonumber \\\\\n",
    "\t=& \\frac{1}{Z_{BB}} e^{\\boldsymbol{a}^T \\boldsymbol{x}} \\sum_{\\boldsymbol{h}} \\prod_j^N e^{ (b_j + \\boldsymbol{x}^T \\boldsymbol{w}_{\\ast j})h_j} \\nonumber \\\\\n",
    "\t=& \\frac{1}{Z_{BB}} e^{\\boldsymbol{a}^T \\boldsymbol{x}} \\bigg ( \\sum_{h_1} e^{(b_1 + \\boldsymbol{x}^T \\boldsymbol{w}_{\\ast 1})h_1}\n",
    "\t\\times \\sum_{h_2} e^{(b_2 + \\boldsymbol{x}^T \\boldsymbol{w}_{\\ast 2})h_2} \\times \\nonumber \\\\\n",
    "\t& ... \\times \\sum_{h_2} e^{(b_N + \\boldsymbol{x}^T \\boldsymbol{w}_{\\ast N})h_N} \\bigg ) \\nonumber \\\\\n",
    "\t=& \\frac{1}{Z_{BB}} e^{\\boldsymbol{a}^T \\boldsymbol{x}} \\prod_j^N \\sum_{h_j} e^{(b_j + \\boldsymbol{x}^T \\boldsymbol{w}_{\\ast j}) h_j} \\nonumber \\\\\n",
    "\t=& \\frac{1}{Z_{BB}} e^{\\boldsymbol{a}^T \\boldsymbol{x}} \\prod_j^N (1 + e^{b_j + \\boldsymbol{x}^T \\boldsymbol{w}_{\\ast j}}) .\n",
    "\\end{align*}\n",
    "$$"
   ]
  },
  {
   "cell_type": "markdown",
   "id": "4062de21",
   "metadata": {},
   "source": [
    "## Marginal probability for hidden units\n",
    "\n",
    "A similar derivation yields the marginal probability of the hidden units"
   ]
  },
  {
   "cell_type": "markdown",
   "id": "374cb12f",
   "metadata": {},
   "source": [
    "$$\n",
    "\\begin{align*}\n",
    "\tp_{BB} (\\boldsymbol{h},\\boldsymbol{\\Theta}) = \\frac{1}{Z_{BB}(\\boldsymbol{\\Theta})} e^{\\boldsymbol{b}^T \\boldsymbol{h}} \\prod_i^M (1 + e^{a_i + \\boldsymbol{w}_{i\\ast}^T \\boldsymbol{h}}) .\n",
    "\\end{align*}\n",
    "$$"
   ]
  },
  {
   "cell_type": "markdown",
   "id": "7ae41a49",
   "metadata": {},
   "source": [
    "## Conditional Probability Density Functions\n",
    "\n",
    "We derive the probability of the hidden units given the visible units using Bayes' rule\n",
    "(we drop the explicit $\\boldsymbol{\\Theta}$ dependence)"
   ]
  },
  {
   "cell_type": "markdown",
   "id": "702e20eb",
   "metadata": {},
   "source": [
    "$$\n",
    "\\begin{align*}\n",
    "\tp_{BB} (\\boldsymbol{h}|\\boldsymbol{x}) =& \\frac{p_{BB} (\\boldsymbol{x}, \\boldsymbol{h})}{p_{BB} (\\boldsymbol{x})} \\nonumber \\\\\n",
    "\t=& \\frac{ \\frac{1}{Z_{BB}}  e^{\\boldsymbol{a}^T \\boldsymbol{x} + \\boldsymbol{b}^T \\boldsymbol{h} + \\boldsymbol{x}^T \\boldsymbol{W} \\boldsymbol{h}} }\n",
    "\t        {\\frac{1}{Z_{BB}} e^{\\boldsymbol{a}^T \\boldsymbol{x}} \\prod_j^N (1 + e^{b_j + \\boldsymbol{x}^T \\boldsymbol{w}_{\\ast j}})} \\nonumber \\\\\n",
    "\t=& \\frac{  e^{\\boldsymbol{a}^T \\boldsymbol{x}} e^{ \\sum_j^N (b_j + \\boldsymbol{x}^T \\boldsymbol{w}_{\\ast j} ) h_j} }\n",
    "\t        { e^{\\boldsymbol{a}^T \\boldsymbol{x}} \\prod_j^N (1 + e^{b_j + \\boldsymbol{x}^T \\boldsymbol{w}_{\\ast j}})} \\nonumber \\\\\n",
    "\t=& \\prod_j^N \\frac{ e^{(b_j + \\boldsymbol{x}^T \\boldsymbol{w}_{\\ast j} ) h_j}  }\n",
    "\t{1 + e^{b_j + \\boldsymbol{x}^T \\boldsymbol{w}_{\\ast j}}} \\nonumber \\\\\n",
    "\t=& \\prod_j^N p_{BB} (h_j| \\boldsymbol{x}) .\n",
    "\\end{align*}\n",
    "$$"
   ]
  },
  {
   "cell_type": "markdown",
   "id": "2d3bc480",
   "metadata": {},
   "source": [
    "## On and off probabilities\n",
    "\n",
    "From this we find the probability of a hidden unit being \"on\" or \"off\":"
   ]
  },
  {
   "cell_type": "markdown",
   "id": "2236ab74",
   "metadata": {},
   "source": [
    "$$\n",
    "\\begin{align*}\n",
    "\tp_{BB} (h_j=1 | \\boldsymbol{x}) =&   \\frac{ e^{(b_j + \\boldsymbol{x}^T \\boldsymbol{w}_{\\ast j} ) h_j}  }\n",
    "\t{1 + e^{b_j + \\boldsymbol{x}^T \\boldsymbol{w}_{\\ast j}}} \\\\\n",
    "\t=&  \\frac{ e^{(b_j + \\boldsymbol{x}^T \\boldsymbol{w}_{\\ast j} )}  }\n",
    "\t{1 + e^{b_j + \\boldsymbol{x}^T \\boldsymbol{w}_{\\ast j}}} \\\\\n",
    "\t=&  \\frac{ 1 }{1 + e^{-(b_j + \\boldsymbol{x}^T \\boldsymbol{w}_{\\ast j})} } ,\n",
    "\\end{align*}\n",
    "$$"
   ]
  },
  {
   "cell_type": "markdown",
   "id": "385ebeef",
   "metadata": {},
   "source": [
    "and"
   ]
  },
  {
   "cell_type": "markdown",
   "id": "17a47f3b",
   "metadata": {},
   "source": [
    "$$\n",
    "\\begin{align*}\n",
    "\tp_{BB} (h_j=0 | \\boldsymbol{x}) =\\frac{ 1 }{1 + e^{b_j + \\boldsymbol{x}^T \\boldsymbol{w}_{\\ast j}} } .\n",
    "\\end{align*}\n",
    "$$"
   ]
  },
  {
   "cell_type": "markdown",
   "id": "91f1ca8d",
   "metadata": {},
   "source": [
    "## Conditional probability for visible units\n",
    "\n",
    "Similarly we have that the conditional probability of the visible units given the hidden are"
   ]
  },
  {
   "cell_type": "markdown",
   "id": "5fd2638c",
   "metadata": {},
   "source": [
    "$$\n",
    "\\begin{align*}\n",
    "\tp_{BB} (\\boldsymbol{x}|\\boldsymbol{h}) =& \\prod_i^M \\frac{ e^{ (a_i + \\boldsymbol{w}_{i\\ast}^T \\boldsymbol{h}) x_i} }{ 1 + e^{a_i + \\boldsymbol{w}_{i\\ast}^T \\boldsymbol{h}} } \\\\\n",
    "\t&= \\prod_i^M p_{BB} (x_i | \\boldsymbol{h}) .\n",
    "\\end{align*}\n",
    "$$"
   ]
  },
  {
   "cell_type": "markdown",
   "id": "c2617f2f",
   "metadata": {},
   "source": [
    "We have"
   ]
  },
  {
   "cell_type": "markdown",
   "id": "3498282e",
   "metadata": {},
   "source": [
    "$$\n",
    "\\begin{align*}\n",
    "\tp_{BB} (x_i=1 | \\boldsymbol{h}) =& \\frac{1}{1 + e^{-(a_i + \\boldsymbol{w}_{i\\ast}^T \\boldsymbol{h} )}} \\\\\n",
    "\tp_{BB} (x_i=0 | \\boldsymbol{h}) =& \\frac{1}{1 + e^{a_i + \\boldsymbol{w}_{i\\ast}^T \\boldsymbol{h} }} .\n",
    "\\end{align*}\n",
    "$$"
   ]
  },
  {
   "cell_type": "markdown",
   "id": "8945fb2c",
   "metadata": {},
   "source": [
    "## Gaussian-Binary Restricted Boltzmann Machines\n",
    "\n",
    "Inserting into the expression for $E_{RBM}(\\boldsymbol{x},\\boldsymbol{h},\\boldsymbol{\\Theta})$ in equation  results in the energy"
   ]
  },
  {
   "cell_type": "markdown",
   "id": "b7fb7108",
   "metadata": {},
   "source": [
    "$$\n",
    "\\begin{align*}\n",
    "\tE_{GB}(\\boldsymbol{x}, \\boldsymbol{h},\\boldsymbol{\\Theta}) =& \\sum_i^M \\frac{(x_i - a_i)^2}{2\\sigma_i^2}\n",
    "\t- \\sum_j^N b_j h_j \n",
    "\t-\\sum_{ij}^{M,N} \\frac{x_i w_{ij} h_j}{\\sigma_i^2} \\nonumber \\\\\n",
    "\t=& \\vert\\vert\\frac{\\boldsymbol{x} -\\boldsymbol{a}}{2\\boldsymbol{\\sigma}}\\vert\\vert^2 - \\boldsymbol{b}^T \\boldsymbol{h} \n",
    "\t- (\\frac{\\boldsymbol{x}}{\\boldsymbol{\\sigma}^2})^T \\boldsymbol{W}\\boldsymbol{h} . \n",
    "\\end{align*}\n",
    "$$"
   ]
  },
  {
   "cell_type": "markdown",
   "id": "1a00f6ea",
   "metadata": {},
   "source": [
    "## Joint Probability Density Function"
   ]
  },
  {
   "cell_type": "markdown",
   "id": "5aae6165",
   "metadata": {},
   "source": [
    "$$\n",
    "\\begin{align*}\n",
    "\tp_{GB} (\\boldsymbol{x}, \\boldsymbol{h},\\boldsymbol{\\Theta}) =& \\frac{1}{Z_{GB}} e^{-\\vert\\vert\\frac{\\boldsymbol{x} -\\boldsymbol{a}}{2\\boldsymbol{\\sigma}}\\vert\\vert^2 + \\boldsymbol{b}^T \\boldsymbol{h} \n",
    "\t+ (\\frac{\\boldsymbol{x}}{\\boldsymbol{\\sigma}^2})^T \\boldsymbol{W}\\boldsymbol{h}} \\nonumber \\\\\n",
    "\t=& \\frac{1}{Z_{GB}} e^{- \\sum_i^M \\frac{(x_i - a_i)^2}{2\\sigma_i^2}\n",
    "\t+ \\sum_j^N b_j h_j \n",
    "\t+\\sum_{ij}^{M,N} \\frac{x_i w_{ij} h_j}{\\sigma_i^2}} \\nonumber \\\\\n",
    "\t=& \\frac{1}{Z_{GB}} \\prod_{ij}^{M,N} e^{-\\frac{(x_i - a_i)^2}{2\\sigma_i^2}\n",
    "\t+ b_j h_j \n",
    "\t+\\frac{x_i w_{ij} h_j}{\\sigma_i^2}}.\n",
    "\\end{align*}\n",
    "$$"
   ]
  },
  {
   "cell_type": "markdown",
   "id": "d3079ecb",
   "metadata": {},
   "source": [
    "## Partition function\n",
    "\n",
    "The partition function is given by"
   ]
  },
  {
   "cell_type": "markdown",
   "id": "939adc0f",
   "metadata": {},
   "source": [
    "$$\n",
    "\\begin{align*}\n",
    "\tZ_{GB} =& \\int \\sum_{\\tilde{\\boldsymbol{h}}}^{\\tilde{\\boldsymbol{H}}} e^{-\\vert\\vert\\frac{\\tilde{\\boldsymbol{x}} -\\boldsymbol{a}}{2\\boldsymbol{\\sigma}}\\vert\\vert^2 + \\boldsymbol{b}^T \\tilde{\\boldsymbol{h}} \n",
    "\t+ (\\frac{\\tilde{\\boldsymbol{x}}}{\\boldsymbol{\\sigma}^2})^T \\boldsymbol{W}\\tilde{\\boldsymbol{h}}} d\\tilde{\\boldsymbol{x}} .\n",
    "\\end{align*}\n",
    "$$"
   ]
  },
  {
   "cell_type": "markdown",
   "id": "9cf19db4",
   "metadata": {},
   "source": [
    "## Marginal Probability Density Functions\n",
    "\n",
    "We proceed to find the marginal probability densitites of the\n",
    "Gaussian-binary RBM. We first marginalize over the binary hidden units\n",
    "to find $p_{GB} (\\boldsymbol{x})$"
   ]
  },
  {
   "cell_type": "markdown",
   "id": "11946260",
   "metadata": {},
   "source": [
    "$$\n",
    "\\begin{align*}\n",
    "\tp_{GB} (\\boldsymbol{x}) =& \\sum_{\\tilde{\\boldsymbol{h}}}^{\\tilde{\\boldsymbol{H}}} p_{GB} (\\boldsymbol{x}, \\tilde{\\boldsymbol{h}}) \\nonumber \\\\\n",
    "\t=& \\frac{1}{Z_{GB}} \\sum_{\\tilde{\\boldsymbol{h}}}^{\\tilde{\\boldsymbol{H}}} \n",
    "\te^{-\\vert\\vert\\frac{\\boldsymbol{x} -\\boldsymbol{a}}{2\\boldsymbol{\\sigma}}\\vert\\vert^2 + \\boldsymbol{b}^T \\tilde{\\boldsymbol{h}} \n",
    "\t+ (\\frac{\\boldsymbol{x}}{\\boldsymbol{\\sigma}^2})^T \\boldsymbol{W}\\tilde{\\boldsymbol{h}}} \\nonumber \\\\\n",
    "\t=& \\frac{1}{Z_{GB}} e^{-\\vert\\vert\\frac{\\boldsymbol{x} -\\boldsymbol{a}}{2\\boldsymbol{\\sigma}}\\vert\\vert^2}\n",
    "\t\\prod_j^N (1 + e^{b_j + (\\frac{\\boldsymbol{x}}{\\boldsymbol{\\sigma}^2})^T \\boldsymbol{w}_{\\ast j}} ) .\n",
    "\\end{align*}\n",
    "$$"
   ]
  },
  {
   "cell_type": "markdown",
   "id": "9ccb9880",
   "metadata": {},
   "source": [
    "## Then the visible units\n",
    "We next marginalize over the visible units. This is the first time we\n",
    "marginalize over continuous values. We rewrite the exponential factor\n",
    "dependent on $\\boldsymbol{x}$ as a Gaussian function before we integrate in\n",
    "the last step."
   ]
  },
  {
   "cell_type": "markdown",
   "id": "f3be7410",
   "metadata": {},
   "source": [
    "$$\n",
    "\\begin{align*}\n",
    "\tp_{GB} (\\boldsymbol{h}) =& \\int p_{GB} (\\tilde{\\boldsymbol{x}}, \\boldsymbol{h}) d\\tilde{\\boldsymbol{x}} \\nonumber \\\\\n",
    "\t=& \\frac{1}{Z_{GB}} \\int e^{-\\vert\\vert\\frac{\\tilde{\\boldsymbol{x}} -\\boldsymbol{a}}{2\\boldsymbol{\\sigma}}\\vert\\vert^2 + \\boldsymbol{b}^T \\boldsymbol{h} \n",
    "\t+ (\\frac{\\tilde{\\boldsymbol{x}}}{\\boldsymbol{\\sigma}^2})^T \\boldsymbol{W}\\boldsymbol{h}} d\\tilde{\\boldsymbol{x}} \\nonumber \\\\\n",
    "\t=& \\frac{1}{Z_{GB}} e^{\\boldsymbol{b}^T \\boldsymbol{h} } \\int \\prod_i^M\n",
    "\te^{- \\frac{(\\tilde{x}_i - a_i)^2}{2\\sigma_i^2} + \\frac{\\tilde{x}_i \\boldsymbol{w}_{i\\ast}^T \\boldsymbol{h}}{\\sigma_i^2} } d\\tilde{\\boldsymbol{x}} \\nonumber \\\\\n",
    "\t=& \\frac{1}{Z_{GB}} e^{\\boldsymbol{b}^T \\boldsymbol{h} }\n",
    "\t\\biggl( \\int e^{- \\frac{(\\tilde{x}_1 - a_1)^2}{2\\sigma_1^2} + \\frac{\\tilde{x}_1 \\boldsymbol{w}_{1\\ast}^T \\boldsymbol{h}}{\\sigma_1^2} } d\\tilde{x}_1 \\nonumber \\\\\n",
    "\t& \\times \\int e^{- \\frac{(\\tilde{x}_2 - a_2)^2}{2\\sigma_2^2} + \\frac{\\tilde{x}_2 \\boldsymbol{w}_{2\\ast}^T \\boldsymbol{h}}{\\sigma_2^2} } d\\tilde{x}_2 \\nonumber \\\\\n",
    "\t& \\times ... \\nonumber \\\\\n",
    "\t&\\times \\int e^{- \\frac{(\\tilde{x}_M - a_M)^2}{2\\sigma_M^2} + \\frac{\\tilde{x}_M \\boldsymbol{w}_{M\\ast}^T \\boldsymbol{h}}{\\sigma_M^2} } d\\tilde{x}_M \\biggr) \\nonumber \\\\\n",
    "\t=& \\frac{1}{Z_{GB}} e^{\\boldsymbol{b}^T \\boldsymbol{h}} \\prod_i^M\n",
    "\t\\int e^{- \\frac{(\\tilde{x}_i - a_i)^2 - 2\\tilde{x}_i \\boldsymbol{w}_{i\\ast}^T \\boldsymbol{h}}{2\\sigma_i^2} } d\\tilde{x}_i \\nonumber \\\\\n",
    "\t=& \\frac{1}{Z_{GB}} e^{\\boldsymbol{b}^T \\boldsymbol{h}} \\prod_i^M\n",
    "\t\\int e^{- \\frac{\\tilde{x}_i^2 - 2\\tilde{x}_i(a_i + \\tilde{x}_i \\boldsymbol{w}_{i\\ast}^T \\boldsymbol{h}) + a_i^2}{2\\sigma_i^2} } d\\tilde{x}_i \\nonumber \\\\\n",
    "\t=& \\frac{1}{Z_{GB}} e^{\\boldsymbol{b}^T \\boldsymbol{h}} \\prod_i^M\n",
    "\t\\int e^{- \\frac{\\tilde{x}_i^2 - 2\\tilde{x}_i(a_i + \\boldsymbol{w}_{i\\ast}^T \\boldsymbol{h}) + (a_i + \\boldsymbol{w}_{i\\ast}^T \\boldsymbol{h})^2 - (a_i + \\boldsymbol{w}_{i\\ast}^T \\boldsymbol{h})^2 + a_i^2}{2\\sigma_i^2} } d\\tilde{x}_i \\nonumber \\\\\n",
    "\t=& \\frac{1}{Z_{GB}} e^{\\boldsymbol{b}^T \\boldsymbol{h}} \\prod_i^M\n",
    "\t\\int e^{- \\frac{(\\tilde{x}_i - (a_i + \\boldsymbol{w}_{i\\ast}^T \\boldsymbol{h}))^2 - a_i^2 -2a_i \\boldsymbol{w}_{i\\ast}^T \\boldsymbol{h} - (\\boldsymbol{w}_{i\\ast}^T \\boldsymbol{h})^2 + a_i^2}{2\\sigma_i^2} } d\\tilde{x}_i \\nonumber \\\\\n",
    "\t=& \\frac{1}{Z_{GB}} e^{\\boldsymbol{b}^T \\boldsymbol{h}} \\prod_i^M\n",
    "\te^{\\frac{2a_i \\boldsymbol{w}_{i\\ast}^T \\boldsymbol{h} +(\\boldsymbol{w}_{i\\ast}^T \\boldsymbol{h})^2 }{2\\sigma_i^2}}\n",
    "\t\\int e^{- \\frac{(\\tilde{x}_i - a_i - \\boldsymbol{w}_{i\\ast}^T \\boldsymbol{h})^2}{2\\sigma_i^2}}\n",
    "\td\\tilde{x}_i \\nonumber \\\\\n",
    "\t=& \\frac{1}{Z_{GB}} e^{\\boldsymbol{b}^T \\boldsymbol{h}} \\prod_i^M\n",
    "\t\\sqrt{2\\pi \\sigma_i^2}\n",
    "\te^{\\frac{2a_i \\boldsymbol{w}_{i\\ast}^T \\boldsymbol{h} +(\\boldsymbol{w}_{i\\ast}^T \\boldsymbol{h})^2 }{2\\sigma_i^2}} .\n",
    "\\end{align*}\n",
    "$$"
   ]
  },
  {
   "cell_type": "markdown",
   "id": "9e821ab4",
   "metadata": {},
   "source": [
    "## Conditional Probability Density Functions\n",
    "\n",
    "We finish by deriving the conditional probabilities."
   ]
  },
  {
   "cell_type": "markdown",
   "id": "803b039a",
   "metadata": {},
   "source": [
    "$$\n",
    "\\begin{align*}\n",
    "\tp_{GB} (\\boldsymbol{h}| \\boldsymbol{x}) =& \\frac{p_{GB} (\\boldsymbol{x}, \\boldsymbol{h})}{p_{GB} (\\boldsymbol{x})} \\nonumber \\\\\n",
    "\t=& \\frac{\\frac{1}{Z_{GB}} e^{-\\vert\\vert\\frac{\\boldsymbol{x} -\\boldsymbol{a}}{2\\boldsymbol{\\sigma}}\\vert\\vert^2 + \\boldsymbol{b}^T \\boldsymbol{h} \n",
    "\t+ (\\frac{\\boldsymbol{x}}{\\boldsymbol{\\sigma}^2})^T \\boldsymbol{W}\\boldsymbol{h}}}\n",
    "\t{\\frac{1}{Z_{GB}} e^{-\\vert\\vert\\frac{\\boldsymbol{x} -\\boldsymbol{a}}{2\\boldsymbol{\\sigma}}\\vert\\vert^2}\n",
    "\t\\prod_j^N (1 + e^{b_j + (\\frac{\\boldsymbol{x}}{\\boldsymbol{\\sigma}^2})^T \\boldsymbol{w}_{\\ast j}} ) }\n",
    "\t\\nonumber \\\\\n",
    "\t=& \\prod_j^N \\frac{e^{(b_j + (\\frac{\\boldsymbol{x}}{\\boldsymbol{\\sigma}^2})^T \\boldsymbol{w}_{\\ast j})h_j } }\n",
    "\t{1 + e^{b_j + (\\frac{\\boldsymbol{x}}{\\boldsymbol{\\sigma}^2})^T \\boldsymbol{w}_{\\ast j}}} \\nonumber \\\\\n",
    "\t=& \\prod_j^N p_{GB} (h_j|\\boldsymbol{x}).\n",
    "\\end{align*}\n",
    "$$"
   ]
  },
  {
   "cell_type": "markdown",
   "id": "d93b72b4",
   "metadata": {},
   "source": [
    "## Hidden units\n",
    "\n",
    "The conditional probability of a binary hidden unit $h_j$ being on or off again takes the form of a sigmoid function"
   ]
  },
  {
   "cell_type": "markdown",
   "id": "4355fe4b",
   "metadata": {},
   "source": [
    "$$\n",
    "\\begin{align*}\n",
    "\tp_{GB} (h_j =1 | \\boldsymbol{x}) =& \\frac{e^{b_j + (\\frac{\\boldsymbol{x}}{\\boldsymbol{\\sigma}^2})^T \\boldsymbol{w}_{\\ast j} } }\n",
    "\t{1 + e^{b_j + (\\frac{\\boldsymbol{x}}{\\boldsymbol{\\sigma}^2})^T \\boldsymbol{w}_{\\ast j}}} \\nonumber \\\\\n",
    "\t=& \\frac{1}{1 + e^{-b_j - (\\frac{\\boldsymbol{x}}{\\boldsymbol{\\sigma}^2})^T \\boldsymbol{w}_{\\ast j}}} \\\\\n",
    "\tp_{GB} (h_j =0 | \\boldsymbol{x}) =&\n",
    "\t\\frac{1}{1 + e^{b_j +(\\frac{\\boldsymbol{x}}{\\boldsymbol{\\sigma}^2})^T \\boldsymbol{w}_{\\ast j}}} .\n",
    "\\end{align*}\n",
    "$$"
   ]
  },
  {
   "cell_type": "markdown",
   "id": "39396f64",
   "metadata": {},
   "source": [
    "## Visible units\n",
    "\n",
    "The conditional probability of the continuous $\\boldsymbol{x}$ now has another form, however."
   ]
  },
  {
   "cell_type": "markdown",
   "id": "ab2eb27f",
   "metadata": {},
   "source": [
    "$$\n",
    "\\begin{align*}\n",
    "\tp_{GB} (\\boldsymbol{x}|\\boldsymbol{h})\n",
    "\t=& \\frac{p_{GB} (\\boldsymbol{x}, \\boldsymbol{h})}{p_{GB} (\\boldsymbol{h})} \\nonumber \\\\\n",
    "\t=& \\frac{\\frac{1}{Z_{GB}} e^{-\\vert\\vert\\frac{\\boldsymbol{x} -\\boldsymbol{a}}{2\\boldsymbol{\\sigma}}\\vert\\vert^2 + \\boldsymbol{b}^T \\boldsymbol{h} \n",
    "\t+ (\\frac{\\boldsymbol{x}}{\\boldsymbol{\\sigma}^2})^T \\boldsymbol{W}\\boldsymbol{h}}}\n",
    "\t{\\frac{1}{Z_{GB}} e^{\\boldsymbol{b}^T \\boldsymbol{h}} \\prod_i^M\n",
    "\t\\sqrt{2\\pi \\sigma_i^2}\n",
    "\te^{\\frac{2a_i \\boldsymbol{w}_{i\\ast}^T \\boldsymbol{h} +(\\boldsymbol{w}_{i\\ast}^T \\boldsymbol{h})^2 }{2\\sigma_i^2}}}\n",
    "\t\\nonumber \\\\\n",
    "\t=& \\prod_i^M \\frac{1}{\\sqrt{2\\pi \\sigma_i^2}}\n",
    "\t\\frac{e^{- \\frac{(x_i - a_i)^2}{2\\sigma_i^2} + \\frac{x_i \\boldsymbol{w}_{i\\ast}^T \\boldsymbol{h}}{2\\sigma_i^2} }}\n",
    "\t{e^{\\frac{2a_i \\boldsymbol{w}_{i\\ast}^T \\boldsymbol{h} +(\\boldsymbol{w}_{i\\ast}^T \\boldsymbol{h})^2 }{2\\sigma_i^2}}}\n",
    "\t\\nonumber \\\\\n",
    "\t=& \\prod_i^M \\frac{1}{\\sqrt{2\\pi \\sigma_i^2}}\n",
    "\t\\frac{e^{-\\frac{x_i^2 - 2a_i x_i + a_i^2 - 2x_i \\boldsymbol{w}_{i\\ast}^T\\boldsymbol{h} }{2\\sigma_i^2} } }\n",
    "\t{e^{\\frac{2a_i \\boldsymbol{w}_{i\\ast}^T \\boldsymbol{h} +(\\boldsymbol{w}_{i\\ast}^T \\boldsymbol{h})^2 }{2\\sigma_i^2}}}\n",
    "\t\\nonumber \\\\\n",
    "\t=& \\prod_i^M \\frac{1}{\\sqrt{2\\pi \\sigma_i^2}}\n",
    "\te^{- \\frac{x_i^2 - 2a_i x_i + a_i^2 - 2x_i \\boldsymbol{w}_{i\\ast}^T\\boldsymbol{h}\n",
    "\t+ 2a_i \\boldsymbol{w}_{i\\ast}^T \\boldsymbol{h} +(\\boldsymbol{w}_{i\\ast}^T \\boldsymbol{h})^2}\n",
    "\t{2\\sigma_i^2} }\n",
    "\t\\nonumber \\\\\n",
    "\t=& \\prod_i^M \\frac{1}{\\sqrt{2\\pi \\sigma_i^2}}\n",
    "\te^{ - \\frac{(x_i - b_i - \\boldsymbol{w}_{i\\ast}^T \\boldsymbol{h})^2}{2\\sigma_i^2}} \\nonumber \\\\\n",
    "\t=& \\prod_i^M \\mathcal{N}\n",
    "\t(x_i | b_i + \\boldsymbol{w}_{i\\ast}^T \\boldsymbol{h}, \\sigma_i^2) \\\\\n",
    "\t\\Rightarrow p_{GB} (x_i|\\boldsymbol{h}) =& \\mathcal{N}\n",
    "\t(x_i | b_i + \\boldsymbol{w}_{i\\ast}^T \\boldsymbol{h}, \\sigma_i^2) .\n",
    "\\end{align*}\n",
    "$$"
   ]
  },
  {
   "cell_type": "markdown",
   "id": "5e489d8d",
   "metadata": {},
   "source": [
    "## Comments\n",
    "\n",
    "The form of these conditional probabilities explains the name\n",
    "\"Gaussian\" and the form of the Gaussian-binary energy function. We see\n",
    "that the conditional probability of $x_i$ given $\\boldsymbol{h}$ is a normal\n",
    "distribution with mean $b_i + \\boldsymbol{w}_{i\\ast}^T \\boldsymbol{h}$ and variance\n",
    "$\\sigma_i^2$."
   ]
  }
 ],
 "metadata": {
  "kernelspec": {
   "display_name": "Python 3 (ipykernel)",
   "language": "python",
   "name": "python3"
  },
  "language_info": {
   "codemirror_mode": {
    "name": "ipython",
    "version": 3
   },
   "file_extension": ".py",
   "mimetype": "text/x-python",
   "name": "python",
   "nbconvert_exporter": "python",
   "pygments_lexer": "ipython3",
   "version": "3.9.15"
  }
 },
 "nbformat": 4,
 "nbformat_minor": 5
}
