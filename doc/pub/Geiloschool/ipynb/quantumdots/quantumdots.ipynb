{
 "cells": [
  {
   "cell_type": "code",
   "execution_count": 1,
   "id": "718644ea-0b28-43e8-9ee7-23137c5c1b40",
   "metadata": {},
   "outputs": [],
   "source": [
    "import torch, math\n",
    "import numpy as np\n",
    "from scipy.integrate import simps\n",
    "import matplotlib.pyplot as plt\n",
    "from scipy.special import factorial\n",
    "from math import factorial, sqrt, pi\n",
    "import torch\n",
    "import functorch\n",
    "import torch.nn as nn\n",
    "import torch.optim as optim"
   ]
  },
  {
   "cell_type": "code",
   "execution_count": 2,
   "id": "5e8338da-a3ae-4522-8c14-9a3fbe8e0bea",
   "metadata": {},
   "outputs": [
    {
     "data": {
      "text/plain": [
       "<module 'Master_funcs' from '/Users/mhjensen/Seminars/MachineLearningTalk/doc/pub/Geiloschool/ipynb/quantumdots/Master_funcs.py'>"
      ]
     },
     "execution_count": 2,
     "metadata": {},
     "output_type": "execute_result"
    }
   ],
   "source": [
    "import importlib\n",
    "import Master_funcs\n",
    "importlib.reload(Master_funcs)"
   ]
  },
  {
   "cell_type": "code",
   "execution_count": 3,
   "id": "37e6522b-756a-4660-96b8-18ed2ab48e99",
   "metadata": {
    "jupyter": {
     "source_hidden": true
    }
   },
   "outputs": [],
   "source": [
    "def compute_energy(f_net, V=1.0, n_samples=int(1e4), L=2.0,step_size=0.1):\n",
    "    device = next(f_net.parameters()).device\n",
    "    #x = torch.empty(n_samples, 3, 1, device=device).uniform_(-L, L)\n",
    "    x = generate_samples_with_metropolis(n_samples, f_net, n_thermalize=100,step_size=step_size)\n",
    "    x.requires_grad_(True)\n",
    "    \n",
    "    psi = psi_plot_fn(x).squeeze()\n",
    "    psi_sq = psi**2\n",
    "    \n",
    "    # Compute gradients for Laplacian\n",
    "    grad_psi = torch.autograd.grad(psi.sum(), x, create_graph=True, retain_graph=True)[0]\n",
    "    laplacian = 0.0\n",
    "    for p in range(3):  # sum over particles\n",
    "        grad2 = torch.autograd.grad(grad_psi[:, p, 0].sum(), x, retain_graph=True)[0][:, p, 0]\n",
    "        laplacian += grad2\n",
    "    \n",
    "    # Compute integrands for each term\n",
    "    T_integrand = -0.5 * laplacian * psi\n",
    "    V_harm_integrand = 0.5 * (x**2).sum(dim=(1,2)) * psi_sq\n",
    "    V_int_integrand = compute_interaction_potential(x, V, 0.5).squeeze(-1) * psi_sq\n",
    "    \n",
    "    numerator_samples = T_integrand + V_harm_integrand + V_int_integrand\n",
    "    denominator_samples = psi_sq\n",
    "    \n",
    "    # Compute means\n",
    "    mean_numerator = numerator_samples.mean()\n",
    "    mean_denominator = denominator_samples.mean()\n",
    "    energy_value = (mean_numerator / mean_denominator).item()\n",
    "    \n",
    "    # Compute variances and covariance\n",
    "    var_numerator = numerator_samples.var(unbiased=False)\n",
    "    var_denominator = denominator_samples.var(unbiased=False)\n",
    "    cov = torch.mean((numerator_samples - mean_numerator) * (denominator_samples - mean_denominator))\n",
    "    \n",
    "    # Calculate standard error\n",
    "    variance_term = var_numerator + energy_value**2 * var_denominator - 2 * energy_value * cov\n",
    "    standard_error = torch.sqrt(variance_term / n_samples) / mean_denominator\n",
    "    standard_error = standard_error.item()\n",
    "    \n",
    "    return energy_value, standard_error"
   ]
  },
  {
   "cell_type": "code",
   "execution_count": 4,
   "id": "22b99c0d-2a8f-442e-807e-0f024dad8a1f",
   "metadata": {
    "jupyter": {
     "source_hidden": true
    }
   },
   "outputs": [],
   "source": [
    "def symmetrized_nn_output(NN, x, n_permutations=10, permutations=None):\n",
    "    \"\"\"\n",
    "    Enforces permutation symmetry by averaging NN outputs over several \n",
    "    permutations of the particle indices.\n",
    "    \n",
    "    Args:\n",
    "        NN: A callable neural network that accepts input x of shape \n",
    "            (batch, n_particles, d).\n",
    "        x: Tensor of shape (batch, n_particles, d).\n",
    "        n_permutations: Number of permutations to average over.\n",
    "        permutations: (Optional) A list of precomputed permutation indices of length n_permutations.\n",
    "        \n",
    "    Returns:\n",
    "        A tensor with the averaged (symmetrized) output.\n",
    "    \"\"\"\n",
    "    batch_size, n_particles, _ = x.shape\n",
    "    outputs = []\n",
    "    \n",
    "    if permutations is None:\n",
    "        # If no permutations are provided, generate them (not recommended within vmap)\n",
    "        for _ in range(n_permutations):\n",
    "            perm = torch.randperm(n_particles)\n",
    "            outputs.append(NN(x[:, perm, :]))\n",
    "    else:\n",
    "        for perm in permutations:\n",
    "            outputs.append(NN(x[:, perm, :]))\n",
    "    \n",
    "    outputs = torch.stack(outputs, dim=0)  # shape: (n_permutations, batch, output_dim)\n",
    "    return outputs.mean(dim=0)\n",
    "\n",
    "def symmetrized_exp_nn_output(NN, x, n_permutations=10, permutations=None):\n",
    "    \"\"\"\n",
    "    Applies the exponential to the symmetrized NN output,\n",
    "    implementing f(x)=exp(NN(x)).\n",
    "    \"\"\"\n",
    "    return torch.exp(symmetrized_nn_output(NN, x, n_permutations, permutations))\n",
    "\n",
    "def compute_laplacian_fast(psi_fn, x, permutations=None):\n",
    "    \"\"\"\n",
    "    Compute the Laplacian of psi for a batch of configurations using functorch.jacrev.\n",
    "    \n",
    "    Args:\n",
    "        psi_fn: A function mapping a single configuration x (shape: (n_particles, d))\n",
    "                to a scalar psi (0-dim tensor). Must be pure.\n",
    "        x: Tensor of shape (batch, n_particles, d) with requires_grad=True.\n",
    "        permutations: (Optional) Precomputed list of permutation indices.\n",
    "        \n",
    "    Returns:\n",
    "        Tensor of shape (batch, 1) containing the Laplacian of psi.\n",
    "    \"\"\"\n",
    "    batch, n_particles, d = x.shape\n",
    "    D = n_particles * d\n",
    "    # Flatten each configuration to shape (D,)\n",
    "    x_flat = x.view(batch, D)\n",
    "    \n",
    "    def f(xx):\n",
    "        # Reshape xx to (n_particles, d) and compute psi.\n",
    "        return psi_fn(xx.view(n_particles, d), permutations=permutations)\n",
    "    \n",
    "    def single_hessian(xx):\n",
    "        # Compute the Hessian via double jacrev.\n",
    "        return functorch.jacrev(functorch.jacrev(f))(xx)\n",
    "    \n",
    "    # Vectorize single_hessian over the batch dimension.\n",
    "    hessians = functorch.vmap(single_hessian)(x_flat)  # shape: (batch, D, D)\n",
    "    # Laplacian is the trace of the Hessian.\n",
    "    laplacian = torch.diagonal(hessians, dim1=1, dim2=2).sum(dim=1, keepdim=True)\n",
    "    return laplacian\n",
    "\n",
    "def psi_fn(x_single, permutations=None):\n",
    "    \"\"\"\n",
    "    Compute the wavefunction for a single configuration.\n",
    "    \n",
    "    Args:\n",
    "        x_single: Tensor of shape (n_particles, d) with requires_grad=True.\n",
    "        permutations: (Optional) Precomputed list of permutation indices.\n",
    "    \n",
    "    Returns:\n",
    "        A scalar tensor representing psi.\n",
    "    \"\"\"\n",
    "    # Add a batch dimension: shape (1, n_particles, d)\n",
    "    x_batch = x_single.unsqueeze(0)\n",
    "    SD_val = slater_determinant_from_C_occ_batch(x_batch, C_occ)  # Assumed to be defined globally.\n",
    "    # Use the symmetrized exponential NN output.\n",
    "    f_val = symmetrized_exp_nn_output(f_net, x_batch, n_permutations=2, permutations=permutations)\n",
    "    psi_val = (SD_val * f_val).squeeze()  # Return a scalar tensor.\n",
    "    return psi_val"
   ]
  },
  {
   "cell_type": "code",
   "execution_count": 5,
   "id": "6c004137-d68d-4166-a3a6-680bbf0ffec3",
   "metadata": {
    "jupyter": {
     "source_hidden": true
    }
   },
   "outputs": [],
   "source": [
    "def harmonic_oscillator_wavefunction(n, grid):\n",
    "    \"\"\"\n",
    "    Compute the nth 1D harmonic oscillator eigenfunction using physicist's Hermite polynomials.\n",
    "    \"\"\"\n",
    "    # Use Scipy's Hermite which returns physicist's H_n(x)\n",
    "    from scipy.special import hermite\n",
    "    Hn = hermite(n)(grid)\n",
    "    norm = 1.0 / np.sqrt(2**n * factorial(n) * np.sqrt(np.pi))\n",
    "    psi = norm * np.exp(-grid**2 / 2) * Hn\n",
    "    return psi\n",
    "\n",
    "def initialize_harmonic_basis(n_basis, grid):\n",
    "    \"\"\"\n",
    "    Returns normalized basis functions using analytical normalization.\n",
    "    \"\"\"\n",
    "    basis = np.zeros((len(grid), n_basis))\n",
    "    for n in range(n_basis):\n",
    "        basis[:, n] = harmonic_oscillator_wavefunction(n, grid)\n",
    "    return basis\n",
    "\n",
    "# ---------------------------\n",
    "# One-Electron Integrals (Analytical Solution)\n",
    "# ---------------------------\n",
    "def one_electron_integral(n_basis):\n",
    "    \"\"\"\n",
    "    Diagonal matrix with entries (n + 0.5) for HO eigenfunctions.\n",
    "    \"\"\"\n",
    "    return np.diag(np.arange(n_basis) + 0.5)\n",
    "\n",
    "# ---------------------------\n",
    "# Two-Electron Integrals (Vectorized Computation)\n",
    "# ---------------------------\n",
    "def gaussian_interaction_potential(grid, V, sigma):\n",
    "    X, Xp = np.meshgrid(grid, grid, indexing='ij')\n",
    "    return V / (sigma * np.sqrt(2 * np.pi)) * np.exp(-(X - Xp)**2 / (2 * sigma**2))\n",
    "\n",
    "def compute_two_body_integrals(basis, V_interaction, grid):\n",
    "    \"\"\"\n",
    "    Vectorized computation of two-electron integrals using matrix operations.\n",
    "    \"\"\"\n",
    "    n_basis = basis.shape[1]\n",
    "    dx = grid[1] - grid[0]\n",
    "    n_grid = len(grid)\n",
    "    \n",
    "    # Generate Simpson weights for accurate integration\n",
    "    weights = np.ones(n_grid)\n",
    "    weights[1:-1:2] = 4\n",
    "    weights[2:-1:2] = 2\n",
    "    weights *= dx / 3.0\n",
    "    W = np.outer(weights, weights)\n",
    "    \n",
    "    # Precompute product basis functions\n",
    "    basis_products = basis[:, :, np.newaxis] * basis[:, np.newaxis, :]  # (n_grid, n_basis, n_basis)\n",
    "    B = basis_products.reshape(n_grid, -1).T  # (n_basis^2, n_grid)\n",
    "    \n",
    "    # Compute weighted interaction matrix\n",
    "    V_weighted = V_interaction * W\n",
    "    \n",
    "    # Matrix multiplication for all integrals\n",
    "    integral_matrix = B @ V_weighted @ B.T  # (n_basis^2, n_basis^2)\n",
    "    \n",
    "    return integral_matrix.reshape(n_basis, n_basis, n_basis, n_basis)\n"
   ]
  },
  {
   "cell_type": "code",
   "execution_count": 6,
   "id": "1d9f8b1b-8894-4d2f-bd9a-bc8d365599b8",
   "metadata": {
    "jupyter": {
     "source_hidden": true
    }
   },
   "outputs": [],
   "source": [
    "def evaluate_basis_functions_torch_batch(x, n_basis):\n",
    "    \"\"\"\n",
    "    Batched evaluation of 1D harmonic oscillator eigenfunctions.\n",
    "    \n",
    "    Args:\n",
    "        x: Tensor of shape (B, N) with electron positions.\n",
    "        n_basis: Number of basis functions to evaluate.\n",
    "        \n",
    "    Returns:\n",
    "        Tensor of shape (B, N, n_basis) where each column is one basis function.\n",
    "    \"\"\"\n",
    "    B, N = x.shape  # B=batch, N = number of electrons\n",
    "    # Precompute the Gaussian factor (shape: (B, N))\n",
    "    gauss = torch.exp(-x**2 / 2)\n",
    "    \n",
    "    # Precompute normalization factors\n",
    "    norm0 = 1.0 / math.sqrt(math.sqrt(math.pi))\n",
    "    phi0 = norm0 * gauss  # shape: (B, N)\n",
    "    \n",
    "    phi_list = [phi0]\n",
    "    \n",
    "    if n_basis > 1:\n",
    "        norm1 = 1.0 / math.sqrt(2 * math.sqrt(math.pi))\n",
    "        phi1 = norm1 * (2 * x) * gauss\n",
    "        phi_list.append(phi1)\n",
    "    \n",
    "    if n_basis > 2:\n",
    "        # Use vectorized recurrence for Hermite polynomials.\n",
    "        H_prev_prev = torch.ones_like(x)  # H_0\n",
    "        H_prev = 2 * x                     # H_1\n",
    "        for n in range(1, n_basis - 1):\n",
    "            H_curr = 2 * x * H_prev - 2 * n * H_prev_prev\n",
    "            norm = 1.0 / math.sqrt((2**(n+1)) * math.factorial(n+1) * math.sqrt(math.pi))\n",
    "            phi_n = norm * gauss * H_curr  # shape: (B, N)\n",
    "            phi_list.append(phi_n)\n",
    "            H_prev_prev, H_prev = H_prev, H_curr\n",
    "\n",
    "    # Stack basis functions along a new last dimension -> shape: (B, N, n_basis)\n",
    "    phi_vals = torch.stack(phi_list, dim=-1)\n",
    "    return phi_vals\n",
    "\n",
    "def slater_determinant_from_C_occ_batch(x_config, C_occ, normalize=True):\n",
    "    \"\"\"\n",
    "    Compute the Slater determinant in a fully batched manner.\n",
    "    \n",
    "    Args:\n",
    "        x_config: Tensor of shape (B, n_electrons, d), here assume d = 1,\n",
    "                  so you can squeeze it to (B, n_electrons).\n",
    "        C_occ:    Tensor of shape (n_basis, n_electrons) containing occupied orbital coefficients.\n",
    "        normalize: If True, include the factor 1/sqrt(n_electrons!).\n",
    "        \n",
    "    Returns:\n",
    "        Tensor of shape (B, 1) with the Slater determinant value for each configuration.\n",
    "    \"\"\"\n",
    "    B, n_electrons, d = x_config.shape\n",
    "    # For d=1, squeeze out the last dimension.\n",
    "    x = x_config.squeeze(-1)  # shape: (B, n_electrons)\n",
    "    n_basis = C_occ.shape[0]\n",
    "    \n",
    "    # Evaluate basis functions for all configurations at once.\n",
    "    # phi_vals has shape (B, n_electrons, n_basis)\n",
    "    phi_vals = evaluate_basis_functions_torch_batch(x, n_basis)\n",
    "    \n",
    "    # Build the molecular orbital matrix for each configuration.\n",
    "    # psi_mat: (B, n_electrons, n_basis) @ (n_basis, n_electrons) -> (B, n_electrons, n_electrons)\n",
    "    psi_mat = torch.matmul(phi_vals, C_occ)\n",
    "    \n",
    "    # Compute determinants in batch.\n",
    "    det_vals = torch.linalg.det(psi_mat).view(B, 1)\n",
    "    \n",
    "    if normalize:\n",
    "        det_vals = det_vals / math.sqrt(math.factorial(n_electrons))\n",
    "    return det_vals\n"
   ]
  },
  {
   "cell_type": "code",
   "execution_count": 7,
   "id": "a3d49f4a-0126-40da-b0a2-a48ecc58da1d",
   "metadata": {
    "jupyter": {
     "source_hidden": true
    }
   },
   "outputs": [],
   "source": [
    "def compute_interaction_potential(x, V, sigma):\n",
    "    batch_size, n_particles, d = x.shape\n",
    "    V_int = torch.zeros(batch_size, device=x.device)\n",
    "    for i in range(n_particles):\n",
    "        for j in range(i + 1, n_particles):\n",
    "            r = x[:, i, :] - x[:, j, :]\n",
    "            r_sq = (r**2).sum(dim=1)\n",
    "            V_int += torch.exp(-r_sq / (2 * sigma**2))\n",
    "    return (V / (sigma * np.sqrt(2 * np.pi))) * V_int.view(-1, 1)\n",
    "    \n",
    "def psi_plot_fn(positions):\n",
    "    # positions: Tensor of shape (batch, n_particles, 1)\n",
    "    SD_vals = slater_determinant_from_C_occ_batch(positions, C_occ)   # (batch, 1)\n",
    "    f_vals  = symmetrized_exp_nn_output(f_net, positions, n_permutations=2)#f_net(positions).view(-1, 1)                        # (batch, 1)\n",
    "    return SD_vals * f_vals   # (batch, 1)\n"
   ]
  },
  {
   "cell_type": "code",
   "execution_count": 8,
   "id": "40882535-cb9a-4ead-897a-17ebe3105d67",
   "metadata": {},
   "outputs": [
    {
     "name": "stdout",
     "output_type": "stream",
     "text": [
      "Calculating two-electron integrals...\n",
      "Two-electron integrals computed.\n",
      "Starting Hartree-Fock iterations...\n",
      "Iteration 0: Δ = 0.000e+00\n",
      "4.5\n"
     ]
    }
   ],
   "source": [
    "L = 4\n",
    "n_grid = 100\n",
    "grid = np.linspace(-L, L, n_grid)\n",
    "n_basis = 3\n",
    "n_electrons = 3\n",
    "n_particles=n_electrons\n",
    "dimensions=1\n",
    "\n",
    "# 1. Initialize basis (analytically normalized)\n",
    "basis = initialize_harmonic_basis(n_basis, grid)\n",
    "\n",
    "# 2. Compute one-electron integrals (instant)\n",
    "Hcore = one_electron_integral(n_basis)\n",
    "\n",
    "# 3. Gaussian interaction potential\n",
    "V = 0#10\n",
    "sigma = 0.5\n",
    "V_interaction = gaussian_interaction_potential(grid, V, sigma)\n",
    "\n",
    "# 4. Compute two-electron integrals (orders of magnitude faster)\n",
    "print(\"Calculating two-electron integrals...\")\n",
    "two_body = compute_two_body_integrals(basis, V_interaction, grid)\n",
    "print(\"Two-electron integrals computed.\")\n",
    "V=0\n",
    "# 5. Run the Hartree-Fock procedure\n",
    "print(\"Starting Hartree-Fock iterations...\")\n",
    "C_occ, orbital_energies = Master_funcs.hartree_fock(n_electrons, basis, grid, Hcore, two_body)\n",
    "C_occ=torch.Tensor(C_occ)"
   ]
  },
  {
   "cell_type": "code",
   "execution_count": 9,
   "id": "679f0d9b-9386-447d-92fd-0f23610f2163",
   "metadata": {},
   "outputs": [
    {
     "data": {
      "image/png": "[encoded data removed]",
      "text/plain": [
       "<Figure size 800x500 with 1 Axes>"
      ]
     },
     "metadata": {},
     "output_type": "display_data"
    }
   ],
   "source": [
    "Ngrid = 60       # Number of grid points per particle coordinate\n",
    "L=3\n",
    "x_grid = torch.linspace(-L, L, Ngrid)  # shape: (Ngrid,)\n",
    "mesh = torch.meshgrid(*([x_grid] * n_particles), indexing='ij')\n",
    "positions = torch.stack([m.reshape(-1) for m in mesh], dim=-1)\n",
    "positions = positions.unsqueeze(-1)\n",
    "\n",
    "SD_vals = slater_determinant_from_C_occ_batch(positions, C_occ)   # shape: (Ngrid**n_particles, 1)\n",
    "                   # shape: (Ngrid**n_particles, 1)\n",
    "psi_vals = SD_vals                            # shape: (Ngrid**n_particles, 1)\n",
    "#psi_vals = psi_plot_fn(positions)\n",
    "psi_sq = (psi_vals.abs()**2).view(*([Ngrid] * n_particles))\n",
    "density = psi_sq.clone()\n",
    "for axis in sorted(range(1, n_particles), reverse=True):\n",
    "    density = torch.trapz(density, x_grid, dim=axis)\n",
    "n_x = n_particles * density  # shape: (Ngrid,)\n",
    "\n",
    "# --- 7. Plot the one-body density ---\n",
    "x_vals = x_grid.detach().cpu().numpy()\n",
    "n_vals = n_x.detach().cpu().numpy()\n",
    "\n",
    "plt.figure(figsize=(8, 5))\n",
    "plt.plot(x_vals, n_vals, label=r'$n(x_1)$')\n",
    "plt.xlabel('x')\n",
    "plt.ylabel(r'$n(x_1)$')\n",
    "plt.title(f'One-Body Density for a {n_particles}-Particle 1D System')\n",
    "plt.legend()\n",
    "plt.show()\n"
   ]
  },
  {
   "cell_type": "code",
   "execution_count": 10,
   "id": "7ff351c7-f681-4f39-bf5b-7d187acf10fb",
   "metadata": {
    "jupyter": {
     "source_hidden": true
    }
   },
   "outputs": [],
   "source": [
    "def metropolis_step(x, C_occ, step_size=0.1):\n",
    "    \"\"\"\n",
    "    One Metropolis-Hastings step to sample x from |ψ(x)|².\n",
    "    x: (n_electrons, 1) for 1D\n",
    "    \"\"\"\n",
    "    x_new = x + torch.randn_like(x) * step_size\n",
    "    \n",
    "    psi_sq_old = slater_determinant_from_C_occ_batch(x.unsqueeze(0), C_occ).squeeze()**2\n",
    "    psi_sq_new = slater_determinant_from_C_occ_batch(x_new.unsqueeze(0), C_occ).squeeze()**2\n",
    "    \n",
    "    ratio = (psi_sq_new / (psi_sq_old + 1e-10)).clamp(min=0.0)\n",
    "    if torch.rand(1) < ratio:\n",
    "        return x_new\n",
    "    else:\n",
    "        return x\n",
    "\n",
    "def generate_samples_with_metropolis(n_samples, C_occ, n_electrons=3, L=1.0,\n",
    "                                     n_thermalize=1000, step_size=0.5, n_chains=100):\n",
    "    \"\"\"Parallel chain Metropolis sampling with corrected broadcasting\"\"\"\n",
    "    # Initialize chains with shape (n_chains, n_electrons, 1)\n",
    "    x = torch.empty(n_chains, n_electrons, 1).uniform_(-L, L)\n",
    "    \n",
    "    def metropolis_step(x_current):\n",
    "        x_prop = x_current + torch.randn_like(x_current) * step_size\n",
    "        psi_old = slater_determinant_from_C_occ_batch(x_current, C_occ).abs().squeeze() + 1e-8\n",
    "        psi_new = slater_determinant_from_C_occ_batch(x_prop, C_occ).abs().squeeze() + 1e-8\n",
    "        ratio = (psi_new**2 / psi_old**2).clamp(0, 1e5)\n",
    "        # Create acceptance mask with proper dimensions\n",
    "        accept_mask = (torch.rand(n_chains) < ratio).view(-1, 1, 1).expand_as(x_current)\n",
    "        return torch.where(accept_mask, x_prop, x_current)\n",
    "\n",
    "    # Thermalization\n",
    "    for _ in range(n_thermalize):\n",
    "        x = metropolis_step(x)\n",
    "    \n",
    "    # Sampling\n",
    "    samples = []\n",
    "    for _ in range(n_samples // n_chains + 1):\n",
    "        x = metropolis_step(x)\n",
    "        samples.append(x.clone())\n",
    "    \n",
    "    return torch.cat(samples)[:n_samples]\n"
   ]
  },
  {
   "cell_type": "code",
   "execution_count": 11,
   "id": "d70adbab-a496-4594-9340-f9231cbb8eae",
   "metadata": {},
   "outputs": [],
   "source": [
    "# Compare histograms of electron 0's x-coordinate\n",
    "n_plot = 400000\n",
    "x_target_plot = generate_samples_with_metropolis(n_plot, C_occ, n_electrons,step_size=0.6)\n",
    "x_target_plot = x_target_plot"
   ]
  },
  {
   "cell_type": "code",
   "execution_count": 12,
   "id": "83c2ff22-a628-40fc-8860-74b7e6ce339b",
   "metadata": {},
   "outputs": [
    {
     "name": "stderr",
     "output_type": "stream",
     "text": [
      "/Users/mhjensen/miniforge3/envs/myenv/lib/python3.9/site-packages/torchvision/io/image.py:13: UserWarning: Failed to load image Python extension: 'dlopen(/Users/mhjensen/miniforge3/envs/myenv/lib/python3.9/site-packages/torchvision/image.so, 0x0006): Symbol not found: __ZN3c1017RegisterOperatorsD1Ev\n",
      "  Referenced from: <2D1B8D5C-7891-3680-9CF9-F771AE880676> /Users/mhjensen/miniforge3/envs/myenv/lib/python3.9/site-packages/torchvision/image.so\n",
      "  Expected in:     <ADC0A61A-5B83-3A02-975F-EE5DFF441305> /Users/mhjensen/miniforge3/envs/myenv/lib/python3.9/site-packages/torch/lib/libtorch_cpu.dylib'If you don't plan on using image functionality from `torchvision.io`, you can ignore this warning. Otherwise, there might be something wrong with your environment. Did you have `libjpeg` or `libpng` installed before building `torchvision` from source?\n",
      "  warn(\n"
     ]
    }
   ],
   "source": [
    "# define a model\n",
    "from torchvision.ops import MLP\n",
    "Mapper = MLP(in_channels=(n_particles+1), hidden_channels=[200,200, n_particles], activation_layer=torch.nn.SiLU)\n",
    "optimizer = optim.Adam(list(Mapper.parameters()), lr=1e-3)"
   ]
  },
  {
   "cell_type": "code",
   "execution_count": null,
   "id": "fef00988-beff-4852-869a-dcd1f097f265",
   "metadata": {},
   "outputs": [],
   "source": []
  },
  {
   "cell_type": "code",
   "execution_count": 13,
   "id": "6ba796ce-db33-4ffe-8f7e-8fc3d6059ccd",
   "metadata": {
    "scrolled": true
   },
   "outputs": [
    {
     "name": "stderr",
     "output_type": "stream",
     "text": [
      "  0%|                                                                            | 1/4000 [00:00<1:02:47,  1.06it/s]"
     ]
    },
    {
     "name": "stdout",
     "output_type": "stream",
     "text": [
      "Epoch : 0.0000e+00 Loss : 2.1993\n"
     ]
    },
    {
     "name": "stderr",
     "output_type": "stream",
     "text": [
      "  3%|█▊                                                                        | 101/4000 [01:34<1:07:09,  1.03s/it]"
     ]
    },
    {
     "name": "stdout",
     "output_type": "stream",
     "text": [
      "Epoch : 1.0000e+02 Loss : 1.7591\n"
     ]
    },
    {
     "name": "stderr",
     "output_type": "stream",
     "text": [
      "  5%|███▋                                                                      | 201/4000 [03:13<1:06:09,  1.04s/it]"
     ]
    },
    {
     "name": "stdout",
     "output_type": "stream",
     "text": [
      "Epoch : 2.0000e+02 Loss : 1.7567\n"
     ]
    },
    {
     "name": "stderr",
     "output_type": "stream",
     "text": [
      "  8%|█████▌                                                                    | 301/4000 [04:57<1:03:54,  1.04s/it]"
     ]
    },
    {
     "name": "stdout",
     "output_type": "stream",
     "text": [
      "Epoch : 3.0000e+02 Loss : 1.7585\n"
     ]
    },
    {
     "name": "stderr",
     "output_type": "stream",
     "text": [
      " 10%|███████▍                                                                  | 401/4000 [06:43<1:07:08,  1.12s/it]"
     ]
    },
    {
     "name": "stdout",
     "output_type": "stream",
     "text": [
      "Epoch : 4.0000e+02 Loss : 1.7695\n"
     ]
    },
    {
     "name": "stderr",
     "output_type": "stream",
     "text": [
      " 13%|█████████▎                                                                | 501/4000 [08:35<1:03:50,  1.09s/it]"
     ]
    },
    {
     "name": "stdout",
     "output_type": "stream",
     "text": [
      "Epoch : 5.0000e+02 Loss : 1.7834\n"
     ]
    },
    {
     "name": "stderr",
     "output_type": "stream",
     "text": [
      " 15%|███████████▍                                                                | 601/4000 [10:17<57:05,  1.01s/it]"
     ]
    },
    {
     "name": "stdout",
     "output_type": "stream",
     "text": [
      "Epoch : 6.0000e+02 Loss : 1.7396\n"
     ]
    },
    {
     "name": "stderr",
     "output_type": "stream",
     "text": [
      " 18%|████████████▉                                                             | 701/4000 [12:03<1:01:28,  1.12s/it]"
     ]
    },
    {
     "name": "stdout",
     "output_type": "stream",
     "text": [
      "Epoch : 7.0000e+02 Loss : 1.7477\n"
     ]
    },
    {
     "name": "stderr",
     "output_type": "stream",
     "text": [
      " 20%|███████████████▏                                                            | 801/4000 [13:56<58:39,  1.10s/it]"
     ]
    },
    {
     "name": "stdout",
     "output_type": "stream",
     "text": [
      "Epoch : 8.0000e+02 Loss : 1.7485\n"
     ]
    },
    {
     "name": "stderr",
     "output_type": "stream",
     "text": [
      " 23%|█████████████████                                                           | 901/4000 [15:43<54:42,  1.06s/it]"
     ]
    },
    {
     "name": "stdout",
     "output_type": "stream",
     "text": [
      "Epoch : 9.0000e+02 Loss : 1.7541\n"
     ]
    },
    {
     "name": "stderr",
     "output_type": "stream",
     "text": [
      " 25%|██████████████████▊                                                        | 1001/4000 [17:29<45:26,  1.10it/s]"
     ]
    },
    {
     "name": "stdout",
     "output_type": "stream",
     "text": [
      "Epoch : 1.0000e+03 Loss : 1.7495\n"
     ]
    },
    {
     "name": "stderr",
     "output_type": "stream",
     "text": [
      " 28%|████████████████████▋                                                      | 1101/4000 [19:07<50:20,  1.04s/it]"
     ]
    },
    {
     "name": "stdout",
     "output_type": "stream",
     "text": [
      "Epoch : 1.1000e+03 Loss : 1.7667\n"
     ]
    },
    {
     "name": "stderr",
     "output_type": "stream",
     "text": [
      " 30%|██████████████████████▌                                                    | 1201/4000 [21:01<47:53,  1.03s/it]"
     ]
    },
    {
     "name": "stdout",
     "output_type": "stream",
     "text": [
      "Epoch : 1.2000e+03 Loss : 1.7546\n"
     ]
    },
    {
     "name": "stderr",
     "output_type": "stream",
     "text": [
      " 33%|████████████████████████▍                                                  | 1301/4000 [22:56<58:27,  1.30s/it]"
     ]
    },
    {
     "name": "stdout",
     "output_type": "stream",
     "text": [
      "Epoch : 1.3000e+03 Loss : 1.7595\n"
     ]
    },
    {
     "name": "stderr",
     "output_type": "stream",
     "text": [
      " 35%|██████████████████████████▎                                                | 1401/4000 [24:45<48:43,  1.12s/it]"
     ]
    },
    {
     "name": "stdout",
     "output_type": "stream",
     "text": [
      "Epoch : 1.4000e+03 Loss : 1.7541\n"
     ]
    },
    {
     "name": "stderr",
     "output_type": "stream",
     "text": [
      " 38%|████████████████████████████▏                                              | 1501/4000 [26:45<54:53,  1.32s/it]"
     ]
    },
    {
     "name": "stdout",
     "output_type": "stream",
     "text": [
      "Epoch : 1.5000e+03 Loss : 1.7356\n"
     ]
    },
    {
     "name": "stderr",
     "output_type": "stream",
     "text": [
      " 40%|██████████████████████████████                                             | 1601/4000 [28:28<40:44,  1.02s/it]"
     ]
    },
    {
     "name": "stdout",
     "output_type": "stream",
     "text": [
      "Epoch : 1.6000e+03 Loss : 1.7519\n"
     ]
    },
    {
     "name": "stderr",
     "output_type": "stream",
     "text": [
      " 43%|███████████████████████████████▉                                           | 1701/4000 [30:18<44:44,  1.17s/it]"
     ]
    },
    {
     "name": "stdout",
     "output_type": "stream",
     "text": [
      "Epoch : 1.7000e+03 Loss : 1.7623\n"
     ]
    },
    {
     "name": "stderr",
     "output_type": "stream",
     "text": [
      " 45%|█████████████████████████████████▊                                         | 1801/4000 [32:09<42:24,  1.16s/it]"
     ]
    },
    {
     "name": "stdout",
     "output_type": "stream",
     "text": [
      "Epoch : 1.8000e+03 Loss : 1.7284\n"
     ]
    },
    {
     "name": "stderr",
     "output_type": "stream",
     "text": [
      " 48%|███████████████████████████████████▋                                       | 1901/4000 [34:12<40:38,  1.16s/it]"
     ]
    },
    {
     "name": "stdout",
     "output_type": "stream",
     "text": [
      "Epoch : 1.9000e+03 Loss : 1.7814\n"
     ]
    },
    {
     "name": "stderr",
     "output_type": "stream",
     "text": [
      " 50%|█████████████████████████████████████▌                                     | 2001/4000 [36:05<32:21,  1.03it/s]"
     ]
    },
    {
     "name": "stdout",
     "output_type": "stream",
     "text": [
      "Epoch : 2.0000e+03 Loss : 1.7600\n"
     ]
    },
    {
     "name": "stderr",
     "output_type": "stream",
     "text": [
      " 53%|███████████████████████████████████████▍                                   | 2101/4000 [37:50<30:55,  1.02it/s]"
     ]
    },
    {
     "name": "stdout",
     "output_type": "stream",
     "text": [
      "Epoch : 2.1000e+03 Loss : 1.7738\n"
     ]
    },
    {
     "name": "stderr",
     "output_type": "stream",
     "text": [
      " 55%|█████████████████████████████████████████▎                                 | 2201/4000 [39:31<30:03,  1.00s/it]"
     ]
    },
    {
     "name": "stdout",
     "output_type": "stream",
     "text": [
      "Epoch : 2.2000e+03 Loss : 1.7597\n"
     ]
    },
    {
     "name": "stderr",
     "output_type": "stream",
     "text": [
      " 58%|███████████████████████████████████████████▏                               | 2301/4000 [41:11<29:11,  1.03s/it]"
     ]
    },
    {
     "name": "stdout",
     "output_type": "stream",
     "text": [
      "Epoch : 2.3000e+03 Loss : 1.7614\n"
     ]
    },
    {
     "name": "stderr",
     "output_type": "stream",
     "text": [
      " 60%|█████████████████████████████████████████████                              | 2401/4000 [42:49<23:53,  1.12it/s]"
     ]
    },
    {
     "name": "stdout",
     "output_type": "stream",
     "text": [
      "Epoch : 2.4000e+03 Loss : 1.7688\n"
     ]
    },
    {
     "name": "stderr",
     "output_type": "stream",
     "text": [
      " 63%|██████████████████████████████████████████████▉                            | 2501/4000 [44:30<22:08,  1.13it/s]"
     ]
    },
    {
     "name": "stdout",
     "output_type": "stream",
     "text": [
      "Epoch : 2.5000e+03 Loss : 1.7775\n"
     ]
    },
    {
     "name": "stderr",
     "output_type": "stream",
     "text": [
      " 65%|████████████████████████████████████████████████▊                          | 2601/4000 [46:10<22:47,  1.02it/s]"
     ]
    },
    {
     "name": "stdout",
     "output_type": "stream",
     "text": [
      "Epoch : 2.6000e+03 Loss : 1.7565\n"
     ]
    },
    {
     "name": "stderr",
     "output_type": "stream",
     "text": [
      " 68%|██████████████████████████████████████████████████▋                        | 2701/4000 [47:52<19:32,  1.11it/s]"
     ]
    },
    {
     "name": "stdout",
     "output_type": "stream",
     "text": [
      "Epoch : 2.7000e+03 Loss : 1.7441\n"
     ]
    },
    {
     "name": "stderr",
     "output_type": "stream",
     "text": [
      " 70%|████████████████████████████████████████████████████▌                      | 2801/4000 [49:35<19:41,  1.01it/s]"
     ]
    },
    {
     "name": "stdout",
     "output_type": "stream",
     "text": [
      "Epoch : 2.8000e+03 Loss : 1.7622\n"
     ]
    },
    {
     "name": "stderr",
     "output_type": "stream",
     "text": [
      " 73%|██████████████████████████████████████████████████████▍                    | 2901/4000 [51:14<16:35,  1.10it/s]"
     ]
    },
    {
     "name": "stdout",
     "output_type": "stream",
     "text": [
      "Epoch : 2.9000e+03 Loss : 1.7648\n"
     ]
    },
    {
     "name": "stderr",
     "output_type": "stream",
     "text": [
      " 75%|████████████████████████████████████████████████████████▎                  | 3001/4000 [52:56<16:17,  1.02it/s]"
     ]
    },
    {
     "name": "stdout",
     "output_type": "stream",
     "text": [
      "Epoch : 3.0000e+03 Loss : 1.7679\n"
     ]
    },
    {
     "name": "stderr",
     "output_type": "stream",
     "text": [
      " 78%|██████████████████████████████████████████████████████████▏                | 3101/4000 [54:36<14:38,  1.02it/s]"
     ]
    },
    {
     "name": "stdout",
     "output_type": "stream",
     "text": [
      "Epoch : 3.1000e+03 Loss : 1.7865\n"
     ]
    },
    {
     "name": "stderr",
     "output_type": "stream",
     "text": [
      " 80%|████████████████████████████████████████████████████████████               | 3201/4000 [56:15<13:00,  1.02it/s]"
     ]
    },
    {
     "name": "stdout",
     "output_type": "stream",
     "text": [
      "Epoch : 3.2000e+03 Loss : 1.7724\n"
     ]
    },
    {
     "name": "stderr",
     "output_type": "stream",
     "text": [
      " 83%|█████████████████████████████████████████████████████████████▉             | 3301/4000 [57:50<10:59,  1.06it/s]"
     ]
    },
    {
     "name": "stdout",
     "output_type": "stream",
     "text": [
      "Epoch : 3.3000e+03 Loss : 1.7752\n"
     ]
    },
    {
     "name": "stderr",
     "output_type": "stream",
     "text": [
      " 85%|███████████████████████████████████████████████████████████████▊           | 3401/4000 [59:25<09:53,  1.01it/s]"
     ]
    },
    {
     "name": "stdout",
     "output_type": "stream",
     "text": [
      "Epoch : 3.4000e+03 Loss : 1.7526\n"
     ]
    },
    {
     "name": "stderr",
     "output_type": "stream",
     "text": [
      " 88%|███████████████████████████████████████████████████████████████▉         | 3501/4000 [1:01:05<07:49,  1.06it/s]"
     ]
    },
    {
     "name": "stdout",
     "output_type": "stream",
     "text": [
      "Epoch : 3.5000e+03 Loss : 1.7622\n"
     ]
    },
    {
     "name": "stderr",
     "output_type": "stream",
     "text": [
      " 90%|█████████████████████████████████████████████████████████████████▋       | 3601/4000 [1:02:49<07:09,  1.08s/it]"
     ]
    },
    {
     "name": "stdout",
     "output_type": "stream",
     "text": [
      "Epoch : 3.6000e+03 Loss : 1.7469\n"
     ]
    },
    {
     "name": "stderr",
     "output_type": "stream",
     "text": [
      " 93%|███████████████████████████████████████████████████████████████████▌     | 3701/4000 [1:09:12<04:22,  1.14it/s]"
     ]
    },
    {
     "name": "stdout",
     "output_type": "stream",
     "text": [
      "Epoch : 3.7000e+03 Loss : 1.7840\n"
     ]
    },
    {
     "name": "stderr",
     "output_type": "stream",
     "text": [
      " 95%|█████████████████████████████████████████████████████████████████████▎   | 3801/4000 [1:10:51<03:16,  1.01it/s]"
     ]
    },
    {
     "name": "stdout",
     "output_type": "stream",
     "text": [
      "Epoch : 3.8000e+03 Loss : 1.7316\n"
     ]
    },
    {
     "name": "stderr",
     "output_type": "stream",
     "text": [
      " 98%|███████████████████████████████████████████████████████████████████████▏ | 3901/4000 [1:12:31<01:27,  1.13it/s]"
     ]
    },
    {
     "name": "stdout",
     "output_type": "stream",
     "text": [
      "Epoch : 3.9000e+03 Loss : 1.7626\n"
     ]
    },
    {
     "name": "stderr",
     "output_type": "stream",
     "text": [
      "100%|█████████████████████████████████████████████████████████████████████████| 4000/4000 [1:13:58<00:00,  1.11s/it]\n"
     ]
    }
   ],
   "source": [
    "from tqdm import tqdm\n",
    "criterion = torch.nn.MSELoss(reduction=\"none\")\n",
    "\n",
    "# train the model:\n",
    "device='cpu'\n",
    "d=1\n",
    "num_epochs = 4000  # use fewer epochs if it takes too long\n",
    "Grid=n_plot\n",
    "batch_size = Grid\n",
    "losses = []\n",
    "batch_size_batch=10000\n",
    "batches = Grid//batch_size_batch\n",
    "\n",
    "y=x_target_plot\n",
    "y=y.squeeze(-1)\n",
    "for epoch in tqdm(range(num_epochs)):\n",
    "    for batch in range(batches):\n",
    "        x = torch.normal(0,1,size=(batch_size_batch,n_particles*d))\n",
    "        #y = slater_determinant_from_C_occ_batch(x.unsqueeze(-1), C_occ)\n",
    "        t = torch.rand(batch_size_batch)\n",
    "        y_temp = y[batch*batch_size_batch:(batch+1)*batch_size_batch]\n",
    "        #y_temp = generate_samples_with_metropolis(4000, C_occ, n_electrons,step_size=1).squeeze(-1)\n",
    "        x, y_temp, t = x.to(device), y_temp.to(device), t.to(device)\n",
    "        \n",
    "        # TODO: implement the training loop\n",
    "        psi_t = (1 - t.unsqueeze(-1))*x + t.unsqueeze(-1)*y_temp\n",
    "        model_input = torch.cat([psi_t, t.unsqueeze(-1)], dim=-1)\n",
    "        v_t = Mapper(model_input)\n",
    "        \n",
    "        # Loss \n",
    "        v_true = y_temp - x\n",
    "        loss = criterion(v_t, v_true)  # Shape: (batch_size, 2)\n",
    "        loss = loss.mean()\n",
    "        losses.append(loss.item())\n",
    "    \n",
    "        # Backpropagation\n",
    "        optimizer.zero_grad()\n",
    "        loss.backward()\n",
    "        optimizer.step()\n",
    "    if epoch%100==0:\n",
    "        print(f\"Epoch : {epoch:.4e}\", f\"Loss : {loss.item():.4f}\")"
   ]
  },
  {
   "cell_type": "code",
   "execution_count": 14,
   "id": "4c2db0c0-74d5-4cf0-a081-af34828d7fde",
   "metadata": {},
   "outputs": [],
   "source": [
    "def sample(Mapper,size):\n",
    "    x0 = torch.normal(0,1,size=(size,n_particles*d))\n",
    "    x = x0.to(device)\n",
    "    t_values = torch.linspace(0, 1, 100 + 1, device=device)\n",
    "    dt = t_values[1] - t_values[0]  # Time step size\n",
    "    \n",
    "    # Euler integration loop\n",
    "    for t in t_values:\n",
    "        t_tensor = t.expand(x.size(0), 1) \n",
    "        model_input = torch.cat([x, t_tensor], dim=-1)\n",
    "        v_t = Mapper(model_input)\n",
    "        x = x + dt * v_t\n",
    "    return x"
   ]
  },
  {
   "cell_type": "code",
   "execution_count": 18,
   "id": "ea4998fe-24d7-4661-bd53-95401b5eaebe",
   "metadata": {},
   "outputs": [
    {
     "data": {
      "image/png": "[encoded data removed]",
      "text/plain": [
       "<Figure size 640x480 with 1 Axes>"
      ]
     },
     "metadata": {},
     "output_type": "display_data"
    }
   ],
   "source": [
    "x = sample(Mapper, 40000).detach().numpy()\n",
    "plt.figure()\n",
    "plt.hist(x[:,0], bins=100, density=True, alpha=0.5, label=\"Flow model\")\n",
    "plt.hist(x_target_plot[:,0,0], bins=100, density=True, alpha=0.5, label=\"metro\")\n",
    "plt.xlabel(\"x (electron 0)\")\n",
    "plt.ylabel(\"Density\")\n",
    "plt.legend()\n",
    "plt.title(\"Comparison of Flow vs. Target Samples\")\n",
    "plt.show()"
   ]
  },
  {
   "cell_type": "code",
   "execution_count": 15,
   "id": "ec287704-a0d8-47ac-89b6-3f004dae33c9",
   "metadata": {},
   "outputs": [],
   "source": [
    "class PINN(nn.Module):\n",
    "    def __init__(self, input_dim, hidden_dim=64, n_hidden=1,act=nn.GELU()):\n",
    "        super(PINN, self).__init__()\n",
    "        layers = []\n",
    "        layers.append(nn.Linear(input_dim, hidden_dim))\n",
    "        layers.append(act)\n",
    "        for _ in range(n_hidden):\n",
    "            layers.append(nn.Linear(hidden_dim, hidden_dim))\n",
    "            layers.append(act)\n",
    "        layers.append(nn.Linear(hidden_dim, 1))  # output a scalar correction factor\n",
    "        self.net = nn.Sequential(*layers)\n",
    "    \n",
    "    def forward(self, x):\n",
    "        # x is of shape (batch_size, n_particles, d)\n",
    "        # Flatten the input to (batch_size, n_particles * d)\n",
    "        batch_size = x.shape[0]\n",
    "        x_flat = x.view(batch_size, -1)\n",
    "        return self.net(x_flat)\n"
   ]
  },
  {
   "cell_type": "code",
   "execution_count": 16,
   "id": "91213d8f-0274-40fb-aa04-6886b66e206f",
   "metadata": {},
   "outputs": [],
   "source": [
    "def train_model(V,E,f_net,optimizer,N_collocation=200,n_epochs=800,step_size=0.1):\n",
    "    factor=0.001\n",
    "    for epoch in range(n_epochs):\n",
    "        #x = flow_model.sample(N_collocation)\n",
    "        #x = generate_samples_with_metropolis(N_collocation, f_net, n_thermalize=20)\n",
    "        x = sample(Mapper, N_collocation).unsqueeze(-1)\n",
    "        optimizer.zero_grad()\n",
    "        \n",
    "        SD = slater_determinant_from_C_occ_batch(x, C_occ)\n",
    "        n_permutations = 6\n",
    "        perm_list = [torch.randperm(n_particles) for _ in range(n_permutations)]\n",
    "        f_out= symmetrized_exp_nn_output(f_net, x, n_permutations=6)\n",
    "        f_out=f_out.reshape(len(f_out))\n",
    "        \n",
    "        psi = SD * f_out\n",
    "        norm=torch.norm(psi, p=2)\n",
    "        psi=psi/norm\n",
    "        laplacian = compute_laplacian_fast(psi_fn, x, permutations=perm_list)#compute_laplacian_fast(psi_fn, x)\n",
    "        V_harmonic = 0.5 * (x**2).sum(dim=(1,2)).view(-1,1)\n",
    "        V_int = compute_interaction_potential(x, V, 0.5)\n",
    "        V_total = V_harmonic + V_int\n",
    "        H_psi = -0.5 * laplacian + V_total * psi\n",
    "        residual = H_psi - (E)*psi\n",
    "        norm_loss = (norm - 1)**2\n",
    "        if norm>=1e-2:\n",
    "            factor*=0.9\n",
    "        else:\n",
    "            factor*=1.1\n",
    "        loss_pde = torch.mean((residual)**2)\n",
    "        variance = torch.var(H_psi/psi)\n",
    "        loss = loss_pde + factor*norm_loss#+variance\n",
    "        loss.backward()\n",
    "        optimizer.step()\n",
    "        \n",
    "        if epoch % 10 == 0:\n",
    "            print(f\"Epoch {epoch:05d}:  Pde Loss = {loss_pde.item():.3e}, \"\n",
    "                  f\"Norm = {norm.item():.3e}\", f\"Variance = {variance.item():.3e}\")\n",
    "    return f_net"
   ]
  },
  {
   "cell_type": "code",
   "execution_count": 17,
   "id": "2ebc96d8-20b5-41cc-ab8a-f4d1cca10cb6",
   "metadata": {},
   "outputs": [],
   "source": [
    "device=\"cpu\"\n",
    "d = 1\n",
    "N_collocation = 400 # Number of collocation points per training iteration\n",
    "learning_rate = 1e-3\n",
    "n_epochs = 2000\n",
    "\n",
    "# Test points\n",
    "input_dim = n_particles * d\n",
    "f_net = PINN(input_dim=input_dim, hidden_dim=200, n_hidden=2,act=nn.Mish()).to(device)\n",
    "optimizer = optim.Adam(list(f_net.parameters()), lr=learning_rate)"
   ]
  },
  {
   "cell_type": "code",
   "execution_count": 18,
   "id": "53db4dd4-711f-4314-b0df-46aaaa7ad8eb",
   "metadata": {
    "scrolled": true
   },
   "outputs": [
    {
     "name": "stderr",
     "output_type": "stream",
     "text": [
      "/Users/mhjensen/miniforge3/envs/myenv/lib/python3.9/site-packages/torch/_functorch/deprecated.py:61: UserWarning: We've integrated functorch into PyTorch. As the final step of the integration, functorch.vmap is deprecated as of PyTorch 2.0 and will be deleted in a future version of PyTorch >= 2.3. Please use torch.vmap instead; see the PyTorch 2.0 release notes and/or the torch.func migration guide for more details https://pytorch.org/docs/master/func.migrating.html\n",
      "  warn_deprecated('vmap', 'torch.vmap')\n",
      "/Users/mhjensen/miniforge3/envs/myenv/lib/python3.9/site-packages/torch/_functorch/deprecated.py:83: UserWarning: We've integrated functorch into PyTorch. As the final step of the integration, functorch.jacrev is deprecated as of PyTorch 2.0 and will be deleted in a future version of PyTorch >= 2.3. Please use torch.func.jacrev instead; see the PyTorch 2.0 release notes and/or the torch.func migration guide for more details https://pytorch.org/docs/master/func.migrating.html\n",
      "  warn_deprecated('jacrev')\n"
     ]
    },
    {
     "name": "stdout",
     "output_type": "stream",
     "text": [
      "Epoch 00000:  Pde Loss = 2.057e-01, Norm = 1.756e+01 Variance = 3.718e+02\n",
      "Epoch 00010:  Pde Loss = 9.747e-04, Norm = 1.766e+00 Variance = 1.133e+01\n",
      "Epoch 00020:  Pde Loss = 4.204e-04, Norm = 2.468e-01 Variance = 1.152e+00\n",
      "Epoch 00030:  Pde Loss = 5.741e-04, Norm = 8.298e-02 Variance = 6.409e-01\n",
      "Epoch 00040:  Pde Loss = 6.585e-04, Norm = 5.712e-02 Variance = 9.908e-01\n",
      "Epoch 00050:  Pde Loss = 6.476e-04, Norm = 5.072e-02 Variance = 1.053e+00\n",
      "Epoch 00060:  Pde Loss = 6.659e-04, Norm = 5.218e-02 Variance = 1.030e+00\n",
      "Epoch 00070:  Pde Loss = 6.150e-04, Norm = 4.871e-02 Variance = 9.369e-01\n",
      "Epoch 00080:  Pde Loss = 6.748e-04, Norm = 5.342e-02 Variance = 9.714e-01\n",
      "Epoch 00090:  Pde Loss = 6.132e-04, Norm = 5.185e-02 Variance = 8.860e-01\n",
      "Epoch 00100:  Pde Loss = 6.198e-04, Norm = 5.080e-02 Variance = 1.086e+00\n",
      "Epoch 00110:  Pde Loss = 6.537e-04, Norm = 6.562e-02 Variance = 7.571e-01\n",
      "Epoch 00120:  Pde Loss = 6.308e-04, Norm = 7.554e-02 Variance = 1.201e+00\n",
      "Epoch 00130:  Pde Loss = 6.238e-04, Norm = 7.717e-02 Variance = 6.465e-01\n",
      "Epoch 00140:  Pde Loss = 6.058e-04, Norm = 7.895e-02 Variance = 7.704e-01\n",
      "Epoch 00150:  Pde Loss = 6.102e-04, Norm = 8.958e-02 Variance = 7.982e-01\n",
      "Epoch 00160:  Pde Loss = 6.235e-04, Norm = 9.789e-02 Variance = 5.684e-01\n",
      "Epoch 00170:  Pde Loss = 5.530e-04, Norm = 1.028e-01 Variance = 4.888e-01\n",
      "Epoch 00180:  Pde Loss = 5.708e-04, Norm = 1.176e-01 Variance = 7.628e-01\n",
      "Epoch 00190:  Pde Loss = 5.602e-04, Norm = 1.268e-01 Variance = 7.159e-01\n",
      "Epoch 00200:  Pde Loss = 5.358e-04, Norm = 1.527e-01 Variance = 6.034e-01\n",
      "Epoch 00210:  Pde Loss = 4.967e-04, Norm = 1.820e-01 Variance = 4.313e-01\n",
      "Epoch 00220:  Pde Loss = 4.589e-04, Norm = 2.083e-01 Variance = 4.069e-01\n",
      "Epoch 00230:  Pde Loss = 4.098e-04, Norm = 2.293e-01 Variance = 4.593e-01\n",
      "Epoch 00240:  Pde Loss = 3.508e-04, Norm = 3.056e-01 Variance = 3.452e-01\n",
      "Epoch 00250:  Pde Loss = 3.001e-04, Norm = 3.273e-01 Variance = 3.865e-01\n",
      "Epoch 00260:  Pde Loss = 2.382e-04, Norm = 4.298e-01 Variance = 4.690e-01\n",
      "Epoch 00270:  Pde Loss = 1.700e-04, Norm = 5.082e-01 Variance = 6.603e-01\n",
      "Epoch 00280:  Pde Loss = 1.088e-04, Norm = 6.106e-01 Variance = 4.491e-01\n",
      "Epoch 00290:  Pde Loss = 7.040e-05, Norm = 7.266e-01 Variance = 5.348e-01\n",
      "Epoch 00300:  Pde Loss = 5.234e-05, Norm = 7.996e-01 Variance = 6.073e-01\n",
      "Epoch 00310:  Pde Loss = 4.354e-05, Norm = 8.677e-01 Variance = 4.435e-01\n",
      "Epoch 00320:  Pde Loss = 4.379e-05, Norm = 9.017e-01 Variance = 5.436e-01\n",
      "Epoch 00330:  Pde Loss = 4.008e-05, Norm = 8.936e-01 Variance = 5.315e-01\n",
      "Epoch 00340:  Pde Loss = 3.634e-05, Norm = 9.158e-01 Variance = 5.410e-01\n",
      "Epoch 00350:  Pde Loss = 3.081e-05, Norm = 9.211e-01 Variance = 5.906e-01\n",
      "Epoch 00360:  Pde Loss = 2.155e-05, Norm = 9.194e-01 Variance = 3.237e-01\n",
      "Epoch 00370:  Pde Loss = 2.140e-05, Norm = 9.394e-01 Variance = 3.023e-01\n",
      "Epoch 00380:  Pde Loss = 1.512e-05, Norm = 9.410e-01 Variance = 2.299e-01\n",
      "Epoch 00390:  Pde Loss = 1.708e-05, Norm = 9.927e-01 Variance = 2.053e-01\n",
      "Epoch 00400:  Pde Loss = 1.182e-05, Norm = 9.762e-01 Variance = 1.473e-01\n",
      "Epoch 00410:  Pde Loss = 9.166e-06, Norm = 9.455e-01 Variance = 1.100e-01\n",
      "Epoch 00420:  Pde Loss = 1.460e-05, Norm = 1.049e+00 Variance = 1.450e-01\n",
      "Epoch 00430:  Pde Loss = 6.572e-06, Norm = 9.302e-01 Variance = 5.749e-02\n",
      "Epoch 00440:  Pde Loss = 5.322e-06, Norm = 9.485e-01 Variance = 5.761e-02\n",
      "Epoch 00450:  Pde Loss = 1.132e-05, Norm = 1.052e+00 Variance = 1.016e-01\n",
      "Epoch 00460:  Pde Loss = 4.114e-06, Norm = 9.416e-01 Variance = 3.657e-02\n",
      "Epoch 00470:  Pde Loss = 3.743e-06, Norm = 9.665e-01 Variance = 8.752e+00\n",
      "Epoch 00480:  Pde Loss = 5.016e-06, Norm = 1.047e+00 Variance = 4.662e-02\n",
      "Epoch 00490:  Pde Loss = 2.483e-06, Norm = 1.009e+00 Variance = 4.939e-02\n",
      "Epoch 00500:  Pde Loss = 1.946e-06, Norm = 9.697e-01 Variance = 1.957e-02\n",
      "Epoch 00510:  Pde Loss = 1.417e-06, Norm = 9.803e-01 Variance = 1.603e-02\n",
      "Epoch 00520:  Pde Loss = 1.211e-06, Norm = 9.775e-01 Variance = 1.143e-02\n",
      "Epoch 00530:  Pde Loss = 1.307e-06, Norm = 9.767e-01 Variance = 1.428e-02\n",
      "Epoch 00540:  Pde Loss = 1.947e-06, Norm = 9.523e-01 Variance = 8.391e-03\n",
      "Epoch 00550:  Pde Loss = 4.255e-06, Norm = 1.046e+00 Variance = 3.572e-02\n",
      "Epoch 00560:  Pde Loss = 2.481e-06, Norm = 9.557e-01 Variance = 1.091e-02\n",
      "Epoch 00570:  Pde Loss = 2.707e-06, Norm = 9.397e-01 Variance = 5.525e-03\n",
      "Epoch 00580:  Pde Loss = 8.468e-07, Norm = 1.025e+00 Variance = 6.192e-02\n",
      "Epoch 00590:  Pde Loss = 2.296e-06, Norm = 9.529e-01 Variance = 7.969e-03\n",
      "Epoch 00600:  Pde Loss = 1.550e-06, Norm = 9.795e-01 Variance = 1.053e-02\n",
      "Epoch 00610:  Pde Loss = 2.565e-06, Norm = 9.469e-01 Variance = 8.931e-03\n",
      "Epoch 00620:  Pde Loss = 4.860e-06, Norm = 9.188e-01 Variance = 8.664e-03\n",
      "Epoch 00630:  Pde Loss = 5.351e-07, Norm = 9.845e-01 Variance = 4.325e-03\n",
      "Epoch 00640:  Pde Loss = 4.777e-07, Norm = 9.940e-01 Variance = 5.447e-03\n",
      "Epoch 00650:  Pde Loss = 1.639e-06, Norm = 1.045e+00 Variance = 7.560e-03\n",
      "Epoch 00660:  Pde Loss = 6.235e-07, Norm = 1.012e+00 Variance = 5.422e-03\n",
      "Epoch 00670:  Pde Loss = 7.890e-07, Norm = 9.755e-01 Variance = 3.626e-03\n",
      "Epoch 00680:  Pde Loss = 8.137e-07, Norm = 1.025e+00 Variance = 4.836e-03\n",
      "Epoch 00690:  Pde Loss = 7.322e-07, Norm = 1.017e+00 Variance = 8.999e-03\n",
      "Epoch 00700:  Pde Loss = 4.837e-07, Norm = 1.016e+00 Variance = 4.464e-03\n",
      "Epoch 00710:  Pde Loss = 7.343e-07, Norm = 1.024e+00 Variance = 7.838e-03\n",
      "Epoch 00720:  Pde Loss = 1.503e-06, Norm = 1.044e+00 Variance = 4.239e-03\n",
      "Epoch 00730:  Pde Loss = 2.731e-06, Norm = 1.060e+00 Variance = 5.967e-03\n",
      "Epoch 00740:  Pde Loss = 1.113e-06, Norm = 9.720e-01 Variance = 6.098e-03\n",
      "Epoch 00750:  Pde Loss = 3.775e-07, Norm = 1.003e+00 Variance = 5.048e-03\n",
      "Epoch 00760:  Pde Loss = 4.106e-07, Norm = 9.860e-01 Variance = 2.682e-03\n",
      "Epoch 00770:  Pde Loss = 9.479e-07, Norm = 9.695e-01 Variance = 9.807e-01\n",
      "Epoch 00780:  Pde Loss = 2.466e-07, Norm = 1.009e+00 Variance = 2.646e-03\n",
      "Epoch 00790:  Pde Loss = 3.289e-06, Norm = 9.390e-01 Variance = 8.954e-03\n",
      "Epoch 00800:  Pde Loss = 3.134e-06, Norm = 1.066e+00 Variance = 1.042e-02\n",
      "Epoch 00810:  Pde Loss = 8.297e-07, Norm = 1.027e+00 Variance = 3.769e-03\n",
      "Epoch 00820:  Pde Loss = 1.140e-06, Norm = 9.638e-01 Variance = 3.664e-03\n",
      "Epoch 00830:  Pde Loss = 1.706e-06, Norm = 9.613e-01 Variance = 6.106e-03\n",
      "Epoch 00840:  Pde Loss = 3.847e-07, Norm = 9.842e-01 Variance = 3.378e-03\n",
      "Epoch 00850:  Pde Loss = 9.338e-07, Norm = 9.689e-01 Variance = 3.863e-03\n",
      "Epoch 00860:  Pde Loss = 2.891e-07, Norm = 9.900e-01 Variance = 2.207e-03\n",
      "Epoch 00870:  Pde Loss = 1.421e-06, Norm = 1.044e+00 Variance = 3.029e-03\n",
      "Epoch 00880:  Pde Loss = 2.865e-07, Norm = 1.013e+00 Variance = 2.666e-03\n",
      "Epoch 00890:  Pde Loss = 3.671e-07, Norm = 1.013e+00 Variance = 3.454e-03\n",
      "Epoch 00900:  Pde Loss = 9.138e-07, Norm = 1.032e+00 Variance = 2.339e-03\n",
      "Epoch 00910:  Pde Loss = 3.471e-07, Norm = 9.841e-01 Variance = 1.914e-03\n",
      "Epoch 00920:  Pde Loss = 1.820e-07, Norm = 1.012e+00 Variance = 1.210e-03\n",
      "Epoch 00930:  Pde Loss = 3.243e-07, Norm = 9.886e-01 Variance = 4.952e-03\n",
      "Epoch 00940:  Pde Loss = 7.716e-06, Norm = 1.106e+00 Variance = 1.426e-02\n",
      "Epoch 00950:  Pde Loss = 1.964e-07, Norm = 1.007e+00 Variance = 1.706e-03\n",
      "Epoch 00960:  Pde Loss = 4.890e-07, Norm = 9.787e-01 Variance = 2.057e-03\n",
      "Epoch 00970:  Pde Loss = 1.215e-06, Norm = 1.035e+00 Variance = 5.895e-03\n",
      "Epoch 00980:  Pde Loss = 1.139e-06, Norm = 9.632e-01 Variance = 2.721e-03\n",
      "Epoch 00990:  Pde Loss = 3.674e-07, Norm = 9.804e-01 Variance = 1.694e-03\n",
      "Epoch 01000:  Pde Loss = 1.594e-06, Norm = 9.553e-01 Variance = 3.861e-03\n",
      "Epoch 01010:  Pde Loss = 8.355e-07, Norm = 9.698e-01 Variance = 2.566e-03\n",
      "Epoch 01020:  Pde Loss = 5.989e-07, Norm = 1.027e+00 Variance = 2.468e-03\n",
      "Epoch 01030:  Pde Loss = 1.729e-07, Norm = 9.958e-01 Variance = 1.616e-03\n",
      "Epoch 01040:  Pde Loss = 1.333e-07, Norm = 9.913e-01 Variance = 9.083e-04\n",
      "Epoch 01050:  Pde Loss = 1.730e-07, Norm = 9.917e-01 Variance = 1.151e-03\n",
      "Epoch 01060:  Pde Loss = 1.188e-06, Norm = 1.041e+00 Variance = 2.785e-03\n",
      "Epoch 01070:  Pde Loss = 1.403e-06, Norm = 9.562e-01 Variance = 4.053e-03\n",
      "Epoch 01080:  Pde Loss = 4.988e-07, Norm = 1.023e+00 Variance = 2.077e-03\n",
      "Epoch 01090:  Pde Loss = 8.946e-07, Norm = 9.675e-01 Variance = 2.250e-03\n",
      "Epoch 01100:  Pde Loss = 5.994e-07, Norm = 1.028e+00 Variance = 2.192e-03\n"
     ]
    },
    {
     "name": "stdout",
     "output_type": "stream",
     "text": [
      "Epoch 01110:  Pde Loss = 5.137e-06, Norm = 9.196e-01 Variance = 1.122e-02\n",
      "Epoch 01120:  Pde Loss = 1.856e-06, Norm = 9.493e-01 Variance = 4.077e-03\n",
      "Epoch 01130:  Pde Loss = 8.888e-08, Norm = 1.002e+00 Variance = 1.528e-02\n",
      "Epoch 01140:  Pde Loss = 3.324e-07, Norm = 1.019e+00 Variance = 1.504e-03\n",
      "Epoch 01150:  Pde Loss = 2.670e-07, Norm = 9.873e-01 Variance = 1.747e-03\n",
      "Epoch 01160:  Pde Loss = 3.437e-06, Norm = 9.350e-01 Variance = 7.137e-03\n",
      "Epoch 01170:  Pde Loss = 1.000e-07, Norm = 1.007e+00 Variance = 1.820e-03\n",
      "Epoch 01180:  Pde Loss = 1.061e-06, Norm = 1.036e+00 Variance = 2.772e-02\n",
      "Epoch 01190:  Pde Loss = 1.352e-06, Norm = 9.567e-01 Variance = 2.291e-03\n",
      "Epoch 01200:  Pde Loss = 2.122e-06, Norm = 9.483e-01 Variance = 4.341e-03\n",
      "Epoch 01210:  Pde Loss = 1.588e-06, Norm = 9.569e-01 Variance = 3.541e-03\n",
      "Epoch 01220:  Pde Loss = 1.701e-06, Norm = 1.049e+00 Variance = 4.017e-03\n",
      "Epoch 01230:  Pde Loss = 8.104e-08, Norm = 9.999e-01 Variance = 1.093e-03\n",
      "Epoch 01240:  Pde Loss = 1.669e-07, Norm = 9.893e-01 Variance = 8.629e-04\n",
      "Epoch 01250:  Pde Loss = 7.765e-07, Norm = 1.034e+00 Variance = 2.628e-03\n",
      "Epoch 01260:  Pde Loss = 1.365e-06, Norm = 9.613e-01 Variance = 3.724e-03\n",
      "Epoch 01270:  Pde Loss = 1.694e-07, Norm = 1.013e+00 Variance = 2.251e-03\n",
      "Epoch 01280:  Pde Loss = 2.054e-06, Norm = 1.055e+00 Variance = 2.988e-03\n",
      "Epoch 01290:  Pde Loss = 2.156e-07, Norm = 1.016e+00 Variance = 5.138e-03\n",
      "Epoch 01300:  Pde Loss = 3.794e-06, Norm = 1.072e+00 Variance = 6.041e-03\n",
      "Epoch 01310:  Pde Loss = 7.318e-07, Norm = 9.699e-01 Variance = 1.698e-03\n",
      "Epoch 01320:  Pde Loss = 1.015e-06, Norm = 1.036e+00 Variance = 1.952e-03\n",
      "Epoch 01330:  Pde Loss = 1.756e-07, Norm = 1.013e+00 Variance = 1.173e-03\n",
      "Epoch 01340:  Pde Loss = 2.076e-06, Norm = 9.470e-01 Variance = 3.072e-03\n",
      "Epoch 01350:  Pde Loss = 5.532e-07, Norm = 1.026e+00 Variance = 4.363e-03\n",
      "Epoch 01360:  Pde Loss = 3.290e-07, Norm = 1.019e+00 Variance = 1.543e-03\n",
      "Epoch 01370:  Pde Loss = 1.168e-06, Norm = 1.038e+00 Variance = 2.937e-03\n",
      "Epoch 01380:  Pde Loss = 7.235e-08, Norm = 1.003e+00 Variance = 8.055e-04\n",
      "Epoch 01390:  Pde Loss = 4.597e-07, Norm = 1.025e+00 Variance = 1.075e-03\n",
      "Epoch 01400:  Pde Loss = 2.406e-06, Norm = 9.434e-01 Variance = 5.358e-03\n",
      "Epoch 01410:  Pde Loss = 4.546e-07, Norm = 9.794e-01 Variance = 3.642e-03\n",
      "Epoch 01420:  Pde Loss = 3.395e-06, Norm = 9.332e-01 Variance = 9.334e-03\n",
      "Epoch 01430:  Pde Loss = 1.618e-07, Norm = 1.013e+00 Variance = 9.540e-04\n",
      "Epoch 01440:  Pde Loss = 1.168e-06, Norm = 9.632e-01 Variance = 2.226e-03\n",
      "Epoch 01450:  Pde Loss = 6.416e-07, Norm = 9.726e-01 Variance = 1.992e-03\n",
      "Epoch 01460:  Pde Loss = 8.993e-08, Norm = 9.971e-01 Variance = 8.361e-04\n",
      "Epoch 01470:  Pde Loss = 1.509e-06, Norm = 1.045e+00 Variance = 2.349e-03\n",
      "Epoch 01480:  Pde Loss = 3.358e-07, Norm = 1.021e+00 Variance = 7.909e-03\n",
      "Epoch 01490:  Pde Loss = 7.919e-08, Norm = 1.001e+00 Variance = 9.321e-04\n",
      "Epoch 01500:  Pde Loss = 6.799e-08, Norm = 1.005e+00 Variance = 7.349e-04\n",
      "Epoch 01510:  Pde Loss = 5.236e-08, Norm = 1.000e+00 Variance = 1.596e-02\n",
      "Epoch 01520:  Pde Loss = 1.978e-06, Norm = 9.489e-01 Variance = 3.842e-03\n",
      "Epoch 01530:  Pde Loss = 1.099e-06, Norm = 1.037e+00 Variance = 1.946e-03\n",
      "Epoch 01540:  Pde Loss = 3.635e-07, Norm = 1.021e+00 Variance = 1.331e-03\n",
      "Epoch 01550:  Pde Loss = 5.244e-08, Norm = 9.979e-01 Variance = 5.589e-04\n",
      "Epoch 01560:  Pde Loss = 1.182e-07, Norm = 1.009e+00 Variance = 1.082e-03\n",
      "Epoch 01570:  Pde Loss = 6.420e-08, Norm = 1.006e+00 Variance = 7.322e-04\n",
      "Epoch 01580:  Pde Loss = 2.509e-07, Norm = 1.018e+00 Variance = 9.797e-04\n",
      "Epoch 01590:  Pde Loss = 2.696e-06, Norm = 9.407e-01 Variance = 4.686e-03\n",
      "Epoch 01600:  Pde Loss = 7.070e-08, Norm = 1.009e+00 Variance = 4.103e-04\n",
      "Epoch 01610:  Pde Loss = 5.556e-07, Norm = 1.027e+00 Variance = 1.774e-03\n",
      "Epoch 01620:  Pde Loss = 7.242e-07, Norm = 1.033e+00 Variance = 1.545e-03\n",
      "Epoch 01630:  Pde Loss = 1.339e-06, Norm = 1.043e+00 Variance = 2.154e-03\n",
      "Epoch 01640:  Pde Loss = 1.720e-06, Norm = 1.048e+00 Variance = 2.646e-03\n",
      "Epoch 01650:  Pde Loss = 4.918e-08, Norm = 1.002e+00 Variance = 6.510e-04\n",
      "Epoch 01660:  Pde Loss = 3.865e-06, Norm = 1.074e+00 Variance = 7.164e-03\n",
      "Epoch 01670:  Pde Loss = 9.854e-07, Norm = 9.639e-01 Variance = 2.371e-03\n",
      "Epoch 01680:  Pde Loss = 2.675e-07, Norm = 9.852e-01 Variance = 7.970e-04\n",
      "Epoch 01690:  Pde Loss = 3.267e-07, Norm = 1.021e+00 Variance = 6.834e-04\n",
      "Epoch 01700:  Pde Loss = 1.156e-07, Norm = 1.013e+00 Variance = 4.896e-04\n",
      "Epoch 01710:  Pde Loss = 7.517e-06, Norm = 1.099e+00 Variance = 8.944e-03\n",
      "Epoch 01720:  Pde Loss = 1.052e-06, Norm = 9.658e-01 Variance = 3.991e-03\n",
      "Epoch 01730:  Pde Loss = 1.927e-07, Norm = 9.860e-01 Variance = 6.470e-04\n",
      "Epoch 01740:  Pde Loss = 1.127e-06, Norm = 1.040e+00 Variance = 5.927e-03\n",
      "Epoch 01750:  Pde Loss = 6.694e-06, Norm = 9.064e-01 Variance = 8.858e-03\n",
      "Epoch 01760:  Pde Loss = 1.461e-07, Norm = 1.015e+00 Variance = 5.716e-04\n",
      "Epoch 01770:  Pde Loss = 8.467e-08, Norm = 1.002e+00 Variance = 1.049e-03\n",
      "Epoch 01780:  Pde Loss = 4.023e-07, Norm = 9.764e-01 Variance = 1.197e-03\n",
      "Epoch 01790:  Pde Loss = 1.051e-07, Norm = 1.009e+00 Variance = 1.014e-03\n",
      "Epoch 01800:  Pde Loss = 1.984e-07, Norm = 1.015e+00 Variance = 8.755e-04\n",
      "Epoch 01810:  Pde Loss = 1.637e-06, Norm = 9.555e-01 Variance = 3.456e-03\n",
      "Epoch 01820:  Pde Loss = 1.887e-07, Norm = 9.871e-01 Variance = 6.399e-04\n",
      "Epoch 01830:  Pde Loss = 1.309e-07, Norm = 1.015e+00 Variance = 4.183e-04\n",
      "Epoch 01840:  Pde Loss = 1.074e-06, Norm = 1.038e+00 Variance = 1.887e-03\n",
      "Epoch 01850:  Pde Loss = 4.721e-08, Norm = 1.003e+00 Variance = 4.802e-04\n",
      "Epoch 01860:  Pde Loss = 2.393e-06, Norm = 1.058e+00 Variance = 5.926e-03\n",
      "Epoch 01870:  Pde Loss = 6.331e-07, Norm = 1.029e+00 Variance = 1.555e-03\n",
      "Epoch 01880:  Pde Loss = 1.132e-05, Norm = 1.119e+00 Variance = 1.351e-02\n",
      "Epoch 01890:  Pde Loss = 5.157e-07, Norm = 9.767e-01 Variance = 1.422e-03\n",
      "Epoch 01900:  Pde Loss = 3.797e-08, Norm = 1.007e+00 Variance = 3.738e-04\n",
      "Epoch 01910:  Pde Loss = 6.302e-08, Norm = 9.941e-01 Variance = 6.006e-04\n",
      "Epoch 01920:  Pde Loss = 6.338e-08, Norm = 1.002e+00 Variance = 9.600e-02\n",
      "Epoch 01930:  Pde Loss = 1.981e-06, Norm = 9.474e-01 Variance = 3.072e-03\n",
      "Epoch 01940:  Pde Loss = 2.627e-07, Norm = 9.825e-01 Variance = 1.034e-03\n",
      "Epoch 01950:  Pde Loss = 2.641e-07, Norm = 9.830e-01 Variance = 5.185e-04\n",
      "Epoch 01960:  Pde Loss = 9.062e-07, Norm = 9.656e-01 Variance = 1.658e-03\n",
      "Epoch 01970:  Pde Loss = 1.276e-06, Norm = 9.607e-01 Variance = 2.383e-03\n",
      "Epoch 01980:  Pde Loss = 6.151e-07, Norm = 9.735e-01 Variance = 1.631e-03\n",
      "Epoch 01990:  Pde Loss = 2.464e-07, Norm = 9.837e-01 Variance = 7.240e-04\n"
     ]
    },
    {
     "data": {
      "text/plain": [
       "PINN(\n",
       "  (net): Sequential(\n",
       "    (0): Linear(in_features=3, out_features=200, bias=True)\n",
       "    (1): Mish()\n",
       "    (2): Linear(in_features=200, out_features=200, bias=True)\n",
       "    (3): Mish()\n",
       "    (4): Linear(in_features=200, out_features=200, bias=True)\n",
       "    (5): Mish()\n",
       "    (6): Linear(in_features=200, out_features=1, bias=True)\n",
       "  )\n",
       ")"
      ]
     },
     "execution_count": 18,
     "metadata": {},
     "output_type": "execute_result"
    }
   ],
   "source": [
    "train_model(0,4.5,f_net,optimizer,N_collocation=100,n_epochs=n_epochs)"
   ]
  },
  {
   "cell_type": "code",
   "execution_count": 19,
   "id": "a3aeecbb-cd2a-4bc4-8baf-7c6d2a5c4306",
   "metadata": {},
   "outputs": [],
   "source": [
    "def compute_energy(f_net, V=1.0, n_samples=int(1e4), L=2.0):\n",
    "    device = next(f_net.parameters()).device\n",
    "    x = torch.empty(n_samples, n_particles, 1, device=device).uniform_(-L, L)\n",
    "    #x = generate_samples_with_metropolis(n_samples, f_net, n_thermalize=1000,step_size=step_size)\n",
    "    x.requires_grad_(True)\n",
    "    \n",
    "    psi = psi_plot_fn(x).squeeze()\n",
    "    psi_sq = psi**2\n",
    "    \n",
    "    # Compute gradients for Laplacian\n",
    "    grad_psi = torch.autograd.grad(psi.sum(), x, create_graph=True, retain_graph=True)[0]\n",
    "    laplacian = 0.0\n",
    "    for p in range(n_particles):  # sum over particles\n",
    "        grad2 = torch.autograd.grad(grad_psi[:, p, 0].sum(), x, retain_graph=True)[0][:, p, 0]\n",
    "        laplacian += grad2\n",
    "    \n",
    "    # Compute integrands for each term\n",
    "    T_integrand = -0.5 * laplacian * psi\n",
    "    V_harm_integrand = 0.5 * (x**2).sum(dim=(1,2)) * psi_sq\n",
    "    V_int_integrand = compute_interaction_potential(x, V, 0.5).squeeze(-1) * psi_sq\n",
    "    \n",
    "    numerator_samples = T_integrand + V_harm_integrand + V_int_integrand\n",
    "    denominator_samples = psi_sq\n",
    "    \n",
    "    # Compute means\n",
    "    mean_numerator = numerator_samples.mean()\n",
    "    mean_denominator = denominator_samples.mean()\n",
    "    energy_value = (mean_numerator / mean_denominator).item()\n",
    "    \n",
    "    # Compute variances and covariance\n",
    "    var_numerator = numerator_samples.var(unbiased=False)\n",
    "    var_denominator = denominator_samples.var(unbiased=False)\n",
    "    cov = torch.mean((numerator_samples - mean_numerator) * (denominator_samples - mean_denominator))\n",
    "    \n",
    "    # Calculate standard error\n",
    "    variance_term = var_numerator + energy_value**2 * var_denominator - 2 * energy_value * cov\n",
    "    standard_error = torch.sqrt(variance_term / n_samples) / mean_denominator\n",
    "    standard_error = standard_error.item()\n",
    "    \n",
    "    return energy_value, standard_error"
   ]
  },
  {
   "cell_type": "code",
   "execution_count": 20,
   "id": "09e3c53b-9e60-424d-a299-ba023e8fc3a3",
   "metadata": {},
   "outputs": [
    {
     "data": {
      "text/plain": [
       "(4.500459671020508, 0.00027514141402207315)"
      ]
     },
     "execution_count": 20,
     "metadata": {},
     "output_type": "execute_result"
    }
   ],
   "source": [
    "compute_energy(f_net, V=0.0, n_samples=int(1e4), L=2.9)"
   ]
  },
  {
   "cell_type": "code",
   "execution_count": 21,
   "id": "ba70715e-6ee5-4e73-b509-8249d1a9de55",
   "metadata": {
    "scrolled": true
   },
   "outputs": [
    {
     "name": "stdout",
     "output_type": "stream",
     "text": [
      "Epoch 00000:  Pde Loss = 6.523e-04, Norm = 5.000e+00 Variance = 1.406e+01\n",
      "Epoch 00010:  Pde Loss = 1.131e-05, Norm = 1.943e-01 Variance = 6.621e+00\n",
      "Epoch 00020:  Pde Loss = 1.459e-05, Norm = 7.010e-02 Variance = 7.209e+00\n",
      "Epoch 00030:  Pde Loss = 1.638e-05, Norm = 4.693e-02 Variance = 8.541e+00\n",
      "Epoch 00040:  Pde Loss = 1.567e-05, Norm = 3.975e-02 Variance = 7.890e+00\n",
      "Epoch 00050:  Pde Loss = 1.657e-05, Norm = 3.774e-02 Variance = 8.449e+00\n",
      "Epoch 00060:  Pde Loss = 1.466e-05, Norm = 3.930e-02 Variance = 8.022e+00\n",
      "Epoch 00070:  Pde Loss = 1.329e-05, Norm = 3.812e-02 Variance = 7.388e+00\n",
      "Epoch 00080:  Pde Loss = 1.674e-05, Norm = 3.953e-02 Variance = 8.574e+00\n",
      "Epoch 00090:  Pde Loss = 1.679e-05, Norm = 3.888e-02 Variance = 8.145e+00\n",
      "Epoch 00100:  Pde Loss = 1.408e-05, Norm = 4.012e-02 Variance = 6.543e+00\n",
      "Epoch 00110:  Pde Loss = 1.757e-05, Norm = 3.623e-02 Variance = 8.333e+00\n",
      "Epoch 00120:  Pde Loss = 1.569e-05, Norm = 3.922e-02 Variance = 8.029e+00\n",
      "Epoch 00130:  Pde Loss = 1.631e-05, Norm = 4.071e-02 Variance = 7.737e+00\n",
      "Epoch 00140:  Pde Loss = 1.677e-05, Norm = 3.833e-02 Variance = 7.402e+00\n",
      "Epoch 00150:  Pde Loss = 1.591e-05, Norm = 4.034e-02 Variance = 7.368e+00\n",
      "Epoch 00160:  Pde Loss = 1.660e-05, Norm = 4.062e-02 Variance = 8.807e+00\n",
      "Epoch 00170:  Pde Loss = 1.442e-05, Norm = 4.271e-02 Variance = 7.772e+00\n",
      "Epoch 00180:  Pde Loss = 1.582e-05, Norm = 4.041e-02 Variance = 8.067e+00\n",
      "Epoch 00190:  Pde Loss = 1.473e-05, Norm = 4.121e-02 Variance = 8.767e+00\n",
      "Epoch 00200:  Pde Loss = 1.640e-05, Norm = 4.209e-02 Variance = 8.030e+00\n",
      "Epoch 00210:  Pde Loss = 1.504e-05, Norm = 4.218e-02 Variance = 7.572e+00\n",
      "Epoch 00220:  Pde Loss = 1.623e-05, Norm = 4.162e-02 Variance = 7.787e+00\n",
      "Epoch 00230:  Pde Loss = 1.642e-05, Norm = 4.281e-02 Variance = 7.147e+00\n",
      "Epoch 00240:  Pde Loss = 1.458e-05, Norm = 4.253e-02 Variance = 8.583e+00\n",
      "Epoch 00250:  Pde Loss = 1.715e-05, Norm = 4.254e-02 Variance = 8.311e+00\n",
      "Epoch 00260:  Pde Loss = 1.569e-05, Norm = 4.670e-02 Variance = 7.314e+00\n",
      "Epoch 00270:  Pde Loss = 1.433e-05, Norm = 4.555e-02 Variance = 7.738e+00\n",
      "Epoch 00280:  Pde Loss = 1.366e-05, Norm = 4.510e-02 Variance = 7.184e+00\n",
      "Epoch 00290:  Pde Loss = 1.888e-05, Norm = 4.613e-02 Variance = 8.394e+00\n",
      "Epoch 00300:  Pde Loss = 1.441e-05, Norm = 4.871e-02 Variance = 7.940e+00\n",
      "Epoch 00310:  Pde Loss = 1.705e-05, Norm = 4.625e-02 Variance = 8.291e+00\n",
      "Epoch 00320:  Pde Loss = 1.663e-05, Norm = 4.885e-02 Variance = 7.781e+00\n",
      "Epoch 00330:  Pde Loss = 1.441e-05, Norm = 4.969e-02 Variance = 6.605e+00\n",
      "Epoch 00340:  Pde Loss = 1.371e-05, Norm = 4.997e-02 Variance = 6.446e+00\n",
      "Epoch 00350:  Pde Loss = 1.488e-05, Norm = 5.330e-02 Variance = 6.671e+00\n",
      "Epoch 00360:  Pde Loss = 1.431e-05, Norm = 5.047e-02 Variance = 8.044e+00\n",
      "Epoch 00370:  Pde Loss = 1.562e-05, Norm = 5.340e-02 Variance = 8.323e+00\n",
      "Epoch 00380:  Pde Loss = 1.642e-05, Norm = 5.341e-02 Variance = 7.770e+00\n",
      "Epoch 00390:  Pde Loss = 1.594e-05, Norm = 5.279e-02 Variance = 7.768e+00\n",
      "Epoch 00400:  Pde Loss = 1.532e-05, Norm = 5.567e-02 Variance = 7.800e+00\n",
      "Epoch 00410:  Pde Loss = 1.707e-05, Norm = 5.645e-02 Variance = 7.597e+00\n",
      "Epoch 00420:  Pde Loss = 1.439e-05, Norm = 5.627e-02 Variance = 7.769e+00\n",
      "Epoch 00430:  Pde Loss = 1.486e-05, Norm = 5.773e-02 Variance = 7.892e+00\n",
      "Epoch 00440:  Pde Loss = 1.499e-05, Norm = 6.057e-02 Variance = 7.501e+00\n",
      "Epoch 00450:  Pde Loss = 1.536e-05, Norm = 5.892e-02 Variance = 7.694e+00\n",
      "Epoch 00460:  Pde Loss = 1.381e-05, Norm = 6.177e-02 Variance = 6.804e+00\n",
      "Epoch 00470:  Pde Loss = 1.455e-05, Norm = 6.797e-02 Variance = 7.107e+00\n",
      "Epoch 00480:  Pde Loss = 1.529e-05, Norm = 6.447e-02 Variance = 7.186e+00\n",
      "Epoch 00490:  Pde Loss = 1.489e-05, Norm = 6.413e-02 Variance = 6.830e+00\n",
      "Epoch 00500:  Pde Loss = 1.516e-05, Norm = 6.663e-02 Variance = 6.976e+00\n",
      "Epoch 00510:  Pde Loss = 1.463e-05, Norm = 6.998e-02 Variance = 7.445e+00\n",
      "Epoch 00520:  Pde Loss = 1.329e-05, Norm = 7.271e-02 Variance = 7.037e+00\n",
      "Epoch 00530:  Pde Loss = 1.430e-05, Norm = 7.135e-02 Variance = 6.808e+00\n",
      "Epoch 00540:  Pde Loss = 1.520e-05, Norm = 7.362e-02 Variance = 8.117e+00\n",
      "Epoch 00550:  Pde Loss = 1.467e-05, Norm = 7.783e-02 Variance = 7.326e+00\n",
      "Epoch 00560:  Pde Loss = 1.482e-05, Norm = 7.816e-02 Variance = 6.379e+00\n",
      "Epoch 00570:  Pde Loss = 1.389e-05, Norm = 8.068e-02 Variance = 8.078e+00\n",
      "Epoch 00580:  Pde Loss = 1.383e-05, Norm = 8.741e-02 Variance = 6.699e+00\n",
      "Epoch 00590:  Pde Loss = 1.327e-05, Norm = 8.452e-02 Variance = 7.435e+00\n",
      "Epoch 00600:  Pde Loss = 1.430e-05, Norm = 8.818e-02 Variance = 6.341e+00\n",
      "Epoch 00610:  Pde Loss = 1.551e-05, Norm = 8.971e-02 Variance = 7.253e+00\n",
      "Epoch 00620:  Pde Loss = 1.315e-05, Norm = 9.897e-02 Variance = 8.035e+00\n",
      "Epoch 00630:  Pde Loss = 1.465e-05, Norm = 9.386e-02 Variance = 7.598e+00\n",
      "Epoch 00640:  Pde Loss = 1.537e-05, Norm = 1.010e-01 Variance = 7.550e+00\n",
      "Epoch 00650:  Pde Loss = 1.354e-05, Norm = 1.064e-01 Variance = 7.722e+00\n",
      "Epoch 00660:  Pde Loss = 1.512e-05, Norm = 1.066e-01 Variance = 6.693e+00\n",
      "Epoch 00670:  Pde Loss = 1.233e-05, Norm = 1.080e-01 Variance = 5.779e+00\n",
      "Epoch 00680:  Pde Loss = 1.314e-05, Norm = 1.177e-01 Variance = 7.353e+00\n",
      "Epoch 00690:  Pde Loss = 1.147e-05, Norm = 1.217e-01 Variance = 6.252e+00\n",
      "Epoch 00700:  Pde Loss = 1.234e-05, Norm = 1.254e-01 Variance = 6.294e+00\n",
      "Epoch 00710:  Pde Loss = 1.336e-05, Norm = 1.282e-01 Variance = 7.091e+00\n",
      "Epoch 00720:  Pde Loss = 1.227e-05, Norm = 1.356e-01 Variance = 6.413e+00\n",
      "Epoch 00730:  Pde Loss = 1.181e-05, Norm = 1.436e-01 Variance = 6.352e+00\n",
      "Epoch 00740:  Pde Loss = 1.387e-05, Norm = 1.418e-01 Variance = 6.337e+00\n",
      "Epoch 00750:  Pde Loss = 1.212e-05, Norm = 1.480e-01 Variance = 6.305e+00\n",
      "Epoch 00760:  Pde Loss = 1.113e-05, Norm = 1.584e-01 Variance = 6.084e+00\n",
      "Epoch 00770:  Pde Loss = 1.247e-05, Norm = 1.634e-01 Variance = 5.857e+00\n",
      "Epoch 00780:  Pde Loss = 1.154e-05, Norm = 1.808e-01 Variance = 5.286e+00\n",
      "Epoch 00790:  Pde Loss = 1.208e-05, Norm = 1.853e-01 Variance = 6.266e+00\n",
      "Epoch 00800:  Pde Loss = 1.066e-05, Norm = 1.973e-01 Variance = 4.863e+00\n",
      "Epoch 00810:  Pde Loss = 1.124e-05, Norm = 2.042e-01 Variance = 5.668e+00\n",
      "Epoch 00820:  Pde Loss = 1.083e-05, Norm = 2.031e-01 Variance = 5.705e+00\n",
      "Epoch 00830:  Pde Loss = 1.081e-05, Norm = 2.092e-01 Variance = 4.982e+00\n",
      "Epoch 00840:  Pde Loss = 1.028e-05, Norm = 2.196e-01 Variance = 5.288e+00\n",
      "Epoch 00850:  Pde Loss = 1.078e-05, Norm = 2.364e-01 Variance = 5.169e+00\n",
      "Epoch 00860:  Pde Loss = 1.158e-05, Norm = 2.501e-01 Variance = 5.134e+00\n",
      "Epoch 00870:  Pde Loss = 1.050e-05, Norm = 2.543e-01 Variance = 5.081e+00\n",
      "Epoch 00880:  Pde Loss = 9.290e-06, Norm = 2.706e-01 Variance = 4.734e+00\n",
      "Epoch 00890:  Pde Loss = 9.666e-06, Norm = 2.897e-01 Variance = 4.994e+00\n",
      "Epoch 00900:  Pde Loss = 1.073e-05, Norm = 2.874e-01 Variance = 5.520e+00\n",
      "Epoch 00910:  Pde Loss = 9.721e-06, Norm = 2.867e-01 Variance = 4.992e+00\n",
      "Epoch 00920:  Pde Loss = 9.707e-06, Norm = 2.934e-01 Variance = 4.535e+00\n",
      "Epoch 00930:  Pde Loss = 9.653e-06, Norm = 3.213e-01 Variance = 4.952e+00\n",
      "Epoch 00940:  Pde Loss = 9.926e-06, Norm = 3.120e-01 Variance = 5.173e+00\n",
      "Epoch 00950:  Pde Loss = 1.089e-05, Norm = 3.136e-01 Variance = 9.266e+04\n",
      "Epoch 00960:  Pde Loss = 9.819e-06, Norm = 3.363e-01 Variance = 5.326e+00\n",
      "Epoch 00970:  Pde Loss = 9.082e-06, Norm = 3.412e-01 Variance = 6.462e+00\n",
      "Epoch 00980:  Pde Loss = 9.937e-06, Norm = 3.449e-01 Variance = 4.497e+00\n",
      "Epoch 00990:  Pde Loss = 8.931e-06, Norm = 3.496e-01 Variance = 4.928e+00\n",
      "Epoch 01000:  Pde Loss = 9.389e-06, Norm = 3.431e-01 Variance = 4.981e+00\n",
      "Epoch 01010:  Pde Loss = 9.600e-06, Norm = 3.458e-01 Variance = 3.129e+02\n",
      "Epoch 01020:  Pde Loss = 1.002e-05, Norm = 3.379e-01 Variance = 4.643e+00\n",
      "Epoch 01030:  Pde Loss = 9.953e-06, Norm = 3.529e-01 Variance = 3.922e+00\n",
      "Epoch 01040:  Pde Loss = 9.278e-06, Norm = 3.730e-01 Variance = 5.057e+00\n",
      "Epoch 01050:  Pde Loss = 8.956e-06, Norm = 3.699e-01 Variance = 3.926e+00\n",
      "Epoch 01060:  Pde Loss = 9.412e-06, Norm = 3.569e-01 Variance = 4.778e+00\n",
      "Epoch 01070:  Pde Loss = 9.684e-06, Norm = 3.689e-01 Variance = 5.126e+00\n",
      "Epoch 01080:  Pde Loss = 9.868e-06, Norm = 3.442e-01 Variance = 4.843e+00\n",
      "Epoch 01090:  Pde Loss = 9.421e-06, Norm = 3.471e-01 Variance = 4.874e+00\n",
      "Epoch 01100:  Pde Loss = 9.562e-06, Norm = 3.533e-01 Variance = 1.329e+01\n"
     ]
    },
    {
     "name": "stdout",
     "output_type": "stream",
     "text": [
      "Epoch 01110:  Pde Loss = 9.371e-06, Norm = 3.711e-01 Variance = 4.550e+00\n",
      "Epoch 01120:  Pde Loss = 9.091e-06, Norm = 3.655e-01 Variance = 4.564e+00\n",
      "Epoch 01130:  Pde Loss = 9.260e-06, Norm = 3.497e-01 Variance = 5.346e+00\n",
      "Epoch 01140:  Pde Loss = 9.299e-06, Norm = 3.759e-01 Variance = 5.154e+00\n",
      "Epoch 01150:  Pde Loss = 9.251e-06, Norm = 3.654e-01 Variance = 4.666e+00\n",
      "Epoch 01160:  Pde Loss = 9.246e-06, Norm = 3.707e-01 Variance = 5.217e+00\n",
      "Epoch 01170:  Pde Loss = 1.024e-05, Norm = 3.515e-01 Variance = 4.980e+00\n",
      "Epoch 01180:  Pde Loss = 9.896e-06, Norm = 3.474e-01 Variance = 4.904e+00\n",
      "Epoch 01190:  Pde Loss = 9.788e-06, Norm = 3.642e-01 Variance = 4.510e+00\n",
      "Epoch 01200:  Pde Loss = 1.012e-05, Norm = 3.419e-01 Variance = 4.684e+00\n",
      "Epoch 01210:  Pde Loss = 9.114e-06, Norm = 3.627e-01 Variance = 4.363e+00\n",
      "Epoch 01220:  Pde Loss = 1.010e-05, Norm = 3.527e-01 Variance = 1.196e+01\n",
      "Epoch 01230:  Pde Loss = 9.688e-06, Norm = 3.601e-01 Variance = 5.061e+00\n",
      "Epoch 01240:  Pde Loss = 9.444e-06, Norm = 3.509e-01 Variance = 4.448e+00\n",
      "Epoch 01250:  Pde Loss = 1.001e-05, Norm = 3.412e-01 Variance = 4.361e+00\n",
      "Epoch 01260:  Pde Loss = 9.059e-06, Norm = 3.695e-01 Variance = 5.201e+00\n",
      "Epoch 01270:  Pde Loss = 9.372e-06, Norm = 3.694e-01 Variance = 4.881e+00\n",
      "Epoch 01280:  Pde Loss = 1.017e-05, Norm = 3.635e-01 Variance = 5.250e+00\n",
      "Epoch 01290:  Pde Loss = 1.008e-05, Norm = 3.642e-01 Variance = 5.313e+00\n",
      "Epoch 01300:  Pde Loss = 9.435e-06, Norm = 3.743e-01 Variance = 5.260e+00\n",
      "Epoch 01310:  Pde Loss = 9.143e-06, Norm = 3.635e-01 Variance = 4.654e+00\n",
      "Epoch 01320:  Pde Loss = 8.934e-06, Norm = 3.702e-01 Variance = 4.786e+00\n",
      "Epoch 01330:  Pde Loss = 8.986e-06, Norm = 3.590e-01 Variance = 4.642e+00\n",
      "Epoch 01340:  Pde Loss = 8.636e-06, Norm = 3.464e-01 Variance = 4.041e+00\n",
      "Epoch 01350:  Pde Loss = 9.029e-06, Norm = 3.492e-01 Variance = 5.546e+00\n",
      "Epoch 01360:  Pde Loss = 9.432e-06, Norm = 3.766e-01 Variance = 6.067e+00\n",
      "Epoch 01370:  Pde Loss = 9.496e-06, Norm = 3.592e-01 Variance = 5.547e+00\n",
      "Epoch 01380:  Pde Loss = 9.309e-06, Norm = 3.604e-01 Variance = 4.774e+00\n",
      "Epoch 01390:  Pde Loss = 8.747e-06, Norm = 3.634e-01 Variance = 4.038e+00\n",
      "Epoch 01400:  Pde Loss = 9.948e-06, Norm = 3.703e-01 Variance = 6.502e+00\n",
      "Epoch 01410:  Pde Loss = 9.463e-06, Norm = 3.633e-01 Variance = 5.775e+00\n",
      "Epoch 01420:  Pde Loss = 9.601e-06, Norm = 3.545e-01 Variance = 5.936e+00\n",
      "Epoch 01430:  Pde Loss = 9.681e-06, Norm = 3.797e-01 Variance = 6.767e+00\n",
      "Epoch 01440:  Pde Loss = 9.238e-06, Norm = 3.745e-01 Variance = 5.036e+00\n",
      "Epoch 01450:  Pde Loss = 9.186e-06, Norm = 3.820e-01 Variance = 5.330e+00\n",
      "Epoch 01460:  Pde Loss = 9.200e-06, Norm = 3.826e-01 Variance = 6.080e+00\n",
      "Epoch 01470:  Pde Loss = 8.234e-06, Norm = 3.781e-01 Variance = 4.012e+00\n",
      "Epoch 01480:  Pde Loss = 9.019e-06, Norm = 3.621e-01 Variance = 4.995e+00\n",
      "Epoch 01490:  Pde Loss = 9.623e-06, Norm = 3.554e-01 Variance = 4.726e+00\n",
      "Epoch 01500:  Pde Loss = 9.444e-06, Norm = 3.671e-01 Variance = 5.525e+01\n",
      "Epoch 01510:  Pde Loss = 9.294e-06, Norm = 3.656e-01 Variance = 5.425e+00\n",
      "Epoch 01520:  Pde Loss = 1.029e-05, Norm = 3.605e-01 Variance = 4.861e+00\n",
      "Epoch 01530:  Pde Loss = 9.518e-06, Norm = 3.535e-01 Variance = 5.739e+00\n",
      "Epoch 01540:  Pde Loss = 8.732e-06, Norm = 3.406e-01 Variance = 5.844e+00\n",
      "Epoch 01550:  Pde Loss = 8.543e-06, Norm = 3.667e-01 Variance = 5.238e+00\n",
      "Epoch 01560:  Pde Loss = 1.041e-05, Norm = 3.645e-01 Variance = 5.303e+00\n",
      "Epoch 01570:  Pde Loss = 9.003e-06, Norm = 3.709e-01 Variance = 6.063e+00\n",
      "Epoch 01580:  Pde Loss = 9.189e-06, Norm = 3.774e-01 Variance = 5.185e+00\n",
      "Epoch 01590:  Pde Loss = 9.524e-06, Norm = 3.652e-01 Variance = 4.561e+00\n",
      "Epoch 01600:  Pde Loss = 9.869e-06, Norm = 3.602e-01 Variance = 5.549e+00\n",
      "Epoch 01610:  Pde Loss = 9.377e-06, Norm = 3.844e-01 Variance = 5.513e+00\n",
      "Epoch 01620:  Pde Loss = 9.584e-06, Norm = 3.796e-01 Variance = 5.880e+00\n",
      "Epoch 01630:  Pde Loss = 9.653e-06, Norm = 3.480e-01 Variance = 4.980e+00\n",
      "Epoch 01640:  Pde Loss = 9.650e-06, Norm = 3.517e-01 Variance = 5.695e+00\n",
      "Epoch 01650:  Pde Loss = 9.742e-06, Norm = 3.512e-01 Variance = 4.777e+00\n",
      "Epoch 01660:  Pde Loss = 9.685e-06, Norm = 3.553e-01 Variance = 6.205e+00\n",
      "Epoch 01670:  Pde Loss = 9.286e-06, Norm = 3.682e-01 Variance = 5.658e+00\n",
      "Epoch 01680:  Pde Loss = 1.005e-05, Norm = 3.629e-01 Variance = 6.036e+00\n",
      "Epoch 01690:  Pde Loss = 9.367e-06, Norm = 3.865e-01 Variance = 6.085e+00\n",
      "Epoch 01700:  Pde Loss = 9.239e-06, Norm = 3.569e-01 Variance = 4.797e+00\n",
      "Epoch 01710:  Pde Loss = 1.052e-05, Norm = 3.482e-01 Variance = 8.261e+00\n",
      "Epoch 01720:  Pde Loss = 9.515e-06, Norm = 3.589e-01 Variance = 5.157e+00\n",
      "Epoch 01730:  Pde Loss = 1.004e-05, Norm = 3.634e-01 Variance = 6.123e+00\n",
      "Epoch 01740:  Pde Loss = 9.692e-06, Norm = 3.475e-01 Variance = 6.224e+00\n",
      "Epoch 01750:  Pde Loss = 8.716e-06, Norm = 3.887e-01 Variance = 4.942e+00\n",
      "Epoch 01760:  Pde Loss = 9.534e-06, Norm = 3.534e-01 Variance = 4.450e+00\n",
      "Epoch 01770:  Pde Loss = 9.454e-06, Norm = 3.572e-01 Variance = 5.033e+00\n",
      "Epoch 01780:  Pde Loss = 9.183e-06, Norm = 3.552e-01 Variance = 5.367e+00\n",
      "Epoch 01790:  Pde Loss = 9.067e-06, Norm = 3.715e-01 Variance = 5.442e+00\n",
      "Epoch 01800:  Pde Loss = 9.289e-06, Norm = 3.731e-01 Variance = 5.412e+00\n",
      "Epoch 01810:  Pde Loss = 9.066e-06, Norm = 3.913e-01 Variance = 5.711e+00\n",
      "Epoch 01820:  Pde Loss = 8.877e-06, Norm = 3.668e-01 Variance = 5.652e+00\n",
      "Epoch 01830:  Pde Loss = 8.972e-06, Norm = 3.758e-01 Variance = 5.672e+00\n",
      "Epoch 01840:  Pde Loss = 9.139e-06, Norm = 3.745e-01 Variance = 4.556e+00\n",
      "Epoch 01850:  Pde Loss = 8.992e-06, Norm = 3.649e-01 Variance = 4.943e+00\n",
      "Epoch 01860:  Pde Loss = 9.371e-06, Norm = 3.828e-01 Variance = 5.455e+00\n",
      "Epoch 01870:  Pde Loss = 9.132e-06, Norm = 3.573e-01 Variance = 4.495e+00\n",
      "Epoch 01880:  Pde Loss = 9.928e-06, Norm = 3.751e-01 Variance = 5.235e+00\n",
      "Epoch 01890:  Pde Loss = 9.737e-06, Norm = 3.593e-01 Variance = 5.216e+00\n",
      "Epoch 01900:  Pde Loss = 8.262e-06, Norm = 3.784e-01 Variance = 5.044e+00\n",
      "Epoch 01910:  Pde Loss = 9.198e-06, Norm = 3.740e-01 Variance = 4.958e+00\n",
      "Epoch 01920:  Pde Loss = 8.981e-06, Norm = 3.737e-01 Variance = 5.451e+00\n",
      "Epoch 01930:  Pde Loss = 9.708e-06, Norm = 3.750e-01 Variance = 5.833e+00\n",
      "Epoch 01940:  Pde Loss = 9.168e-06, Norm = 3.749e-01 Variance = 6.223e+00\n",
      "Epoch 01950:  Pde Loss = 1.029e-05, Norm = 3.787e-01 Variance = 6.759e+00\n",
      "Epoch 01960:  Pde Loss = 1.086e-05, Norm = 3.886e-01 Variance = 7.345e+00\n",
      "Epoch 01970:  Pde Loss = 9.117e-06, Norm = 3.700e-01 Variance = 5.602e+00\n",
      "Epoch 01980:  Pde Loss = 9.516e-06, Norm = 3.675e-01 Variance = 4.555e+00\n",
      "Epoch 01990:  Pde Loss = 9.436e-06, Norm = 3.656e-01 Variance = 5.697e+00\n"
     ]
    },
    {
     "data": {
      "text/plain": [
       "PINN(\n",
       "  (net): Sequential(\n",
       "    (0): Linear(in_features=3, out_features=200, bias=True)\n",
       "    (1): Mish()\n",
       "    (2): Linear(in_features=200, out_features=200, bias=True)\n",
       "    (3): Mish()\n",
       "    (4): Linear(in_features=200, out_features=200, bias=True)\n",
       "    (5): Mish()\n",
       "    (6): Linear(in_features=200, out_features=1, bias=True)\n",
       "  )\n",
       ")"
      ]
     },
     "execution_count": 21,
     "metadata": {},
     "output_type": "execute_result"
    }
   ],
   "source": [
    "optimizer = optim.Adam(list(f_net.parameters()), lr=1e-3)\n",
    "train_model(-10,0.7,f_net,optimizer,N_collocation=500,n_epochs=n_epochs)"
   ]
  },
  {
   "cell_type": "code",
   "execution_count": 22,
   "id": "944c54ce-5f5e-4e53-84b8-439e18e3f463",
   "metadata": {
    "jupyter": {
     "outputs_hidden": true
    },
    "scrolled": true
   },
   "outputs": [
    {
     "name": "stdout",
     "output_type": "stream",
     "text": [
      "Epoch 00000:  Pde Loss = 5.407e-04, Norm = 7.967e-02 Variance = 4.120e+00\n",
      "Epoch 00010:  Pde Loss = 2.420e-04, Norm = 7.743e-01 Variance = 3.508e+00\n",
      "Epoch 00020:  Pde Loss = 1.928e-04, Norm = 1.111e+00 Variance = 3.777e+00\n",
      "Epoch 00030:  Pde Loss = 1.708e-04, Norm = 9.812e-01 Variance = 3.261e+00\n",
      "Epoch 00040:  Pde Loss = 1.608e-04, Norm = 9.773e-01 Variance = 2.585e+00\n",
      "Epoch 00050:  Pde Loss = 1.796e-04, Norm = 9.484e-01 Variance = 4.319e+00\n",
      "Epoch 00060:  Pde Loss = 1.798e-04, Norm = 1.028e+00 Variance = 3.345e+00\n",
      "Epoch 00070:  Pde Loss = 1.700e-04, Norm = 8.898e-01 Variance = 3.634e+00\n",
      "Epoch 00080:  Pde Loss = 1.540e-04, Norm = 9.557e-01 Variance = 3.240e+00\n",
      "Epoch 00090:  Pde Loss = 1.468e-04, Norm = 1.038e+00 Variance = 2.949e+00\n",
      "Epoch 00100:  Pde Loss = 1.556e-04, Norm = 9.843e-01 Variance = 3.465e+00\n",
      "Epoch 00110:  Pde Loss = 1.022e-04, Norm = 9.634e-01 Variance = 3.052e+00\n",
      "Epoch 00120:  Pde Loss = 1.272e-04, Norm = 8.488e-01 Variance = 2.674e+00\n",
      "Epoch 00130:  Pde Loss = 1.251e-04, Norm = 8.861e-01 Variance = 2.625e+00\n",
      "Epoch 00140:  Pde Loss = 8.813e-05, Norm = 9.724e-01 Variance = 2.092e+00\n",
      "Epoch 00150:  Pde Loss = 9.099e-05, Norm = 8.616e-01 Variance = 2.112e+00\n",
      "Epoch 00160:  Pde Loss = 1.310e-04, Norm = 7.678e-01 Variance = 2.253e+00\n",
      "Epoch 00170:  Pde Loss = 1.196e-04, Norm = 8.854e-01 Variance = 3.809e+00\n",
      "Epoch 00180:  Pde Loss = 1.011e-04, Norm = 8.837e-01 Variance = 2.049e+00\n",
      "Epoch 00190:  Pde Loss = 1.014e-04, Norm = 8.583e-01 Variance = 2.492e+00\n",
      "Epoch 00200:  Pde Loss = 1.001e-04, Norm = 9.112e-01 Variance = 2.326e+00\n",
      "Epoch 00210:  Pde Loss = 9.334e-05, Norm = 7.490e-01 Variance = 2.011e+00\n",
      "Epoch 00220:  Pde Loss = 1.010e-04, Norm = 7.898e-01 Variance = 1.592e+00\n",
      "Epoch 00230:  Pde Loss = 8.538e-05, Norm = 8.624e-01 Variance = 2.111e+00\n",
      "Epoch 00240:  Pde Loss = 6.660e-05, Norm = 8.963e-01 Variance = 1.519e+00\n",
      "Epoch 00250:  Pde Loss = 7.030e-05, Norm = 7.655e-01 Variance = 1.398e+00\n",
      "Epoch 00260:  Pde Loss = 7.094e-05, Norm = 8.043e-01 Variance = 1.585e+00\n",
      "Epoch 00270:  Pde Loss = 6.307e-05, Norm = 8.868e-01 Variance = 1.757e+00\n",
      "Epoch 00280:  Pde Loss = 6.247e-05, Norm = 7.513e-01 Variance = 1.352e+00\n",
      "Epoch 00290:  Pde Loss = 8.563e-05, Norm = 6.713e-01 Variance = 2.171e+00\n",
      "Epoch 00300:  Pde Loss = 7.331e-05, Norm = 7.933e-01 Variance = 1.556e+00\n",
      "Epoch 00310:  Pde Loss = 5.872e-05, Norm = 6.884e-01 Variance = 1.943e+00\n",
      "Epoch 00320:  Pde Loss = 6.637e-05, Norm = 9.568e-01 Variance = 8.320e-01\n",
      "Epoch 00330:  Pde Loss = 4.741e-05, Norm = 7.302e-01 Variance = 7.497e-01\n",
      "Epoch 00340:  Pde Loss = 5.265e-05, Norm = 7.039e-01 Variance = 1.123e+00\n",
      "Epoch 00350:  Pde Loss = 5.368e-05, Norm = 8.379e-01 Variance = 1.043e+00\n",
      "Epoch 00360:  Pde Loss = 6.132e-05, Norm = 6.778e-01 Variance = 1.296e+00\n",
      "Epoch 00370:  Pde Loss = 5.302e-05, Norm = 7.956e-01 Variance = 1.085e+00\n",
      "Epoch 00380:  Pde Loss = 5.216e-05, Norm = 7.135e-01 Variance = 7.058e+00\n",
      "Epoch 00390:  Pde Loss = 5.432e-05, Norm = 7.561e-01 Variance = 1.168e+00\n",
      "Epoch 00400:  Pde Loss = 7.182e-05, Norm = 9.899e-01 Variance = 1.479e+00\n",
      "Epoch 00410:  Pde Loss = 4.631e-05, Norm = 7.627e-01 Variance = 9.775e-01\n",
      "Epoch 00420:  Pde Loss = 5.158e-05, Norm = 7.554e-01 Variance = 1.226e+00\n",
      "Epoch 00430:  Pde Loss = 5.552e-05, Norm = 7.418e-01 Variance = 3.192e+00\n",
      "Epoch 00440:  Pde Loss = 5.018e-05, Norm = 8.890e-01 Variance = 9.969e-01\n",
      "Epoch 00450:  Pde Loss = 6.247e-05, Norm = 6.185e-01 Variance = 7.366e-01\n",
      "Epoch 00460:  Pde Loss = 7.146e-05, Norm = 6.602e-01 Variance = 1.999e+00\n",
      "Epoch 00470:  Pde Loss = 5.743e-05, Norm = 7.954e-01 Variance = 1.257e+00\n",
      "Epoch 00480:  Pde Loss = 5.586e-05, Norm = 8.149e-01 Variance = 1.011e+00\n",
      "Epoch 00490:  Pde Loss = 6.724e-05, Norm = 8.398e-01 Variance = 1.805e+00\n",
      "Epoch 00500:  Pde Loss = 3.613e-05, Norm = 8.146e-01 Variance = 8.905e-01\n",
      "Epoch 00510:  Pde Loss = 4.579e-05, Norm = 8.229e-01 Variance = 1.054e+00\n",
      "Epoch 00520:  Pde Loss = 5.586e-05, Norm = 7.199e-01 Variance = 2.100e+00\n",
      "Epoch 00530:  Pde Loss = 5.502e-05, Norm = 7.459e-01 Variance = 1.474e+00\n",
      "Epoch 00540:  Pde Loss = 7.365e-05, Norm = 8.964e-01 Variance = 1.752e+00\n",
      "Epoch 00550:  Pde Loss = 4.667e-05, Norm = 8.232e-01 Variance = 7.913e-01\n",
      "Epoch 00560:  Pde Loss = 4.804e-05, Norm = 7.375e-01 Variance = 8.430e-01\n",
      "Epoch 00570:  Pde Loss = 5.159e-05, Norm = 6.366e-01 Variance = 9.242e-01\n",
      "Epoch 00580:  Pde Loss = 4.678e-05, Norm = 7.286e-01 Variance = 1.211e+00\n",
      "Epoch 00590:  Pde Loss = 4.344e-05, Norm = 8.280e-01 Variance = 8.672e-01\n",
      "Epoch 00600:  Pde Loss = 4.998e-05, Norm = 8.519e-01 Variance = 1.236e+00\n",
      "Epoch 00610:  Pde Loss = 5.574e-05, Norm = 7.984e-01 Variance = 1.512e+00\n",
      "Epoch 00620:  Pde Loss = 3.082e-05, Norm = 7.871e-01 Variance = 5.087e-01\n",
      "Epoch 00630:  Pde Loss = 6.392e-05, Norm = 7.111e-01 Variance = 1.279e+00\n",
      "Epoch 00640:  Pde Loss = 6.077e-05, Norm = 7.426e-01 Variance = 1.918e+00\n",
      "Epoch 00650:  Pde Loss = 4.622e-05, Norm = 7.426e-01 Variance = 1.092e+00\n",
      "Epoch 00660:  Pde Loss = 4.554e-05, Norm = 8.141e-01 Variance = 8.932e-01\n",
      "Epoch 00670:  Pde Loss = 4.236e-05, Norm = 7.900e-01 Variance = 8.045e-01\n",
      "Epoch 00680:  Pde Loss = 5.592e-05, Norm = 7.429e-01 Variance = 1.160e+00\n",
      "Epoch 00690:  Pde Loss = 4.304e-05, Norm = 7.804e-01 Variance = 1.087e+00\n",
      "Epoch 00700:  Pde Loss = 4.398e-05, Norm = 7.188e-01 Variance = 1.261e+00\n",
      "Epoch 00710:  Pde Loss = 5.654e-05, Norm = 6.978e-01 Variance = 6.195e+00\n",
      "Epoch 00720:  Pde Loss = 4.572e-05, Norm = 8.696e-01 Variance = 1.178e+00\n",
      "Epoch 00730:  Pde Loss = 3.947e-05, Norm = 7.669e-01 Variance = 7.952e-01\n",
      "Epoch 00740:  Pde Loss = 5.442e-05, Norm = 8.126e-01 Variance = 1.168e+00\n",
      "Epoch 00750:  Pde Loss = 5.004e-05, Norm = 7.662e-01 Variance = 9.920e-01\n",
      "Epoch 00760:  Pde Loss = 4.654e-05, Norm = 7.788e-01 Variance = 1.103e+00\n",
      "Epoch 00770:  Pde Loss = 4.143e-05, Norm = 7.397e-01 Variance = 8.682e-01\n",
      "Epoch 00780:  Pde Loss = 5.260e-05, Norm = 6.932e-01 Variance = 2.017e+00\n",
      "Epoch 00790:  Pde Loss = 4.880e-05, Norm = 8.286e-01 Variance = 1.178e+00\n",
      "Epoch 00800:  Pde Loss = 5.625e-05, Norm = 8.854e-01 Variance = 1.184e+00\n",
      "Epoch 00810:  Pde Loss = 4.370e-05, Norm = 7.733e-01 Variance = 8.368e-01\n",
      "Epoch 00820:  Pde Loss = 5.718e-05, Norm = 6.742e-01 Variance = 2.172e+00\n",
      "Epoch 00830:  Pde Loss = 4.558e-05, Norm = 8.093e-01 Variance = 1.419e+00\n",
      "Epoch 00840:  Pde Loss = 4.823e-05, Norm = 7.262e-01 Variance = 9.814e-01\n",
      "Epoch 00850:  Pde Loss = 4.989e-05, Norm = 7.290e-01 Variance = 2.108e+00\n",
      "Epoch 00860:  Pde Loss = 5.190e-05, Norm = 8.708e-01 Variance = 9.024e-01\n",
      "Epoch 00870:  Pde Loss = 4.091e-05, Norm = 7.806e-01 Variance = 1.078e+00\n",
      "Epoch 00880:  Pde Loss = 5.165e-05, Norm = 6.936e-01 Variance = 1.787e+00\n",
      "Epoch 00890:  Pde Loss = 4.152e-05, Norm = 8.209e-01 Variance = 9.686e-01\n",
      "Epoch 00900:  Pde Loss = 4.105e-05, Norm = 7.736e-01 Variance = 9.226e-01\n",
      "Epoch 00910:  Pde Loss = 3.829e-05, Norm = 7.863e-01 Variance = 1.108e+00\n",
      "Epoch 00920:  Pde Loss = 4.236e-05, Norm = 7.866e-01 Variance = 9.081e-01\n",
      "Epoch 00930:  Pde Loss = 6.330e-05, Norm = 6.410e-01 Variance = 1.189e+01\n",
      "Epoch 00940:  Pde Loss = 5.806e-05, Norm = 7.111e-01 Variance = 2.310e+00\n",
      "Epoch 00950:  Pde Loss = 3.677e-05, Norm = 8.070e-01 Variance = 7.346e-01\n",
      "Epoch 00960:  Pde Loss = 4.640e-05, Norm = 8.155e-01 Variance = 9.359e-01\n",
      "Epoch 00970:  Pde Loss = 3.763e-05, Norm = 7.244e-01 Variance = 8.917e-01\n",
      "Epoch 00980:  Pde Loss = 4.909e-05, Norm = 7.574e-01 Variance = 1.023e+00\n",
      "Epoch 00990:  Pde Loss = 3.509e-05, Norm = 7.976e-01 Variance = 7.097e-01\n",
      "Epoch 01000:  Pde Loss = 4.095e-05, Norm = 7.550e-01 Variance = 9.722e-01\n",
      "Epoch 01010:  Pde Loss = 4.481e-05, Norm = 7.582e-01 Variance = 1.498e+00\n",
      "Epoch 01020:  Pde Loss = 4.354e-05, Norm = 8.110e-01 Variance = 9.013e-01\n",
      "Epoch 01030:  Pde Loss = 4.238e-05, Norm = 7.942e-01 Variance = 1.849e+00\n",
      "Epoch 01040:  Pde Loss = 4.557e-05, Norm = 7.060e-01 Variance = 1.048e+00\n",
      "Epoch 01050:  Pde Loss = 3.924e-05, Norm = 8.227e-01 Variance = 1.594e+00\n",
      "Epoch 01060:  Pde Loss = 4.856e-05, Norm = 6.959e-01 Variance = 1.311e+00\n",
      "Epoch 01070:  Pde Loss = 4.812e-05, Norm = 7.418e-01 Variance = 1.164e+00\n",
      "Epoch 01080:  Pde Loss = 3.769e-05, Norm = 7.514e-01 Variance = 5.779e-01\n",
      "Epoch 01090:  Pde Loss = 4.556e-05, Norm = 8.185e-01 Variance = 9.042e+00\n",
      "Epoch 01100:  Pde Loss = 5.333e-05, Norm = 7.695e-01 Variance = 1.518e+00\n"
     ]
    },
    {
     "name": "stdout",
     "output_type": "stream",
     "text": [
      "Epoch 01110:  Pde Loss = 6.950e-05, Norm = 6.966e-01 Variance = 2.016e+00\n",
      "Epoch 01120:  Pde Loss = 4.015e-05, Norm = 7.246e-01 Variance = 9.672e-01\n",
      "Epoch 01130:  Pde Loss = 4.909e-05, Norm = 6.911e-01 Variance = 1.055e+00\n",
      "Epoch 01140:  Pde Loss = 4.822e-05, Norm = 6.660e-01 Variance = 1.216e+00\n",
      "Epoch 01150:  Pde Loss = 4.529e-05, Norm = 7.558e-01 Variance = 9.454e-01\n",
      "Epoch 01160:  Pde Loss = 4.038e-05, Norm = 7.704e-01 Variance = 1.116e+00\n",
      "Epoch 01170:  Pde Loss = 3.604e-05, Norm = 8.660e-01 Variance = 2.201e+00\n",
      "Epoch 01180:  Pde Loss = 5.217e-05, Norm = 7.669e-01 Variance = 7.889e+00\n",
      "Epoch 01190:  Pde Loss = 5.310e-05, Norm = 7.696e-01 Variance = 1.752e+00\n",
      "Epoch 01200:  Pde Loss = 3.686e-05, Norm = 7.968e-01 Variance = 9.020e-01\n",
      "Epoch 01210:  Pde Loss = 5.383e-05, Norm = 7.367e-01 Variance = 9.104e-01\n",
      "Epoch 01220:  Pde Loss = 4.515e-05, Norm = 8.826e-01 Variance = 7.664e-01\n",
      "Epoch 01230:  Pde Loss = 5.042e-05, Norm = 8.278e-01 Variance = 1.022e+00\n",
      "Epoch 01240:  Pde Loss = 4.332e-05, Norm = 8.483e-01 Variance = 1.093e+00\n",
      "Epoch 01250:  Pde Loss = 4.354e-05, Norm = 7.904e-01 Variance = 8.115e-01\n",
      "Epoch 01260:  Pde Loss = 3.509e-05, Norm = 7.750e-01 Variance = 2.699e+00\n",
      "Epoch 01270:  Pde Loss = 2.912e-05, Norm = 7.990e-01 Variance = 1.052e+00\n",
      "Epoch 01280:  Pde Loss = 4.534e-05, Norm = 8.189e-01 Variance = 1.029e+00\n",
      "Epoch 01290:  Pde Loss = 3.683e-05, Norm = 8.589e-01 Variance = 7.250e-01\n",
      "Epoch 01300:  Pde Loss = 4.504e-05, Norm = 7.523e-01 Variance = 1.403e+00\n",
      "Epoch 01310:  Pde Loss = 5.934e-05, Norm = 7.725e-01 Variance = 1.725e+00\n",
      "Epoch 01320:  Pde Loss = 3.698e-05, Norm = 7.155e-01 Variance = 1.036e+00\n",
      "Epoch 01330:  Pde Loss = 5.171e-05, Norm = 6.695e-01 Variance = 1.020e+00\n",
      "Epoch 01340:  Pde Loss = 4.514e-05, Norm = 7.461e-01 Variance = 8.054e-01\n",
      "Epoch 01350:  Pde Loss = 4.084e-05, Norm = 7.513e-01 Variance = 8.110e-01\n",
      "Epoch 01360:  Pde Loss = 4.858e-05, Norm = 8.423e-01 Variance = 1.076e+00\n",
      "Epoch 01370:  Pde Loss = 5.247e-05, Norm = 7.292e-01 Variance = 1.259e+00\n",
      "Epoch 01380:  Pde Loss = 4.652e-05, Norm = 8.263e-01 Variance = 4.661e+00\n",
      "Epoch 01390:  Pde Loss = 3.954e-05, Norm = 7.815e-01 Variance = 1.250e+00\n",
      "Epoch 01400:  Pde Loss = 5.698e-05, Norm = 7.686e-01 Variance = 1.209e+00\n",
      "Epoch 01410:  Pde Loss = 5.068e-05, Norm = 7.714e-01 Variance = 1.089e+00\n",
      "Epoch 01420:  Pde Loss = 4.413e-05, Norm = 7.469e-01 Variance = 8.201e-01\n",
      "Epoch 01430:  Pde Loss = 4.086e-05, Norm = 6.963e-01 Variance = 9.920e-01\n",
      "Epoch 01440:  Pde Loss = 3.902e-05, Norm = 8.456e-01 Variance = 8.357e-01\n",
      "Epoch 01450:  Pde Loss = 3.930e-05, Norm = 8.033e-01 Variance = 7.939e-01\n",
      "Epoch 01460:  Pde Loss = 5.093e-05, Norm = 7.300e-01 Variance = 1.009e+00\n",
      "Epoch 01470:  Pde Loss = 4.636e-05, Norm = 7.508e-01 Variance = 1.951e+00\n",
      "Epoch 01480:  Pde Loss = 5.192e-05, Norm = 7.589e-01 Variance = 8.554e+00\n",
      "Epoch 01490:  Pde Loss = 4.981e-05, Norm = 7.433e-01 Variance = 1.717e+00\n",
      "Epoch 01500:  Pde Loss = 3.100e-05, Norm = 7.343e-01 Variance = 7.199e-01\n",
      "Epoch 01510:  Pde Loss = 4.893e-05, Norm = 6.881e-01 Variance = 1.298e+00\n",
      "Epoch 01520:  Pde Loss = 4.777e-05, Norm = 6.828e-01 Variance = 3.123e+00\n",
      "Epoch 01530:  Pde Loss = 5.220e-05, Norm = 7.074e-01 Variance = 2.223e+00\n",
      "Epoch 01540:  Pde Loss = 3.288e-05, Norm = 8.131e-01 Variance = 7.762e-01\n",
      "Epoch 01550:  Pde Loss = 4.225e-05, Norm = 8.249e-01 Variance = 1.015e+00\n",
      "Epoch 01560:  Pde Loss = 3.830e-05, Norm = 8.413e-01 Variance = 8.920e-01\n",
      "Epoch 01570:  Pde Loss = 4.832e-05, Norm = 8.368e-01 Variance = 9.977e-01\n",
      "Epoch 01580:  Pde Loss = 4.459e-05, Norm = 7.983e-01 Variance = 1.210e+00\n",
      "Epoch 01590:  Pde Loss = 4.710e-05, Norm = 7.231e-01 Variance = 1.454e+00\n",
      "Epoch 01600:  Pde Loss = 3.830e-05, Norm = 7.894e-01 Variance = 9.981e-01\n",
      "Epoch 01610:  Pde Loss = 5.034e-05, Norm = 7.421e-01 Variance = 2.052e+00\n",
      "Epoch 01620:  Pde Loss = 5.284e-05, Norm = 7.530e-01 Variance = 1.245e+00\n",
      "Epoch 01630:  Pde Loss = 4.691e-05, Norm = 7.508e-01 Variance = 2.288e+00\n",
      "Epoch 01640:  Pde Loss = 3.821e-05, Norm = 7.683e-01 Variance = 1.270e+00\n",
      "Epoch 01650:  Pde Loss = 4.448e-05, Norm = 7.242e-01 Variance = 1.558e+00\n",
      "Epoch 01660:  Pde Loss = 4.516e-05, Norm = 7.307e-01 Variance = 1.685e+00\n",
      "Epoch 01670:  Pde Loss = 6.130e-05, Norm = 6.753e-01 Variance = 1.621e+00\n",
      "Epoch 01680:  Pde Loss = 5.293e-05, Norm = 7.454e-01 Variance = 1.094e+00\n",
      "Epoch 01690:  Pde Loss = 4.807e-05, Norm = 8.110e-01 Variance = 1.159e+00\n",
      "Epoch 01700:  Pde Loss = 4.292e-05, Norm = 7.694e-01 Variance = 1.022e+00\n",
      "Epoch 01710:  Pde Loss = 3.902e-05, Norm = 7.681e-01 Variance = 9.535e-01\n",
      "Epoch 01720:  Pde Loss = 4.409e-05, Norm = 6.854e-01 Variance = 9.438e-01\n",
      "Epoch 01730:  Pde Loss = 5.432e-05, Norm = 6.554e-01 Variance = 1.350e+00\n",
      "Epoch 01740:  Pde Loss = 6.647e-05, Norm = 6.318e-01 Variance = 1.320e+00\n",
      "Epoch 01750:  Pde Loss = 6.612e-05, Norm = 6.551e-01 Variance = 1.668e+00\n",
      "Epoch 01760:  Pde Loss = 4.588e-05, Norm = 7.377e-01 Variance = 1.159e+00\n",
      "Epoch 01770:  Pde Loss = 4.896e-05, Norm = 8.214e-01 Variance = 1.259e+00\n",
      "Epoch 01780:  Pde Loss = 4.539e-05, Norm = 7.478e-01 Variance = 9.281e-01\n",
      "Epoch 01790:  Pde Loss = 4.220e-05, Norm = 7.524e-01 Variance = 2.769e+00\n",
      "Epoch 01800:  Pde Loss = 3.198e-05, Norm = 7.588e-01 Variance = 7.187e-01\n",
      "Epoch 01810:  Pde Loss = 4.466e-05, Norm = 7.902e-01 Variance = 1.374e+00\n",
      "Epoch 01820:  Pde Loss = 5.672e-05, Norm = 8.155e-01 Variance = 2.339e+00\n",
      "Epoch 01830:  Pde Loss = 4.531e-05, Norm = 8.506e-01 Variance = 9.108e-01\n",
      "Epoch 01840:  Pde Loss = 3.931e-05, Norm = 8.044e-01 Variance = 8.270e-01\n",
      "Epoch 01850:  Pde Loss = 4.122e-05, Norm = 7.257e-01 Variance = 7.949e-01\n",
      "Epoch 01860:  Pde Loss = 4.180e-05, Norm = 7.334e-01 Variance = 1.580e+00\n",
      "Epoch 01870:  Pde Loss = 3.892e-05, Norm = 7.442e-01 Variance = 1.028e+00\n",
      "Epoch 01880:  Pde Loss = 4.616e-05, Norm = 7.301e-01 Variance = 7.623e-01\n",
      "Epoch 01890:  Pde Loss = 5.160e-05, Norm = 6.981e-01 Variance = 1.068e+00\n",
      "Epoch 01900:  Pde Loss = 4.261e-05, Norm = 7.526e-01 Variance = 1.043e+00\n",
      "Epoch 01910:  Pde Loss = 5.756e-05, Norm = 7.347e-01 Variance = 1.253e+00\n",
      "Epoch 01920:  Pde Loss = 5.539e-05, Norm = 6.728e-01 Variance = 1.249e+00\n",
      "Epoch 01930:  Pde Loss = 3.623e-05, Norm = 7.310e-01 Variance = 6.498e-01\n",
      "Epoch 01940:  Pde Loss = 4.602e-05, Norm = 7.192e-01 Variance = 1.047e+00\n",
      "Epoch 01950:  Pde Loss = 3.881e-05, Norm = 8.023e-01 Variance = 9.685e-01\n",
      "Epoch 01960:  Pde Loss = 4.389e-05, Norm = 7.776e-01 Variance = 1.138e+00\n",
      "Epoch 01970:  Pde Loss = 3.225e-05, Norm = 7.810e-01 Variance = 1.536e+00\n",
      "Epoch 01980:  Pde Loss = 4.971e-05, Norm = 7.198e-01 Variance = 1.388e+00\n",
      "Epoch 01990:  Pde Loss = 5.251e-05, Norm = 7.508e-01 Variance = 1.492e+00\n"
     ]
    },
    {
     "data": {
      "text/plain": [
       "PINN(\n",
       "  (net): Sequential(\n",
       "    (0): Linear(in_features=3, out_features=200, bias=True)\n",
       "    (1): Mish()\n",
       "    (2): Linear(in_features=200, out_features=200, bias=True)\n",
       "    (3): Mish()\n",
       "    (4): Linear(in_features=200, out_features=200, bias=True)\n",
       "    (5): Mish()\n",
       "    (6): Linear(in_features=200, out_features=1, bias=True)\n",
       "  )\n",
       ")"
      ]
     },
     "execution_count": 22,
     "metadata": {},
     "output_type": "execute_result"
    }
   ],
   "source": [
    "optimizer = optim.Adam(list(f_net.parameters()), lr=1e-3)\n",
    "train_model(10,5.87,f_net,optimizer,N_collocation=100,n_epochs=n_epochs)"
   ]
  },
  {
   "cell_type": "code",
   "execution_count": 23,
   "id": "15079d67-6d4a-442b-bb46-6723a99a51ac",
   "metadata": {},
   "outputs": [
    {
     "data": {
      "text/plain": [
       "(3.2284581661224365, 0.05390866845846176)"
      ]
     },
     "execution_count": 23,
     "metadata": {},
     "output_type": "execute_result"
    }
   ],
   "source": [
    "compute_energy(f_net, V=-10.0, n_samples=int(1e4), L=3.)"
   ]
  },
  {
   "cell_type": "code",
   "execution_count": 24,
   "id": "f0329c25-3b3d-4b10-bf18-925938762cd9",
   "metadata": {
    "jupyter": {
     "outputs_hidden": true
    },
    "scrolled": true
   },
   "outputs": [
    {
     "name": "stdout",
     "output_type": "stream",
     "text": [
      "Epoch 00000:  Pde Loss = 5.141e-04, Norm = 7.516e-01 Variance = 9.056e+00\n",
      "Epoch 00010:  Pde Loss = 4.717e-04, Norm = 9.012e-01 Variance = 1.752e+01\n",
      "Epoch 00020:  Pde Loss = 3.938e-04, Norm = 7.134e-01 Variance = 1.121e+01\n",
      "Epoch 00030:  Pde Loss = 4.002e-04, Norm = 6.287e-01 Variance = 1.808e+01\n",
      "Epoch 00040:  Pde Loss = 4.272e-04, Norm = 5.977e-01 Variance = 3.041e+01\n",
      "Epoch 00050:  Pde Loss = 2.511e-04, Norm = 6.002e-01 Variance = 5.772e+00\n",
      "Epoch 00060:  Pde Loss = 2.679e-04, Norm = 4.868e-01 Variance = 1.016e+01\n",
      "Epoch 00070:  Pde Loss = 3.090e-04, Norm = 5.476e-01 Variance = 1.878e+01\n",
      "Epoch 00080:  Pde Loss = 2.911e-04, Norm = 6.592e-01 Variance = 8.611e+00\n",
      "Epoch 00090:  Pde Loss = 2.812e-04, Norm = 6.072e-01 Variance = 5.592e+00\n",
      "Epoch 00100:  Pde Loss = 2.466e-04, Norm = 5.741e-01 Variance = 6.250e+00\n",
      "Epoch 00110:  Pde Loss = 2.420e-04, Norm = 6.496e-01 Variance = 5.814e+00\n",
      "Epoch 00120:  Pde Loss = 2.966e-04, Norm = 6.805e-01 Variance = 9.723e+01\n",
      "Epoch 00130:  Pde Loss = 2.659e-04, Norm = 6.039e-01 Variance = 1.661e+01\n",
      "Epoch 00140:  Pde Loss = 2.768e-04, Norm = 5.504e-01 Variance = 7.749e+00\n",
      "Epoch 00150:  Pde Loss = 3.442e-04, Norm = 5.126e-01 Variance = 2.449e+01\n",
      "Epoch 00160:  Pde Loss = 3.361e-04, Norm = 5.622e-01 Variance = 1.093e+01\n",
      "Epoch 00170:  Pde Loss = 3.159e-04, Norm = 5.315e-01 Variance = 1.793e+01\n",
      "Epoch 00180:  Pde Loss = 4.126e-04, Norm = 5.799e-01 Variance = 3.062e+01\n",
      "Epoch 00190:  Pde Loss = 2.029e-04, Norm = 5.622e-01 Variance = 1.676e+01\n",
      "Epoch 00200:  Pde Loss = 2.128e-04, Norm = 5.164e-01 Variance = 7.503e+00\n",
      "Epoch 00210:  Pde Loss = 3.186e-04, Norm = 5.895e-01 Variance = 1.217e+01\n",
      "Epoch 00220:  Pde Loss = 2.020e-04, Norm = 5.414e-01 Variance = 6.649e+00\n",
      "Epoch 00230:  Pde Loss = 3.095e-04, Norm = 5.841e-01 Variance = 3.137e+01\n",
      "Epoch 00240:  Pde Loss = 2.844e-04, Norm = 5.769e-01 Variance = 1.693e+01\n",
      "Epoch 00250:  Pde Loss = 2.799e-04, Norm = 5.497e-01 Variance = 7.827e+00\n",
      "Epoch 00260:  Pde Loss = 3.324e-04, Norm = 5.795e-01 Variance = 1.672e+01\n",
      "Epoch 00270:  Pde Loss = 2.770e-04, Norm = 6.090e-01 Variance = 1.019e+01\n",
      "Epoch 00280:  Pde Loss = 2.569e-04, Norm = 6.926e-01 Variance = 5.943e+01\n",
      "Epoch 00290:  Pde Loss = 2.960e-04, Norm = 5.494e-01 Variance = 2.004e+02\n",
      "Epoch 00300:  Pde Loss = 2.481e-04, Norm = 5.675e-01 Variance = 1.193e+02\n",
      "Epoch 00310:  Pde Loss = 4.041e-04, Norm = 5.028e-01 Variance = 2.605e+01\n",
      "Epoch 00320:  Pde Loss = 3.345e-04, Norm = 6.279e-01 Variance = 2.555e+01\n",
      "Epoch 00330:  Pde Loss = 2.575e-04, Norm = 5.965e-01 Variance = 7.970e+00\n",
      "Epoch 00340:  Pde Loss = 3.554e-04, Norm = 5.088e-01 Variance = 2.077e+01\n",
      "Epoch 00350:  Pde Loss = 2.707e-04, Norm = 5.763e-01 Variance = 2.015e+01\n",
      "Epoch 00360:  Pde Loss = 3.194e-04, Norm = 5.825e-01 Variance = 2.238e+01\n",
      "Epoch 00370:  Pde Loss = 3.452e-04, Norm = 5.251e-01 Variance = 3.192e+02\n",
      "Epoch 00380:  Pde Loss = 2.515e-04, Norm = 6.238e-01 Variance = 1.231e+01\n",
      "Epoch 00390:  Pde Loss = 3.329e-04, Norm = 5.610e-01 Variance = 3.928e+01\n",
      "Epoch 00400:  Pde Loss = 4.378e-04, Norm = 5.492e-01 Variance = 9.920e+01\n",
      "Epoch 00410:  Pde Loss = 2.412e-04, Norm = 5.256e-01 Variance = 2.477e+01\n",
      "Epoch 00420:  Pde Loss = 3.645e-04, Norm = 4.962e-01 Variance = 1.310e+01\n",
      "Epoch 00430:  Pde Loss = 2.431e-04, Norm = 5.011e-01 Variance = 1.007e+01\n",
      "Epoch 00440:  Pde Loss = 3.563e-04, Norm = 4.820e-01 Variance = 7.113e+01\n",
      "Epoch 00450:  Pde Loss = 2.437e-04, Norm = 6.129e-01 Variance = 3.679e+01\n",
      "Epoch 00460:  Pde Loss = 2.869e-04, Norm = 6.072e-01 Variance = 2.584e+01\n",
      "Epoch 00470:  Pde Loss = 3.190e-04, Norm = 6.498e-01 Variance = 9.351e+03\n",
      "Epoch 00480:  Pde Loss = 2.173e-04, Norm = 5.031e-01 Variance = 7.571e+01\n",
      "Epoch 00490:  Pde Loss = 1.976e-04, Norm = 5.583e-01 Variance = 5.311e+01\n",
      "Epoch 00500:  Pde Loss = 2.403e-04, Norm = 6.112e-01 Variance = 8.615e+00\n",
      "Epoch 00510:  Pde Loss = 2.990e-04, Norm = 5.136e-01 Variance = 4.797e+01\n",
      "Epoch 00520:  Pde Loss = 3.479e-04, Norm = 5.474e-01 Variance = 4.934e+01\n",
      "Epoch 00530:  Pde Loss = 2.203e-04, Norm = 5.581e-01 Variance = 1.021e+01\n",
      "Epoch 00540:  Pde Loss = 3.433e-04, Norm = 5.395e-01 Variance = 2.590e+01\n",
      "Epoch 00550:  Pde Loss = 2.250e-04, Norm = 5.499e-01 Variance = 1.176e+01\n",
      "Epoch 00560:  Pde Loss = 2.872e-04, Norm = 5.773e-01 Variance = 4.301e+01\n",
      "Epoch 00570:  Pde Loss = 3.014e-04, Norm = 5.983e-01 Variance = 2.645e+01\n",
      "Epoch 00580:  Pde Loss = 2.392e-04, Norm = 6.282e-01 Variance = 8.225e+00\n",
      "Epoch 00590:  Pde Loss = 3.031e-04, Norm = 5.823e-01 Variance = 1.689e+02\n",
      "Epoch 00600:  Pde Loss = 3.080e-04, Norm = 5.471e-01 Variance = 1.324e+01\n",
      "Epoch 00610:  Pde Loss = 2.974e-04, Norm = 5.448e-01 Variance = 5.564e+01\n",
      "Epoch 00620:  Pde Loss = 3.158e-04, Norm = 5.529e-01 Variance = 1.044e+01\n",
      "Epoch 00630:  Pde Loss = 2.357e-04, Norm = 6.767e-01 Variance = 1.377e+01\n",
      "Epoch 00640:  Pde Loss = 2.375e-04, Norm = 6.021e-01 Variance = 7.916e+01\n",
      "Epoch 00650:  Pde Loss = 2.418e-04, Norm = 5.707e-01 Variance = 4.611e+02\n",
      "Epoch 00660:  Pde Loss = 2.914e-04, Norm = 6.017e-01 Variance = 1.600e+02\n",
      "Epoch 00670:  Pde Loss = 2.202e-04, Norm = 6.047e-01 Variance = 1.076e+01\n",
      "Epoch 00680:  Pde Loss = 2.785e-04, Norm = 6.127e-01 Variance = 1.796e+01\n",
      "Epoch 00690:  Pde Loss = 2.612e-04, Norm = 6.156e-01 Variance = 6.239e+02\n",
      "Epoch 00700:  Pde Loss = 4.017e-04, Norm = 5.977e-01 Variance = 4.227e+01\n",
      "Epoch 00710:  Pde Loss = 2.757e-04, Norm = 6.131e-01 Variance = 1.026e+01\n",
      "Epoch 00720:  Pde Loss = 2.127e-04, Norm = 6.896e-01 Variance = 1.390e+01\n",
      "Epoch 00730:  Pde Loss = 3.983e-04, Norm = 5.572e-01 Variance = 4.639e+02\n",
      "Epoch 00740:  Pde Loss = 2.827e-04, Norm = 5.559e-01 Variance = 5.052e+01\n",
      "Epoch 00750:  Pde Loss = 3.115e-04, Norm = 5.470e-01 Variance = 6.764e+01\n",
      "Epoch 00760:  Pde Loss = 3.267e-04, Norm = 5.833e-01 Variance = 6.097e+01\n",
      "Epoch 00770:  Pde Loss = 3.009e-04, Norm = 5.528e-01 Variance = 2.278e+01\n",
      "Epoch 00780:  Pde Loss = 2.632e-04, Norm = 5.000e-01 Variance = 4.053e+01\n",
      "Epoch 00790:  Pde Loss = 3.288e-04, Norm = 5.986e-01 Variance = 8.884e+02\n",
      "Epoch 00800:  Pde Loss = 3.398e-04, Norm = 6.256e-01 Variance = 7.585e+01\n",
      "Epoch 00810:  Pde Loss = 3.509e-04, Norm = 5.804e-01 Variance = 3.102e+01\n",
      "Epoch 00820:  Pde Loss = 2.615e-04, Norm = 5.908e-01 Variance = 5.001e+01\n",
      "Epoch 00830:  Pde Loss = 2.486e-04, Norm = 6.203e-01 Variance = 3.410e+01\n",
      "Epoch 00840:  Pde Loss = 2.887e-04, Norm = 6.259e-01 Variance = 1.941e+03\n",
      "Epoch 00850:  Pde Loss = 2.594e-04, Norm = 5.954e-01 Variance = 1.304e+01\n",
      "Epoch 00860:  Pde Loss = 2.682e-04, Norm = 5.583e-01 Variance = 2.748e+01\n",
      "Epoch 00870:  Pde Loss = 2.350e-04, Norm = 5.552e-01 Variance = 1.026e+01\n",
      "Epoch 00880:  Pde Loss = 2.419e-04, Norm = 5.755e-01 Variance = 2.463e+01\n",
      "Epoch 00890:  Pde Loss = 2.661e-04, Norm = 6.096e-01 Variance = 5.395e+01\n",
      "Epoch 00900:  Pde Loss = 2.524e-04, Norm = 5.151e-01 Variance = 2.254e+01\n",
      "Epoch 00910:  Pde Loss = 2.458e-04, Norm = 6.123e-01 Variance = 4.858e+01\n",
      "Epoch 00920:  Pde Loss = 2.439e-04, Norm = 6.048e-01 Variance = 1.359e+01\n",
      "Epoch 00930:  Pde Loss = 1.934e-04, Norm = 6.197e-01 Variance = 6.678e+00\n",
      "Epoch 00940:  Pde Loss = 2.919e-04, Norm = 5.901e-01 Variance = 1.526e+01\n",
      "Epoch 00950:  Pde Loss = 1.888e-04, Norm = 6.257e-01 Variance = 2.457e+03\n",
      "Epoch 00960:  Pde Loss = 2.909e-04, Norm = 5.627e-01 Variance = 5.893e+01\n",
      "Epoch 00970:  Pde Loss = 3.346e-04, Norm = 5.337e-01 Variance = 1.018e+02\n",
      "Epoch 00980:  Pde Loss = 2.338e-04, Norm = 5.412e-01 Variance = 1.005e+01\n",
      "Epoch 00990:  Pde Loss = 2.326e-04, Norm = 5.227e-01 Variance = 9.355e+00\n",
      "Epoch 01000:  Pde Loss = 2.577e-04, Norm = 5.397e-01 Variance = 3.675e+02\n",
      "Epoch 01010:  Pde Loss = 2.508e-04, Norm = 6.088e-01 Variance = 1.281e+01\n",
      "Epoch 01020:  Pde Loss = 2.712e-04, Norm = 5.377e-01 Variance = 1.553e+02\n",
      "Epoch 01030:  Pde Loss = 3.390e-04, Norm = 4.900e-01 Variance = 6.291e+02\n",
      "Epoch 01040:  Pde Loss = 3.022e-04, Norm = 5.607e-01 Variance = 2.980e+01\n",
      "Epoch 01050:  Pde Loss = 3.138e-04, Norm = 5.929e-01 Variance = 3.145e+03\n",
      "Epoch 01060:  Pde Loss = 2.909e-04, Norm = 6.399e-01 Variance = 1.414e+02\n",
      "Epoch 01070:  Pde Loss = 2.960e-04, Norm = 5.490e-01 Variance = 3.806e+01\n",
      "Epoch 01080:  Pde Loss = 3.349e-04, Norm = 5.224e-01 Variance = 4.264e+01\n",
      "Epoch 01090:  Pde Loss = 2.542e-04, Norm = 5.914e-01 Variance = 7.115e+01\n",
      "Epoch 01100:  Pde Loss = 2.728e-04, Norm = 5.765e-01 Variance = 5.534e+01\n"
     ]
    },
    {
     "name": "stdout",
     "output_type": "stream",
     "text": [
      "Epoch 01110:  Pde Loss = 3.501e-04, Norm = 5.535e-01 Variance = 4.774e+01\n",
      "Epoch 01120:  Pde Loss = 2.435e-04, Norm = 5.883e-01 Variance = 7.038e+01\n",
      "Epoch 01130:  Pde Loss = 2.310e-04, Norm = 5.711e-01 Variance = 2.348e+01\n",
      "Epoch 01140:  Pde Loss = 3.019e-04, Norm = 4.817e-01 Variance = 1.536e+01\n",
      "Epoch 01150:  Pde Loss = 3.105e-04, Norm = 5.352e-01 Variance = 3.138e+04\n",
      "Epoch 01160:  Pde Loss = 2.957e-04, Norm = 5.422e-01 Variance = 2.983e+01\n",
      "Epoch 01170:  Pde Loss = 2.780e-04, Norm = 5.756e-01 Variance = 3.932e+01\n",
      "Epoch 01180:  Pde Loss = 3.016e-04, Norm = 5.618e-01 Variance = 2.526e+01\n",
      "Epoch 01190:  Pde Loss = 2.591e-04, Norm = 6.478e-01 Variance = 1.041e+02\n",
      "Epoch 01200:  Pde Loss = 2.903e-04, Norm = 7.627e-01 Variance = 3.314e+01\n",
      "Epoch 01210:  Pde Loss = 2.886e-04, Norm = 5.952e-01 Variance = 2.701e+01\n",
      "Epoch 01220:  Pde Loss = 2.388e-04, Norm = 6.647e-01 Variance = 6.456e+02\n",
      "Epoch 01230:  Pde Loss = 2.594e-04, Norm = 6.903e-01 Variance = 1.184e+03\n",
      "Epoch 01240:  Pde Loss = 3.125e-04, Norm = 6.942e-01 Variance = 4.244e+02\n",
      "Epoch 01250:  Pde Loss = 2.878e-04, Norm = 6.329e-01 Variance = 4.145e+01\n",
      "Epoch 01260:  Pde Loss = 3.359e-04, Norm = 5.548e-01 Variance = 7.513e+01\n",
      "Epoch 01270:  Pde Loss = 2.469e-04, Norm = 6.324e-01 Variance = 6.397e+01\n",
      "Epoch 01280:  Pde Loss = 2.908e-04, Norm = 5.553e-01 Variance = 2.533e+02\n",
      "Epoch 01290:  Pde Loss = 2.397e-04, Norm = 6.476e-01 Variance = 1.418e+01\n",
      "Epoch 01300:  Pde Loss = 3.887e-04, Norm = 5.995e-01 Variance = 4.253e+03\n",
      "Epoch 01310:  Pde Loss = 1.835e-04, Norm = 6.860e-01 Variance = 9.465e+00\n",
      "Epoch 01320:  Pde Loss = 3.021e-04, Norm = 5.532e-01 Variance = 5.522e+02\n",
      "Epoch 01330:  Pde Loss = 2.425e-04, Norm = 5.260e-01 Variance = 2.499e+05\n",
      "Epoch 01340:  Pde Loss = 2.422e-04, Norm = 5.296e-01 Variance = 3.573e+02\n",
      "Epoch 01350:  Pde Loss = 3.723e-04, Norm = 5.540e-01 Variance = 1.112e+02\n",
      "Epoch 01360:  Pde Loss = 2.879e-04, Norm = 5.424e-01 Variance = 1.453e+04\n",
      "Epoch 01370:  Pde Loss = 3.058e-04, Norm = 5.391e-01 Variance = 5.949e+02\n",
      "Epoch 01380:  Pde Loss = 2.845e-04, Norm = 5.508e-01 Variance = 4.639e+02\n",
      "Epoch 01390:  Pde Loss = 3.082e-04, Norm = 5.502e-01 Variance = 2.184e+02\n",
      "Epoch 01400:  Pde Loss = 2.990e-04, Norm = 5.383e-01 Variance = 3.112e+02\n",
      "Epoch 01410:  Pde Loss = 2.415e-04, Norm = 6.089e-01 Variance = 1.605e+01\n",
      "Epoch 01420:  Pde Loss = 3.020e-04, Norm = 5.354e-01 Variance = 4.472e+03\n",
      "Epoch 01430:  Pde Loss = 2.286e-04, Norm = 5.180e-01 Variance = 7.125e+00\n",
      "Epoch 01440:  Pde Loss = 2.303e-04, Norm = 5.818e-01 Variance = 7.531e+01\n",
      "Epoch 01450:  Pde Loss = 2.375e-04, Norm = 5.887e-01 Variance = 6.611e+01\n",
      "Epoch 01460:  Pde Loss = 2.510e-04, Norm = 5.746e-01 Variance = 2.711e+03\n",
      "Epoch 01470:  Pde Loss = 2.351e-04, Norm = 6.203e-01 Variance = 2.013e+01\n",
      "Epoch 01480:  Pde Loss = 2.839e-04, Norm = 6.338e-01 Variance = 1.641e+01\n",
      "Epoch 01490:  Pde Loss = 2.696e-04, Norm = 6.309e-01 Variance = 3.650e+01\n",
      "Epoch 01500:  Pde Loss = 2.932e-04, Norm = 6.112e-01 Variance = 1.319e+02\n",
      "Epoch 01510:  Pde Loss = 3.193e-04, Norm = 6.151e-01 Variance = 4.451e+02\n",
      "Epoch 01520:  Pde Loss = 3.212e-04, Norm = 5.676e-01 Variance = 3.284e+01\n",
      "Epoch 01530:  Pde Loss = 3.474e-04, Norm = 5.733e-01 Variance = 4.284e+02\n",
      "Epoch 01540:  Pde Loss = 2.431e-04, Norm = 5.984e-01 Variance = 2.578e+01\n",
      "Epoch 01550:  Pde Loss = 2.607e-04, Norm = 5.164e-01 Variance = 1.207e+02\n",
      "Epoch 01560:  Pde Loss = 2.494e-04, Norm = 4.910e-01 Variance = 1.418e+01\n",
      "Epoch 01570:  Pde Loss = 2.581e-04, Norm = 5.587e-01 Variance = 2.298e+04\n",
      "Epoch 01580:  Pde Loss = 1.983e-04, Norm = 5.888e-01 Variance = 2.735e+01\n",
      "Epoch 01590:  Pde Loss = 3.144e-04, Norm = 5.925e-01 Variance = 2.241e+01\n",
      "Epoch 01600:  Pde Loss = 2.602e-04, Norm = 6.198e-01 Variance = 1.359e+02\n",
      "Epoch 01610:  Pde Loss = 2.988e-04, Norm = 5.688e-01 Variance = 6.239e+02\n",
      "Epoch 01620:  Pde Loss = 2.900e-04, Norm = 4.993e-01 Variance = 2.061e+01\n",
      "Epoch 01630:  Pde Loss = 3.728e-04, Norm = 4.997e-01 Variance = 7.356e+01\n",
      "Epoch 01640:  Pde Loss = 2.377e-04, Norm = 6.105e-01 Variance = 3.501e+01\n",
      "Epoch 01650:  Pde Loss = 3.104e-04, Norm = 5.549e-01 Variance = 9.593e+01\n",
      "Epoch 01660:  Pde Loss = 2.737e-04, Norm = 5.681e-01 Variance = 1.000e+04\n",
      "Epoch 01670:  Pde Loss = 2.308e-04, Norm = 6.554e-01 Variance = 2.071e+01\n",
      "Epoch 01680:  Pde Loss = 2.826e-04, Norm = 6.442e-01 Variance = 6.743e+01\n",
      "Epoch 01690:  Pde Loss = 2.578e-04, Norm = 6.160e-01 Variance = 1.802e+01\n",
      "Epoch 01700:  Pde Loss = 2.894e-04, Norm = 5.513e-01 Variance = 1.350e+02\n",
      "Epoch 01710:  Pde Loss = 2.666e-04, Norm = 5.760e-01 Variance = 3.373e+01\n",
      "Epoch 01720:  Pde Loss = 4.101e-04, Norm = 5.162e-01 Variance = 4.204e+02\n",
      "Epoch 01730:  Pde Loss = 2.583e-04, Norm = 5.267e-01 Variance = 2.103e+01\n",
      "Epoch 01740:  Pde Loss = 2.376e-04, Norm = 5.506e-01 Variance = 1.910e+01\n",
      "Epoch 01750:  Pde Loss = 2.635e-04, Norm = 5.868e-01 Variance = 8.798e+01\n",
      "Epoch 01760:  Pde Loss = 3.010e-04, Norm = 6.424e-01 Variance = 1.211e+02\n",
      "Epoch 01770:  Pde Loss = 2.485e-04, Norm = 5.695e-01 Variance = 9.367e+00\n",
      "Epoch 01780:  Pde Loss = 2.599e-04, Norm = 5.928e-01 Variance = 2.538e+02\n",
      "Epoch 01790:  Pde Loss = 2.888e-04, Norm = 4.994e-01 Variance = 5.720e+01\n",
      "Epoch 01800:  Pde Loss = 2.273e-04, Norm = 4.816e-01 Variance = 2.431e+01\n",
      "Epoch 01810:  Pde Loss = 2.812e-04, Norm = 5.252e-01 Variance = 6.756e+01\n",
      "Epoch 01820:  Pde Loss = 3.017e-04, Norm = 5.841e-01 Variance = 3.150e+03\n",
      "Epoch 01830:  Pde Loss = 1.869e-04, Norm = 6.168e-01 Variance = 1.380e+01\n",
      "Epoch 01840:  Pde Loss = 3.897e-04, Norm = 5.033e-01 Variance = 7.334e+03\n",
      "Epoch 01850:  Pde Loss = 2.868e-04, Norm = 5.418e-01 Variance = 2.727e+02\n",
      "Epoch 01860:  Pde Loss = 2.475e-04, Norm = 5.633e-01 Variance = 2.386e+01\n",
      "Epoch 01870:  Pde Loss = 1.972e-04, Norm = 6.111e-01 Variance = 1.401e+04\n",
      "Epoch 01880:  Pde Loss = 3.506e-04, Norm = 5.342e-01 Variance = 2.541e+01\n",
      "Epoch 01890:  Pde Loss = 2.855e-04, Norm = 5.646e-01 Variance = 3.197e+02\n",
      "Epoch 01900:  Pde Loss = 3.251e-04, Norm = 5.355e-01 Variance = 2.099e+02\n",
      "Epoch 01910:  Pde Loss = 3.354e-04, Norm = 5.399e-01 Variance = 6.217e+01\n",
      "Epoch 01920:  Pde Loss = 2.797e-04, Norm = 6.017e-01 Variance = 1.117e+02\n",
      "Epoch 01930:  Pde Loss = 2.101e-04, Norm = 5.594e-01 Variance = 2.001e+01\n",
      "Epoch 01940:  Pde Loss = 2.222e-04, Norm = 6.085e-01 Variance = 7.218e+01\n",
      "Epoch 01950:  Pde Loss = 2.838e-04, Norm = 5.182e-01 Variance = 5.682e+01\n",
      "Epoch 01960:  Pde Loss = 2.256e-04, Norm = 5.812e-01 Variance = 1.210e+05\n",
      "Epoch 01970:  Pde Loss = 2.901e-04, Norm = 5.294e-01 Variance = 1.449e+02\n",
      "Epoch 01980:  Pde Loss = 3.235e-04, Norm = 5.251e-01 Variance = 1.826e+02\n",
      "Epoch 01990:  Pde Loss = 2.398e-04, Norm = 5.819e-01 Variance = 2.369e+01\n"
     ]
    },
    {
     "data": {
      "text/plain": [
       "PINN(\n",
       "  (net): Sequential(\n",
       "    (0): Linear(in_features=3, out_features=200, bias=True)\n",
       "    (1): Mish()\n",
       "    (2): Linear(in_features=200, out_features=200, bias=True)\n",
       "    (3): Mish()\n",
       "    (4): Linear(in_features=200, out_features=200, bias=True)\n",
       "    (5): Mish()\n",
       "    (6): Linear(in_features=200, out_features=1, bias=True)\n",
       "  )\n",
       ")"
      ]
     },
     "execution_count": 24,
     "metadata": {},
     "output_type": "execute_result"
    }
   ],
   "source": [
    "optimizer = optim.Adam(list(f_net.parameters()), lr=1e-3)\n",
    "train_model(20,6.5,f_net,optimizer,N_collocation=100,n_epochs=n_epochs)"
   ]
  },
  {
   "cell_type": "code",
   "execution_count": 25,
   "id": "ed149de0-2cc2-4c01-95da-54cb918ba65d",
   "metadata": {},
   "outputs": [
    {
     "data": {
      "image/png": "[encoded data removed]",
      "text/plain": [
       "<Figure size 800x500 with 1 Axes>"
      ]
     },
     "metadata": {},
     "output_type": "display_data"
    }
   ],
   "source": [
    "\n",
    "Ngrid =60       # Number of grid points per particle coordinate\n",
    "L=3\n",
    "x_grid = torch.linspace(-L, L, Ngrid)  # shape: (Ngrid,)\n",
    "mesh = torch.meshgrid(*([x_grid] * n_particles), indexing='ij')\n",
    "positions = torch.stack([m.reshape(-1) for m in mesh], dim=-1)\n",
    "positions = positions.unsqueeze(-1)\n",
    "\n",
    "SD_vals = slater_determinant_from_C_occ_batch(positions, C_occ)   # shape: (Ngrid**n_particles, 1)\n",
    "                   # shape: (Ngrid**n_particles, 1)\n",
    "psi_vals = SD_vals                            # shape: (Ngrid**n_particles, 1)\n",
    "psi_vals=psi_plot_fn(positions)\n",
    "psi_sq = (psi_vals.abs()**2).view(*([Ngrid] * n_particles))\n",
    "density = psi_sq.clone()\n",
    "for axis in sorted(range(1, n_particles), reverse=True):\n",
    "    density = torch.trapz(density, x_grid, dim=axis)\n",
    "n_x = n_particles * density  # shape: (Ngrid,)\n",
    "\n",
    "# --- 7. Plot the one-body density ---\n",
    "x_vals = x_grid.detach().cpu().numpy()\n",
    "n_vals = n_x.detach().cpu().numpy()\n",
    "\n",
    "plt.figure(figsize=(8, 5))\n",
    "plt.plot(x_vals, n_vals, label=r'$n(x_1)$')\n",
    "plt.xlabel('x')\n",
    "plt.ylabel(r'$n(x_1)$')\n",
    "plt.title(f'One-Body Density for a {n_particles }-Particle 1D System')\n",
    "plt.legend()\n",
    "plt.show()\n"
   ]
  },
  {
   "cell_type": "code",
   "execution_count": 26,
   "id": "a8ec9160-c6c3-47b2-a845-9d31b267a0c1",
   "metadata": {},
   "outputs": [
    {
     "data": {
      "image/png": "[encoded data removed]",
      "text/plain": [
       "<Figure size 800x500 with 1 Axes>"
      ]
     },
     "metadata": {},
     "output_type": "display_data"
    }
   ],
   "source": [
    "\n",
    "Ngrid =60       # Number of grid points per particle coordinate\n",
    "L=3\n",
    "x_grid = torch.linspace(-L, L, Ngrid)  # shape: (Ngrid,)\n",
    "mesh = torch.meshgrid(*([x_grid] * n_particles), indexing='ij')\n",
    "positions = torch.stack([m.reshape(-1) for m in mesh], dim=-1)\n",
    "positions = positions.unsqueeze(-1)\n",
    "\n",
    "SD_vals = slater_determinant_from_C_occ_batch(positions, C_occ)   # shape: (Ngrid**n_particles, 1)\n",
    "                   # shape: (Ngrid**n_particles, 1)\n",
    "psi_vals = SD_vals                            # shape: (Ngrid**n_particles, 1)\n",
    "psi_vals=psi_plot_fn(positions)\n",
    "psi_sq = (psi_vals.abs()**2).view(*([Ngrid] * n_particles))\n",
    "density = psi_sq.clone()\n",
    "for axis in sorted(range(1, n_particles), reverse=True):\n",
    "    density = torch.trapz(density, x_grid, dim=axis)\n",
    "n_x = n_particles * density  # shape: (Ngrid,)\n",
    "\n",
    "# --- 7. Plot the one-body density ---\n",
    "x_vals = x_grid.detach().cpu().numpy()\n",
    "n_vals = n_x.detach().cpu().numpy()\n",
    "\n",
    "plt.figure(figsize=(8, 5))\n",
    "plt.plot(x_vals, n_vals, label=r'$n(x_1)$')\n",
    "plt.xlabel('x')\n",
    "plt.ylabel(r'$n(x_1)$')\n",
    "plt.title(f'One-Body Density for a {n_particles }-Particle 1D System')\n",
    "plt.legend()\n",
    "plt.show()\n"
   ]
  },
  {
   "cell_type": "code",
   "execution_count": null,
   "id": "607a4402-079b-4a09-a7e4-40b1f5e352d4",
   "metadata": {},
   "outputs": [],
   "source": []
  }
 ],
 "metadata": {
  "kernelspec": {
   "display_name": "Python 3 (ipykernel)",
   "language": "python",
   "name": "python3"
  },
  "language_info": {
   "codemirror_mode": {
    "name": "ipython",
    "version": 3
   },
   "file_extension": ".py",
   "mimetype": "text/x-python",
   "name": "python",
   "nbconvert_exporter": "python",
   "pygments_lexer": "ipython3",
   "version": "3.9.15"
  }
 },
 "nbformat": 4,
 "nbformat_minor": 5
}
