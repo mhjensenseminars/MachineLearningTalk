{
 "cells": [
  {
   "cell_type": "markdown",
   "id": "e9d1d375",
   "metadata": {
    "editable": true
   },
   "source": [
    "<!-- HTML file automatically generated from DocOnce source (https://github.com/doconce/doconce/)\n",
    "doconce format html entanglemtECT.do.txt --no_mako -->\n",
    "<!-- dom:TITLE: Coulomb interaction driven entanglement of electrons on helium, theory and experiment -->"
   ]
  },
  {
   "cell_type": "markdown",
   "id": "44bdfab8",
   "metadata": {
    "editable": true
   },
   "source": [
    "# Coulomb interaction driven entanglement of electrons on helium, theory and experiment\n",
    "**Jonas Boym Flaten and Oskar Leinonen**, Department of Physics, University of Oslo, Norway  \n",
    "**Morten Hjorth-Jensen**, Department of Physics and Astronomy and Facility for Rare Isotope Beams (FRIB), Michigan State University, USA and Department of Physics, University of Oslo, Norway\n",
    "\n",
    "Date: **June 4, 2023**"
   ]
  },
  {
   "cell_type": "markdown",
   "id": "09eae38d",
   "metadata": {
    "editable": true
   },
   "source": [
    "## Overview and Motivation\n",
    "\n",
    "**How to use many-body theory to design quantum circuits (Quantum engineering)**\n",
    "1. Many-body methods like F(ull)C(onfiguration)I(nteraction) theory  with\n",
    "\n",
    "  * Adaptive basis sets (see for example [Sigmundson et al arXiv:2111.09638](https://arxiv.org/abs/2111.09638))\n",
    "\n",
    "  * Time dependence\n",
    "\n",
    "  * Optimization of experimental parameter \n",
    "\n",
    "  * Feedback from experiment\n",
    "\n",
    "2. Finding optimal parameters for tuning of entanglement\n",
    "\n",
    "3. Numerical experiments to mimick real systems, using many-body methods to develop **quantum twins** ([inspiration from  work by Herschel Rabitz et al on Control of quantum phenomena, see New Journal of Physics 12 (2010) 075008](https://iopscience.iop.org/article/10.1088/1367-2630/12/7/075008))!"
   ]
  },
  {
   "cell_type": "markdown",
   "id": "a0051362",
   "metadata": {
    "editable": true
   },
   "source": [
    "## Collaborators and people to thank\n",
    "\n",
    "**MSU.**\n",
    "\n",
    "Niyaz Beysengulov and Johannes Pollanen (experiment, Physics); Zachary Stewart, Jared Weidman, and Angela Wilson (quantum chemistry)\n",
    "\n",
    "**University of Oslo.**\n",
    "\n",
    "Øyvind Sigmundson Schøyen, Stian Dysthe Bilek, and Håkon Emil Kristiansen (Physics and quantum chemistry). In addition collaboration on point defects with Marianne Bathen and Lasse Vines."
   ]
  },
  {
   "cell_type": "markdown",
   "id": "ea16f937",
   "metadata": {
    "editable": true
   },
   "source": [
    "## What is this talk about?\n",
    "\n",
    "Here we describe a method for generating motional entanglement between\n",
    "two electrons trapped above the surface of superfluid helium. In this\n",
    "proposed scheme these electronic charge qubits are laterally confined\n",
    "via electrostatic gates to create an anharmonic trapping\n",
    "potential. When the system is cooled to sufficiently low temperature\n",
    "these in-plane charge qubit states are quantized and circuit quantum\n",
    "electrodynamic methods can be used to control and readout single qubit\n",
    "operations. Perspectives for quantum simulations with quantum dots\n",
    "systems will be discussed."
   ]
  },
  {
   "cell_type": "markdown",
   "id": "32993176",
   "metadata": {
    "editable": true
   },
   "source": [
    "## Literature and more reading\n",
    "\n",
    "1. [Justyna P. Zwolak and Jacob M. Taylor, Rev. Mod. Phys. 95, 011006, Advances in automation of quantum dot devices control](https://journals.aps.org/rmp/abstract/10.1103/RevModPhys.95.011006)\n",
    "\n",
    "2. [Pollanen and many other, Accelerating Progress Towards Practical Quantum Advantage: The Quantum Technology Demonstration Project Roadmap](https://arxiv.org/pdf/2210.14757.pdf)\n",
    "\n",
    "3. [Osada et al, introduction to quantum technologies, Springer, 2022](https://link.springer.com/book/10.1007/978-981-19-4641-7)\n",
    "\n",
    "4. [Original inspiration a series of articles of Loss and DiVincenzo from the nineties, Quantum Computation with Quantum Dots](https://journals.aps.org/pra/pdf/10.1103/PhysRevA.57.120)"
   ]
  },
  {
   "cell_type": "markdown",
   "id": "6af2469e",
   "metadata": {
    "editable": true
   },
   "source": [
    "## Quantum Engineering\n",
    "\n",
    "**Quantum computing requirements.**\n",
    "\n",
    "1. be scalable\n",
    "\n",
    "2. have qubits that can be entangled\n",
    "\n",
    "3. have reliable initializations protocols to a standard state\n",
    "\n",
    "4. have a set of universal quantum gates to control the quantum evolution\n",
    "\n",
    "5. have a coherence time much longer than the gate operation time\n",
    "\n",
    "6. have a reliable read-out mechanism for measuring the qubit states\n",
    "\n",
    "7. ...more"
   ]
  },
  {
   "cell_type": "markdown",
   "id": "63537210",
   "metadata": {
    "editable": true
   },
   "source": [
    "## Candidate systems\n",
    "\n",
    "1. Superconducting Josephon junctions\n",
    "\n",
    "2. Single photons\n",
    "\n",
    "3. [Trapped ions and atoms](https://journals.aps.org/rmp/pdf/10.1103/RevModPhys.93.025001)\n",
    "\n",
    "4. Nuclear Magnetic Resonance\n",
    "\n",
    "5. **Quantum dots, experiments at MSU**\n",
    "\n",
    "6. Point Defects in semiconductors\n",
    "\n",
    "7. ...more"
   ]
  },
  {
   "cell_type": "markdown",
   "id": "f7365a2e",
   "metadata": {
    "editable": true
   },
   "source": [
    "## Electrons (quantum dots) on superfluid helium\n",
    "\n",
    "Electrons on **superfluid helium represent** (see <https://www.youtube.com/watch?v=EuDuM-fe-lA&ab_channel=JoshuahHeath>) a promising platform for investigating\n",
    "strongly-coupled qubits.\n",
    "\n",
    "A systematic investigation of the\n",
    "controlled generation of entanglement between two trapped electrons\n",
    "under the influence of coherent microwave driving pulses, taking into\n",
    "account the effects of the Coulomb interaction between electrons, may be of great interest for quantum information processing using\n",
    "trapped electrons."
   ]
  },
  {
   "cell_type": "markdown",
   "id": "171cb528",
   "metadata": {
    "editable": true
   },
   "source": [
    "## To read more\n",
    "\n",
    "1. See [Single electrons on solid neon as a solid-state qubit platform, David Schuster et al, Nature **605**, 46–50 (2022)](https://www.nature.com/articles/s41586-022-04539-x)\n",
    "\n",
    "2. See Mark Dykman et al, Spin dynamics in quantum dots on liquid helium, PRB **107**. 035437 (2023) at <https://link.aps.org/doi/10.1103/PhysRevB.107.035437>."
   ]
  },
  {
   "cell_type": "markdown",
   "id": "551a9fb2",
   "metadata": {
    "editable": true
   },
   "source": [
    "## Experimental setup I\n",
    "\n",
    "<!-- dom:FIGURE: [qcfigures/Elhelium1.png, width=700 frac=1.3] -->\n",
    "<!-- begin figure -->\n",
    "\n",
    "<img src=\"qcfigures/Elhelium1.png\" width=\"700\"><p style=\"font-size: 0.9em\"><i>Figure 1: </i></p>\n",
    "<!-- end figure -->"
   ]
  },
  {
   "cell_type": "markdown",
   "id": "0df6c93a",
   "metadata": {
    "editable": true
   },
   "source": [
    "## More on experimental setup II\n",
    "\n",
    "<!-- dom:FIGURE: [qcfigures/Elhelium2.png, width=700 frac=1.3] -->\n",
    "<!-- begin figure -->\n",
    "\n",
    "<img src=\"qcfigures/Elhelium2.png\" width=\"700\"><p style=\"font-size: 0.9em\"><i>Figure 1: </i></p>\n",
    "<!-- end figure -->"
   ]
  },
  {
   "cell_type": "markdown",
   "id": "f099486c",
   "metadata": {
    "editable": true
   },
   "source": [
    "## More on experimental setup III\n",
    "\n",
    "<!-- dom:FIGURE: [qcfigures/Elhelium3.png, width=700 frac=1.3] -->\n",
    "<!-- begin figure -->\n",
    "\n",
    "<img src=\"qcfigures/Elhelium3.png\" width=\"700\"><p style=\"font-size: 0.9em\"><i>Figure 1: </i></p>\n",
    "<!-- end figure -->"
   ]
  },
  {
   "cell_type": "markdown",
   "id": "8419487a",
   "metadata": {
    "editable": true
   },
   "source": [
    "## Experimental set up\n",
    "\n",
    "<!-- dom:FIGURE: [qcfigures/figure1.png, width=600 frac=0.9] -->\n",
    "<!-- begin figure -->\n",
    "\n",
    "<img src=\"qcfigures/figure1.png\" width=\"600\"><p style=\"font-size: 0.9em\"><i>Figure 1: </i></p>\n",
    "<!-- end figure -->\n",
    "\n",
    "1. (a) Schematic of the microdevice, where two electrons are trapped in a double-well potential created by electrodes 1-7. The read-out is provided by two superconducting resonators dispersively coupled to  electron's in-plane motional states.\n",
    "\n",
    "2. (b) Coupling constants from each individual electrode beneath the helium layer.\n",
    "\n",
    "3. (c+d) The electron's energy in a  double-well electrostatic potential (solid line). Dashed and dot-dashed lines represent the harmonic approximations of left and right wells respectively."
   ]
  },
  {
   "cell_type": "markdown",
   "id": "e3c786b9",
   "metadata": {
    "editable": true
   },
   "source": [
    "## Entanglement\n",
    "\n",
    "[Entanglement](https://link.springer.com/content/pdf/10.1007/s11232-007-0098-9.pdf) is the fundamental characteristic that distinguishes\n",
    "quantum systems composed of two or more coupled objects from their\n",
    "classical counterparts. The study of entanglement in precisely\n",
    "engineered quantum systems with countably many degrees of freedom is\n",
    "at the forefront of modern physics and is a key resource in quantum\n",
    "information science (QIS). This is particularly true in the\n",
    "development of two-qubit logic for quantum computation.\n",
    "\n",
    "The\n",
    "generation of two-qubit entanglement has been demonstrated in a wide\n",
    "variety of physical systems used in present-day quantum computing,\n",
    "including superconducting circuits, trapped\n",
    "ions, semiconductor quantum dots, color-center\n",
    "defects in diamond, and neutral atoms in optical\n",
    "lattices, just to name a few."
   ]
  },
  {
   "cell_type": "markdown",
   "id": "e83998f8",
   "metadata": {
    "editable": true
   },
   "source": [
    "## More on Entanglement\n",
    "\n",
    "Generating an entanglement between two quantum systems rely on\n",
    "exploiting interactions in a controllable way. The details in the\n",
    "interaction Hamiltonian between two systems defines the protocol\n",
    "schemes for two-qubit logic.\n",
    "\n",
    "In  superconducting circuits the\n",
    "interaction between qubits may arise from direct capacitive coupling\n",
    "between circuit elements or by indirect coupling of two qubits to a\n",
    "common resonator (virtually populating resonator mode) which results\n",
    "in a non-local Hamiltonian in the form of exchange\n",
    "interaction. This allow to implement various\n",
    "schemes for entanglement, such as controlled-phase\n",
    "gate, resonator-induced phase\n",
    "gate, cross-resonance gates etc."
   ]
  },
  {
   "cell_type": "markdown",
   "id": "22fd86e1",
   "metadata": {
    "editable": true
   },
   "source": [
    "## Entanglement gates in trapped ions and more\n",
    "\n",
    "Entanglement gates in trapped ions are\n",
    "produced by means of the Coulomb interaction, where shared motional\n",
    "modes of two or more ions, entangled to their internal states, used\n",
    "for transferring excitations between ion\n",
    "qubits. This has been experimentally\n",
    "demonstrated.\n",
    "\n",
    "In photonic quantum\n",
    "computing schemes two-qubit entangling operations are realized by\n",
    "nonlinear interactions between two photons scattering from quantum\n",
    "dots, plasmonic nanowires, diamond vacancy centers and others embedded\n",
    "into waveguides. Two-qubit gates in\n",
    "semiconductor quantum dots are based on spin-spin exchange\n",
    "interactions or generated\n",
    "by coupling to a superconducting resonator via artificial spin-orbit\n",
    "interaction."
   ]
  },
  {
   "cell_type": "markdown",
   "id": "225568ac",
   "metadata": {
    "editable": true
   },
   "source": [
    "## Quantum dots and the Coulomb interaction\n",
    "\n",
    "Coulomb interaction governed entanglement can be realized in\n",
    "the system of electrons on the surface of superfluid helium, where\n",
    "qubit states are formed by in-plane lateral motional or out-of plane\n",
    "Rydberg states. Trapped near the surface of liquid helium these states\n",
    "have different spatial charge configurations and the wavefunctions of\n",
    "different electrons do not overlap.\n",
    "\n",
    "This results in a strong exchange\n",
    "free Coulomb interaction which depends on the states of the\n",
    "electrons. The lack of disorder in the systems\n",
    "also leads to slow electron decoherence, which has attracted interest\n",
    "to the system as a candidate for quantum information\n",
    "processing."
   ]
  },
  {
   "cell_type": "markdown",
   "id": "a74e3e92",
   "metadata": {
    "editable": true
   },
   "source": [
    "## Electrons on helium is another qubit platform\n",
    "\n",
    "**To our knowledge two qubit gates have never been discussed in a proper manner for these systems.**\n",
    "\n",
    "The static Coulomb interaction arises from a virtual photon exchange\n",
    " process between two charge particles according to quantum\n",
    " electrodynamics. This results in a correlated motion of two charges\n",
    " generating quantum entanglement."
   ]
  },
  {
   "cell_type": "markdown",
   "id": "6e9c667d",
   "metadata": {
    "editable": true
   },
   "source": [
    "## Surface state electrons (SSE)\n",
    "\n",
    "Surface state electrons (SSE) 'floating' above liquid helium\n",
    "originates from quantization of electron's perpendicular to the\n",
    "surface motion in a trapping potential formed by attractive force from\n",
    "image charge and a large $\\sim$ 1 eV barrier at the liquid-vacuum\n",
    "interface. At low temperatures the SSE are trapped in the lowest\n",
    "Rydberg state for vertical motion some 11 nm above the helium surface,\n",
    "which is perfectly clean and has a permittivity close to that of\n",
    "vacuum.\n",
    "\n",
    "The weak interaction with rthe enviroment, which is mainly governed\n",
    "by interaction with quantized surface capillary waves (ripplons) and\n",
    "bulk phonons, ensures long coherence times - a vital ingredient for\n",
    "any qubit platform."
   ]
  },
  {
   "cell_type": "markdown",
   "id": "398518f6",
   "metadata": {
    "editable": true
   },
   "source": [
    "## Calculational details\n",
    "\n",
    "Hamiltonian:"
   ]
  },
  {
   "cell_type": "markdown",
   "id": "1b9297a3",
   "metadata": {
    "editable": true
   },
   "source": [
    "<!-- Equation labels as ordinary links -->\n",
    "<div id=\"_auto1\"></div>\n",
    "\n",
    "$$\n",
    "\\begin{equation}\n",
    "\\hat{H} =\\frac{\\hat{p}_1^2}{2} + \\sum_{i = 1}^7 V_i\\alpha_i[\\hat{x}_1] + \\frac{\\hat{p}_2^2}{2} + \\sum_{i = 1}^7 V_i\\alpha_i[\\hat{x}_2] + \\frac{\\kappa}{\\sqrt{(\\hat{x}_1-\\hat{x}_2)^2 + a^2}}\n",
    "\\label{_auto1} \\tag{1}\n",
    "\\end{equation}\n",
    "$$"
   ]
  },
  {
   "cell_type": "markdown",
   "id": "38d95218",
   "metadata": {
    "editable": true
   },
   "source": [
    "<!-- Equation labels as ordinary links -->\n",
    "<div id=\"_auto2\"></div>\n",
    "\n",
    "$$\n",
    "\\begin{equation} \n",
    "= h[\\hat{p}_1,\\hat{x}_1] + h[\\hat{p}_2,\\hat{x}_2] + u[\\hat{x}_1,\\hat{x}_2]\n",
    "\\label{_auto2} \\tag{2}\n",
    "\\end{equation}\n",
    "$$"
   ]
  },
  {
   "cell_type": "markdown",
   "id": "2c9ea2e1",
   "metadata": {
    "editable": true
   },
   "source": [
    "<!-- dom:FIGURE: [qcfigures/well_basis.png, width=600 frac=0.8] -->\n",
    "<!-- begin figure -->\n",
    "\n",
    "<img src=\"qcfigures/well_basis.png\" width=\"600\"><p style=\"font-size: 0.9em\"><i>Figure 1: </i></p>\n",
    "<!-- end figure -->"
   ]
  },
  {
   "cell_type": "markdown",
   "id": "8dd39389",
   "metadata": {
    "editable": true
   },
   "source": [
    "## Calculational details\n",
    "\n",
    "Hamiltonian:"
   ]
  },
  {
   "cell_type": "markdown",
   "id": "fb5dab36",
   "metadata": {
    "editable": true
   },
   "source": [
    "<!-- Equation labels as ordinary links -->\n",
    "<div id=\"_auto3\"></div>\n",
    "\n",
    "$$\n",
    "\\begin{equation}\n",
    "\\hat{H} = \\frac{\\hat{p}_1^2}{2} + v[\\hat{x}_1] + \\frac{\\hat{p}_2^2}{2} + v[\\hat{x}_2] + \\frac{\\kappa}{\\sqrt{(\\hat{x}_1-\\hat{x}_2)^2 + a^2}}\n",
    "\\label{_auto3} \\tag{3}\n",
    "\\end{equation}\n",
    "$$"
   ]
  },
  {
   "cell_type": "markdown",
   "id": "622dfb51",
   "metadata": {
    "editable": true
   },
   "source": [
    "<!-- Equation labels as ordinary links -->\n",
    "<div id=\"_auto4\"></div>\n",
    "\n",
    "$$\n",
    "\\begin{equation} \n",
    "= h[\\hat{p}_1,\\hat{x}_1] + h[\\hat{p}_2,\\hat{x}_2] + u[\\hat{x}_1,\\hat{x}_2]\n",
    "\\label{_auto4} \\tag{4}\n",
    "\\end{equation}\n",
    "$$"
   ]
  },
  {
   "cell_type": "markdown",
   "id": "38fc73ad",
   "metadata": {
    "editable": true
   },
   "source": [
    "<!-- dom:FIGURE: [qcfigures/wells.png, width=600 frac=0.8] -->\n",
    "<!-- begin figure -->\n",
    "\n",
    "<img src=\"qcfigures/wells.png\" width=\"600\"><p style=\"font-size: 0.9em\"><i>Figure 1: </i></p>\n",
    "<!-- end figure -->"
   ]
  },
  {
   "cell_type": "markdown",
   "id": "d78ceee9",
   "metadata": {
    "editable": true
   },
   "source": [
    "## Calculational details\n",
    "\n",
    "Hamiltonian:"
   ]
  },
  {
   "cell_type": "markdown",
   "id": "cd7ec4f1",
   "metadata": {
    "editable": true
   },
   "source": [
    "<!-- Equation labels as ordinary links -->\n",
    "<div id=\"_auto5\"></div>\n",
    "\n",
    "$$\n",
    "\\begin{equation}\n",
    "\\hat{H} = \\frac{\\hat{p}_1^2}{2} + v[\\hat{x}_1] + \\frac{\\hat{p}_2^2}{2} + v[\\hat{x}_2] + \\frac{\\kappa}{\\sqrt{(\\hat{x}_1-\\hat{x}_2)^2 + a^2}} \n",
    "\\label{_auto5} \\tag{5}\n",
    "\\end{equation}\n",
    "$$"
   ]
  },
  {
   "cell_type": "markdown",
   "id": "fc9485db",
   "metadata": {
    "editable": true
   },
   "source": [
    "<!-- Equation labels as ordinary links -->\n",
    "<div id=\"_auto6\"></div>\n",
    "\n",
    "$$\n",
    "\\begin{equation} \n",
    "\\equiv h[\\hat{p}_1,\\hat{x}_1] + h[\\hat{p}_2,\\hat{x}_2] + u[\\hat{x}_1,\\hat{x}_2]\n",
    "\\label{_auto6} \\tag{6}\n",
    "\\end{equation}\n",
    "$$"
   ]
  },
  {
   "cell_type": "markdown",
   "id": "3e8cb675",
   "metadata": {
    "editable": true
   },
   "source": [
    "Energy states:"
   ]
  },
  {
   "cell_type": "markdown",
   "id": "c8a63ef3",
   "metadata": {
    "editable": true
   },
   "source": [
    "<!-- Equation labels as ordinary links -->\n",
    "<div id=\"_auto7\"></div>\n",
    "\n",
    "$$\n",
    "\\begin{equation}\n",
    "\\vert\\Phi_k\\rangle = \\sum_{i < j} C_{ij, k}\\frac{\\vert \\varphi_i \\varphi_j\\rangle - \\vert \\varphi_j \\varphi_i\\rangle}{\\sqrt{2}},\n",
    "\\label{_auto7} \\tag{7}\n",
    "\\end{equation}\n",
    "$$"
   ]
  },
  {
   "cell_type": "markdown",
   "id": "04dc0a07",
   "metadata": {
    "editable": true
   },
   "source": [
    "(Slater basis)"
   ]
  },
  {
   "cell_type": "markdown",
   "id": "d57cd2b2",
   "metadata": {
    "editable": true
   },
   "source": [
    "## Calculational details\n",
    "\n",
    "Hamiltonian:"
   ]
  },
  {
   "cell_type": "markdown",
   "id": "91c9363e",
   "metadata": {
    "editable": true
   },
   "source": [
    "<!-- Equation labels as ordinary links -->\n",
    "<div id=\"_auto8\"></div>\n",
    "\n",
    "$$\n",
    "\\begin{equation}\n",
    "\\hat{H} = \\frac{\\hat{p}_1^2}{2} + v^L[\\hat{x}_1] + \\frac{\\hat{p}_2^2}{2} + v^R[\\hat{x}_2] + \\frac{\\kappa}{\\sqrt{(\\hat{x}_1-\\hat{x}_2)^2 + a^2}} \n",
    "\\label{_auto8} \\tag{8}\n",
    "\\end{equation}\n",
    "$$"
   ]
  },
  {
   "cell_type": "markdown",
   "id": "066443d2",
   "metadata": {
    "editable": true
   },
   "source": [
    "<!-- Equation labels as ordinary links -->\n",
    "<div id=\"_auto9\"></div>\n",
    "\n",
    "$$\n",
    "\\begin{equation} \n",
    "\\equiv h^L[\\hat{p}_1,\\hat{x}_1] + h^R[\\hat{p}_2,\\hat{x}_2] + u[\\hat{x}_1,\\hat{x}_2]\n",
    "\\label{_auto9} \\tag{9}\n",
    "\\end{equation}\n",
    "$$"
   ]
  },
  {
   "cell_type": "markdown",
   "id": "aa62eb3d",
   "metadata": {
    "editable": true
   },
   "source": [
    "Energy states:"
   ]
  },
  {
   "cell_type": "markdown",
   "id": "7c6de858",
   "metadata": {
    "editable": true
   },
   "source": [
    "<!-- Equation labels as ordinary links -->\n",
    "<div id=\"_auto10\"></div>\n",
    "\n",
    "$$\n",
    "\\begin{equation}\n",
    "\\vert\\Phi_k\\rangle = \\sum_{i} \\sum_{j} C_{ij, k}\\vert \\varphi^L_i \\varphi^R_j\\rangle,\n",
    "\\label{_auto10} \\tag{10}\n",
    "\\end{equation}\n",
    "$$"
   ]
  },
  {
   "cell_type": "markdown",
   "id": "daf5290d",
   "metadata": {
    "editable": true
   },
   "source": [
    "(product basis)"
   ]
  },
  {
   "cell_type": "markdown",
   "id": "1940d776",
   "metadata": {
    "editable": true
   },
   "source": [
    "## Calculational details\n",
    "\n",
    "Energy states:"
   ]
  },
  {
   "cell_type": "markdown",
   "id": "d91df6fb",
   "metadata": {
    "editable": true
   },
   "source": [
    "<!-- Equation labels as ordinary links -->\n",
    "<div id=\"_auto11\"></div>\n",
    "\n",
    "$$\n",
    "\\begin{equation}\n",
    "\\vert\\Phi_k\\rangle = \\sum_{i} \\sum_{j} C_{ij, k}\\vert \\varphi^L_i \\varphi^R_j\\rangle,\n",
    "\\label{_auto11} \\tag{11}\n",
    "\\end{equation}\n",
    "$$"
   ]
  },
  {
   "cell_type": "markdown",
   "id": "ce672a6c",
   "metadata": {
    "editable": true
   },
   "source": [
    "(product basis)\n",
    "\n",
    "<!-- dom:FIGURE: [qcfigures/Hartree_states.png, width=700 frac=0.9] -->\n",
    "<!-- begin figure -->\n",
    "\n",
    "<img src=\"qcfigures/Hartree_states.png\" width=\"700\"><p style=\"font-size: 0.9em\"><i>Figure 1: </i></p>\n",
    "<!-- end figure -->"
   ]
  },
  {
   "cell_type": "markdown",
   "id": "f6854851",
   "metadata": {
    "editable": true
   },
   "source": [
    "## Calculational details\n",
    "\n",
    "Hamiltonian:"
   ]
  },
  {
   "cell_type": "markdown",
   "id": "84cc3068",
   "metadata": {
    "editable": true
   },
   "source": [
    "<!-- Equation labels as ordinary links -->\n",
    "<div id=\"_auto12\"></div>\n",
    "\n",
    "$$\n",
    "\\begin{equation}\n",
    "\\hat{H} = \\frac{\\hat{p}_1^2}{2} + v^L[\\hat{x}_1] + \\frac{\\hat{p}_2^2}{2} + v^R[\\hat{x}_2] + \\frac{\\kappa}{\\sqrt{(\\hat{x}_1-\\hat{x}_2)^2 + a^2}} \n",
    "\\label{_auto12} \\tag{12}\n",
    "\\end{equation}\n",
    "$$"
   ]
  },
  {
   "cell_type": "markdown",
   "id": "39d5073a",
   "metadata": {
    "editable": true
   },
   "source": [
    "<!-- Equation labels as ordinary links -->\n",
    "<div id=\"_auto13\"></div>\n",
    "\n",
    "$$\n",
    "\\begin{equation} \n",
    "\\equiv h^L[\\hat{p}_1,\\hat{x}_1] + h^R[\\hat{p}_2,\\hat{x}_2] + u[\\hat{x}_1,\\hat{x}_2]\n",
    "\\label{_auto13} \\tag{13}\n",
    "\\end{equation}\n",
    "$$"
   ]
  },
  {
   "cell_type": "markdown",
   "id": "2b287eda",
   "metadata": {
    "editable": true
   },
   "source": [
    "Energy states:"
   ]
  },
  {
   "cell_type": "markdown",
   "id": "ac0b5022",
   "metadata": {
    "editable": true
   },
   "source": [
    "<!-- Equation labels as ordinary links -->\n",
    "<div id=\"_auto14\"></div>\n",
    "\n",
    "$$\n",
    "\\begin{equation}\n",
    "\\vert\\Phi_k\\rangle = \\sum_{i} \\sum_{j} C_{ij, k}\\vert \\varphi^L_i \\varphi^R_j\\rangle,\n",
    "\\label{_auto14} \\tag{14}\n",
    "\\end{equation}\n",
    "$$"
   ]
  },
  {
   "cell_type": "markdown",
   "id": "3d65ae23",
   "metadata": {
    "editable": true
   },
   "source": [
    "(Hartree basis)"
   ]
  },
  {
   "cell_type": "markdown",
   "id": "9fb282da",
   "metadata": {
    "editable": true
   },
   "source": [
    "## Calculational details\n",
    "\n",
    "Hamiltonian:"
   ]
  },
  {
   "cell_type": "markdown",
   "id": "83295b35",
   "metadata": {
    "editable": true
   },
   "source": [
    "<!-- Equation labels as ordinary links -->\n",
    "<div id=\"_auto15\"></div>\n",
    "\n",
    "$$\n",
    "\\begin{equation}\n",
    "\\hat{H} = \\frac{\\hat{p}_1^2}{2} + v^L[\\hat{x}_1] + \\frac{\\hat{p}_2^2}{2} + v^R[\\hat{x}_2] + \\frac{\\kappa}{\\sqrt{(\\hat{x}_1-\\hat{x}_2)^2 + a^2}} \n",
    "\\label{_auto15} \\tag{15}\n",
    "\\end{equation}\n",
    "$$"
   ]
  },
  {
   "cell_type": "markdown",
   "id": "857a504f",
   "metadata": {
    "editable": true
   },
   "source": [
    "<!-- Equation labels as ordinary links -->\n",
    "<div id=\"_auto16\"></div>\n",
    "\n",
    "$$\n",
    "\\begin{equation} \n",
    "\\equiv h^L[\\hat{p}_1,\\hat{x}_1] + h^R[\\hat{p}_2,\\hat{x}_2] + u[\\hat{x}_1,\\hat{x}_2]\n",
    "\\label{_auto16} \\tag{16}\n",
    "\\end{equation}\n",
    "$$"
   ]
  },
  {
   "cell_type": "markdown",
   "id": "f9fff578",
   "metadata": {
    "editable": true
   },
   "source": [
    "Energy states:"
   ]
  },
  {
   "cell_type": "markdown",
   "id": "96254085",
   "metadata": {
    "editable": true
   },
   "source": [
    "<!-- Equation labels as ordinary links -->\n",
    "<div id=\"_auto17\"></div>\n",
    "\n",
    "$$\n",
    "\\begin{equation}\n",
    "\\vert\\Phi_k\\rangle = \\sum_{i = 0}^{N^L} \\sum_{j = 0}^{N^R} C_{ij, k}\\vert \\varphi^L_i \\varphi^R_j\\rangle,\n",
    "\\label{_auto17} \\tag{17}\n",
    "\\end{equation}\n",
    "$$"
   ]
  },
  {
   "cell_type": "markdown",
   "id": "61a7eef1",
   "metadata": {
    "editable": true
   },
   "source": [
    "(Hartree basis)"
   ]
  },
  {
   "cell_type": "markdown",
   "id": "c7843abf",
   "metadata": {
    "editable": true
   },
   "source": [
    "## Calculational details\n",
    "\n",
    "Energy states:"
   ]
  },
  {
   "cell_type": "markdown",
   "id": "bf453e27",
   "metadata": {
    "editable": true
   },
   "source": [
    "<!-- Equation labels as ordinary links -->\n",
    "<div id=\"_auto18\"></div>\n",
    "\n",
    "$$\n",
    "\\begin{equation}\n",
    "\\vert\\Phi_k\\rangle = \\sum_{i = 0}^{N^L} \\sum_{j = 0}^{N^R} C_{ij, k}\\vert \\varphi^L_i \\varphi^R_j\\rangle,\n",
    "\\label{_auto18} \\tag{18}\n",
    "\\end{equation}\n",
    "$$"
   ]
  },
  {
   "cell_type": "markdown",
   "id": "e2e35bb0",
   "metadata": {
    "editable": true
   },
   "source": [
    "(Hartree basis)\n",
    "\n",
    "<!-- dom:FIGURE: [qcfigures/Hartree_coefs.png, width=700 frac=0.9] -->\n",
    "<!-- begin figure -->\n",
    "\n",
    "<img src=\"qcfigures/Hartree_coefs.png\" width=\"700\"><p style=\"font-size: 0.9em\"><i>Figure 1: </i></p>\n",
    "<!-- end figure -->"
   ]
  },
  {
   "cell_type": "markdown",
   "id": "160b19d8",
   "metadata": {
    "editable": true
   },
   "source": [
    "## Calculational details\n",
    "\n",
    "Hamiltonian:"
   ]
  },
  {
   "cell_type": "markdown",
   "id": "417abd7b",
   "metadata": {
    "editable": true
   },
   "source": [
    "<!-- Equation labels as ordinary links -->\n",
    "<div id=\"_auto19\"></div>\n",
    "\n",
    "$$\n",
    "\\begin{equation}\n",
    "\\hat{H} = \\frac{\\hat{p}_1^2}{2} + v^L[\\hat{x}_1] + \\frac{\\hat{p}_2^2}{2} + v^R[\\hat{x}_2] + \\frac{\\kappa}{\\sqrt{(\\hat{x}_1-\\hat{x}_2)^2 + a^2}} \n",
    "\\label{_auto19} \\tag{19}\n",
    "\\end{equation}\n",
    "$$"
   ]
  },
  {
   "cell_type": "markdown",
   "id": "edf9fe38",
   "metadata": {
    "editable": true
   },
   "source": [
    "<!-- Equation labels as ordinary links -->\n",
    "<div id=\"_auto20\"></div>\n",
    "\n",
    "$$\n",
    "\\begin{equation} \n",
    "\\equiv h^L[\\hat{p}_1,\\hat{x}_1] + h^R[\\hat{p}_2,\\hat{x}_2] + u[\\hat{x}_1,\\hat{x}_2]\n",
    "\\label{_auto20} \\tag{20}\n",
    "\\end{equation}\n",
    "$$"
   ]
  },
  {
   "cell_type": "markdown",
   "id": "7aa0410f",
   "metadata": {
    "editable": true
   },
   "source": [
    "Energy states:"
   ]
  },
  {
   "cell_type": "markdown",
   "id": "43f2885f",
   "metadata": {
    "editable": true
   },
   "source": [
    "<!-- Equation labels as ordinary links -->\n",
    "<div id=\"_auto21\"></div>\n",
    "\n",
    "$$\n",
    "\\begin{equation}\n",
    "\\vert\\Phi_k\\rangle = \\sum_{i = 0}^{N^L} \\sum_{j = 0}^{N^R} C_{ij, k}\\vert \\varphi^L_i \\varphi^R_j\\rangle,\n",
    "\\label{_auto21} \\tag{21}\n",
    "\\end{equation}\n",
    "$$"
   ]
  },
  {
   "cell_type": "markdown",
   "id": "2805b227",
   "metadata": {
    "editable": true
   },
   "source": [
    "(Hartree basis)"
   ]
  },
  {
   "cell_type": "markdown",
   "id": "f32b990d",
   "metadata": {
    "editable": true
   },
   "source": [
    "## Results and discussions\n",
    "By adjusting the potential we can change the anharmonicities and detuning of the wells.\n",
    "1. What values of these give interesting interactions?\n",
    "\n",
    "2. Inspiration from superconducting qubits, see High-Contrast $ZZ$ Interaction Using Superconducting Qubits with Opposite-Sign Anharmonicity, [Zhao et al Phys. Rev. Lett. 125, 200503](https://journals.aps.org/prl/abstract/10.1103/PhysRevLett.125.200503)"
   ]
  },
  {
   "cell_type": "markdown",
   "id": "d24354bb",
   "metadata": {
    "editable": true
   },
   "source": [
    "We search for well configurations corresponding to three different types of interaction between the two electrons.\n",
    "\n",
    "1. In configuration I we address both qubits independently and can thereby perform single-qubit state rotations and measurements.\n",
    "\n",
    "2. Configurations II and III correspond to avoided level crossings between two ($E_{01}, E_{10}$) and three ($E_{11}, E_{20}, E_{02}$) energy levels respectively, where the electrons' motion becomes correlated, that is they are entangled. \n",
    "\n",
    "Both anharmonicity and detuning changes with the shape of our well.\n",
    "We create a voltage parameterization"
   ]
  },
  {
   "cell_type": "markdown",
   "id": "90842960",
   "metadata": {
    "editable": true
   },
   "source": [
    "<!-- Equation labels as ordinary links -->\n",
    "<div id=\"_auto22\"></div>\n",
    "\n",
    "$$\n",
    "\\begin{equation}\n",
    "V(\\lambda) = (1-\\lambda)V_\\mathrm{I} + \\lambda V_\\mathrm{III}\n",
    "\\label{_auto22} \\tag{22}\n",
    "\\end{equation}\n",
    "$$"
   ]
  },
  {
   "cell_type": "markdown",
   "id": "3e3642de",
   "metadata": {
    "editable": true
   },
   "source": [
    "## Entanglement and more\n",
    "\n",
    "<!-- dom:FIGURE: [qcfigures/crossings-entropies-anharmonicities-1.png, width=800 frac=0.8] -->\n",
    "<!-- begin figure -->\n",
    "\n",
    "<img src=\"qcfigures/crossings-entropies-anharmonicities-1.png\" width=\"800\"><p style=\"font-size: 0.9em\"><i>Figure 1: </i></p>\n",
    "<!-- end figure -->"
   ]
  },
  {
   "cell_type": "markdown",
   "id": "f1268013",
   "metadata": {
    "editable": true
   },
   "source": [
    "## Legend to figure\n",
    "\n",
    "1. (a) In this figure we have plotted the transition energy from the ground state to the labeled excited state as a function of the voltage parameter $\\lambda$. The labeled states are the computational basis states when $\\lambda = 0$.\n",
    "\n",
    "2. (b) The von Neumann entropy of the five lowest excited states of the two-body Hamiltonian as a function of the configuration parameter $\\lambda$. The ground state has zero entropy, or close to zero entropy. We have included the points for the double and triple degeneracy points. $\\lambda_{II}$ and $\\lambda_{III}$ in the figure. The von Neumann entropy is calculated using the binary logarithm.\n",
    "\n",
    "3. (c) In this figure we have plotted the anharmonicites for the left well ($\\alpha^L$) and the right well ($\\alpha^R$) as a function of the well parameterization $\\lambda$. We have also included the detuning $\\Delta \\omega = \\omega^R - \\omega^L$ between the two wells. We have marked configuration II at $\\lambda_{II} \\approx 0.554$ and configuration III at $\\lambda_{III} = 1$."
   ]
  },
  {
   "cell_type": "markdown",
   "id": "a77c9191",
   "metadata": {
    "editable": true
   },
   "source": [
    "## Particle densities and coefficients\n",
    "\n",
    "<!-- dom:FIGURE: [qcfigures/configuration_I-1.png, width=600 frac=0.8] -->\n",
    "<!-- begin figure -->\n",
    "\n",
    "<img src=\"qcfigures/configuration_I-1.png\" width=\"600\"><p style=\"font-size: 0.9em\"><i>Figure 1: </i></p>\n",
    "<!-- end figure -->"
   ]
  },
  {
   "cell_type": "markdown",
   "id": "b70b9a97",
   "metadata": {
    "editable": true
   },
   "source": [
    "## Potential wells, the one-body densities, and single-particle states\n",
    "\n",
    "<!-- dom:FIGURE: [qcfigures/configuration_II_and_III-1.png, width=600 frac=1.0] -->\n",
    "<!-- begin figure -->\n",
    "\n",
    "<img src=\"qcfigures/configuration_II_and_III-1.png\" width=\"600\"><p style=\"font-size: 0.9em\"><i>Figure 1: </i></p>\n",
    "<!-- end figure -->"
   ]
  },
  {
   "cell_type": "markdown",
   "id": "fd607d62",
   "metadata": {
    "editable": true
   },
   "source": [
    "## Where we are now\n",
    "\n",
    "1. Adding time-dependent studies of two electrons in two wells in one and two dimensions\n",
    "\n",
    "2. Studies of the time-evolution of entangled states (now two electrons only)\n",
    "\n",
    "3. Use theory to find optimal experimental setup\n",
    "\n",
    "4. Expect two-electron system realized experimentally in approx $1$ year, great potential for studies of quantum simulations"
   ]
  },
  {
   "cell_type": "markdown",
   "id": "9ed0a7c4",
   "metadata": {
    "editable": true
   },
   "source": [
    "## Plans\n",
    "\n",
    "1. Add two and three-dimensions in order to simulate in  a more realistic way such many-body systems.\n",
    "\n",
    "2. Develop time-dependent FCI code, useful up to approximately 10 particles with **effective** (and effective Hilbert space) Hamiltonians in two and three dimensions\n",
    "\n",
    "3. Develop codes for studies of entanglement as function of time\n",
    "\n",
    "4. Do tomogrophy and extract density matrix and compare with experiment.\n",
    "\n",
    "5. Study the feasibility of various setups for quantum simulations of specific Hamiltonians such as the Lipkin model\n",
    "\n",
    "6. For larger many-body systems, study for example time-dependent CC theory"
   ]
  }
 ],
 "metadata": {},
 "nbformat": 4,
 "nbformat_minor": 5
}
