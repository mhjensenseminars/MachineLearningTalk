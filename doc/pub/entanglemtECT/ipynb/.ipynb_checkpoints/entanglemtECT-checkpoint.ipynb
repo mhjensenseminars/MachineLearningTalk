{
 "cells": [
  {
   "cell_type": "markdown",
   "id": "93f2b398",
   "metadata": {},
   "source": [
    "<!-- HTML file automatically generated from DocOnce source (https://github.com/doconce/doconce/)\n",
    "doconce format html entanglemtECT.do.txt --no_mako -->\n",
    "<!-- dom:TITLE: Coulomb interaction driven entanglement of electrons on helium, theory and experiment -->"
   ]
  },
  {
   "cell_type": "markdown",
   "id": "b0400672",
   "metadata": {},
   "source": [
    "# Coulomb interaction driven entanglement of electrons on helium, theory and experiment\n",
    "**Jonas Boym Flaten and Oskar Leinonen**, Department of Physics, University of Oslo, Norway  \n",
    "**Morten Hjorth-Jensen**, Department of Physics and Astronomy and Facility for Rare Isotope Beams (FRIB), Michigan State University, USA and Department of Physics, University of Oslo, Norway\n",
    "\n",
    "Date: **April 11, 2023**"
   ]
  },
  {
   "cell_type": "markdown",
   "id": "abc3244a",
   "metadata": {},
   "source": [
    "## What is this talk about?\n",
    "\n",
    "Here we describe a method for generating motional entanglement between\n",
    "two electrons trapped above the surface of superfluid helium. In this\n",
    "proposed scheme these electronic charge qubits are laterally confined\n",
    "via electrostatic gates to create an anharmonic trapping\n",
    "potential. When the system is cooled to sufficiently low temperature\n",
    "these in-plane charge qubit states are quantized and circuit quantum\n",
    "electrodynamic methods can be used to control and readout single qubit\n",
    "operations. Perspectives for quantum simulations with quantum dots\n",
    "systems will be discussed as well as how to set up explicit circuits\n",
    "for simulating nuclear physics Hamiltonians, theoretically and\n",
    "experimentally."
   ]
  },
  {
   "cell_type": "markdown",
   "id": "b0cb09fa",
   "metadata": {},
   "source": [
    "## Many people to thank\n",
    "\n",
    "**MSU.**\n",
    "\n",
    "Niyaz Beysengulov and Johannes Pollanen (experiment, Physics); Zachary Stewart, Jared Weidman, and Angela Wilson (quantum chemistry)\n",
    "\n",
    "**University of Oslo.**\n",
    "\n",
    "Øyvind Sigmundson Schøyen, Stian Dysthe Bilek, and Håkon Emil Kristiansen (Physics and quantum chemistry). In addition collaboration on point defects with Marianne Bathen and Lasse Vines."
   ]
  },
  {
   "cell_type": "markdown",
   "id": "4c1761f0",
   "metadata": {},
   "source": [
    "## Why? Basic motivation\n",
    "\n",
    "How can we avoid the dimensionality curse? Many possibilities\n",
    "1. smarter basis functions\n",
    "\n",
    "2. resummation of specific correlations\n",
    "\n",
    "3. stochastic sampling of high-lying states (stochastic FCI, CC and SRG/IMSRG)\n",
    "\n",
    "4. and more\n",
    "\n",
    "**Use the massive parallelization which quantum computing offers for solving complicated many-body problems**"
   ]
  },
  {
   "cell_type": "markdown",
   "id": "76451f2a",
   "metadata": {},
   "source": [
    "## Literature and more reading\n",
    "\n",
    "1. These slides at <https://mhjensenseminars.github.io/MachineLearningTalk/doc/pub/quantumcomputingMSU/html/quantumcomputingMSU-reveal.html>\n",
    "\n",
    "2. [Justyna P. Zwolak and Jacob M. Taylor, Rev. Mod. Phys. 95, 011006, Advances in automation of quantum dot devices control](https://journals.aps.org/rmp/abstract/10.1103/RevModPhys.95.011006)\n",
    "\n",
    "3. [Pollanen and many other, Accelerating Progress Towards Practical Quantum Advantage: The Quantum Technology Demonstration Project Roadmap](https://arxiv.org/pdf/2210.14757.pdf)\n",
    "\n",
    "4. [Osada et al, introduction to quantum technologies, Springer, 2022](https://link.springer.com/book/10.1007/978-981-19-4641-7)\n",
    "\n",
    "5. [Lectures on Quantum Computing, MHJ](https://github.com/CompPhysics/QuantumComputingMachineLearning)\n",
    "\n",
    "6. [Original inspiration a series of articles of Loss and DiVincenzo from the nineties, Quantum Computation with Quantum Dots](https://journals.aps.org/pra/pdf/10.1103/PhysRevA.57.120)\n",
    "\n",
    "7. [Simulating the Lipkin model, Ryan Larose and Elena Litvinova et al](https://journals.aps.org/prc/abstract/10.1103/PhysRevC.106.024319)"
   ]
  },
  {
   "cell_type": "markdown",
   "id": "8f1e5161",
   "metadata": {},
   "source": [
    "## Quantum Engineering\n",
    "\n",
    "**Quantum Computing requirements.**\n",
    "\n",
    "1. be scalable\n",
    "\n",
    "2. have qubits that can be entangled\n",
    "\n",
    "3. have reliable initializations protocols to a standard state\n",
    "\n",
    "4. have a set of universal quantum gates to control the quantum evolution\n",
    "\n",
    "5. have a coherence time much longer than the gate operation time\n",
    "\n",
    "6. have a reliable read-out mechanism for measuring the qubit states\n",
    "\n",
    "7. ...more"
   ]
  },
  {
   "cell_type": "markdown",
   "id": "7c326b29",
   "metadata": {},
   "source": [
    "## Candidate systems\n",
    "\n",
    "1. Superconducting Josephon junctions\n",
    "\n",
    "2. Single photons\n",
    "\n",
    "3. [Trapped ions and atoms](https://journals.aps.org/rmp/pdf/10.1103/RevModPhys.93.025001)\n",
    "\n",
    "4. Nuclear Magnetic Resonance\n",
    "\n",
    "5. **Quantum dots, expt at MSU**\n",
    "\n",
    "6. Point Defects in semiconductors\n",
    "\n",
    "7. ...more"
   ]
  },
  {
   "cell_type": "markdown",
   "id": "0fc034af",
   "metadata": {},
   "source": [
    "## Electrons (quantum dots) on superfluid helium\n",
    "\n",
    "Electrons on [superfluid helium represent](https://www.youtube.com/watch?v=EuDuM-fe-lA&ab_channel=JoshuahHeath) a promising platform for investigating\n",
    "strongly-coupled qubits.\n",
    "\n",
    "Therefore a systematic investigation of the\n",
    "controlled generation of entanglement between two trapped electrons\n",
    "under the influence of coherent microwave driving pulses, taking into\n",
    "account the effects of the Coulomb interaction between electrons, is\n",
    "of significant importance for quantum information processing using\n",
    "trapped electrons."
   ]
  },
  {
   "cell_type": "markdown",
   "id": "2a3ff659",
   "metadata": {},
   "source": [
    "## Methods and Applications\n",
    "1. Time-Dependent full configuration interaction theory\n",
    "\n",
    "2. Time-dependent Coupled-Cluster theory\n",
    "\n",
    "3. Designing quantum operations and quantum simulations"
   ]
  },
  {
   "cell_type": "markdown",
   "id": "fe66752d",
   "metadata": {},
   "source": [
    "## Entanglement\n",
    "\n",
    "[Entanglement](https://link.springer.com/content/pdf/10.1007/s11232-007-0098-9.pdf) is the fundamental characteristic that distinguishes\n",
    "quantum systems composed of two or more coupled objects from their\n",
    "classical counterparts. The study of entanglement in precisely\n",
    "engineered quantum systems with countably many degrees of freedom is\n",
    "at the forefront of modern physics and is a key resource in quantum\n",
    "information science (QIS). This is particularly true in the\n",
    "development of two-qubit logic for quantum computation.\n",
    "\n",
    "The\n",
    "generation of two-qubit entanglement has been demonstrated in a wide\n",
    "variety of physical systems used in present-day quantum computing,\n",
    "including superconducting circuits, trapped\n",
    "ions, semiconductor quantum dots, color-center\n",
    "defects in diamond, and neutral atoms in optical\n",
    "lattices, just to name a few."
   ]
  },
  {
   "cell_type": "markdown",
   "id": "005a46b8",
   "metadata": {},
   "source": [
    "## More on Entanglement\n",
    "\n",
    "Generating an entanglement between two quantum systems rely on\n",
    "exploiting interactions in a controllable way. The details in the\n",
    "interaction Hamiltonian between two systems defines the protocol\n",
    "schemes for two-qubit logic.\n",
    "\n",
    "In  superconducting circuits the\n",
    "interaction between qubits may arise from direct capacitive coupling\n",
    "between circuit elements or by indirect coupling of two qubits to a\n",
    "common resonator (virtually populating resonator mode) which results\n",
    "in a non-local Hamiltonian in the form of exchange\n",
    "interaction. This allow to implement various\n",
    "schemes for entanglement, such as controlled-phase\n",
    "gate, resonator-induced phase\n",
    "gate, cross-resonance gates etc."
   ]
  },
  {
   "cell_type": "markdown",
   "id": "3701ee3b",
   "metadata": {},
   "source": [
    "## Entanglement gates in trapped ions and more\n",
    "\n",
    "Entanglement gates in trapped ions are\n",
    "produced by means of the Coulomb interaction, where shared motional\n",
    "modes of two or more ions, entangled to their internal states, used\n",
    "for transferring excitations between ion\n",
    "qubits. This has been experimentally\n",
    "demonstrated.\n",
    "\n",
    "In photonic quantum\n",
    "computing schemes two-qubit entangling operations are realized by\n",
    "nonlinear interactions between two photons scattering from quantum\n",
    "dots, plasmonic nanowires, diamond vacancy centers and others embedded\n",
    "into waveguides. Two-qubit gates in\n",
    "semiconductor quantum dots are based on spin-spin exchange\n",
    "interactions or generated\n",
    "by coupling to a superconducting resonator via artificial spin-orbit\n",
    "interaction."
   ]
  },
  {
   "cell_type": "markdown",
   "id": "b27f599c",
   "metadata": {},
   "source": [
    "## A warm-up problem, avoided level crossing and some math\n",
    "\n",
    "In order to study entanglement and why it is so important for quantum\n",
    "computing, we need to introduce some basic measures and useful\n",
    "quantities.  For these endeavors, we  will use our two-qubit system from\n",
    "the second lecture in order to introduce, through examples, density\n",
    "matrices and entropy. These two quantities, together with\n",
    "technicalities like the Schmidt decomposition define important quantities in analyzing quantum computing examples.\n",
    "\n",
    "We will study two simple Hamiltonian systems, one which we can use for a single qubit systems and one which has as basis functions a two-qubit system. These two simple Hamiltonians exhibit also something which is called level crossing, a feature which we will use in later studies of entanglement.\n",
    "\n",
    "We study first a simple two-level system. Thereafter we\n",
    "extend our model to a four-level system which can be\n",
    "interpreted as composed of two separate (not necesseraly identical)\n",
    "subsystems.\n",
    "\n",
    "We let our hamiltonian depend linearly on a strength parameter $z$"
   ]
  },
  {
   "cell_type": "markdown",
   "id": "2482d706",
   "metadata": {},
   "source": [
    "$$\n",
    "H=H_0+\\lambda H_\\mathrm{I},\n",
    "$$"
   ]
  },
  {
   "cell_type": "markdown",
   "id": "5194a73e",
   "metadata": {},
   "source": [
    "with $\\lambda \\in [0,1]$, where the limits $\\lambda=0$ and $\\lambda=1$\n",
    "represent the non-interacting (or unperturbed) and fully interacting\n",
    "system, respectively.  The model is an eigenvalue problem with only\n",
    "two available states, which we label $\\vert 0\\rangle$ and $\\vert\n",
    "1\\rangle$, respectively. Below we will let state $\\vert 0 \\rangle$\n",
    "represent the lowest state (often referred to as model-space state)\n",
    "with its pertinent eigenvalue and eigenvector whereas state $\\vert 1\\rangle$ represents the eigenvalue of\n",
    "the excluded space.  The non-interacting solutions to our problem are"
   ]
  },
  {
   "cell_type": "markdown",
   "id": "fdfdb134",
   "metadata": {},
   "source": [
    "<!-- Equation labels as ordinary links -->\n",
    "<div id=\"_auto1\"></div>\n",
    "\n",
    "$$\n",
    "\\begin{equation}\n",
    "       H_0\\vert 0 \\rangle =\\epsilon_0\\vert 0 \\rangle,\n",
    "\\label{_auto1} \\tag{1}\n",
    "\\end{equation}\n",
    "$$"
   ]
  },
  {
   "cell_type": "markdown",
   "id": "447cb2d8",
   "metadata": {},
   "source": [
    "and"
   ]
  },
  {
   "cell_type": "markdown",
   "id": "8f7b8d30",
   "metadata": {},
   "source": [
    "<!-- Equation labels as ordinary links -->\n",
    "<div id=\"_auto2\"></div>\n",
    "\n",
    "$$\n",
    "\\begin{equation}\n",
    "       H_0\\vert 1\\rangle =\\epsilon_1\\vert 1\\rangle,\n",
    "\\label{_auto2} \\tag{2}\n",
    "\\end{equation}\n",
    "$$"
   ]
  },
  {
   "cell_type": "markdown",
   "id": "9bc31934",
   "metadata": {},
   "source": [
    "with $\\epsilon_0 < \\epsilon_1$. We label the off-diagonal matrix\n",
    "elements $X$, while $X_0=\\langle 0 \\vert H_I\\vert 0 \\rangle$ and\n",
    "$X_1=\\langle 1 \\vert H_1\\vert 1 \\rangle$.  The exact eigenvalue\n",
    "problem"
   ]
  },
  {
   "cell_type": "markdown",
   "id": "8ce488f3",
   "metadata": {},
   "source": [
    "<!-- Equation labels as ordinary links -->\n",
    "<div id=\"eq:twolevelH\"></div>\n",
    "\n",
    "$$\n",
    "\\label{eq:twolevelH} \\tag{3}\n",
    "\\begin{equation}\n",
    "\\left(\\begin{array}{cc}\\epsilon_0+\\lambda X_0 &\\lambda X \\\\\n",
    "\\lambda X &\\epsilon_1+\\lambda X_1 \\end{array}\\right)\n",
    "\\end{equation}\n",
    "$$"
   ]
  },
  {
   "cell_type": "markdown",
   "id": "9f2a51cd",
   "metadata": {},
   "source": [
    "yields"
   ]
  },
  {
   "cell_type": "markdown",
   "id": "423cee06",
   "metadata": {},
   "source": [
    "<!-- Equation labels as ordinary links -->\n",
    "<div id=\"eq:exact\"></div>\n",
    "\n",
    "$$\n",
    "\\begin{eqnarray}\n",
    "\\label{eq:exact} \\tag{4}\n",
    "     E(\\lambda)=&\\frac{1}{2}\\left\\{\\epsilon_0 +\\epsilon_1 +\\lambda X_0\n",
    "     +\\lambda X_1 \\pm \\left(\n",
    "     \\epsilon_1 -\\epsilon_0 +\\lambda X_1-\\lambda X_0\\right) \\right. \\\\ \\nonumber\n",
    "     & \\left. \\times\\sqrt{1+\\frac{4\\lambda^2X^2}{\\left(\n",
    "     \\epsilon_1 -\\epsilon_0 +\\lambda X_1-\\lambda X_0\\right)^2}}\n",
    "     \\right\\}.\n",
    "\\end{eqnarray}\n",
    "$$"
   ]
  },
  {
   "cell_type": "markdown",
   "id": "2f3aecd4",
   "metadata": {},
   "source": [
    "In the results below we set the parameters $\\epsilon_0=0$,\n",
    "$\\epsilon_1=4$, $X_0=-X_1=3$ and $X=0.2$.  This eigenvalue problem can\n",
    "easily be rewritten in terms of the standard Pauli matrices.  The\n",
    "non-interacting solutions represent our computational basis.\n",
    "Pertinent to our choice of parameters, is that at $\\lambda\\geq 2/3$,\n",
    "the lowest eigenstate is dominated by $\\vert 1\\rangle$ while the upper\n",
    "is $\\vert 0 \\rangle$. At $\\lambda=1$ the $\\vert 0 \\rangle$ mixing of\n",
    "the lowest eigenvalue is $1\\%$ while for $\\lambda\\leq 2/3$ we have a\n",
    "$\\vert 0 \\rangle$ component of more than $90\\%$.  The character of the\n",
    "eigenvectors has therefore been interchanged when passing $z=2/3$. The\n",
    "value of the parameter $X$ represents the strength of the coupling\n",
    "between the model space and the excluded space.  The following code\n",
    "computes and plots the eigenvalues."
   ]
  },
  {
   "cell_type": "code",
   "execution_count": 1,
   "id": "42ad6f9a",
   "metadata": {},
   "outputs": [],
   "source": [
    "%matplotlib inline\n",
    "\n",
    "%matplotlib inline\n",
    "\n",
    "from  matplotlib import pyplot as plt\n",
    "import numpy as np\n",
    "dim = 2\n",
    "#Setting up a tridiagonal matrix and finding eigenvectors and eigenvalues\n",
    "Hamiltonian = np.zeros((dim,dim))\n",
    "#number of lambda values\n",
    "n = 100\n",
    "lmbd = np.linspace(0.,1.0,n)\n",
    "e0 = 0.0\n",
    "e1 = 4.0\n",
    "X = 0.20\n",
    "Xp = 3.0\n",
    "Eigenvalue = np.zeros((dim,n))\n",
    "for i in range(n): \n",
    "    Hamiltonian[0,0] = lmbd[i]*Xp+e0\n",
    "    Hamiltonian[0,1] = lmbd[i]*X\n",
    "    Hamiltonian[1,0] = Hamiltonian[0,1]\n",
    "    Hamiltonian[1,1] = e1+lmbd[i]*(-Xp)\n",
    "    # diagonalize and obtain eigenvalues, not necessarily sorted\n",
    "    EigValues, EigVectors = np.linalg.eig(Hamiltonian)\n",
    "    # sort eigenvectors and eigenvalues\n",
    "    permute = EigValues.argsort()\n",
    "    EigValues = EigValues[permute]\n",
    "    EigVectors = EigVectors[:,permute]\n",
    "    Eigenvalue[0,i] = EigValues[0]\n",
    "    Eigenvalue[1,i] = EigValues[1]\n",
    "plt.plot(lmbd, Eigenvalue[0,:] ,'b-',lmbd, Eigenvalue[1,:],'g-',)\n",
    "plt.xlabel('$\\lambda$')\n",
    "plt.ylabel('Eigenvalues')\n",
    "plt.show()"
   ]
  },
  {
   "cell_type": "markdown",
   "id": "9996b8d4",
   "metadata": {},
   "source": [
    "This model exhibits a simple level crossing where the\n",
    "composition of the final interacting states change character as we\n",
    "gradually switch on the interaction."
   ]
  },
  {
   "cell_type": "markdown",
   "id": "40f71d06",
   "metadata": {},
   "source": [
    "## Avoided level crossings\n",
    "\n",
    "The avoided crossing plays a central role in quantum simulations. It results from the **coherent** transfer of the population between the state $\\vert 0\\rangle $\n",
    "and the state $\\vert 1\\rangle$. When we say coherent we mean that the quantumness and entanglement are preserved and the system follows our equation of motion (the Schroedinger equation) as expected. In real experiment it is not that simple.\n",
    "\n",
    "In quantum technology, different quantum systems are coupled to enable various quantum state transfers and manipulations. Experimentally, avoided crossing of the energy levels, is one of the first feature to look for since it manifests the signature of preservation of quantumness and clean coupling between states in the experimental setup."
   ]
  },
  {
   "cell_type": "markdown",
   "id": "3b6aef2c",
   "metadata": {},
   "source": [
    "### Reminder on density matrices\n",
    "\n",
    "We have the spectral decomposition of a given operator $\\boldsymbol{A}$ given by"
   ]
  },
  {
   "cell_type": "markdown",
   "id": "7005dfd4",
   "metadata": {},
   "source": [
    "$$\n",
    "\\boldsymbol{A}=\\sum_i\\lambda_i\\vert i \\rangle\\langle i\\vert,\n",
    "$$"
   ]
  },
  {
   "cell_type": "markdown",
   "id": "0f31243f",
   "metadata": {},
   "source": [
    "with the ONB $\\vert i\\rangle$ being eigenvectors of $\\boldsymbol{A}$ and $\\lambda_i$ being the eigenvalues. Similarly, a operator which is a function of $\\boldsymbol{A}$ is given by"
   ]
  },
  {
   "cell_type": "markdown",
   "id": "7b1bba28",
   "metadata": {},
   "source": [
    "$$\n",
    "f(\\boldsymbol{A})=\\sum_if(\\boldsymbol{A})\\vert i \\rangle\\langle i\\vert.\n",
    "$$"
   ]
  },
  {
   "cell_type": "markdown",
   "id": "1ddd6383",
   "metadata": {},
   "source": [
    "The trace of a product of matrices is cyclic, that is"
   ]
  },
  {
   "cell_type": "markdown",
   "id": "a463430c",
   "metadata": {},
   "source": [
    "$$\n",
    "\\mathrm{tr}[\\boldsymbol{ABC}])=\\mathrm{tr}[\\boldsymbol{BCA}])=\\mathrm{tr}[\\boldsymbol{CBA}]),\n",
    "$$"
   ]
  },
  {
   "cell_type": "markdown",
   "id": "6380ed6e",
   "metadata": {},
   "source": [
    "and we have also"
   ]
  },
  {
   "cell_type": "markdown",
   "id": "828b9307",
   "metadata": {},
   "source": [
    "$$\n",
    "\\mathrm{tr}[\\boldsymbol{A}\\vert \\psi\\rangle\\langle\\psi\\vert])=\\langle\\psi\\vert\\boldsymbol{A}\\vert\\psi\\rangle.\n",
    "$$"
   ]
  },
  {
   "cell_type": "markdown",
   "id": "64819ac1",
   "metadata": {},
   "source": [
    "Using the spectral decomposition we defined also the density matrix as"
   ]
  },
  {
   "cell_type": "markdown",
   "id": "731f7e7d",
   "metadata": {},
   "source": [
    "$$\n",
    "\\rho = \\sum_i p_i\\vert i \\rangle\\langle i\\vert,\n",
    "$$"
   ]
  },
  {
   "cell_type": "markdown",
   "id": "8c276692",
   "metadata": {},
   "source": [
    "where the probability $p_i$ are the eigenvalues of the density matrix/operator linked with the ONB $\\vert i \\rangle$.\n",
    "\n",
    "The trace of the density matrix $\\mathrm{tr}\\rho=1$ and is invariant under unitary transformations."
   ]
  },
  {
   "cell_type": "markdown",
   "id": "918442ec",
   "metadata": {},
   "source": [
    "### Two-qubit system and definition of density matrices\n",
    "\n",
    "This system can be thought of as composed of two subsystems\n",
    "$A$ and $B$. Each subsystem has computational basis states"
   ]
  },
  {
   "cell_type": "markdown",
   "id": "c1fd7d84",
   "metadata": {},
   "source": [
    "$$\n",
    "\\vert 0\\rangle_{\\mathrm{A,B}}=\\begin{bmatrix} 1 & 0\\end{bmatrix}^T \\hspace{1cm} \\vert 1\\rangle_{\\mathrm{A,B}}=\\begin{bmatrix} 0 & 1\\end{bmatrix}^T.\n",
    "$$"
   ]
  },
  {
   "cell_type": "markdown",
   "id": "5a89976a",
   "metadata": {},
   "source": [
    "The subsystems could represent single particles or composite many-particle systems of a given symmetry.\n",
    "This leads to the many-body computational basis states"
   ]
  },
  {
   "cell_type": "markdown",
   "id": "9b093b60",
   "metadata": {},
   "source": [
    "$$\n",
    "\\vert 00\\rangle = \\vert 0\\rangle_{\\mathrm{A}}\\otimes \\vert 0\\rangle_{\\mathrm{B}}=\\begin{bmatrix} 1 & 0 & 0 &0\\end{bmatrix}^T,\n",
    "$$"
   ]
  },
  {
   "cell_type": "markdown",
   "id": "ff1f7d3a",
   "metadata": {},
   "source": [
    "and"
   ]
  },
  {
   "cell_type": "markdown",
   "id": "bb1c549b",
   "metadata": {},
   "source": [
    "$$\n",
    "\\vert 01\\rangle = \\vert 0\\rangle_{\\mathrm{A}}\\otimes \\vert 1\\rangle_{\\mathrm{B}}=\\begin{bmatrix} 0 & 1 & 0 &0\\end{bmatrix}^T,\n",
    "$$"
   ]
  },
  {
   "cell_type": "markdown",
   "id": "dac3a63b",
   "metadata": {},
   "source": [
    "and"
   ]
  },
  {
   "cell_type": "markdown",
   "id": "73b3919c",
   "metadata": {},
   "source": [
    "$$\n",
    "\\vert 10\\rangle = \\vert 1\\rangle_{\\mathrm{A}}\\otimes \\vert 0\\rangle_{\\mathrm{B}}=\\begin{bmatrix} 0 & 0 & 1 &0\\end{bmatrix}^T,\n",
    "$$"
   ]
  },
  {
   "cell_type": "markdown",
   "id": "cb7d3d51",
   "metadata": {},
   "source": [
    "and finally"
   ]
  },
  {
   "cell_type": "markdown",
   "id": "5d43f7bb",
   "metadata": {},
   "source": [
    "$$\n",
    "\\vert 11\\rangle = \\vert 1\\rangle_{\\mathrm{A}}\\otimes \\vert 1\\rangle_{\\mathrm{B}}=\\begin{bmatrix} 0 & 0 & 0 &1\\end{bmatrix}^T.\n",
    "$$"
   ]
  },
  {
   "cell_type": "markdown",
   "id": "94ab52c2",
   "metadata": {},
   "source": [
    "These computational basis states define also the eigenstates of the non-interacting  Hamiltonian"
   ]
  },
  {
   "cell_type": "markdown",
   "id": "395524bf",
   "metadata": {},
   "source": [
    "$$\n",
    "H_0\\vert 00 \\rangle = \\epsilon_{00}\\vert 00 \\rangle,\n",
    "$$"
   ]
  },
  {
   "cell_type": "markdown",
   "id": "ccc81bb5",
   "metadata": {},
   "source": [
    "$$\n",
    "H_0\\vert 10 \\rangle = \\epsilon_{10}\\vert 10 \\rangle,\n",
    "$$"
   ]
  },
  {
   "cell_type": "markdown",
   "id": "96d1ce34",
   "metadata": {},
   "source": [
    "$$\n",
    "H_0\\vert 01 \\rangle = \\epsilon_{01}\\vert 01 \\rangle,\n",
    "$$"
   ]
  },
  {
   "cell_type": "markdown",
   "id": "d438fbd6",
   "metadata": {},
   "source": [
    "and"
   ]
  },
  {
   "cell_type": "markdown",
   "id": "3d03378e",
   "metadata": {},
   "source": [
    "$$\n",
    "H_0\\vert 11 \\rangle = \\epsilon_{11}\\vert 11 \\rangle.\n",
    "$$"
   ]
  },
  {
   "cell_type": "markdown",
   "id": "13642ba7",
   "metadata": {},
   "source": [
    "The interacting part of the Hamiltonian $H_{\\mathrm{I}}$ is given by the tensor product of two $\\sigma_x$ and $\\sigma_z$  matrices, respectively, that is"
   ]
  },
  {
   "cell_type": "markdown",
   "id": "c07e42ae",
   "metadata": {},
   "source": [
    "$$\n",
    "H_{\\mathrm{I}}=H_x\\sigma_x\\otimes\\sigma_x+H_z\\sigma_z\\otimes\\sigma_z,\n",
    "$$"
   ]
  },
  {
   "cell_type": "markdown",
   "id": "4eee99b6",
   "metadata": {},
   "source": [
    "where $H_x$ and $H_z$ are interaction strength parameters. Our final Hamiltonian matrix is given by"
   ]
  },
  {
   "cell_type": "markdown",
   "id": "c0316957",
   "metadata": {},
   "source": [
    "$$\n",
    "\\boldsymbol{H}=\\begin{bmatrix} \\epsilon_{00}+H_z & 0 & 0 & H_x \\\\\n",
    "                       0  & \\epsilon_{10}-H_z & H_x & 0 \\\\\n",
    "\t\t       0 & H_x & \\epsilon_{01}-H_z & 0 \\\\\n",
    "\t\t       H_x & 0 & 0 & \\epsilon_{11} +H_z \\end{bmatrix}.\n",
    "$$"
   ]
  },
  {
   "cell_type": "markdown",
   "id": "a68a28b1",
   "metadata": {},
   "source": [
    "The four eigenstates of the above Hamiltonian matrix can in turn be used to\n",
    "define density matrices. As an example, the density matrix of the\n",
    "first eigenstate (lowest energy $E_0$) $\\Psi_0$ is"
   ]
  },
  {
   "cell_type": "markdown",
   "id": "e5dac0f8",
   "metadata": {},
   "source": [
    "$$\n",
    "\\rho_0=\\left(\\alpha_{00}\\vert 00 \\rangle\\langle 00\\vert+\\alpha_{10}\\vert 10 \\rangle\\langle 10\\vert+\\alpha_{01}\\vert 01 \\rangle\\langle 01\\vert+\\alpha_{11}\\vert 11 \\rangle\\langle 11\\vert\\right),\n",
    "$$"
   ]
  },
  {
   "cell_type": "markdown",
   "id": "81e58aed",
   "metadata": {},
   "source": [
    "where the coefficients $\\alpha_{ij}$ are the eigenvector coefficients\n",
    "resulting from the solution of the above eigenvalue problem.\n",
    "\n",
    "We can\n",
    "then in turn define the density matrix for the subsets $A$ or $B$ as"
   ]
  },
  {
   "cell_type": "markdown",
   "id": "3706ee50",
   "metadata": {},
   "source": [
    "$$\n",
    "\\rho_A=\\mathrm{Tr}_B(\\rho_{0})=\\langle 0 \\vert \\rho_{0} \\vert 0\\rangle_{B}+\\langle 1 \\vert \\rho_{0} \\vert 1\\rangle_{B},\n",
    "$$"
   ]
  },
  {
   "cell_type": "markdown",
   "id": "c9de652a",
   "metadata": {},
   "source": [
    "or"
   ]
  },
  {
   "cell_type": "markdown",
   "id": "89e5f2ee",
   "metadata": {},
   "source": [
    "$$\n",
    "\\rho_B=\\mathrm{Tr}_A(\\rho_0)=\\langle 0 \\vert \\rho_{0} \\vert 0\\rangle_{A}+\\langle 1 \\vert \\rho_{0} \\vert 1\\rangle_{A}.\n",
    "$$"
   ]
  },
  {
   "cell_type": "markdown",
   "id": "4dc6a58e",
   "metadata": {},
   "source": [
    "The density matrices for these subsets can be used to compute the\n",
    "so-called von Neumann entropy, which is one of the possible measures\n",
    "of entanglement."
   ]
  },
  {
   "cell_type": "markdown",
   "id": "560d529a",
   "metadata": {},
   "source": [
    "### Shannon information entropy\n",
    "\n",
    "We define a set of random variables $X=\\{x_0,x_1,\\dots,x_{n-1}\\}$ with probability for an outcome $x\\in X$ given by $p_X(x)$, the\n",
    "information entropy is defined as"
   ]
  },
  {
   "cell_type": "markdown",
   "id": "18668c98",
   "metadata": {},
   "source": [
    "$$\n",
    "S=-\\sum_{x\\in X}p_X(x)\\log_2{p_X(x)}.\n",
    "$$"
   ]
  },
  {
   "cell_type": "markdown",
   "id": "746a6c98",
   "metadata": {},
   "source": [
    "This is the standard entropy definition, normally called the Shannon entropy"
   ]
  },
  {
   "cell_type": "markdown",
   "id": "a3de3b5a",
   "metadata": {},
   "source": [
    "### Von Neumann entropy\n",
    "\n",
    "The quantum mechanical variant is the Von Neumann entropy"
   ]
  },
  {
   "cell_type": "markdown",
   "id": "f47996cf",
   "metadata": {},
   "source": [
    "$$\n",
    "S=-\\mathrm{Tr}[\\rho\\log_2{\\rho}].\n",
    "$$"
   ]
  },
  {
   "cell_type": "markdown",
   "id": "fc1158e1",
   "metadata": {},
   "source": [
    "A pure state has entropy equal zero while an entangled\n",
    "state has entropy larger than zero. The von-Neumann entropy is\n",
    "defined as"
   ]
  },
  {
   "cell_type": "markdown",
   "id": "52000d9d",
   "metadata": {},
   "source": [
    "$$\n",
    "S(A,B)=-\\mathrm{Tr}\\left(\\rho_{A,B}\\log_2 (\\rho_{A,B})\\right).\n",
    "$$"
   ]
  },
  {
   "cell_type": "markdown",
   "id": "1aaa981b",
   "metadata": {},
   "source": [
    "The example here shows the above von Neumann entropy based on the\n",
    "density matrix for the lowest many-body state. We see clearly a jump\n",
    "in the entropy around the point where we have a level crossing. At\n",
    "interaction strenght $\\lambda=0$ we have many-body states purely\n",
    "defined by their computational basis states. As we switch on the\n",
    "interaction strength, we obtain an increased degree of mixing and the\n",
    "entropy increases till we reach the level crossing point where we see\n",
    "an additional and sudden increase in entropy. Similar behaviors are\n",
    "observed for the other states. The most important result from this\n",
    "example is that entanglement is driven by the Hamiltonian itself and\n",
    "the strength of the interaction matrix elements."
   ]
  },
  {
   "cell_type": "code",
   "execution_count": 1,
   "id": "bf632430",
   "metadata": {},
   "outputs": [
    {
     "name": "stderr",
     "output_type": "stream",
     "text": [
      "/opt/homebrew/lib/python3.9/site-packages/scipy/linalg/_matfuncs_inv_ssq.py:827: LogmExactlySingularWarning: The logm input matrix is exactly singular.\n",
      "  warnings.warn(exact_singularity_msg, LogmExactlySingularWarning)\n"
     ]
    },
    {
     "data": {
      "image/png": "[encoded data removed]",
      "text/plain": [
       "<Figure size 432x288 with 1 Axes>"
      ]
     },
     "metadata": {
      "needs_background": "light"
     },
     "output_type": "display_data"
    },
    {
     "data": {
      "text/plain": [
       "<function matplotlib.pyplot.show(close=None, block=None)>"
      ]
     },
     "execution_count": 1,
     "metadata": {},
     "output_type": "execute_result"
    },
    {
     "data": {
      "image/png": "[encoded data removed]",
      "text/plain": [
       "<Figure size 432x288 with 1 Axes>"
      ]
     },
     "metadata": {
      "needs_background": "light"
     },
     "output_type": "display_data"
    }
   ],
   "source": [
    "%matplotlib inline\n",
    "from  matplotlib import pyplot as plt\n",
    "import numpy as np\n",
    "from scipy.linalg import logm, expm\n",
    "def log2M(a): # base 2 matrix logarithm\n",
    "    return logm(a)/np.log(2.0)\n",
    "\n",
    "dim = 4\n",
    "Hamiltonian = np.zeros((dim,dim))\n",
    "#number of lambda values\n",
    "n = 40\n",
    "lmbd = np.linspace(0.0,1.0,n)\n",
    "Hx = 2.0\n",
    "Hz = 3.0\n",
    "# Non-diagonal part as sigma_x tensor product with sigma_x\n",
    "sx = np.matrix([[0,1],[1,0]])\n",
    "sx2 = Hx*np.kron(sx, sx)\n",
    "# Diagonal part as sigma_z tensor product with sigma_z\n",
    "sz = np.matrix([[1,0],[0,-1]])\n",
    "sz2 = Hz*np.kron(sz, sz)\n",
    "noninteracting = [0.0, 2.5, 6.5, 7.0]\n",
    "D = np.diag(noninteracting)\n",
    "Eigenvalue = np.zeros((dim,n))\n",
    "Entropy = np.zeros(n)\n",
    "\n",
    "for i in range(n): \n",
    "    Hamiltonian = lmbd[i]*(sx2+sz2)+D\n",
    "    # diagonalize and obtain eigenvalues, not necessarily sorted\n",
    "    EigValues, EigVectors = np.linalg.eig(Hamiltonian)\n",
    "    # sort eigenvectors and eigenvalues\n",
    "    permute = EigValues.argsort()\n",
    "    EigValues = EigValues[permute]\n",
    "    EigVectors = EigVectors[:,permute]\n",
    "    # Compute density matrix for selected system state, here ground state\n",
    "    DensityMatrix = np.zeros((dim,dim))\n",
    "    DensityMatrix = np.outer(EigVectors[:,0],EigVectors[:,0])\n",
    "    # Project down on substates and find density matrix for subsystem\n",
    "    d = np.matrix([[1,0],[0,1]])\n",
    "    v1 = [1.0,0.0]\n",
    "    proj1 = np.kron(v1,d)\n",
    "    x1 = proj1 @ DensityMatrix @ proj1.T\n",
    "    v2 = [0.0,1.0]\n",
    "    proj2 = np.kron(v2,d)\n",
    "    x2 = proj2 @ DensityMatrix @ proj2.T\n",
    "    # Total density matrix for subsystem\n",
    "    total = x1+x2\n",
    "    # von Neumann Entropy for subsystem \n",
    "    Entropy[i] = -np.matrix.trace(total @ log2M(total))\n",
    "    # Plotting eigenvalues and entropy as functions of interaction strengths\n",
    "    Eigenvalue[0,i] = EigValues[0]\n",
    "    Eigenvalue[1,i] = EigValues[1]\n",
    "    Eigenvalue[2,i] = EigValues[2]\n",
    "    Eigenvalue[3,i] = EigValues[3]\n",
    "plt.plot(lmbd, Eigenvalue[0,:] ,'b-',lmbd, Eigenvalue[1,:],'g-',)\n",
    "plt.plot(lmbd, Eigenvalue[2,:] ,'r-',lmbd, Eigenvalue[3,:],'y-',)\n",
    "plt.xlabel('$\\lambda$')\n",
    "plt.ylabel('Eigenvalues')\n",
    "plt.show()\n",
    "plt.plot(lmbd, Entropy)\n",
    "plt.xlabel('$\\lambda$')\n",
    "plt.ylabel('Entropy')          \n",
    "plt.show"
   ]
  },
  {
   "cell_type": "markdown",
   "id": "0639c3f2",
   "metadata": {},
   "source": [
    "## Quantum dots and the Coulomb interaction\n",
    "\n",
    "Coulomb interaction governed entanglement can be realized in\n",
    "the system of electrons on the surface of superfluid helium, where\n",
    "qubit states are formed by in-plane lateral motional or out-of plane\n",
    "Rydberg states. Trapped near the surface of liquid helium these states\n",
    "have different spatial charge configurations and the wavefunctions of\n",
    "different electrons do not overlap.\n",
    "\n",
    "This results in a strong exchange\n",
    "free Coulomb interaction which depends on the states of the\n",
    "electrons. The lack of disorder in the systems\n",
    "also leads to slow electron decoherence, which has attracted interest\n",
    "to the system as a candidate for quantum information\n",
    "processing."
   ]
  },
  {
   "cell_type": "markdown",
   "id": "d197bc93",
   "metadata": {},
   "source": [
    "## Electrons on helium is another qubit platform\n",
    "\n",
    "**To our knowledge two qubit gates have never been discussed in a proper manner for these systems.**\n",
    "\n",
    "The static Coulomb interaction arises from a virtual photon exchange\n",
    " process between two charge particles according to quantum\n",
    " electrodynamics. This results in a correlated motion of two charges\n",
    " generating quantum entanglement."
   ]
  },
  {
   "cell_type": "markdown",
   "id": "f0baa973",
   "metadata": {},
   "source": [
    "## Surface state electrons (SSE)\n",
    "\n",
    "Surface state electrons (SSE) 'floating' above liquid helium\n",
    "originates from quantization of electron's perpendicular to the\n",
    "surface motion in a trapping potential formed by attractive force from\n",
    "image charge and a large $\\sim$ 1 eV barrier at the liquid-vacuum\n",
    "interface. At low temperatures the SSE are trapped in the lowest\n",
    "Rydberg state for vertical motion some 11 nm above the helium surface,\n",
    "which is perfectly clean and has a permittivity close to that of\n",
    "vacuum.\n",
    "\n",
    "The weak interaction with enviroment, which is mainly governed\n",
    "by interaction with quantized surface capillary waves (ripplons) and\n",
    "bulk phonons, ensures long coherence times - a vital ingredient for\n",
    "any qubit platform. SSE's in-plane motion can be further localized by\n",
    "using microdevices on the length scales approaching the interelectron\n",
    "separation (at the order of one micron)."
   ]
  },
  {
   "cell_type": "markdown",
   "id": "16900a3f",
   "metadata": {},
   "source": [
    "## To read more\n",
    "See Mark Dykman et al and their Spin dynamics in quantum dots on liquid helium,\n",
    "PRB **107**. 035437 (2023) at <https://link.aps.org/doi/10.1103/PhysRevB.107.035437>."
   ]
  },
  {
   "cell_type": "markdown",
   "id": "1c6e8adb",
   "metadata": {},
   "source": [
    "## Experimental set up\n",
    "\n",
    "<!-- dom:FIGURE: [qcfigures/figure1.png, width=700 frac=0.9] -->\n",
    "<!-- begin figure -->\n",
    "\n",
    "<img src=\"qcfigures/figure1.png\" width=\"700\"><p style=\"font-size: 0.9em\"><i>Figure 1: </i></p>\n",
    "<!-- end figure -->\n",
    "\n",
    "1. (a) Schematic of the microdevice, where two electrons are trapped in a double-well potential created by electrodes 1-7. The read-out is provided by two superconducting resonators dispersively coupled to  electron's in-plane motional states.\n",
    "\n",
    "2. (b) Coupling constants from each individual electrode beneath the helium layer.\n",
    "\n",
    "3. (c+d) The electron's energy in a  double-well electrostatic potential (solid line). Dashed and dot-dashed lines represent the harmonic approximations of left and right wells respectively."
   ]
  },
  {
   "cell_type": "markdown",
   "id": "2ff940d7",
   "metadata": {},
   "source": [
    "## Building the solutions\n",
    "\n",
    "To investigate our model, which consists of two electrons confined to\n",
    "a one-dimensional external potential, we utilized the method of\n",
    "exact diagonalization to solve the two-body Schrödinger equation.\n",
    "We build a two-particle wave function from a set of\n",
    "single-particle functions.  The representation of the one-body\n",
    "Hamiltonian's eigenstates on a discrete grid offers us the\n",
    "flexibility to select the external potential of our choice, and it\n",
    "also fits the interpolated potential very effectively."
   ]
  },
  {
   "cell_type": "markdown",
   "id": "306006f5",
   "metadata": {},
   "source": [
    "## Computational Methods\n",
    "\n",
    "As we are only studying a model comprised of two electrons restricted\n",
    "to move in a one-dimensional external potential we have employed\n",
    "full configuration interaction (shell-model in NP) theory to compute the steady-state\n",
    "properties of the system.  We have used a static, one-dimensional,\n",
    "grid-based basis set for the single-particle functions.  This\n",
    "allows for flexibility in the choice of the external potential,\n",
    "and fits the interpolated potential particularly well.\n",
    "\n",
    "The Hamiltonian of $N$ interacting electrons confined by some potential $v(r)$ can be written on general form"
   ]
  },
  {
   "cell_type": "markdown",
   "id": "7338edbd",
   "metadata": {},
   "source": [
    "<!-- Equation labels as ordinary links -->\n",
    "<div id=\"_auto3\"></div>\n",
    "\n",
    "$$\n",
    "\\begin{equation}\n",
    "\\hat{H} = \\sum_{i=1}^N \\left(-\\frac{1}{2}\\nabla_i^2 + v(r_i) \\right) + \\sum_{i < j} \\hat{u}(r_i, r_j),\n",
    "\\label{_auto3} \\tag{5}\n",
    "\\end{equation}\n",
    "$$"
   ]
  },
  {
   "cell_type": "markdown",
   "id": "b7a81f5d",
   "metadata": {},
   "source": [
    "where $\\hat{u}(i,j)$ is the electron-electron (Coulomb) interaction."
   ]
  },
  {
   "cell_type": "markdown",
   "id": "aca6271e",
   "metadata": {},
   "source": [
    "## One-dimensional system\n",
    "\n",
    "We consider a one-dimensional model where the confining potential is parametrized/obtained from finite element calculations. \n",
    "The bare Coulomb interaction is divergent in 1D (REF) and it is customary to use a smoothed Coulomb interaction given by"
   ]
  },
  {
   "cell_type": "markdown",
   "id": "2071875c",
   "metadata": {},
   "source": [
    "<!-- Equation labels as ordinary links -->\n",
    "<div id=\"_auto4\"></div>\n",
    "\n",
    "$$\n",
    "\\begin{equation}\n",
    "u(x_1, x_2) = \\frac{\\alpha}{\\sqrt{(x_1 - x_2)^2 + a^2}},\n",
    "\\label{_auto4} \\tag{6}\n",
    "\\end{equation}\n",
    "$$"
   ]
  },
  {
   "cell_type": "markdown",
   "id": "084edc2d",
   "metadata": {},
   "source": [
    "where $\\alpha$ adjusts the strength of the interaction and $a$ removes the singularity at $x_1 = x_2$.\n",
    "\n",
    "The single-particle functions  are chosen as the eigenfunctions of the single-particle Hamiltonian"
   ]
  },
  {
   "cell_type": "markdown",
   "id": "dfa10ca5",
   "metadata": {},
   "source": [
    "<!-- Equation labels as ordinary links -->\n",
    "<div id=\"_auto5\"></div>\n",
    "\n",
    "$$\n",
    "\\begin{equation}\n",
    "\\left( -\\frac{d^2}{dx^2}+v(x) \\right) \\psi_p(x) = \\epsilon_p \\psi_p(x).\n",
    "\\label{_auto5} \\tag{7}\n",
    "\\end{equation}\n",
    "$$"
   ]
  },
  {
   "cell_type": "markdown",
   "id": "b24e609d",
   "metadata": {},
   "source": [
    "## Details 1\n",
    "\n",
    "By entirely factoring out the spin component of the problem (as the singlet and triplet states will be degenerate), we can treat the two electrons as distinguishable particles, with one electron located in the left well and the other electron situated in the right well.\n",
    "After dividing the Hamiltonian into two distinguishable subsystems $L$\n",
    "and $R$, we establish\n",
    "two **sinc**-DVR (Discrete Variable Representation) basis sets, one for each well."
   ]
  },
  {
   "cell_type": "markdown",
   "id": "e459fcab",
   "metadata": {},
   "source": [
    "## Details 2\n",
    "\n",
    "We solve the full two-body problem using exact diagonalization.\n",
    "The wave function ansatz is then given by a product of Hartree single-particle states"
   ]
  },
  {
   "cell_type": "markdown",
   "id": "07db5579",
   "metadata": {},
   "source": [
    "<!-- Equation labels as ordinary links -->\n",
    "<div id=\"_auto6\"></div>\n",
    "\n",
    "$$\n",
    "\\begin{equation}\n",
    "\\vert\\Phi_I\\rangle = \\sum_{k = 0}^{N^L} \\sum_{l = 0}^{N^R} C_{kl, I}\n",
    "\\vert \\phi^{L}_k \\phi^{R}_l\\rangle,\n",
    "\\label{_auto6} \\tag{8}\n",
    "\\end{equation}\n",
    "$$"
   ]
  },
  {
   "cell_type": "markdown",
   "id": "056ea908",
   "metadata": {},
   "source": [
    "where no symmetry is assumed for the wavefunction as the\n",
    "particles are distinguishable, and the index\n",
    "$I = (i, j) = iN^R + j$ is a compound index denoting the\n",
    "excited two-body state we are looking at."
   ]
  },
  {
   "cell_type": "markdown",
   "id": "d4322045",
   "metadata": {},
   "source": [
    "## Hartree method\n",
    "\n",
    "In the Hartree-method for two distinguishable particles\n",
    "we approximate the ground state $\\vert\\Phi_0\\rangle$ of the\n",
    "full Hamiltonian $\\hat{H}$ as \n",
    "the product state"
   ]
  },
  {
   "cell_type": "markdown",
   "id": "985c64ee",
   "metadata": {},
   "source": [
    "$$\n",
    "\\vert\\Phi_0\\rangle \\approx \\vert\\Psi\\rangle= \\vert\\phi^L_0 \\phi^R_0\\rangle,\n",
    "$$"
   ]
  },
  {
   "cell_type": "markdown",
   "id": "eb05f027",
   "metadata": {},
   "source": [
    "under the constraint that the Hartree orbitals are orthonormal."
   ]
  },
  {
   "cell_type": "markdown",
   "id": "73616c58",
   "metadata": {},
   "source": [
    "## Measuring the degree of entanglement\n",
    "\n",
    "Given that we are dealing with a bipartite quantum system, a natural measure for characterizing entanglement is the von Neumann entropy discussed above. We defined it as"
   ]
  },
  {
   "cell_type": "markdown",
   "id": "cdb3b2b9",
   "metadata": {},
   "source": [
    "$$\n",
    "S= -\\mathrm{tr}(\\hat{\\rho}\\log_2(\\hat{\\rho})),\n",
    "$$"
   ]
  },
  {
   "cell_type": "markdown",
   "id": "d75526e3",
   "metadata": {},
   "source": [
    "where $\\hat{\\rho}$ is the density operator/matrix."
   ]
  },
  {
   "cell_type": "markdown",
   "id": "07963958",
   "metadata": {},
   "source": [
    "## More entropy and Schmidt decomposition\n",
    "\n",
    "As the Hamiltonian eigenstates are pure states, we can evaluate their\n",
    "entanglement by bypassing the construction of the density operator\n",
    "and use the Schmidt decomposition instead. Specifically, for a given\n",
    "two-body wave function $\\vert \\Psi\\rangle$ expressed in terms of the\n",
    "Hartree product states, we can write"
   ]
  },
  {
   "cell_type": "markdown",
   "id": "3f370236",
   "metadata": {},
   "source": [
    "$$\n",
    "\\begin{align*}\n",
    "\\vert\\Psi\\rangle &= \\sum_{k = 0}^{N^L} \\sum_{l = 0}^{N^R} C_{kl}\\vert\\phi^L_k \\phi^R_l\\rangle=\\sum_{p = 0}^{\\tilde{N}}\\sigma_{p}\\vert\\psi^L_p \\psi^R_p\\rangle,\n",
    "\\end{align*}\n",
    "$$"
   ]
  },
  {
   "cell_type": "markdown",
   "id": "6b02e0c9",
   "metadata": {},
   "source": [
    "where $C_{kl} = \\sum_{p = 0}^{\\tilde{N}} U_{kp}\\sigma_{p} V^{*}_{lp}$ is the singular value\n",
    "decomposition of the two-body coefficients.\n",
    "We have"
   ]
  },
  {
   "cell_type": "markdown",
   "id": "02b86cdd",
   "metadata": {},
   "source": [
    "$$\n",
    "\\begin{gather*}\n",
    "\\vert\\psi^L_p\\rangle\\equiv \\sum_{k = 0}^{N^L} U_{kp} \\vert\\phi^L_k\\rangle,\n",
    "\\qquad \\vert\\psi^R_p\\rangle\\equiv \\sum_{l = 0}^{N^R} V^{*}_{lp} \\vert\\phi^R_l\\rangle,\n",
    "\\end{gather*}\n",
    "$$"
   ]
  },
  {
   "cell_type": "markdown",
   "id": "6639e40a",
   "metadata": {},
   "source": [
    "are the Schmidt states, $\\tilde{N}$ is\n",
    "either $N^L$ or $N^R$ depending on the definition of the singular value decomposition, and $\\sigma_p$ are the singular values with $\\sigma_p^2$\n",
    "representing the occupation of the pair $\\vert\\psi^L_p \\psi^R_p\\rangle$."
   ]
  },
  {
   "cell_type": "markdown",
   "id": "3ec476c5",
   "metadata": {},
   "source": [
    "## Final Von Neumann entropy\n",
    "\n",
    "Using the singular values, we can compute the von Neumann entropy of $\\vert\\Psi\\rangle$ as follows:"
   ]
  },
  {
   "cell_type": "markdown",
   "id": "5a616c7b",
   "metadata": {},
   "source": [
    "$$\n",
    "\\begin{align*}\n",
    "S = -\\sum_{p = 0}^{\\tilde{N}}\\sigma_p^2 \\log_2(\\sigma_p^2).\n",
    "\\end{align*}\n",
    "$$"
   ]
  },
  {
   "cell_type": "markdown",
   "id": "31f4a268",
   "metadata": {},
   "source": [
    "## Analysis\n",
    "\n",
    "While the von Neumann entropy provides an objective measure of\n",
    "entanglement, it does not give information about which states\n",
    "are entangled.  In order to determine which states are mixed,\n",
    "we can use three additional quantities.\n",
    "\n",
    "1. The first quantity are the two-body energies $E_K$. We search for configurations where two or more energies are nearly degenerate, as this indicates a mixing of states. o The second quantity we use are the coefficients $C_{kl}$ themselves. In the Hartree basis, these coefficients give a good indication of which states are entangled.\n",
    "\n",
    "2. And the third is the particle density. For the state $\\vert \\Psi\\rangle$ above, we can compute the particle density. The particle density can be used as a tool to qualitatively visualize the entanglement of a state."
   ]
  },
  {
   "cell_type": "markdown",
   "id": "9ed27975",
   "metadata": {},
   "source": [
    "## Results\n",
    "\n",
    "Given a large degree of tuning of the electrostatic potential\n",
    "landscape with seven electrodes we search for well configurations\n",
    "corresponding to three different types of interaction between two\n",
    "electrons.\n",
    "\n",
    "1. In **configuration I** we address both qubits independently and can thereby perform single-qubit state rotations.\n",
    "\n",
    "2. Configurations II and III correspond to avoided level crossings between two ($E_{01}, E_{10}$) and three ($E_{11}, E_{20}, E_{02}$) energy levels respectively, where the electrons' motion becomes correlated, that is they are entangled."
   ]
  },
  {
   "cell_type": "markdown",
   "id": "09f43ca1",
   "metadata": {},
   "source": [
    "## Interpretations\n",
    "\n",
    "When moving from configuration I into the avoided crossing of\n",
    "configuration II infinitely slow adiabatically, the probability of a\n",
    "transition from the $\\vert 01\\rangle$ to the $\\vert 10\\rangle$ state\n",
    "is zero according to the adiabatic theorem.\n",
    "\n",
    "An infinitely fast shift in configuration will instead cause the transition probability to be 1.\n",
    "Changing configuration with a finite speed will thus result in a transition probability between one and zero,\n",
    "and hence an entangled state. In our system we have that logical states $\\vert 01\\rangle$ to the $\\vert 10\\rangle$ correspond to the two first excited states."
   ]
  },
  {
   "cell_type": "markdown",
   "id": "21707ad6",
   "metadata": {},
   "source": [
    "## Basis of left well\n",
    "\n",
    "<!-- dom:FIGURE: [qcfigures/figure3_L.png, width=700 frac=0.9] -->\n",
    "<!-- begin figure -->\n",
    "\n",
    "<img src=\"qcfigures/figure3_L.png\" width=\"700\"><p style=\"font-size: 0.9em\"><i>Figure 1: </i></p>\n",
    "<!-- end figure -->\n",
    "\n",
    "The energy basis of the left well in configuration I.  Note that the\n",
    "scale differs between the left y-axis, corresponding to the\n",
    "frequencies of the single-particle eigenstates, and the right y-axis,\n",
    "which shows the energy of the potential."
   ]
  },
  {
   "cell_type": "markdown",
   "id": "f9cb2758",
   "metadata": {},
   "source": [
    "## Basis of left well\n",
    "\n",
    "<!-- dom:FIGURE: [qcfigures/figure2.png, width=700 frac=0.9] -->\n",
    "<!-- begin figure -->\n",
    "\n",
    "<img src=\"qcfigures/figure2.png\" width=\"700\"><p style=\"font-size: 0.9em\"><i>Figure 1: </i></p>\n",
    "<!-- end figure -->\n",
    "\n",
    "Here we have plotted the transition energy from\n",
    "the ground state to the labeled excited state as a function of the voltage\n",
    "parameter $\\lambda$.\n",
    "The left figure  shows the transition energies for the non-interacting case, i.e., the single-particle\n",
    "transition energies, whereas the right figure shows the interacting case."
   ]
  },
  {
   "cell_type": "markdown",
   "id": "13871c5f",
   "metadata": {},
   "source": [
    "## Densities, potential wells overlaps\n",
    "\n",
    "<!-- dom:FIGURE: [qcfigures/figure3_Ib_full.png, width=700 frac=0.9] -->\n",
    "<!-- begin figure -->\n",
    "\n",
    "<img src=\"qcfigures/figure3_Ib_full.png\" width=\"700\"><p style=\"font-size: 0.9em\"><i>Figure 1: </i></p>\n",
    "<!-- end figure -->\n",
    "\n",
    "These figures depict the potential wells, the one-body\n",
    "densities, and the active single-particle states in the Schmidt basis for configuration I. **No avoid crossing**."
   ]
  },
  {
   "cell_type": "markdown",
   "id": "3da0602e",
   "metadata": {},
   "source": [
    "## Schmidt basis for configurations II and III\n",
    "\n",
    "<!-- dom:FIGURE: [qcfigures/figure3_II_IIIb.png, width=700 frac=0.9] -->\n",
    "<!-- begin figure -->\n",
    "\n",
    "<img src=\"qcfigures/figure3_II_IIIb.png\" width=\"700\"><p style=\"font-size: 0.9em\"><i>Figure 1: </i></p>\n",
    "<!-- end figure -->\n",
    "\n",
    "These figures depict the potential wells, the one-body\n",
    "densities, and the active single-particle states in the Schmidt basis for configurations II and III,\n",
    "i.e., in the avoided crossing regimes."
   ]
  },
  {
   "cell_type": "markdown",
   "id": "8e8fed22",
   "metadata": {},
   "source": [
    "## Von Neumann entropy\n",
    "\n",
    "<!-- dom:FIGURE: [qcfigures/figure4.png, width=700 frac=0.9] -->\n",
    "<!-- begin figure -->\n",
    "\n",
    "<img src=\"qcfigures/figure4.png\" width=\"700\"><p style=\"font-size: 0.9em\"><i>Figure 1: </i></p>\n",
    "<!-- end figure -->\n",
    "\n",
    "Numerical results for the von Neumann entropy of the five lowest excited states as a function of the voltage parameter $\\lambda$. The entropies\n",
    "$S_1$ and $S_2$ of the $\\vert\\Phi_1\\rangle$ respectively $\\vert\\Phi_2\\rangle$ states are nearly identical. Note that the peaks in entropy corresponds to the avoided crossings."
   ]
  },
  {
   "cell_type": "markdown",
   "id": "85f4a527",
   "metadata": {},
   "source": [
    "## Where we are now\n",
    "\n",
    "1. Adding Time-dependent studies of two electrons in two wells in one and two dimensions\n",
    "\n",
    "2. Studies of the time-evolution of entangled states (now two electrons only)\n",
    "\n",
    "3. Use theory to find optimal experimental setup\n",
    "\n",
    "4. Expect two-electron system realized experimentally in approx $1$ year, great potential for studies of quantum simulations"
   ]
  },
  {
   "cell_type": "markdown",
   "id": "5ff05016",
   "metadata": {},
   "source": [
    "## Plans\n",
    "\n",
    "1. Add two and three-dimensions in order to simulate in  a more realistic way such many-body systems.\n",
    "\n",
    "2. Develop time-dependent FCI code, useful up to approximately 10 particles with **effective** (and effective Hilbert space) Hamiltonians in two and three dimensions\n",
    "\n",
    "3. Particles can be valence particles  or valence holes defined for an effective Hilbert space\n",
    "\n",
    "4. Develop codes for studies of entanglement as function of time\n",
    "\n",
    "5. Study the feasibility of various setups for quantum simulations of specific Hamiltonians such as the Lipkin model\n",
    "\n",
    "6. For larger many-body systems, study for example time-dependent CC theory"
   ]
  },
  {
   "cell_type": "markdown",
   "id": "1e0558e8",
   "metadata": {},
   "source": [
    "## Additional material"
   ]
  },
  {
   "cell_type": "markdown",
   "id": "53848da3",
   "metadata": {},
   "source": [
    "## How to simulate quantum mechanical systems: VQE and efficient computations of gradients\n",
    "\n",
    "We start with a reminder on the VQE method with applications to the one-qubit system.\n",
    "We discussed this to some detail during the week of March 27-31. Here we revisit the one-qubit system and develop a VQE code for studying this system using gradient descent as a method to optimie the variational ansatz.\n",
    "\n",
    "We start with a simple $2\\times 2$ Hamiltonian matrix expressed in\n",
    "terms of Pauli $X$ and $Z$ matrices, as discussed in the project text.\n",
    "\n",
    "We define a  symmetric matrix  $H\\in {\\mathbb{R}}^{2\\times 2}$"
   ]
  },
  {
   "cell_type": "markdown",
   "id": "1e408664",
   "metadata": {},
   "source": [
    "$$\n",
    "H = \\begin{bmatrix} H_{11} & H_{12} \\\\ H_{21} & H_{22}\n",
    "\\end{bmatrix},\n",
    "$$"
   ]
  },
  {
   "cell_type": "markdown",
   "id": "7e02f919",
   "metadata": {},
   "source": [
    "We  let $H = H_0 + H_I$, where"
   ]
  },
  {
   "cell_type": "markdown",
   "id": "c3df37c3",
   "metadata": {},
   "source": [
    "$$\n",
    "H_0= \\begin{bmatrix} E_1 & 0 \\\\ 0 & E_2\\end{bmatrix},\n",
    "$$"
   ]
  },
  {
   "cell_type": "markdown",
   "id": "fa30b05c",
   "metadata": {},
   "source": [
    "is a diagonal matrix. Similarly,"
   ]
  },
  {
   "cell_type": "markdown",
   "id": "bb70ca8b",
   "metadata": {},
   "source": [
    "$$\n",
    "H_I= \\begin{bmatrix} V_{11} & V_{12} \\\\ V_{21} & V_{22}\\end{bmatrix},\n",
    "$$"
   ]
  },
  {
   "cell_type": "markdown",
   "id": "b198b922",
   "metadata": {},
   "source": [
    "where $V_{ij}$ represent various interaction matrix elements.\n",
    "We can view $H_0$ as the non-interacting solution"
   ]
  },
  {
   "cell_type": "markdown",
   "id": "194d92b3",
   "metadata": {},
   "source": [
    "<!-- Equation labels as ordinary links -->\n",
    "<div id=\"_auto7\"></div>\n",
    "\n",
    "$$\n",
    "\\begin{equation}\n",
    "       H_0\\vert 0 \\rangle =E_1\\vert 0 \\rangle,\n",
    "\\label{_auto7} \\tag{9}\n",
    "\\end{equation}\n",
    "$$"
   ]
  },
  {
   "cell_type": "markdown",
   "id": "be0c5368",
   "metadata": {},
   "source": [
    "and"
   ]
  },
  {
   "cell_type": "markdown",
   "id": "2fda5ed6",
   "metadata": {},
   "source": [
    "<!-- Equation labels as ordinary links -->\n",
    "<div id=\"_auto8\"></div>\n",
    "\n",
    "$$\n",
    "\\begin{equation}\n",
    "       H_0\\vert 1\\rangle =E_2\\vert 1\\rangle,\n",
    "\\label{_auto8} \\tag{10}\n",
    "\\end{equation}\n",
    "$$"
   ]
  },
  {
   "cell_type": "markdown",
   "id": "c83ed976",
   "metadata": {},
   "source": [
    "where we have defined the orthogonal computational one-qubit basis states $\\vert 0\\rangle$ and $\\vert 1\\rangle$.\n",
    "\n",
    "We rewrite $H$ (and $H_0$ and $H_I$)  via Pauli matrices"
   ]
  },
  {
   "cell_type": "markdown",
   "id": "bc9b40b7",
   "metadata": {},
   "source": [
    "$$\n",
    "H_0 = \\mathcal{E} I + \\Omega \\sigma_z, \\quad \\mathcal{E} = \\frac{E_1\n",
    "  + E_2}{2}, \\; \\Omega = \\frac{E_1-E_2}{2},\n",
    "$$"
   ]
  },
  {
   "cell_type": "markdown",
   "id": "8fed7b61",
   "metadata": {},
   "source": [
    "and"
   ]
  },
  {
   "cell_type": "markdown",
   "id": "67d5e9e3",
   "metadata": {},
   "source": [
    "$$\n",
    "H_I = c \\boldsymbol{I} +\\omega_z\\sigma_z + \\omega_x\\sigma_x,\n",
    "$$"
   ]
  },
  {
   "cell_type": "markdown",
   "id": "65b2b578",
   "metadata": {},
   "source": [
    "with $c = (V_{11}+V_{22})/2$, $\\omega_z = (V_{11}-V_{22})/2$ and $\\omega_x = V_{12}=V_{21}$.\n",
    "We let our Hamiltonian depend linearly on a strength parameter $\\lambda$"
   ]
  },
  {
   "cell_type": "markdown",
   "id": "d2aeba4a",
   "metadata": {},
   "source": [
    "$$\n",
    "H=H_0+\\lambda H_\\mathrm{I},\n",
    "$$"
   ]
  },
  {
   "cell_type": "markdown",
   "id": "79923e8d",
   "metadata": {},
   "source": [
    "with $\\lambda \\in [0,1]$, where the limits $\\lambda=0$ and $\\lambda=1$\n",
    "represent the non-interacting (or unperturbed) and fully interacting\n",
    "system, respectively.  The model is an eigenvalue problem with only\n",
    "two available states.\n",
    "\n",
    "Here we set the parameters $E_1=0$,\n",
    "$E_2=4$, $V_{11}=-V_{22}=3$ and $V_{12}=V_{21}=0.2$.\n",
    "\n",
    "The non-interacting solutions represent our computational basis.\n",
    "Pertinent to our choice of parameters, is that at $\\lambda\\geq 2/3$,\n",
    "the lowest eigenstate is dominated by $\\vert 1\\rangle$ while the upper\n",
    "is $\\vert 0 \\rangle$. At $\\lambda=1$ the $\\vert 0 \\rangle$ mixing of\n",
    "the lowest eigenvalue is $1\\%$ while for $\\lambda\\leq 2/3$ we have a\n",
    "$\\vert 0 \\rangle$ component of more than $90\\%$.  The character of the\n",
    "eigenvectors has therefore been interchanged when passing $z=2/3$. The\n",
    "value of the parameter $V_{12}$ represents the strength of the coupling\n",
    "between the two states."
   ]
  },
  {
   "cell_type": "markdown",
   "id": "e8d2025d",
   "metadata": {},
   "source": [
    "## Setting up the matrix"
   ]
  },
  {
   "cell_type": "code",
   "execution_count": 3,
   "id": "12f59f14",
   "metadata": {},
   "outputs": [],
   "source": [
    "from  matplotlib import pyplot as plt\n",
    "import numpy as np\n",
    "dim = 2\n",
    "Hamiltonian = np.zeros((dim,dim))\n",
    "e0 = 0.0\n",
    "e1 = 4.0\n",
    "Xnondiag = 0.20\n",
    "Xdiag = 3.0\n",
    "Eigenvalue = np.zeros(dim)\n",
    "# setting up the Hamiltonian\n",
    "Hamiltonian[0,0] = Xdiag+e0\n",
    "Hamiltonian[0,1] = Xnondiag\n",
    "Hamiltonian[1,0] = Hamiltonian[0,1]\n",
    "Hamiltonian[1,1] = e1-Xdiag\n",
    "# diagonalize and obtain eigenvalues, not necessarily sorted\n",
    "EigValues, EigVectors = np.linalg.eig(Hamiltonian)\n",
    "permute = EigValues.argsort()\n",
    "EigValues = EigValues[permute]\n",
    "# print only the lowest eigenvalue\n",
    "print(EigValues[0])"
   ]
  },
  {
   "cell_type": "markdown",
   "id": "8a5701c3",
   "metadata": {},
   "source": [
    "Now rewrite it in terms of the identity matrix and the Pauli matrix X and Z"
   ]
  },
  {
   "cell_type": "code",
   "execution_count": 4,
   "id": "be78dcea",
   "metadata": {},
   "outputs": [],
   "source": [
    "# Now rewrite it in terms of the identity matrix and the Pauli matrix X and Z\n",
    "X = np.array([[0,1],[1,0]])\n",
    "Y = np.array([[0,-1j],[1j,0]])\n",
    "Z = np.array([[1,0],[0,-1]])\n",
    "# identity matrix\n",
    "I = np.array([[1,0],[0,1]])\n",
    "\n",
    "epsilon = (e0+e1)*0.5; omega = (e0-e1)*0.5\n",
    "c = 0.0; omega_z=Xdiag; omega_x = Xnondiag\n",
    "Hamiltonian = (epsilon+c)*I+(omega_z+omega)*Z+omega_x*X\n",
    "EigValues, EigVectors = np.linalg.eig(Hamiltonian)\n",
    "permute = EigValues.argsort()\n",
    "EigValues = EigValues[permute]\n",
    "# print only the lowest eigenvalue\n",
    "print(EigValues[0])"
   ]
  },
  {
   "cell_type": "markdown",
   "id": "b3eb23ed",
   "metadata": {},
   "source": [
    "## Implementing the VQE\n",
    "\n",
    "For a one-qubit system we can reach every point on the Bloch sphere\n",
    "(as discussed earlier) with a rotation about the $x$-axis and the\n",
    "$y$-axis.\n",
    "\n",
    "We can express this mathematically through the following operations (see whiteboard for the drawing), giving us a new state $\\vert \\psi\\rangle$"
   ]
  },
  {
   "cell_type": "markdown",
   "id": "02067b5b",
   "metadata": {},
   "source": [
    "$$\n",
    "\\vert\\psi\\rangle = R_y(\\phi)R_x(\\theta)\\vert 0 \\rangle.\n",
    "$$"
   ]
  },
  {
   "cell_type": "markdown",
   "id": "1eb3b118",
   "metadata": {},
   "source": [
    "We can produce multiple ansatzes for the new state in terms of the\n",
    "angles $\\theta$ and $\\phi$.  With these ansatzes we can in turn\n",
    "calculate the expectation value of the above Hamiltonian, now\n",
    "rewritten in terms of various Pauli matrices (and thereby gates), that is compute"
   ]
  },
  {
   "cell_type": "markdown",
   "id": "c76c0124",
   "metadata": {},
   "source": [
    "$$\n",
    "\\langle \\psi \\vert (c+\\mathcal{E})\\boldsymbol{I} + (\\Omega+\\omega_z)\\boldsymbol{\\sigma}_z + \\omega_x\\boldsymbol{\\sigma}_x\\vert \\psi \\rangle.\n",
    "$$"
   ]
  },
  {
   "cell_type": "markdown",
   "id": "82565fa4",
   "metadata": {},
   "source": [
    "We can now set up a series of ansatzes for $\\vert \\psi \\rangle$ as\n",
    "function of the angles $\\theta$ and $\\phi$ and find thereafter the\n",
    "variational minimum using for example a gradient descent method.\n",
    "\n",
    "To do so, we need to remind ourselves about the mathematical expressions for\n",
    "the rotational matrices/operators."
   ]
  },
  {
   "cell_type": "markdown",
   "id": "d468b2a4",
   "metadata": {},
   "source": [
    "$$\n",
    "R_x(\\theta)=\\cos{\\frac{\\theta}{2}}\\boldsymbol{I}-\\imath \\sin{\\frac{\\theta}{2}}\\boldsymbol{\\sigma}_x,\n",
    "$$"
   ]
  },
  {
   "cell_type": "markdown",
   "id": "89f1fd6a",
   "metadata": {},
   "source": [
    "and"
   ]
  },
  {
   "cell_type": "markdown",
   "id": "ee192ff0",
   "metadata": {},
   "source": [
    "$$\n",
    "R_y(\\phi)=\\cos{\\frac{\\phi}{2}}\\boldsymbol{I}-\\imath \\sin{\\frac{\\phi}{2}}\\boldsymbol{\\sigma}_y.\n",
    "$$"
   ]
  },
  {
   "cell_type": "code",
   "execution_count": 5,
   "id": "0d4b676b",
   "metadata": {},
   "outputs": [],
   "source": [
    "# define the rotation matrices\n",
    "# Define angles theta and phi\n",
    "theta = 0.5*np.pi; phi = 0.2*np.pi\n",
    "Rx = np.cos(theta*0.5)*I-1j*np.sin(theta*0.5)*X\n",
    "Ry = np.cos(phi*0.5)*I-1j*np.sin(phi*0.5)*Y\n",
    "#define basis states\n",
    "basis0 = np.array([1,0])\n",
    "basis1 = np.array([0,1])\n",
    "\n",
    "NewBasis = Ry @ Rx @ basis0\n",
    "print(NewBasis)\n",
    "# Compute the expectation value\n",
    "#Note hermitian conjugation\n",
    "Energy = NewBasis.conj().T @ Hamiltonian @ NewBasis\n",
    "print(Energy)"
   ]
  },
  {
   "cell_type": "markdown",
   "id": "13b8a759",
   "metadata": {},
   "source": [
    "Not an impressive results. We set up now a loop over many angles $\\theta$ and $\\phi$ and compute the energies"
   ]
  },
  {
   "cell_type": "code",
   "execution_count": 6,
   "id": "847d5847",
   "metadata": {},
   "outputs": [],
   "source": [
    "# define a number of angles\n",
    "n = 20\n",
    "angle = np.arange(0,180,10)\n",
    "n = np.size(angle)\n",
    "ExpectationValues = np.zeros((n,n))\n",
    "for i in range (n):\n",
    "    theta = np.pi*angle[i]/180.0\n",
    "    Rx = np.cos(theta*0.5)*I-1j*np.sin(theta*0.5)*X\n",
    "    for j in range (n):\n",
    "        phi = np.pi*angle[j]/180.0\n",
    "        Ry = np.cos(phi*0.5)*I-1j*np.sin(phi*0.5)*Y\n",
    "        NewBasis = Ry @ Rx @ basis0\n",
    "        Energy = NewBasis.conj().T @ Hamiltonian @ NewBasis\n",
    "        Edifference=abs(np.real(EigValues[0]-Energy))\n",
    "        ExpectationValues[i,j]=Edifference\n",
    "\n",
    "print(np.min(ExpectationValues))"
   ]
  },
  {
   "cell_type": "markdown",
   "id": "c14f08a9",
   "metadata": {},
   "source": [
    "Clearly, this is not the very best way of proceeding. Rather, here we\n",
    "could try to find the optimal values for the parameters $\\theta$ and\n",
    "$\\phi$ through computation of their respective gradients and thereby\n",
    "find the minimum as function of the optimal angles $\\hat{\\theta}$ and\n",
    "$\\hat{\\phi}$.\n",
    "\n",
    "Let us now implement a classical gradient descent algorithm to the computation of the energies. \n",
    "We will follow closely  <https://journals.aps.org/pra/abstract/10.1103/PhysRevA.99.032331> in order to calculate gradients of the Hamiltonian."
   ]
  },
  {
   "cell_type": "markdown",
   "id": "aba66552",
   "metadata": {},
   "source": [
    "## Gradient descent and calculations of gradients\n",
    "\n",
    "In order to optimize the VQE ansatz, we need to compute derivatives\n",
    "with respect to the variational parameters.  Here we develop first a\n",
    "simpler approach tailored to the one-qubit case. For this particular\n",
    "case, we have defined an ansatz in terms of the Pauli rotation\n",
    "matrices. These define an arbitrary one-qubit state on the Bloch\n",
    "sphere through the expression"
   ]
  },
  {
   "cell_type": "markdown",
   "id": "01b87d0a",
   "metadata": {},
   "source": [
    "$$\n",
    "\\vert\\psi\\rangle = \\vert \\psi(\\theta,\\phi)\\rangle =R_y(\\phi)R_x(\\theta)\\vert 0 \\rangle.\n",
    "$$"
   ]
  },
  {
   "cell_type": "markdown",
   "id": "a9e08cc7",
   "metadata": {},
   "source": [
    "Each of these rotation matrices can be written in a more general form as"
   ]
  },
  {
   "cell_type": "markdown",
   "id": "4acc06ce",
   "metadata": {},
   "source": [
    "$$\n",
    "R_{i}(\\gamma)=\\exp{-(\\imath\\frac{\\gamma}{2}\\sigma_i)}=\\cos{(\\frac{\\gamma}{2})}\\boldsymbol{I}-\\imath\\sin{(\\frac{\\gamma}{2})}\\boldsymbol{\\sigma}_i,\n",
    "$$"
   ]
  },
  {
   "cell_type": "markdown",
   "id": "338ad79a",
   "metadata": {},
   "source": [
    "where $\\sigma_i$ is one of the Pauli matrices $\\sigma_{x,y,z}$. \n",
    "\n",
    "It is easy to see that the derivative with respect to $\\gamma$ is"
   ]
  },
  {
   "cell_type": "markdown",
   "id": "33e12077",
   "metadata": {},
   "source": [
    "$$\n",
    "\\frac{\\partial R_{i}(\\gamma)}{\\partial \\gamma}=-\\frac{\\gamma}{2}\\boldsymbol{\\sigma}_i R_{i}(\\gamma).\n",
    "$$"
   ]
  },
  {
   "cell_type": "markdown",
   "id": "3cfda98c",
   "metadata": {},
   "source": [
    "We can now calculate the derivative of the expectation value of the\n",
    "Hamiltonian in terms of the angles $\\theta$ and $\\phi$. We have two\n",
    "derivatives"
   ]
  },
  {
   "cell_type": "markdown",
   "id": "f76c6862",
   "metadata": {},
   "source": [
    "$$\n",
    "\\frac{\\partial}{\\partial \\theta}\\left[\\langle \\psi(\\theta,\\phi) \\vert \\boldsymbol{H}\\vert \\psi(\\theta,\\phi)\\rangle\\right]=\\frac{\\partial}{\\partial \\theta}\\left[\\langle\\boldsymbol{H}(\\theta,\\phi)\\rangle\\right]=\\langle \\psi(\\theta,\\phi) \\vert \\boldsymbol{H}(-\\frac{\\imath}{2}\\boldsymbol{\\sigma}_x\\vert \\psi(\\theta,\\phi)\\rangle+\\hspace{0.1cm}\\mathrm{h.c},\n",
    "$$"
   ]
  },
  {
   "cell_type": "markdown",
   "id": "b5145499",
   "metadata": {},
   "source": [
    "and"
   ]
  },
  {
   "cell_type": "markdown",
   "id": "19858e3f",
   "metadata": {},
   "source": [
    "$$\n",
    "\\frac{\\partial }{\\partial \\phi}\\left[\\langle \\psi(\\theta,\\phi) \\vert \\boldsymbol{H}\\vert \\psi(\\theta,\\phi)\\rangle\\right]=\\frac{\\partial}{\\partial \\phy}\\left[\\langle\\boldsymbol{H}(\\theta,\\phi)\\rangle\\right]=\\langle \\psi(\\theta,\\phi) \\vert \\boldsymbol{H}(-\\frac{\\imath}{2}\\boldsymbol{\\sigma}_y\\vert \\psi(\\theta,\\phi)\\rangle+\\hspace{0.1cm}\\mathrm{h.c}.\n",
    "$$"
   ]
  },
  {
   "cell_type": "markdown",
   "id": "2da678ef",
   "metadata": {},
   "source": [
    "This means that we have to calculate two additional expectation values\n",
    "in addition to the expectation value of the Hamiltonian itself.  In\n",
    "our first attempt, we will compute these expectation values in a brute\n",
    "force way, performing the various matrix-matrix and matrix-vector\n",
    "multiplications. As the reader quickly will see, this approach becomes\n",
    "unpractical if we venture beyond some few qubits.  We will try to\n",
    "rewrite the above derivatives in a smarter way, see [the article by\n",
    "Maria Schuld et\n",
    "al](https://journals.aps.org/pra/abstract/10.1103/PhysRevA.99.032331)."
   ]
  },
  {
   "cell_type": "markdown",
   "id": "b770df64",
   "metadata": {},
   "source": [
    "## A smarter way of doing this\n",
    "\n",
    "The above approach means that we are setting up several matrix-matrix\n",
    "amd matrix-vector multiplications. Although straight forward it is not\n",
    "the most efficient way of doing this, in particular in case the\n",
    "matrices become large (and sparse). But there are some more important\n",
    "issues.\n",
    "\n",
    "In a physical realization of these systems we cannot just multiply the\n",
    "state with the Hamiltonian. When performing a measurement we can only\n",
    "measure in one particular direction. For the computational basis\n",
    "states which we have, $\\vert 0\\rangle$ and $\\vert 1\\rangle$, we have\n",
    "to measure along the bases of the Pauli matrices and reconstruct the\n",
    "eigenvalues from these measurements.\n",
    "\n",
    "From our earlier discussions we know that the Pauli $Z$ matrix has the above basis states as eigen states through"
   ]
  },
  {
   "cell_type": "markdown",
   "id": "1c4ecbaf",
   "metadata": {},
   "source": [
    "$$\n",
    "\\boldsymbol{\\sigma}_z\\vert 0 \\rangle = \\boldsymbol{Z}\\vert 0 \\rangle=+1\\vert 0 \\rangle,\n",
    "$$"
   ]
  },
  {
   "cell_type": "markdown",
   "id": "e540e0a0",
   "metadata": {},
   "source": [
    "and"
   ]
  },
  {
   "cell_type": "markdown",
   "id": "76f39be8",
   "metadata": {},
   "source": [
    "$$\n",
    "\\boldsymbol{\\sigma}_z\\vert 1 \\rangle = \\boldsymbol{Z}\\vert 1 \\rangle=-1\\vert 1 \\rangle,\n",
    "$$"
   ]
  },
  {
   "cell_type": "markdown",
   "id": "5a3a43d1",
   "metadata": {},
   "source": [
    "with eigenvalue $-1$.\n",
    "\n",
    "For the Pauli $X$ matrix on the other hand we have"
   ]
  },
  {
   "cell_type": "markdown",
   "id": "342e807a",
   "metadata": {},
   "source": [
    "$$\n",
    "\\boldsymbol{\\sigma}_x\\vert 0 \\rangle = \\boldsymbol{X}\\vert 0 \\rangle=+1\\vert 1 \\rangle,\n",
    "$$"
   ]
  },
  {
   "cell_type": "markdown",
   "id": "9a0a0976",
   "metadata": {},
   "source": [
    "and"
   ]
  },
  {
   "cell_type": "markdown",
   "id": "0e8994a7",
   "metadata": {},
   "source": [
    "$$\n",
    "\\boldsymbol{\\sigma}_x\\vert 1 \\rangle = \\boldsymbol{X}\\vert 1 \\rangle=-1\\vert 0 \\rangle,\n",
    "$$"
   ]
  },
  {
   "cell_type": "markdown",
   "id": "9857725e",
   "metadata": {},
   "source": [
    "with eigenvalues $1$ in both cases. The latter two equations tell us\n",
    "that the computational basis we have chosen, and in which we will\n",
    "prepare our states, is not an eigenbasis of the $\\sigma_x$ matrix.\n",
    "\n",
    "We will thus try to rewrite the Pauli $X$ matrix in terms of a Pauli $Z$ matrix. Fortunately this can be done using the Hadamard matrix twice, that is"
   ]
  },
  {
   "cell_type": "markdown",
   "id": "6f0da896",
   "metadata": {},
   "source": [
    "$$\n",
    "\\boldsymbol{X}=\\boldsymbol{\\sigma}_x=\\boldsymbol{H}\\boldsymbol{Z}\\boldsymbol{H}.\n",
    "$$"
   ]
  },
  {
   "cell_type": "markdown",
   "id": "c63e836c",
   "metadata": {},
   "source": [
    "The Pauli $Y$ matrix can be written as"
   ]
  },
  {
   "cell_type": "markdown",
   "id": "f14c40eb",
   "metadata": {},
   "source": [
    "$$\n",
    "\\boldsymbol{Y}=\\boldsymbol{\\sigma}_y=\\boldsymbol{H}\\boldsymbol{S}^{\\dagger}\\boldsymbol{Z}\\boldsymbol{H}\\boldsymbol{S},\n",
    "$$"
   ]
  },
  {
   "cell_type": "markdown",
   "id": "87539f29",
   "metadata": {},
   "source": [
    "where $S$ is the phase matrix"
   ]
  },
  {
   "cell_type": "markdown",
   "id": "d2425e62",
   "metadata": {},
   "source": [
    "$$\n",
    "S = \\begin{bmatrix} 1 & 0 \\\\ 0 & \\imath \\end{bmatrix}.\n",
    "$$"
   ]
  },
  {
   "cell_type": "markdown",
   "id": "5a8180b8",
   "metadata": {},
   "source": [
    "We will denote the Pauli matrices by $X$, $Y$ and $Z$ and we can write the expectation value of the Hamiltonian as"
   ]
  },
  {
   "cell_type": "markdown",
   "id": "26723b22",
   "metadata": {},
   "source": [
    "$$\n",
    "\\langle \\psi \\vert (c+\\mathcal{E})\\boldsymbol{I} + (\\Omega+\\omega_z)\\boldsymbol{Z} + \\omega_x\\boldsymbol{H}\\boldsymbol{Z}\\boldsymbol{H}\\vert \\psi \\rangle,\n",
    "$$"
   ]
  },
  {
   "cell_type": "markdown",
   "id": "4282b577",
   "metadata": {},
   "source": [
    "which we can rewrite as"
   ]
  },
  {
   "cell_type": "markdown",
   "id": "69872a35",
   "metadata": {},
   "source": [
    "$$\n",
    "(c+\\mathcal{E})\\langle \\psi \\vert \\boldsymbol{I}\\vert \\psi \\rangle+(\\Omega+\\omega_z)\\langle \\psi \\vert \\boldsymbol{Z}\\vert \\psi \\rangle+\\omega_x\\langle \\psi \\boldsymbol{H}\\vert \\boldsymbol{Z}\\vert\\boldsymbol{H}\\psi \\rangle.\n",
    "$$"
   ]
  },
  {
   "cell_type": "markdown",
   "id": "08623c84",
   "metadata": {},
   "source": [
    "The first and second term are to easy to perform a measurement on since we we just need to compute\n",
    "$\\langle \\psi\\vert \\boldsymbol{I}\\vert \\psi\\rangle$ and $\\langle \\psi\\vert \\boldsymbol{Z}\\vert \\psi\\rangle$.\n",
    "For the final term we need just to add the action of the Hadamard matrix and we are done."
   ]
  }
 ],
 "metadata": {
  "kernelspec": {
   "display_name": "Python 3 (ipykernel)",
   "language": "python",
   "name": "python3"
  },
  "language_info": {
   "codemirror_mode": {
    "name": "ipython",
    "version": 3
   },
   "file_extension": ".py",
   "mimetype": "text/x-python",
   "name": "python",
   "nbconvert_exporter": "python",
   "pygments_lexer": "ipython3",
   "version": "3.9.16"
  }
 },
 "nbformat": 4,
 "nbformat_minor": 5
}
