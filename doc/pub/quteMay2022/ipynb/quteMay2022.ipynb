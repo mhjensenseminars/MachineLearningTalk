{
 "cells": [
  {
   "cell_type": "markdown",
   "id": "b74d73b1",
   "metadata": {
    "editable": true
   },
   "source": [
    "<!-- HTML file automatically generated from DocOnce source (https://github.com/doconce/doconce/)\n",
    "doconce format html quteMay2022.do.txt --no_mako -->\n",
    "<!-- dom:TITLE: Quantum Computing and Quantum Mechanics for Many Interacting Particles -->"
   ]
  },
  {
   "cell_type": "markdown",
   "id": "05537445",
   "metadata": {
    "editable": true
   },
   "source": [
    "# Quantum Computing and Quantum Mechanics for Many Interacting Particles\n",
    "**Stian D. Bilek, Jonas Boym Flaten, Morten Hjorth-Jensen and Øyvind Sigmundson Schøyen**, Department of Physics and Center for Computing in Science Education, University of Oslo, Norway\n",
    "\n",
    "Date: **May  18, 2022. **"
   ]
  },
  {
   "cell_type": "markdown",
   "id": "02f55f71",
   "metadata": {
    "editable": true
   },
   "source": [
    "## Some of our main interest and expertise\n",
    "\n",
    "* Many-body methods (post-HF and post-DFT) like FCI, Monte Carlo, Many-body perturbation theory, Coupled-Cluster theory,  Similarity Renormalization group theory and Green's function theory\n",
    "\n",
    "* Various dimensionality reduction methods\n",
    "\n",
    "* Quantum Engineering\n",
    "\n",
    "* Quantum algorithms \n",
    "\n",
    "* Quantum Machine Learning"
   ]
  },
  {
   "cell_type": "markdown",
   "id": "a5d96101",
   "metadata": {
    "editable": true
   },
   "source": [
    "## Why? Basic motivation\n",
    "\n",
    "How can we avoid the dimensionality curse? Many possibilities\n",
    "1. smarter basis functions\n",
    "\n",
    "2. resummation of specific correlations\n",
    "\n",
    "3. stochastic sampling of high-lying states (stochastic FCI, CC and SRG/IMSRG)\n",
    "\n",
    "4. many more"
   ]
  },
  {
   "cell_type": "markdown",
   "id": "5524a3c6",
   "metadata": {
    "editable": true
   },
   "source": [
    "## Short background\n",
    "\n",
    "During the last two years we have started a large scientific activity\n",
    "on Quantum Computing and Machine Learning at Michigan State University.\n",
    "\n",
    "This activity spans from the development\n",
    "of quantum-mechanical many-particle theories for studying systems of\n",
    "interest for making quantum computers, via the development of quantum\n",
    "algorithms for solving quantum mechanical problems to exploring\n",
    "quantum machine learning algorithms."
   ]
  },
  {
   "cell_type": "markdown",
   "id": "01a5972d",
   "metadata": {
    "editable": true
   },
   "source": [
    "## Quantum Engineering\n",
    "\n",
    "**Quantum Computing requirements.**\n",
    "\n",
    "1. be scalable\n",
    "\n",
    "2. have qubits that can be entangled\n",
    "\n",
    "3. have reliable initializations protocols to a standard state\n",
    "\n",
    "4. have a set of universal quantum gates to control the quantum evolution\n",
    "\n",
    "5. have a coherence time much longer than the gate operation time\n",
    "\n",
    "6. have a reliable read-out mechanism for measuring the qubit states\n",
    "\n",
    "7. and many more"
   ]
  },
  {
   "cell_type": "markdown",
   "id": "b53ccf47",
   "metadata": {
    "editable": true
   },
   "source": [
    "## Candidate systems\n",
    "\n",
    "1. Superconducting Josephon junctions\n",
    "\n",
    "2. Single photons\n",
    "\n",
    "3. [Trapped ions and atoms](https://journals.aps.org/rmp/pdf/10.1103/RevModPhys.93.025001)\n",
    "\n",
    "4. Nuclear Magnetic Resonance\n",
    "\n",
    "5. **Quantum dots, expt at MSU**\n",
    "\n",
    "6. **Point Defects in semiconductors, expt at UiO**\n",
    "\n",
    "7. more"
   ]
  },
  {
   "cell_type": "markdown",
   "id": "c4cb76c9",
   "metadata": {
    "editable": true
   },
   "source": [
    "## Electrons (quantum dots) on superfluid helium\n",
    "\n",
    "Electrons on [superfluid helium represent](https://www.youtube.com/watch?v=EuDuM-fe-lA&ab_channel=JoshuahHeath) a promising platform for investigating\n",
    "strongly-coupled qubits.\n",
    "\n",
    "Therefore a systematic investigation of the\n",
    "controlled generation of entanglement between two trapped electrons\n",
    "under the influence of coherent microwave driving pulses, taking into\n",
    "account the effects of the Coulomb interaction between electrons, is\n",
    "of significant importance for quantum information processing using\n",
    "trapped electrons."
   ]
  },
  {
   "cell_type": "markdown",
   "id": "dbb3a17a",
   "metadata": {
    "editable": true
   },
   "source": [
    "## Methods and Applications\n",
    "1. Time-Dependent full configuration interaction theory\n",
    "\n",
    "2. Time-dependent Coupled-Cluster theory\n",
    "\n",
    "3. Designing quantum operations and quantum simulators"
   ]
  },
  {
   "cell_type": "markdown",
   "id": "773f1297",
   "metadata": {
    "editable": true
   },
   "source": [
    "## Entanglement\n",
    "\n",
    "[Entanglement](https://link.springer.com/content/pdf/10.1007/s11232-007-0098-9.pdf) is the fundamental characteristic that distinguishes\n",
    "quantum systems composed of two or more coupled objects from their\n",
    "classical counterparts. The study of entanglement in precisely\n",
    "engineered quantum systems with countably many degrees of freedom is\n",
    "at the forefront of modern physics and is a key resource in quantum\n",
    "information science (QIS). This is particularly true in the\n",
    "development of two-qubit logic for quantum computation.\n",
    "\n",
    "The\n",
    "generation of two-qubit entanglement has been demonstrated in a wide\n",
    "variety of physical systems used in present-day quantum computing,\n",
    "including superconducting circuits, tapped\n",
    "ions, semiconductor quantum dots, color-center\n",
    "defects in diamond, and neutral atoms in optical\n",
    "latticesjust to name a few."
   ]
  },
  {
   "cell_type": "markdown",
   "id": "01b3f432",
   "metadata": {
    "editable": true
   },
   "source": [
    "## More on Entanglement\n",
    "\n",
    "Generating an entanglement between two quantum systems rely on\n",
    "exploiting interactions in a controllable way. The details in the\n",
    "interaction Hamiltonian between two systems defines the protocol\n",
    "schemes for two-qubit logic.\n",
    "\n",
    "In  superconducting circuits the\n",
    "interaction between qubits may arise from direct capacitive coupling\n",
    "between circuit elements or by indirect coupling of two qubits to a\n",
    "common resonator (virtually populating resonator mode) which results\n",
    "in a non-local Hamiltonian in the form of exchange\n",
    "interaction. This allow to implement various\n",
    "schemes for entanglement, such as $\\sqrt{i\\text{SWAP}}$, controlled-phase\n",
    "gate, resonator-induced phase\n",
    "gate, cross-resonance gate."
   ]
  },
  {
   "cell_type": "markdown",
   "id": "fca409ab",
   "metadata": {
    "editable": true
   },
   "source": [
    "## Entanglement gates in trapped ions and more\n",
    "\n",
    "Entanglement gates in trapped ions are\n",
    "produced by means of the Coulomb interaction, where shared motional\n",
    "modes of two or more ions, entangled to their internal states, used\n",
    "for transferring excitations between ion\n",
    "qubits. This has been experimentally\n",
    "demonstrated.\n",
    "\n",
    "In photonic quantum\n",
    "computing schemes two-qubit entangling operations are realized by\n",
    "nonlinear interactions between two photons scattering from quantum\n",
    "dots, plasmonic nanowires, diamond vacancy centers and others embedded\n",
    "into waveguides. Two-qubit gates in\n",
    "semiconductor quantum dots are based on spin-spin exchange\n",
    "interactions or generated\n",
    "by coupling to a superconducting resonator via artificial spin-orbit\n",
    "interaction."
   ]
  },
  {
   "cell_type": "markdown",
   "id": "1d2d331e",
   "metadata": {
    "editable": true
   },
   "source": [
    "## Coulomb interaction\n",
    "\n",
    "Coulomb interaction governed entanglement can be realized in\n",
    "the system of electrons on the surface of superfluid helium, where\n",
    "qubit states are formed by in-plane lateral motional or out-of plane\n",
    "Rydberg states. Trapped near the surface of liquid helium these states\n",
    "have different spatial charge configurations and the wavefunctions of\n",
    "different electrons do not overlap.\n",
    "\n",
    "This results in a strong exchange\n",
    "free Coulomb interaction which depends on the states of the\n",
    "electrons. The lack of disorder in the systems\n",
    "also leads to slow electron decoherence, which has attracted interest\n",
    "to the system as a candidate for quantum information\n",
    "processing."
   ]
  },
  {
   "cell_type": "markdown",
   "id": "bf9f865a",
   "metadata": {
    "editable": true
   },
   "source": [
    "## Electrons on helium is another qubit platform\n",
    "\n",
    "**To our knowledge two qubit gates have never been discussed in a proper manner.**\n",
    "\n",
    "The static Coulomb interaction arises from a virtual photon exchange\n",
    " process between two charge particles according to quantum\n",
    " electrodynamics. This results in a correlated motion of two charges\n",
    " generating quantum entanglement."
   ]
  },
  {
   "cell_type": "markdown",
   "id": "76c2d25f",
   "metadata": {
    "editable": true
   },
   "source": [
    "## Surface state electrons (SSE)\n",
    "\n",
    "Surface state electrons (SSE) 'floating' above liquid helium\n",
    "originates from quantization of electron's perpendicular to the\n",
    "surface motion in a trapping potential formed by attractive force from\n",
    "image charge and a large $\\sim$ 1 eV barrier at the liquid-vacuum\n",
    "interface. At low temperatures the SSE are trapped in the lowest\n",
    "Rydberg state for vertical motion some 11 nm above the helium surface,\n",
    "which is perfectly clean and has a permittivity close to that of\n",
    "vacuum.\n",
    "\n",
    "The weak interaction with enviroment, which is mainly governed\n",
    "by interaction with quantized surface capillary waves (ripplons) and\n",
    "bulk phonons, ensures long coherence times - a vital ingredient for\n",
    "any qubit platform. SSE's in-plane motion can be further localized by\n",
    "using microdevices on the length scales approaching the interelectron\n",
    "separation (at the order of one micron)."
   ]
  },
  {
   "cell_type": "markdown",
   "id": "47121cc5",
   "metadata": {
    "editable": true
   },
   "source": [
    "## Typical Setup\n",
    "\n",
    "<!-- dom:FIGURE: [figures/setupfigure.png, width=600 frac=0.6] -->\n",
    "<!-- begin figure -->\n",
    "\n",
    "<img src=\"figures/setupfigure.png\" width=\"600\"><p style=\"font-size: 0.9em\"><i>Figure 1: </i></p>\n",
    "<!-- end figure -->"
   ]
  },
  {
   "cell_type": "markdown",
   "id": "81e443dd",
   "metadata": {
    "editable": true
   },
   "source": [
    "## Computational Methods\n",
    "\n",
    "As we are only studying a model comprised of two electrons restricted to move in a\n",
    "    one-dimensional external potential we have employed the\n",
    "    configuration-interaction theory to compute the steady-state\n",
    "    properties of the system.\n",
    "    We have used a static, one-dimensional, grid-based basis set for the single-particle\n",
    "    functions.\n",
    "    This allows for flexibility in the choice of the external potential, and fits the\n",
    "    interpolated potential particularly well.\n",
    "\n",
    "    The Hamiltonian of $N$ interacting electrons confined by some potential $v(r)$ can be written on general form"
   ]
  },
  {
   "cell_type": "markdown",
   "id": "485dabaf",
   "metadata": {
    "editable": true
   },
   "source": [
    "<!-- Equation labels as ordinary links -->\n",
    "<div id=\"_auto1\"></div>\n",
    "\n",
    "$$\n",
    "\\begin{equation}\n",
    "        \\hat{H} = \\sum_{i=1}^N \\left(-\\frac{1}{2}\\nabla_i^2 + v(r_i) \\right) + \\sum_{i < j} \\hat{u}(r_i, r_j),\n",
    "\\label{_auto1} \\tag{1}\n",
    "\\end{equation}\n",
    "$$"
   ]
  },
  {
   "cell_type": "markdown",
   "id": "5a8e3371",
   "metadata": {
    "editable": true
   },
   "source": [
    "where $\\hat{u}(i,j)$ is the electron-electron (Coulomb) interaction."
   ]
  },
  {
   "cell_type": "markdown",
   "id": "77f50942",
   "metadata": {
    "editable": true
   },
   "source": [
    "## One-dimensional system\n",
    "\n",
    "We consider a one-dimensional model where the confining potential is parametrized/obtained from finite element calculations. \n",
    "\n",
    "    The bare Coulomb interaction is divergent in 1D (REF) and it is customary to use a smoothed Coulomb interaction given by"
   ]
  },
  {
   "cell_type": "markdown",
   "id": "e4797c5f",
   "metadata": {
    "editable": true
   },
   "source": [
    "<!-- Equation labels as ordinary links -->\n",
    "<div id=\"_auto2\"></div>\n",
    "\n",
    "$$\n",
    "\\begin{equation}\n",
    "        u(x_1, x_2) = \\frac{\\alpha}{\\sqrt{(x_1 - x_2)^2 + a^2}},\n",
    "\\label{_auto2} \\tag{2}\n",
    "\\end{equation}\n",
    "$$"
   ]
  },
  {
   "cell_type": "markdown",
   "id": "9a70d332",
   "metadata": {
    "editable": true
   },
   "source": [
    "where $\\alpha$ adjusts the strength of the interaction and $a$ removes\n",
    "    the singularity at $x_1 = x_2$.\n",
    "\n",
    "    The single-particle functions  are chosen as the eigenfunctions of the single-particle Hamiltonian"
   ]
  },
  {
   "cell_type": "markdown",
   "id": "e3154212",
   "metadata": {
    "editable": true
   },
   "source": [
    "<!-- Equation labels as ordinary links -->\n",
    "<div id=\"_auto3\"></div>\n",
    "\n",
    "$$\n",
    "\\begin{equation}\n",
    "        \\left( -\\frac{d^2}{dx^2}+v(x) \\right) \\psi_p(x) = \\epsilon_p \\psi_p(x).\n",
    "\\label{_auto3} \\tag{3}\n",
    "\\end{equation}\n",
    "$$"
   ]
  },
  {
   "cell_type": "markdown",
   "id": "f813a6ee",
   "metadata": {
    "editable": true
   },
   "source": [
    "## Many-particle States\n",
    "\n",
    "It should be noted that this implies that Slater determinants built from the single-particle are eigenfunctions of the non-interacting many-body Hamiltonian"
   ]
  },
  {
   "cell_type": "markdown",
   "id": "09560a55",
   "metadata": {
    "editable": true
   },
   "source": [
    "<!-- Equation labels as ordinary links -->\n",
    "<div id=\"_auto4\"></div>\n",
    "\n",
    "$$\n",
    "\\begin{equation}\n",
    "     \\left( \\sum_{i=1}^N -\\frac{1}{2}\\nabla_i^2 + v(r_i)  \\right) \\vert\\Phi_p\\rangle = E_p \\vert\\Phi_p\\rangle,\n",
    "\\label{_auto4} \\tag{4}\n",
    "\\end{equation}\n",
    "$$"
   ]
  },
  {
   "cell_type": "markdown",
   "id": "8d26ee02",
   "metadata": {
    "editable": true
   },
   "source": [
    "where $\\vert\\Phi_p\\rangle = \\vert\\psi_{p_1\\rangle\\cdots \\psi_{p_N}}$ and"
   ]
  },
  {
   "cell_type": "markdown",
   "id": "293cdb97",
   "metadata": {
    "editable": true
   },
   "source": [
    "<!-- Equation labels as ordinary links -->\n",
    "<div id=\"_auto5\"></div>\n",
    "\n",
    "$$\n",
    "\\begin{equation}\n",
    "        E_p = \\sum_{i=1}^N \\epsilon_{p_i}.\n",
    "\\label{_auto5} \\tag{5}\n",
    "\\end{equation}\n",
    "$$"
   ]
  },
  {
   "cell_type": "markdown",
   "id": "133eab3b",
   "metadata": {
    "editable": true
   },
   "source": [
    "## Setup of States, One-body States\n",
    "\n",
    "<!-- dom:FIGURE: [figures/setupfigure2.png, width=600 frac=1.0] -->\n",
    "<!-- begin figure -->\n",
    "\n",
    "<img src=\"figures/setupfigure2.png\" width=\"600\"><p style=\"font-size: 0.9em\"><i>Figure 1: </i></p>\n",
    "<!-- end figure -->"
   ]
  },
  {
   "cell_type": "markdown",
   "id": "c6ec8872",
   "metadata": {
    "editable": true
   },
   "source": [
    "## Setup of States, Two-body States\n",
    "\n",
    "<!-- dom:FIGURE: [figures/setupfigure3.png, width=600 frac=1.0] -->\n",
    "<!-- begin figure -->\n",
    "\n",
    "<img src=\"figures/setupfigure3.png\" width=\"600\"><p style=\"font-size: 0.9em\"><i>Figure 1: </i></p>\n",
    "<!-- end figure -->"
   ]
  },
  {
   "cell_type": "markdown",
   "id": "10356dc2",
   "metadata": {
    "editable": true
   },
   "source": [
    "## Where we are now\n",
    "\n",
    "1. Time-dependent studies of two electrons in two wells in one dimensions\n",
    "\n",
    "2. Studies of the time-evolution of entangled states (now two electrons only)\n",
    "\n",
    "3. Use theory to find optimal experimental setup\n",
    "\n",
    "4. Expect two-electron system realized experimentally in $1-2$ years"
   ]
  },
  {
   "cell_type": "markdown",
   "id": "176795e1",
   "metadata": {
    "editable": true
   },
   "source": [
    "## Plans\n",
    "\n",
    "1. Add two and three-dimensions\n",
    "\n",
    "2. Develop time-dependent FCI code, useful up to approximately 10-30 particles with **effective** (and effective Hilbert space) Hamiltonians in two and three dimensions\n",
    "\n",
    "3. Particles can be valence particles  or valence holes defined for an effective Hilbert space\n",
    "\n",
    "4. Develop codes for studies of entanglement as function of time\n",
    "\n",
    "5. Study the feasibility of various setups for quantum simulations\n",
    "\n",
    "6. For larger many-body systems, study for example time-dependent CC theory"
   ]
  }
 ],
 "metadata": {},
 "nbformat": 4,
 "nbformat_minor": 5
}
