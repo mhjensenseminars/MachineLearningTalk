{
 "cells": [
  {
   "cell_type": "markdown",
   "id": "b1832d3b",
   "metadata": {
    "editable": true
   },
   "source": [
    "<!-- HTML file automatically generated from DocOnce source (https://github.com/doconce/doconce/)\n",
    "doconce format html UiOdiscussionsMarch4.do.txt --no_mako -->\n",
    "<!-- dom:TITLE: Discussions on SFIs, Machine Learning and Artificial Intelligence, Quantum Technologies and more -->"
   ]
  },
  {
   "cell_type": "markdown",
   "id": "56996171",
   "metadata": {
    "editable": true
   },
   "source": [
    "# Discussions on SFIs, Machine Learning and Artificial Intelligence, Quantum Technologies and more\n",
    "**Department of Physics, UiO**\n",
    "<!-- at Department of Physics and Astronomy and FRIB, Michigan State University, USA, and Department of Physics and Center for Computing in Science Education, -->\n",
    "<!-- University of Oslo, Norway -->\n",
    "\n",
    "Date: **Mar 4, 2024**"
   ]
  },
  {
   "cell_type": "markdown",
   "id": "8c8a4013",
   "metadata": {
    "editable": true
   },
   "source": [
    "## Background\n",
    "\n",
    "The Research Council of Norway released on February 8, 2024, a notice about new centers for innovation.\n",
    "In the [original timeline](https://www.forskningsradet.no/forskningspolitikk-strategi/ltp/kunstig-intelligens/), a tentative deadline for calls was end of February 2024."
   ]
  },
  {
   "cell_type": "markdown",
   "id": "ddd102c6",
   "metadata": {
    "editable": true
   },
   "source": [
    "## Summary from press release Feb 8 (in Norwegian)\n",
    "\n",
    "1. AI-milliarden skal i hovedsak innrettes som utfordringsrettede sentra for kunstig intelligens.\n",
    "\n",
    "2. Det skal utlyses 4-6 femårige, tverrfaglige og tverrsektorielle KI-sentre innenfor en ramme på 850 MNOK. Sentra kan ha ulik størrelse.\n",
    "\n",
    "3. Disponering av resterende midler kan for eksempel omfatte forskerskoler, internasjonalt samarbeid og koordinering.\n",
    "\n",
    "Styret ber administrasjonen og porteføljestyret identifisere muligheter for supplerende finansiering av sentrene og av satsingen.\n",
    "Styret ber administrasjonen foreslå mekanismer for koordinering, dialog, nasjonal og internasjonal synlighet av norsk KI-forskning og KI-innovasjon, og legge dette frem for Styret medio 2024."
   ]
  },
  {
   "cell_type": "markdown",
   "id": "8ac34106",
   "metadata": {
    "editable": true
   },
   "source": [
    "## Three main paths\n",
    "\n",
    "1. Research into the consequences of artificial intelligence and other digital technologies for society. Central themes will be democracy, trust, ethics, economy, legal certainty, legal regulations, privacy, **teaching and learning**, arts and culture.\n",
    "\n",
    "2. Digital technologies as a research area in itself, i.e. **research into artificial intelligence**, **digital security**, **next generation information technologies**, **new sensors and quantum technologies**.\n",
    "\n",
    "3. Research on how digital technologies can be used for **innovation** in business and the public sector and how **artificial intelligence can be used in research in different disciplines**"
   ]
  },
  {
   "cell_type": "markdown",
   "id": "e55e1002",
   "metadata": {
    "editable": true
   },
   "source": [
    "## Educational initiatives and international cooperation\n",
    "\n",
    "In addition to the AI centers, 150 MNOK will go to other things. This\n",
    "can for example include research schools, international cooperations\n",
    "and coordinations."
   ]
  },
  {
   "cell_type": "markdown",
   "id": "709e766b",
   "metadata": {
    "editable": true
   },
   "source": [
    "## What can it be?\n",
    "\n",
    "**Center for Artificial Intelligence and Quantum Technology (CAIQT)**\n",
    "\n",
    "Artificial intelligence and quantum technology are revolutionizing our\n",
    "life and work. They offer enormous advantages for science, economy,\n",
    "politics and civil society.\n",
    "The challenges and opportunities in the field of artificial\n",
    "intelligence and quantum technology call for new kinds of cooperation and new research directions."
   ]
  },
  {
   "cell_type": "markdown",
   "id": "d172d3ec",
   "metadata": {
    "editable": true
   },
   "source": [
    "## Our strengths\n",
    "\n",
    "**Several research activities on AI/ML for the physical sciences.**\n",
    "\n",
    "1. Research, applications and development of new methods in AI/ML\n",
    "\n",
    "2. Research and development of quantum information science/technologies\n",
    "\n",
    "3. Strong educational and training activities across disciplines\n",
    "\n",
    "4. Many national and international collaborations across disciplines\n",
    "\n",
    "* Partners at UiO: Math, Informatics, Chemistry, Bioscience, Geoscience, ITA, DScience\n",
    "\n",
    "* Partners and collaborators outside UiO: CERN, SINTEF, OsloMet, SIMULA, Bank of Norway, DNB,  Norwegian Meteorological Institute and more"
   ]
  },
  {
   "cell_type": "markdown",
   "id": "e950bb2c",
   "metadata": {
    "editable": true
   },
   "source": [
    "## AI/Machine learning. A simple perspective on the interface between ML and Physics\n",
    "\n",
    "<!-- dom:FIGURE: [figures/mlimage.png, width=800 frac=1.0] -->\n",
    "<!-- begin figure -->\n",
    "\n",
    "<img src=\"figures/mlimage.png\" width=\"800\"><p style=\"font-size: 0.9em\"><i>Figure 1: </i></p>\n",
    "<!-- end figure -->"
   ]
  },
  {
   "cell_type": "markdown",
   "id": "98e38077",
   "metadata": {
    "editable": true
   },
   "source": [
    "## AI/ML in Nuclear  Physics (or any field in physics)\n",
    "\n",
    "<!-- dom:FIGURE: [figures/ML-NP.png, width=900 frac=1.0] -->\n",
    "<!-- begin figure -->\n",
    "\n",
    "<img src=\"figures/ML-NP.png\" width=\"900\"><p style=\"font-size: 0.9em\"><i>Figure 1: </i></p>\n",
    "<!-- end figure -->"
   ]
  },
  {
   "cell_type": "markdown",
   "id": "3ec4c592",
   "metadata": {
    "editable": true
   },
   "source": [
    "## AI/ML for the Physical Sciences\n",
    "\n",
    "1. Analyzing data from experiments, see for example from subatomic physics NIMA <https://www.sciencedirect.com/science/article/abs/pii/S0168900221004460?via%3Dihub>\n",
    "\n",
    "2. Research on quantification of uncertainties\n",
    "\n",
    "3. Predicting solid state material platforms for quantum technologies, Nature Computational Materials <https://www.nature.com/articles/s41524-022-00888-3>\n",
    "\n",
    "4. Solving complicated quantum mechanical many-body systems with deep learning\n",
    "\n",
    "5. Developing new ML  algorithms **with applications to quantum computing as well**\n",
    "\n",
    "6. Research on discriminative and generative AI/ML\n",
    "\n",
    "7. Computational Neuroscience"
   ]
  },
  {
   "cell_type": "markdown",
   "id": "8522e082",
   "metadata": {
    "editable": true
   },
   "source": [
    "## Scientific Machine Learning\n",
    "\n",
    "An important and emerging field is what has been dubbed as scientific ML, see the article by Deiana et al \"Applications and Techniques for Fast Machine Learning in Science, Big Data **5**, 787421 (2022):https://doi.org/10.3389/fdata.2022.787421\"\n",
    "\n",
    "The authors discuss applications and techniques for fast machine\n",
    "learning (ML) in science - the concept of integrating power ML\n",
    "methods into the real-time experimental data processing loop to\n",
    "accelerate scientific discovery. The report covers three main areas\n",
    "\n",
    "1. applications for fast ML across a number of scientific domains;\n",
    "\n",
    "2. techniques for training and implementing performant and resource-efficient ML algorithms;\n",
    "\n",
    "3. and computing architectures, platforms, and technologies for deploying these algorithms."
   ]
  },
  {
   "cell_type": "markdown",
   "id": "d6a8192a",
   "metadata": {
    "editable": true
   },
   "source": [
    "## ML for detectors\n",
    "\n",
    "<!-- dom:FIGURE: [figures/detectors.png, width=900 frac=1.0] -->\n",
    "<!-- begin figure -->\n",
    "\n",
    "<img src=\"figures/detectors.png\" width=\"900\"><p style=\"font-size: 0.9em\"><i>Figure 1: </i></p>\n",
    "<!-- end figure -->"
   ]
  },
  {
   "cell_type": "markdown",
   "id": "d7353b10",
   "metadata": {
    "editable": true
   },
   "source": [
    "## Physics informed Machine Learning\n",
    "\n",
    "Another hot topic is what has loosely been dubbed **Physics-informed  deep learning**.\n",
    "\n",
    "It bridges the gap between first-principles based approaches and\n",
    "data-driven approaches. By incorporating physics information, machine\n",
    "learning models are encouraged towards solutions that are also\n",
    "physically meaningful and robust to uncertainties in the data.\n",
    "\n",
    "See the recent work on \"Physics-informed Machine Learning\":https://www.nature.com/articles/s42254-021-00314-5\".\n",
    "\n",
    "**Collaborations.**\n",
    "\n",
    "1. SINTEF\n",
    "\n",
    "2. Norwegian Meteorological Institute\n",
    "\n",
    "3. Simula"
   ]
  },
  {
   "cell_type": "markdown",
   "id": "4920283c",
   "metadata": {
    "editable": true
   },
   "source": [
    "## And more\n",
    "\n",
    "* An important application of AI/ML methods is to improve the estimation of bias or uncertainty due to the introduction of or lack of physical constraints in various theoretical models.\n",
    "\n",
    "* In theory, we expect to use AI/ML algorithms and methods to improve our knowledge about  correlations of physical model parameters in data for quantum many-body systems. Deep learning methods show great promise in circumventing the exploding dimensionalities encountered in quantum mechanical many-body studies. \n",
    "\n",
    "* Merging a frequentist approach (the standard path in ML theory) with a Bayesian approach, has the potential to infer better probabilitity distributions and error estimates. \n",
    "\n",
    "* Machine Learning and Quantum Computing is a very interesting avenue to explore. See for example a recent talk by [Sofia Vallecorsa](https://www.youtube.com/watch?v=7WPKv1Q57os&list=PLUPPQ1TVXK7uHwCTccWMBud-zLyvAf8A2&index=5&ab_channel=ECTstar)."
   ]
  },
  {
   "cell_type": "markdown",
   "id": "22070871",
   "metadata": {
    "editable": true
   },
   "source": [
    "## Quantum technologies: what do we have?\n",
    "\n",
    "1. We have at UiO extensive experimental, computational ad theoretical activities in quantum science and technology\n",
    "\n",
    "2. MiNaLab at UiO is one of the few experimental environments in Norway where we we have a strong research activity on semiconductor based quantum technologies \n",
    "\n",
    "3. Quantum sensing is a very active research direction with potential discoveries"
   ]
  },
  {
   "cell_type": "markdown",
   "id": "902a4ccb",
   "metadata": {
    "editable": true
   },
   "source": [
    "## Five areas of quantum science and technology research in Norway\n",
    "\n",
    "1. Basic quantum science\n",
    "\n",
    "2. Quantum materials\n",
    "\n",
    "3. Quantum sensing\n",
    "\n",
    "4. Quantum communication and cryptography\n",
    "\n",
    "5. Quantum computing"
   ]
  },
  {
   "cell_type": "markdown",
   "id": "727fb1fb",
   "metadata": {
    "editable": true
   },
   "source": [
    "## Main academic institutions and centers for basic quantum science\n",
    "\n",
    "**UiO.**\n",
    "\n",
    "1. Physics and CCSE\n",
    "\n",
    "2. Quantum Chemistry and Hylleraas center\n",
    "\n",
    "**NTNU.**\n",
    "\n",
    "1. Physics and QSpin center\n",
    "\n",
    "UiB? USN?, UiS?"
   ]
  },
  {
   "cell_type": "markdown",
   "id": "8f3ecebc",
   "metadata": {
    "editable": true
   },
   "source": [
    "## Quantum materials\n",
    "\n",
    "**Universities.**\n",
    "\n",
    "1. UiO: SMN, LENS, NAFUMA and structure physics\n",
    "\n",
    "2. NTNU: Physics and QSpin, Department of Electronic Systems\n",
    "\n",
    "**Research institutes and companies (public and private).**\n",
    "\n",
    "1. SINTEF\n",
    "\n",
    "2. Norwegian Metrology Service\n",
    "\n",
    "3. Norwegian Defense Research Establishment and more"
   ]
  },
  {
   "cell_type": "markdown",
   "id": "13685d38",
   "metadata": {
    "editable": true
   },
   "source": [
    "## Quantum sensing\n",
    "\n",
    "**Universities.**\n",
    "\n",
    "1. UiO: SMN, LENS\n",
    "\n",
    "2. USN: Quantum technology group\n",
    "\n",
    "**Research institutes and companies (public and private).**\n",
    "\n",
    "1. SINTEF\n",
    "\n",
    "2. Kongsberg group\n",
    "\n",
    "3. Norwegian Metrology Service\n",
    "\n",
    "4. Norwegian Defense Research Establishment\n",
    "\n",
    "5. Equinor, Tomra, Jotne, Sony and more"
   ]
  },
  {
   "cell_type": "markdown",
   "id": "ddd0c4a7",
   "metadata": {
    "editable": true
   },
   "source": [
    "## Quantum communication and cryptography\n",
    "\n",
    "**Universities.**\n",
    "\n",
    "1. UiO: Math, Physics and LENS\n",
    "\n",
    "2. NTNU: Department of Electronic Systems\n",
    "\n",
    "**Research institutes and companies (public and private).**\n",
    "\n",
    "1. SINTEF\n",
    "\n",
    "2. Simula\n",
    "\n",
    "3. Norwegian Metrology Service\n",
    "\n",
    "4. Norwegian Defense Research Establishment\n",
    "\n",
    "5. IBM, Microsoft and other\n",
    "\n",
    "6. Bank of Norway, DNB, insurance companies and more"
   ]
  },
  {
   "cell_type": "markdown",
   "id": "87b96139",
   "metadata": {
    "editable": true
   },
   "source": [
    "## Quantum computing\n",
    "\n",
    "**Universities.**\n",
    "\n",
    "1. UiO: Math, Physics and CCSE, Quantum Chemistry and Hylleraas\n",
    "\n",
    "2. NTNU: Qspin\n",
    "\n",
    "3. OsloMet\n",
    "\n",
    "**Research institutes and companies (public and private).**\n",
    "\n",
    "1. SINTEF\n",
    "\n",
    "2. Simula\n",
    "\n",
    "3. Norwegian Metrology Service\n",
    "\n",
    "4. Norwegian Defense Research Establishment\n",
    "\n",
    "5. IBM, Microsoft and other\n",
    "\n",
    "6. Bank of Norway, DNB, insurance companies and more"
   ]
  },
  {
   "cell_type": "markdown",
   "id": "8e463692",
   "metadata": {
    "editable": true
   },
   "source": [
    "## Educational strategies\n",
    "\n",
    "1. **New study direction on Quantum technology** in Bachelor program Physis and Astronomy, starts Fall 2024. Three new courses:\n",
    "\n",
    "  * FYS1400 Introduction to Quantum Technologies\n",
    "\n",
    "  * FYS3405/4405 Quantum Materials\n",
    "\n",
    "  * FYS3415/4415 Quantum Computing\n",
    "\n",
    "2. **Developed Master of Science program on Computational Science**, started fall  2018 and many students here work on quantum computing and machine learning\n",
    "\n",
    "3. New study direction in Physics Master on Quantum Science and technologies\n",
    "\n",
    "4. New study direction in Computational Science program on AI and QT\n",
    "\n",
    "5. Developed courses on machine learning, from basic to advanced ones, FYS-STK3155/4155 and FYS5429/9429\n",
    "\n",
    "6. Developed advanced course on quantum computing and quantum machine learning, FYS5419/9419\n",
    "\n",
    "7. Since 2019 organized and taught more than twenty  international schools and intensive courses on quantum computing and machine learning"
   ]
  },
  {
   "cell_type": "markdown",
   "id": "53fbcdba",
   "metadata": {
    "editable": true
   },
   "source": [
    "## Possible questions for discussions\n",
    "\n",
    "1. How do we incorporate these topics in our education?\n",
    "\n",
    "2. More difficult: what are the consequences for universities and our educational mission?"
   ]
  },
  {
   "cell_type": "markdown",
   "id": "75219749",
   "metadata": {
    "editable": true
   },
   "source": [
    "## Education\n",
    "\n",
    "1. Incorporate elements of statistical data analysis and Machine Learning in undergraduate programs\n",
    "\n",
    "2. Develop courses on Machine Learning and statistical data analysis\n",
    "\n",
    "3. Build up a series of courses in Quantum Information Technologies (QIT)\n",
    "\n",
    "4. Modifying contents of present Physics programs or new programs on  Computational Physics and Quantum Technologies\n",
    "\n",
    "a. study direction/option in **quantum technologies**\n",
    "\n",
    "b. study direction/option in **Artificial Intelligence and Machine Learning**\n",
    "\n",
    "c. and more\n",
    "\n",
    "4. Master of Science/PhD programs in Computational and Data Science\n",
    "\n",
    "a. UiO has already MSc programs in CS and DS\n",
    "\n",
    "b. Many other universities are developing or have similar programs"
   ]
  },
  {
   "cell_type": "markdown",
   "id": "df840139",
   "metadata": {
    "editable": true
   },
   "source": [
    "## Important Issues to think of\n",
    "\n",
    "1. Lots of conceptual learning: superposition, entanglement, QIT applications, etc.\n",
    "\n",
    "2. Coding is indispensable. \n",
    "\n",
    "3. Teamwork, project management, and communication are important and highly valued\n",
    "\n",
    "4. Engagement with industry: guest lectures, virtual tours, co-ops, and/or internships."
   ]
  },
  {
   "cell_type": "markdown",
   "id": "4bc85806",
   "metadata": {
    "editable": true
   },
   "source": [
    "## Observations\n",
    "\n",
    "1. Students do not really know what QIT is.\n",
    "\n",
    "2. ML/AI seen as black boxes/magic!\n",
    "\n",
    "3. Students perceive that a graduate degree is necessary to work in QIS. A BSc will help."
   ]
  },
  {
   "cell_type": "markdown",
   "id": "e633857a",
   "metadata": {
    "editable": true
   },
   "source": [
    "## Future Needs/Problems\n",
    "\n",
    "1. There are already  great needs for specialized people (Ph. D. s, postdocs), but also needs of  people with a broad overview of what is possible in ML/AI and/or QIT.\n",
    "\n",
    "2. There are not enough potential employees in AI/ML and QIT . It is a supply gap, not a skills gap.\n",
    "\n",
    "3. A BSc with specialization  is a good place to start\n",
    "\n",
    "4. It is tremendously important to get everyone speaking the same language. Facility with the vernacular of quantum mechanics is a big plus.\n",
    "\n",
    "5. There is a huge list of areas where technical expertise may be important. But employers are often more concerned with attributes like project management, working well in a team, interest in the field, and adaptability than in specific technical skills."
   ]
  }
 ],
 "metadata": {},
 "nbformat": 4,
 "nbformat_minor": 5
}
