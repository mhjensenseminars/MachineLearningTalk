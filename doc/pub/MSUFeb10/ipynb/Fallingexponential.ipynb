{
 "cells": [
  {
   "cell_type": "markdown",
   "metadata": {},
   "source": [
    "# Example: Falling spectrum"
   ]
  },
  {
   "cell_type": "code",
   "execution_count": 1,
   "metadata": {},
   "outputs": [],
   "source": [
    "import numpy as np\n",
    "import matplotlib.pyplot as plt\n",
    "%matplotlib inline"
   ]
  },
  {
   "cell_type": "markdown",
   "metadata": {},
   "source": [
    "## 1. Generate truth, reco, pseudodata"
   ]
  },
  {
   "cell_type": "markdown",
   "metadata": {},
   "source": [
    "Sample 1000 truth events from $f(x) = e^{-x}$ between $1 < x < 5$.\n",
    "\n",
    "The reco samples are produced by smearing the truth by a drawing from a Gaussian distribution with $\\mu=x$, $\\sigma=0.2\\sqrt{x}$."
   ]
  },
  {
   "cell_type": "code",
   "execution_count": 2,
   "metadata": {},
   "outputs": [],
   "source": [
    "# Monte Carlo from transformation method\n",
    "def generate_truth(low, high, size):\n",
    "    rnd = np.random.uniform(1-np.exp(-low),      # 1-exp(-x) is the exp CDF\n",
    "                            1-np.exp(-high),\n",
    "                            size=size)\n",
    "    return -np.log(1-rnd)                        # -log(1-r) is the exp quantile function"
   ]
  },
  {
   "cell_type": "code",
   "execution_count": 3,
   "metadata": {},
   "outputs": [],
   "source": [
    "np.random.seed(5421)\n",
    "\n",
    "truth_bins = np.linspace(1, 5, 20+1)\n",
    "truth_bin_centers = (truth_bins[:-1] + truth_bins[1:]) / 2\n",
    "\n",
    "reco_bins = np.linspace(0.5, 5, 30+1)\n",
    "reco_bin_centers = (reco_bins[:-1] + reco_bins[1:]) / 2\n",
    "\n",
    "N = 1000\n",
    "a = 200.0 # Multiplier to remove statistical fluctuations from response\n",
    "truth_events = generate_truth(1, 5, int(N*a))\n",
    "reco_events = np.random.normal(truth_events, 0.2*np.sqrt(truth_events))\n",
    "\n",
    "truth_hist, be = np.histogram(truth_events, bins=truth_bins)\n",
    "truth_hist = truth_hist / a\n",
    "\n",
    "reco_hist, be = np.histogram(reco_events, bins=reco_bins)\n",
    "reco_hist = reco_hist / a\n",
    "\n",
    "data_hist = np.random.poisson(reco_hist)"
   ]
  },
  {
   "cell_type": "code",
   "execution_count": 4,
   "metadata": {},
   "outputs": [
    {
     "ename": "ModuleNotFoundError",
     "evalue": "No module named 'helpers'",
     "output_type": "error",
     "traceback": [
      "\u001b[0;31m---------------------------------------------------------------------------\u001b[0m",
      "\u001b[0;31mModuleNotFoundError\u001b[0m                       Traceback (most recent call last)",
      "\u001b[0;32m/var/folders/td/3yk470mj5p931p9dtkk0y6jw0000gn/T/ipykernel_45253/512750899.py\u001b[0m in \u001b[0;36m<module>\u001b[0;34m\u001b[0m\n\u001b[0;32m----> 1\u001b[0;31m \u001b[0;32mfrom\u001b[0m \u001b[0mhelpers\u001b[0m \u001b[0;32mimport\u001b[0m \u001b[0mplot_hist\u001b[0m\u001b[0;34m\u001b[0m\u001b[0;34m\u001b[0m\u001b[0m\n\u001b[0m\u001b[1;32m      2\u001b[0m \u001b[0mplt\u001b[0m\u001b[0;34m.\u001b[0m\u001b[0mfigure\u001b[0m\u001b[0;34m(\u001b[0m\u001b[0mfigsize\u001b[0m\u001b[0;34m=\u001b[0m\u001b[0;34m(\u001b[0m\u001b[0;36m6\u001b[0m\u001b[0;34m,\u001b[0m\u001b[0;36m4.5\u001b[0m\u001b[0;34m)\u001b[0m\u001b[0;34m)\u001b[0m\u001b[0;34m\u001b[0m\u001b[0;34m\u001b[0m\u001b[0m\n\u001b[1;32m      3\u001b[0m \u001b[0mplot_hist\u001b[0m\u001b[0;34m(\u001b[0m\u001b[0mnp\u001b[0m\u001b[0;34m.\u001b[0m\u001b[0mappend\u001b[0m\u001b[0;34m(\u001b[0m\u001b[0;34m[\u001b[0m\u001b[0;36m0\u001b[0m\u001b[0;34m]\u001b[0m\u001b[0;34m,\u001b[0m \u001b[0mtruth_hist\u001b[0m\u001b[0;34m)\u001b[0m\u001b[0;34m,\u001b[0m \u001b[0mnp\u001b[0m\u001b[0;34m.\u001b[0m\u001b[0mappend\u001b[0m\u001b[0;34m(\u001b[0m\u001b[0;34m[\u001b[0m\u001b[0;36m0.5\u001b[0m\u001b[0;34m]\u001b[0m\u001b[0;34m,\u001b[0m \u001b[0mtruth_bins\u001b[0m\u001b[0;34m)\u001b[0m\u001b[0;34m,\u001b[0m \u001b[0mhas_overflow\u001b[0m\u001b[0;34m=\u001b[0m\u001b[0;32mFalse\u001b[0m\u001b[0;34m,\u001b[0m \u001b[0mcolor\u001b[0m\u001b[0;34m=\u001b[0m\u001b[0;34m'k'\u001b[0m\u001b[0;34m,\u001b[0m \u001b[0mlw\u001b[0m\u001b[0;34m=\u001b[0m\u001b[0;36m1\u001b[0m\u001b[0;34m,\u001b[0m \u001b[0mzorder\u001b[0m\u001b[0;34m=\u001b[0m\u001b[0;36m0\u001b[0m\u001b[0;34m,\u001b[0m \u001b[0mlabel\u001b[0m\u001b[0;34m=\u001b[0m\u001b[0;34m'$\\mathbf{\\mu}$'\u001b[0m\u001b[0;34m)\u001b[0m\u001b[0;34m\u001b[0m\u001b[0;34m\u001b[0m\u001b[0m\n\u001b[1;32m      4\u001b[0m \u001b[0mplot_hist\u001b[0m\u001b[0;34m(\u001b[0m\u001b[0mreco_hist\u001b[0m\u001b[0;34m,\u001b[0m \u001b[0mreco_bins\u001b[0m\u001b[0;34m,\u001b[0m \u001b[0mhas_overflow\u001b[0m\u001b[0;34m=\u001b[0m\u001b[0;32mFalse\u001b[0m\u001b[0;34m,\u001b[0m \u001b[0mcolor\u001b[0m\u001b[0;34m=\u001b[0m\u001b[0;34m'k'\u001b[0m\u001b[0;34m,\u001b[0m \u001b[0mlw\u001b[0m\u001b[0;34m=\u001b[0m\u001b[0;36m1\u001b[0m\u001b[0;34m,\u001b[0m \u001b[0mls\u001b[0m\u001b[0;34m=\u001b[0m\u001b[0;34m'--'\u001b[0m\u001b[0;34m,\u001b[0m \u001b[0mzorder\u001b[0m\u001b[0;34m=\u001b[0m\u001b[0;36m1\u001b[0m\u001b[0;34m,\u001b[0m \u001b[0mlabel\u001b[0m\u001b[0;34m=\u001b[0m\u001b[0;34mr'$\\mathbf{\\nu}$'\u001b[0m\u001b[0;34m)\u001b[0m\u001b[0;34m\u001b[0m\u001b[0;34m\u001b[0m\u001b[0m\n\u001b[1;32m      5\u001b[0m \u001b[0mplt\u001b[0m\u001b[0;34m.\u001b[0m\u001b[0merrorbar\u001b[0m\u001b[0;34m(\u001b[0m\u001b[0mreco_bin_centers\u001b[0m\u001b[0;34m,\u001b[0m \u001b[0mdata_hist\u001b[0m\u001b[0;34m,\u001b[0m \u001b[0myerr\u001b[0m\u001b[0;34m=\u001b[0m\u001b[0mnp\u001b[0m\u001b[0;34m.\u001b[0m\u001b[0msqrt\u001b[0m\u001b[0;34m(\u001b[0m\u001b[0mdata_hist\u001b[0m\u001b[0;34m)\u001b[0m\u001b[0;34m,\u001b[0m \u001b[0mfmt\u001b[0m\u001b[0;34m=\u001b[0m\u001b[0;34m'ok'\u001b[0m\u001b[0;34m,\u001b[0m \u001b[0mms\u001b[0m\u001b[0;34m=\u001b[0m\u001b[0;36m3\u001b[0m\u001b[0;34m,\u001b[0m \u001b[0mcapsize\u001b[0m\u001b[0;34m=\u001b[0m\u001b[0;36m2\u001b[0m\u001b[0;34m,\u001b[0m \u001b[0mlw\u001b[0m\u001b[0;34m=\u001b[0m\u001b[0;36m1\u001b[0m\u001b[0;34m,\u001b[0m \u001b[0mzorder\u001b[0m\u001b[0;34m=\u001b[0m\u001b[0;36m2\u001b[0m\u001b[0;34m,\u001b[0m \u001b[0mlabel\u001b[0m\u001b[0;34m=\u001b[0m\u001b[0;34m'$\\mathbf{n}$'\u001b[0m\u001b[0;34m)\u001b[0m\u001b[0;34m\u001b[0m\u001b[0;34m\u001b[0m\u001b[0m\n",
      "\u001b[0;31mModuleNotFoundError\u001b[0m: No module named 'helpers'"
     ]
    }
   ],
   "source": [
    "from helpers import plot_hist\n",
    "plt.figure(figsize=(6,4.5))\n",
    "plot_hist(np.append([0], truth_hist), np.append([0.5], truth_bins), has_overflow=False, color='k', lw=1, zorder=0, label='$\\mathbf{\\mu}$')\n",
    "plot_hist(reco_hist, reco_bins, has_overflow=False, color='k', lw=1, ls='--', zorder=1, label=r'$\\mathbf{\\nu}$')\n",
    "plt.errorbar(reco_bin_centers, data_hist, yerr=np.sqrt(data_hist), fmt='ok', ms=3, capsize=2, lw=1, zorder=2, label='$\\mathbf{n}$')\n",
    "plt.legend(frameon=False)\n",
    "plt.xlabel('x')\n",
    "plt.ylabel('Events per bin')\n",
    "plt.show()"
   ]
  },
  {
   "cell_type": "markdown",
   "metadata": {},
   "source": [
    "## 2. Response matrix"
   ]
  },
  {
   "cell_type": "code",
   "execution_count": 5,
   "metadata": {},
   "outputs": [],
   "source": [
    "def response_matrix(truth, reco):\n",
    "    r = np.histogram2d(reco, truth, bins=(reco_bins, truth_bins))[0]\n",
    "    norm = r.sum(axis=0, keepdims=True)\n",
    "    return r / norm\n",
    "\n",
    "R = response_matrix(truth_events, reco_events)"
   ]
  },
  {
   "cell_type": "code",
   "execution_count": 6,
   "metadata": {},
   "outputs": [
    {
     "data": {
      "image/png": "[encoded data removed]",
      "text/plain": [
       "<Figure size 432x288 with 2 Axes>"
      ]
     },
     "metadata": {},
     "output_type": "display_data"
    }
   ],
   "source": [
    "plt.imshow(R.T[1:-1,1:-1], cmap='Blues', origin='lower', extent=(0,1,0,1))\n",
    "plt.colorbar()\n",
    "plt.title('Response matrix')\n",
    "plt.xlabel('Reco $x$')\n",
    "plt.ylabel('True $x$')\n",
    "plt.show()"
   ]
  },
  {
   "cell_type": "markdown",
   "metadata": {},
   "source": [
    "## 3. ML estimator"
   ]
  },
  {
   "cell_type": "markdown",
   "metadata": {},
   "source": [
    "Since $M \\neq N$, $R$ is not invertable. Therefore we solve for the ML estimator as the argmax of the likelihood (minimum of negative log-likelihood)."
   ]
  },
  {
   "cell_type": "code",
   "execution_count": 7,
   "metadata": {},
   "outputs": [],
   "source": [
    "from iminuit import Minuit\n",
    "from iminuit.util import make_func_code\n",
    "\n",
    "from helpers import hist2args, vals2hist, cov2array\n",
    "\n",
    "# See https://iminuit.readthedocs.io/en/latest/api.html#minuit\n",
    "class NLL(object):\n",
    "    def __init__(self):\n",
    "        params = ['bin_{}'.format(i+1) for i in range(len(truth_bins)-1)]\n",
    "        self.func_defaults = None\n",
    "        self.func_code = make_func_code(params)\n",
    "        \n",
    "    def default_errordef(self):\n",
    "        return 0.5\n",
    "        \n",
    "    def __call__(self, *args):\n",
    "        mu = np.array(args, dtype=float)\n",
    "        nu = np.dot(R, mu)\n",
    "        if np.any(nu < 0):\n",
    "            return 1e12\n",
    "        vec = data_hist * np.log(nu/data_hist) - nu + data_hist\n",
    "        return -np.sum(vec)"
   ]
  },
  {
   "cell_type": "code",
   "execution_count": 8,
   "metadata": {},
   "outputs": [
    {
     "data": {
      "text/html": [
       "<hr>"
      ]
     },
     "metadata": {},
     "output_type": "display_data"
    },
    {
     "data": {
      "text/html": [
       "\n",
       "        <table>\n",
       "            <tr>\n",
       "                <td title=\"Minimum value of function\">FCN = 2.00332383124</td>\n",
       "                <td title=\"Total number of call to FCN so far\">TOTAL NCALL = 2784</td>\n",
       "                <td title=\"Number of call in last migrad\">NCALLS = 2784</td>\n",
       "            </tr>\n",
       "            <tr>\n",
       "                <td title=\"Estimated distance to minimum\">EDM = 4.95984069854e-05</td>\n",
       "                <td title=\"Maximum EDM definition of convergence\">GOAL EDM = 5e-06</td>\n",
       "                <td title=\"Error def. Amount of increase in FCN to be defined as 1 standard deviation\">\n",
       "                UP = 0.5</td>\n",
       "            </tr>\n",
       "        </table>\n",
       "        \n",
       "        <table>\n",
       "            <tr>\n",
       "                <td align=\"center\" title=\"Validity of the migrad call\">Valid</td>\n",
       "                <td align=\"center\" title=\"Validity of parameters\">Valid Param</td>\n",
       "                <td align=\"center\" title=\"Is Covariance matrix accurate?\">Accurate Covar</td>\n",
       "                <td align=\"center\" title=\"Positive definiteness of covariance matrix\">PosDef</td>\n",
       "                <td align=\"center\" title=\"Was covariance matrix made posdef by adding diagonal element\">Made PosDef</td>\n",
       "            </tr>\n",
       "            <tr>\n",
       "                <td align=\"center\" style=\"background-color:#92CCA6\">True</td>\n",
       "                <td align=\"center\" style=\"background-color:#92CCA6\">True</td>\n",
       "                <td align=\"center\" style=\"background-color:#92CCA6\">True</td>\n",
       "                <td align=\"center\" style=\"background-color:#92CCA6\">True</td>\n",
       "                <td align=\"center\" style=\"background-color:#92CCA6\">False</td>\n",
       "            </tr>\n",
       "            <tr>\n",
       "                <td align=\"center\" title=\"Was last hesse call fail?\">Hesse Fail</td>\n",
       "                <td align=\"center\" title=\"Validity of covariance\">HasCov</td>\n",
       "                <td align=\"center\" title=\"Is EDM above goal EDM?\">Above EDM</td>\n",
       "                <td align=\"center\"></td>\n",
       "                <td align=\"center\" title=\"Did last migrad call reach max call limit?\">Reach calllim</td>\n",
       "            </tr>\n",
       "            <tr>\n",
       "                <td align=\"center\" style=\"background-color:#92CCA6\">False</td>\n",
       "                <td align=\"center\" style=\"background-color:#92CCA6\">True</td>\n",
       "                <td align=\"center\" style=\"background-color:#92CCA6\">False</td>\n",
       "                <td align=\"center\"></td>\n",
       "                <td align=\"center\" style=\"background-color:#92CCA6\">False</td>\n",
       "            </tr>\n",
       "        </table>\n",
       "        "
      ]
     },
     "metadata": {},
     "output_type": "display_data"
    },
    {
     "data": {
      "text/html": [
       "\n",
       "        <table>\n",
       "            <tr>\n",
       "                <td><a href=\"#\" onclick=\"$('#gosxuWmHsX').toggle()\">+</a></td>\n",
       "                <td title=\"Variable name\">Name</td>\n",
       "                <td title=\"Value of parameter\">Value</td>\n",
       "                <td title=\"Parabolic error\">Parab Error</td>\n",
       "                <td title=\"Minos lower error\">Minos Error-</td>\n",
       "                <td title=\"Minos upper error\">Minos Error+</td>\n",
       "                <td title=\"Lower limit of the parameter\">Limit-</td>\n",
       "                <td title=\"Upper limit of the parameter\">Limit+</td>\n",
       "                <td title=\"Is the parameter fixed in the fit\">FIXED</td>\n",
       "            </tr>\n",
       "        \n",
       "            <tr>\n",
       "                <td>1</td>\n",
       "                <td>bin_1</td>\n",
       "                <td>134.13</td>\n",
       "                <td>56.9249</td>\n",
       "                <td>0</td>\n",
       "                <td>0</td>\n",
       "                <td></td>\n",
       "                <td></td>\n",
       "                <td></td>\n",
       "            </tr>\n",
       "            \n",
       "            <tr>\n",
       "                <td>2</td>\n",
       "                <td>bin_2</td>\n",
       "                <td>343.451</td>\n",
       "                <td>195.3</td>\n",
       "                <td>0</td>\n",
       "                <td>0</td>\n",
       "                <td></td>\n",
       "                <td></td>\n",
       "                <td></td>\n",
       "            </tr>\n",
       "            \n",
       "            <tr>\n",
       "                <td>3</td>\n",
       "                <td>bin_3</td>\n",
       "                <td>-161.341</td>\n",
       "                <td>375.833</td>\n",
       "                <td>0</td>\n",
       "                <td>0</td>\n",
       "                <td></td>\n",
       "                <td></td>\n",
       "                <td></td>\n",
       "            </tr>\n",
       "            \n",
       "            <tr>\n",
       "                <td>4</td>\n",
       "                <td>bin_4</td>\n",
       "                <td>325.117</td>\n",
       "                <td>483.199</td>\n",
       "                <td>0</td>\n",
       "                <td>0</td>\n",
       "                <td></td>\n",
       "                <td></td>\n",
       "                <td></td>\n",
       "            </tr>\n",
       "            \n",
       "            <tr>\n",
       "                <td>5</td>\n",
       "                <td>bin_5</td>\n",
       "                <td>104.258</td>\n",
       "                <td>475.669</td>\n",
       "                <td>0</td>\n",
       "                <td>0</td>\n",
       "                <td></td>\n",
       "                <td></td>\n",
       "                <td></td>\n",
       "            </tr>\n",
       "            \n",
       "            <tr>\n",
       "                <td>6</td>\n",
       "                <td>bin_6</td>\n",
       "                <td>-124.455</td>\n",
       "                <td>499.706</td>\n",
       "                <td>0</td>\n",
       "                <td>0</td>\n",
       "                <td></td>\n",
       "                <td></td>\n",
       "                <td></td>\n",
       "            </tr>\n",
       "            \n",
       "            <tr>\n",
       "                <td>7</td>\n",
       "                <td>bin_7</td>\n",
       "                <td>217.744</td>\n",
       "                <td>510.949</td>\n",
       "                <td>0</td>\n",
       "                <td>0</td>\n",
       "                <td></td>\n",
       "                <td></td>\n",
       "                <td></td>\n",
       "            </tr>\n",
       "            \n",
       "            <tr>\n",
       "                <td>8</td>\n",
       "                <td>bin_8</td>\n",
       "                <td>-44.233</td>\n",
       "                <td>393.79</td>\n",
       "                <td>0</td>\n",
       "                <td>0</td>\n",
       "                <td></td>\n",
       "                <td></td>\n",
       "                <td></td>\n",
       "            </tr>\n",
       "            \n",
       "            <tr>\n",
       "                <td>9</td>\n",
       "                <td>bin_9</td>\n",
       "                <td>159.32</td>\n",
       "                <td>273.789</td>\n",
       "                <td>0</td>\n",
       "                <td>0</td>\n",
       "                <td></td>\n",
       "                <td></td>\n",
       "                <td></td>\n",
       "            </tr>\n",
       "            \n",
       "            <tr>\n",
       "                <td>10</td>\n",
       "                <td>bin_10</td>\n",
       "                <td>-174.059</td>\n",
       "                <td>274.055</td>\n",
       "                <td>0</td>\n",
       "                <td>0</td>\n",
       "                <td></td>\n",
       "                <td></td>\n",
       "                <td></td>\n",
       "            </tr>\n",
       "            \n",
       "            <tr>\n",
       "                <td>11</td>\n",
       "                <td>bin_11</td>\n",
       "                <td>3.28482</td>\n",
       "                <td>324.732</td>\n",
       "                <td>0</td>\n",
       "                <td>0</td>\n",
       "                <td></td>\n",
       "                <td></td>\n",
       "                <td></td>\n",
       "            </tr>\n",
       "            \n",
       "            <tr>\n",
       "                <td>12</td>\n",
       "                <td>bin_12</td>\n",
       "                <td>402.943</td>\n",
       "                <td>356.294</td>\n",
       "                <td>0</td>\n",
       "                <td>0</td>\n",
       "                <td></td>\n",
       "                <td></td>\n",
       "                <td></td>\n",
       "            </tr>\n",
       "            \n",
       "            <tr>\n",
       "                <td>13</td>\n",
       "                <td>bin_13</td>\n",
       "                <td>-312.909</td>\n",
       "                <td>283.393</td>\n",
       "                <td>0</td>\n",
       "                <td>0</td>\n",
       "                <td></td>\n",
       "                <td></td>\n",
       "                <td></td>\n",
       "            </tr>\n",
       "            \n",
       "            <tr>\n",
       "                <td>14</td>\n",
       "                <td>bin_14</td>\n",
       "                <td>-107.985</td>\n",
       "                <td>202.131</td>\n",
       "                <td>0</td>\n",
       "                <td>0</td>\n",
       "                <td></td>\n",
       "                <td></td>\n",
       "                <td></td>\n",
       "            </tr>\n",
       "            \n",
       "            <tr>\n",
       "                <td>15</td>\n",
       "                <td>bin_15</td>\n",
       "                <td>296.772</td>\n",
       "                <td>215.789</td>\n",
       "                <td>0</td>\n",
       "                <td>0</td>\n",
       "                <td></td>\n",
       "                <td></td>\n",
       "                <td></td>\n",
       "            </tr>\n",
       "            \n",
       "            <tr>\n",
       "                <td>16</td>\n",
       "                <td>bin_16</td>\n",
       "                <td>3.21612</td>\n",
       "                <td>86.5562</td>\n",
       "                <td>0</td>\n",
       "                <td>0</td>\n",
       "                <td></td>\n",
       "                <td></td>\n",
       "                <td></td>\n",
       "            </tr>\n",
       "            \n",
       "            <tr>\n",
       "                <td>17</td>\n",
       "                <td>bin_17</td>\n",
       "                <td>-62.4483</td>\n",
       "                <td>156.176</td>\n",
       "                <td>0</td>\n",
       "                <td>0</td>\n",
       "                <td></td>\n",
       "                <td></td>\n",
       "                <td></td>\n",
       "            </tr>\n",
       "            \n",
       "            <tr>\n",
       "                <td>18</td>\n",
       "                <td>bin_18</td>\n",
       "                <td>-22.227</td>\n",
       "                <td>82.069</td>\n",
       "                <td>0</td>\n",
       "                <td>0</td>\n",
       "                <td></td>\n",
       "                <td></td>\n",
       "                <td></td>\n",
       "            </tr>\n",
       "            \n",
       "            <tr>\n",
       "                <td>19</td>\n",
       "                <td>bin_19</td>\n",
       "                <td>-85.788</td>\n",
       "                <td>73.5221</td>\n",
       "                <td>0</td>\n",
       "                <td>0</td>\n",
       "                <td></td>\n",
       "                <td></td>\n",
       "                <td></td>\n",
       "            </tr>\n",
       "            \n",
       "            <tr>\n",
       "                <td>20</td>\n",
       "                <td>bin_20</td>\n",
       "                <td>111.273</td>\n",
       "                <td>62.584</td>\n",
       "                <td>0</td>\n",
       "                <td>0</td>\n",
       "                <td></td>\n",
       "                <td></td>\n",
       "                <td></td>\n",
       "            </tr>\n",
       "            \n",
       "            </table>\n",
       "        \n",
       "            <pre id=\"gosxuWmHsX\" style=\"display:none;\">\n",
       "            <textarea rows=\"46\" cols=\"50\" onclick=\"this.select()\" readonly>\\begin{tabular}{|c|r|r|r|r|r|r|r|c|}\n",
       "\\hline\n",
       " & Name & Value & Para Error & Error+ & Error- & Limit+ & Limit- & FIXED\\\\\n",
       "\\hline\n",
       "1 & $bin_{1}$ & 1.341e+02 & 5.692e+01 &  &  &  &  & \\\\\n",
       "\\hline\n",
       "2 & $bin_{2}$ & 3.435e+02 & 1.953e+02 &  &  &  &  & \\\\\n",
       "\\hline\n",
       "3 & $bin_{3}$ & -1.613e+02 & 3.758e+02 &  &  &  &  & \\\\\n",
       "\\hline\n",
       "4 & $bin_{4}$ & 3.251e+02 & 4.832e+02 &  &  &  &  & \\\\\n",
       "\\hline\n",
       "5 & $bin_{5}$ & 1.043e+02 & 4.757e+02 &  &  &  &  & \\\\\n",
       "\\hline\n",
       "6 & $bin_{6}$ & -1.245e+02 & 4.997e+02 &  &  &  &  & \\\\\n",
       "\\hline\n",
       "7 & $bin_{7}$ & 2.177e+02 & 5.109e+02 &  &  &  &  & \\\\\n",
       "\\hline\n",
       "8 & $bin_{8}$ & -4.423e+01 & 3.938e+02 &  &  &  &  & \\\\\n",
       "\\hline\n",
       "9 & $bin_{9}$ & 1.593e+02 & 2.738e+02 &  &  &  &  & \\\\\n",
       "\\hline\n",
       "10 & $bin_{10}$ & -1.741e+02 & 2.741e+02 &  &  &  &  & \\\\\n",
       "\\hline\n",
       "11 & $bin_{11}$ & 3.285e+00 & 3.247e+02 &  &  &  &  & \\\\\n",
       "\\hline\n",
       "12 & $bin_{12}$ & 4.029e+02 & 3.563e+02 &  &  &  &  & \\\\\n",
       "\\hline\n",
       "13 & $bin_{13}$ & -3.129e+02 & 2.834e+02 &  &  &  &  & \\\\\n",
       "\\hline\n",
       "14 & $bin_{14}$ & -1.080e+02 & 2.021e+02 &  &  &  &  & \\\\\n",
       "\\hline\n",
       "15 & $bin_{15}$ & 2.968e+02 & 2.158e+02 &  &  &  &  & \\\\\n",
       "\\hline\n",
       "16 & $bin_{16}$ & 3.216e+00 & 8.656e+01 &  &  &  &  & \\\\\n",
       "\\hline\n",
       "17 & $bin_{17}$ & -6.245e+01 & 1.562e+02 &  &  &  &  & \\\\\n",
       "\\hline\n",
       "18 & $bin_{18}$ & -2.223e+01 & 8.207e+01 &  &  &  &  & \\\\\n",
       "\\hline\n",
       "19 & $bin_{19}$ & -8.579e+01 & 7.352e+01 &  &  &  &  & \\\\\n",
       "\\hline\n",
       "20 & $bin_{20}$ & 1.113e+02 & 6.258e+01 &  &  &  &  & \\\\\n",
       "\\hline\n",
       "\\end{tabular}</textarea>\n",
       "            </pre>\n",
       "            "
      ]
     },
     "metadata": {},
     "output_type": "display_data"
    },
    {
     "data": {
      "text/html": [
       "<hr>"
      ]
     },
     "metadata": {},
     "output_type": "display_data"
    }
   ],
   "source": [
    "nll = NLL()\n",
    "minuit = Minuit(nll, **hist2args(data_hist[:20]))\n",
    "migrad = minuit.migrad()\n",
    "mu, std = vals2hist(minuit)\n",
    "cov = cov2array(minuit)"
   ]
  },
  {
   "cell_type": "code",
   "execution_count": 9,
   "metadata": {},
   "outputs": [
    {
     "name": "stdout",
     "output_type": "stream",
     "text": [
      "ML estimator: [ 134.12973242  343.45143291 -161.34091522  325.11653498  104.2582672\n",
      " -124.45543663  217.74380757  -44.23296181  159.32023526 -174.05936969\n",
      "    3.28481529  402.94271952 -312.90866093 -107.98546172  296.77162083\n",
      "    3.21611993  -62.44833663  -22.22698607  -85.78799241  111.27291337]\n",
      "ML covariance:\n"
     ]
    },
    {
     "data": {
      "image/png": "[encoded data removed]",
      "text/plain": [
       "<Figure size 432x288 with 1 Axes>"
      ]
     },
     "metadata": {},
     "output_type": "display_data"
    }
   ],
   "source": [
    "print \"ML estimator: %s\" % mu\n",
    "print \"ML covariance:\"\n",
    "plt.imshow(cov)\n",
    "plt.show()"
   ]
  },
  {
   "cell_type": "markdown",
   "metadata": {},
   "source": [
    "## 4. Gaussian Process MAP estimator"
   ]
  },
  {
   "cell_type": "code",
   "execution_count": 10,
   "metadata": {},
   "outputs": [],
   "source": [
    "X = truth_bin_centers.reshape(-1, 1)"
   ]
  },
  {
   "cell_type": "markdown",
   "metadata": {},
   "source": [
    "Define the kernel function. These can be swapped below to investigate the effect of changing the kernel."
   ]
  },
  {
   "cell_type": "code",
   "execution_count": 11,
   "metadata": {},
   "outputs": [],
   "source": [
    "def tikhonovKernel(a, b, params):\n",
    "    R = Xtrain[-1] - Xtrain[0] + np.finfo(float).eps # Maximum difference\n",
    "    r = a - b.T\n",
    "    return (2*np.abs(r)**3 - 3*R*(r**2) + R**3) * (np.exp(params)/12)\n",
    "\n",
    "def sqExpKernel(a, b, params):\n",
    "    amp, param = params\n",
    "    sqdist = np.sum(a**2, 1).reshape(-1, 1) + np.sum(b**2, 1) - 2*np.dot(a, b.T)\n",
    "    return np.exp(amp) * np.exp(-.5 * (1/param) * sqdist)\n",
    "\n",
    "def gibbsKernel(a, b, params):\n",
    "    A, t1, t2 = params\n",
    "    length = lambda x: t1*x + t2\n",
    "    sqdist = np.sum(a**2, 1).reshape(-1, 1) + np.sum(b**2, 1) - 2*np.dot(a, b.T)\n",
    "    norm = np.sqrt(2 * length(a) * length(b.T) / (length(a)**2 + length(b.T)**2))\n",
    "    return np.exp(A) * norm * np.exp(-sqdist/(length(a)**2 + length(b.T)**2))\n",
    "\n",
    "def gibbsKernel2(a, b, params):\n",
    "    A, t1, t2, p1, p2 = params\n",
    "    length = lambda x: t1*x + t2\n",
    "    sqdist = np.sum(a**2, 1).reshape(-1, 1) + np.sum(b**2, 1) - 2*np.dot(a, b.T)\n",
    "    norm = np.sqrt(2 * length(a) * length(b.T) / (length(a)**2 + length(b.T)**2))\n",
    "    amp = A * np.exp((p1 - a - b.T)/(2*p2))\n",
    "    return amp * norm * np.exp(-sqdist/(length(a)**2 + length(b.T)**2))"
   ]
  },
  {
   "cell_type": "markdown",
   "metadata": {},
   "source": [
    "### 4.1. Optimise kernel parameters\n",
    "\n",
    "Optimise the kernel parameters by minimising the negative log marginal likelihood, given by $$-\\log L \\sim  \\mu_{ML}^T[K+U_{ML}]^{-1} \\mu_{ML} + \\log[ \\det (K+U_{ML}) ] + \\ldots$$ to find the kernel parameters."
   ]
  },
  {
   "cell_type": "code",
   "execution_count": 12,
   "metadata": {},
   "outputs": [],
   "source": [
    "from scipy.linalg import solve\n",
    "\n",
    "def marginal_llh(params, kernel=gibbsKernel):\n",
    "    K = kernel(X, X, params)\n",
    "    if np.isnan(K).any():\n",
    "        return 1e12\n",
    "    alpha = solve(K + cov, mu)\n",
    "    return np.dot(mu, alpha) + np.log(np.linalg.det(K+cov))"
   ]
  },
  {
   "cell_type": "code",
   "execution_count": 13,
   "metadata": {},
   "outputs": [
    {
     "name": "stdout",
     "output_type": "stream",
     "text": [
      "      fun: 200.59726851066546\n",
      " hess_inv: <3x3 LbfgsInvHessProduct with dtype=float64>\n",
      "      jac: array([-8.12008238e-03,  9.66338121e-05,  1.81898940e-04])\n",
      "  message: 'CONVERGENCE: REL_REDUCTION_OF_F_<=_FACTR*EPSMCH'\n",
      "     nfev: 164\n",
      "      nit: 25\n",
      "   status: 0\n",
      "  success: True\n",
      "        x: array([  9.44133959, 170.94503702, -91.32196314])\n"
     ]
    }
   ],
   "source": [
    "from scipy.optimize import minimize\n",
    "\n",
    "kernel = gibbsKernel\n",
    "x0 = [10, 1, 1]\n",
    "res = minimize(marginal_llh, x0, method='L-BFGS-B', args=(kernel))\n",
    "print(res)"
   ]
  },
  {
   "cell_type": "markdown",
   "metadata": {},
   "source": [
    "### 4.2. Find MAP estimator\n",
    "The GP MAP estimator (with zero mean function) is given by $$ \\mu = K[K+U_{ML}]^{-1} \\mu_{ML} $$ and covariance $$U = K - K[K+U_{ML}]^{-1}K$$"
   ]
  },
  {
   "cell_type": "code",
   "execution_count": 14,
   "metadata": {},
   "outputs": [],
   "source": [
    "def GP_predict(params, kernel=gibbsKernel):\n",
    "    K = kernel(X, X, params)\n",
    "    alpha = solve(K + cov, mu)\n",
    "    mu_gp = np.dot(K, alpha)\n",
    "    cov_gp = K - np.dot(K, solve(K+cov, K))\n",
    "    return mu_gp, cov_gp"
   ]
  },
  {
   "cell_type": "code",
   "execution_count": 15,
   "metadata": {},
   "outputs": [],
   "source": [
    "mu_gp, cov_gp = GP_predict(res.x, kernel)\n",
    "std_gp = np.sqrt(np.diag(cov_gp))"
   ]
  },
  {
   "cell_type": "code",
   "execution_count": 16,
   "metadata": {},
   "outputs": [
    {
     "data": {
      "image/png": "[encoded data removed]",
      "text/plain": [
       "<Figure size 432x324 with 1 Axes>"
      ]
     },
     "metadata": {},
     "output_type": "display_data"
    }
   ],
   "source": [
    "plt.figure(figsize=(6,4.5))\n",
    "plot_hist(np.append([0], truth_hist), np.append([0.5], truth_bins), has_overflow=False, label='$\\mathbf{\\mu}$', c='k', lw=1, zorder=0)\n",
    "plt.errorbar(truth_bin_centers, mu_gp, yerr=std_gp, fmt='^k', ms=4, capsize=2, lw=1, label='$\\hat\\mathbf{\\mu}$')\n",
    "plt.legend(frameon=False)\n",
    "plt.xlabel('x')\n",
    "plt.ylabel('Events per bin')\n",
    "plt.show()"
   ]
  },
  {
   "cell_type": "code",
   "execution_count": 17,
   "metadata": {},
   "outputs": [
    {
     "data": {
      "image/png": "[encoded data removed]",
      "text/plain": [
       "<Figure size 432x288 with 2 Axes>"
      ]
     },
     "metadata": {},
     "output_type": "display_data"
    }
   ],
   "source": [
    "corr = cov_gp / np.sqrt(cov_gp.diagonal() * cov_gp.diagonal().reshape((-1 ,1)))\n",
    "\n",
    "plt.imshow(corr, origin='lower', extent=(0, 1, 0, 1), cmap='PiYG_r', vmin=-1, vmax=1)\n",
    "plt.title('Correlation matrix')\n",
    "plt.xlabel('$\\hat{\\mu}_j$')\n",
    "plt.ylabel('$\\hat{\\mu}_i$')\n",
    "plt.colorbar()\n",
    "plt.show()"
   ]
  },
  {
   "cell_type": "code",
   "execution_count": null,
   "metadata": {},
   "outputs": [],
   "source": []
  }
 ],
 "metadata": {
  "kernelspec": {
   "display_name": "Python 3 (ipykernel)",
   "language": "python",
   "name": "python3"
  },
  "language_info": {
   "codemirror_mode": {
    "name": "ipython",
    "version": 3
   },
   "file_extension": ".py",
   "mimetype": "text/x-python",
   "name": "python",
   "nbconvert_exporter": "python",
   "pygments_lexer": "ipython3",
   "version": "3.9.10"
  }
 },
 "nbformat": 4,
 "nbformat_minor": 2
}
