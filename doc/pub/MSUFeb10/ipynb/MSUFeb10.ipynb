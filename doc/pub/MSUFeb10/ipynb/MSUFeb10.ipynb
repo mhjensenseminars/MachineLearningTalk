{
 "cells": [
  {
   "cell_type": "markdown",
   "id": "e30fd0fb",
   "metadata": {
    "editable": true
   },
   "source": [
    "<!-- HTML file automatically generated from DocOnce source (https://github.com/doconce/doconce/)\n",
    "doconce format html MSUFeb10.do.txt --no_mako -->\n",
    "<!-- dom:TITLE: Artificial Intelligence and Machine Learning in Nuclear Physics -->"
   ]
  },
  {
   "cell_type": "markdown",
   "id": "540b7b1e",
   "metadata": {
    "editable": true
   },
   "source": [
    "# Artificial Intelligence and Machine Learning in Nuclear Physics\n",
    "**Morten Hjorth-Jensen, Dean Lee and Witek Nazarewicz**, Department of Physics and Astronomy and FRIB/NSCL Laboratory, Michigan State University\n",
    "\n",
    "Date: **Research Discussion, FRIB, Michigan State University, February 10, 2022**"
   ]
  },
  {
   "cell_type": "markdown",
   "id": "f79b726e",
   "metadata": {
    "editable": true
   },
   "source": [
    "## What is this talk about?\n",
    "The main emphasis is to give you a short and pedestrian introduction to the whys and hows we can use (with several examples) machine learning methods\n",
    "in nuclear physics. And why this could (or should) be of interest.\n",
    "\n",
    "**Additional info.**\n",
    "\n",
    "These slides are at <https://mhjensenseminars.github.io/MachineLearningTalk/doc/pub/> Scroll down the page.\n",
    "\n",
    "* Talk based on **Artificial Intelligence and Machine Learning in Nuclear Physics**, Amber Boehnlein et al., [arXiv:2112.02309](https://arxiv.org/abs/2112.02309) and Reviews Modern of Physics, submitted.  *MSU co-authors are Deal Lee, Witek Nazarewicz, Peter Ostroumov, and MHJ*\n",
    "\n",
    "* See also list of existing/ongoing ML projects at FRIB at <https://mhjensen.github.io/MLFRIB/MLFRIB.pdf>\n",
    "\n",
    "* And the BAND collaboration at <https://bandframework.github.io/>"
   ]
  },
  {
   "cell_type": "markdown",
   "id": "671193e3",
   "metadata": {
    "editable": true
   },
   "source": [
    "## A simple perspective on the interface between ML and Physics\n",
    "\n",
    "<!-- dom:FIGURE: [figures/mlimage.png, width=700 frac=1.0] -->\n",
    "<!-- begin figure -->\n",
    "\n",
    "<img src=\"figures/mlimage.png\" width=\"700\"><p style=\"font-size: 0.9em\"><i>Figure 1: </i></p>\n",
    "<!-- end figure -->"
   ]
  },
  {
   "cell_type": "markdown",
   "id": "bc846719",
   "metadata": {
    "editable": true
   },
   "source": [
    "## ML in Nuclear  Physics\n",
    "\n",
    "<!-- dom:FIGURE: [figures/ML-NP.png, width=700 frac=1.0] -->\n",
    "<!-- begin figure -->\n",
    "\n",
    "<img src=\"figures/ML-NP.png\" width=\"700\"><p style=\"font-size: 0.9em\"><i>Figure 1: </i></p>\n",
    "<!-- end figure -->"
   ]
  },
  {
   "cell_type": "markdown",
   "id": "181d1f64",
   "metadata": {
    "editable": true
   },
   "source": [
    "## ML in Materials Science\n",
    "\n",
    "<!-- dom:FIGURE: [figures/fig2.png, width=700 frac=1.0] -->\n",
    "<!-- begin figure -->\n",
    "\n",
    "<img src=\"figures/fig2.png\" width=\"700\"><p style=\"font-size: 0.9em\"><i>Figure 1: </i></p>\n",
    "<!-- end figure -->"
   ]
  },
  {
   "cell_type": "markdown",
   "id": "e7c4b70e",
   "metadata": {
    "editable": true
   },
   "source": [
    "## AI/ML and some statements you may have heard (and what do they mean?)\n",
    "\n",
    "1. Fei-Fei Li on ImageNet: **map out the entire world of objects** ([The data that transformed AI research](https://cacm.acm.org/news/219702-the-data-that-transformed-ai-research-and-possibly-the-world/fulltext))\n",
    "\n",
    "2. Russell and Norvig in their popular textbook: **relevant to any intellectual task; it is truly a universal field** ([Artificial Intelligence, A modern approach](http://aima.cs.berkeley.edu/))\n",
    "\n",
    "3. Woody Bledsoe puts it more bluntly: **in the long run, AI is the only science** (quoted in Pamilla McCorduck, [Machines who think](https://www.pamelamccorduck.com/machines-who-think))\n",
    "\n",
    "If you wish to have a critical read on AI/ML from a societal point of view, see [Kate Crawford's recent text Atlas of AI](https://www.katecrawford.net/)\n",
    "\n",
    "**Here: with AI/ML we intend a collection of machine learning methods with an emphasis on statistical learning and data analysis**"
   ]
  },
  {
   "cell_type": "markdown",
   "id": "6102f9a4",
   "metadata": {
    "editable": true
   },
   "source": [
    "## Scientific Machine Learning\n",
    "\n",
    "An important and emerging field is what has been dubbed as scientific ML, see the article by Deiana et al [Applications and Techniques for Fast Machine Learning in Science, arXiv:2110.13041](https://arxiv.org/abs/2110.13041)\n",
    "\n",
    "The authors discuss applications and techniques for fast machine\n",
    "learning (ML) in science - the concept of integrating power ML\n",
    "methods into the real-time experimental data processing loop to\n",
    "accelerate scientific discovery. The report covers three main areas\n",
    "\n",
    "1. applications for fast ML across a number of scientific domains;\n",
    "\n",
    "2. techniques for training and implementing performant and resource-efficient ML algorithms;\n",
    "\n",
    "3. and computing architectures, platforms, and technologies for deploying these algorithms."
   ]
  },
  {
   "cell_type": "markdown",
   "id": "d37c3c50",
   "metadata": {
    "editable": true
   },
   "source": [
    "## Machine Learning and Physics\n",
    "Machine learning  is an extremely rich field, in spite of its young age. The\n",
    "increases we have seen during the last three decades in computational\n",
    "capabilities have been followed by developments of methods and\n",
    "techniques for analyzing and handling large date sets, relying heavily\n",
    "on statistics, computer science and mathematics.  The field is rather\n",
    "new and developing rapidly. \n",
    "\n",
    "Popular software packages written in Python for ML are\n",
    "\n",
    "* [Scikit-learn](http://scikit-learn.org/stable/), \n",
    "\n",
    "* [Tensorflow](https://www.tensorflow.org/),\n",
    "\n",
    "* [PyTorch](http://pytorch.org/)\n",
    "\n",
    "* [Keras](https://keras.io/),\n",
    "\n",
    "and more. These are all freely available at their respective GitHub sites. They \n",
    "encompass communities of developers in the thousands or more. And the number\n",
    "of code developers and contributors keeps increasing."
   ]
  },
  {
   "cell_type": "markdown",
   "id": "f0d3676e",
   "metadata": {
    "editable": true
   },
   "source": [
    "## Lots of room for creativity\n",
    "Not all the\n",
    "algorithms and methods can be given a rigorous mathematical\n",
    "justification, opening up thereby for experimenting\n",
    "and trial and error and thereby exciting new developments.\n",
    "\n",
    "A solid command of linear algebra, multivariate theory, \n",
    "probability theory, statistical data analysis, optimization algorithms, \n",
    "understanding errors and Monte Carlo methods is important in order to understand many of the \n",
    "various algorithms and methods.\n",
    "\n",
    "**Job market, a personal statement**: [A familiarity with ML is almost becoming a prerequisite for many of the most exciting employment opportunities](https://www.analyticsindiamag.com/top-countries-hiring-most-number-of-artificial-intelligence-machine-learning-experts/). And add quantum computing and there you are!"
   ]
  },
  {
   "cell_type": "markdown",
   "id": "e2d573f1",
   "metadata": {
    "editable": true
   },
   "source": [
    "## Types of machine learning\n",
    "\n",
    "The approaches to machine learning are many, but are often split into two main categories. \n",
    "In *supervised learning* we know the answer to a problem,\n",
    "and let the computer deduce the logic behind it. On the other hand, *unsupervised learning*\n",
    "is a method for finding patterns and relationship in data sets without any prior knowledge of the system.\n",
    "Some authours also operate with a third category, namely *reinforcement learning*. This is a paradigm \n",
    "of learning inspired by behavioural psychology, where learning is achieved by trial-and-error, \n",
    "solely from rewards and punishment.\n",
    "\n",
    "Another way to categorize machine learning tasks is to consider the desired output of a system.\n",
    "Some of the most common tasks are:\n",
    "\n",
    "  * Classification: Outputs are divided into two or more classes. The goal is to   produce a model that assigns inputs into one of these classes. An example is to identify  digits based on pictures of hand-written ones. Classification is typically supervised learning.\n",
    "\n",
    "  * Regression: Finding a functional relationship between an input data set and a reference data set.   The goal is to construct a function that maps input data to continuous output values.\n",
    "\n",
    "  * Clustering: Data are divided into groups with certain common traits, without knowing the different groups beforehand.  It is thus a form of unsupervised learning."
   ]
  },
  {
   "cell_type": "markdown",
   "id": "d5001506",
   "metadata": {
    "editable": true
   },
   "source": [
    "## Machine learning & low-energy nuclear theory: Why?\n",
    "\n",
    "1. ML tools can help us to speed up the scientific process cycle and hence facilitate discoveries\n",
    "\n",
    "2. Enabling fast emulation for big simulations\n",
    "\n",
    "3. Revealing the information content of measured observables w.r.t. theory\n",
    "\n",
    "4. Identifying crucial experimental data for better constraining theory\n",
    "\n",
    "5. Providing meaningful input to applications and planned measurements\n",
    "\n",
    "6. ML tools can help us to reveal the structure of our models\n",
    "\n",
    "7. Parameter estimation with heterogeneous/multi-scale datasets\n",
    "\n",
    "8. Model reduction\n",
    "\n",
    "9. ML tools can help us to provide predictive capability\n",
    "\n",
    "10. Theoretical results often involve ultraviolet  and infrared extrapolations due to Hilbert-space truncations \n",
    "\n",
    "11. Uncertainty quantification essential\n",
    "\n",
    "12. Theoretical models are often applied to entirely new nuclear systems and conditions that are not accessible to experiment"
   ]
  },
  {
   "cell_type": "markdown",
   "id": "4a323967",
   "metadata": {
    "editable": true
   },
   "source": [
    "## The plethora  of machine learning algorithms/methods\n",
    "\n",
    "1. Deep learning: Neural Networks (NN), Convolutional NN, Recurrent NN, Boltzmann machines, autoencoders and variational autoencoders  and generative adversarial networks \n",
    "\n",
    "2. Bayesian statistics and Bayesian Machine Learning, Bayesian experimental design, Bayesian Regression models, Bayesian neural networks, Gaussian processes and much more\n",
    "\n",
    "3. Dimensionality reduction (Principal component analysis), Clustering Methods and more\n",
    "\n",
    "4. Ensemble Methods, Random forests, bagging and voting methods, gradient boosting approaches \n",
    "\n",
    "5. Linear and logistic regression, Kernel methods, support vector machines and more\n",
    "\n",
    "6. Reinforcement Learning \n",
    "\n",
    "7. and more"
   ]
  },
  {
   "cell_type": "markdown",
   "id": "6703fabb",
   "metadata": {
    "editable": true
   },
   "source": [
    "## Examples of Machine Learning methods and applications in nuclear physics\n",
    "\n",
    "* **Machine  learning  for  data  mining:** Oftentimes,  it  is necessary to be able to accurately calculate observables that have not been measured, to supplement the existing databases.\n",
    "\n",
    "* **Nuclear  density  functional   theory:** Energy density functional calibration   involving Bayesian optimization  and NN  ML. A promising avenue for ML applications is the emulation of DFT results.\n",
    "\n",
    "* **Nuclear properties with ML:** Improving predictive power of nuclear models by emulating model residuals.\n",
    "\n",
    "* **Effective field theory and A-body systems:** Truncation errors and low-energy coupling constant calibration, nucleon-nucleon scattering calculations, variational calculations with ANN for light nuclei, NN extrapolation of nuclear structure observables\n",
    "\n",
    "* **Nuclear  shell  model  UQ:** ML methods  have  been  used  to  provide  UQ  of  configuration  interaction  calculations."
   ]
  },
  {
   "cell_type": "markdown",
   "id": "096f0300",
   "metadata": {
    "editable": true
   },
   "source": [
    "## Examples of Machine Learning methods and applications in nuclear physics, continues\n",
    "\n",
    "* **Low-energy nuclear reactions UQ:** Bayesian optimization studies of the nucleon-nucleus optical potential, R-matrix analyses,  and  statistical spatial networks to study patterns in nuclear reaction networks.\n",
    "\n",
    "* **Neutron star properties and nuclear matter equation of state:** constraining the equation of state by properties on neutron stars and selected properties of finite nuclei\n",
    "\n",
    "* **Experimental design:** Bayesian ML provides a framework  to  maximize  the  success  of  on  experiment  based on  the  best  information  available  on existing  data, experimental conditions, and theoretical models."
   ]
  },
  {
   "cell_type": "markdown",
   "id": "77c6602c",
   "metadata": {
    "editable": true
   },
   "source": [
    "## More examples\n",
    "\n",
    "The large amount of degrees of freedom pertain to both theory and experiment in nuclear physics. With increasingly complicated experiments that produce large amounts data, automated classification of events becomes increasingly important. Here, deep learning methods offer a plethora of interesting research avenues. \n",
    "\n",
    "* Reconstruction of particle trajectories or classification of events are typical examples where ML methods are being used. However, since these data can often be extremely noisy, the precision necessary for discovery in physics requires algorithmic improvements. Research along such directions, interfacing nuclear physics with AI/ML is expected to play a significant role in physics discoveries related to new facilities.  The treatment of corrupted data in imaging and image processing is also a relevant topic. \n",
    "\n",
    "* Design of detectors represents an important area of applications for ML/AI methods in nuclear physics."
   ]
  },
  {
   "cell_type": "markdown",
   "id": "3444403e",
   "metadata": {
    "editable": true
   },
   "source": [
    "## And more\n",
    "\n",
    "* An important application of AI/ML methods is to improve the estimation of bias or uncertainty due to the introduction of or lack of physical constraints in various theoretical models.\n",
    "\n",
    "* In theory, we expect to use AI/ML algorithms and methods to improve our knowledged abou  correlations of physical model parameters in data for quantum many-body systems. Deep learning methods show great promise in circumventing the exploding dimensionalities encountered in quantum mechanical many-body studies. \n",
    "\n",
    "* Merging a frequentist approach (the standard path in ML theory) with a Bayesian approach, has the potential to infer better probabilitity distributions and error estimates. As an example, methods for fast Monte-Carlo- based Bayesian computation of nuclear density functionals show great promise in providing a better understanding \n",
    "\n",
    "* Machine Learning and Quantum Computing is a very interesting avenue to explore. See for example talk of [Sofia Vallecorsa](https://www.youtube.com/watch?v=7WPKv1Q57os&list=PLUPPQ1TVXK7uHwCTccWMBud-zLyvAf8A2&index=5&ab_channel=ECTstar)."
   ]
  },
  {
   "cell_type": "markdown",
   "id": "5b2c2dd8",
   "metadata": {
    "editable": true
   },
   "source": [
    "## Selected references\n",
    "* [Mehta et al.](https://arxiv.org/abs/1803.08823) and [Physics Reports (2019)](https://www.sciencedirect.com/science/article/pii/S0370157319300766?via%3Dihub).\n",
    "\n",
    "* [Machine Learning and the Physical Sciences by Carleo et al](https://link.aps.org/doi/10.1103/RevModPhys.91.045002)\n",
    "\n",
    "* [Ab initio solution of the many-electron Schrödinger equation with deep neural networks by Pfau et al.](https://journals.aps.org/prresearch/abstract/10.1103/PhysRevResearch.2.033429)\n",
    "\n",
    "* [Report from the A.I. For Nuclear Physics  Workshop by Bedaque et al.](https://arxiv.org/abs/2006.05422)\n",
    "\n",
    "* [Particle Data Group summary on ML methods](https://pdg.lbl.gov/2021/reviews/rpp2021-rev-machine-learning.pdf)"
   ]
  },
  {
   "cell_type": "markdown",
   "id": "964a4f25",
   "metadata": {
    "editable": true
   },
   "source": [
    "## What are the basic ingredients?\n",
    "Almost every problem in ML and data science starts with the same ingredients:\n",
    "* The dataset $\\mathbf{x}$ (could be some observable quantity of the system we are studying)\n",
    "\n",
    "* A model which is a function of a set of parameters $\\mathbf{\\alpha}$ that relates to the dataset, say a likelihood  function $p(\\mathbf{x}\\vert \\mathbf{\\alpha})$ or just a simple model $f(\\mathbf{\\alpha})$\n",
    "\n",
    "* A so-called **loss/cost/risk** function $\\mathcal{C} (\\mathbf{x}, f(\\mathbf{\\alpha}))$ which allows us to decide how well our model represents the dataset. \n",
    "\n",
    "We seek to minimize the function $\\mathcal{C} (\\mathbf{x}, f(\\mathbf{\\alpha}))$ by finding the parameter values which minimize $\\mathcal{C}$. This leads to  various minimization algorithms. It may surprise many, but at the heart of all machine learning algortihms there is an optimization problem."
   ]
  },
  {
   "cell_type": "markdown",
   "id": "c8e4583c",
   "metadata": {
    "editable": true
   },
   "source": [
    "## [Unsupervised learning in nuclear physics, Argon-46 by Solli, Bazin, Kuchera, MHJ, Strauss.](https://www.sciencedirect.com/science/article/abs/pii/S0168900221004460?via%3Dihub)\n",
    "\n",
    "Two- and three-dimensional representations of two events from the\n",
    "Argon-46 experiment. Each row is one event in two projections,\n",
    "where the color intensity of each point indicates higher charge values\n",
    "recorded by the detector. The bottom row illustrates a carbon event with\n",
    "a large fraction of noise, while the top row shows a proton event\n",
    "almost free of noise. \n",
    "\n",
    "<!-- dom:FIGURE: [figures/examples_raw.png, width=500 frac=0.6] -->\n",
    "<!-- begin figure -->\n",
    "\n",
    "<img src=\"figures/examples_raw.png\" width=\"500\"><p style=\"font-size: 0.9em\"><i>Figure 1: </i></p>\n",
    "<!-- end figure -->"
   ]
  },
  {
   "cell_type": "markdown",
   "id": "99356635",
   "metadata": {
    "editable": true
   },
   "source": [
    "## Quantum Monte Carlo and deep learning\n",
    "Given a hamiltonian $H$ and a trial wave function $\\Psi_T$, the variational principle states that the expectation value of $\\langle H \\rangle$, defined through"
   ]
  },
  {
   "cell_type": "markdown",
   "id": "a17f0c2e",
   "metadata": {
    "editable": true
   },
   "source": [
    "$$\n",
    "\\langle E \\rangle =\n",
    "   \\frac{\\int d\\boldsymbol{R}\\Psi^{\\ast}_T(\\boldsymbol{R})H(\\boldsymbol{R})\\Psi_T(\\boldsymbol{R})}\n",
    "        {\\int d\\boldsymbol{R}\\Psi^{\\ast}_T(\\boldsymbol{R})\\Psi_T(\\boldsymbol{R})},\n",
    "$$"
   ]
  },
  {
   "cell_type": "markdown",
   "id": "dd26f777",
   "metadata": {
    "editable": true
   },
   "source": [
    "is an upper bound to the ground state energy $E_0$ of the hamiltonian $H$, that is"
   ]
  },
  {
   "cell_type": "markdown",
   "id": "441e824f",
   "metadata": {
    "editable": true
   },
   "source": [
    "$$\n",
    "E_0 \\le \\langle E \\rangle.\n",
    "$$"
   ]
  },
  {
   "cell_type": "markdown",
   "id": "0d20d614",
   "metadata": {
    "editable": true
   },
   "source": [
    "In general, the integrals involved in the calculation of various  expectation values  are multi-dimensional ones. Traditional integration methods such as the Gauss-Legendre will not be adequate for say the  computation of the energy of a many-body system.  **Basic philosophy: Let a neural network find the optimal wave function**"
   ]
  },
  {
   "cell_type": "markdown",
   "id": "ba2bca74",
   "metadata": {
    "editable": true
   },
   "source": [
    "## Deep learning neural networks\n",
    "\n",
    "[Machine Learning and the Deuteron by Kebble and Rios](https://www.sciencedirect.com/science/article/pii/S0370269320305463?via%3Dihub) and \n",
    "[Variational Monte Carlo calculations of $A\\le 4$ nuclei with an artificial neural-network correlator ansatz by Adams et al.](https://journals.aps.org/prl/abstract/10.1103/PhysRevLett.127.022502)\n",
    "\n",
    "**Adams et al**:"
   ]
  },
  {
   "cell_type": "markdown",
   "id": "562cd7f6",
   "metadata": {
    "editable": true
   },
   "source": [
    "$$\n",
    "H_{LO} =-\\sum_i \\frac{{\\vec{\\nabla}_i^2}}{2m_N}\n",
    "+\\sum_{i<j} {\\left(C_1  + C_2\\, \\vec{\\sigma_i}\\cdot\\vec{\\sigma_j}\\right)\n",
    "e^{-r_{ij}^2\\Lambda^2 / 4 }}\n",
    "\\nonumber\n",
    "$$"
   ]
  },
  {
   "cell_type": "markdown",
   "id": "d021de20",
   "metadata": {
    "editable": true
   },
   "source": [
    "<!-- Equation labels as ordinary links -->\n",
    "<div id=\"_auto1\"></div>\n",
    "\n",
    "$$\n",
    "\\begin{equation} \n",
    "+D_0 \\sum_{i<j<k} \\sum_{\\text{cyc}}\n",
    "{e^{-\\left(r_{ik}^2+r_{ij}^2\\right)\\Lambda^2/4}}\\,,\n",
    "\\label{_auto1} \\tag{1}\n",
    "\\end{equation}\n",
    "$$"
   ]
  },
  {
   "cell_type": "markdown",
   "id": "f357d692",
   "metadata": {
    "editable": true
   },
   "source": [
    "where $m_N$ is the mass of the nucleon, $\\vec{\\sigma_i}$ is the Pauli\n",
    "matrix acting on nucleon $i$, and $\\sum_{\\text{cyc}}$ stands for the\n",
    "cyclic permutation of $i$, $j$, and $k$. The low-energy constants\n",
    "$C_1$ and $C_2$ are fit to the deuteron binding energy and to the\n",
    "neutron-neutron scattering length"
   ]
  },
  {
   "cell_type": "markdown",
   "id": "28160441",
   "metadata": {
    "editable": true
   },
   "source": [
    "## Replacing the Jastrow factor with neural networks\n",
    "\n",
    "An appealing feature of the neural network ansatz is that it is more general than the more conventional product of two-\n",
    "and three-body spin-independent Jastrow functions"
   ]
  },
  {
   "cell_type": "markdown",
   "id": "2d208c48",
   "metadata": {
    "editable": true
   },
   "source": [
    "<!-- Equation labels as ordinary links -->\n",
    "<div id=\"_auto2\"></div>\n",
    "\n",
    "$$\n",
    "\\begin{equation}\n",
    "|\\Psi_V^J \\rangle = \\prod_{i<j<k} \\Big( 1-\\sum_{\\text{cyc}} u(r_{ij}) u(r_{jk})\\Big) \\prod_{i<j} f(r_{ij}) | \\Phi\\rangle\\,,\n",
    "\\label{_auto2} \\tag{2}\n",
    "\\end{equation}\n",
    "$$"
   ]
  },
  {
   "cell_type": "markdown",
   "id": "9df149c9",
   "metadata": {
    "editable": true
   },
   "source": [
    "which is commonly used for nuclear Hamiltonians that do not contain tensor and spin-orbit terms.\n",
    "The above function is replaced by a four-layer Neural Network. \n",
    "\n",
    "<!-- dom:FIGURE: [figures/energyconvergence.png, width=700 frac=0.9] -->\n",
    "<!-- begin figure -->\n",
    "\n",
    "<img src=\"figures/energyconvergence.png\" width=\"700\"><p style=\"font-size: 0.9em\"><i>Figure 1: </i></p>\n",
    "<!-- end figure -->"
   ]
  },
  {
   "cell_type": "markdown",
   "id": "fbbd151e",
   "metadata": {
    "editable": true
   },
   "source": [
    "## [Gnech et al, Variational Monte Carlo calculations of $A\\le 6$ nuclei arXiv:108.06836](https://arxiv.org/pdf/2108.06836.pdf)\n",
    "\n",
    "<!-- dom:FIGURE: [figures/pointnucleondensity.png, width=700 frac=0.9] -->\n",
    "<!-- begin figure -->\n",
    "\n",
    "<img src=\"figures/pointnucleondensity.png\" width=\"700\"><p style=\"font-size: 0.9em\"><i>Figure 1: </i></p>\n",
    "<!-- end figure -->"
   ]
  },
  {
   "cell_type": "markdown",
   "id": "15749cbc",
   "metadata": {
    "editable": true
   },
   "source": [
    "## Extrapolations and model interpretability\n",
    "\n",
    "When you hear phrases like **predictions and estimations** and\n",
    "**correlations and causations**, what do you think of?  May be you think\n",
    "of the difference between classifying new data points and generating\n",
    "new data points.\n",
    "Or perhaps you consider that correlations represent some kind of symmetric statements like\n",
    "if $A$ is correlated with $B$, then $B$ is correlated with\n",
    "$A$. Causation on the other hand is directional, that is if $A$ causes $B$, $B$ does not\n",
    "necessarily cause $A$."
   ]
  },
  {
   "cell_type": "markdown",
   "id": "ffa5831e",
   "metadata": {
    "editable": true
   },
   "source": [
    "## Physics based statistical learning and data analysis\n",
    "\n",
    "The above concepts are in some sense the difference between **old-fashioned** machine\n",
    "learning and statistics and Bayesian learning. In machine learning and prediction based\n",
    "tasks, we are often interested in developing algorithms that are\n",
    "capable of learning patterns from given data in an automated fashion,\n",
    "and then using these learned patterns to make predictions or\n",
    "assessments of newly given data. In many cases, our primary concern\n",
    "is the quality of the predictions or assessments, and we are less\n",
    "concerned about the underlying patterns that were learned in order\n",
    "to make these predictions.\n",
    "\n",
    "Physics based statistical learning points however to approaches that give us both predictions and correlations as well as being able to produce error estimates and understand causations.  This leads us to the very interesting field of Bayesian statistics."
   ]
  },
  {
   "cell_type": "markdown",
   "id": "88e37394",
   "metadata": {
    "editable": true
   },
   "source": [
    "## Statistics and Bayes' theorem\n",
    "\n",
    "A central theorem in statistics is Bayes' theorem. This theorem plays a similar role as the good old Pythagoras' theorem in geometry.\n",
    "Bayes' theorem is extremely simple to derive. \n",
    "\n",
    "**The product rule (aka joint probability) is given by.**"
   ]
  },
  {
   "cell_type": "markdown",
   "id": "deb02c5a",
   "metadata": {
    "editable": true
   },
   "source": [
    "$$\n",
    "p(X \\cup Y)= p(X,Y)= p(X\\vert Y)p(Y)=p(Y\\vert X)p(X),\n",
    "$$"
   ]
  },
  {
   "cell_type": "markdown",
   "id": "15d59ce6",
   "metadata": {
    "editable": true
   },
   "source": [
    "where we read $p(X\\vert Y)$ as the likelihood of obtaining $X$ given $Y$.\n",
    "\n",
    "If we have independent events then $p(X,Y)=p(X)p(Y)$."
   ]
  },
  {
   "cell_type": "markdown",
   "id": "e1dd4bfd",
   "metadata": {
    "editable": true
   },
   "source": [
    "## Marginal Probability\n",
    "\n",
    "The marginal probability is defined in terms of only one of the set of variables $X,Y$. For a discrete probability we have"
   ]
  },
  {
   "cell_type": "markdown",
   "id": "2feb0e0c",
   "metadata": {
    "editable": true
   },
   "source": [
    "$$\n",
    "p(X)=\\sum_{i=0}^{n-1}p(X,Y=y_i)=\\sum_{i=0}^{n-1}p(X\\vert Y=y_i)p(Y=y_i)=\\sum_{i=0}^{n-1}p(X\\vert y_i)p(y_i).\n",
    "$$"
   ]
  },
  {
   "cell_type": "markdown",
   "id": "75c23710",
   "metadata": {
    "editable": true
   },
   "source": [
    "## Conditional  Probability\n",
    "\n",
    "The conditional  probability, if $p(Y) > 0$, is"
   ]
  },
  {
   "cell_type": "markdown",
   "id": "92d9f446",
   "metadata": {
    "editable": true
   },
   "source": [
    "$$\n",
    "p(X\\vert Y)= \\frac{p(X,Y)}{p(Y)}=\\frac{p(X,Y)}{\\sum_{i=0}^{n-1}p(Y\\vert X=x_i)p(x_i)}.\n",
    "$$"
   ]
  },
  {
   "cell_type": "markdown",
   "id": "1644125b",
   "metadata": {
    "editable": true
   },
   "source": [
    "## Bayes' Theorem\n",
    "\n",
    "If we combine the conditional probability with the marginal probability and the standard product rule, we have"
   ]
  },
  {
   "cell_type": "markdown",
   "id": "9604fd58",
   "metadata": {
    "editable": true
   },
   "source": [
    "$$\n",
    "p(X\\vert Y)= \\frac{p(X,Y)}{p(Y)},\n",
    "$$"
   ]
  },
  {
   "cell_type": "markdown",
   "id": "0ec593a8",
   "metadata": {
    "editable": true
   },
   "source": [
    "which we can rewrite as"
   ]
  },
  {
   "cell_type": "markdown",
   "id": "e1150e3b",
   "metadata": {
    "editable": true
   },
   "source": [
    "$$\n",
    "p(X\\vert Y)= \\frac{p(X,Y)}{\\sum_{i=0}^{n-1}p(Y\\vert X=x_i)p(x_i)}=\\frac{p(Y\\vert X)p(X)}{\\sum_{i=0}^{n-1}p(Y\\vert X=x_i)p(x_i)},\n",
    "$$"
   ]
  },
  {
   "cell_type": "markdown",
   "id": "8249ecd4",
   "metadata": {
    "editable": true
   },
   "source": [
    "which is Bayes' theorem. It allows us to evaluate the uncertainty in $X$ after we have observed $Y$. We can easily interchange $X$ with $Y$."
   ]
  },
  {
   "cell_type": "markdown",
   "id": "b4b4b725",
   "metadata": {
    "editable": true
   },
   "source": [
    "## Interpretations of Bayes' Theorem\n",
    "\n",
    "The quantity $p(Y\\vert X)$ on the right-hand side of the theorem is\n",
    "evaluated for the observed data $Y$ and can be viewed as a function of\n",
    "the parameter space represented by $X$. This function is not\n",
    "necesseraly normalized and is normally called the likelihood function.\n",
    "\n",
    "The function $p(X)$ on the right hand side is called the prior while the function on the left hand side is the called the posterior probability. The denominator on the right hand side serves as a normalization factor for the posterior distribution."
   ]
  },
  {
   "cell_type": "markdown",
   "id": "6cec9a96",
   "metadata": {
    "editable": true
   },
   "source": [
    "## Folding and unfolding of detector response\n",
    "To wrap up.\n",
    "Run Jupyter-notebook"
   ]
  },
  {
   "cell_type": "markdown",
   "id": "a79b24bc",
   "metadata": {
    "editable": true
   },
   "source": [
    "## Quantified limits of the nuclear landscape\n",
    "\n",
    "Neufcourt et al., Phys. Rev. C 101, 044307 (2020)\n",
    "Predictions made with 11 global mass model and Bayesian model averaging\n",
    "\n",
    "<!-- dom:FIGURE: [figures/landscape-BMA.jpg, width=700 frac=1.0] -->\n",
    "<!-- begin figure -->\n",
    "\n",
    "<img src=\"figures/landscape-BMA.jpg\" width=\"700\"><p style=\"font-size: 0.9em\"><i>Figure 1: </i></p>\n",
    "<!-- end figure -->"
   ]
  },
  {
   "cell_type": "markdown",
   "id": "0b912eb1",
   "metadata": {
    "editable": true
   },
   "source": [
    "## Constraining the equation of state for dense nuclear matter\n",
    "\n",
    "G. Raaijmakers et al., Constraining the Dense Matter Equation of State with Joint Analysis of NICER and LIGO/Virgo Measurements, AJ Letters, 893, L21 (2020)\n",
    "\n",
    "<!-- dom:FIGURE: [figures/nstareos.png, width=700 frac=1.0] -->\n",
    "<!-- begin figure -->\n",
    "\n",
    "<img src=\"figures/nstareos.png\" width=\"700\"><p style=\"font-size: 0.9em\"><i>Figure 1: </i></p>\n",
    "<!-- end figure -->"
   ]
  },
  {
   "cell_type": "markdown",
   "id": "9b6d6e63",
   "metadata": {
    "editable": true
   },
   "source": [
    "## Experimental design\n",
    "\n",
    "Beam time and compute cycles are expensive!\n",
    "\n",
    "* Bayesian experimental design provides a framework in which experiments can be designed using the best experimental and theoretical information available \n",
    "\n",
    "* The utility function is designed to encode the goals of the experiment and the constraints inherent in carrying it out. \n",
    "\n",
    "* Once the utility function and the possible designs have been specified, the optimal design is simply the scenario that  maximizes the expected utility function over the domain of possible designs.\n",
    "\n",
    "<!-- dom:FIGURE: [figures/utility.png, width=700 frac=1.0] -->\n",
    "<!-- begin figure -->\n",
    "\n",
    "<img src=\"figures/utility.png\" width=\"700\"><p style=\"font-size: 0.9em\"><i>Figure 1: </i></p>\n",
    "<!-- end figure -->"
   ]
  },
  {
   "cell_type": "markdown",
   "id": "a36d9011",
   "metadata": {
    "editable": true
   },
   "source": [
    "## Observations (or conclusions if you prefer)\n",
    "* Need for AI/Machine Learning in nuclear physics, lots of ongoing activities\n",
    "\n",
    "* To solve many complex problems in the field and facilitate discoveries, multidisciplinary efforts efforts are required involving scientists in  nuclear physics, statistics, computational science, and applied math.\n",
    "\n",
    "* How do we develop insights, competences, knowledge in statistical learning that can advance our field?\n",
    "\n",
    "  For example:\n",
    "  :    \n",
    "    Can we use ML to find out which correlations are relevant and thereby diminish the dimensionality problem in standard many-body  theories?\n",
    "\n",
    "  %s\n",
    "  :   \n",
    "    Can we use AI/ML in detector analysis, accelerator design, analysis of experimental data and more?\n",
    "\n",
    "  %s\n",
    "  :   \n",
    "    What are our ambitions? \n",
    "\n",
    "* The community needs to invest in relevant educational efforts and training of nuclear physicists with knowledge in AI/ML\n",
    "\n",
    "* Most likely tons of things we have forgotten\n",
    "\n",
    "**Possible start to raise awareness about ML in our field.**\n",
    "\n",
    "* Make an ML challenge in nuclear physics a la [Learning to discover: the Higgs boson machine learning challenge](https://home.cern/news/news/computing/higgs-boson-machine-learning-challenge). Alternatively go to kaggle.com at <https://www.kaggle.com/c/higgs-boson>\n",
    "\n",
    "* HEP@CERN and HEP in general  has made significant impacts in the field of machine learning and AI. Something to learn from"
   ]
  }
 ],
 "metadata": {},
 "nbformat": 4,
 "nbformat_minor": 5
}
