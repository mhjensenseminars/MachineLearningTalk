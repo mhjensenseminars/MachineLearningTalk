{
 "cells": [
  {
   "cell_type": "markdown",
   "id": "82c8eac4",
   "metadata": {
    "editable": true
   },
   "source": [
    "<!-- HTML file automatically generated from DocOnce source (https://github.com/doconce/doconce/)\n",
    "doconce format html quantumcomputingMSU.do.txt --no_mako -->\n",
    "<!-- dom:TITLE: Coulomb interaction driven entanglement of electrons on helium, theory and experiment -->"
   ]
  },
  {
   "cell_type": "markdown",
   "id": "de5b093d",
   "metadata": {
    "editable": true
   },
   "source": [
    "# Coulomb interaction driven entanglement of electrons on helium, theory and experiment\n",
    "**Morten Hjorth-Jensen**, Department of Physics and Astronomy and Facility for Rare Isotope Beams (FRIB), Michigan State University, USA and Department of Physics, University of Oslo, Norway\n",
    "\n",
    "Date: **April 11, 2023**"
   ]
  },
  {
   "cell_type": "markdown",
   "id": "7b9977cd",
   "metadata": {
    "editable": true
   },
   "source": [
    "## What is this talk about?\n",
    "\n",
    "Here we describe a method for generating motional entanglement between\n",
    "two electrons trapped above the surface of superfluid helium. In this\n",
    "proposed scheme these electronic charge qubits are laterally confined\n",
    "via electrostatic gates to create an anharmonic trapping\n",
    "potential. When the system is cooled to sufficiently low temperature\n",
    "these in-plane charge qubit states are quantized and circuit quantum\n",
    "electrodynamic methods can be used to control and readout single qubit\n",
    "operations. Perspectives for quantum simulations with quantum dots\n",
    "systems will be discussed as well as how to set up explicit circuits\n",
    "for simulating nuclear physics Hamiltonians, theoretically and\n",
    "experimentally."
   ]
  },
  {
   "cell_type": "markdown",
   "id": "477a29f9",
   "metadata": {
    "editable": true
   },
   "source": [
    "## Many people to thank\n",
    "\n",
    "**MSU.**\n",
    "\n",
    "Niyaz Beysengulov and Johannes Pollanen (experiment, Physics); Zachary Stewart, Jared Weidman, and Angela Wilson (quantum chemistry)\n",
    "\n",
    "**University of Oslo.**\n",
    "\n",
    "Øyvind Sigmundson Schøyen, Stian Dysthe Bilek, Jonas Boym Flaten, and Oskar Leinonen and Håkon Emil Kristiansen (Physics and quantum chemistry). In addition collaboration on point defects with Marianne Bathen and Lasse Vines."
   ]
  },
  {
   "cell_type": "markdown",
   "id": "cb46179a",
   "metadata": {
    "editable": true
   },
   "source": [
    "## Why? Basic motivation\n",
    "\n",
    "How can we avoid the dimensionality curse? Many possibilities\n",
    "1. smarter basis functions\n",
    "\n",
    "2. resummation of specific correlations\n",
    "\n",
    "3. stochastic sampling of high-lying states (stochastic FCI, CC and SRG/IMSRG)\n",
    "\n",
    "4. and more\n",
    "\n",
    "**Use the massive parallelization which quantum computing offers for solving complicated many-body problems**"
   ]
  },
  {
   "cell_type": "markdown",
   "id": "ece9477e",
   "metadata": {
    "editable": true
   },
   "source": [
    "## Literature and more reading\n",
    "\n",
    "1. These slides at <https://mhjensenseminars.github.io/MachineLearningTalk/doc/pub/quantumcomputingMSU/html/quantumcomputingMSU-reveal.html>\n",
    "\n",
    "2. [Justyna P. Zwolak and Jacob M. Taylor, Rev. Mod. Phys. 95, 011006, Advances in automation of quantum dot devices control](https://journals.aps.org/rmp/abstract/10.1103/RevModPhys.95.011006)\n",
    "\n",
    "3. [Pollanen and many other, Accelerating Progress Towards Practical Quantum Advantage: The Quantum Technology Demonstration Project Roadmap](https://arxiv.org/pdf/2210.14757.pdf)\n",
    "\n",
    "4. [Osada et al, introduction to quantum technologies, Springer, 2022](https://link.springer.com/book/10.1007/978-981-19-4641-7)\n",
    "\n",
    "5. [Lectures on Quantum Computing, MHJ](https://github.com/CompPhysics/QuantumComputingMachineLearning)\n",
    "\n",
    "6. [Original inspiration a series of articles of Loss and DiVincenzo from the nineties, Quantum Computation with Quantum Dots](https://journals.aps.org/pra/pdf/10.1103/PhysRevA.57.120)\n",
    "\n",
    "7. [Simulating the Lipkin model, Ryan Larose and Elena Litvinova et al](https://journals.aps.org/prc/abstract/10.1103/PhysRevC.106.024319)"
   ]
  },
  {
   "cell_type": "markdown",
   "id": "0b1c62c0",
   "metadata": {
    "editable": true
   },
   "source": [
    "## Quantum Engineering\n",
    "\n",
    "**Quantum Computing requirements.**\n",
    "\n",
    "1. be scalable\n",
    "\n",
    "2. have qubits that can be entangled\n",
    "\n",
    "3. have reliable initializations protocols to a standard state\n",
    "\n",
    "4. have a set of universal quantum gates to control the quantum evolution\n",
    "\n",
    "5. have a coherence time much longer than the gate operation time\n",
    "\n",
    "6. have a reliable read-out mechanism for measuring the qubit states\n",
    "\n",
    "7. and many more"
   ]
  },
  {
   "cell_type": "markdown",
   "id": "3a2079a4",
   "metadata": {
    "editable": true
   },
   "source": [
    "## Candidate systems\n",
    "\n",
    "1. Superconducting Josephon junctions\n",
    "\n",
    "2. Single photons\n",
    "\n",
    "3. [Trapped ions and atoms](https://journals.aps.org/rmp/pdf/10.1103/RevModPhys.93.025001)\n",
    "\n",
    "4. Nuclear Magnetic Resonance\n",
    "\n",
    "5. **Quantum dots, expt at MSU**\n",
    "\n",
    "6. Point Defects in semiconductors\n",
    "\n",
    "7. and more"
   ]
  },
  {
   "cell_type": "markdown",
   "id": "71a302e1",
   "metadata": {
    "editable": true
   },
   "source": [
    "## Electrons (quantum dots) on superfluid helium\n",
    "\n",
    "Electrons on [superfluid helium represent](https://www.youtube.com/watch?v=EuDuM-fe-lA&ab_channel=JoshuahHeath) a promising platform for investigating\n",
    "strongly-coupled qubits.\n",
    "\n",
    "Therefore a systematic investigation of the\n",
    "controlled generation of entanglement between two trapped electrons\n",
    "under the influence of coherent microwave driving pulses, taking into\n",
    "account the effects of the Coulomb interaction between electrons, is\n",
    "of significant importance for quantum information processing using\n",
    "trapped electrons."
   ]
  },
  {
   "cell_type": "markdown",
   "id": "d6a822ca",
   "metadata": {
    "editable": true
   },
   "source": [
    "## Methods and Applications\n",
    "1. Time-Dependent full configuration interaction theory\n",
    "\n",
    "2. Time-dependent Coupled-Cluster theory\n",
    "\n",
    "3. Designing quantum operations and quantum simulations"
   ]
  },
  {
   "cell_type": "markdown",
   "id": "5abec0ce",
   "metadata": {
    "editable": true
   },
   "source": [
    "## Entanglement\n",
    "\n",
    "[Entanglement](https://link.springer.com/content/pdf/10.1007/s11232-007-0098-9.pdf) is the fundamental characteristic that distinguishes\n",
    "quantum systems composed of two or more coupled objects from their\n",
    "classical counterparts. The study of entanglement in precisely\n",
    "engineered quantum systems with countably many degrees of freedom is\n",
    "at the forefront of modern physics and is a key resource in quantum\n",
    "information science (QIS). This is particularly true in the\n",
    "development of two-qubit logic for quantum computation.\n",
    "\n",
    "The\n",
    "generation of two-qubit entanglement has been demonstrated in a wide\n",
    "variety of physical systems used in present-day quantum computing,\n",
    "including superconducting circuits, tapped\n",
    "ions, semiconductor quantum dots, color-center\n",
    "defects in diamond, and neutral atoms in optical\n",
    "latticesjust to name a few."
   ]
  },
  {
   "cell_type": "markdown",
   "id": "9e0c613f",
   "metadata": {
    "editable": true
   },
   "source": [
    "## More on Entanglement\n",
    "\n",
    "Generating an entanglement between two quantum systems rely on\n",
    "exploiting interactions in a controllable way. The details in the\n",
    "interaction Hamiltonian between two systems defines the protocol\n",
    "schemes for two-qubit logic.\n",
    "\n",
    "In  superconducting circuits the\n",
    "interaction between qubits may arise from direct capacitive coupling\n",
    "between circuit elements or by indirect coupling of two qubits to a\n",
    "common resonator (virtually populating resonator mode) which results\n",
    "in a non-local Hamiltonian in the form of exchange\n",
    "interaction. This allow to implement various\n",
    "schemes for entanglement, such as controlled-phase\n",
    "gate, resonator-induced phase\n",
    "gate, cross-resonance gates etc."
   ]
  },
  {
   "cell_type": "markdown",
   "id": "fe09e917",
   "metadata": {
    "editable": true
   },
   "source": [
    "## Entanglement gates in trapped ions and more\n",
    "\n",
    "Entanglement gates in trapped ions are\n",
    "produced by means of the Coulomb interaction, where shared motional\n",
    "modes of two or more ions, entangled to their internal states, used\n",
    "for transferring excitations between ion\n",
    "qubits. This has been experimentally\n",
    "demonstrated.\n",
    "\n",
    "In photonic quantum\n",
    "computing schemes two-qubit entangling operations are realized by\n",
    "nonlinear interactions between two photons scattering from quantum\n",
    "dots, plasmonic nanowires, diamond vacancy centers and others embedded\n",
    "into waveguides. Two-qubit gates in\n",
    "semiconductor quantum dots are based on spin-spin exchange\n",
    "interactions or generated\n",
    "by coupling to a superconducting resonator via artificial spin-orbit\n",
    "interaction."
   ]
  },
  {
   "cell_type": "markdown",
   "id": "4c8b6784",
   "metadata": {
    "editable": true
   },
   "source": [
    "## A warm-up problem, avoided level crossing and some math\n",
    "\n",
    "In order to study entanglement and why it is so important for quantum\n",
    "computing, we need to introduce some basic measures and useful\n",
    "quantities.  For these endeavors, we  will use our two-qubit system from\n",
    "the second lecture in order to introduce, through examples, density\n",
    "matrices and entropy. These two quantities, together with\n",
    "technicalities like the Schmidt decomposition define important quantities in analyzing quantum computing examples.\n",
    "\n",
    "We will study two simple Hamiltonian systems, one which we can use for a single qubit systems and one which has as basis functions a two-qubit system. These two simple Hamiltonians exhibit also something which is called level crossing, a feature which we will use in later studies of entanglement.\n",
    "\n",
    "We study first a simple two-level system. Thereafter we\n",
    "extend our model to a four-level system which can be\n",
    "interpreted as composed of two separate (not necesseraly identical)\n",
    "subsystems.\n",
    "\n",
    "We let our hamiltonian depend linearly on a strength parameter $z$"
   ]
  },
  {
   "cell_type": "markdown",
   "id": "7728315b",
   "metadata": {
    "editable": true
   },
   "source": [
    "$$\n",
    "H=H_0+\\lambda H_\\mathrm{I},\n",
    "$$"
   ]
  },
  {
   "cell_type": "markdown",
   "id": "aa43912a",
   "metadata": {
    "editable": true
   },
   "source": [
    "with $\\lambda \\in [0,1]$, where the limits $\\lambda=0$ and $\\lambda=1$\n",
    "represent the non-interacting (or unperturbed) and fully interacting\n",
    "system, respectively.  The model is an eigenvalue problem with only\n",
    "two available states, which we label $\\vert 0\\rangle$ and $\\vert\n",
    "1\\rangle$, respectively. Below we will let state $\\vert 0 \\rangle$\n",
    "represent the lowest state (often referred to as model-space state)\n",
    "with its pertinent eigenvalue and eigenvector whereas state $\\vert 1\\rangle$ represents the eigenvalue of\n",
    "the excluded space.  The non-interacting solutions to our problem are"
   ]
  },
  {
   "cell_type": "markdown",
   "id": "15b41bbc",
   "metadata": {
    "editable": true
   },
   "source": [
    "<!-- Equation labels as ordinary links -->\n",
    "<div id=\"_auto1\"></div>\n",
    "\n",
    "$$\n",
    "\\begin{equation}\n",
    "       H_0\\vert 0 \\rangle =\\epsilon_0\\vert 0 \\rangle,\n",
    "\\label{_auto1} \\tag{1}\n",
    "\\end{equation}\n",
    "$$"
   ]
  },
  {
   "cell_type": "markdown",
   "id": "94725797",
   "metadata": {
    "editable": true
   },
   "source": [
    "and"
   ]
  },
  {
   "cell_type": "markdown",
   "id": "aa66ea8f",
   "metadata": {
    "editable": true
   },
   "source": [
    "<!-- Equation labels as ordinary links -->\n",
    "<div id=\"_auto2\"></div>\n",
    "\n",
    "$$\n",
    "\\begin{equation}\n",
    "       H_0\\vert 1\\rangle =\\epsilon_1\\vert 1\\rangle,\n",
    "\\label{_auto2} \\tag{2}\n",
    "\\end{equation}\n",
    "$$"
   ]
  },
  {
   "cell_type": "markdown",
   "id": "6e194d91",
   "metadata": {
    "editable": true
   },
   "source": [
    "with $\\epsilon_0 < \\epsilon_1$. We label the off-diagonal matrix\n",
    "elements $X$, while $X_0=\\langle 0 \\vert H_I\\vert 0 \\rangle$ and\n",
    "$X_1=\\langle 1 \\vert H_1\\vert 1 \\rangle$.  The exact eigenvalue\n",
    "problem"
   ]
  },
  {
   "cell_type": "markdown",
   "id": "33544d46",
   "metadata": {
    "editable": true
   },
   "source": [
    "<!-- Equation labels as ordinary links -->\n",
    "<div id=\"eq:twolevelH\"></div>\n",
    "\n",
    "$$\n",
    "\\label{eq:twolevelH} \\tag{3}\n",
    "\\begin{equation}\n",
    "\\left(\\begin{array}{cc}\\epsilon_0+\\lambda X_0 &\\lambda X \\\\\n",
    "\\lambda X &\\epsilon_1+\\lambda X_1 \\end{array}\\right)\n",
    "\\end{equation}\n",
    "$$"
   ]
  },
  {
   "cell_type": "markdown",
   "id": "7d863df0",
   "metadata": {
    "editable": true
   },
   "source": [
    "yields"
   ]
  },
  {
   "cell_type": "markdown",
   "id": "4b633208",
   "metadata": {
    "editable": true
   },
   "source": [
    "<!-- Equation labels as ordinary links -->\n",
    "<div id=\"eq:exact\"></div>\n",
    "\n",
    "$$\n",
    "\\begin{eqnarray}\n",
    "\\label{eq:exact} \\tag{4}\n",
    "     E(\\lambda)=&\\frac{1}{2}\\left\\{\\epsilon_0 +\\epsilon_1 +\\lambda X_0\n",
    "     +\\lambda X_1 \\pm \\left(\n",
    "     \\epsilon_1 -\\epsilon_0 +\\lambda X_1-\\lambda X_0\\right) \\right. \\\\ \\nonumber\n",
    "     & \\left. \\times\\sqrt{1+\\frac{4\\lambda^2X^2}{\\left(\n",
    "     \\epsilon_1 -\\epsilon_0 +\\lambda X_1-\\lambda X_0\\right)^2}}\n",
    "     \\right\\}.\n",
    "\\end{eqnarray}\n",
    "$$"
   ]
  },
  {
   "cell_type": "markdown",
   "id": "0e3e163b",
   "metadata": {
    "editable": true
   },
   "source": [
    "In the results below we set the parameters $\\epsilon_0=0$,\n",
    "$\\epsilon_1=4$, $X_0=-X_1=3$ and $X=0.2$.  This eigenvalue problem can\n",
    "easily be rewritten in terms of the standard Pauli matrices.  The\n",
    "non-interacting solutions represent our computational basis.\n",
    "Pertinent to our choice of parameters, is that at $\\lambda\\geq 2/3$,\n",
    "the lowest eigenstate is dominated by $\\vert 1\\rangle$ while the upper\n",
    "is $\\vert 0 \\rangle$. At $\\lambda=1$ the $\\vert 0 \\rangle$ mixing of\n",
    "the lowest eigenvalue is $1\\%$ while for $\\lambda\\leq 2/3$ we have a\n",
    "$\\vert 0 \\rangle$ component of more than $90\\%$.  The character of the\n",
    "eigenvectors has therefore been interchanged when passing $z=2/3$. The\n",
    "value of the parameter $X$ represents the strength of the coupling\n",
    "between the model space and the excluded space.  The following code\n",
    "computes and plots the eigenvalues."
   ]
  },
  {
   "cell_type": "code",
   "execution_count": 1,
   "id": "0d20ef8f",
   "metadata": {
    "collapsed": false,
    "editable": true
   },
   "outputs": [],
   "source": [
    "%matplotlib inline\n",
    "\n",
    "%matplotlib inline\n",
    "\n",
    "from  matplotlib import pyplot as plt\n",
    "import numpy as np\n",
    "dim = 2\n",
    "#Setting up a tridiagonal matrix and finding eigenvectors and eigenvalues\n",
    "Hamiltonian = np.zeros((dim,dim))\n",
    "#number of lambda values\n",
    "n = 100\n",
    "lmbd = np.linspace(0.,1.0,n)\n",
    "e0 = 0.0\n",
    "e1 = 4.0\n",
    "X = 0.20\n",
    "Xp = 3.0\n",
    "Eigenvalue = np.zeros((dim,n))\n",
    "for i in range(n): \n",
    "    Hamiltonian[0,0] = lmbd[i]*Xp+e0\n",
    "    Hamiltonian[0,1] = lmbd[i]*X\n",
    "    Hamiltonian[1,0] = Hamiltonian[0,1]\n",
    "    Hamiltonian[1,1] = e1+lmbd[i]*(-Xp)\n",
    "    # diagonalize and obtain eigenvalues, not necessarily sorted\n",
    "    EigValues, EigVectors = np.linalg.eig(Hamiltonian)\n",
    "    # sort eigenvectors and eigenvalues\n",
    "    permute = EigValues.argsort()\n",
    "    EigValues = EigValues[permute]\n",
    "    EigVectors = EigVectors[:,permute]\n",
    "    Eigenvalue[0,i] = EigValues[0]\n",
    "    Eigenvalue[1,i] = EigValues[1]\n",
    "plt.plot(lmbd, Eigenvalue[0,:] ,'b-',lmbd, Eigenvalue[1,:],'g-',)\n",
    "plt.xlabel('$\\lambda$')\n",
    "plt.ylabel('Eigenvalues')\n",
    "plt.show()"
   ]
  },
  {
   "cell_type": "markdown",
   "id": "5382950b",
   "metadata": {
    "editable": true
   },
   "source": [
    "This model exhibits a simple level crossing where the\n",
    "composition of the final interacting states change character as we\n",
    "gradually switch on the interaction."
   ]
  },
  {
   "cell_type": "markdown",
   "id": "45657d3b",
   "metadata": {
    "editable": true
   },
   "source": [
    "## Avoided level crossings\n",
    "\n",
    "The avoided crossing plays a central role in quantum simulations. It results from the **coherent** transfer of the population between the state $\\vert 0\\rangle $\n",
    "and the state $\\vert 1\\rangle$. When we say coherent we mean that the quantumness and entanglement are preserved and the system follows our equation of motion (the Schroedinger equation) as expected. In real experiment it is not that simple.\n",
    "\n",
    "In quantum technology, different quantum systems are coupled to enable various quantum state transfers and manipulations. Experimentally, avoided crossing of the energy levels, is one of the first feature to look for since it manifests the signature of preservation of quantumness and clean coupling between states in the experimental setup."
   ]
  },
  {
   "cell_type": "markdown",
   "id": "7108bdd4",
   "metadata": {
    "editable": true
   },
   "source": [
    "### Reminder on density matrices\n",
    "\n",
    "We have the spectral decomposition of a given operator $\\boldsymbol{A}$ given by"
   ]
  },
  {
   "cell_type": "markdown",
   "id": "171c9719",
   "metadata": {
    "editable": true
   },
   "source": [
    "$$\n",
    "\\boldsymbol{A}=\\sum_i\\lambda_i\\vert i \\rangle\\langle i\\vert,\n",
    "$$"
   ]
  },
  {
   "cell_type": "markdown",
   "id": "41411ba6",
   "metadata": {
    "editable": true
   },
   "source": [
    "with the ONB $\\vert i\\rangle$ being eigenvectors of $\\boldsymbol{A}$ and $\\lambda_i$ being the eigenvalues. Similarly, a operator which is a function of $\\boldsymbol{A}$ is given by"
   ]
  },
  {
   "cell_type": "markdown",
   "id": "dc2a575a",
   "metadata": {
    "editable": true
   },
   "source": [
    "$$\n",
    "f(\\boldsymbol{A})=\\sum_if(\\boldsymbol{A})\\vert i \\rangle\\langle i\\vert.\n",
    "$$"
   ]
  },
  {
   "cell_type": "markdown",
   "id": "4ad9909b",
   "metadata": {
    "editable": true
   },
   "source": [
    "The trace of a product of matrices is cyclic, that is"
   ]
  },
  {
   "cell_type": "markdown",
   "id": "4044d079",
   "metadata": {
    "editable": true
   },
   "source": [
    "$$\n",
    "\\mathrm{tr}[\\boldsymbol{ABC}])=\\mathrm{tr}[\\boldsymbol{BCA}])=\\mathrm{tr}[\\boldsymbol{CBA}]),\n",
    "$$"
   ]
  },
  {
   "cell_type": "markdown",
   "id": "34fd9127",
   "metadata": {
    "editable": true
   },
   "source": [
    "and we have also"
   ]
  },
  {
   "cell_type": "markdown",
   "id": "708d4f6c",
   "metadata": {
    "editable": true
   },
   "source": [
    "$$\n",
    "\\mathrm{tr}[\\boldsymbol{A}\\vert \\psi\\rangle\\langle\\psi\\vert])=\\langle\\psi\\vert\\boldsymbol{A}\\vert\\psi\\rangle.\n",
    "$$"
   ]
  },
  {
   "cell_type": "markdown",
   "id": "1a522c25",
   "metadata": {
    "editable": true
   },
   "source": [
    "Using the spectral decomposition we defined also the density matrix as"
   ]
  },
  {
   "cell_type": "markdown",
   "id": "e31a39ea",
   "metadata": {
    "editable": true
   },
   "source": [
    "$$\n",
    "\\rho = \\sum_i p_i\\vert i \\rangle\\langle i\\vert,\n",
    "$$"
   ]
  },
  {
   "cell_type": "markdown",
   "id": "ffbb56f4",
   "metadata": {
    "editable": true
   },
   "source": [
    "where the probability $p_i$ are the eigenvalues of the density linked with the ONB $\\vert i \\rangle$.\n",
    "\n",
    "The trace of the density matrix $\\mathrm{tr}\\rho=1$ and is invariant under unitary transformations."
   ]
  },
  {
   "cell_type": "markdown",
   "id": "d3d535b6",
   "metadata": {
    "editable": true
   },
   "source": [
    "### Two-qubit system and definition of density matrices\n",
    "\n",
    "This system can be thought of as composed of two subsystems\n",
    "$A$ and $B$. Each subsystem has computational basis states"
   ]
  },
  {
   "cell_type": "markdown",
   "id": "719a2c61",
   "metadata": {
    "editable": true
   },
   "source": [
    "$$\n",
    "\\vert 0\\rangle_{\\mathrm{A,B}}=\\begin{bmatrix} 1 & 0\\end{bmatrix}^T \\hspace{1cm} \\vert 1\\rangle_{\\mathrm{A,B}}=\\begin{bmatrix} 0 & 1\\end{bmatrix}^T.\n",
    "$$"
   ]
  },
  {
   "cell_type": "markdown",
   "id": "d5a98a53",
   "metadata": {
    "editable": true
   },
   "source": [
    "The subsystems could represent single particles or composite many-particle systems of a given symmetry.\n",
    "This leads to the many-body computational basis states"
   ]
  },
  {
   "cell_type": "markdown",
   "id": "1f8f7324",
   "metadata": {
    "editable": true
   },
   "source": [
    "$$\n",
    "\\vert 00\\rangle = \\vert 0\\rangle_{\\mathrm{A}}\\otimes \\vert 0\\rangle_{\\mathrm{B}}=\\begin{bmatrix} 1 & 0 & 0 &0\\end{bmatrix}^T,\n",
    "$$"
   ]
  },
  {
   "cell_type": "markdown",
   "id": "b61d6725",
   "metadata": {
    "editable": true
   },
   "source": [
    "and"
   ]
  },
  {
   "cell_type": "markdown",
   "id": "6af66653",
   "metadata": {
    "editable": true
   },
   "source": [
    "$$\n",
    "\\vert 01\\rangle = \\vert 0\\rangle_{\\mathrm{A}}\\otimes \\vert 1\\rangle_{\\mathrm{B}}=\\begin{bmatrix} 0 & 1 & 0 &0\\end{bmatrix}^T,\n",
    "$$"
   ]
  },
  {
   "cell_type": "markdown",
   "id": "e098a865",
   "metadata": {
    "editable": true
   },
   "source": [
    "and"
   ]
  },
  {
   "cell_type": "markdown",
   "id": "baa42524",
   "metadata": {
    "editable": true
   },
   "source": [
    "$$\n",
    "\\vert 10\\rangle = \\vert 1\\rangle_{\\mathrm{A}}\\otimes \\vert 0\\rangle_{\\mathrm{B}}=\\begin{bmatrix} 0 & 0 & 1 &0\\end{bmatrix}^T,\n",
    "$$"
   ]
  },
  {
   "cell_type": "markdown",
   "id": "94962f82",
   "metadata": {
    "editable": true
   },
   "source": [
    "and finally"
   ]
  },
  {
   "cell_type": "markdown",
   "id": "142fc592",
   "metadata": {
    "editable": true
   },
   "source": [
    "$$\n",
    "\\vert 11\\rangle = \\vert 1\\rangle_{\\mathrm{A}}\\otimes \\vert 1\\rangle_{\\mathrm{B}}=\\begin{bmatrix} 0 & 0 & 0 &1\\end{bmatrix}^T.\n",
    "$$"
   ]
  },
  {
   "cell_type": "markdown",
   "id": "3cdfeeec",
   "metadata": {
    "editable": true
   },
   "source": [
    "These computational basis states define also the eigenstates of the non-interacting  Hamiltonian"
   ]
  },
  {
   "cell_type": "markdown",
   "id": "d759a15e",
   "metadata": {
    "editable": true
   },
   "source": [
    "$$\n",
    "H_0\\vert 00 \\rangle = \\epsilon_{00}\\vert 00 \\rangle,\n",
    "$$"
   ]
  },
  {
   "cell_type": "markdown",
   "id": "456a1af8",
   "metadata": {
    "editable": true
   },
   "source": [
    "$$\n",
    "H_0\\vert 10 \\rangle = \\epsilon_{10}\\vert 10 \\rangle,\n",
    "$$"
   ]
  },
  {
   "cell_type": "markdown",
   "id": "6c0129c0",
   "metadata": {
    "editable": true
   },
   "source": [
    "$$\n",
    "H_0\\vert 01 \\rangle = \\epsilon_{01}\\vert 01 \\rangle,\n",
    "$$"
   ]
  },
  {
   "cell_type": "markdown",
   "id": "2425660b",
   "metadata": {
    "editable": true
   },
   "source": [
    "and"
   ]
  },
  {
   "cell_type": "markdown",
   "id": "ef1ed93a",
   "metadata": {
    "editable": true
   },
   "source": [
    "$$\n",
    "H_0\\vert 11 \\rangle = \\epsilon_{11}\\vert 11 \\rangle.\n",
    "$$"
   ]
  },
  {
   "cell_type": "markdown",
   "id": "a566b1d7",
   "metadata": {
    "editable": true
   },
   "source": [
    "The interacting part of the Hamiltonian $H_{\\mathrm{I}}$ is given by the tensor product of two $\\sigma_x$ and $\\sigma_z$  matrices, respectively, that is"
   ]
  },
  {
   "cell_type": "markdown",
   "id": "afbe8b89",
   "metadata": {
    "editable": true
   },
   "source": [
    "$$\n",
    "H_{\\mathrm{I}}=H_x\\sigma_x\\otimes\\sigma_x+H_z\\sigma_z\\otimes\\sigma_z,\n",
    "$$"
   ]
  },
  {
   "cell_type": "markdown",
   "id": "b84770a9",
   "metadata": {
    "editable": true
   },
   "source": [
    "where $H_x$ and $H_z$ are interaction strength parameters. Our final Hamiltonian matrix is given by"
   ]
  },
  {
   "cell_type": "markdown",
   "id": "9e8ebbfd",
   "metadata": {
    "editable": true
   },
   "source": [
    "$$\n",
    "\\boldsymbol{H}=\\begin{bmatrix} \\epsilon_{00}+H_z & 0 & 0 & H_x \\\\\n",
    "                       0  & \\epsilon_{10}-H_z & H_x & 0 \\\\\n",
    "\t\t       0 & H_x & \\epsilon_{01}-H_z & 0 \\\\\n",
    "\t\t       H_x & 0 & 0 & \\epsilon_{11} +H_z \\end{bmatrix}.\n",
    "$$"
   ]
  },
  {
   "cell_type": "markdown",
   "id": "9242ff94",
   "metadata": {
    "editable": true
   },
   "source": [
    "The four eigenstates of the above Hamiltonian matrix can in turn be used to\n",
    "define density matrices. As an example, the density matrix of the\n",
    "first eigenstate (lowest energy $E_0$) $\\Psi_0$ is"
   ]
  },
  {
   "cell_type": "markdown",
   "id": "eeaa4423",
   "metadata": {
    "editable": true
   },
   "source": [
    "$$\n",
    "\\rho_0=\\left(\\alpha_{00}\\vert 00 \\rangle\\langle 00\\vert+\\alpha_{10}\\vert 10 \\rangle\\langle 10\\vert+\\alpha_{01}\\vert 01 \\rangle\\langle 01\\vert+\\alpha_{11}\\vert 11 \\rangle\\langle 11\\vert\\right),\n",
    "$$"
   ]
  },
  {
   "cell_type": "markdown",
   "id": "79733451",
   "metadata": {
    "editable": true
   },
   "source": [
    "where the coefficients $\\alpha_{ij}$ are the eigenvector coefficients\n",
    "resulting from the solution of the above eigenvalue problem.\n",
    "\n",
    "We can\n",
    "then in turn define the density matrix for the subsets $A$ or $B$ as"
   ]
  },
  {
   "cell_type": "markdown",
   "id": "50cd310b",
   "metadata": {
    "editable": true
   },
   "source": [
    "$$\n",
    "\\rho_A=\\mathrm{Tr}_B(\\rho_{0})=\\langle 0 \\vert \\rho_{0} \\vert 0\\rangle_{B}+\\langle 1 \\vert \\rho_{0} \\vert 1\\rangle_{B},\n",
    "$$"
   ]
  },
  {
   "cell_type": "markdown",
   "id": "d1986c58",
   "metadata": {
    "editable": true
   },
   "source": [
    "or"
   ]
  },
  {
   "cell_type": "markdown",
   "id": "ab8e51a3",
   "metadata": {
    "editable": true
   },
   "source": [
    "$$\n",
    "\\rho_B=\\mathrm{Tr}_A(\\rho_0)=\\langle 0 \\vert \\rho_{0} \\vert 0\\rangle_{A}+\\langle 1 \\vert \\rho_{0} \\vert 1\\rangle_{A}.\n",
    "$$"
   ]
  },
  {
   "cell_type": "markdown",
   "id": "767bc23d",
   "metadata": {
    "editable": true
   },
   "source": [
    "The density matrices for these subsets can be used to compute the\n",
    "so-called von Neumann entropy, which is one of the possible measures\n",
    "of entanglement."
   ]
  },
  {
   "cell_type": "markdown",
   "id": "57e26f26",
   "metadata": {
    "editable": true
   },
   "source": [
    "### Shannon information entropy\n",
    "\n",
    "We define a set of random variables $X=\\{x_0,x_1,\\dots,x_{n-1}\\}$ with probability for an outcome $x\\in X$ given by $p_X(x)$, the\n",
    "information entropy is defined as"
   ]
  },
  {
   "cell_type": "markdown",
   "id": "c964b8c2",
   "metadata": {
    "editable": true
   },
   "source": [
    "$$\n",
    "S=-\\sum_{x\\in X}p_X(x)\\log_2{p_X(x)}.\n",
    "$$"
   ]
  },
  {
   "cell_type": "markdown",
   "id": "a3fc6ba0",
   "metadata": {
    "editable": true
   },
   "source": [
    "This is the standard entropy definition, normally called the Shannon entropy"
   ]
  },
  {
   "cell_type": "markdown",
   "id": "c1e772a9",
   "metadata": {
    "editable": true
   },
   "source": [
    "### Von Neumann entropy\n",
    "\n",
    "The quantum mechanical variant is the Von Neumann entropy"
   ]
  },
  {
   "cell_type": "markdown",
   "id": "8063667c",
   "metadata": {
    "editable": true
   },
   "source": [
    "$$\n",
    "S=-\\mathrm{Tr}[\\rho\\log_2{\\rho}].\n",
    "$$"
   ]
  },
  {
   "cell_type": "markdown",
   "id": "dcfa529a",
   "metadata": {
    "editable": true
   },
   "source": [
    "A pure state has entropy equal zero while entangled\n",
    "state have an entropy larger than zero. The von-Neumann entropy is\n",
    "defined as"
   ]
  },
  {
   "cell_type": "markdown",
   "id": "87ae52e7",
   "metadata": {
    "editable": true
   },
   "source": [
    "$$\n",
    "S(A,B)=-\\mathrm{Tr}\\left(\\rho_{A,B}\\log_2 (\\rho_{A,B})\\right).\n",
    "$$"
   ]
  },
  {
   "cell_type": "markdown",
   "id": "837e8502",
   "metadata": {
    "editable": true
   },
   "source": [
    "The example here shows the above von Neumann entropy based on the\n",
    "density matrix for the lowest many-body state. We see clearly a jump\n",
    "in the entropy around the point where we have a level crossing. At\n",
    "interaction strenght $\\lambda=0$ we have many-body states purely\n",
    "defined by their computational basis states. As we switch on the\n",
    "interaction strength, we obtain an increased degree of mixing and the\n",
    "entropy increases till we reach the level crossing point where we see\n",
    "an additional and sudden increase in entropy. Similar behaviors are\n",
    "observed for the other states. The most important result from this\n",
    "example is that entanglement is driven by the Hamiltonian itself and\n",
    "the strength of the interaction matrix elements and the\n",
    "non-interacting energies."
   ]
  },
  {
   "cell_type": "code",
   "execution_count": 2,
   "id": "843364a3",
   "metadata": {
    "collapsed": false,
    "editable": true
   },
   "outputs": [],
   "source": [
    "%matplotlib inline\n",
    "from  matplotlib import pyplot as plt\n",
    "import numpy as np\n",
    "from scipy.linalg import logm, expm\n",
    "def log2M(a): # base 2 matrix logarithm\n",
    "    return logm(a)/np.log(2.0)\n",
    "\n",
    "dim = 4\n",
    "Hamiltonian = np.zeros((dim,dim))\n",
    "#number of lambda values\n",
    "n = 40\n",
    "lmbd = np.linspace(0.0,1.0,n)\n",
    "Hx = 2.0\n",
    "Hz = 3.0\n",
    "# Non-diagonal part as sigma_x tensor product with sigma_x\n",
    "sx = np.matrix([[0,1],[1,0]])\n",
    "sx2 = Hx*np.kron(sx, sx)\n",
    "# Diagonal part as sigma_z tensor product with sigma_z\n",
    "sz = np.matrix([[1,0],[0,-1]])\n",
    "sz2 = Hz*np.kron(sz, sz)\n",
    "noninteracting = [0.0, 2.5, 6.5, 7.0]\n",
    "D = np.diag(noninteracting)\n",
    "Eigenvalue = np.zeros((dim,n))\n",
    "Entropy = np.zeros(n)\n",
    "\n",
    "for i in range(n): \n",
    "    Hamiltonian = lmbd[i]*(sx2+sz2)+D\n",
    "    # diagonalize and obtain eigenvalues, not necessarily sorted\n",
    "    EigValues, EigVectors = np.linalg.eig(Hamiltonian)\n",
    "    # sort eigenvectors and eigenvalues\n",
    "    permute = EigValues.argsort()\n",
    "    EigValues = EigValues[permute]\n",
    "    EigVectors = EigVectors[:,permute]\n",
    "    # Compute density matrix for selected system state, here ground state\n",
    "    DensityMatrix = np.zeros((dim,dim))\n",
    "    DensityMatrix = np.outer(EigVectors[:,0],EigVectors[:,0])\n",
    "    # Project down on substates and find density matrix for subsystem\n",
    "    d = np.matrix([[1,0],[0,1]])\n",
    "    v1 = [1.0,0.0]\n",
    "    proj1 = np.kron(v1,d)\n",
    "    x1 = proj1 @ DensityMatrix @ proj1.T\n",
    "    v2 = [0.0,1.0]\n",
    "    proj2 = np.kron(v2,d)\n",
    "    x2 = proj2 @ DensityMatrix @ proj2.T\n",
    "    # Total density matrix for subsystem\n",
    "    total = x1+x2\n",
    "    # von Neumann Entropy for subsystem \n",
    "    Entropy[i] = -np.matrix.trace(total @ log2M(total))\n",
    "    # Plotting eigenvalues and entropy as functions of interaction strengths\n",
    "    Eigenvalue[0,i] = EigValues[0]\n",
    "    Eigenvalue[1,i] = EigValues[1]\n",
    "    Eigenvalue[2,i] = EigValues[2]\n",
    "    Eigenvalue[3,i] = EigValues[3]\n",
    "plt.plot(lmbd, Eigenvalue[0,:] ,'b-',lmbd, Eigenvalue[1,:],'g-',)\n",
    "plt.plot(lmbd, Eigenvalue[2,:] ,'r-',lmbd, Eigenvalue[3,:],'y-',)\n",
    "plt.xlabel('$\\lambda$')\n",
    "plt.ylabel('Eigenvalues')\n",
    "plt.show()\n",
    "plt.plot(lmbd, Entropy)\n",
    "plt.xlabel('$\\lambda$')\n",
    "plt.ylabel('Entropy')          \n",
    "plt.show"
   ]
  },
  {
   "cell_type": "markdown",
   "id": "65a5b64c",
   "metadata": {
    "editable": true
   },
   "source": [
    "## Quantum dots and the Coulomb interaction\n",
    "\n",
    "Coulomb interaction governed entanglement can be realized in\n",
    "the system of electrons on the surface of superfluid helium, where\n",
    "qubit states are formed by in-plane lateral motional or out-of plane\n",
    "Rydberg states. Trapped near the surface of liquid helium these states\n",
    "have different spatial charge configurations and the wavefunctions of\n",
    "different electrons do not overlap.\n",
    "\n",
    "This results in a strong exchange\n",
    "free Coulomb interaction which depends on the states of the\n",
    "electrons. The lack of disorder in the systems\n",
    "also leads to slow electron decoherence, which has attracted interest\n",
    "to the system as a candidate for quantum information\n",
    "processing."
   ]
  },
  {
   "cell_type": "markdown",
   "id": "cdcf8cc9",
   "metadata": {
    "editable": true
   },
   "source": [
    "## Electrons on helium is another qubit platform\n",
    "\n",
    "**To our knowledge two qubit gates have never been discussed in a proper manner for these systems.**\n",
    "\n",
    "The static Coulomb interaction arises from a virtual photon exchange\n",
    " process between two charge particles according to quantum\n",
    " electrodynamics. This results in a correlated motion of two charges\n",
    " generating quantum entanglement."
   ]
  },
  {
   "cell_type": "markdown",
   "id": "1b368b18",
   "metadata": {
    "editable": true
   },
   "source": [
    "## Surface state electrons (SSE)\n",
    "\n",
    "Surface state electrons (SSE) 'floating' above liquid helium\n",
    "originates from quantization of electron's perpendicular to the\n",
    "surface motion in a trapping potential formed by attractive force from\n",
    "image charge and a large $\\sim$ 1 eV barrier at the liquid-vacuum\n",
    "interface. At low temperatures the SSE are trapped in the lowest\n",
    "Rydberg state for vertical motion some 11 nm above the helium surface,\n",
    "which is perfectly clean and has a permittivity close to that of\n",
    "vacuum.\n",
    "\n",
    "The weak interaction with enviroment, which is mainly governed\n",
    "by interaction with quantized surface capillary waves (ripplons) and\n",
    "bulk phonons, ensures long coherence times - a vital ingredient for\n",
    "any qubit platform. SSE's in-plane motion can be further localized by\n",
    "using microdevices on the length scales approaching the interelectron\n",
    "separation (at the order of one micron)."
   ]
  },
  {
   "cell_type": "markdown",
   "id": "c6598def",
   "metadata": {
    "editable": true
   },
   "source": [
    "## To read more\n",
    "\n",
    "See \"our own\" Mark Dykman's RMP article Mesoscopic physics of nanomechanical systems\n",
    "Rev. Mod. Phys. 94, 045005 at <https://journals.aps.org/rmp/abstract/10.1103/RevModPhys.94.045005>."
   ]
  },
  {
   "cell_type": "markdown",
   "id": "a97fe44d",
   "metadata": {
    "editable": true
   },
   "source": [
    "## Experimental set up"
   ]
  },
  {
   "cell_type": "markdown",
   "id": "8b2730bc",
   "metadata": {
    "editable": true
   },
   "source": [
    "## Building the solutions\n",
    "\n",
    "To investigate our model, which consists of two electrons confined to\n",
    "a one-dimensional external potential, we utilized the method of\n",
    "exact diagonalization to solve the two-body Schrödinger equation.\n",
    "We build a two-particle wave function from a set of\n",
    "single-particle functions.  The representation of the one-body\n",
    "Hamiltonian's eigenstates on a discrete grid offers us the\n",
    "flexibility to select the external potential of our choice, and it\n",
    "also fits the interpolated potential very effectively."
   ]
  },
  {
   "cell_type": "markdown",
   "id": "64d9b5b9",
   "metadata": {
    "editable": true
   },
   "source": [
    "## Computational Methods\n",
    "\n",
    "As we are only studying a model comprised of two electrons restricted\n",
    "to move in a one-dimensional external potential we have employed\n",
    "full configuration interaction (shell-model in NP) theory to compute the steady-state\n",
    "properties of the system.  We have used a static, one-dimensional,\n",
    "grid-based basis set for the single-particle functions.  This\n",
    "allows for flexibility in the choice of the external potential,\n",
    "and fits the interpolated potential particularly well.\n",
    "\n",
    "The Hamiltonian of $N$ interacting electrons confined by some potential $v(r)$ can be written on general form"
   ]
  },
  {
   "cell_type": "markdown",
   "id": "d37a941e",
   "metadata": {
    "editable": true
   },
   "source": [
    "<!-- Equation labels as ordinary links -->\n",
    "<div id=\"_auto3\"></div>\n",
    "\n",
    "$$\n",
    "\\begin{equation}\n",
    "\\hat{H} = \\sum_{i=1}^N \\left(-\\frac{1}{2}\\nabla_i^2 + v(r_i) \\right) + \\sum_{i < j} \\hat{u}(r_i, r_j),\n",
    "\\label{_auto3} \\tag{5}\n",
    "\\end{equation}\n",
    "$$"
   ]
  },
  {
   "cell_type": "markdown",
   "id": "9b92ae60",
   "metadata": {
    "editable": true
   },
   "source": [
    "where $\\hat{u}(i,j)$ is the electron-electron (Coulomb) interaction."
   ]
  },
  {
   "cell_type": "markdown",
   "id": "8fa950db",
   "metadata": {
    "editable": true
   },
   "source": [
    "## One-dimensional system\n",
    "\n",
    "We consider a one-dimensional model where the confining potential is parametrized/obtained from finite element calculations. \n",
    "The bare Coulomb interaction is divergent in 1D (REF) and it is customary to use a smoothed Coulomb interaction given by"
   ]
  },
  {
   "cell_type": "markdown",
   "id": "8c6c4114",
   "metadata": {
    "editable": true
   },
   "source": [
    "<!-- Equation labels as ordinary links -->\n",
    "<div id=\"_auto4\"></div>\n",
    "\n",
    "$$\n",
    "\\begin{equation}\n",
    "u(x_1, x_2) = \\frac{\\alpha}{\\sqrt{(x_1 - x_2)^2 + a^2}},\n",
    "\\label{_auto4} \\tag{6}\n",
    "\\end{equation}\n",
    "$$"
   ]
  },
  {
   "cell_type": "markdown",
   "id": "904a7893",
   "metadata": {
    "editable": true
   },
   "source": [
    "where $\\alpha$ adjusts the strength of the interaction and $a$ removes the singularity at $x_1 = x_2$.\n",
    "\n",
    "The single-particle functions  are chosen as the eigenfunctions of the single-particle Hamiltonian"
   ]
  },
  {
   "cell_type": "markdown",
   "id": "9eaaaaea",
   "metadata": {
    "editable": true
   },
   "source": [
    "<!-- Equation labels as ordinary links -->\n",
    "<div id=\"_auto5\"></div>\n",
    "\n",
    "$$\n",
    "\\begin{equation}\n",
    "\\left( -\\frac{d^2}{dx^2}+v(x) \\right) \\psi_p(x) = \\epsilon_p \\psi_p(x).\n",
    "\\label{_auto5} \\tag{7}\n",
    "\\end{equation}\n",
    "$$"
   ]
  },
  {
   "cell_type": "markdown",
   "id": "93fc7ce1",
   "metadata": {
    "editable": true
   },
   "source": [
    "## Details 1\n",
    "\n",
    "By entirely factoring out the spin component of the problem (as the singlet and triplet states will be degenerate), we can treat the two electrons as distinguishable particles, with one electron located in the left well and the other electron situated in the right well.\n",
    "The one-body Hamiltonian for each electron can then be written"
   ]
  },
  {
   "cell_type": "markdown",
   "id": "f2160cf7",
   "metadata": {
    "editable": true
   },
   "source": [
    "<!-- Equation labels as ordinary links -->\n",
    "<div id=\"_auto6\"></div>\n",
    "\n",
    "$$\n",
    "\\begin{equation}\n",
    "\\hat{h}^A= -\\frac{1}{2} \\dv[2]{}{x}+ v^A(x),\n",
    "\\label{_auto6} \\tag{8}\n",
    "\\end{equation}\n",
    "$$"
   ]
  },
  {
   "cell_type": "markdown",
   "id": "ed104fcf",
   "metadata": {
    "editable": true
   },
   "source": [
    "with $A \\in \\{L, R\\}$, and the two-body Hamiltonian is the regularized Coulomb interaction\n",
    "\n",
    "After dividing the Hamiltonian into two distinguishable subsystems $L$\n",
    "and $R$, we establish\n",
    "two DVR (Discrete Variable Representation) basis sets, one for each well."
   ]
  },
  {
   "cell_type": "markdown",
   "id": "943df2a8",
   "metadata": {
    "editable": true
   },
   "source": [
    "## Details 3\n",
    "\n",
    "We solve the full two-body problem using exact diagonalization.\n",
    "The wave function ansatz is then given by"
   ]
  },
  {
   "cell_type": "markdown",
   "id": "a104e70f",
   "metadata": {
    "editable": true
   },
   "source": [
    "<!-- Equation labels as ordinary links -->\n",
    "<div id=\"_auto7\"></div>\n",
    "\n",
    "$$\n",
    "\\begin{equation}\n",
    "\\vert\\Phi_I\\rangle = \\sum_{k = 0}^{N^L} \\sum_{l = 0}^{N^R} C_{kl, I}\n",
    "\\vert \\phi^{L}_k \\phi^{R}_l\\rangle,\n",
    "\\label{_auto7} \\tag{9}\n",
    "\\end{equation}\n",
    "$$"
   ]
  },
  {
   "cell_type": "markdown",
   "id": "6b62b748",
   "metadata": {
    "editable": true
   },
   "source": [
    "where no symmetry is assumed for the wavefunction as the\n",
    "particles are distinguishable, and the index\n",
    "$I = (i, j) = iN^R + j$ is a compound index denoting the\n",
    "excited two-body state we are looking at."
   ]
  },
  {
   "cell_type": "markdown",
   "id": "8dc4595e",
   "metadata": {
    "editable": true
   },
   "source": [
    "## Hartree method\n",
    "\n",
    "In the Hartree-method for two distinguishable particles\n",
    "we approximate the ground state $\\vert\\Phi_0\\rangle$ of the\n",
    "full Hamiltonian $\\hat{H}$ as \n",
    "the product state"
   ]
  },
  {
   "cell_type": "markdown",
   "id": "35e3a694",
   "metadata": {
    "editable": true
   },
   "source": [
    "$$\n",
    "\\vert\\Phi_0\\rangle \\approx \\vert\\Psi\\rangle= \\vert\\phi^L_0 \\phi^R_0\\rangle,\n",
    "$$"
   ]
  },
  {
   "cell_type": "markdown",
   "id": "f4ff2c87",
   "metadata": {
    "editable": true
   },
   "source": [
    "under the constraint that the Hartree orbitals are orthonormal."
   ]
  },
  {
   "cell_type": "markdown",
   "id": "f6a2d03d",
   "metadata": {
    "editable": true
   },
   "source": [
    "## Measuring the degree of entanglement\n",
    "\n",
    "Given that we are dealing with a bipartite quantum system, a natural measure for characterizing entanglement is the von Neumann entropy. It is defined as follows:"
   ]
  },
  {
   "cell_type": "markdown",
   "id": "913eecf3",
   "metadata": {
    "editable": true
   },
   "source": [
    "$$\n",
    "S= -\\mathrm{tr}(\\hat{\\rho}\\log_2(\\hat{\\rho})),\n",
    "$$"
   ]
  },
  {
   "cell_type": "markdown",
   "id": "428c02fc",
   "metadata": {
    "editable": true
   },
   "source": [
    "where $\\hat{\\rho}$ is the density operator/matrix."
   ]
  },
  {
   "cell_type": "markdown",
   "id": "5fff17e2",
   "metadata": {
    "editable": true
   },
   "source": [
    "## More entropy and Schmidt decomposition\n",
    "\n",
    "As the Hamiltonian eigenstates are pure states, we can evaluate their\n",
    "entanglement by bypassing the construction of the density operator\n",
    "and use the Schmidt decomposition instead. Specifically, for a given\n",
    "two-body wave function $\\\\vert \\Psi\\rangle$ expressed in terms of the\n",
    "Hartree product states, we can write"
   ]
  },
  {
   "cell_type": "markdown",
   "id": "a960b559",
   "metadata": {
    "editable": true
   },
   "source": [
    "$$\n",
    "\\begin{align*}\n",
    "\\vert\\Psi\\rangle &= \\sum_{k = 0}^{N^L} \\sum_{l = 0}^{N^R} C_{kl}\\vert\\phi^L_k \\phi^R_l\\rangle=\\sum_{p = 0}^{\\tilde{N}}\\sigma_{p}\\vert\\psi^L_p \\psi^R_p\\rangle,\n",
    "\\end{align*}\n",
    "$$"
   ]
  },
  {
   "cell_type": "markdown",
   "id": "aa970119",
   "metadata": {
    "editable": true
   },
   "source": [
    "where $C_{kl} = \\sum_{p = 0}^{\\tilde{N}} U_{kp}\\sigma_{p} V^{*}_{lp}$ is the singular value\n",
    "decomposition of the two-body coefficients.\n",
    "We have"
   ]
  },
  {
   "cell_type": "markdown",
   "id": "72f9f535",
   "metadata": {
    "editable": true
   },
   "source": [
    "$$\n",
    "\\begin{gather*}\n",
    "\\vert\\psi^L_p\\rangle\\equiv \\sum_{k = 0}^{N^L} U_{kp} \\vert\\phi^L_k\\rangle,\n",
    "\\qquad \\vert\\psi^R_p\\rangle\\equiv \\sum_{l = 0}^{N^R} V^{*}_{lp} \\vert\\phi^R_l\\rangle,\n",
    "\\end{gather*}\n",
    "$$"
   ]
  },
  {
   "cell_type": "markdown",
   "id": "d4e761e3",
   "metadata": {
    "editable": true
   },
   "source": [
    "are the Schmidt states, $\\tilde{N}$ is\n",
    "either $N^L$ or $N^R$ depending on the definition of the singular value decomposition, and $\\sigma_p$ are the singular values with $\\sigma_p^2$\n",
    "representing the occupation of the pair $\\vert\\psi^L_p \\psi^R_p\\rangle$."
   ]
  },
  {
   "cell_type": "markdown",
   "id": "544f54e6",
   "metadata": {
    "editable": true
   },
   "source": [
    "## Final Von Neumann entropy\n",
    "\n",
    "Using the singular values, we can compute the von Neumann entropy of $\\vert\\Psi\\rangle$ as follows:"
   ]
  },
  {
   "cell_type": "markdown",
   "id": "b260c261",
   "metadata": {
    "editable": true
   },
   "source": [
    "$$\n",
    "\\begin{align*}\n",
    "S = -\\sum_{p = 0}^{\\tilde{N}}\\sigma_p^2 \\log_2(\\sigma_p^2).\n",
    "\\end{align*}\n",
    "$$"
   ]
  },
  {
   "cell_type": "markdown",
   "id": "c6be8329",
   "metadata": {
    "editable": true
   },
   "source": [
    "## Analysis\n",
    "\n",
    "While the von Neumann entropy provides an objective measure of\n",
    "entanglement, it does not give information about which states\n",
    "are entangled.  In order to determine which states are mixed,\n",
    "we can use three additional quantities.\n",
    "\n",
    "1. The first quantity are the two-body energies $E_K$. We search for configurations where two or more energies are nearly degenerate, as this indicates a mixing of states. o The second quantity we use are the coefficients $C_{kl}$ themselves. In the Hartree basis, these coefficients give a good indication of which states are entangled.\n",
    "\n",
    "2. And the third is the particle density. For the state $\\ket{\\Psi}$ above, we can compute the particle density, which collapses to the electron density in the case of indistinguishable particles."
   ]
  },
  {
   "cell_type": "markdown",
   "id": "954698a1",
   "metadata": {
    "editable": true
   },
   "source": [
    "## Results\n",
    "\n",
    "Given a large degree of tuning of the electrostatic potential\n",
    "landscape with seven electrodes we search for well configurations\n",
    "corresponding to three different types of interaction between two\n",
    "electrons. In configuration I we address both qubits\n",
    "independently and perform single-qubit state rotations. Configurations\n",
    "II and III corresponds to avoided level crossings between two\n",
    "($E_{01}, E_{10}$) and three ($E_{11}, E_{20}, E_{02}$) energy levels\n",
    "respectively, where the electrons' motion becomes correlated,\n",
    "e.g. entangled."
   ]
  },
  {
   "cell_type": "markdown",
   "id": "c426888a",
   "metadata": {
    "editable": true
   },
   "source": [
    "## Where we are now\n",
    "\n",
    "1. Adding Time-dependent studies of two electrons in two wells in one dimensions\n",
    "\n",
    "2. Studies of the time-evolution of entangled states (now two electrons only)\n",
    "\n",
    "3. Use theory to find optimal experimental setup\n",
    "\n",
    "4. Expect two-electron system realized experimentally in approx $1$ year, great potential for studies of quantum simulations"
   ]
  },
  {
   "cell_type": "markdown",
   "id": "75c0fe03",
   "metadata": {
    "editable": true
   },
   "source": [
    "## Plans\n",
    "\n",
    "1. Add two and three-dimensions in order to simulate in  a more realistic way such many-body systems.\n",
    "\n",
    "2. Develop time-dependent FCI code, useful up to approximately 10 particles with **effective** (and effective Hilbert space) Hamiltonians in two and three dimensions\n",
    "\n",
    "3. Particles can be valence particles  or valence holes defined for an effective Hilbert space\n",
    "\n",
    "4. Develop codes for studies of entanglement as function of time\n",
    "\n",
    "5. Study the feasibility of various setups for quantum simulations\n",
    "\n",
    "6. For larger many-body systems, study for example time-dependent CC theory"
   ]
  },
  {
   "cell_type": "markdown",
   "id": "06ad5810",
   "metadata": {
    "editable": true
   },
   "source": [
    "## Additional material"
   ]
  },
  {
   "cell_type": "markdown",
   "id": "4a5f0e00",
   "metadata": {
    "editable": true
   },
   "source": [
    "## How to simulate quantum mechanical systems: VQE and efficient computations of gradients\n",
    "\n",
    "We start with a reminder on the VQE method with applications to the one-qubit system.\n",
    "We discussed this to some detail during the week of March 27-31. Here we revisit the one-qubit system and develop a VQE code for studying this system using gradient descent as a method to optimie the variational ansatz.\n",
    "\n",
    "We start with a simple $2\\times 2$ Hamiltonian matrix expressed in\n",
    "terms of Pauli $X$ and $Z$ matrices, as discussed in the project text.\n",
    "\n",
    "We define a  symmetric matrix  $H\\in {\\mathbb{R}}^{2\\times 2}$"
   ]
  },
  {
   "cell_type": "markdown",
   "id": "77e8950c",
   "metadata": {
    "editable": true
   },
   "source": [
    "$$\n",
    "H = \\begin{bmatrix} H_{11} & H_{12} \\\\ H_{21} & H_{22}\n",
    "\\end{bmatrix},\n",
    "$$"
   ]
  },
  {
   "cell_type": "markdown",
   "id": "5ca93878",
   "metadata": {
    "editable": true
   },
   "source": [
    "We  let $H = H_0 + H_I$, where"
   ]
  },
  {
   "cell_type": "markdown",
   "id": "eb79f928",
   "metadata": {
    "editable": true
   },
   "source": [
    "$$\n",
    "H_0= \\begin{bmatrix} E_1 & 0 \\\\ 0 & E_2\\end{bmatrix},\n",
    "$$"
   ]
  },
  {
   "cell_type": "markdown",
   "id": "14ad2abf",
   "metadata": {
    "editable": true
   },
   "source": [
    "is a diagonal matrix. Similarly,"
   ]
  },
  {
   "cell_type": "markdown",
   "id": "23e74256",
   "metadata": {
    "editable": true
   },
   "source": [
    "$$\n",
    "H_I= \\begin{bmatrix} V_{11} & V_{12} \\\\ V_{21} & V_{22}\\end{bmatrix},\n",
    "$$"
   ]
  },
  {
   "cell_type": "markdown",
   "id": "1d1d1662",
   "metadata": {
    "editable": true
   },
   "source": [
    "where $V_{ij}$ represent various interaction matrix elements.\n",
    "We can view $H_0$ as the non-interacting solution"
   ]
  },
  {
   "cell_type": "markdown",
   "id": "e8a390f3",
   "metadata": {
    "editable": true
   },
   "source": [
    "<!-- Equation labels as ordinary links -->\n",
    "<div id=\"_auto8\"></div>\n",
    "\n",
    "$$\n",
    "\\begin{equation}\n",
    "       H_0\\vert 0 \\rangle =E_1\\vert 0 \\rangle,\n",
    "\\label{_auto8} \\tag{10}\n",
    "\\end{equation}\n",
    "$$"
   ]
  },
  {
   "cell_type": "markdown",
   "id": "88e78c7c",
   "metadata": {
    "editable": true
   },
   "source": [
    "and"
   ]
  },
  {
   "cell_type": "markdown",
   "id": "fc5d2f5d",
   "metadata": {
    "editable": true
   },
   "source": [
    "<!-- Equation labels as ordinary links -->\n",
    "<div id=\"_auto9\"></div>\n",
    "\n",
    "$$\n",
    "\\begin{equation}\n",
    "       H_0\\vert 1\\rangle =E_2\\vert 1\\rangle,\n",
    "\\label{_auto9} \\tag{11}\n",
    "\\end{equation}\n",
    "$$"
   ]
  },
  {
   "cell_type": "markdown",
   "id": "4668991f",
   "metadata": {
    "editable": true
   },
   "source": [
    "where we have defined the orthogonal computational one-qubit basis states $\\vert 0\\rangle$ and $\\vert 1\\rangle$.\n",
    "\n",
    "We rewrite $H$ (and $H_0$ and $H_I$)  via Pauli matrices"
   ]
  },
  {
   "cell_type": "markdown",
   "id": "b8c2d278",
   "metadata": {
    "editable": true
   },
   "source": [
    "$$\n",
    "H_0 = \\mathcal{E} I + \\Omega \\sigma_z, \\quad \\mathcal{E} = \\frac{E_1\n",
    "  + E_2}{2}, \\; \\Omega = \\frac{E_1-E_2}{2},\n",
    "$$"
   ]
  },
  {
   "cell_type": "markdown",
   "id": "5e1b1821",
   "metadata": {
    "editable": true
   },
   "source": [
    "and"
   ]
  },
  {
   "cell_type": "markdown",
   "id": "561d4a41",
   "metadata": {
    "editable": true
   },
   "source": [
    "$$\n",
    "H_I = c \\boldsymbol{I} +\\omega_z\\sigma_z + \\omega_x\\sigma_x,\n",
    "$$"
   ]
  },
  {
   "cell_type": "markdown",
   "id": "919386bf",
   "metadata": {
    "editable": true
   },
   "source": [
    "with $c = (V_{11}+V_{22})/2$, $\\omega_z = (V_{11}-V_{22})/2$ and $\\omega_x = V_{12}=V_{21}$.\n",
    "We let our Hamiltonian depend linearly on a strength parameter $\\lambda$"
   ]
  },
  {
   "cell_type": "markdown",
   "id": "1336cbf9",
   "metadata": {
    "editable": true
   },
   "source": [
    "$$\n",
    "H=H_0+\\lambda H_\\mathrm{I},\n",
    "$$"
   ]
  },
  {
   "cell_type": "markdown",
   "id": "a01d9723",
   "metadata": {
    "editable": true
   },
   "source": [
    "with $\\lambda \\in [0,1]$, where the limits $\\lambda=0$ and $\\lambda=1$\n",
    "represent the non-interacting (or unperturbed) and fully interacting\n",
    "system, respectively.  The model is an eigenvalue problem with only\n",
    "two available states.\n",
    "\n",
    "Here we set the parameters $E_1=0$,\n",
    "$E_2=4$, $V_{11}=-V_{22}=3$ and $V_{12}=V_{21}=0.2$.\n",
    "\n",
    "The non-interacting solutions represent our computational basis.\n",
    "Pertinent to our choice of parameters, is that at $\\lambda\\geq 2/3$,\n",
    "the lowest eigenstate is dominated by $\\vert 1\\rangle$ while the upper\n",
    "is $\\vert 0 \\rangle$. At $\\lambda=1$ the $\\vert 0 \\rangle$ mixing of\n",
    "the lowest eigenvalue is $1\\%$ while for $\\lambda\\leq 2/3$ we have a\n",
    "$\\vert 0 \\rangle$ component of more than $90\\%$.  The character of the\n",
    "eigenvectors has therefore been interchanged when passing $z=2/3$. The\n",
    "value of the parameter $V_{12}$ represents the strength of the coupling\n",
    "between the two states."
   ]
  },
  {
   "cell_type": "markdown",
   "id": "82ae524a",
   "metadata": {
    "editable": true
   },
   "source": [
    "## Setting up the matrix"
   ]
  },
  {
   "cell_type": "code",
   "execution_count": 3,
   "id": "05d8f8fa",
   "metadata": {
    "collapsed": false,
    "editable": true
   },
   "outputs": [],
   "source": [
    "from  matplotlib import pyplot as plt\n",
    "import numpy as np\n",
    "dim = 2\n",
    "Hamiltonian = np.zeros((dim,dim))\n",
    "e0 = 0.0\n",
    "e1 = 4.0\n",
    "Xnondiag = 0.20\n",
    "Xdiag = 3.0\n",
    "Eigenvalue = np.zeros(dim)\n",
    "# setting up the Hamiltonian\n",
    "Hamiltonian[0,0] = Xdiag+e0\n",
    "Hamiltonian[0,1] = Xnondiag\n",
    "Hamiltonian[1,0] = Hamiltonian[0,1]\n",
    "Hamiltonian[1,1] = e1-Xdiag\n",
    "# diagonalize and obtain eigenvalues, not necessarily sorted\n",
    "EigValues, EigVectors = np.linalg.eig(Hamiltonian)\n",
    "permute = EigValues.argsort()\n",
    "EigValues = EigValues[permute]\n",
    "# print only the lowest eigenvalue\n",
    "print(EigValues[0])"
   ]
  },
  {
   "cell_type": "markdown",
   "id": "f45d340a",
   "metadata": {
    "editable": true
   },
   "source": [
    "Now rewrite it in terms of the identity matrix and the Pauli matrix X and Z"
   ]
  },
  {
   "cell_type": "code",
   "execution_count": 4,
   "id": "b2dd843f",
   "metadata": {
    "collapsed": false,
    "editable": true
   },
   "outputs": [],
   "source": [
    "# Now rewrite it in terms of the identity matrix and the Pauli matrix X and Z\n",
    "X = np.array([[0,1],[1,0]])\n",
    "Y = np.array([[0,-1j],[1j,0]])\n",
    "Z = np.array([[1,0],[0,-1]])\n",
    "# identity matrix\n",
    "I = np.array([[1,0],[0,1]])\n",
    "\n",
    "epsilon = (e0+e1)*0.5; omega = (e0-e1)*0.5\n",
    "c = 0.0; omega_z=Xdiag; omega_x = Xnondiag\n",
    "Hamiltonian = (epsilon+c)*I+(omega_z+omega)*Z+omega_x*X\n",
    "EigValues, EigVectors = np.linalg.eig(Hamiltonian)\n",
    "permute = EigValues.argsort()\n",
    "EigValues = EigValues[permute]\n",
    "# print only the lowest eigenvalue\n",
    "print(EigValues[0])"
   ]
  },
  {
   "cell_type": "markdown",
   "id": "9fb7587b",
   "metadata": {
    "editable": true
   },
   "source": [
    "## Implementing the VQE\n",
    "\n",
    "For a one-qubit system we can reach every point on the Bloch sphere\n",
    "(as discussed earlier) with a rotation about the $x$-axis and the\n",
    "$y$-axis.\n",
    "\n",
    "We can express this mathematically through the following operations (see whiteboard for the drawing), giving us a new state $\\vert \\psi\\rangle$"
   ]
  },
  {
   "cell_type": "markdown",
   "id": "a0d1aec0",
   "metadata": {
    "editable": true
   },
   "source": [
    "$$\n",
    "\\vert\\psi\\rangle = R_y(\\phi)R_x(\\theta)\\vert 0 \\rangle.\n",
    "$$"
   ]
  },
  {
   "cell_type": "markdown",
   "id": "a910a519",
   "metadata": {
    "editable": true
   },
   "source": [
    "We can produce multiple ansatzes for the new state in terms of the\n",
    "angles $\\theta$ and $\\phi$.  With these ansatzes we can in turn\n",
    "calculate the expectation value of the above Hamiltonian, now\n",
    "rewritten in terms of various Pauli matrices (and thereby gates), that is compute"
   ]
  },
  {
   "cell_type": "markdown",
   "id": "59915a28",
   "metadata": {
    "editable": true
   },
   "source": [
    "$$\n",
    "\\langle \\psi \\vert (c+\\mathcal{E})\\boldsymbol{I} + (\\Omega+\\omega_z)\\boldsymbol{\\sigma}_z + \\omega_x\\boldsymbol{\\sigma}_x\\vert \\psi \\rangle.\n",
    "$$"
   ]
  },
  {
   "cell_type": "markdown",
   "id": "5cebd087",
   "metadata": {
    "editable": true
   },
   "source": [
    "We can now set up a series of ansatzes for $\\vert \\psi \\rangle$ as\n",
    "function of the angles $\\theta$ and $\\phi$ and find thereafter the\n",
    "variational minimum using for example a gradient descent method.\n",
    "\n",
    "To do so, we need to remind ourselves about the mathematical expressions for\n",
    "the rotational matrices/operators."
   ]
  },
  {
   "cell_type": "markdown",
   "id": "4623e909",
   "metadata": {
    "editable": true
   },
   "source": [
    "$$\n",
    "R_x(\\theta)=\\cos{\\frac{\\theta}{2}}\\boldsymbol{I}-\\imath \\sin{\\frac{\\theta}{2}}\\boldsymbol{\\sigma}_x,\n",
    "$$"
   ]
  },
  {
   "cell_type": "markdown",
   "id": "81004702",
   "metadata": {
    "editable": true
   },
   "source": [
    "and"
   ]
  },
  {
   "cell_type": "markdown",
   "id": "e2a4c7ed",
   "metadata": {
    "editable": true
   },
   "source": [
    "$$\n",
    "R_y(\\phi)=\\cos{\\frac{\\phi}{2}}\\boldsymbol{I}-\\imath \\sin{\\frac{\\phi}{2}}\\boldsymbol{\\sigma}_y.\n",
    "$$"
   ]
  },
  {
   "cell_type": "code",
   "execution_count": 5,
   "id": "238c8398",
   "metadata": {
    "collapsed": false,
    "editable": true
   },
   "outputs": [],
   "source": [
    "# define the rotation matrices\n",
    "# Define angles theta and phi\n",
    "theta = 0.5*np.pi; phi = 0.2*np.pi\n",
    "Rx = np.cos(theta*0.5)*I-1j*np.sin(theta*0.5)*X\n",
    "Ry = np.cos(phi*0.5)*I-1j*np.sin(phi*0.5)*Y\n",
    "#define basis states\n",
    "basis0 = np.array([1,0])\n",
    "basis1 = np.array([0,1])\n",
    "\n",
    "NewBasis = Ry @ Rx @ basis0\n",
    "print(NewBasis)\n",
    "# Compute the expectation value\n",
    "#Note hermitian conjugation\n",
    "Energy = NewBasis.conj().T @ Hamiltonian @ NewBasis\n",
    "print(Energy)"
   ]
  },
  {
   "cell_type": "markdown",
   "id": "1648608c",
   "metadata": {
    "editable": true
   },
   "source": [
    "Not an impressive results. We set up now a loop over many angles $\\theta$ and $\\phi$ and compute the energies"
   ]
  },
  {
   "cell_type": "code",
   "execution_count": 6,
   "id": "b9aec540",
   "metadata": {
    "collapsed": false,
    "editable": true
   },
   "outputs": [],
   "source": [
    "# define a number of angles\n",
    "n = 20\n",
    "angle = np.arange(0,180,10)\n",
    "n = np.size(angle)\n",
    "ExpectationValues = np.zeros((n,n))\n",
    "for i in range (n):\n",
    "    theta = np.pi*angle[i]/180.0\n",
    "    Rx = np.cos(theta*0.5)*I-1j*np.sin(theta*0.5)*X\n",
    "    for j in range (n):\n",
    "        phi = np.pi*angle[j]/180.0\n",
    "        Ry = np.cos(phi*0.5)*I-1j*np.sin(phi*0.5)*Y\n",
    "        NewBasis = Ry @ Rx @ basis0\n",
    "        Energy = NewBasis.conj().T @ Hamiltonian @ NewBasis\n",
    "        Edifference=abs(np.real(EigValues[0]-Energy))\n",
    "        ExpectationValues[i,j]=Edifference\n",
    "\n",
    "print(np.min(ExpectationValues))"
   ]
  },
  {
   "cell_type": "markdown",
   "id": "607024f3",
   "metadata": {
    "editable": true
   },
   "source": [
    "Clearly, this is not the very best way of proceeding. Rather, here we\n",
    "could try to find the optimal values for the parameters $\\theta$ and\n",
    "$\\phi$ through computation of their respective gradients and thereby\n",
    "find the minimum as function of the optimal angles $\\hat{\\theta}$ and\n",
    "$\\hat{\\phi}$.\n",
    "\n",
    "Let us now implement a classical gradient descent algorithm to the computation of the energies. \n",
    "We will follow closely  <https://journals.aps.org/pra/abstract/10.1103/PhysRevA.99.032331> in order to calculate gradients of the Hamiltonian."
   ]
  },
  {
   "cell_type": "markdown",
   "id": "6bc0535f",
   "metadata": {
    "editable": true
   },
   "source": [
    "## Gradient descent and calculations of gradients\n",
    "\n",
    "In order to optimize the VQE ansatz, we need to compute derivatives\n",
    "with respect to the variational parameters.  Here we develop first a\n",
    "simpler approach tailored to the one-qubit case. For this particular\n",
    "case, we have defined an ansatz in terms of the Pauli rotation\n",
    "matrices. These define an arbitrary one-qubit state on the Bloch\n",
    "sphere through the expression"
   ]
  },
  {
   "cell_type": "markdown",
   "id": "95ba5c7d",
   "metadata": {
    "editable": true
   },
   "source": [
    "$$\n",
    "\\vert\\psi\\rangle = \\vert \\psi(\\theta,\\phi)\\rangle =R_y(\\phi)R_x(\\theta)\\vert 0 \\rangle.\n",
    "$$"
   ]
  },
  {
   "cell_type": "markdown",
   "id": "1ff8a4e4",
   "metadata": {
    "editable": true
   },
   "source": [
    "Each of these rotation matrices can be written in a more general form as"
   ]
  },
  {
   "cell_type": "markdown",
   "id": "3ad2fc92",
   "metadata": {
    "editable": true
   },
   "source": [
    "$$\n",
    "R_{i}(\\gamma)=\\exp{-(\\imath\\frac{\\gamma}{2}\\sigma_i)}=\\cos{(\\frac{\\gamma}{2})}\\boldsymbol{I}-\\imath\\sin{(\\frac{\\gamma}{2})}\\boldsymbol{\\sigma}_i,\n",
    "$$"
   ]
  },
  {
   "cell_type": "markdown",
   "id": "65795c71",
   "metadata": {
    "editable": true
   },
   "source": [
    "where $\\sigma_i$ is one of the Pauli matrices $\\sigma_{x,y,z}$. \n",
    "\n",
    "It is easy to see that the derivative with respect to $\\gamma$ is"
   ]
  },
  {
   "cell_type": "markdown",
   "id": "3e48f19e",
   "metadata": {
    "editable": true
   },
   "source": [
    "$$\n",
    "\\frac{\\partial R_{i}(\\gamma)}{\\partial \\gamma}=-\\frac{\\gamma}{2}\\boldsymbol{\\sigma}_i R_{i}(\\gamma).\n",
    "$$"
   ]
  },
  {
   "cell_type": "markdown",
   "id": "9915ad62",
   "metadata": {
    "editable": true
   },
   "source": [
    "We can now calculate the derivative of the expectation value of the\n",
    "Hamiltonian in terms of the angles $\\theta$ and $\\phi$. We have two\n",
    "derivatives"
   ]
  },
  {
   "cell_type": "markdown",
   "id": "049b2400",
   "metadata": {
    "editable": true
   },
   "source": [
    "$$\n",
    "\\frac{\\partial}{\\partial \\theta}\\left[\\langle \\psi(\\theta,\\phi) \\vert \\boldsymbol{H}\\vert \\psi(\\theta,\\phi)\\rangle\\right]=\\frac{\\partial}{\\partial \\theta}\\left[\\langle\\boldsymbol{H}(\\theta,\\phi)\\rangle\\right]=\\langle \\psi(\\theta,\\phi) \\vert \\boldsymbol{H}(-\\frac{\\imath}{2}\\boldsymbol{\\sigma}_x\\vert \\psi(\\theta,\\phi)\\rangle+\\hspace{0.1cm}\\mathrm{h.c},\n",
    "$$"
   ]
  },
  {
   "cell_type": "markdown",
   "id": "b0b22add",
   "metadata": {
    "editable": true
   },
   "source": [
    "and"
   ]
  },
  {
   "cell_type": "markdown",
   "id": "2d1e82be",
   "metadata": {
    "editable": true
   },
   "source": [
    "$$\n",
    "\\frac{\\partial }{\\partial \\phi}\\left[\\langle \\psi(\\theta,\\phi) \\vert \\boldsymbol{H}\\vert \\psi(\\theta,\\phi)\\rangle\\right]=\\frac{\\partial}{\\partial \\phy}\\left[\\langle\\boldsymbol{H}(\\theta,\\phi)\\rangle\\right]=\\langle \\psi(\\theta,\\phi) \\vert \\boldsymbol{H}(-\\frac{\\imath}{2}\\boldsymbol{\\sigma}_y\\vert \\psi(\\theta,\\phi)\\rangle+\\hspace{0.1cm}\\mathrm{h.c}.\n",
    "$$"
   ]
  },
  {
   "cell_type": "markdown",
   "id": "936935bf",
   "metadata": {
    "editable": true
   },
   "source": [
    "This means that we have to calculate two additional expectation values\n",
    "in addition to the expectation value of the Hamiltonian itself.  In\n",
    "our first attempt, we will compute these expectation values in a brute\n",
    "force way, performing the various matrix-matrix and matrix-vector\n",
    "multiplications. As the reader quickly will see, this approach becomes\n",
    "unpractical if we venture beyond some few qubits.  We will try to\n",
    "rewrite the above derivatives in a smarter way, see [the article by\n",
    "Maria Schuld et\n",
    "al](https://journals.aps.org/pra/abstract/10.1103/PhysRevA.99.032331)."
   ]
  },
  {
   "cell_type": "markdown",
   "id": "83586a30",
   "metadata": {
    "editable": true
   },
   "source": [
    "## A smarter way of doing this\n",
    "\n",
    "The above approach means that we are setting up several matrix-matrix\n",
    "amd matrix-vector multiplications. Although straight forward it is not\n",
    "the most efficient way of doing this, in particular in case the\n",
    "matrices become large (and sparse). But there are some more important\n",
    "issues.\n",
    "\n",
    "In a physical realization of these systems we cannot just multiply the\n",
    "state with the Hamiltonian. When performing a measurement we can only\n",
    "measure in one particular direction. For the computational basis\n",
    "states which we have, $\\vert 0\\rangle$ and $\\vert 1\\rangle$, we have\n",
    "to measure along the bases of the Pauli matrices and reconstruct the\n",
    "eigenvalues from these measurements.\n",
    "\n",
    "From our earlier discussions we know that the Pauli $Z$ matrix has the above basis states as eigen states through"
   ]
  },
  {
   "cell_type": "markdown",
   "id": "156fca6a",
   "metadata": {
    "editable": true
   },
   "source": [
    "$$\n",
    "\\boldsymbol{\\sigma}_z\\vert 0 \\rangle = \\boldsymbol{Z}\\vert 0 \\rangle=+1\\vert 0 \\rangle,\n",
    "$$"
   ]
  },
  {
   "cell_type": "markdown",
   "id": "0b051f39",
   "metadata": {
    "editable": true
   },
   "source": [
    "and"
   ]
  },
  {
   "cell_type": "markdown",
   "id": "fb945987",
   "metadata": {
    "editable": true
   },
   "source": [
    "$$\n",
    "\\boldsymbol{\\sigma}_z\\vert 1 \\rangle = \\boldsymbol{Z}\\vert 1 \\rangle=-1\\vert 1 \\rangle,\n",
    "$$"
   ]
  },
  {
   "cell_type": "markdown",
   "id": "14a4ee1f",
   "metadata": {
    "editable": true
   },
   "source": [
    "with eigenvalue $-1$.\n",
    "\n",
    "For the Pauli $X$ matrix on the other hand we have"
   ]
  },
  {
   "cell_type": "markdown",
   "id": "893be7f7",
   "metadata": {
    "editable": true
   },
   "source": [
    "$$\n",
    "\\boldsymbol{\\sigma}_x\\vert 0 \\rangle = \\boldsymbol{X}\\vert 0 \\rangle=+1\\vert 1 \\rangle,\n",
    "$$"
   ]
  },
  {
   "cell_type": "markdown",
   "id": "dc61d248",
   "metadata": {
    "editable": true
   },
   "source": [
    "and"
   ]
  },
  {
   "cell_type": "markdown",
   "id": "2d34b27f",
   "metadata": {
    "editable": true
   },
   "source": [
    "$$\n",
    "\\boldsymbol{\\sigma}_x\\vert 1 \\rangle = \\boldsymbol{X}\\vert 1 \\rangle=-1\\vert 0 \\rangle,\n",
    "$$"
   ]
  },
  {
   "cell_type": "markdown",
   "id": "5c9feffb",
   "metadata": {
    "editable": true
   },
   "source": [
    "with eigenvalues $1$ in both cases. The latter two equations tell us\n",
    "that the computational basis we have chosen, and in which we will\n",
    "prepare our states, is not an eigenbasis of the $\\sigma_x$ matrix.\n",
    "\n",
    "We will thus try to rewrite the Pauli $X$ matrix in terms of a Pauli $Z$ matrix. Fortunately this can be done using the Hadamard matrix twice, that is"
   ]
  },
  {
   "cell_type": "markdown",
   "id": "3b7fa79d",
   "metadata": {
    "editable": true
   },
   "source": [
    "$$\n",
    "\\boldsymbol{X}=\\boldsymbol{\\sigma}_x=\\boldsymbol{H}\\boldsymbol{Z}\\boldsymbol{H}.\n",
    "$$"
   ]
  },
  {
   "cell_type": "markdown",
   "id": "cec6ac68",
   "metadata": {
    "editable": true
   },
   "source": [
    "The Pauli $Y$ matrix can be written as"
   ]
  },
  {
   "cell_type": "markdown",
   "id": "c93c404a",
   "metadata": {
    "editable": true
   },
   "source": [
    "$$\n",
    "\\boldsymbol{Y}=\\boldsymbol{\\sigma}_y=\\boldsymbol{H}\\boldsymbol{S}^{\\dagger}\\boldsymbol{Z}\\boldsymbol{H}\\boldsymbol{S},\n",
    "$$"
   ]
  },
  {
   "cell_type": "markdown",
   "id": "442deaab",
   "metadata": {
    "editable": true
   },
   "source": [
    "where $S$ is the phase matrix"
   ]
  },
  {
   "cell_type": "markdown",
   "id": "05c6ae44",
   "metadata": {
    "editable": true
   },
   "source": [
    "$$\n",
    "S = \\begin{bmatrix} 1 & 0 \\\\ 0 & \\imath \\end{bmatrix}.\n",
    "$$"
   ]
  },
  {
   "cell_type": "markdown",
   "id": "17a67898",
   "metadata": {
    "editable": true
   },
   "source": [
    "We will denote the Pauli matrices by $X$, $Y$ and $Z$ and we can write the expectation value of the Hamiltonian as"
   ]
  },
  {
   "cell_type": "markdown",
   "id": "fef4d7e8",
   "metadata": {
    "editable": true
   },
   "source": [
    "$$\n",
    "\\langle \\psi \\vert (c+\\mathcal{E})\\boldsymbol{I} + (\\Omega+\\omega_z)\\boldsymbol{Z} + \\omega_x\\boldsymbol{H}\\boldsymbol{Z}\\boldsymbol{H}\\vert \\psi \\rangle,\n",
    "$$"
   ]
  },
  {
   "cell_type": "markdown",
   "id": "5e5a8a39",
   "metadata": {
    "editable": true
   },
   "source": [
    "which we can rewrite as"
   ]
  },
  {
   "cell_type": "markdown",
   "id": "89db6b2d",
   "metadata": {
    "editable": true
   },
   "source": [
    "$$\n",
    "(c+\\mathcal{E})\\langle \\psi \\vert \\boldsymbol{I}\\vert \\psi \\rangle+(\\Omega+\\omega_z)\\langle \\psi \\vert \\boldsymbol{Z}\\vert \\psi \\rangle+\\omega_x\\langle \\psi \\boldsymbol{H}\\vert \\boldsymbol{Z}\\vert\\boldsymbol{H}\\psi \\rangle.\n",
    "$$"
   ]
  },
  {
   "cell_type": "markdown",
   "id": "7a3b1a4a",
   "metadata": {
    "editable": true
   },
   "source": [
    "The first and second term are to easy to perform a measurement on since we we just need to compute\n",
    "$\\langle \\psi\\vert \\boldsymbol{I}\\vert \\psi\\rangle$ and $\\langle \\psi\\vert \\boldsymbol{Z}\\vert \\psi\\rangle$.\n",
    "For the final term we need just to add the action of the Hadamard matrix and we are done."
   ]
  }
 ],
 "metadata": {},
 "nbformat": 4,
 "nbformat_minor": 5
}
