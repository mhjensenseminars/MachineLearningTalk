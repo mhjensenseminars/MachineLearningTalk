{
 "cells": [
  {
   "cell_type": "markdown",
   "id": "b9361ed0",
   "metadata": {},
   "source": [
    "<!-- HTML file automatically generated from DocOnce source (https://github.com/doconce/doconce/)\n",
    "doconce format html quantumcomputingMSU.do.txt --no_mako -->\n",
    "<!-- dom:TITLE: Coulomb interaction driven entanglement of electrons on helium, theory and experiment -->"
   ]
  },
  {
   "cell_type": "markdown",
   "id": "b543325e",
   "metadata": {},
   "source": [
    "# Coulomb interaction driven entanglement of electrons on helium, theory and experiment\n",
    "**Morten Hjorth-Jensen**, Department of Physics and Astronomy and Facility for Rare Isotope Beams (FRIB), Michigan State University, USA and Department of Physics, University of Oslo, Norway\n",
    "\n",
    "Date: **April 11, 2023**"
   ]
  },
  {
   "cell_type": "markdown",
   "id": "ee49ae16",
   "metadata": {},
   "source": [
    "## What is this talk about?\n",
    "\n",
    "Here we describe a method for generating motional entanglement between\n",
    "two electrons trapped above the surface of superfluid helium. In this\n",
    "proposed scheme these electronic charge qubits are laterally confined\n",
    "via electrostatic gates to create an anharmonic trapping\n",
    "potential. When the system is cooled to sufficiently low temperature\n",
    "these in-plane charge qubit states are quantized and circuit quantum\n",
    "electrodynamic methods can be used to control and readout single qubit\n",
    "operations. Perspectives for quantum simulations with quantum dots\n",
    "systems will be discussed as well as how to set up explicit circuits\n",
    "for simulating nuclear physics Hamiltonians, theoretically and\n",
    "experimentally."
   ]
  },
  {
   "cell_type": "markdown",
   "id": "fd455c18",
   "metadata": {},
   "source": [
    "## Many people to thank\n",
    "\n",
    "**MSU.**\n",
    "\n",
    "Niyaz Beysengulov and Johannes Pollanen (experiment, Physics); Zachary Stewart, Jared Weidman, and Angela Wilson (quantum chemistry)\n",
    "\n",
    "**University of Oslo.**\n",
    "\n",
    "Øyvind Sigmundson Schøyen, Stian Dysthe Bilek, Jonas Boym Flaten, and Oskar Leinonen and Håkon Emil Kristiansen (Physics and quantum chemistry). In addition collaboration on point defects with Marianne Bathen and Lasse Vines."
   ]
  },
  {
   "cell_type": "markdown",
   "id": "ae211e2d",
   "metadata": {},
   "source": [
    "## Why? Basic motivation\n",
    "\n",
    "How can we avoid the dimensionality curse? Many possibilities\n",
    "1. smarter basis functions\n",
    "\n",
    "2. resummation of specific correlations\n",
    "\n",
    "3. stochastic sampling of high-lying states (stochastic FCI, CC and SRG/IMSRG)\n",
    "\n",
    "4. many more"
   ]
  },
  {
   "cell_type": "markdown",
   "id": "c6a71c41",
   "metadata": {},
   "source": [
    "## Literature and more reading\n",
    "\n",
    "1. These slides at <https://mhjensenseminars.github.io/MachineLearningTalk/doc/pub/quantumcomputingMSU/html/quantumcomputingMSU-reveal.html>\n",
    "\n",
    "2. [Justyna P. Zwolak and Jacob M. Taylor, Rev. Mod. Phys. 95, 011006, Advances in automation of quantum dot devices control](https://journals.aps.org/rmp/abstract/10.1103/RevModPhys.95.011006)\n",
    "\n",
    "3. [Pollanen and many other, Accelerating Progress Towards Practical Quantum Advantage: The Quantum Technology Demonstration Project Roadmap](https://arxiv.org/pdf/2210.14757.pdf)\n",
    "\n",
    "4. [Osada et al, introduction to quantum technologies, Springer, 2022](https://link.springer.com/book/10.1007/978-981-19-4641-7)\n",
    "\n",
    "5. [Lectures on Quantum Computing, MHJ](https://github.com/CompPhysics/QuantumComputingMachineLearning)\n",
    "\n",
    "6. [Original inspiration a series of articles of Loss and DiVincenzo from the nineties, Quantum Computation with Quantum Dots](https://journals.aps.org/pra/pdf/10.1103/PhysRevA.57.120)"
   ]
  },
  {
   "cell_type": "markdown",
   "id": "a38df9d2",
   "metadata": {},
   "source": [
    "## Quantum Engineering\n",
    "\n",
    "**Quantum Computing requirements.**\n",
    "\n",
    "1. be scalable\n",
    "\n",
    "2. have qubits that can be entangled\n",
    "\n",
    "3. have reliable initializations protocols to a standard state\n",
    "\n",
    "4. have a set of universal quantum gates to control the quantum evolution\n",
    "\n",
    "5. have a coherence time much longer than the gate operation time\n",
    "\n",
    "6. have a reliable read-out mechanism for measuring the qubit states\n",
    "\n",
    "7. and many more"
   ]
  },
  {
   "cell_type": "markdown",
   "id": "7483b692",
   "metadata": {},
   "source": [
    "## Candidate systems\n",
    "\n",
    "1. Superconducting Josephon junctions\n",
    "\n",
    "2. Single photons\n",
    "\n",
    "3. [Trapped ions and atoms](https://journals.aps.org/rmp/pdf/10.1103/RevModPhys.93.025001)\n",
    "\n",
    "4. Nuclear Magnetic Resonance\n",
    "\n",
    "5. **Quantum dots, expt at MSU**\n",
    "\n",
    "6. Point Defects in semiconductors\n",
    "\n",
    "7. and more"
   ]
  },
  {
   "cell_type": "markdown",
   "id": "d56c0f82",
   "metadata": {},
   "source": [
    "## Electrons (quantum dots) on superfluid helium\n",
    "\n",
    "Electrons on [superfluid helium represent](https://www.youtube.com/watch?v=EuDuM-fe-lA&ab_channel=JoshuahHeath) a promising platform for investigating\n",
    "strongly-coupled qubits.\n",
    "\n",
    "Therefore a systematic investigation of the\n",
    "controlled generation of entanglement between two trapped electrons\n",
    "under the influence of coherent microwave driving pulses, taking into\n",
    "account the effects of the Coulomb interaction between electrons, is\n",
    "of significant importance for quantum information processing using\n",
    "trapped electrons."
   ]
  },
  {
   "cell_type": "markdown",
   "id": "2f6fa8bc",
   "metadata": {},
   "source": [
    "## Methods and Applications\n",
    "1. Time-Dependent full configuration interaction theory\n",
    "\n",
    "2. Time-dependent Coupled-Cluster theory\n",
    "\n",
    "3. Designing quantum operations and quantum simulators"
   ]
  },
  {
   "cell_type": "markdown",
   "id": "1cc67447",
   "metadata": {},
   "source": [
    "## Entanglement\n",
    "\n",
    "[Entanglement](https://link.springer.com/content/pdf/10.1007/s11232-007-0098-9.pdf) is the fundamental characteristic that distinguishes\n",
    "quantum systems composed of two or more coupled objects from their\n",
    "classical counterparts. The study of entanglement in precisely\n",
    "engineered quantum systems with countably many degrees of freedom is\n",
    "at the forefront of modern physics and is a key resource in quantum\n",
    "information science (QIS). This is particularly true in the\n",
    "development of two-qubit logic for quantum computation.\n",
    "\n",
    "The\n",
    "generation of two-qubit entanglement has been demonstrated in a wide\n",
    "variety of physical systems used in present-day quantum computing,\n",
    "including superconducting circuits, tapped\n",
    "ions, semiconductor quantum dots, color-center\n",
    "defects in diamond, and neutral atoms in optical\n",
    "latticesjust to name a few."
   ]
  },
  {
   "cell_type": "markdown",
   "id": "493ef605",
   "metadata": {},
   "source": [
    "## More on Entanglement\n",
    "\n",
    "Generating an entanglement between two quantum systems rely on\n",
    "exploiting interactions in a controllable way. The details in the\n",
    "interaction Hamiltonian between two systems defines the protocol\n",
    "schemes for two-qubit logic.\n",
    "\n",
    "In  superconducting circuits the\n",
    "interaction between qubits may arise from direct capacitive coupling\n",
    "between circuit elements or by indirect coupling of two qubits to a\n",
    "common resonator (virtually populating resonator mode) which results\n",
    "in a non-local Hamiltonian in the form of exchange\n",
    "interaction. This allow to implement various\n",
    "schemes for entanglement, such as $\\sqrt{i\\text{SWAP}}$, controlled-phase\n",
    "gate, resonator-induced phase\n",
    "gate, cross-resonance gate."
   ]
  },
  {
   "cell_type": "markdown",
   "id": "29cd7100",
   "metadata": {},
   "source": [
    "## Entanglement gates in trapped ions and more\n",
    "\n",
    "Entanglement gates in trapped ions are\n",
    "produced by means of the Coulomb interaction, where shared motional\n",
    "modes of two or more ions, entangled to their internal states, used\n",
    "for transferring excitations between ion\n",
    "qubits. This has been experimentally\n",
    "demonstrated.\n",
    "\n",
    "In photonic quantum\n",
    "computing schemes two-qubit entangling operations are realized by\n",
    "nonlinear interactions between two photons scattering from quantum\n",
    "dots, plasmonic nanowires, diamond vacancy centers and others embedded\n",
    "into waveguides. Two-qubit gates in\n",
    "semiconductor quantum dots are based on spin-spin exchange\n",
    "interactions or generated\n",
    "by coupling to a superconducting resonator via artificial spin-orbit\n",
    "interaction."
   ]
  },
  {
   "cell_type": "markdown",
   "id": "cf1c72ad",
   "metadata": {},
   "source": [
    "## Coulomb interaction\n",
    "\n",
    "Coulomb interaction governed entanglement can be realized in\n",
    "the system of electrons on the surface of superfluid helium, where\n",
    "qubit states are formed by in-plane lateral motional or out-of plane\n",
    "Rydberg states. Trapped near the surface of liquid helium these states\n",
    "have different spatial charge configurations and the wavefunctions of\n",
    "different electrons do not overlap.\n",
    "\n",
    "This results in a strong exchange\n",
    "free Coulomb interaction which depends on the states of the\n",
    "electrons. The lack of disorder in the systems\n",
    "also leads to slow electron decoherence, which has attracted interest\n",
    "to the system as a candidate for quantum information\n",
    "processing."
   ]
  },
  {
   "cell_type": "markdown",
   "id": "02dae02d",
   "metadata": {},
   "source": [
    "## Electrons on helium is another qubit platform\n",
    "\n",
    "**To our knowledge two qubit gates have never been discussed in a proper manner.**\n",
    "\n",
    "The static Coulomb interaction arises from a virtual photon exchange\n",
    " process between two charge particles according to quantum\n",
    " electrodynamics. This results in a correlated motion of two charges\n",
    " generating quantum entanglement."
   ]
  },
  {
   "cell_type": "markdown",
   "id": "cb1f2598",
   "metadata": {},
   "source": [
    "## Surface state electrons (SSE)\n",
    "\n",
    "Surface state electrons (SSE) 'floating' above liquid helium\n",
    "originates from quantization of electron's perpendicular to the\n",
    "surface motion in a trapping potential formed by attractive force from\n",
    "image charge and a large $\\sim$ 1 eV barrier at the liquid-vacuum\n",
    "interface. At low temperatures the SSE are trapped in the lowest\n",
    "Rydberg state for vertical motion some 11 nm above the helium surface,\n",
    "which is perfectly clean and has a permittivity close to that of\n",
    "vacuum.\n",
    "\n",
    "The weak interaction with enviroment, which is mainly governed\n",
    "by interaction with quantized surface capillary waves (ripplons) and\n",
    "bulk phonons, ensures long coherence times - a vital ingredient for\n",
    "any qubit platform. SSE's in-plane motion can be further localized by\n",
    "using microdevices on the length scales approaching the interelectron\n",
    "separation (at the order of one micron)."
   ]
  },
  {
   "cell_type": "markdown",
   "id": "79c6341b",
   "metadata": {},
   "source": [
    "## Computational Methods\n",
    "\n",
    "As we are only studying a model comprised of two electrons restricted to move in a\n",
    "    one-dimensional external potential we have employed the\n",
    "    configuration-interaction theory to compute the steady-state\n",
    "    properties of the system.\n",
    "    We have used a static, one-dimensional, grid-based basis set for the single-particle\n",
    "    functions.\n",
    "    This allows for flexibility in the choice of the external potential, and fits the\n",
    "    interpolated potential particularly well.\n",
    "\n",
    "    The Hamiltonian of $N$ interacting electrons confined by some potential $v(r)$ can be written on general form"
   ]
  },
  {
   "cell_type": "markdown",
   "id": "6d3f2fe0",
   "metadata": {},
   "source": [
    "<!-- Equation labels as ordinary links -->\n",
    "<div id=\"_auto1\"></div>\n",
    "\n",
    "$$\n",
    "\\begin{equation}\n",
    "        \\hat{H} = \\sum_{i=1}^N \\left(-\\frac{1}{2}\\nabla_i^2 + v(r_i) \\right) + \\sum_{i < j} \\hat{u}(r_i, r_j),\n",
    "\\label{_auto1} \\tag{1}\n",
    "\\end{equation}\n",
    "$$"
   ]
  },
  {
   "cell_type": "markdown",
   "id": "4ab40ec5",
   "metadata": {},
   "source": [
    "where $\\hat{u}(i,j)$ is the electron-electron (Coulomb) interaction."
   ]
  },
  {
   "cell_type": "markdown",
   "id": "f275b3d5",
   "metadata": {},
   "source": [
    "## One-dimensional system\n",
    "\n",
    "We consider a one-dimensional model where the confining potential is parametrized/obtained from finite element calculations. \n",
    "\n",
    "    The bare Coulomb interaction is divergent in 1D (REF) and it is customary to use a smoothed Coulomb interaction given by"
   ]
  },
  {
   "cell_type": "markdown",
   "id": "9d37fd68",
   "metadata": {},
   "source": [
    "<!-- Equation labels as ordinary links -->\n",
    "<div id=\"_auto2\"></div>\n",
    "\n",
    "$$\n",
    "\\begin{equation}\n",
    "        u(x_1, x_2) = \\frac{\\alpha}{\\sqrt{(x_1 - x_2)^2 + a^2}},\n",
    "\\label{_auto2} \\tag{2}\n",
    "\\end{equation}\n",
    "$$"
   ]
  },
  {
   "cell_type": "markdown",
   "id": "bd7ca544",
   "metadata": {},
   "source": [
    "where $\\alpha$ adjusts the strength of the interaction and $a$ removes\n",
    "    the singularity at $x_1 = x_2$.\n",
    "\n",
    "    The single-particle functions  are chosen as the eigenfunctions of the single-particle Hamiltonian"
   ]
  },
  {
   "cell_type": "markdown",
   "id": "9897065b",
   "metadata": {},
   "source": [
    "<!-- Equation labels as ordinary links -->\n",
    "<div id=\"_auto3\"></div>\n",
    "\n",
    "$$\n",
    "\\begin{equation}\n",
    "        \\left( -\\frac{d^2}{dx^2}+v(x) \\right) \\psi_p(x) = \\epsilon_p \\psi_p(x).\n",
    "\\label{_auto3} \\tag{3}\n",
    "\\end{equation}\n",
    "$$"
   ]
  },
  {
   "cell_type": "markdown",
   "id": "839f7eca",
   "metadata": {},
   "source": [
    "## Many-particle States\n",
    "\n",
    "It should be noted that this implies that Slater determinants built from the single-particle are eigenfunctions of the non-interacting many-body Hamiltonian"
   ]
  },
  {
   "cell_type": "markdown",
   "id": "ab589a79",
   "metadata": {},
   "source": [
    "<!-- Equation labels as ordinary links -->\n",
    "<div id=\"_auto4\"></div>\n",
    "\n",
    "$$\n",
    "\\begin{equation}\n",
    "     \\left( \\sum_{i=1}^N -\\frac{1}{2}\\nabla_i^2 + v(r_i)  \\right) \\vert\\Phi_p\\rangle = E_p \\vert\\Phi_p\\rangle,\n",
    "\\label{_auto4} \\tag{4}\n",
    "\\end{equation}\n",
    "$$"
   ]
  },
  {
   "cell_type": "markdown",
   "id": "2996ba97",
   "metadata": {},
   "source": [
    "where $\\vert\\Phi_p\\rangle = \\vert\\psi_{p_1\\rangle\\cdots \\psi_{p_N}}$ and"
   ]
  },
  {
   "cell_type": "markdown",
   "id": "bf099d9b",
   "metadata": {},
   "source": [
    "<!-- Equation labels as ordinary links -->\n",
    "<div id=\"_auto5\"></div>\n",
    "\n",
    "$$\n",
    "\\begin{equation}\n",
    "        E_p = \\sum_{i=1}^N \\epsilon_{p_i}.\n",
    "\\label{_auto5} \\tag{5}\n",
    "\\end{equation}\n",
    "$$"
   ]
  },
  {
   "cell_type": "markdown",
   "id": "42b51553",
   "metadata": {},
   "source": [
    "## Where we are now\n",
    "\n",
    "1. Time-dependent studies of two electrons in two wells in one dimensions\n",
    "\n",
    "2. Studies of the time-evolution of entangled states (now two electrons only)\n",
    "\n",
    "3. Use theory to find optimal experimental setup\n",
    "\n",
    "4. Expect two-electron system realized experimentally in approx $1$ year"
   ]
  },
  {
   "cell_type": "markdown",
   "id": "122d73e8",
   "metadata": {},
   "source": [
    "## Plans\n",
    "\n",
    "1. Add two and three-dimensions\n",
    "\n",
    "2. Develop time-dependent FCI code, useful up to approximately 10-30 particles with **effective** (and effective Hilbert space) Hamiltonians in two and three dimensions\n",
    "\n",
    "3. Particles can be valence particles  or valence holes defined for an effective Hilbert space\n",
    "\n",
    "4. Develop codes for studies of entanglement as function of time\n",
    "\n",
    "5. Study the feasibility of various setups for quantum simulations\n",
    "\n",
    "6. For larger many-body systems, study for example time-dependent CC theory\n",
    "\n",
    "7. More plans"
   ]
  }
 ],
 "metadata": {
  "kernelspec": {
   "display_name": "Python 3 (ipykernel)",
   "language": "python",
   "name": "python3"
  },
  "language_info": {
   "codemirror_mode": {
    "name": "ipython",
    "version": 3
   },
   "file_extension": ".py",
   "mimetype": "text/x-python",
   "name": "python",
   "nbconvert_exporter": "python",
   "pygments_lexer": "ipython3",
   "version": "3.9.16"
  }
 },
 "nbformat": 4,
 "nbformat_minor": 5
}
