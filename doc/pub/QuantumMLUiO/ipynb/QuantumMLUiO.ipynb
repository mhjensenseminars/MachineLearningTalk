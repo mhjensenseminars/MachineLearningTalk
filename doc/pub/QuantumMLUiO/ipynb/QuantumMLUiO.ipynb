{
 "cells": [
  {
   "cell_type": "markdown",
   "id": "193d8347",
   "metadata": {
    "editable": true
   },
   "source": [
    "<!-- HTML file automatically generated from DocOnce source (https://github.com/doconce/doconce/)\n",
    "doconce format html QuantumMLUiO.do.txt --no_mako -->\n",
    "<!-- dom:TITLE: Quantum technologies and machine learning, research and education at the university of Oslo -->"
   ]
  },
  {
   "cell_type": "markdown",
   "id": "703aa839",
   "metadata": {
    "editable": true
   },
   "source": [
    "# Quantum technologies and machine learning, research and education at the university of Oslo\n",
    "**Morten Hjorth-Jensen, Center for Computing in Science Education and Department of Physics, UiO  & Department of Physics and Astronomy and Facility for Rare Isotope Beams, Michigan State University, USA**\n",
    "\n",
    "Date: **September 16, 2024**"
   ]
  },
  {
   "cell_type": "markdown",
   "id": "9eacdb8d",
   "metadata": {
    "editable": true
   },
   "source": [
    "## What is this talk about?\n",
    "The main emphasis is to give you a short introduction to present research and educational initiatives on Quantum Computing, Machine Learning and Quantum Machine Learning at the university of Oslo and collaborators.\n",
    "\n",
    "These slides and more at <http://mhjensenseminars.github.io/MachineLearningTalk/doc/pub/QuantumMLUiO>"
   ]
  },
  {
   "cell_type": "markdown",
   "id": "18cfbf11",
   "metadata": {
    "editable": true
   },
   "source": [
    "## People\n",
    "\n",
    "**Physics and Center for Materials Science@UiO.**\n",
    "\n",
    "1. MHJ, Lasse Vines, Marianne Bathen Etzelm{\\\"u}ller, Andrej Kuznetsov, Ed Monakov, Justin Wells, Simon Cooils  and David Gongarra (experiment), Joakim Bergli (theory) and Johannes Skaar (theory)\n",
    "\n",
    "2. Subatomic Physics experiment: Heidi Sandaker, Antoine Camper  and Ann-Cecilie Larsen\n",
    "\n",
    "3. Many students and postdocs working on  theory and experiments (30+)\n",
    "\n",
    "**Math@UiO.**\n",
    "\n",
    "1. Nadia Slavila Larsen, Makoto Yamashita, Alexander M{\\\"u}ller-Hermes, Sergiy Neshveyev plus many students\n",
    "\n",
    "2. Large activity on Quantum Information theory, Shannon theory, error correction theory and more"
   ]
  },
  {
   "cell_type": "markdown",
   "id": "45e21036",
   "metadata": {
    "editable": true
   },
   "source": [
    "## People\n",
    "\n",
    "**Chemistry and Hylleraas center @UiO and Hylleraas center@University of Troms{\\\"o}.**\n",
    "\n",
    "1. Thomas B. Pedersen, David Balcells, Simen Kvaal, Simen Reine, Ainara Nova Flores\n",
    "\n",
    "2. Many students and postdocs working on  theory and links with experiments (20+)\n",
    "\n",
    "**SINTEF@Oslo.**\n",
    "\n",
    "1. Franz Fuchs and Johannes Stasik, and the Gemini  center on Quantum Computing, see URL\"https://www.quantumcomputing.no/\"\n",
    "\n",
    "**University of South-Eastern Norway@Kongsberg.**\n",
    "\n",
    "1. Francesco Pietro Massel, Kjetil Bjørke et al. Research on entanglement, quantum measurements, quantum noise and more, see <https://www.usn.no/research/our-research/technology/quantum-technology/>."
   ]
  },
  {
   "cell_type": "markdown",
   "id": "49945cb8",
   "metadata": {
    "editable": true
   },
   "source": [
    "## People\n",
    "\n",
    "**NTNU.**\n",
    "\n",
    "1. Strong experimental activity on Nanoelectronics and Photonics at Department of Electronic Systems\n",
    "\n",
    "2. Excellent condensed matter theory group at the Department of Physics\n",
    "\n",
    "**OsloMet and Simula lab.**\n",
    "\n",
    "1. See talks here by Shaukat Ali and Sølve Selstø"
   ]
  },
  {
   "cell_type": "markdown",
   "id": "e391eaa5",
   "metadata": {
    "editable": true
   },
   "source": [
    "## Education and advanced training\n",
    "\n",
    "1. Outreach and communication on quantum technologies and AI, explaining quantum technologies and AI to a broader audience\n",
    "\n",
    "2. Research on education in AI and QT. How are these topics best communicated and implemented in different enviroments, from  high school education to universities and to a broader audience, including external partners\n",
    "\n",
    "3. QAI-TALENT, Education and knowledge transfer through the development of advanced educational programs"
   ]
  },
  {
   "cell_type": "markdown",
   "id": "0bf53c36",
   "metadata": {
    "editable": true
   },
   "source": [
    "## Deliverable: Education and advanced training\n",
    "\n",
    "1. An outreach program on quantum technologies and AI for a broader audience\n",
    "\n",
    "2. Develop an advanced educational and training program on QTs and AI for industry partners in  the public and private sectors."
   ]
  },
  {
   "cell_type": "markdown",
   "id": "34f32e03",
   "metadata": {
    "editable": true
   },
   "source": [
    "## QAI-TALENT, Education and knowledge transfer through the development of advanced educational programs\n",
    "\n",
    "The QAI-TALENT (\\underline{T}raining and \\underline{A}dvanced \\underline{L}ectures in\n",
    "\\underline{EN}anbling \\underline{T}echnologies) axis of the center aims at developing a consistent\n",
    "training and educational program at all levels in QTs and AI, which\n",
    "will facilitate the development of a workforce with the competences\n",
    "and knowledge to meet future technological challenges and\n",
    "developments."
   ]
  },
  {
   "cell_type": "markdown",
   "id": "b9a31e03",
   "metadata": {
    "editable": true
   },
   "source": [
    "## Education, Quantum and AI/Machine Learning\n",
    "\n",
    "At the university of Oslo we have now established several educational\n",
    "programs in AI and QTs and quantum science. These programs span the\n",
    "whole spectrum from beginners courses to advanced training and\n",
    "education tailored to the specific needs of the participants.\n",
    "\n",
    "Furthermore, through research done at the center for Computing in\n",
    "Science Education and the physics education research group at the\n",
    "department of physics of the university of Oslo, we have over the\n",
    "years developed knowledge and insights on how to teach central\n",
    "concepts in quantum science as well as developing computational\n",
    "literacy and understanding of central algorithms applied to scientific\n",
    "problems."
   ]
  },
  {
   "cell_type": "markdown",
   "id": "985dcdf5",
   "metadata": {
    "editable": true
   },
   "source": [
    "## Courses and study programs\n",
    "\n",
    "1. **New study direction on Quantum technology** in Bachelor program Physics and Astronomy, starts Fall 2024. Three new courses:\n",
    "\n",
    "  * FYS1400 Introduction to Quantum Technologies\n",
    "\n",
    "  * FYS3405/4405 Quantum Materials\n",
    "\n",
    "  * FYS3415/4415 Quantum Computing\n",
    "\n",
    "2. **Developed Master of Science program on Computational Science**, started fall  2018 and many students here work on quantum computing and machine learning\n",
    "\n",
    "3. Developed courses on machine learning, from basic to advanced ones\n",
    "\n",
    "4. Developed advanced course on quantum computing and quantum machine learning, MAT3420, MAT4430/9430, FYS5419/9419\n",
    "\n",
    "5. New study directions in Master of Science in Physics and Computational Science on Quantum technologies and more. Start fall 2025"
   ]
  },
  {
   "cell_type": "markdown",
   "id": "331dc1ea",
   "metadata": {
    "editable": true
   },
   "source": [
    "## Content of courses we offer\n",
    "1. Quantum Information theory\n",
    "\n",
    "2. From Classical Information theory to Quantum Information theory\n",
    "\n",
    "3. Classical and Quantum Laboratory \n",
    "\n",
    "4. Discipline-Based Quantum Mechanics \n",
    "\n",
    "5. Quantum algorithms, computing, software and hardware\n",
    "\n",
    "6. Several  machine learning/AI courses, at all levels"
   ]
  },
  {
   "cell_type": "markdown",
   "id": "3305a694",
   "metadata": {
    "editable": true
   },
   "source": [
    "## Structure of courses\n",
    "\n",
    "These courses address many central concepts, such as quantum\n",
    "mechanical superposition, entanglement, QT applications, and many\n",
    "different methods and algorithms for AI and machine learning, covering\n",
    "both supervised and unsupervised learning as well as central\n",
    "discriminative and generative deep learning methods. Programming is\n",
    "indispensable in all courses and course participants learn to\n",
    "study complicated problems which require knowledge and skills\n",
    "necessary for educating a modern workforce. Many of these courses\n",
    "focus also on teamwork, project management, and communication.\n",
    "\n",
    "These courses are all regular one-semester university courses,\n",
    "resulting in typically 10 ECTS credits each. The courses can be\n",
    "adapted to single students having full-time jobs. They run however\n",
    "through a whole semester with final evaluations either as projects,\n",
    "take-home exams or final written/oral exams as assessment form."
   ]
  },
  {
   "cell_type": "markdown",
   "id": "0c7bcddc",
   "metadata": {
    "editable": true
   },
   "source": [
    "## QAI-TALENT: Education for a broader audience\n",
    "\n",
    "We have yearslong experience (with research based evidence on what works or not) in developing intensive training courses on ML/AI and QT.\n",
    "We  plan to develop an educational activity on quantum science and AI, \\textbf{QAI TALENT}\n",
    "(TALENT=Training and Advanced Lectures in EmergiNg Technologies) offering\n",
    "\n",
    "1. Intensive short courses on selected topics (which can lead to credits and certificates)\n",
    "\n",
    "2. Certificates of expertise with modules that can add up to one year of credits or more.\n",
    "\n",
    "3. Possibilities of adding up to a master specialization in quantum science/technologies and/or AI/ML\n",
    "\n",
    "4. Common educational projects and supervision of students"
   ]
  },
  {
   "cell_type": "markdown",
   "id": "31eac311",
   "metadata": {
    "editable": true
   },
   "source": [
    "## Research directions, not exhaustive\n",
    "\n",
    "1. **Theory and experiments for quantum sensors**, from standard many-body theories, via machine learning to quantum computing. Close collaboration with Norwegian industry\n",
    "\n",
    "2. **Theory and experiments for quantum computing and quantum information theory**\n",
    "\n",
    "3. **Fundamental studies (theory and experiment) of quantum mechanics**"
   ]
  },
  {
   "cell_type": "markdown",
   "id": "09ca080d",
   "metadata": {
    "editable": true
   },
   "source": [
    "## Machine learning research\n",
    "\n",
    "1. Discriminative and generative deep learning applied to the physical sciences (catalysis, subatomic physics experiments quantum many-body theories and much more) \n",
    "\n",
    "2. Solving complicated quantum mechanical many-body systems with deep learning, see references at the end\n",
    "\n",
    "3. Developing new machine learning algorithms **with applications to quantum computing as well**, see <https://arxiv.org/abs/2401.11694>\n",
    "\n",
    "4. Predicting solid state material platforms for quantum technologies, Nature Computational Materials <https://www.nature.com/articles/s41524-022-00888-3>"
   ]
  },
  {
   "cell_type": "markdown",
   "id": "d5a8bb16",
   "metadata": {
    "editable": true
   },
   "source": [
    "## Quantum computing and quantum machine learning, main activities\n",
    "\n",
    "**How to use many-body theory to design quantum circuits (Quantum engineering)**\n",
    "1. Many-body methods like F(ull)C(onfiguration)I(nteraction) theory, Coupled-Cluster theory and other  with\n",
    "\n",
    "  * Adaptive basis sets \n",
    "\n",
    "  * Time dependence\n",
    "\n",
    "  * Optimization of experimental parameters \n",
    "\n",
    "  * Feedback from experiment\n",
    "\n",
    "2. Finding optimal parameters for tuning of entanglement, see PRX Quantum **5**, 030324 (2024)\n",
    "\n",
    "3. Numerical experiments to mimick real systems\n",
    "\n",
    "4. Constructing quantum circuits to simulate specific systems\n",
    "\n",
    "5. Quantum machine learning to optimize quantum circuits, see <https://arxiv.org/abs/2403.14406>"
   ]
  },
  {
   "cell_type": "markdown",
   "id": "886ea20d",
   "metadata": {
    "editable": true
   },
   "source": [
    "## Candidate systems\n",
    "\n",
    "1. **Quantum dots, experiments** at UiO and else\n",
    "\n",
    "2. **Point Defects in semiconductors, experiments at UiO**\n",
    "\n",
    "3. Recent article Coulomb interaction-driven entanglement of electrons on helium, PRX Quantum **5**, 030324 (2024), at <https://journals.aps.org/prxquantum/abstract/10.1103/PRXQuantum.5.030324>\n",
    "\n",
    "4. Superconducting Josephon junctions\n",
    "\n",
    "5. Single photons\n",
    "\n",
    "6. [Trapped ions and atoms](https://journals.aps.org/rmp/pdf/10.1103/RevModPhys.93.025001)\n",
    "\n",
    "7. Nuclear Magnetic Resonance\n",
    "\n",
    "8. ...and more"
   ]
  },
  {
   "cell_type": "markdown",
   "id": "264705bc",
   "metadata": {
    "editable": true
   },
   "source": [
    "## Quantum Engineering\n",
    "\n",
    "**Quantum computing requirements.**\n",
    "\n",
    "1. be scalable\n",
    "\n",
    "2. have qubits that can be entangled\n",
    "\n",
    "3. have reliable initializations protocols to a standard state\n",
    "\n",
    "4. have a set of universal quantum gates to control the quantum evolution\n",
    "\n",
    "5. have a coherence time much longer than the gate operation time\n",
    "\n",
    "6. have a reliable read-out mechanism for measuring the qubit states\n",
    "\n",
    "7. ...more"
   ]
  },
  {
   "cell_type": "markdown",
   "id": "c1bc8b1d",
   "metadata": {
    "editable": true
   },
   "source": [
    "## Electrons (quantum dots) on superfluid helium\n",
    "\n",
    "Electrons on **superfluid helium represent** (see <https://www.youtube.com/watch?v=EuDuM-fe-lA&ab_channel=JoshuahHeath>) a promising platform for investigating\n",
    "strongly-coupled qubits.\n",
    "\n",
    "A systematic investigation of the\n",
    "controlled generation of entanglement between two trapped electrons\n",
    "under the influence of coherent microwave driving pulses, taking into\n",
    "account the effects of the Coulomb interaction between electrons, may be of great interest for quantum information processing using\n",
    "trapped electrons."
   ]
  },
  {
   "cell_type": "markdown",
   "id": "54fb0e45",
   "metadata": {
    "editable": true
   },
   "source": [
    "## Experimental setup I\n",
    "\n",
    "<!-- dom:FIGURE: [qcfigures/Elhelium1.png, width=700 frac=1.3] -->\n",
    "<!-- begin figure -->\n",
    "\n",
    "<img src=\"qcfigures/Elhelium1.png\" width=\"700\"><p style=\"font-size: 0.9em\"><i>Figure 1: </i></p>\n",
    "<!-- end figure -->"
   ]
  },
  {
   "cell_type": "markdown",
   "id": "567efd8e",
   "metadata": {
    "editable": true
   },
   "source": [
    "## More on experimental setup II\n",
    "\n",
    "<!-- dom:FIGURE: [qcfigures/Elhelium2.png, width=700 frac=1.3] -->\n",
    "<!-- begin figure -->\n",
    "\n",
    "<img src=\"qcfigures/Elhelium2.png\" width=\"700\"><p style=\"font-size: 0.9em\"><i>Figure 1: </i></p>\n",
    "<!-- end figure -->"
   ]
  },
  {
   "cell_type": "markdown",
   "id": "5bb4dd05",
   "metadata": {
    "editable": true
   },
   "source": [
    "## Experimental set up\n",
    "\n",
    "<!-- dom:FIGURE: [qcfigures/figure1.png, width=600 frac=0.7] -->\n",
    "<!-- begin figure -->\n",
    "\n",
    "<img src=\"qcfigures/figure1.png\" width=\"600\"><p style=\"font-size: 0.9em\"><i>Figure 1: </i></p>\n",
    "<!-- end figure -->\n",
    "\n",
    "1. (a) Schematic of the microdevice, where two electrons are trapped in a double-well potential created by electrodes 1-7. The read-out is provided by two superconducting resonators dispersively coupled to  electron's in-plane motional states.\n",
    "\n",
    "2. (b) Coupling constants from each individual electrode beneath the helium layer.\n",
    "\n",
    "3. (c+d) The electron's energy in a  double-well electrostatic potential (solid line). Dashed and dot-dashed lines represent the harmonic approximations of left and right wells respectively."
   ]
  },
  {
   "cell_type": "markdown",
   "id": "a9761fba",
   "metadata": {
    "editable": true
   },
   "source": [
    "## Many-body physics, Quantum Monte Carlo and deep learning\n",
    "Given a hamiltonian $H$ and a trial wave function $\\Psi_T$, the variational principle states that the expectation value of $\\langle H \\rangle$, defined through"
   ]
  },
  {
   "cell_type": "markdown",
   "id": "49bb33df",
   "metadata": {
    "editable": true
   },
   "source": [
    "$$\n",
    "\\langle E \\rangle =\n",
    "   \\frac{\\int d\\boldsymbol{R}\\Psi^{\\ast}_T(\\boldsymbol{R})H(\\boldsymbol{R})\\Psi_T(\\boldsymbol{R})}\n",
    "        {\\int d\\boldsymbol{R}\\Psi^{\\ast}_T(\\boldsymbol{R})\\Psi_T(\\boldsymbol{R})},\n",
    "$$"
   ]
  },
  {
   "cell_type": "markdown",
   "id": "a5937476",
   "metadata": {
    "editable": true
   },
   "source": [
    "is an upper bound to the ground state energy $E_0$ of the hamiltonian $H$, that is"
   ]
  },
  {
   "cell_type": "markdown",
   "id": "b21fab6a",
   "metadata": {
    "editable": true
   },
   "source": [
    "$$\n",
    "E_0 \\le \\langle E \\rangle.\n",
    "$$"
   ]
  },
  {
   "cell_type": "markdown",
   "id": "a67255a8",
   "metadata": {
    "editable": true
   },
   "source": [
    "In general, the integrals involved in the calculation of various  expectation values  are multi-dimensional ones. Traditional integration methods such as the Gauss-Legendre will not be adequate for say the  computation of the energy of a many-body system.  **Basic philosophy: Let a neural network find the optimal wave function**"
   ]
  },
  {
   "cell_type": "markdown",
   "id": "1143a774",
   "metadata": {
    "editable": true
   },
   "source": [
    "## Quantum Monte Carlo Motivation\n",
    "\n",
    "**Basic steps.**\n",
    "\n",
    "Choose a trial wave function\n",
    "$\\psi_T(\\boldsymbol{R})$."
   ]
  },
  {
   "cell_type": "markdown",
   "id": "1d661c85",
   "metadata": {
    "editable": true
   },
   "source": [
    "$$\n",
    "P(\\boldsymbol{R},\\boldsymbol{\\alpha})= \\frac{\\left|\\psi_T(\\boldsymbol{R},\\boldsymbol{\\alpha})\\right|^2}{\\int \\left|\\psi_T(\\boldsymbol{R},\\boldsymbol{\\alpha})\\right|^2d\\boldsymbol{R}}.\n",
    "$$"
   ]
  },
  {
   "cell_type": "markdown",
   "id": "4f977a08",
   "metadata": {
    "editable": true
   },
   "source": [
    "This is our model, or likelihood/probability distribution function  (PDF). It depends on some variational parameters $\\boldsymbol{\\alpha}$.\n",
    "The approximation to the expectation value of the Hamiltonian is now"
   ]
  },
  {
   "cell_type": "markdown",
   "id": "2c8f87e0",
   "metadata": {
    "editable": true
   },
   "source": [
    "$$\n",
    "\\langle E[\\boldsymbol{\\alpha}] \\rangle = \n",
    "   \\frac{\\int d\\boldsymbol{R}\\Psi^{\\ast}_T(\\boldsymbol{R},\\boldsymbol{\\alpha})H(\\boldsymbol{R})\\Psi_T(\\boldsymbol{R},\\boldsymbol{\\alpha})}\n",
    "        {\\int d\\boldsymbol{R}\\Psi^{\\ast}_T(\\boldsymbol{R},\\boldsymbol{\\alpha})\\Psi_T(\\boldsymbol{R},\\boldsymbol{\\alpha})}.\n",
    "$$"
   ]
  },
  {
   "cell_type": "markdown",
   "id": "8994ec9a",
   "metadata": {
    "editable": true
   },
   "source": [
    "## Quantum Monte Carlo Motivation\n",
    "**Define a new quantity.**"
   ]
  },
  {
   "cell_type": "markdown",
   "id": "0e76359e",
   "metadata": {
    "editable": true
   },
   "source": [
    "$$\n",
    "E_L(\\boldsymbol{R},\\boldsymbol{\\alpha})=\\frac{1}{\\psi_T(\\boldsymbol{R},\\boldsymbol{\\alpha})}H\\psi_T(\\boldsymbol{R},\\boldsymbol{\\alpha}),\n",
    "$$"
   ]
  },
  {
   "cell_type": "markdown",
   "id": "6b094b3a",
   "metadata": {
    "editable": true
   },
   "source": [
    "called the local energy, which, together with our trial PDF yields"
   ]
  },
  {
   "cell_type": "markdown",
   "id": "d92b8c37",
   "metadata": {
    "editable": true
   },
   "source": [
    "$$\n",
    "\\langle E[\\boldsymbol{\\alpha}] \\rangle=\\int P(\\boldsymbol{R})E_L(\\boldsymbol{R},\\boldsymbol{\\alpha}) d\\boldsymbol{R}\\approx \\frac{1}{N}\\sum_{i=1}^NE_L(\\boldsymbol{R_i},\\boldsymbol{\\alpha})\n",
    "$$"
   ]
  },
  {
   "cell_type": "markdown",
   "id": "91885293",
   "metadata": {
    "editable": true
   },
   "source": [
    "with $N$ being the number of Monte Carlo samples."
   ]
  },
  {
   "cell_type": "markdown",
   "id": "84f35ee6",
   "metadata": {
    "editable": true
   },
   "source": [
    "## Deep learning neural networks, [Variational Monte Carlo calculations of $A\\le 4$ nuclei with an artificial neural-network correlator ansatz by Adams et al.](https://journals.aps.org/prl/abstract/10.1103/PhysRevLett.127.022502)\n",
    "\n",
    "An appealing feature of the neural network ansatz is that it is more general than the more conventional product of two-\n",
    "and three-body spin-independent Jastrow functions"
   ]
  },
  {
   "cell_type": "markdown",
   "id": "a344c87a",
   "metadata": {
    "editable": true
   },
   "source": [
    "<!-- Equation labels as ordinary links -->\n",
    "<div id=\"_auto1\"></div>\n",
    "\n",
    "$$\n",
    "\\begin{equation}\n",
    "|\\Psi_V^J \\rangle = \\prod_{i<j<k} \\Big( 1-\\sum_{\\text{cyc}} u(r_{ij}) u(r_{jk})\\Big) \\prod_{i<j} f(r_{ij}) | \\Phi\\rangle\\,,\n",
    "\\label{_auto1} \\tag{1}\n",
    "\\end{equation}\n",
    "$$"
   ]
  },
  {
   "cell_type": "markdown",
   "id": "a2d388eb",
   "metadata": {
    "editable": true
   },
   "source": [
    "which is commonly used for nuclear Hamiltonians that do not contain tensor and spin-orbit terms.\n",
    "The above function is replaced by a deep  Neural Network."
   ]
  },
  {
   "cell_type": "markdown",
   "id": "6c179d48",
   "metadata": {
    "editable": true
   },
   "source": [
    "## [Dilute neutron star matter from neural-network quantum states by Fore et al, Physical Review Research 5, 033062 (2023)](https://journals.aps.org/prresearch/pdf/10.1103/PhysRevResearch.5.033062) at density $\\rho=0.04$ fm$^{-3}$\n",
    "\n",
    "<!-- dom:FIGURE: [figures/nmatter.png, width=700 frac=0.9] -->\n",
    "<!-- begin figure -->\n",
    "\n",
    "<img src=\"figures/nmatter.png\" width=\"700\"><p style=\"font-size: 0.9em\"><i>Figure 1: </i></p>\n",
    "<!-- end figure -->"
   ]
  },
  {
   "cell_type": "markdown",
   "id": "453b9c5e",
   "metadata": {
    "editable": true
   },
   "source": [
    "## The electron gas in three dimensions with $N=14$ electrons (Wigner-Seitz radius $r_s=2$ a.u.), [Gabriel Pescia, Jane Kim et al. arXiv.2305.07240,](https://doi.org/10.48550/arXiv.2305.07240)\n",
    "\n",
    "<!-- dom:FIGURE: [figures/elgasnew.png, width=700 frac=0.9] -->\n",
    "<!-- begin figure -->\n",
    "\n",
    "<img src=\"figures/elgasnew.png\" width=\"700\"><p style=\"font-size: 0.9em\"><i>Figure 1: </i></p>\n",
    "<!-- end figure -->"
   ]
  },
  {
   "cell_type": "markdown",
   "id": "e5fb94e9",
   "metadata": {
    "editable": true
   },
   "source": [
    "## Selected references\n",
    "* [Artificial Intelligence and Machine Learning in Nuclear Physics, Amber Boehnlein et al., Reviews Modern of Physics 94, 031003 (2022)](https://journals.aps.org/rmp/abstract/10.1103/RevModPhys.94.031003) \n",
    "\n",
    "* [Dilute neutron star matter from neural-network quantum states by Fore et al, Physical Review Research 5, 033062 (2023)](https://journals.aps.org/prresearch/pdf/10.1103/PhysRevResearch.5.033062)\n",
    "\n",
    "* [Neural-network quantum states for ultra-cold Fermi gases, Jane Kim et al, Nature Physics Communication](https://doi.org/10.48550/arXiv.2305.08831)\n",
    "\n",
    "* [Message-Passing Neural Quantum States for the Homogeneous Electron Gas, Gabriel Pescia, Jane Kim et al. Physical Review B (2024),](https://doi.org/10.48550/arXiv.2305.07240)\n",
    "\n",
    "* [Efficient solutions of fermionic systems using artificial neural networks, Nordhagen et al, Frontiers in Physics 11, 2023](https://doi.org/10.3389/fphy.2023.1061580)"
   ]
  },
  {
   "cell_type": "markdown",
   "id": "4fbcf195",
   "metadata": {
    "editable": true
   },
   "source": [
    "## More selected references\n",
    "* [Unsupervised learning for identifying events in active target experiments, R. Solli et al, Nuclear Instruments and Methods Physics A](https://www.sciencedirect.com/science/article/abs/pii/S0168900221004460?via%3Dihub)\n",
    "\n",
    "* Coulomb interaction-driven entanglement of electrons on helium, PRX Quantum **5**, 030324 (2024), at <https://journals.aps.org/prxquantum/abstract/10.1103/PRXQuantum.5.030324>\n",
    "\n",
    "* [Predicting solid state material platforms for quantum technologies, Hebnes et al, Nature Computational Materials, 2022](https://www.nature.com/articles/s41524-022-00888-3)"
   ]
  }
 ],
 "metadata": {},
 "nbformat": 4,
 "nbformat_minor": 5
}
