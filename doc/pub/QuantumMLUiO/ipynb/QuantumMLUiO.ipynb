{
 "cells": [
  {
   "cell_type": "markdown",
   "id": "cca2ef2e",
   "metadata": {
    "editable": true
   },
   "source": [
    "<!-- HTML file automatically generated from DocOnce source (https://github.com/doconce/doconce/)\n",
    "doconce format html QuantumMLUiO.do.txt --no_mako -->\n",
    "<!-- dom:TITLE: Quantum technologies and machine learning, research and education at the university of Oslo -->"
   ]
  },
  {
   "cell_type": "markdown",
   "id": "c9312473",
   "metadata": {
    "editable": true
   },
   "source": [
    "# Quantum technologies and machine learning, research and education at the university of Oslo\n",
    "**Morten Hjorth-Jensen, Center for Computing in Science Education and Department of Physics, UiO**\n",
    "\n",
    "Date: **September 16, 2024**"
   ]
  },
  {
   "cell_type": "markdown",
   "id": "819c8c2f",
   "metadata": {
    "editable": true
   },
   "source": [
    "## What is this talk about?\n",
    "The main emphasis is to give you a short introduction to present research and educational initiatives on Quantum Computing, Machine Learning and Quantum Machine Learning at the university of Oslo and collaborators.\n",
    "\n",
    "These slides and more at <http://mhjensenseminars.github.io/MachineLearningTalk/doc/pub/QuantumMLUiO>"
   ]
  },
  {
   "cell_type": "markdown",
   "id": "689fc2dd",
   "metadata": {
    "editable": true
   },
   "source": [
    "## People\n",
    "\n",
    "**Physics and Center for Materials Science@UiO.**\n",
    "\n",
    "1. MHJ, Lasse Vines, Marianne Bathen Etzelm{\\\"u}ller, Andrej Kuznetsov, Ed Monakov, Justin Wells, Simon Cooils  and David Gongarra (experiment), Joakim Bergli (theory) and Johannes Skaar (theory)\n",
    "\n",
    "2. Many students and postdocs working on  theory and experiments (30+)\n",
    "\n",
    "**Math@UiO.**\n",
    "\n",
    "1. Nadia Slavila Larsen, Makoto Yamashita, Alexander M{\\\"u}ller-Hermes, Sergiy Neshveyev plus many students\n",
    "\n",
    "2. Large activity on Quantum Information theory, Shannon theory, error correction theory and more"
   ]
  },
  {
   "cell_type": "markdown",
   "id": "052042a9",
   "metadata": {
    "editable": true
   },
   "source": [
    "## People\n",
    "\n",
    "**Chemistry and Hylleraas center @UiO and Hylleraas center@University of Troms{\\\"o}.**\n",
    "\n",
    "1. Thomas B. Pedersen, David Balcells, Simen Kvaal, Simen Reine, Ainara Nova Flores\n",
    "\n",
    "2. Many students and postdocs working on  theory and links with experiments (20+)\n",
    "\n",
    "**SINTEF@Oslo.**\n",
    "\n",
    "1. Franz Fuchs and Johannes Stasik, and the Gemini  center on Quantum Computing, see URL\"https://www.quantumcomputing.no/\""
   ]
  },
  {
   "cell_type": "markdown",
   "id": "8a5f6575",
   "metadata": {
    "editable": true
   },
   "source": [
    "## Educational strategies\n",
    "\n",
    "1. **New study direction on Quantum technology** in Bachelor program Physics and Astronomy, starts Fall 2024. Three new courses:\n",
    "\n",
    "  * FYS1400 Introduction to Quantum Technologies\n",
    "\n",
    "  * FYS3405/4405 Quantum Materials\n",
    "\n",
    "  * FYS3415/4415 Quantum Computing\n",
    "\n",
    "2. **Developed Master of Science program on Computational Science**, started fall  2018 and many students here work on quantum computing and machine learning\n",
    "\n",
    "3. Developed courses on machine learning, from basic to advanced ones\n",
    "\n",
    "4. Developed advanced course on quantum computing and quantum machine learning, MAT3420, MAT4430/9430, FYS5419/9419\n",
    "\n",
    "5. New study directions in Master of Science in Physics and Computational Science on Quantum technologies and more. Start fall 2025"
   ]
  },
  {
   "cell_type": "markdown",
   "id": "48a44d35",
   "metadata": {
    "editable": true
   },
   "source": [
    "## AI center"
   ]
  },
  {
   "cell_type": "markdown",
   "id": "6746f1a1",
   "metadata": {
    "editable": true
   },
   "source": [
    "## Machine learning research\n",
    "\n",
    "1. Solving complicated quantum mechanical many-body systems with deep learning, see references at the end\n",
    "\n",
    "2. Developing new machine learning algorithms **with applications to quantum computing as well**, see <https://arxiv.org/abs/2401.11694>\n",
    "\n",
    "3. Predicting solid state material platforms for quantum technologies, Nature Computational Materials <https://www.nature.com/articles/s41524-022-00888-3>"
   ]
  },
  {
   "cell_type": "markdown",
   "id": "6fede077",
   "metadata": {
    "editable": true
   },
   "source": [
    "## Quantum computing and quantum machine learning, main activities\n",
    "\n",
    "**How to use many-body theory to design quantum circuits (Quantum engineering)**\n",
    "1. Many-body methods like F(ull)C(onfiguration)I(nteraction) theory, Coupled-Cluster theory and other  with\n",
    "\n",
    "  * Adaptive basis sets \n",
    "\n",
    "  * Time dependence\n",
    "\n",
    "  * Optimization of experimental parameters \n",
    "\n",
    "  * Feedback from experiment\n",
    "\n",
    "2. Finding optimal parameters for tuning of entanglement, see <https://arxiv.org/abs/2310.04927>\n",
    "\n",
    "3. Numerical experiments to mimick real systems, quantum twins\n",
    "\n",
    "4. Constructing quantum circuits to simulate specific systems\n",
    "\n",
    "5. Quantum machine learning to optimize quantum circuits"
   ]
  },
  {
   "cell_type": "markdown",
   "id": "c97e8e64",
   "metadata": {
    "editable": true
   },
   "source": [
    "## Candidate systems\n",
    "\n",
    "1. **Quantum dots, experiments** at UiO and else\n",
    "\n",
    "2. **Point Defects in semiconductors, experiments at UiO**\n",
    "\n",
    "3. Recent article Coulomb interaction-driven entanglement of electrons on helium, see <https://arxiv.org/abs/2310.04927>, and PRX Quantum, under review"
   ]
  },
  {
   "cell_type": "markdown",
   "id": "7c81699b",
   "metadata": {
    "editable": true
   },
   "source": [
    "## Electrons (quantum dots) on superfluid helium\n",
    "\n",
    "Electrons on **superfluid helium represent** (see <https://www.youtube.com/watch?v=EuDuM-fe-lA&ab_channel=JoshuahHeath>) a promising platform for investigating\n",
    "strongly-coupled qubits.\n",
    "\n",
    "A systematic investigation of the\n",
    "controlled generation of entanglement between two trapped electrons\n",
    "under the influence of coherent microwave driving pulses, taking into\n",
    "account the effects of the Coulomb interaction between electrons, may be of great interest for quantum information processing using\n",
    "trapped electrons."
   ]
  },
  {
   "cell_type": "markdown",
   "id": "9ebd9ea3",
   "metadata": {
    "editable": true
   },
   "source": [
    "## Experimental setup I\n",
    "\n",
    "<!-- dom:FIGURE: [qcfigures/Elhelium1.png, width=700 frac=1.3] -->\n",
    "<!-- begin figure -->\n",
    "\n",
    "<img src=\"qcfigures/Elhelium1.png\" width=\"700\"><p style=\"font-size: 0.9em\"><i>Figure 1: </i></p>\n",
    "<!-- end figure -->"
   ]
  },
  {
   "cell_type": "markdown",
   "id": "6a9b6ba6",
   "metadata": {
    "editable": true
   },
   "source": [
    "## More on experimental setup II\n",
    "\n",
    "<!-- dom:FIGURE: [qcfigures/Elhelium2.png, width=700 frac=1.3] -->\n",
    "<!-- begin figure -->\n",
    "\n",
    "<img src=\"qcfigures/Elhelium2.png\" width=\"700\"><p style=\"font-size: 0.9em\"><i>Figure 1: </i></p>\n",
    "<!-- end figure -->"
   ]
  },
  {
   "cell_type": "markdown",
   "id": "e8f2848b",
   "metadata": {
    "editable": true
   },
   "source": [
    "## Experimental set up\n",
    "\n",
    "<!-- dom:FIGURE: [qcfigures/figure1x.png, width=600 frac=0.7] -->\n",
    "<!-- begin figure -->\n",
    "\n",
    "<img src=\"qcfigures/figure1x.png\" width=\"600\"><p style=\"font-size: 0.9em\"><i>Figure 1: </i></p>\n",
    "<!-- end figure -->"
   ]
  },
  {
   "cell_type": "markdown",
   "id": "ac8e444a",
   "metadata": {
    "editable": true
   },
   "source": [
    "## Many-body physics, Quantum Monte Carlo and deep learning\n",
    "Given a hamiltonian $H$ and a trial wave function $\\Psi_T$, the variational principle states that the expectation value of $\\langle H \\rangle$, defined through"
   ]
  },
  {
   "cell_type": "markdown",
   "id": "09b8cefd",
   "metadata": {
    "editable": true
   },
   "source": [
    "$$\n",
    "\\langle E \\rangle =\n",
    "   \\frac{\\int d\\boldsymbol{R}\\Psi^{\\ast}_T(\\boldsymbol{R})H(\\boldsymbol{R})\\Psi_T(\\boldsymbol{R})}\n",
    "        {\\int d\\boldsymbol{R}\\Psi^{\\ast}_T(\\boldsymbol{R})\\Psi_T(\\boldsymbol{R})},\n",
    "$$"
   ]
  },
  {
   "cell_type": "markdown",
   "id": "c12dbb64",
   "metadata": {
    "editable": true
   },
   "source": [
    "is an upper bound to the ground state energy $E_0$ of the hamiltonian $H$, that is"
   ]
  },
  {
   "cell_type": "markdown",
   "id": "c766a855",
   "metadata": {
    "editable": true
   },
   "source": [
    "$$\n",
    "E_0 \\le \\langle E \\rangle.\n",
    "$$"
   ]
  },
  {
   "cell_type": "markdown",
   "id": "594f127c",
   "metadata": {
    "editable": true
   },
   "source": [
    "In general, the integrals involved in the calculation of various  expectation values  are multi-dimensional ones. Traditional integration methods such as the Gauss-Legendre will not be adequate for say the  computation of the energy of a many-body system.  **Basic philosophy: Let a neural network find the optimal wave function**"
   ]
  },
  {
   "cell_type": "markdown",
   "id": "0f0215ef",
   "metadata": {
    "editable": true
   },
   "source": [
    "## Quantum Monte Carlo Motivation\n",
    "\n",
    "**Basic steps.**\n",
    "\n",
    "Choose a trial wave function\n",
    "$\\psi_T(\\boldsymbol{R})$."
   ]
  },
  {
   "cell_type": "markdown",
   "id": "e38121a6",
   "metadata": {
    "editable": true
   },
   "source": [
    "$$\n",
    "P(\\boldsymbol{R},\\boldsymbol{\\alpha})= \\frac{\\left|\\psi_T(\\boldsymbol{R},\\boldsymbol{\\alpha})\\right|^2}{\\int \\left|\\psi_T(\\boldsymbol{R},\\boldsymbol{\\alpha})\\right|^2d\\boldsymbol{R}}.\n",
    "$$"
   ]
  },
  {
   "cell_type": "markdown",
   "id": "3be277d2",
   "metadata": {
    "editable": true
   },
   "source": [
    "This is our model, or likelihood/probability distribution function  (PDF). It depends on some variational parameters $\\boldsymbol{\\alpha}$.\n",
    "The approximation to the expectation value of the Hamiltonian is now"
   ]
  },
  {
   "cell_type": "markdown",
   "id": "4f9b2231",
   "metadata": {
    "editable": true
   },
   "source": [
    "$$\n",
    "\\langle E[\\boldsymbol{\\alpha}] \\rangle = \n",
    "   \\frac{\\int d\\boldsymbol{R}\\Psi^{\\ast}_T(\\boldsymbol{R},\\boldsymbol{\\alpha})H(\\boldsymbol{R})\\Psi_T(\\boldsymbol{R},\\boldsymbol{\\alpha})}\n",
    "        {\\int d\\boldsymbol{R}\\Psi^{\\ast}_T(\\boldsymbol{R},\\boldsymbol{\\alpha})\\Psi_T(\\boldsymbol{R},\\boldsymbol{\\alpha})}.\n",
    "$$"
   ]
  },
  {
   "cell_type": "markdown",
   "id": "e29ff6ed",
   "metadata": {
    "editable": true
   },
   "source": [
    "## Quantum Monte Carlo Motivation\n",
    "**Define a new quantity.**"
   ]
  },
  {
   "cell_type": "markdown",
   "id": "56d674a8",
   "metadata": {
    "editable": true
   },
   "source": [
    "$$\n",
    "E_L(\\boldsymbol{R},\\boldsymbol{\\alpha})=\\frac{1}{\\psi_T(\\boldsymbol{R},\\boldsymbol{\\alpha})}H\\psi_T(\\boldsymbol{R},\\boldsymbol{\\alpha}),\n",
    "$$"
   ]
  },
  {
   "cell_type": "markdown",
   "id": "cc62f16b",
   "metadata": {
    "editable": true
   },
   "source": [
    "called the local energy, which, together with our trial PDF yields"
   ]
  },
  {
   "cell_type": "markdown",
   "id": "95001131",
   "metadata": {
    "editable": true
   },
   "source": [
    "$$\n",
    "\\langle E[\\boldsymbol{\\alpha}] \\rangle=\\int P(\\boldsymbol{R})E_L(\\boldsymbol{R},\\boldsymbol{\\alpha}) d\\boldsymbol{R}\\approx \\frac{1}{N}\\sum_{i=1}^NE_L(\\boldsymbol{R_i},\\boldsymbol{\\alpha})\n",
    "$$"
   ]
  },
  {
   "cell_type": "markdown",
   "id": "cdbf95d9",
   "metadata": {
    "editable": true
   },
   "source": [
    "with $N$ being the number of Monte Carlo samples."
   ]
  },
  {
   "cell_type": "markdown",
   "id": "1cd820fd",
   "metadata": {
    "editable": true
   },
   "source": [
    "## Deep learning neural networks, [Variational Monte Carlo calculations of $A\\le 4$ nuclei with an artificial neural-network correlator ansatz by Adams et al.](https://journals.aps.org/prl/abstract/10.1103/PhysRevLett.127.022502)\n",
    "\n",
    "An appealing feature of the neural network ansatz is that it is more general than the more conventional product of two-\n",
    "and three-body spin-independent Jastrow functions"
   ]
  },
  {
   "cell_type": "markdown",
   "id": "1fccf9dd",
   "metadata": {
    "editable": true
   },
   "source": [
    "<!-- Equation labels as ordinary links -->\n",
    "<div id=\"_auto1\"></div>\n",
    "\n",
    "$$\n",
    "\\begin{equation}\n",
    "|\\Psi_V^J \\rangle = \\prod_{i<j<k} \\Big( 1-\\sum_{\\text{cyc}} u(r_{ij}) u(r_{jk})\\Big) \\prod_{i<j} f(r_{ij}) | \\Phi\\rangle\\,,\n",
    "\\label{_auto1} \\tag{1}\n",
    "\\end{equation}\n",
    "$$"
   ]
  },
  {
   "cell_type": "markdown",
   "id": "83b4ae52",
   "metadata": {
    "editable": true
   },
   "source": [
    "which is commonly used for nuclear Hamiltonians that do not contain tensor and spin-orbit terms.\n",
    "The above function is replaced by a deep  Neural Network."
   ]
  },
  {
   "cell_type": "markdown",
   "id": "739ca164",
   "metadata": {
    "editable": true
   },
   "source": [
    "## [Dilute neutron star matter from neural-network quantum states by Fore et al, Physical Review Research 5, 033062 (2023)](https://journals.aps.org/prresearch/pdf/10.1103/PhysRevResearch.5.033062) at density $\\rho=0.04$ fm$^{-3}$\n",
    "\n",
    "<!-- dom:FIGURE: [figures/nmatter.png, width=700 frac=0.9] -->\n",
    "<!-- begin figure -->\n",
    "\n",
    "<img src=\"figures/nmatter.png\" width=\"700\"><p style=\"font-size: 0.9em\"><i>Figure 1: </i></p>\n",
    "<!-- end figure -->"
   ]
  },
  {
   "cell_type": "markdown",
   "id": "10df39b4",
   "metadata": {
    "editable": true
   },
   "source": [
    "## The electron gas in three dimensions with $N=14$ electrons (Wigner-Seitz radius $r_s=2$ a.u.), [Gabriel Pescia, Jane Kim et al. arXiv.2305.07240,](https://doi.org/10.48550/arXiv.2305.07240)\n",
    "\n",
    "<!-- dom:FIGURE: [figures/elgasnew.png, width=700 frac=0.9] -->\n",
    "<!-- begin figure -->\n",
    "\n",
    "<img src=\"figures/elgasnew.png\" width=\"700\"><p style=\"font-size: 0.9em\"><i>Figure 1: </i></p>\n",
    "<!-- end figure -->"
   ]
  },
  {
   "cell_type": "markdown",
   "id": "c9206f89",
   "metadata": {
    "editable": true
   },
   "source": [
    "## Selected references\n",
    "* [Artificial Intelligence and Machine Learning in Nuclear Physics, Amber Boehnlein et al., Reviews Modern of Physics 94, 031003 (2022)](https://journals.aps.org/rmp/abstract/10.1103/RevModPhys.94.031003) \n",
    "\n",
    "* [Dilute neutron star matter from neural-network quantum states by Fore et al, Physical Review Research 5, 033062 (2023)](https://journals.aps.org/prresearch/pdf/10.1103/PhysRevResearch.5.033062)\n",
    "\n",
    "* [Neural-network quantum states for ultra-cold Fermi gases, Jane Kim et al, Nature Physics Communication, in press](https://doi.org/10.48550/arXiv.2305.08831)\n",
    "\n",
    "* [Message-Passing Neural Quantum States for the Homogeneous Electron Gas, Gabriel Pescia, Jane Kim et al. arXiv.2305.07240,](https://doi.org/10.48550/arXiv.2305.07240)\n",
    "\n",
    "* [Efficient solutions of fermionic systems using artificial neural networks, Nordhagen et al, Frontiers in Physics 11, 2023](https://doi.org/10.3389/fphy.2023.1061580)"
   ]
  },
  {
   "cell_type": "markdown",
   "id": "b8767b2a",
   "metadata": {
    "editable": true
   },
   "source": [
    "## More selected references\n",
    "* [Unsupervised learning for identifying events in active target experiments, R. Solli et al, Nuclear Instruments and Methods Physics A](https://www.sciencedirect.com/science/article/abs/pii/S0168900221004460?via%3Dihub)\n",
    "\n",
    "* [Coulomb interaction-driven entanglement of electrons on helium](https://arxiv.org/abs/2310.04927), PRX Quantum, under review\n",
    "\n",
    "* [Predicting solid state material platforms for quantum technologies, Hebnes et al, Nature Computational Materials, 2022](https://www.nature.com/articles/s41524-022-00888-3)"
   ]
  },
  {
   "cell_type": "markdown",
   "id": "9ffe2043",
   "metadata": {
    "editable": true
   },
   "source": [
    "## And sponsors\n",
    "\n",
    "1. National Science Foundation, US (various grants)\n",
    "\n",
    "2. Department of Energy, US (various grants)\n",
    "\n",
    "3. Research Council of Norway (various grants) and University of Oslo and Michigan State University"
   ]
  }
 ],
 "metadata": {},
 "nbformat": 4,
 "nbformat_minor": 5
}
