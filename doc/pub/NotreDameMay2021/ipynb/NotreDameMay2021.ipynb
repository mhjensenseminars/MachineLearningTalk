{
 "cells": [
  {
   "cell_type": "markdown",
   "metadata": {},
   "source": [
    "<!-- dom:TITLE: Quantum Computing and Quantum Mechanics for Many Interacting Particles -->\n",
    "# Quantum Computing and Quantum Mechanics for Many Interacting Particles\n",
    "<!-- dom:AUTHOR: Morten Hjorth-Jensen at Department of Physics and Astronomy and FRIB/NSCL Laboratory, Michigan State University, USA & Department of Physics and Center for Computing in Science Education, University of Oslo, Norway -->\n",
    "<!-- Author: -->  \n",
    "**Morten Hjorth-Jensen**, Department of Physics and Astronomy and FRIB/NSCL Laboratory, Michigan State University, USA and Department of Physics and Center for Computing in Science Education, University of Oslo, Norway\n",
    "\n",
    "Date: **Seminar at Notre Dame, May  12, 2021. **\n",
    "\n",
    "## What is this talk about?\n",
    "\n",
    "* Quantum Engineering\n",
    "\n",
    "* Quantum algorithms \n",
    "\n",
    "* Quantum Machine Learning\n",
    "\n",
    "\n",
    "\n",
    "Slides at <https://mhjensenseminars.github.io/MachineLearningTalk/doc/pub/NotreDameMay2021/html/NotreDameMay2021-reveal.html>\n",
    "\n",
    "\n",
    "## Many fantastic Folks involved\n",
    "**Thanks to.**\n",
    "\n",
    "* MSU: Ben Hall, Jane Kim, Julie Butler, Danny Jammoa, Johannes Pollanen (Expt), Niyaz Beysengulov (Expt), Dean Lee, Scott Bogner, Heiko Hergert, Matt Hirn, Huey-Wen Lin, Alexei Bazavov, Angela Wilson, and Andrea Shindler\n",
    "\n",
    "* UiO: **Stian Bilek, Håkon Emil Kristiansen, Øyvind Schøyen Sigmundsson, Jonas Boym Flaten, Kristian Wold**, Lasse Vines (Expt) and Marianne Bathen (Expt)\n",
    "\n",
    "\n",
    "\n",
    "**Sponsors.**\n",
    "\n",
    "This work is supported by the U.S. Department of Energy, Office of\n",
    "Science, office of Nuclear Physics under grant No. DE-SC0021152 and\n",
    "U.S. National Science Foundation Grants No. PHY-1404159 and\n",
    "PHY-2013047.\n",
    "\n",
    "\n",
    "\n",
    "\n",
    "\n",
    "## Why? Basic motivation\n",
    "\n",
    "How can we avoid the dimensionality curse? Many possibilities\n",
    "1. smarter basis functions\n",
    "\n",
    "2. resummation of specific correlations\n",
    "\n",
    "3. stochastic sampling of high-lying states (stochastic FCI, CC and SRG/IMSRG)\n",
    "\n",
    "4. many more\n",
    "\n",
    "\n",
    "\n",
    "Machine Learning and Quantum Computing hold great promise in tackling the \n",
    "ever increasing dimensionalities. A hot new field is  **Quantum Machine Learning**, see for example the recent textbook by [Maria Schuld and Francesco Petruccione](https://www.springer.com/gp/book/9783319964232). \n",
    "1. Master of Science  thesis of [Stian Bilek](https://www.duo.uio.no/handle/10852/82489), **Quantum Computing: Many-Body Methods and Machine Learning, August 2020**\n",
    "\n",
    "2. Master of Science  thesis of [Heine Åbø](https://www.duo.uio.no/handle/10852/81259), **Quantum Computing and Many-Particle Problems, June 2020**\n",
    "\n",
    "3. [Marianne EtzelmuellerBathen's PhD](https://www.mn.uio.no/fysikk/english/people/aca/mariebat/), December 2020\n",
    "\n",
    "\n",
    "\n",
    "\n",
    "\n",
    "\n",
    "## Short background\n",
    "\n",
    "During the last two years we have started a large scientific activity\n",
    "on Quantum Computing and Machine Learning at Michigan State University in collaboration with several other universities in the US and in Europ.\n",
    "\n",
    "This activity spans from the development\n",
    "of quantum-mechanical many-particle theories for studying systems of\n",
    "interest for making quantum computers, via the development of quantum\n",
    "algorithms for solving quantum mechanical problems to exploring\n",
    "quantum machine learning algorithms.\n",
    "\n",
    "\n",
    "\n",
    "\n",
    "## Quantum Engineering\n",
    "\n",
    "**Quantum Computing requirements.**\n",
    "\n",
    "1. be scalable\n",
    "\n",
    "2. have qubits that can be entangled\n",
    "\n",
    "3. have reliable initializations protocols to a standard state\n",
    "\n",
    "4. have a set of universal quantum gates to control the quantum evolution\n",
    "\n",
    "5. have a coherence time much longer than the gate operation time\n",
    "\n",
    "6. have a reliable read-out mechanism for measuring the qubit states\n",
    "\n",
    "7. and many more\n",
    "\n",
    "\n",
    "\n",
    "## Candidate systems\n",
    "\n",
    "1. Superconducting Josephon junctions\n",
    "\n",
    "2. Single photons\n",
    "\n",
    "3. [Trapped ions and atoms](https://journals.aps.org/rmp/pdf/10.1103/RevModPhys.93.025001)\n",
    "\n",
    "4. Nuclear Magnetic Resonance\n",
    "\n",
    "5. **Quantum dots, expt at MSU**\n",
    "\n",
    "6. **Point Defects in semiconductors, expt at UiO**\n",
    "\n",
    "7. more\n",
    "\n",
    "\n",
    "\n",
    "## Electrons (quantum dots) on superfluid helium\n",
    "\n",
    "Electrons on [superfluid helium represent](https://www.youtube.com/watch?v=EuDuM-fe-lA&ab_channel=JoshuahHeath) a promising platform for investigating\n",
    "strongly-coupled qubits.\n",
    "\n",
    "Therefore a systematic investigation of the\n",
    "controlled generation of entanglement between two trapped electrons\n",
    "under the influence of coherent microwave driving pulses, taking into\n",
    "account the effects of the Coulomb interaction between electrons, is\n",
    "of significant importance for quantum information processing using\n",
    "trapped electrons.\n",
    "\n",
    "## Methods and Applications\n",
    "1. Time-Dependent full configuration interaction theory\n",
    "\n",
    "2. Time-dependent Coupled-Cluster theory\n",
    "\n",
    "3. Designing quantum circuits\n",
    "\n",
    "\n",
    "\n",
    "\n",
    "## Entanglement\n",
    "\n",
    "[Entanglement](https://link.springer.com/content/pdf/10.1007/s11232-007-0098-9.pdf) is the fundamental characteristic that distinguishes\n",
    "quantum systems composed of two or more coupled objects from their\n",
    "classical counterparts. The study of entanglement in precisely\n",
    "engineered quantum systems with countably many degrees of freedom is\n",
    "at the forefront of modern physics and is a key resource in quantum\n",
    "information science (QIS). This is particularly true in the\n",
    "development of two-qubit logic for quantum computation.\n",
    "\n",
    "\n",
    "\n",
    "The\n",
    "generation of two-qubit entanglement has been demonstrated in a wide\n",
    "variety of physical systems used in present-day quantum computing,\n",
    "including superconducting circuits, tapped\n",
    "ions, semiconductor quantum dots, color-center\n",
    "defects in diamond, and neutral atoms in optical\n",
    "latticesjust to name a few.\n",
    "\n",
    "\n",
    "\n",
    "## More on Entanglement\n",
    "\n",
    "Generating an entanglement between two quantum systems rely on\n",
    "exploiting interactions in a controllable way. The details in the\n",
    "interaction Hamiltonian between two systems defines the protocol\n",
    "schemes for two-qubit logic.\n",
    "\n",
    "\n",
    "\n",
    "In  superconducting circuits the\n",
    "interaction between qubits may arise from direct capacitive coupling\n",
    "between circuit elements or by indirect coupling of two qubits to a\n",
    "common resonator (virtually populating resonator mode) which results\n",
    "in a non-local Hamiltonian in the form of exchange\n",
    "interaction. This allow to implement various\n",
    "schemes for entanglement, such as $\\sqrt{i\\text{SWAP}}$, controlled-phase\n",
    "gate, resonator-induced phase\n",
    "gate, cross-resonance gate.\n",
    "\n",
    "\n",
    "\n",
    "## Entanglement gates in trapped ions and more\n",
    "\n",
    "Entanglement gates in trapped ions are\n",
    "produced by means of the Coulomb interaction, where shared motional\n",
    "modes of two or more ions, entangled to their internal states, used\n",
    "for transferring excitations between ion\n",
    "qubits. This has been experimentally\n",
    "demonstrated.\n",
    "\n",
    "\n",
    "\n",
    "\n",
    "In photonic quantum\n",
    "computing schemes two-qubit entangling operations are realized by\n",
    "nonlinear interactions between two photons scattering from quantum\n",
    "dots, plasmonic nanowires, diamond vacancy centers and others embedded\n",
    "into waveguides. Two-qubit gates in\n",
    "semiconductor quantum dots are based on spin-spin exchange\n",
    "interactions or generated\n",
    "by coupling to a superconducting resonator via artificial spin-orbit\n",
    "interaction.\n",
    "\n",
    "\n",
    "\n",
    "\n",
    "## Coulomb interaction\n",
    "\n",
    "Coulomb interaction governed entanglement can be realized in\n",
    "the system of electrons on the surface of superfluid helium, where\n",
    "qubit states are formed by in-plane lateral motional or out-of plane\n",
    "Rydberg states. Trapped near the surface of liquid helium these states\n",
    "have different spatial charge configurations and the wavefunctions of\n",
    "different electrons do not overlap.\n",
    "\n",
    "\n",
    "\n",
    "This results in a strong exchange\n",
    "free Coulomb interaction which depends on the states of the\n",
    "electrons. The lack of disorder in the systems\n",
    "also leads to slow electron decoherence, which has attracted interest\n",
    "to the system as a candidate for quantum information\n",
    "processing.\n",
    "\n",
    "\n",
    "\n",
    "## Electrons on helium is another qubit platform\n",
    "\n",
    "**To our knowledge two qubit gates have never been discussed in a proper manner.**\n",
    "\n",
    "The static Coulomb interaction arises from a virtual photon exchange\n",
    " process between two charge particles according to quantum\n",
    " electrodynamics. This results in a correlated motion of two charges\n",
    " generating quantum entanglement.\n",
    "\n",
    "\n",
    "\n",
    "## Surface state electrons (SSE)\n",
    "\n",
    "Surface state electrons (SSE) 'floating' above liquid helium\n",
    "originates from quantization of electron's perpendicular to the\n",
    "surface motion in a trapping potential formed by attractive force from\n",
    "image charge and a large $\\sim$ 1 eV barrier at the liquid-vacuum\n",
    "interface. At low temperatures the SSE are trapped in the lowest\n",
    "Rydberg state for vertical motion some 11 nm above the helium surface,\n",
    "which is perfectly clean and has a permittivity close to that of\n",
    "vacuum.\n",
    "\n",
    "\n",
    "\n",
    "The weak interaction with enviroment, which is mainly governed\n",
    "by interaction with quantized surface capillary waves (ripplons) and\n",
    "bulk phonons, ensures long coherence times - a vital ingredient for\n",
    "any qubit platform. SSE's in-plane motion can be further localized by\n",
    "using microdevices on the length scales approaching the interelectron\n",
    "separation (at the order of one micron).\n",
    "\n",
    "\n",
    "\n",
    "## Typical Setup\n",
    "\n",
    "<!-- dom:FIGURE: [figures/setupfigure.png, width=600 frac=0.6] -->\n",
    "<!-- begin figure -->\n",
    "<img src=\"figures/setupfigure.png\" width=600><p style=\"font-size: 0.9em\"><i>Figure 1: </i></p><!-- end figure -->\n",
    "\n",
    "\n",
    "\n",
    "\n",
    "## Computational Methods\n",
    "\n",
    "As we are only studying a model comprised of two electrons restricted to move in a\n",
    "    one-dimensional external potential we have employed the\n",
    "    configuration-interaction theory to compute the steady-state\n",
    "    properties of the system.\n",
    "    We have used a static, one-dimensional, grid-based basis set for the single-particle\n",
    "    functions.\n",
    "    This allows for flexibility in the choice of the external potential, and fits the\n",
    "    interpolated potential particularly well.\n",
    "\n",
    "\n",
    "    The Hamiltonian of $N$ interacting electrons confined by some potential $v(r)$ can be written on general form"
   ]
  },
  {
   "cell_type": "markdown",
   "metadata": {},
   "source": [
    "<!-- Equation labels as ordinary links -->\n",
    "<div id=\"_auto1\"></div>\n",
    "\n",
    "$$\n",
    "\\begin{equation}\n",
    "        \\hat{H} = \\sum_{i=1}^N \\left(-\\frac{1}{2}\\nabla_i^2 + v(r_i) \\right) + \\sum_{i < j} \\hat{u}(r_i, r_j),\n",
    "\\label{_auto1} \\tag{1}\n",
    "\\end{equation}\n",
    "$$"
   ]
  },
  {
   "cell_type": "markdown",
   "metadata": {},
   "source": [
    "where $\\hat{u}(i,j)$ is the electron-electron (Coulomb) interaction.\n",
    "\n",
    "## One-dimensional system\n",
    "\n",
    "We consider a one-dimensional model where the confining potential is parametrized/obtained from finite element calculations. \n",
    "\n",
    "    The bare Coulomb interaction is divergent in 1D (REF) and it is customary to use a smoothed Coulomb interaction given by"
   ]
  },
  {
   "cell_type": "markdown",
   "metadata": {},
   "source": [
    "<!-- Equation labels as ordinary links -->\n",
    "<div id=\"_auto2\"></div>\n",
    "\n",
    "$$\n",
    "\\begin{equation}\n",
    "        u(x_1, x_2) = \\frac{\\alpha}{\\sqrt{(x_1 - x_2)^2 + a^2}},\n",
    "\\label{_auto2} \\tag{2}\n",
    "\\end{equation}\n",
    "$$"
   ]
  },
  {
   "cell_type": "markdown",
   "metadata": {},
   "source": [
    "where $\\alpha$ adjusts the strength of the interaction and $a$ removes\n",
    "    the singularity at $x_1 = x_2$.\n",
    "\n",
    "    The single-particle functions  are chosen as the eigenfunctions of the single-particle Hamiltonian"
   ]
  },
  {
   "cell_type": "markdown",
   "metadata": {},
   "source": [
    "<!-- Equation labels as ordinary links -->\n",
    "<div id=\"_auto3\"></div>\n",
    "\n",
    "$$\n",
    "\\begin{equation}\n",
    "        \\left( -\\frac{d^2}{dx^2}+v(x) \\right) \\psi_p(x) = \\epsilon_p \\psi_p(x).\n",
    "\\label{_auto3} \\tag{3}\n",
    "\\end{equation}\n",
    "$$"
   ]
  },
  {
   "cell_type": "markdown",
   "metadata": {},
   "source": [
    "## Many-particle States\n",
    "\n",
    "It should be noted that this implies that Slater determinants built from the single-particle are eigenfunctions of the non-interacting many-body Hamiltonian"
   ]
  },
  {
   "cell_type": "markdown",
   "metadata": {},
   "source": [
    "<!-- Equation labels as ordinary links -->\n",
    "<div id=\"_auto4\"></div>\n",
    "\n",
    "$$\n",
    "\\begin{equation}\n",
    "     \\left( \\sum_{i=1}^N -\\frac{1}{2}\\nabla_i + v(r_i)  \\right) \\vert\\Phi_p\\rangle = E_p \\vert\\Phi_p\\rangle,\n",
    "\\label{_auto4} \\tag{4}\n",
    "\\end{equation}\n",
    "$$"
   ]
  },
  {
   "cell_type": "markdown",
   "metadata": {},
   "source": [
    "where $\\vert\\Phi_p\\rangle = \\vert\\psi_{p_1\\rangle\\cdots \\psi_{p_N}}$ and"
   ]
  },
  {
   "cell_type": "markdown",
   "metadata": {},
   "source": [
    "<!-- Equation labels as ordinary links -->\n",
    "<div id=\"_auto5\"></div>\n",
    "\n",
    "$$\n",
    "\\begin{equation}\n",
    "        E_p = \\sum_{i=1}^N \\epsilon_{p_i}.\n",
    "\\label{_auto5} \\tag{5}\n",
    "\\end{equation}\n",
    "$$"
   ]
  },
  {
   "cell_type": "markdown",
   "metadata": {},
   "source": [
    "## Setup of States, One-body States\n",
    "\n",
    "\n",
    "<!-- dom:FIGURE: [figures/setupfigure2.png, width=600 frac=0.85] -->\n",
    "<!-- begin figure -->\n",
    "<img src=\"figures/setupfigure2.png\" width=600><p style=\"font-size: 0.9em\"><i>Figure 1: </i></p><!-- end figure -->\n",
    "\n",
    "\n",
    "\n",
    "## Setup of States, Two-body States\n",
    "\n",
    "\n",
    "<!-- dom:FIGURE: [figures/setupfigure3.png, width=600 frac=0.85] -->\n",
    "<!-- begin figure -->\n",
    "<img src=\"figures/setupfigure3.png\" width=600><p style=\"font-size: 0.9em\"><i>Figure 1: </i></p><!-- end figure -->\n",
    "\n",
    "\n",
    "## Where we are now\n",
    "\n",
    "1. Have time-dependent codes for two and up to six electrons with FCI\n",
    "\n",
    "2. Beyond that time-dependent Coupled-cluster theory\n",
    "\n",
    "3. Matrix elements (TDHF) for one, two and three dimensions for different geometries.\n",
    "\n",
    "4. Studies of the time-evolution of entangled states (now two electrons only)\n",
    "\n",
    "5. Use theory to find optimal experimental setup\n",
    "\n",
    "6. Expect two-electron system realized experimentally in two years\n",
    "\n",
    "## Quantum algorithms for solving many-body problems, simple model\n",
    "\n",
    "The pairing model consists of $2N$ fermions that occupy $N$ of $P$ energy levels. The fermions can only change energy level by pair. It's Hamiltonian is"
   ]
  },
  {
   "cell_type": "markdown",
   "metadata": {},
   "source": [
    "<!-- Equation labels as ordinary links -->\n",
    "<div id=\"_auto6\"></div>\n",
    "\n",
    "$$\n",
    "\\begin{equation}\n",
    "H=\\sum_{p\\sigma} \\delta_pa_{p\\sigma}^{\\dagger}a_{p\\sigma}+\\sum_{pq}g_{pq}a_{p+}^{\\dagger}a_{p-}^{\\dagger}a_{q-}a_{q+}\n",
    ",\n",
    "\\label{_auto6} \\tag{6}\n",
    "\\end{equation}\n",
    "$$"
   ]
  },
  {
   "cell_type": "markdown",
   "metadata": {},
   "source": [
    "where $p$ and $q$ sum over the set  $\\{1,2,...,P\\}$ and $\\sigma$ sums over the set $\\{+,-\\}$. Also, $a$ and $a^{\\dagger}$ are the fermionic creation and annihilation operators.\n",
    "\n",
    "## More on the pairing model\n",
    "\n",
    "If one assumes that energy levels are never half filled (always occupied by either 0 or 2 fermions), then the pairing model is equivalent to a system of $N$ pairs of fermions that occupy $P$ doubly-degenerate energy levels"
   ]
  },
  {
   "cell_type": "markdown",
   "metadata": {},
   "source": [
    "<!-- Equation labels as ordinary links -->\n",
    "<div id=\"_auto7\"></div>\n",
    "\n",
    "$$\n",
    "\\begin{equation}\n",
    "H = 2\\sum_{p} \\delta_pA_p^{\\dagger}A_p+\\sum_{pq}g_{pq}A_p^{\\dagger}A_q,\n",
    "\\label{_auto7} \\tag{7}\n",
    "\\end{equation}\n",
    "$$"
   ]
  },
  {
   "cell_type": "markdown",
   "metadata": {},
   "source": [
    "where $p$ and $q$ sum from over the set $\\{1,...,p\\}$ and"
   ]
  },
  {
   "cell_type": "markdown",
   "metadata": {},
   "source": [
    "$$\n",
    "\\begin{align*}\n",
    "A_p &= a_{p-}a_{p+}\n",
    "\\\\\n",
    "A^{\\dagger}_p &= a^{\\dagger}_{p+}a^{\\dagger}_{p-},\n",
    "\\end{align*}\n",
    "$$"
   ]
  },
  {
   "cell_type": "markdown",
   "metadata": {},
   "source": [
    "are the fermionic pair creation and annihilation operators.\n",
    "\n",
    "## Unitary Coupled Cluster Ansatz\n",
    "\n",
    "The unitary coupled cluster ansatz is"
   ]
  },
  {
   "cell_type": "markdown",
   "metadata": {},
   "source": [
    "<!-- Equation labels as ordinary links -->\n",
    "<div id=\"_auto8\"></div>\n",
    "\n",
    "$$\n",
    "\\begin{equation}\n",
    "\\vert\\Psi\\rangle=e^{T-T^{\\dagger}}\\vert\\Phi\\rangle,\n",
    "\\label{_auto8} \\tag{8}\n",
    "\\end{equation}\n",
    "$$"
   ]
  },
  {
   "cell_type": "markdown",
   "metadata": {},
   "source": [
    "and"
   ]
  },
  {
   "cell_type": "markdown",
   "metadata": {},
   "source": [
    "<!-- Equation labels as ordinary links -->\n",
    "<div id=\"_auto9\"></div>\n",
    "\n",
    "$$\n",
    "\\begin{equation}\n",
    "\\vert\\Psi\\rangle=\\exp{(T_1-T_1^{\\dagger})}\\vert\\Phi\\rangle,\n",
    "\\label{_auto9} \\tag{9}\n",
    "\\end{equation}\n",
    "$$"
   ]
  },
  {
   "cell_type": "markdown",
   "metadata": {},
   "source": [
    "where $\\vert\\Phi\\rangle$ is a Fock state and $T=\\sum_{k=1}^AT_k$.\n",
    "\n",
    "## Technicalities\n",
    "\n",
    "Since our Hamiltonian only has one body terms. We will truncate to $T=T_1$ where"
   ]
  },
  {
   "cell_type": "markdown",
   "metadata": {},
   "source": [
    "<!-- Equation labels as ordinary links -->\n",
    "<div id=\"_auto10\"></div>\n",
    "\n",
    "$$\n",
    "\\begin{equation}\n",
    "T_1=\\sum_{ia}t_i^aA_a^{\\dagger}A_i.\n",
    "\\label{_auto10} \\tag{10}\n",
    "\\end{equation}\n",
    "$$"
   ]
  },
  {
   "cell_type": "markdown",
   "metadata": {},
   "source": [
    "Thus, we define our ansatz as"
   ]
  },
  {
   "cell_type": "markdown",
   "metadata": {},
   "source": [
    "<!-- Equation labels as ordinary links -->\n",
    "<div id=\"_auto11\"></div>\n",
    "\n",
    "$$\n",
    "\\begin{equation}\n",
    "\\vert\\Psi(\\theta)\\rangle=\\exp\\left\\{\\sum_{ia}t_i^a\\left(A_a^{\\dagger}A_i-A_aA_i^{\\dagger}\\right)\\right\\}\\vert\\Phi\\rangle.\n",
    "\\label{_auto11} \\tag{11}\n",
    "\\end{equation}\n",
    "$$"
   ]
  },
  {
   "cell_type": "markdown",
   "metadata": {},
   "source": [
    "We define the set of angles $\\theta=\\{t_i^a \\ | \\ i < F, \\ a \\geq F\\}$ where $F$ is the number of particles below the Fermi level.\n",
    "\n",
    "## Mapping Pair Operators to Pauli Gates\n",
    "\n",
    "The Jordan-Wigner transformation from pair operators to Pauli matrices is"
   ]
  },
  {
   "cell_type": "markdown",
   "metadata": {},
   "source": [
    "<!-- Equation labels as ordinary links -->\n",
    "<div id=\"_auto12\"></div>\n",
    "\n",
    "$$\n",
    "\\begin{equation}\n",
    "A_p = \\frac{X_p+iY_p}{2} \n",
    "\\label{_auto12} \\tag{12}\n",
    "\\end{equation}\n",
    "$$"
   ]
  },
  {
   "cell_type": "markdown",
   "metadata": {},
   "source": [
    "<!-- Equation labels as ordinary links -->\n",
    "<div id=\"_auto13\"></div>\n",
    "\n",
    "$$\n",
    "\\begin{equation} \n",
    "A_p^{\\dagger} = \\frac{X_p-iY_p}{2},\n",
    "\\label{_auto13} \\tag{13}\n",
    "\\end{equation}\n",
    "$$"
   ]
  },
  {
   "cell_type": "markdown",
   "metadata": {},
   "source": [
    "where $P_i\\equiv \\left(\\bigotimes_{n=1}^{i-1}I\\right)\\otimes P\\otimes\\left(\\bigotimes_{n=i+1}^NI\\right)$ where $P \\in \\{X,Y,Z\\}$ and $N$ is the total number of particles.\n",
    "\n",
    "## Mapping the Ansatz\n",
    "\n",
    "Applying this transformation"
   ]
  },
  {
   "cell_type": "markdown",
   "metadata": {},
   "source": [
    "<!-- Equation labels as ordinary links -->\n",
    "<div id=\"_auto14\"></div>\n",
    "\n",
    "$$\n",
    "\\begin{equation}\n",
    "A_a^{\\dagger}A_i-A_aA_i^{\\dagger}\n",
    "=\\left(\\frac{X_a-iY_i}{2}\\right)\\left(\\frac{X_a+iY_i}{2}\\right) \n",
    "\\label{_auto14} \\tag{14}\n",
    "\\end{equation}\n",
    "$$"
   ]
  },
  {
   "cell_type": "markdown",
   "metadata": {},
   "source": [
    "<!-- Equation labels as ordinary links -->\n",
    "<div id=\"_auto15\"></div>\n",
    "\n",
    "$$\n",
    "\\begin{equation} \n",
    "-\\left(\\frac{X_a+iY_i}{2}\\right)\\left(\\frac{X_a-iY_i}{2}\\right)\n",
    "\\label{_auto15} \\tag{15}\n",
    "\\end{equation}\n",
    "$$"
   ]
  },
  {
   "cell_type": "markdown",
   "metadata": {},
   "source": [
    "<!-- Equation labels as ordinary links -->\n",
    "<div id=\"_auto16\"></div>\n",
    "\n",
    "$$\n",
    "\\begin{equation} \n",
    "=\\frac{i}{2}\\left(X_aY_i-Y_aX_i\\right),\n",
    "\\label{_auto16} \\tag{16}\n",
    "\\end{equation}\n",
    "$$"
   ]
  },
  {
   "cell_type": "markdown",
   "metadata": {},
   "source": [
    "The ansatz becomes"
   ]
  },
  {
   "cell_type": "markdown",
   "metadata": {},
   "source": [
    "<!-- Equation labels as ordinary links -->\n",
    "<div id=\"_auto17\"></div>\n",
    "\n",
    "$$\n",
    "\\begin{equation}\n",
    "\\vert\\Psi(\\theta)\\rangle\n",
    "=\\exp\\left\\{\\frac{i}{2}\\sum_{ia}t_i^a\\left(X_aY_i-Y_aX_i\\right)\\right\\}\\vert\\Phi\\rangle.\n",
    "\\label{_auto17} \\tag{17}\n",
    "\\end{equation}\n",
    "$$"
   ]
  },
  {
   "cell_type": "markdown",
   "metadata": {},
   "source": [
    "## Trotter approximation\n",
    "To first order Trotter approximation we have"
   ]
  },
  {
   "cell_type": "markdown",
   "metadata": {},
   "source": [
    "<!-- Equation labels as ordinary links -->\n",
    "<div id=\"ansatz\"></div>\n",
    "\n",
    "$$\n",
    "\\begin{equation}\n",
    "\\label{ansatz} \\tag{18}\n",
    "\\vert\\Psi(\\theta)\\rangle\n",
    "\\approx\\prod_{ia}\\exp\\left\\{\\frac{i}{2}t_i^a\\left(X_aY_i-Y_aX_i\\right)\\right\\}\\vert\\Phi\\rangle\n",
    "\\end{equation}\n",
    "$$"
   ]
  },
  {
   "cell_type": "markdown",
   "metadata": {},
   "source": [
    "<!-- Equation labels as ordinary links -->\n",
    "<div id=\"_auto18\"></div>\n",
    "\n",
    "$$\n",
    "\\begin{equation} \n",
    "\\equiv\n",
    "\\prod_{ia}A_{ia}\\vert\\Phi\\rangle.\n",
    "\\label{_auto18} \\tag{19}\n",
    "\\end{equation}\n",
    "$$"
   ]
  },
  {
   "cell_type": "markdown",
   "metadata": {},
   "source": [
    "## Mapping the Hamiltonian\n",
    "\n",
    "First, we rewrite the Hamiltonian"
   ]
  },
  {
   "cell_type": "markdown",
   "metadata": {},
   "source": [
    "<!-- Equation labels as ordinary links -->\n",
    "<div id=\"_auto19\"></div>\n",
    "\n",
    "$$\n",
    "\\begin{equation}\n",
    "H\n",
    "=2\\sum_{p}\\delta_pa_p^{\\dagger}a_p+\\sum_{pq}g_{pq}a_p^{\\dagger}a_q \n",
    "\\label{_auto19} \\tag{20}\n",
    "\\end{equation}\n",
    "$$"
   ]
  },
  {
   "cell_type": "markdown",
   "metadata": {},
   "source": [
    "<!-- Equation labels as ordinary links -->\n",
    "<div id=\"_auto20\"></div>\n",
    "\n",
    "$$\n",
    "\\begin{equation} \n",
    "=\\sum_{p}\\left(2\\delta_p+g_{pq}\\right)a_p^{\\dagger}a_p+\\sum_{p\\neq q}g_{pq}a_p^{\\dagger}a_q.\n",
    "\\label{_auto20} \\tag{21}\n",
    "\\end{equation}\n",
    "$$"
   ]
  },
  {
   "cell_type": "markdown",
   "metadata": {},
   "source": [
    "Applying the transformation to the first term in the Hamiltonian"
   ]
  },
  {
   "cell_type": "markdown",
   "metadata": {},
   "source": [
    "<!-- Equation labels as ordinary links -->\n",
    "<div id=\"_auto21\"></div>\n",
    "\n",
    "$$\n",
    "\\begin{equation}\n",
    "a^{\\dagger}_pa_p=\\left(\\frac{X_p-iY_p}{2}\\right)\\left(\\frac{X_p+iY_p}{2}\\right)=\\frac{I_p-Z_p}{2}.\n",
    "\\label{_auto21} \\tag{22}\n",
    "\\end{equation}\n",
    "$$"
   ]
  },
  {
   "cell_type": "markdown",
   "metadata": {},
   "source": [
    "## More manipulations\n",
    "For the second term, first note that"
   ]
  },
  {
   "cell_type": "markdown",
   "metadata": {},
   "source": [
    "<!-- Equation labels as ordinary links -->\n",
    "<div id=\"_auto22\"></div>\n",
    "\n",
    "$$\n",
    "\\begin{equation}\n",
    "\\sum_{p\\neq q}a_p^{\\dagger}a_q\n",
    "=\\sum_{p<q}a_p^{\\dagger}a_q+\\sum_{q<p}a_p^{\\dagger}a_q\n",
    "=\\sum_{p<q}a_p^{\\dagger}a_q+a_pa_q^{\\dagger},\n",
    "\\label{_auto22} \\tag{23}\n",
    "\\end{equation}\n",
    "$$"
   ]
  },
  {
   "cell_type": "markdown",
   "metadata": {},
   "source": [
    "which we arrive at by swapping the indices $p$ and $q$ in the second sum and combining the sums. Applying the transformation"
   ]
  },
  {
   "cell_type": "markdown",
   "metadata": {},
   "source": [
    "<!-- Equation labels as ordinary links -->\n",
    "<div id=\"_auto23\"></div>\n",
    "\n",
    "$$\n",
    "\\begin{equation}\n",
    "a_p^{\\dagger}a_q+a_pa_q^{\\dagger}\n",
    "=\\left(\\frac{X_p-iY_p}{2}\\right)\\left(\\frac{X_q+iY_q}{2}\\right) \n",
    "\\label{_auto23} \\tag{24}\n",
    "\\end{equation}\n",
    "$$"
   ]
  },
  {
   "cell_type": "markdown",
   "metadata": {},
   "source": [
    "<!-- Equation labels as ordinary links -->\n",
    "<div id=\"_auto24\"></div>\n",
    "\n",
    "$$\n",
    "\\begin{equation} \n",
    "+\\left(\\frac{X_p+iY_p}{2}\\right)\\left(\\frac{X_q-iY_q}{2}\\right) \n",
    "\\label{_auto24} \\tag{25}\n",
    "\\end{equation}\n",
    "$$"
   ]
  },
  {
   "cell_type": "markdown",
   "metadata": {},
   "source": [
    "<!-- Equation labels as ordinary links -->\n",
    "<div id=\"_auto25\"></div>\n",
    "\n",
    "$$\n",
    "\\begin{equation} \n",
    "=\\frac{1}{2}\\left(X_pX_q+Y_pY_q\\right).\n",
    "\\label{_auto25} \\tag{26}\n",
    "\\end{equation}\n",
    "$$"
   ]
  },
  {
   "cell_type": "markdown",
   "metadata": {},
   "source": [
    "## Hamiltonian\n",
    "Thus, the Hamiltonian can be written in terms of Pauli matrices as"
   ]
  },
  {
   "cell_type": "markdown",
   "metadata": {},
   "source": [
    "$$\n",
    "\\begin{align*}\n",
    "H = \\sum_p\\left(2\\delta_p+g_{pq}\\right)\\left(\\frac{I_p-Z_p}{2}\\right)\n",
    "+\\sum_{p<q}g_{pq}\\frac{X_pX_q+Y_pY_q}{2}\n",
    "\\end{align*}\n",
    "$$"
   ]
  },
  {
   "cell_type": "markdown",
   "metadata": {},
   "source": [
    "## Exact and Calculated Correlation Energies vs Pairing Strength for $(p,n)=(4,2)$\n",
    "\n",
    "<!-- dom:FIGURE: [figures/QCpairing1.png, width=600 frac=0.6] -->\n",
    "<!-- begin figure -->\n",
    "<img src=\"figures/QCpairing1.png\" width=600><p style=\"font-size: 0.9em\"><i>Figure 1: </i></p><!-- end figure -->\n",
    "\n",
    "\n",
    "**Note**: $p$ is the number of doubly-degenerate levels and $n$ is the number of pairs of fermions.\n",
    "\n",
    "\n",
    "\n",
    "## Exact and Calculated Correlation Energies vs Pairing Strength for $(p,n)=(5,2)$\n",
    "\n",
    "<!-- dom:FIGURE: [figures/QCpairing2.png, width=600 frac=0.6] -->\n",
    "<!-- begin figure -->\n",
    "<img src=\"figures/QCpairing2.png\" width=600><p style=\"font-size: 0.9em\"><i>Figure 1: </i></p><!-- end figure -->\n",
    "\n",
    "\n",
    "\n",
    "## Quantum Machine Learning\n",
    "\n",
    "The emergence of quantum computers has opened up even more\n",
    "possibilities within the field of machine learning. Since quantum\n",
    "mechanics is known to create patterns which are not believed to be\n",
    "efficiently produced by classical computers, it is natural to\n",
    "hypothesize that quantum computers may be able to outperform classical\n",
    "computers on certain machine learning tasks. There are several\n",
    "interesting approaches to machine learning from a quantum computing\n",
    "perspective - from running existing algorithms or parts of these more\n",
    "efficiently, to exploring completely new algorithms that are\n",
    "specifically developed for quantum computers. Recent results show that\n",
    "quantum neural networks are able to achieve a significantly better\n",
    "effective dimension than comparable classical neural networks.\n",
    "\n",
    "\n",
    "## More on Quantum Machine Learning\n",
    "\n",
    "A few examples of existing algorithms that exhibit a speed up on\n",
    "quantum computers are $k$-nearest neighbors, support vector machines\n",
    "and $k$-means clustering.\n",
    "\n",
    "Among algorithmic approaches that are specifically designed for\n",
    "quantum computers we find so-called parameterized quantum\n",
    "circuits. These are hybrid quantum-classical methods where the\n",
    "input-output relation is being produced by a quantum computer, while a\n",
    "classical computer is responsible for updating the model parameters\n",
    "during training.\n",
    "\n",
    "## Present Plans\n",
    "\n",
    "1. Quantum circuit optimization\n",
    "\n",
    "2. Quantum Boltzmann Machines\n",
    "\n",
    "So-called Boltzmann Machines (BMs) define a machine learning method\n",
    "that aims to model probability distributions and has played a central\n",
    "role in the development of deep learning methods.\n",
    "\n",
    "It has since been shown that BMs are\n",
    "universal approximators of discrete probability distributions, meaning that they can approximate\n",
    "any discrete distribution arbitrarily well. Our research group has\n",
    "lately conducted several investigations of BMs applied to\n",
    "quantum-mechanical problems, with several interesting results.\n",
    "\n",
    "\n",
    "\n",
    "## Conclusions and where do we stand\n",
    "\n",
    "Lots of interesting research directions. \n",
    "1. Have time-dependent codes for two and up to six electrons with FCI\n",
    "\n",
    "2. Beyond that time-dependent Coupled-cluster theory\n",
    "\n",
    "3. Matrix elements (TDHF) for one, two and three dimensions for different geometries.\n",
    "\n",
    "4. Studies of the time-evolution of entangled states (now two electrons only)\n",
    "\n",
    "5. Use theory to find optimal experimental setup\n",
    "\n",
    "6. Expect two-electron system realized experimentally in two years\n",
    "\n",
    "7. Successfully applied various quantum algorithms to many-body systems\n",
    "\n",
    "8. Quantum machine learning, just started"
   ]
  }
 ],
 "metadata": {},
 "nbformat": 4,
 "nbformat_minor": 4
}
