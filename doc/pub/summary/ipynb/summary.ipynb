{
 "cells": [
  {
   "cell_type": "markdown",
   "id": "74befe42",
   "metadata": {
    "editable": true
   },
   "source": [
    "<!-- HTML file automatically generated from DocOnce source (https://github.com/doconce/doconce/)\n",
    "doconce format html summary.do.txt --no_mako -->\n",
    "<!-- dom:TITLE: Quantum computing, Machine Learning and Quantum Machine Learning at UiO -->"
   ]
  },
  {
   "cell_type": "markdown",
   "id": "674fa1bd",
   "metadata": {
    "editable": true
   },
   "source": [
    "# Quantum computing, Machine Learning and Quantum Machine Learning at UiO\n",
    "**Center for Computing in Science Education and Computational Physics Research Group, Department of Physics, UiO**\n",
    "<!-- at Department of Physics and Astronomy and FRIB, Michigan State University, USA, and Department of Physics and Center for Computing in Science Education, -->\n",
    "<!-- University of Oslo, Norway -->\n",
    "\n",
    "Date: **Jun 11, 2024**"
   ]
  },
  {
   "cell_type": "markdown",
   "id": "6695e362",
   "metadata": {
    "editable": true
   },
   "source": [
    "## People\n",
    "\n",
    "**UiO.**\n",
    "\n",
    "1. Morten Hjorth-Jensen (theory),  Lasse Vines, Marianne Bathen Etzelmueller, Justin Wells  and David Gongarra (experiment)\n",
    "\n",
    "2. Four theory PhD students (2019-2025), one PD\n",
    "\n",
    "3. Twelve  master of science students  (theory), many-body physics, quantum computing, quantum machine learning and machine learning"
   ]
  },
  {
   "cell_type": "markdown",
   "id": "dcf374ac",
   "metadata": {
    "editable": true
   },
   "source": [
    "## Machine learning research\n",
    "\n",
    "1. Solving complicated quantum mechanical many-body systems with deep learning, see <https://www.nature.com/articles/s42005-024-01613-w>\n",
    "\n",
    "2. Developing new machine learning algorithms, with applications to quantum computing as well, see <https://arxiv.org/abs/2401.11694>\n",
    "\n",
    "3. Analyzing experimental data from physics experiments, see for example <https://www.sciencedirect.com/science/article/abs/pii/S0168900221004460?via%3Dihub>\n",
    "\n",
    "4. Predicting solid state material platforms for quantum technologies, see for example <https://www.nature.com/articles/s41524-022-00888-3>"
   ]
  },
  {
   "cell_type": "markdown",
   "id": "8e0596f0",
   "metadata": {
    "editable": true
   },
   "source": [
    "## Many-body physics, Quantum computing and quantum machine learning\n",
    "\n",
    "1. How to use many-body theory to design quantum circuits and gates (Quantum engineering), see for example <https://arxiv.org/abs/2401.11694>\n",
    "\n",
    "2. Many-body theory with focus on\n",
    "\n",
    "  * Adaptive basis sets \n",
    "\n",
    "  * Time dependence\n",
    "\n",
    "  * Feedback from experiment\n",
    "\n",
    "3. Studies of many-body entanglement and quantum tomography\n",
    "\n",
    "4. Numerical experiments to mimick real systems, quantum twins\n",
    "\n",
    "5. Constructing quantum circuits to simulate specific systems\n",
    "\n",
    "6. Quantum machine learning to optimize quantum circuits"
   ]
  }
 ],
 "metadata": {},
 "nbformat": 4,
 "nbformat_minor": 5
}
