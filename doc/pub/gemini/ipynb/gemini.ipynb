{
 "cells": [
  {
   "cell_type": "markdown",
   "id": "5bf9918b",
   "metadata": {
    "editable": true
   },
   "source": [
    "<!-- HTML file automatically generated from DocOnce source (https://github.com/doconce/doconce/)\n",
    "doconce format html gemini.do.txt --no_mako -->\n",
    "<!-- dom:TITLE: Education and Research in Quantum Information Systems and more -->"
   ]
  },
  {
   "cell_type": "markdown",
   "id": "b54029ca",
   "metadata": {
    "editable": true
   },
   "source": [
    "# Education and Research in Quantum Information Systems and more\n",
    "**Morten Hjorth-Jensen**, Department of Physics and Astronomy and Facility for Rare Isotope Beams, Michigan State University, USA and Department of Physics and Center for Computing in Science Education, University of Oslo, Norway\n",
    "\n",
    "Date: **April 7, 2022. Gemini center, Oslo, Norway**"
   ]
  },
  {
   "cell_type": "markdown",
   "id": "899104ea",
   "metadata": {
    "editable": true
   },
   "source": [
    "## Plans for a Bachelor of Science program in Computational Physics and Quantum Technologies\n",
    "\n",
    "There is a proposal  a new Bachelor of Science program at the\n",
    "Department of Physics of the University of Oslo. This program is\n",
    "called **Computational Physics and Quantum Technologies**.\n",
    "\n",
    "Tentative start fall semester 2024. The program will be administrated by the Department of Physics@UiO."
   ]
  },
  {
   "cell_type": "markdown",
   "id": "62f7555d",
   "metadata": {
    "editable": true
   },
   "source": [
    "## Strategic importance\n",
    "\n",
    "Computational physics, computational science and data science play a\n",
    "central role in scientific investigations and are central to\n",
    "innovation in most domains of our lives. These fields underpin the\n",
    "majority of today's technological, economic and societal feats. We\n",
    "have entered an era in which huge amounts of data offer enormous\n",
    "opportunities, but only to those who are able to harness them. The 3rd\n",
    "industrial revolution will alter significantly the demands on the\n",
    "workforce. In particular, the developments taking place in quantum\n",
    "technologies and quantum information systems (QIS) together with\n",
    "artificial intelligence (AI) and machine learning (ML) are expected to\n",
    "play a significant role in technology developments and innovations,\n",
    "and for fundamental discoveries in physics."
   ]
  },
  {
   "cell_type": "markdown",
   "id": "e80f328c",
   "metadata": {
    "editable": true
   },
   "source": [
    "## AI and machine learning\n",
    "\n",
    "Artificial\n",
    "intelligence is built upon integrated machine learning algorithms,\n",
    "which in turn are fundamentally rooted in optimization and statistical\n",
    "learning."
   ]
  },
  {
   "cell_type": "markdown",
   "id": "8dc504f1",
   "metadata": {
    "editable": true
   },
   "source": [
    "## AI and ML in Physics\n",
    "\n",
    "Artificial intelligence (AI) and Machine learning (ML)  techniques\n",
    "have in the last years gained considerable traction in\n",
    "scientific discovery. In particular, applications and techniques for\n",
    "so-called **fast ML**, that is high-performance ML methods applied\n",
    "to real time experimental data processing, hold great promise for\n",
    "enhancing scientific discoveries in many different disciplines.\n",
    "These developments cover a broad mix of rapidly\n",
    "evolving fields, from the development of ML techniques to computer and\n",
    "hardware architectures."
   ]
  },
  {
   "cell_type": "markdown",
   "id": "e6802296",
   "metadata": {
    "editable": true
   },
   "source": [
    "## Physics based Machine Learning\n",
    "\n",
    "An important and emerging field is what has been dubbed as scientific ML, see the article by Deiana et al [Applications and Techniques for Fast Machine Learning in Science, arXiv:2110.13041](https://arxiv.org/abs/2110.13041)\n",
    "\n",
    "The authors discuss applications and techniques for fast machine\n",
    "learning (ML) in science - the concept of integrating power ML\n",
    "methods into the real-time experimental data processing loop to\n",
    "accelerate scientific discovery. The report covers three main areas\n",
    "\n",
    "1. applications for fast ML across a number of scientific domains;\n",
    "\n",
    "2. techniques for training and implementing performant and resource-efficient ML algorithms;\n",
    "\n",
    "3. and computing architectures, platforms, and technologies for deploying these algorithms."
   ]
  },
  {
   "cell_type": "markdown",
   "id": "75423ad5",
   "metadata": {
    "editable": true
   },
   "source": [
    "## Many new research directions\n",
    "\n",
    "For our research in for example particle and\n",
    "nuclear physics, fields which cover a huge range of energy and length scales,\n",
    "spanning from our smallest constituents to the physics of dense\n",
    "astronomical objects like supernovae and neutron stars, AI and ML\n",
    "techniques offer possibilities for new discoveries and deeper insights\n",
    "about the physics of atomic nuclei, elementary particles and dense\n",
    "matter. Similarly, ML algorithms are widely applied in condensed\n",
    "matter physics, materials science and nanotechnology, in molecular dynamics simulations of complex\n",
    "systems in neuroscience and in many other fields in natural science.\n",
    "\n",
    "**Examples of applications in subatomic physics.**\n",
    "\n",
    "* **Artificial Intelligence and Machine Learning in Nuclear Physics**, Amber Boehnlein et al., [arXiv:2112.02309](https://arxiv.org/abs/2112.02309) and Reviews of Modern Physics, 2022, in press\n",
    "\n",
    "* **Predicting Solid State Material Platforms for Quantum Technologies**, Hebnes et al,. [arXiv:2203.16203](https://arxiv.org/abs/2203.16203)\n",
    "\n",
    "* [Mehta et al.](https://arxiv.org/abs/1803.08823) and [Physics Reports (2019)](https://www.sciencedirect.com/science/article/pii/S0370157319300766?via%3Dihub).\n",
    "\n",
    "* [Machine Learning and the Physical Sciences by Carleo et al](https://link.aps.org/doi/10.1103/RevModPhys.91.045002)\n",
    "\n",
    "* [Particle Data Group summary on ML methods](https://pdg.lbl.gov/2021/reviews/rpp2021-rev-machine-learning.pdf)"
   ]
  },
  {
   "cell_type": "markdown",
   "id": "d1c301f8",
   "metadata": {
    "editable": true
   },
   "source": [
    "## Quantum Information Technologies (QIT)\n",
    "\n",
    "Recent developments in quantum information systems\n",
    "and technologies offer the possibility to address some of the most\n",
    "challenging large-scale problems, whether they are represented by\n",
    "complicated interacting quantum mechanical systems or classical\n",
    "systems.  Originally proposed by Feynman, the efficient simulation of\n",
    "for example quantum systems by other, more controllable quantum\n",
    "systems formed the basis for modern constructions of quantum\n",
    "computations.  Many algorithmic and theoretical advances have followed\n",
    "since the initial work in this area and with recent developments in\n",
    "quantum computing hardware there is an additional drive to identify\n",
    "early practical problems on which these devices might demonstrate an\n",
    "advantage."
   ]
  },
  {
   "cell_type": "markdown",
   "id": "1a0ac466",
   "metadata": {
    "editable": true
   },
   "source": [
    "## More on QIT\n",
    "\n",
    "In addition to theoretical activities conducted at the\n",
    "Department of Physics (mainly at the Center for Computing in Science\n",
    "Education (CCSE) and the condensed matter group and other groups), there is a growing\n",
    "interest to study candidate systems for making quantum hardware. In\n",
    "particular, so-called point defects in semiconductors are pursued by\n",
    "experimenters at the center for Materials Science.  With this broad\n",
    "list of activities at the department of physics, there is a huge\n",
    "potential to prepare the ground for educating physicists with the\n",
    "theoretical and experimental background needed for the 21st\n",
    "century. There is also a great interest in candidates with such a\n",
    "background, knowledge, skills and competences in industry and the\n",
    "public sector."
   ]
  },
  {
   "cell_type": "markdown",
   "id": "e09e2652",
   "metadata": {
    "editable": true
   },
   "source": [
    "## Why such a program?\n",
    "\n",
    "Establishing such an educational program will be\n",
    "unique in Norway and has the potential to attract excellent students.\n",
    "The popularity of the Computational Science and in particular the Computational Physics and Computational Materials Science study direction are clear indicattors that these are fields with the potential to attract new students.\n",
    "\n",
    "Furthermore,\n",
    "Oslo Metropolitan university  has recently acquired two quantum quantum computers, see <https://kommunikasjon.ntb.no/pressemelding/oslomet-avduker-norges-forste-kvantedatamaskin?publisherId=15678779&releaseId=17917781> and is now establishing research and educational initiatives in quantum information systems. There are thus several interesting avenues for joint collaborations in quantum information systems and quantum technologies as well as developing joint educational programs."
   ]
  },
  {
   "cell_type": "markdown",
   "id": "0044dc91",
   "metadata": {
    "editable": true
   },
   "source": [
    "## More on motivation\n",
    "\n",
    "Computational physics plays a central role in the above mentioned\n",
    "developments.  Computations are simply indispensable.  At the\n",
    "department of physics of the university of Oslo this is reflected in\n",
    "the extremely popular study direction Computational Physics of the\n",
    "master of science (MSc) program Computational Science. This program\n",
    "has over the last two decades recruited many excellent students,\n",
    "resulting in highly attractive candidates in academia and in industry\n",
    "and the public sector. A large fraction of these students have\n",
    "specialized either in artificial intelligence and machine learning\n",
    "and/or in quantum information systems.  The large majority of the\n",
    "these students have job offers at least one year before completing\n",
    "their MSc theses. The program has also become one of the most\n",
    "selective master programs at the University of Oslo, requiring a grade\n",
    "average of 4.7 for entry in 2021. Furthermore, with recent advances in\n",
    "quantum technologies, there is a strong potential for new developments\n",
    "in the fields of nanotechnology and materials science, with the\n",
    "possibilities to develop new experimental activities."
   ]
  },
  {
   "cell_type": "markdown",
   "id": "13d641bb",
   "metadata": {
    "editable": true
   },
   "source": [
    "## Building educational programs\n",
    "\n",
    "1. Build up a series of courses in QIS, inspiration [QuSTEAM (Quantum Information Science, Technology, Engineering, Arts and Mathematics) initiative from USA](https://qusteam.org/)\n",
    "\n",
    "2. Bachelor program in Computational Physics and Quantum technologies\n",
    "\n",
    "a. study direction/option in **quantum technologies**\n",
    "\n",
    "b. study direction/option in **Artificial Intelligence and Machine Learning**\n",
    "\n",
    "c. Study direction/option in  Computational Physics\n",
    "\n",
    "4. Master of Science program in Computational and Data Science\n",
    "\n",
    "a. UiO has already MSc programs in CS and DS, many students do QC and ML and QML\n",
    "\n",
    "2. PhD program in CS and DS\n",
    "\n",
    "a. with directions in **quantum technologies**\n",
    "\n",
    "b. with directions in **Artificial Intelligence and Machine Learning**\n",
    "\n",
    "Coordination across university boundaries?  Collaboration  with industry and research labs?"
   ]
  },
  {
   "cell_type": "markdown",
   "id": "b3e78801",
   "metadata": {
    "editable": true
   },
   "source": [
    "## Courses, Prototype\n",
    "\n",
    "**Topics  in a Bachelor of Science/Master of Science.**\n",
    "\n",
    "1. Information Systems \n",
    "\n",
    "2. From Classical Information theory to Quantum Information theory\n",
    "\n",
    "3. Classical vs. Quantum Logic\n",
    "\n",
    "4. Classical and Quantum Laboratory \n",
    "\n",
    "5. Discipline-Based Quantum Mechanics \n",
    "\n",
    "6. Quantum Software\n",
    "\n",
    "7. Quantum Hardware\n",
    "\n",
    "8. more"
   ]
  },
  {
   "cell_type": "markdown",
   "id": "dd3a3307",
   "metadata": {
    "editable": true
   },
   "source": [
    "## Observations\n",
    "\n",
    "1. Students do not really know what QIS is. This may be important when advertising\n",
    "\n",
    "2. There is conflation of “Quantum Information Science” with “Quantum computing”.\n",
    "\n",
    "3. Students perceive that a graduate degree is necessary to work in QIS. A BSc will help."
   ]
  },
  {
   "cell_type": "markdown",
   "id": "1f91b097",
   "metadata": {
    "editable": true
   },
   "source": [
    "## Future Needs/Problems\n",
    "\n",
    "1. There are already (USA) great needs for specialized people (Ph. D. s, postdocs), but also needs of  people with a broad overview of what is possible in QIS.\n",
    "\n",
    "2. There are not enough potential employees in QIS (USA). It is a supply gap, not a skills gap.\n",
    "\n",
    "3. A BSc with specialization  is a good place to start\n",
    "\n",
    "4. It is tremendously important to get everyone speaking the same language. Facility with the vernacular of quantum mechanics is a big plus.\n",
    "\n",
    "5. There is a huge list of areas where technical expertise may be important. But employers are often more concerned with attributes like project management, working well in a team, interest in the field, and adaptability than in specific technical skills."
   ]
  },
  {
   "cell_type": "markdown",
   "id": "55d6c51c",
   "metadata": {
    "editable": true
   },
   "source": [
    "## Using recent advances in pedagogical research and defining potentially new research directions in education rsearch\n",
    "\n",
    "The reason why we believe the CCSE should be involved in planning this BSc program is that it has the necessary expertise to address several issues, such as\n",
    "\n",
    "1. Lots of conceptual learning: superposition, entanglement, QIS and QT, etc. \n",
    "\n",
    "2. Connecting statistics and mathematics with ML methods\n",
    "\n",
    "3. Linking ML algorithms with quantum ML.\n",
    "\n",
    "4. Coding is indispensable. This is a central reason why the CCSE should be involved.\n",
    "\n",
    "5. Experience with teamwork, project management, and communication are important and highly valued.\n",
    "\n",
    "6. Experience with engagement with industry, public sector and priority to diversity through the Computational Science program and other activities at the CCSE.\n",
    "\n",
    "7. Mentorship should begin the moment students enroll. The experiences with the Computational Science program developed at the CCSE will be of great value, as the activities of the KURT center."
   ]
  },
  {
   "cell_type": "markdown",
   "id": "a882ece8",
   "metadata": {
    "editable": true
   },
   "source": [
    "## Societal needs\n",
    "\n",
    "The program aims at addressing future societal needs, such as the  needs for specialized candidates (Master of Science, PhDs, postdocs), but also the needs of  people with a broad overview of what is possible in  QIS and QT. There are  not enough potential employees in AI, ML, QIS and QT. There is  a clear supply gap.\n",
    "\n",
    "A BSc degree  with specialization  is thus a good place to start. Linking this with the Physics MSc  program and the Computational Science program and the study directions Computational physics and Computational materials science, will offer our various research fields top candidates as well as pointing to new research directions.\n",
    "\n",
    "And what about AI/ML and quantum technologies towards high-school?"
   ]
  },
  {
   "cell_type": "markdown",
   "id": "dabdfc55",
   "metadata": {
    "editable": true
   },
   "source": [
    "## Rationale\n",
    "\n",
    "The rationale behind proposing a new bachelor of science (BSc) program in computational physics and quantum technologies (QT) is:\n",
    "1. To attract at an earlier stage new students with an explicit interest in QIS, QT and AI and ML in physics. \n",
    "\n",
    "2. To enhance the recruitment to fields in physics which are in high demand for students and candidates with an expertise in computations, QIS, QT, AI and ML. We expect high demands from both the private sector and the public sector for candidates with these competences, insights and skills.\n",
    "\n",
    "3. Candidates with such a background will be of great importance for new scientific discoveries and technological innovations. At the department of physics of the university of Oslo there are several research directions whose scientific activities will benefit at large from candidates with such a background, spanning from fast ML for new discoveries to the development of QTs."
   ]
  },
  {
   "cell_type": "markdown",
   "id": "233fa0a9",
   "metadata": {
    "editable": true
   },
   "source": [
    "## Structure of Program and Courses\n",
    "\n",
    "In developing such a program \n",
    "the Center for Computing in Science Education (CCSE) at the university of Oslo (UiO) could be the entity which provides the pedagogical research resources. It has the needed research experience\n",
    "on how to design curricula so that students develop deep knowledge that is connected and useful.\n",
    "\n",
    "The figure here, inspired by the QuSTEAM project in the USA <https://qusteam.org>\n",
    "shows how one can link educational developments by involving various stakeholders from academia, industry research  laboratories. \n",
    "\n",
    "<!-- dom:FIGURE: [qusteam.png, width=700 frac=0.7] -->\n",
    "<!-- begin figure -->\n",
    "\n",
    "<img src=\"qusteam.png\" width=\"700\"><p style=\"font-size: 0.9em\"><i>Figure 1: </i></p>\n",
    "<!-- end figure -->"
   ]
  },
  {
   "cell_type": "markdown",
   "id": "f95dcb10",
   "metadata": {
    "editable": true
   },
   "source": [
    "## Paths in the BSc program\n",
    "\n",
    "The program could offer  three possible directions\n",
    "1. Quantum information systems and quantum technologies\n",
    "\n",
    "2. Artificial intelligence and machine learning in physics\n",
    "\n",
    "3. Computational Physics\n",
    "\n",
    "The students specialize in these directions in their last year of the BSc program."
   ]
  },
  {
   "cell_type": "markdown",
   "id": "a4f217ee",
   "metadata": {
    "editable": true
   },
   "source": [
    "## Structure and courses\n",
    "There are several existing courses which can be included in this program. There are also courses which need to be established. At the CCSE we have the research and educational expertise to establish two to three new courses in these directions. Most likely there are potential teachers from other groups.\n",
    "\n",
    "A separate application for establishing these courses follows. The additional courses we propose are (these are suggestions and codes are tentative) listed here. Note that we propose these courses as cloned courses. We may consider extensions of these codes in order to offer PhD variants as well.\n",
    "\n",
    "The list here is tentative. Two of the courses, FYS4446 and FYS4447 have been taught as special topics since 2018 and we have already a large body of material.\n",
    "This list is a mere suggestion.\n",
    "\n",
    "1. Classical and quantum laboratory, needs to be established, perhaps by researchers at the Center of Materials Science (LENS group), FYS2440\n",
    "\n",
    "2. Quantum computing and software, needs to be established. This can be organized together with OsloMet and Simula Research lab.\n",
    "\n",
    "3. Quantum hardware, needs to be established, this can be organized together with OsloMet and Simula Research lab. \n",
    "\n",
    "4. Quantum computing and quantum machine learning, FYS3446/FYS4446 (cloned course, already developed by CCSE)\n",
    "\n",
    "5. Advanced machine learning and data analysis for the physical sciences, FYS3447/FYS4447 (already developed by CCSE)\n",
    "\n",
    "The last three courses are elective ones for the last semester of study. Some of these courses can also be split into modules a 5 ECTS or 7.5 ECTS.\n",
    "There are obviously other course alternatives. \n",
    "The first year is identical with the BSc program **Physics and Astronomy**."
   ]
  },
  {
   "cell_type": "markdown",
   "id": "399dacd1",
   "metadata": {
    "editable": true
   },
   "source": [
    "## Structure and courses\n",
    "The table here is an example of a suggested path for a Master of Science project,\n",
    "with course work the first year and thesis work the last year.\n",
    "\n",
    "<table class=\"dotable\" border=\"1\">\n",
    "<thead>\n",
    "<tr><th align=\"left\">            </th> <th align=\"left\">10 ECTS </th> <th align=\"left\">10 ECTS </th> <th align=\"left\">      10 ECTS       </th> </tr>\n",
    "</thead>\n",
    "<tbody>\n",
    "<tr><td align=\"left\">   6th semester    </td> <td align=\"left\">   Elective    </td> <td align=\"left\">   Elective    </td> <td align=\"left\">   Elective                </td> </tr>\n",
    "<tr><td align=\"left\">   5th semester    </td> <td align=\"left\">   FYS2160     </td> <td align=\"left\">   FYS3110     </td> <td align=\"left\">   Elective/FYS-STK3155    </td> </tr>\n",
    "<tr><td align=\"left\">   4th semester    </td> <td align=\"left\">   FYS2130     </td> <td align=\"left\">   FYS2140     </td> <td align=\"left\">   STK2100/FYS2440         </td> </tr>\n",
    "<tr><td align=\"left\">   3rd semester    </td> <td align=\"left\">   MAT1120     </td> <td align=\"left\">   FYS1120     </td> <td align=\"left\">   FYS3150                 </td> </tr>\n",
    "<tr><td align=\"left\">   2nd semester    </td> <td align=\"left\">   MAT1110     </td> <td align=\"left\">   FYS12XX     </td> <td align=\"left\">   FYS13XX                 </td> </tr>\n",
    "<tr><td align=\"left\">   1st semester    </td> <td align=\"left\">   MAT1100     </td> <td align=\"left\">   IN1900      </td> <td align=\"left\">   FYS11XX                 </td> </tr>\n",
    "</tbody>\n",
    "</table>"
   ]
  },
  {
   "cell_type": "markdown",
   "id": "d428209e",
   "metadata": {
    "editable": true
   },
   "source": [
    "## Description of Study directions\n",
    "\n",
    "The basic structure of the study directions could be\n",
    "\n",
    "* Description of study directions with potential projects\n",
    "\n",
    "* Admission criteria\n",
    "\n",
    "* Learning outcomes\n",
    "\n",
    "* Program structure\n",
    "\n",
    "* Semester abroad\n",
    "\n",
    "* Career prospects\n",
    "\n",
    "* Teaching and examinations\n",
    "\n",
    "What follows are text proposals for these items."
   ]
  },
  {
   "cell_type": "markdown",
   "id": "ef3da1de",
   "metadata": {
    "editable": true
   },
   "source": [
    "## Description of learning outcomes\n",
    "\n",
    "The power of the scientific method lies in identifying a given problem\n",
    "as a special case of an abstract class of problems, identifying\n",
    "general solution methods for this class of problems, and applying a\n",
    "general method to the specific problem (applying means, in the case of\n",
    "computing, calculations by pen and paper, symbolic computing, or\n",
    "numerical computing by ready-made and/or self-written software). This\n",
    "generic view on problems and methods is particularly important for\n",
    "understanding how to apply available, generic software to solve a\n",
    "particular problem.\n",
    "\n",
    "Computing competence represents a central element\n",
    "in scientific problem solving, from basic education and research to\n",
    "essentially almost all advanced problems in modern\n",
    "societies. Computing competence is simply central to further\n",
    "progress. It enlarges the body of tools available to students and\n",
    "scientists beyond classical tools and allows for a more generic\n",
    "handling of problems. Focusing on algorithmic aspects results in\n",
    "deeper insights about scientific problems.\n",
    "\n",
    "The learning outcomes are subdivided in three general categories, knowledge, skills and general competence."
   ]
  },
  {
   "cell_type": "markdown",
   "id": "da7592b0",
   "metadata": {
    "editable": true
   },
   "source": [
    "## Study abroad and international collaborators\n",
    "\n",
    "Students at the University of Oslo may choose to take parts of\n",
    "their degrees at a university abroad.\n",
    "\n",
    "Students in this program have a number of interesting international\n",
    "exchange possibilities. The involved researchers have extensive\n",
    "collaborations with other researchers worldwide. These exchange\n",
    "possibility range from top universities in the USA, Asia and Europe as\n",
    "well as leading National Laboratories in the USA."
   ]
  },
  {
   "cell_type": "markdown",
   "id": "a2e228fc",
   "metadata": {
    "editable": true
   },
   "source": [
    "## Career prospects\n",
    "\n",
    "Candidates who are capable of modeling and understanding complicated\n",
    "systems in natural science, are in short supply in society.  The\n",
    "computational methods and approaches to scientific problems students learn\n",
    "when working on their thesis projects are very similar to the methods\n",
    "they will use in later stages of their careers.  To handle large\n",
    "numerical projects demands structured thinking and good analytical\n",
    "skills and a thorough understanding of the problems to be solved. This\n",
    "knowledge makes the students unique on the job market.\n",
    "\n",
    "Career opportunities are many, from research institutes, universities\n",
    "and university colleges and a multitude of companies. Examples\n",
    "include IBM, Hydro, Statoil, and Telenor.  The program gives an\n",
    "excellent background for further studies.\n",
    "\n",
    "The program has also a strong international element which allows students to\n",
    "gain important experience from international collaborations in\n",
    "science, with the opportunity to spend parts of the time spent on\n",
    "thesis work at research institutions abroad."
   ]
  },
  {
   "cell_type": "markdown",
   "id": "e9217ffd",
   "metadata": {
    "editable": true
   },
   "source": [
    "## Research activities, Overview\n",
    "* Machine Learning applied to Quantum Mechanical systems\n",
    "\n",
    "* Quantum Engineering\n",
    "\n",
    "* Quantum algorithms \n",
    "\n",
    "* Quantum Machine Learning"
   ]
  },
  {
   "cell_type": "markdown",
   "id": "dbc3ad32",
   "metadata": {
    "editable": true
   },
   "source": [
    "## What has happened during the last two years at CCSE@UiO?\n",
    "\n",
    "During the last two years we have started a large scientific activity\n",
    "on Quantum Computing and Machine Learning at the Center for Computing\n",
    "in Science Education (CCSE), with three PhD students hired since\n",
    "October 2019  and several master of Science students. This activity spans from the development\n",
    "of quantum-mechanical many-particle theories for studying systems of\n",
    "interest for making quantum computers, via the development of machine learning and quantum\n",
    "algorithms for solving quantum mechanical problems to exploring\n",
    "quantum machine learning algorithms.\n",
    "\n",
    "In 2022/2023 we expect to hire a post-doctoral fellow working on\n",
    "quantum computing (many-body theories) at the center for Materials Science and Nanotechnology at the University of Oslo. We also expect to hire a new PhD student, see <https://www.mn.uio.no/compsci/english/phd_programme/projects/physics/machine-learning.html>"
   ]
  },
  {
   "cell_type": "markdown",
   "id": "ad567492",
   "metadata": {
    "editable": true
   },
   "source": [
    "## More activities\n",
    "\n",
    "1. [Center of Materials Science UiO, Lasse Vines (Expt) Andrej Kuznetsov(Expt), David Rivas Gongora (Expt) and Marianne Bathen (Expt, now PD at ETH)](https://www.mn.uio.no/fysikk/english/research/groups/semiconductors/index.html)\n",
    "\n",
    "2. [Gemini center on Quantum Computing (SINTEF-UiO-NTNU)](https://www.quantumcomputing.no/)"
   ]
  },
  {
   "cell_type": "markdown",
   "id": "a76a1ffb",
   "metadata": {
    "editable": true
   },
   "source": [
    "## Quantum Engineering\n",
    "\n",
    "**Quantum Computing requirements.**\n",
    "\n",
    "1. be scalable\n",
    "\n",
    "2. have qubits that can be entangled\n",
    "\n",
    "3. have reliable initializations protocols to a standard state\n",
    "\n",
    "4. have a set of universal quantum gates to control the quantum evolution\n",
    "\n",
    "5. have a coherence time much longer than the gate operation time\n",
    "\n",
    "6. have a reliable read-out mechanism for measuring the qubit states\n",
    "\n",
    "7. and many more"
   ]
  },
  {
   "cell_type": "markdown",
   "id": "65e8d84f",
   "metadata": {
    "editable": true
   },
   "source": [
    "## Candidate systems\n",
    "1. Superconducting Josephon junctions\n",
    "\n",
    "2. Single photons\n",
    "\n",
    "3. [Trapped ions and atoms](https://www.insidequantumtechnology.com/news-archive/ionq-is-first-quantum-startup-to-go-public-will-it-be-first-to-deliver-profits/)\n",
    "\n",
    "4. Nuclear Magnetic Resonance\n",
    "\n",
    "5. **Quantum dots, expt at MSU**\n",
    "\n",
    "6. **Point Defects in semiconductors, experiments at UiO, center for Materials Science**\n",
    "\n",
    "7. more"
   ]
  },
  {
   "cell_type": "markdown",
   "id": "16b1c9b4",
   "metadata": {
    "editable": true
   },
   "source": [
    "## Electrons (quantum dots) on superfluid helium\n",
    "\n",
    "Electrons on [superfluid helium represent](https://www.youtube.com/watch?v=EuDuM-fe-lA&ab_channel=JoshuahHeath) a promising platform for investigating\n",
    "strongly-coupled qubits.\n",
    "\n",
    "Therefore a systematic investigation of the\n",
    "controlled generation of entanglement between two trapped electrons\n",
    "under the influence of coherent microwave driving pulses, taking into\n",
    "account the effects of the Coulomb interaction between electrons, is\n",
    "of significant importance for quantum information processing using\n",
    "trapped electrons.\n",
    "\n",
    "1. Time-Dependent full configuration interaction theory\n",
    "\n",
    "2. Time-dependent Coupled-Cluster theory\n",
    "\n",
    "3. Designing quantum circuits"
   ]
  },
  {
   "cell_type": "markdown",
   "id": "3715a135",
   "metadata": {
    "editable": true
   },
   "source": [
    "## Lots of people to thank\n",
    "\n",
    "**Thanks to.**\n",
    "\n",
    "* MSU: **Ben Hall, Jane Kim, Julie Butler, Danny Jammoa, Nicholas Cariello, Paul-Aymeric McRae**, Johannes Pollanen (Expt), **Niyaz Beysengulov (Expt)**, Dean Lee, Scott Bogner, Heiko Hergert, Matt Hirn, Huey-Wen Lin, Alexei Bazavov, Andrea Shindler and Angela Wilson\n",
    "\n",
    "* UiO: **Stian Bilek, Heine Åbø (now OsloMet), Håkon Emil Kristiansen, Øyvind Schøyen Sigmundsson, Jonas Boym Flaten, Kristian Wold (now OsloMet)**, Lasse Vines (Expt) Andrej Kuznetsov (Expt), **David Rivas Gongora (Expt) and Marianne Bathen (Expt, now PD at ETH)**\n",
    "\n",
    "**Sponsors.**\n",
    "\n",
    "This work is supported by the U.S. Department of Energy, Office of\n",
    "Science, office of Nuclear Physics under grant No. DE-SC0021152 and\n",
    "U.S. National Science Foundation Grants No. PHY-1404159 and\n",
    "PHY-2013047 and the Norwegian ministry of Education and  Research for PhD fellowships."
   ]
  }
 ],
 "metadata": {},
 "nbformat": 4,
 "nbformat_minor": 5
}
