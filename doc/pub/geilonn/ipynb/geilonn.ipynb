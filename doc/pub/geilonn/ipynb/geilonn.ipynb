{
 "cells": [
  {
   "cell_type": "markdown",
   "id": "9e19c47c",
   "metadata": {
    "editable": true
   },
   "source": [
    "<!-- HTML file automatically generated from DocOnce source (https://github.com/doconce/doconce/)\n",
    "doconce format html geilonn.do.txt --no_mako -->\n",
    "<!-- dom:TITLE: Setting up a neural network code, part 2 -->"
   ]
  },
  {
   "cell_type": "markdown",
   "id": "1e120d70",
   "metadata": {
    "editable": true
   },
   "source": [
    "# Setting up a neural network code, part 2\n",
    "**Morten Hjorth-Jensen**, Department of Physics and Center for Computing in Science Education, University of Oslo, Norway\n",
    "\n",
    "Date: **Geilo Winter school, March 10-20, 2025**"
   ]
  },
  {
   "cell_type": "markdown",
   "id": "9a029c22",
   "metadata": {
    "editable": true
   },
   "source": [
    "## Content\n",
    "\n",
    "1. Mathematics of neural networks"
   ]
  },
  {
   "cell_type": "markdown",
   "id": "6d963dbf",
   "metadata": {
    "editable": true
   },
   "source": [
    "## Videos on Neural Networks\n",
    "\n",
    "* Video on Neural Networks at <https://www.youtube.com/watch?v=CqOfi41LfDw>\n",
    "\n",
    "* Video on the back propagation algorithm at <https://www.youtube.com/watch?v=Ilg3gGewQ5U>"
   ]
  },
  {
   "cell_type": "markdown",
   "id": "5dac0ed6",
   "metadata": {
    "editable": true
   },
   "source": [
    "## Mathematics of deep learning\n",
    "\n",
    "**Two recent books online.**\n",
    "\n",
    "1. [The Modern Mathematics of Deep Learning, by Julius Berner, Philipp Grohs, Gitta Kutyniok, Philipp Petersen](https://arxiv.org/abs/2105.04026), published as [Mathematical Aspects of Deep Learning, pp. 1-111. Cambridge University Press, 2022](https://doi.org/10.1017/9781009025096.002)\n",
    "\n",
    "2. [Mathematical Introduction to Deep Learning: Methods, Implementations, and Theory, Arnulf Jentzen, Benno Kuckuck, Philippe von Wurstemberger](https://doi.org/10.48550/arXiv.2310.20360)"
   ]
  },
  {
   "cell_type": "markdown",
   "id": "8b012c32",
   "metadata": {
    "editable": true
   },
   "source": [
    "## Mathematics of deep learning and neural networks\n",
    "\n",
    "Neural networks, in its so-called feed-forward form, where each\n",
    "iterations contains a feed-forward stage and a back-propgagation\n",
    "stage, consist of series of affine matrix-matrix and matrix-vector\n",
    "multiplications. The unknown parameters (the so-called biases and\n",
    "weights which deternine the architecture of a neural network), are\n",
    "uptaded iteratively using the so-called back-propagation algorithm.\n",
    "This algorithm corresponds to the so-called reverse mode of \n",
    "automatic differentation."
   ]
  },
  {
   "cell_type": "markdown",
   "id": "04c741a8",
   "metadata": {
    "editable": true
   },
   "source": [
    "## Basics of an NN\n",
    "\n",
    "A neural network consists of a series of hidden layers, in addition to\n",
    "the input and output layers.  Each layer $l$ has a set of parameters\n",
    "$\\boldsymbol{\\Theta}^{(l)}=(\\boldsymbol{W}^{(l)},\\boldsymbol{b}^{(l)})$ which are related to the\n",
    "parameters in other layers through a series of affine transformations,\n",
    "for a standard NN these are matrix-matrix and matrix-vector\n",
    "multiplications.  For all layers we will simply use a collective variable $\\boldsymbol{\\Theta}$.\n",
    "\n",
    "It consist of two basic steps:\n",
    "1. a feed forward stage which takes a given input and produces a final output which is compared with the target values through our cost/loss function.\n",
    "\n",
    "2. a back-propagation state where the unknown parameters $\\boldsymbol{\\Theta}$ are updated through the optimization of the their gradients. The expressions for the gradients are obtained via the chain rule, starting from the derivative of the cost/function.\n",
    "\n",
    "These two steps make up one iteration. This iterative process is continued till we reach an eventual stopping criterion."
   ]
  },
  {
   "cell_type": "markdown",
   "id": "81437ef5",
   "metadata": {
    "editable": true
   },
   "source": [
    "## Overarching view of a neural network\n",
    "\n",
    "The architecture of a neural network defines our model. This model\n",
    "aims at describing some function $f(\\boldsymbol{x}$ that is meant to describe\n",
    "some final result (outputs or target values $bm{y}$) given a specific input\n",
    "$\\boldsymbol{x}$. Note that here $\\boldsymbol{y}$ and $\\boldsymbol{x}$ are not limited to be\n",
    "vectors.\n",
    "\n",
    "The architecture consists of\n",
    "1. An input and an output layer where the input layer is defined by the inputs $\\boldsymbol{x}$. The output layer produces the model ouput $\\boldsymbol{\\tilde{y}}$ which is compared with the target value $\\boldsymbol{y}$\n",
    "\n",
    "2. A given number of hidden layers and neurons/nodes/units for each layer (this may vary)\n",
    "\n",
    "3. A given activation function $\\sigma(\\boldsymbol{z})$ with arguments $\\boldsymbol{z}$ to be defined below. The activation functions may differ from layer to layer.\n",
    "\n",
    "4. The last layer, normally called **output** layer has an activation function tailored to the specific problem\n",
    "\n",
    "5. Finally, we define a so-called cost or loss function which is used to gauge the quality of our model."
   ]
  },
  {
   "cell_type": "markdown",
   "id": "4b61e856",
   "metadata": {
    "editable": true
   },
   "source": [
    "## The optimization problem\n",
    "\n",
    "The cost function is a function of the unknown parameters\n",
    "$\\boldsymbol{\\Theta}$ where the latter is a container for all possible\n",
    "parameters needed to define a neural network\n",
    "\n",
    "If we are dealing with a regression task a typical cost/loss function\n",
    "is the mean squared error"
   ]
  },
  {
   "cell_type": "markdown",
   "id": "afbe939a",
   "metadata": {
    "editable": true
   },
   "source": [
    "$$\n",
    "C(\\boldsymbol{\\Theta})=\\frac{1}{n}\\left\\{\\left(\\boldsymbol{y}-\\boldsymbol{X}\\boldsymbol{\\theta}\\right)^T\\left(\\boldsymbol{y}-\\boldsymbol{X}\\boldsymbol{\\theta}\\right)\\right\\}.\n",
    "$$"
   ]
  },
  {
   "cell_type": "markdown",
   "id": "492ebb70",
   "metadata": {
    "editable": true
   },
   "source": [
    "This function represents one of many possible ways to define\n",
    "the so-called cost function. Note that here we have assumed a linear dependence in terms of the paramters $\\boldsymbol{\\Theta}$. This is in general not the case."
   ]
  },
  {
   "cell_type": "markdown",
   "id": "afbbf1e0",
   "metadata": {
    "editable": true
   },
   "source": [
    "## Parameters of neural networks\n",
    "For neural networks the parameters\n",
    "$\\boldsymbol{\\Theta}$ are given by the so-called weights and biases (to be\n",
    "defined below).\n",
    "\n",
    "The weights are given by matrix elements $w_{ij}^{(l)}$ where the\n",
    "superscript indicates the layer number. The biases are typically given\n",
    "by vector elements representing each single node of a given layer,\n",
    "that is $b_j^{(l)}$."
   ]
  },
  {
   "cell_type": "markdown",
   "id": "15bc1a7b",
   "metadata": {
    "editable": true
   },
   "source": [
    "## Other ingredients of a neural network\n",
    "\n",
    "Having defined the architecture of a neural network, the optimization\n",
    "of the cost function with respect to the parameters $\\boldsymbol{\\Theta}$,\n",
    "involves the calculations of gradients and their optimization. The\n",
    "gradients represent the derivatives of a multidimensional object and\n",
    "are often approximated by various gradient methods, including\n",
    "1. various quasi-Newton methods,\n",
    "\n",
    "2. plain gradient descent (GD) with a constant learning rate $\\eta$,\n",
    "\n",
    "3. GD with momentum and other approximations to the learning rates such as\n",
    "\n",
    "  * Adapative gradient (ADAgrad)\n",
    "\n",
    "  * Root mean-square propagation (RMSprop)\n",
    "\n",
    "  * Adaptive gradient with momentum (ADAM) and many other\n",
    "\n",
    "4. Stochastic gradient descent and various families of learning rate approximations"
   ]
  },
  {
   "cell_type": "markdown",
   "id": "bd2759d4",
   "metadata": {
    "editable": true
   },
   "source": [
    "## Other parameters\n",
    "\n",
    "In addition to the above, there are often additional hyperparamaters\n",
    "which are included in the setup of a neural network. These will be\n",
    "discussed below."
   ]
  },
  {
   "cell_type": "markdown",
   "id": "12895d77",
   "metadata": {
    "editable": true
   },
   "source": [
    "## Universal approximation theorem\n",
    "\n",
    "The universal approximation theorem plays a central role in deep\n",
    "learning.  [Cybenko (1989)](https://link.springer.com/article/10.1007/BF02551274) showed\n",
    "the following:\n",
    "\n",
    "Let $\\sigma$ be any continuous sigmoidal function such that"
   ]
  },
  {
   "cell_type": "markdown",
   "id": "5a923c61",
   "metadata": {
    "editable": true
   },
   "source": [
    "$$\n",
    "\\sigma(z) = \\left\\{\\begin{array}{cc} 1 & z\\rightarrow \\infty\\\\ 0 & z \\rightarrow -\\infty \\end{array}\\right.\n",
    "$$"
   ]
  },
  {
   "cell_type": "markdown",
   "id": "ec5781da",
   "metadata": {
    "editable": true
   },
   "source": [
    "Given a continuous and deterministic function $F(\\boldsymbol{x})$ on the unit\n",
    "cube in $d$-dimensions $F\\in [0,1]^d$, $x\\in [0,1]^d$ and a parameter\n",
    "$\\epsilon >0$, there is a one-layer (hidden) neural network\n",
    "$f(\\boldsymbol{x};\\boldsymbol{\\Theta})$ with $\\boldsymbol{\\Theta}=(\\boldsymbol{W},\\boldsymbol{b})$ and $\\boldsymbol{W}\\in\n",
    "\\mathbb{R}^{m\\times n}$ and $\\boldsymbol{b}\\in \\mathbb{R}^{n}$, for which"
   ]
  },
  {
   "cell_type": "markdown",
   "id": "5c865bb0",
   "metadata": {
    "editable": true
   },
   "source": [
    "$$\n",
    "\\vert F(\\boldsymbol{x})-f(\\boldsymbol{x};\\boldsymbol{\\Theta})\\vert < \\epsilon \\hspace{0.1cm} \\forall \\boldsymbol{x}\\in[0,1]^d.\n",
    "$$"
   ]
  },
  {
   "cell_type": "markdown",
   "id": "8db2998c",
   "metadata": {
    "editable": true
   },
   "source": [
    "## Some parallels from real analysis\n",
    "\n",
    "For those of you familiar with for example the [Stone-Weierstrass\n",
    "theorem](https://en.wikipedia.org/wiki/Stone%E2%80%93Weierstrass_theorem)\n",
    "for polynomial approximations or the convergence criterion for Fourier\n",
    "series, there are similarities in the derivation of the proof for\n",
    "neural networks."
   ]
  },
  {
   "cell_type": "markdown",
   "id": "f5a36597",
   "metadata": {
    "editable": true
   },
   "source": [
    "## The approximation theorem in words\n",
    "\n",
    "**Any continuous function $y=F(\\boldsymbol{x})$ supported on the unit cube in\n",
    "$d$-dimensions can be approximated by a one-layer sigmoidal network to\n",
    "arbitrary accuracy.**\n",
    "\n",
    "[Hornik (1991)](https://www.sciencedirect.com/science/article/abs/pii/089360809190009T) extended the theorem by letting any non-constant, bounded activation function to be included using that the expectation value"
   ]
  },
  {
   "cell_type": "markdown",
   "id": "9aae52fd",
   "metadata": {
    "editable": true
   },
   "source": [
    "$$\n",
    "\\mathbb{E}[\\vert F(\\boldsymbol{x})\\vert^2] =\\int_{\\boldsymbol{x}\\in D} \\vert F(\\boldsymbol{x})\\vert^2p(\\boldsymbol{x})d\\boldsymbol{x} < \\infty.\n",
    "$$"
   ]
  },
  {
   "cell_type": "markdown",
   "id": "397ec27d",
   "metadata": {
    "editable": true
   },
   "source": [
    "Then we have"
   ]
  },
  {
   "cell_type": "markdown",
   "id": "d7cb4168",
   "metadata": {
    "editable": true
   },
   "source": [
    "$$\n",
    "\\mathbb{E}[\\vert F(\\boldsymbol{x})-f(\\boldsymbol{x};\\boldsymbol{\\Theta})\\vert^2] =\\int_{\\boldsymbol{x}\\in D} \\vert F(\\boldsymbol{x})-f(\\boldsymbol{x};\\boldsymbol{\\Theta})\\vert^2p(\\boldsymbol{x})d\\boldsymbol{x} < \\epsilon.\n",
    "$$"
   ]
  },
  {
   "cell_type": "markdown",
   "id": "940c3da8",
   "metadata": {
    "editable": true
   },
   "source": [
    "## More on the general approximation theorem\n",
    "\n",
    "None of the proofs give any insight into the relation between the\n",
    "number of of hidden layers and nodes and the approximation error\n",
    "$\\epsilon$, nor the magnitudes of $\\boldsymbol{W}$ and $\\boldsymbol{b}$.\n",
    "\n",
    "Neural networks (NNs) have what we may call a kind of universality no matter what function we want to compute.\n",
    "\n",
    "It does not mean that an NN can be used to exactly compute any function. Rather, we get an approximation that is as good as we want."
   ]
  },
  {
   "cell_type": "markdown",
   "id": "62d6217b",
   "metadata": {
    "editable": true
   },
   "source": [
    "## Class of functions we can approximate\n",
    "\n",
    "The class of functions that can be approximated are the continuous ones.\n",
    "If the function $F(\\boldsymbol{x})$ is discontinuous, it won't in general be possible to approximate it. However, an NN may still give an approximation even if we fail in some points."
   ]
  },
  {
   "cell_type": "markdown",
   "id": "627cc234",
   "metadata": {
    "editable": true
   },
   "source": [
    "## Setting up the equations for a neural network\n",
    "\n",
    "The questions we want to ask are how do changes in the biases and the\n",
    "weights in our network change the cost function and how can we use the\n",
    "final output to modify the weights and biases?\n",
    "\n",
    "To derive these equations let us start with a plain regression problem\n",
    "and define our cost function as"
   ]
  },
  {
   "cell_type": "markdown",
   "id": "49217a6d",
   "metadata": {
    "editable": true
   },
   "source": [
    "$$\n",
    "{\\cal C}(\\boldsymbol{\\Theta})  =  \\frac{1}{2}\\sum_{i=1}^n\\left(y_i - \\tilde{y}_i\\right)^2,\n",
    "$$"
   ]
  },
  {
   "cell_type": "markdown",
   "id": "87c08a7e",
   "metadata": {
    "editable": true
   },
   "source": [
    "where the $y_i$s are our $n$ targets (the values we want to\n",
    "reproduce), while the outputs of the network after having propagated\n",
    "all inputs $\\boldsymbol{x}$ are given by $\\boldsymbol{\\tilde{y}}_i$."
   ]
  },
  {
   "cell_type": "markdown",
   "id": "8d13ca99",
   "metadata": {
    "editable": true
   },
   "source": [
    "## Layout of a neural network with three hidden layers\n",
    "\n",
    "<!-- dom:FIGURE: [figures/nn1.png, width=900 frac=1.0] -->\n",
    "<!-- begin figure -->\n",
    "\n",
    "<img src=\"figures/nn1.png\" width=\"900\"><p style=\"font-size: 0.9em\"><i>Figure 1: </i></p>\n",
    "<!-- end figure -->"
   ]
  },
  {
   "cell_type": "markdown",
   "id": "0d8ed3bc",
   "metadata": {
    "editable": true
   },
   "source": [
    "## Definitions\n",
    "\n",
    "With our definition of the targets $\\boldsymbol{y}$, the outputs of the\n",
    "network $\\boldsymbol{\\tilde{y}}$ and the inputs $\\boldsymbol{x}$ we\n",
    "define now the activation $z_j^l$ of node/neuron/unit $j$ of the\n",
    "$l$-th layer as a function of the bias, the weights which add up from\n",
    "the previous layer $l-1$ and the forward passes/outputs\n",
    "$\\hat{a}^{l-1}$ from the previous layer as"
   ]
  },
  {
   "cell_type": "markdown",
   "id": "075fd4c9",
   "metadata": {
    "editable": true
   },
   "source": [
    "$$\n",
    "z_j^l = \\sum_{i=1}^{M_{l-1}}w_{ij}^la_i^{l-1}+b_j^l,\n",
    "$$"
   ]
  },
  {
   "cell_type": "markdown",
   "id": "77c07d4f",
   "metadata": {
    "editable": true
   },
   "source": [
    "where $b_k^l$ are the biases from layer $l$.  Here $M_{l-1}$\n",
    "represents the total number of nodes/neurons/units of layer $l-1$. The\n",
    "figure in the whiteboard notes illustrates this equation.  We can rewrite this in a more\n",
    "compact form as the matrix-vector products we discussed earlier,"
   ]
  },
  {
   "cell_type": "markdown",
   "id": "c8721df3",
   "metadata": {
    "editable": true
   },
   "source": [
    "$$\n",
    "\\hat{z}^l = \\left(\\hat{W}^l\\right)^T\\hat{a}^{l-1}+\\hat{b}^l.\n",
    "$$"
   ]
  },
  {
   "cell_type": "markdown",
   "id": "7cb52666",
   "metadata": {
    "editable": true
   },
   "source": [
    "## Inputs to the activation function\n",
    "\n",
    "With the activation values $\\boldsymbol{z}^l$ we can in turn define the\n",
    "output of layer $l$ as $\\boldsymbol{a}^l = f(\\boldsymbol{z}^l)$ where $f$ is our\n",
    "activation function. In the examples here we will use the sigmoid\n",
    "function discussed in our logistic regression lectures. We will also use the same activation function $f$ for all layers\n",
    "and their nodes.  It means we have"
   ]
  },
  {
   "cell_type": "markdown",
   "id": "d54ecb53",
   "metadata": {
    "editable": true
   },
   "source": [
    "$$\n",
    "a_j^l = f(z_j^l) = \\frac{1}{1+\\exp{-(z_j^l)}}.\n",
    "$$"
   ]
  },
  {
   "cell_type": "markdown",
   "id": "fc6ba0f4",
   "metadata": {
    "editable": true
   },
   "source": [
    "## Derivatives and the chain rule\n",
    "\n",
    "From the definition of the activation $z_j^l$ we have"
   ]
  },
  {
   "cell_type": "markdown",
   "id": "6f06e3e7",
   "metadata": {
    "editable": true
   },
   "source": [
    "$$\n",
    "\\frac{\\partial z_j^l}{\\partial w_{ij}^l} = a_i^{l-1},\n",
    "$$"
   ]
  },
  {
   "cell_type": "markdown",
   "id": "2699245a",
   "metadata": {
    "editable": true
   },
   "source": [
    "and"
   ]
  },
  {
   "cell_type": "markdown",
   "id": "c8ba0608",
   "metadata": {
    "editable": true
   },
   "source": [
    "$$\n",
    "\\frac{\\partial z_j^l}{\\partial a_i^{l-1}} = w_{ji}^l.\n",
    "$$"
   ]
  },
  {
   "cell_type": "markdown",
   "id": "8406f4a4",
   "metadata": {
    "editable": true
   },
   "source": [
    "With our definition of the activation function we have that (note that this function depends only on $z_j^l$)"
   ]
  },
  {
   "cell_type": "markdown",
   "id": "23603230",
   "metadata": {
    "editable": true
   },
   "source": [
    "$$\n",
    "\\frac{\\partial a_j^l}{\\partial z_j^{l}} = a_j^l(1-a_j^l)=f(z_j^l)(1-f(z_j^l)).\n",
    "$$"
   ]
  },
  {
   "cell_type": "markdown",
   "id": "3045eeef",
   "metadata": {
    "editable": true
   },
   "source": [
    "## Derivative of the cost function\n",
    "\n",
    "With these definitions we can now compute the derivative of the cost function in terms of the weights.\n",
    "\n",
    "Let us specialize to the output layer $l=L$. Our cost function is"
   ]
  },
  {
   "cell_type": "markdown",
   "id": "71931e92",
   "metadata": {
    "editable": true
   },
   "source": [
    "$$\n",
    "{\\cal C}(\\boldsymbol{\\Theta}^L)  =  \\frac{1}{2}\\sum_{i=1}^n\\left(y_i - \\tilde{y}_i\\right)^2=\\frac{1}{2}\\sum_{i=1}^n\\left(a_i^L - y_i\\right)^2,\n",
    "$$"
   ]
  },
  {
   "cell_type": "markdown",
   "id": "dc8aeda5",
   "metadata": {
    "editable": true
   },
   "source": [
    "The derivative of this function with respect to the weights is"
   ]
  },
  {
   "cell_type": "markdown",
   "id": "aef74887",
   "metadata": {
    "editable": true
   },
   "source": [
    "$$\n",
    "\\frac{\\partial{\\cal C}(\\boldsymbol{\\Theta}^L)}{\\partial w_{jk}^L}  =  \\left(a_j^L - y_j\\right)\\frac{\\partial a_j^L}{\\partial w_{jk}^{L}},\n",
    "$$"
   ]
  },
  {
   "cell_type": "markdown",
   "id": "0b52e334",
   "metadata": {
    "editable": true
   },
   "source": [
    "The last partial derivative can easily be computed and reads (by applying the chain rule)"
   ]
  },
  {
   "cell_type": "markdown",
   "id": "8f40efb9",
   "metadata": {
    "editable": true
   },
   "source": [
    "$$\n",
    "\\frac{\\partial a_j^L}{\\partial w_{jk}^{L}} = \\frac{\\partial a_j^L}{\\partial z_{j}^{L}}\\frac{\\partial z_j^L}{\\partial w_{jk}^{L}}=a_j^L(1-a_j^L)a_k^{L-1}.\n",
    "$$"
   ]
  },
  {
   "cell_type": "markdown",
   "id": "5f5960ca",
   "metadata": {
    "editable": true
   },
   "source": [
    "## Bringing it together, first back propagation equation\n",
    "\n",
    "We have thus"
   ]
  },
  {
   "cell_type": "markdown",
   "id": "83eacd0a",
   "metadata": {
    "editable": true
   },
   "source": [
    "$$\n",
    "\\frac{\\partial{\\cal C}((\\boldsymbol{\\Theta}^L)}{\\partial w_{jk}^L}  =  \\left(a_j^L - y_j\\right)a_j^L(1-a_j^L)a_k^{L-1},\n",
    "$$"
   ]
  },
  {
   "cell_type": "markdown",
   "id": "735ef965",
   "metadata": {
    "editable": true
   },
   "source": [
    "Defining"
   ]
  },
  {
   "cell_type": "markdown",
   "id": "a89aec8e",
   "metadata": {
    "editable": true
   },
   "source": [
    "$$\n",
    "\\delta_j^L = a_j^L(1-a_j^L)\\left(a_j^L - y_j\\right) = f'(z_j^L)\\frac{\\partial {\\cal C}}{\\partial (a_j^L)},\n",
    "$$"
   ]
  },
  {
   "cell_type": "markdown",
   "id": "f3382066",
   "metadata": {
    "editable": true
   },
   "source": [
    "and using the Hadamard product of two vectors we can write this as"
   ]
  },
  {
   "cell_type": "markdown",
   "id": "5c7d7750",
   "metadata": {
    "editable": true
   },
   "source": [
    "$$\n",
    "\\boldsymbol{\\delta}^L = f'(\\hat{z}^L)\\circ\\frac{\\partial {\\cal C}}{\\partial (\\boldsymbol{a}^L)}.\n",
    "$$"
   ]
  },
  {
   "cell_type": "markdown",
   "id": "f3c20234",
   "metadata": {
    "editable": true
   },
   "source": [
    "## Analyzing the last results\n",
    "\n",
    "This is an important expression. The second term on the right handside\n",
    "measures how fast the cost function is changing as a function of the $j$th\n",
    "output activation.  If, for example, the cost function doesn't depend\n",
    "much on a particular output node $j$, then $\\delta_j^L$ will be small,\n",
    "which is what we would expect. The first term on the right, measures\n",
    "how fast the activation function $f$ is changing at a given activation\n",
    "value $z_j^L$."
   ]
  },
  {
   "cell_type": "markdown",
   "id": "036087d3",
   "metadata": {
    "editable": true
   },
   "source": [
    "## More considerations\n",
    "\n",
    "Notice that everything in the above equations is easily computed.  In\n",
    "particular, we compute $z_j^L$ while computing the behaviour of the\n",
    "network, and it is only a small additional overhead to compute\n",
    "$f'(z^L_j)$.  The exact form of the derivative with respect to the\n",
    "output depends on the form of the cost function.\n",
    "However, provided the cost function is known there should be little\n",
    "trouble in calculating"
   ]
  },
  {
   "cell_type": "markdown",
   "id": "c5f45663",
   "metadata": {
    "editable": true
   },
   "source": [
    "$$\n",
    "\\frac{\\partial {\\cal C}}{\\partial (a_j^L)}\n",
    "$$"
   ]
  },
  {
   "cell_type": "markdown",
   "id": "bd95c708",
   "metadata": {
    "editable": true
   },
   "source": [
    "With the definition of $\\delta_j^L$ we have a more compact definition of the derivative of the cost function in terms of the weights, namely"
   ]
  },
  {
   "cell_type": "markdown",
   "id": "c40eb6e7",
   "metadata": {
    "editable": true
   },
   "source": [
    "$$\n",
    "\\frac{\\partial{\\cal C}}{\\partial w_{jk}^L}  =  \\delta_j^La_k^{L-1}.\n",
    "$$"
   ]
  },
  {
   "cell_type": "markdown",
   "id": "0a63b515",
   "metadata": {
    "editable": true
   },
   "source": [
    "## Derivatives in terms of $z_j^L$\n",
    "\n",
    "It is also easy to see that our previous equation can be written as"
   ]
  },
  {
   "cell_type": "markdown",
   "id": "ccbda519",
   "metadata": {
    "editable": true
   },
   "source": [
    "$$\n",
    "\\delta_j^L =\\frac{\\partial {\\cal C}}{\\partial z_j^L}= \\frac{\\partial {\\cal C}}{\\partial a_j^L}\\frac{\\partial a_j^L}{\\partial z_j^L},\n",
    "$$"
   ]
  },
  {
   "cell_type": "markdown",
   "id": "d3af0e19",
   "metadata": {
    "editable": true
   },
   "source": [
    "which can also be interpreted as the partial derivative of the cost function with respect to the biases $b_j^L$, namely"
   ]
  },
  {
   "cell_type": "markdown",
   "id": "1b1c7850",
   "metadata": {
    "editable": true
   },
   "source": [
    "$$\n",
    "\\delta_j^L = \\frac{\\partial {\\cal C}}{\\partial b_j^L}\\frac{\\partial b_j^L}{\\partial z_j^L}=\\frac{\\partial {\\cal C}}{\\partial b_j^L},\n",
    "$$"
   ]
  },
  {
   "cell_type": "markdown",
   "id": "455f522d",
   "metadata": {
    "editable": true
   },
   "source": [
    "That is, the error $\\delta_j^L$ is exactly equal to the rate of change of the cost function as a function of the bias."
   ]
  },
  {
   "cell_type": "markdown",
   "id": "243c2048",
   "metadata": {
    "editable": true
   },
   "source": [
    "## Bringing it together\n",
    "\n",
    "We have now three equations that are essential for the computations of the derivatives of the cost function at the output layer. These equations are needed to start the algorithm and they are"
   ]
  },
  {
   "cell_type": "markdown",
   "id": "aa3b750f",
   "metadata": {
    "editable": true
   },
   "source": [
    "<!-- Equation labels as ordinary links -->\n",
    "<div id=\"_auto1\"></div>\n",
    "\n",
    "$$\n",
    "\\begin{equation}\n",
    "\\frac{\\partial{\\cal C}(\\hat{W^L})}{\\partial w_{jk}^L}  =  \\delta_j^La_k^{L-1},\n",
    "\\label{_auto1} \\tag{1}\n",
    "\\end{equation}\n",
    "$$"
   ]
  },
  {
   "cell_type": "markdown",
   "id": "d51fb11b",
   "metadata": {
    "editable": true
   },
   "source": [
    "and"
   ]
  },
  {
   "cell_type": "markdown",
   "id": "d661ccc1",
   "metadata": {
    "editable": true
   },
   "source": [
    "<!-- Equation labels as ordinary links -->\n",
    "<div id=\"_auto2\"></div>\n",
    "\n",
    "$$\n",
    "\\begin{equation}\n",
    "\\delta_j^L = f'(z_j^L)\\frac{\\partial {\\cal C}}{\\partial (a_j^L)},\n",
    "\\label{_auto2} \\tag{2}\n",
    "\\end{equation}\n",
    "$$"
   ]
  },
  {
   "cell_type": "markdown",
   "id": "99f7333e",
   "metadata": {
    "editable": true
   },
   "source": [
    "and"
   ]
  },
  {
   "cell_type": "markdown",
   "id": "f6f37268",
   "metadata": {
    "editable": true
   },
   "source": [
    "<!-- Equation labels as ordinary links -->\n",
    "<div id=\"_auto3\"></div>\n",
    "\n",
    "$$\n",
    "\\begin{equation}\n",
    "\\delta_j^L = \\frac{\\partial {\\cal C}}{\\partial b_j^L},\n",
    "\\label{_auto3} \\tag{3}\n",
    "\\end{equation}\n",
    "$$"
   ]
  },
  {
   "cell_type": "markdown",
   "id": "b5ada607",
   "metadata": {
    "editable": true
   },
   "source": [
    "## Final back propagating equation\n",
    "\n",
    "We have that (replacing $L$ with a general layer $l$)"
   ]
  },
  {
   "cell_type": "markdown",
   "id": "28f99858",
   "metadata": {
    "editable": true
   },
   "source": [
    "$$\n",
    "\\delta_j^l =\\frac{\\partial {\\cal C}}{\\partial z_j^l}.\n",
    "$$"
   ]
  },
  {
   "cell_type": "markdown",
   "id": "35cb82c3",
   "metadata": {
    "editable": true
   },
   "source": [
    "We want to express this in terms of the equations for layer $l+1$."
   ]
  },
  {
   "cell_type": "markdown",
   "id": "9f3bfdd7",
   "metadata": {
    "editable": true
   },
   "source": [
    "## Using the chain rule and summing over all $k$ entries\n",
    "\n",
    "We obtain"
   ]
  },
  {
   "cell_type": "markdown",
   "id": "cb236e02",
   "metadata": {
    "editable": true
   },
   "source": [
    "$$\n",
    "\\delta_j^l =\\sum_k \\frac{\\partial {\\cal C}}{\\partial z_k^{l+1}}\\frac{\\partial z_k^{l+1}}{\\partial z_j^{l}}=\\sum_k \\delta_k^{l+1}\\frac{\\partial z_k^{l+1}}{\\partial z_j^{l}},\n",
    "$$"
   ]
  },
  {
   "cell_type": "markdown",
   "id": "a8266fb5",
   "metadata": {
    "editable": true
   },
   "source": [
    "and recalling that"
   ]
  },
  {
   "cell_type": "markdown",
   "id": "5e3f81da",
   "metadata": {
    "editable": true
   },
   "source": [
    "$$\n",
    "z_j^{l+1} = \\sum_{i=1}^{M_{l}}w_{ij}^{l+1}a_i^{l}+b_j^{l+1},\n",
    "$$"
   ]
  },
  {
   "cell_type": "markdown",
   "id": "110863b2",
   "metadata": {
    "editable": true
   },
   "source": [
    "with $M_l$ being the number of nodes in layer $l$, we obtain"
   ]
  },
  {
   "cell_type": "markdown",
   "id": "c42c974e",
   "metadata": {
    "editable": true
   },
   "source": [
    "$$\n",
    "\\delta_j^l =\\sum_k \\delta_k^{l+1}w_{kj}^{l+1}f'(z_j^l),\n",
    "$$"
   ]
  },
  {
   "cell_type": "markdown",
   "id": "0021aa3e",
   "metadata": {
    "editable": true
   },
   "source": [
    "This is our final equation.\n",
    "\n",
    "We are now ready to set up the algorithm for back propagation and learning the weights and biases."
   ]
  },
  {
   "cell_type": "markdown",
   "id": "0fadad6f",
   "metadata": {
    "editable": true
   },
   "source": [
    "## Setting up the back propagation algorithm\n",
    "\n",
    "The four equations  provide us with a way of computing the gradient of the cost function. Let us write this out in the form of an algorithm.\n",
    "\n",
    "**First**, we set up the input data $\\hat{x}$ and the activations\n",
    "$\\hat{z}_1$ of the input layer and compute the activation function and\n",
    "the pertinent outputs $\\hat{a}^1$.\n",
    "\n",
    "**Secondly**, we perform then the feed forward till we reach the output\n",
    "layer and compute all $\\hat{z}_l$ of the input layer and compute the\n",
    "activation function and the pertinent outputs $\\hat{a}^l$ for\n",
    "$l=1,2,3,\\dots,L$.\n",
    "\n",
    "**Notation**: The first hidden layer has $l=1$ as label and the final output layer has $l=L$."
   ]
  },
  {
   "cell_type": "markdown",
   "id": "87991727",
   "metadata": {
    "editable": true
   },
   "source": [
    "## Setting up the back propagation algorithm, part 2\n",
    "\n",
    "Thereafter we compute the ouput error $\\hat{\\delta}^L$ by computing all"
   ]
  },
  {
   "cell_type": "markdown",
   "id": "c93a9699",
   "metadata": {
    "editable": true
   },
   "source": [
    "$$\n",
    "\\delta_j^L = f'(z_j^L)\\frac{\\partial {\\cal C}}{\\partial (a_j^L)}.\n",
    "$$"
   ]
  },
  {
   "cell_type": "markdown",
   "id": "1118208b",
   "metadata": {
    "editable": true
   },
   "source": [
    "Then we compute the back propagate error for each $l=L-1,L-2,\\dots,1$ as"
   ]
  },
  {
   "cell_type": "markdown",
   "id": "ddc5ace4",
   "metadata": {
    "editable": true
   },
   "source": [
    "$$\n",
    "\\delta_j^l = \\sum_k \\delta_k^{l+1}w_{kj}^{l+1}f'(z_j^l).\n",
    "$$"
   ]
  },
  {
   "cell_type": "markdown",
   "id": "92ff2c2b",
   "metadata": {
    "editable": true
   },
   "source": [
    "## Setting up the Back propagation algorithm, part 3\n",
    "\n",
    "Finally, we update the weights and the biases using gradient descent\n",
    "for each $l=L-1,L-2,\\dots,1$ and update the weights and biases\n",
    "according to the rules"
   ]
  },
  {
   "cell_type": "markdown",
   "id": "f6bf783a",
   "metadata": {
    "editable": true
   },
   "source": [
    "$$\n",
    "w_{jk}^l\\leftarrow  = w_{jk}^l- \\eta \\delta_j^la_k^{l-1},\n",
    "$$"
   ]
  },
  {
   "cell_type": "markdown",
   "id": "e1fb0e3a",
   "metadata": {
    "editable": true
   },
   "source": [
    "$$\n",
    "b_j^l \\leftarrow b_j^l-\\eta \\frac{\\partial {\\cal C}}{\\partial b_j^l}=b_j^l-\\eta \\delta_j^l,\n",
    "$$"
   ]
  },
  {
   "cell_type": "markdown",
   "id": "415674fd",
   "metadata": {
    "editable": true
   },
   "source": [
    "with $\\eta$ being the learning rate."
   ]
  },
  {
   "cell_type": "markdown",
   "id": "f2f5d052",
   "metadata": {
    "editable": true
   },
   "source": [
    "## Updating the gradients\n",
    "\n",
    "With the back propagate error for each $l=L-1,L-2,\\dots,1$ as"
   ]
  },
  {
   "cell_type": "markdown",
   "id": "3b07bcdb",
   "metadata": {
    "editable": true
   },
   "source": [
    "$$\n",
    "\\delta_j^l = \\sum_k \\delta_k^{l+1}w_{kj}^{l+1}f'(z_j^l),\n",
    "$$"
   ]
  },
  {
   "cell_type": "markdown",
   "id": "21688768",
   "metadata": {
    "editable": true
   },
   "source": [
    "we update the weights and the biases using gradient descent for each $l=L-1,L-2,\\dots,1$ and update the weights and biases according to the rules"
   ]
  },
  {
   "cell_type": "markdown",
   "id": "cafe7b48",
   "metadata": {
    "editable": true
   },
   "source": [
    "$$\n",
    "w_{jk}^l\\leftarrow  = w_{jk}^l- \\eta \\delta_j^la_k^{l-1},\n",
    "$$"
   ]
  },
  {
   "cell_type": "markdown",
   "id": "fb51e311",
   "metadata": {
    "editable": true
   },
   "source": [
    "$$\n",
    "b_j^l \\leftarrow b_j^l-\\eta \\frac{\\partial {\\cal C}}{\\partial b_j^l}=b_j^l-\\eta \\delta_j^l,\n",
    "$$"
   ]
  },
  {
   "cell_type": "markdown",
   "id": "ce805389",
   "metadata": {
    "editable": true
   },
   "source": [
    "## A very nice website on Neural Networks\n",
    "\n",
    "[You may find this website](https://playground.tensorflow.org/#activation=tanh&batchSize=10&dataset=circle&regDataset=reg-plane&learningRate=0.03&regularizationRate=0&noise=0&networkShape=4,2&seed=0.29243&showTestData=false&discretize=false&percTrainData=50&x=true&y=true&xTimesY=false&xSquared=false&ySquared=false&cosX=false&sinX=false&cosY=false&sinY=false&collectStats=false&problem=classification&initZero=false&hideText=false) very useful."
   ]
  },
  {
   "cell_type": "markdown",
   "id": "ae5b0b5d",
   "metadata": {
    "editable": true
   },
   "source": [
    "## A top-down perspective on Neural networks\n",
    "\n",
    "The first thing we would like to do is divide the data into two or\n",
    "three parts. A training set, a validation or dev (development) set,\n",
    "and a test set. The test set is the data on which we want to make\n",
    "predictions. The dev set is a subset of the training data we use to\n",
    "check how well we are doing out-of-sample, after training the model on\n",
    "the training dataset. We use the validation error as a proxy for the\n",
    "test error in order to make tweaks to our model. It is crucial that we\n",
    "do not use any of the test data to train the algorithm. This is a\n",
    "cardinal sin in ML. Then:\n",
    "\n",
    "* Estimate optimal error rate\n",
    "\n",
    "* Minimize underfitting (bias) on training data set.\n",
    "\n",
    "* Make sure you are not overfitting."
   ]
  },
  {
   "cell_type": "markdown",
   "id": "7967f9df",
   "metadata": {
    "editable": true
   },
   "source": [
    "## More top-down perspectives\n",
    "\n",
    "If the validation and test sets are drawn from the same distributions,\n",
    "then a good performance on the validation set should lead to similarly\n",
    "good performance on the test set. \n",
    "\n",
    "However, sometimes\n",
    "the training data and test data differ in subtle ways because, for\n",
    "example, they are collected using slightly different methods, or\n",
    "because it is cheaper to collect data in one way versus another. In\n",
    "this case, there can be a mismatch between the training and test\n",
    "data. This can lead to the neural network overfitting these small\n",
    "differences between the test and training sets, and a poor performance\n",
    "on the test set despite having a good performance on the validation\n",
    "set. To rectify this, Andrew Ng suggests making two validation or dev\n",
    "sets, one constructed from the training data and one constructed from\n",
    "the test data. The difference between the performance of the algorithm\n",
    "on these two validation sets quantifies the train-test mismatch. This\n",
    "can serve as another important diagnostic when using DNNs for\n",
    "supervised learning."
   ]
  },
  {
   "cell_type": "markdown",
   "id": "92f1caca",
   "metadata": {
    "editable": true
   },
   "source": [
    "## Limitations of supervised learning with deep networks\n",
    "\n",
    "Like all statistical methods, supervised learning using neural\n",
    "networks has important limitations. This is especially important when\n",
    "one seeks to apply these methods, especially to physics problems. Like\n",
    "all tools, DNNs are not a universal solution. Often, the same or\n",
    "better performance on a task can be achieved by using a few\n",
    "hand-engineered features (or even a collection of random\n",
    "features)."
   ]
  },
  {
   "cell_type": "markdown",
   "id": "806b2481",
   "metadata": {
    "editable": true
   },
   "source": [
    "## Limitations of NNs\n",
    "\n",
    "Here we list some of the important limitations of supervised neural network based models. \n",
    "\n",
    "* **Need labeled data**. All supervised learning methods, DNNs for supervised learning require labeled data. Often, labeled data is harder to acquire than unlabeled data (e.g. one must pay for human experts to label images).\n",
    "\n",
    "* **Supervised neural networks are extremely data intensive.** DNNs are data hungry. They perform best when data is plentiful. This is doubly so for supervised methods where the data must also be labeled. The utility of DNNs is extremely limited if data is hard to acquire or the datasets are small (hundreds to a few thousand samples). In this case, the performance of other methods that utilize hand-engineered features can exceed that of DNNs."
   ]
  },
  {
   "cell_type": "markdown",
   "id": "50bf8fe6",
   "metadata": {
    "editable": true
   },
   "source": [
    "## Homogeneous data\n",
    "\n",
    "* **Homogeneous data.** Almost all DNNs deal with homogeneous data of one type. It is very hard to design architectures that mix and match data types (i.e. some continuous variables, some discrete variables, some time series). In applications beyond images, video, and language, this is often what is required. In contrast, ensemble models like random forests or gradient-boosted trees have no difficulty handling mixed data types."
   ]
  },
  {
   "cell_type": "markdown",
   "id": "325b5bf3",
   "metadata": {
    "editable": true
   },
   "source": [
    "## More limitations\n",
    "\n",
    "* **Many problems are not about prediction.** In natural science we are often interested in learning something about the underlying distribution that generates the data. In this case, it is often difficult to cast these ideas in a supervised learning setting. While the problems are related, it is possible to make good predictions with a *wrong* model. The model might or might not be useful for understanding the underlying science.\n",
    "\n",
    "Some of these remarks are particular to DNNs, others are shared by all supervised learning methods. This motivates the use of unsupervised methods which in part circumvent these problems."
   ]
  },
  {
   "cell_type": "markdown",
   "id": "8dfef8aa",
   "metadata": {
    "editable": true
   },
   "source": [
    "## Using TensorFlow: Collect and pre-process data\n",
    "\n",
    "Let us look at the MINST data set."
   ]
  },
  {
   "cell_type": "code",
   "execution_count": 1,
   "id": "27df7328",
   "metadata": {
    "collapsed": false,
    "editable": true
   },
   "outputs": [],
   "source": [
    "%matplotlib inline\n",
    "\n",
    "# import necessary packages\n",
    "import numpy as np\n",
    "import matplotlib.pyplot as plt\n",
    "import tensorflow as tf\n",
    "from sklearn import datasets\n",
    "\n",
    "\n",
    "# ensure the same random numbers appear every time\n",
    "np.random.seed(0)\n",
    "\n",
    "# display images in notebook\n",
    "%matplotlib inline\n",
    "plt.rcParams['figure.figsize'] = (12,12)\n",
    "\n",
    "\n",
    "# download MNIST dataset\n",
    "digits = datasets.load_digits()\n",
    "\n",
    "# define inputs and labels\n",
    "inputs = digits.images\n",
    "labels = digits.target\n",
    "\n",
    "print(\"inputs = (n_inputs, pixel_width, pixel_height) = \" + str(inputs.shape))\n",
    "print(\"labels = (n_inputs) = \" + str(labels.shape))\n",
    "\n",
    "\n",
    "# flatten the image\n",
    "# the value -1 means dimension is inferred from the remaining dimensions: 8x8 = 64\n",
    "n_inputs = len(inputs)\n",
    "inputs = inputs.reshape(n_inputs, -1)\n",
    "print(\"X = (n_inputs, n_features) = \" + str(inputs.shape))\n",
    "\n",
    "\n",
    "# choose some random images to display\n",
    "indices = np.arange(n_inputs)\n",
    "random_indices = np.random.choice(indices, size=5)\n",
    "\n",
    "for i, image in enumerate(digits.images[random_indices]):\n",
    "    plt.subplot(1, 5, i+1)\n",
    "    plt.axis('off')\n",
    "    plt.imshow(image, cmap=plt.cm.gray_r, interpolation='nearest')\n",
    "    plt.title(\"Label: %d\" % digits.target[random_indices[i]])\n",
    "plt.show()"
   ]
  },
  {
   "cell_type": "code",
   "execution_count": 2,
   "id": "2dc819c5",
   "metadata": {
    "collapsed": false,
    "editable": true
   },
   "outputs": [],
   "source": [
    "from tensorflow.keras.layers import Input\n",
    "from tensorflow.keras.models import Sequential      #This allows appending layers to existing models\n",
    "from tensorflow.keras.layers import Dense           #This allows defining the characteristics of a particular layer\n",
    "from tensorflow.keras import optimizers             #This allows using whichever optimiser we want (sgd,adam,RMSprop)\n",
    "from tensorflow.keras import regularizers           #This allows using whichever regularizer we want (l1,l2,l1_l2)\n",
    "from tensorflow.keras.utils import to_categorical   #This allows using categorical cross entropy as the cost function\n",
    "\n",
    "from sklearn.model_selection import train_test_split\n",
    "\n",
    "# one-hot representation of labels\n",
    "labels = to_categorical(labels)\n",
    "\n",
    "# split into train and test data\n",
    "train_size = 0.8\n",
    "test_size = 1 - train_size\n",
    "X_train, X_test, Y_train, Y_test = train_test_split(inputs, labels, train_size=train_size,\n",
    "                                                    test_size=test_size)"
   ]
  },
  {
   "cell_type": "code",
   "execution_count": 3,
   "id": "6623d025",
   "metadata": {
    "collapsed": false,
    "editable": true
   },
   "outputs": [],
   "source": [
    "\n",
    "epochs = 100\n",
    "batch_size = 100\n",
    "n_neurons_layer1 = 100\n",
    "n_neurons_layer2 = 50\n",
    "n_categories = 10\n",
    "eta_vals = np.logspace(-5, 1, 7)\n",
    "lmbd_vals = np.logspace(-5, 1, 7)\n",
    "def create_neural_network_keras(n_neurons_layer1, n_neurons_layer2, n_categories, eta, lmbd):\n",
    "    model = Sequential()\n",
    "    model.add(Dense(n_neurons_layer1, activation='sigmoid', kernel_regularizer=regularizers.l2(lmbd)))\n",
    "    model.add(Dense(n_neurons_layer2, activation='sigmoid', kernel_regularizer=regularizers.l2(lmbd)))\n",
    "    model.add(Dense(n_categories, activation='softmax'))\n",
    "    \n",
    "    sgd = optimizers.SGD(lr=eta)\n",
    "    model.compile(loss='categorical_crossentropy', optimizer=sgd, metrics=['accuracy'])\n",
    "    \n",
    "    return model"
   ]
  },
  {
   "cell_type": "code",
   "execution_count": 4,
   "id": "dd2f6db9",
   "metadata": {
    "collapsed": false,
    "editable": true
   },
   "outputs": [],
   "source": [
    "DNN_keras = np.zeros((len(eta_vals), len(lmbd_vals)), dtype=object)\n",
    "        \n",
    "for i, eta in enumerate(eta_vals):\n",
    "    for j, lmbd in enumerate(lmbd_vals):\n",
    "        DNN = create_neural_network_keras(n_neurons_layer1, n_neurons_layer2, n_categories,\n",
    "                                         eta=eta, lmbd=lmbd)\n",
    "        DNN.fit(X_train, Y_train, epochs=epochs, batch_size=batch_size, verbose=0)\n",
    "        scores = DNN.evaluate(X_test, Y_test)\n",
    "        \n",
    "        DNN_keras[i][j] = DNN\n",
    "        \n",
    "        print(\"Learning rate = \", eta)\n",
    "        print(\"Lambda = \", lmbd)\n",
    "        print(\"Test accuracy: %.3f\" % scores[1])\n",
    "        print()"
   ]
  },
  {
   "cell_type": "code",
   "execution_count": 5,
   "id": "92ee7320",
   "metadata": {
    "collapsed": false,
    "editable": true
   },
   "outputs": [],
   "source": [
    "# optional\n",
    "# visual representation of grid search\n",
    "# uses seaborn heatmap, could probably do this in matplotlib\n",
    "import seaborn as sns\n",
    "\n",
    "sns.set()\n",
    "\n",
    "train_accuracy = np.zeros((len(eta_vals), len(lmbd_vals)))\n",
    "test_accuracy = np.zeros((len(eta_vals), len(lmbd_vals)))\n",
    "\n",
    "for i in range(len(eta_vals)):\n",
    "    for j in range(len(lmbd_vals)):\n",
    "        DNN = DNN_keras[i][j]\n",
    "\n",
    "        train_accuracy[i][j] = DNN.evaluate(X_train, Y_train)[1]\n",
    "        test_accuracy[i][j] = DNN.evaluate(X_test, Y_test)[1]\n",
    "\n",
    "        \n",
    "fig, ax = plt.subplots(figsize = (10, 10))\n",
    "sns.heatmap(train_accuracy, annot=True, ax=ax, cmap=\"viridis\")\n",
    "ax.set_title(\"Training Accuracy\")\n",
    "ax.set_ylabel(\"$\\eta$\")\n",
    "ax.set_xlabel(\"$\\lambda$\")\n",
    "plt.show()\n",
    "\n",
    "fig, ax = plt.subplots(figsize = (10, 10))\n",
    "sns.heatmap(test_accuracy, annot=True, ax=ax, cmap=\"viridis\")\n",
    "ax.set_title(\"Test Accuracy\")\n",
    "ax.set_ylabel(\"$\\eta$\")\n",
    "ax.set_xlabel(\"$\\lambda$\")\n",
    "plt.show()"
   ]
  },
  {
   "cell_type": "markdown",
   "id": "45ebe63e",
   "metadata": {
    "editable": true
   },
   "source": [
    "## And a similar code using PyTorch"
   ]
  },
  {
   "cell_type": "code",
   "execution_count": 6,
   "id": "91854076",
   "metadata": {
    "collapsed": false,
    "editable": true
   },
   "outputs": [],
   "source": [
    "# Simple NN code using PyTorch on the MNIST dataset (this time the 28 x 28 set)\n",
    "# The MNIST dataset is loaded using `torchvision.datasets`. The images are transformed to tensors and normalized.\n",
    "# A simple feedforward neural network with one hidden layer is defined using `nn.Module`.\n",
    "# The model is trained using the Adam optimizer and CrossEntropyLoss. The training loop iterates over the dataset for a specified number of epochs.\n",
    "# Note that we don't include additional hyperparameters and the learning rate is set to 0.001.  \n",
    "# After training, the model is evaluated on the test dataset to compute accuracy.\n",
    "# The trained model's weights are saved to a file for later use.\n",
    "# To do: add loops over hyperparameters and learning rates\n",
    "\n",
    "import torch\n",
    "import torch.nn as nn\n",
    "import torch.optim as optim\n",
    "from torch.utils.data import DataLoader\n",
    "import torchvision.transforms as transforms\n",
    "import torchvision.datasets as datasets\n",
    "\n",
    "# Hyperparameters\n",
    "input_size = 784  # 28x28 images\n",
    "hidden_size = 128\n",
    "num_classes = 10\n",
    "num_epochs = 5\n",
    "batch_size = 64\n",
    "learning_rate = 0.001\n",
    "\n",
    "# Device configuration\n",
    "device = torch.device('cuda' if torch.cuda.is_available() else 'cpu')\n",
    "\n",
    "# MNIST dataset\n",
    "train_dataset = datasets.MNIST(root='./data', train=True, transform=transforms.ToTensor(), download=True)\n",
    "test_dataset = datasets.MNIST(root='./data', train=False, transform=transforms.ToTensor())\n",
    "\n",
    "# Data loader\n",
    "train_loader = DataLoader(dataset=train_dataset, batch_size=batch_size, shuffle=True)\n",
    "test_loader = DataLoader(dataset=test_dataset, batch_size=batch_size, shuffle=False)\n",
    "\n",
    "# Fully connected neural network with one hidden layer\n",
    "class NeuralNet(nn.Module):\n",
    "   def __init__(self, input_size, hidden_size, num_classes):\n",
    "       super(NeuralNet, self).__init__()\n",
    "       self.fc1 = nn.Linear(input_size, hidden_size)\n",
    "       self.relu = nn.ReLU()\n",
    "       self.fc2 = nn.Linear(hidden_size, num_classes)  \n",
    "\n",
    "   def forward(self, x):\n",
    "       out = self.fc1(x)\n",
    "       out = self.relu(out)\n",
    "       out = self.fc2(out)\n",
    "       return out\n",
    "\n",
    "model = NeuralNet(input_size, hidden_size, num_classes).to(device)\n",
    "\n",
    "# Loss and optimizer\n",
    "criterion = nn.CrossEntropyLoss()\n",
    "optimizer = optim.Adam(model.parameters(), lr=learning_rate)\n",
    "\n",
    "# Train the model\n",
    "total_step = len(train_loader)\n",
    "for epoch in range(num_epochs):\n",
    "   for i, (images, labels) in enumerate(train_loader):  \n",
    "       # Move tensors to the configured device\n",
    "       images = images.reshape(-1, 28*28).to(device)\n",
    "       labels = labels.to(device)\n",
    "\n",
    "       # Forward pass\n",
    "       outputs = model(images)\n",
    "       loss = criterion(outputs, labels)\n",
    "\n",
    "       # Backward and optimize\n",
    "       optimizer.zero_grad()\n",
    "       loss.backward()\n",
    "       optimizer.step()\n",
    "\n",
    "       if (i+1) % 100 == 0:\n",
    "           print(f'Epoch [{epoch+1}/{num_epochs}], Step [{i+1}/{total_step}], Loss: {loss.item():.4f}')\n",
    "\n",
    "# Test the model\n",
    "# In test phase, we don't need to compute gradients (for memory efficiency)\n",
    "with torch.no_grad():\n",
    "   correct = 0\n",
    "   total = 0\n",
    "   for images, labels in test_loader:\n",
    "       images = images.reshape(-1, 28*28).to(device)\n",
    "       labels = labels.to(device)\n",
    "       outputs = model(images)\n",
    "       _, predicted = torch.max(outputs.data, 1)\n",
    "       total += labels.size(0)\n",
    "       correct += (predicted == labels).sum().item()\n",
    "\n",
    "   print(f'Accuracy of the network on the 10000 test images: {100 * correct / total:.2f}%')\n",
    "\n",
    "# Save the model checkpoint\n",
    "torch.save(model.state_dict(), 'model.ckpt')"
   ]
  }
 ],
 "metadata": {},
 "nbformat": 4,
 "nbformat_minor": 5
}
