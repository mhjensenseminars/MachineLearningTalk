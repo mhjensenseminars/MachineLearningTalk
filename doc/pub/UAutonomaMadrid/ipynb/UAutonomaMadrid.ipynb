{
 "cells": [
  {
   "cell_type": "markdown",
   "id": "f8397c53",
   "metadata": {
    "editable": true
   },
   "source": [
    "<!-- HTML file automatically generated from DocOnce source (https://github.com/doconce/doconce/)\n",
    "doconce format html UAutonomaMadrid.do.txt --no_mako -->\n",
    "<!-- dom:TITLE: Artificial Intelligence and Machine Learning in Physics -->"
   ]
  },
  {
   "cell_type": "markdown",
   "id": "d447562f",
   "metadata": {
    "editable": true
   },
   "source": [
    "# Artificial Intelligence and Machine Learning in Physics\n",
    "**Morten Hjorth-Jensen**, Department of Physics and Astronomy and FRIB/NSCL Laboratory, Michigan State University\n",
    "\n",
    "Date: **Universidad Autonoma de Madrid, November 28, 2022**"
   ]
  },
  {
   "cell_type": "markdown",
   "id": "e3923050",
   "metadata": {
    "editable": true
   },
   "source": [
    "## What is this talk about?\n",
    "The main emphasis is to give you a short and pedestrian introduction to the whys and hows we can use (with several examples) machine learning methods  in physics. And why this could (or should) be of interest.  I will also try to link to educational activities if time.\n",
    "\n",
    "**Additional info.**\n",
    "\n",
    "These slides are at <https://mhjensenseminars.github.io/MachineLearningTalk/doc/pub/UA/html/UAutonomaMadrid-reveal.html> \n",
    "\n",
    "* Parts of the talk based on [Machine Learning in Nuclear Physics, Amber Boehnlein et al., Reviews Modern of Physics 94, (2022)](https://journals.aps.org/rmp/abstract/10.1103/RevModPhys.94.031003)\n",
    "\n",
    "* See also [Predicting solid state material platforms for quantum technologies Oliver L. Hebnes et al, Nature Materials Communications, (2002).](https://www.nature.com/articles/s41524-022-00888-3)"
   ]
  },
  {
   "cell_type": "markdown",
   "id": "d808f411",
   "metadata": {
    "editable": true
   },
   "source": [
    "## Many folks to thank\n",
    "\n",
    "**Thanks to.**\n",
    "\n",
    "* MSU: **Ben Hall, Jane Kim, Julie Butler, Danny Jammoa, Nicholas Cariello**, Johannes Pollanen (Expt), **Niyaz Beysengulov (Expt)**, Dean Lee, Scott Bogner, Heiko Hergert, Matt Hirn, Huey-Wen Lin, Alexei Bazavov, Andrea Shindler and Angela Wilson\n",
    "\n",
    "* UiO: **Stian Bilek, Heine Åbø (OsloMet), Håkon Emil Kristiansen, Øyvind Schøyen Sigmundsson, Jonas Boym Flaten, Linus Ekstrøm, Oskar Leinoen, Kristian Wold (OsloMet)**, Lasse Vines (Expt) Andrej Kuznetsov (Expt), **David Rivas Gongora (Expt) and Marianne Bathen (Expt, now PD at ETH)**\n",
    "\n",
    "**Sponsors.**\n",
    "\n",
    "This work is supported by the U.S. Department of Energy, Office of\n",
    "Science, office of Nuclear Physics under grant No. DE-SC0021152 and\n",
    "U.S. National Science Foundation Grants No. PHY-1404159 and\n",
    "PHY-2013047 and the Norwegian ministry of Education and  Research for PhD fellowships."
   ]
  },
  {
   "cell_type": "markdown",
   "id": "d58004c4",
   "metadata": {
    "editable": true
   },
   "source": [
    "## A simple perspective on the interface between ML and Physics\n",
    "\n",
    "<!-- dom:FIGURE: [figures/mlimage.png, width=800 frac=1.0] -->\n",
    "<!-- begin figure -->\n",
    "\n",
    "<img src=\"figures/mlimage.png\" width=\"800\"><p style=\"font-size: 0.9em\"><i>Figure 1: </i></p>\n",
    "<!-- end figure -->"
   ]
  },
  {
   "cell_type": "markdown",
   "id": "61e3111f",
   "metadata": {
    "editable": true
   },
   "source": [
    "## ML in Nuclear  Physics\n",
    "\n",
    "<!-- dom:FIGURE: [figures/ML-NP.png, width=900 frac=1.0]u -->\n",
    "<!-- begin figure -->\n",
    "\n",
    "<img src=\"figures/ML-NP.png\" width=\"900\"><p style=\"font-size: 0.9em\"><i>Figure 1: u</i></p>\n",
    "<!-- end figure -->"
   ]
  },
  {
   "cell_type": "markdown",
   "id": "d2bc3ae5",
   "metadata": {
    "editable": true
   },
   "source": [
    "## AI/ML and some statements you may have heard (and what do they mean?)\n",
    "\n",
    "1. Fei-Fei Li on ImageNet: **map out the entire world of objects** ([The data that transformed AI research](https://cacm.acm.org/news/219702-the-data-that-transformed-ai-research-and-possibly-the-world/fulltext))\n",
    "\n",
    "2. Russell and Norvig in their popular textbook: t_relevant to any intellectual task; it is truly a universal field_ ([Artificial Intelligence, A modern approach](http://aima.cs.berkeley.edu/))\n",
    "\n",
    "3. Woody Bledsoe puts it more bluntly: **in the long run, AI is the only science** (quoted in Pamilla McCorduck, [Machines who think](https://www.pamelamccorduck.com/machines-who-think))\n",
    "\n",
    "onomaMadrid\n",
    "\n",
    "If you wish to have a critical read on AI/ML from a societal point of view, see [Kate Crawford's recent text Atlas of AI](https://www.katecrawford.net/)\n",
    "\n",
    "**Here: with AI/ML we intend a collection of machine learning methods with an emphasis on statistical learning and data analysis**"
   ]
  },
  {
   "cell_type": "markdown",
   "id": "9498c6a2",
   "metadata": {
    "editable": true
   },
   "source": [
    "## Scientific Machine Learning\n",
    "\n",
    "An important and emerging field is what has been dubbed as scientific ML, see the article by Deiana et al [Applications and Techniques for Fast Machine Learning in Science, arXiv:2110.13041](https://arxiv.org/abs/2110.13041)\n",
    "\n",
    "The authors discuss applications and techniques for fast machine\n",
    "learning (ML) in science - the concept of integrating power ML\n",
    "methods into the real-time experimental data processing loop to\n",
    "accelerate scientific discovery. The report covers three main areas\n",
    "\n",
    "1. applications for fast ML across a number of scientific domains;\n",
    "\n",
    "2. techniques for training and implementing performant and resource-efficient ML algorithms;\n",
    "\n",
    "3. and computing architectures, platforms, and technologies for deploying these algorithms."
   ]
  },
  {
   "cell_type": "markdown",
   "id": "e726f7f5",
   "metadata": {
    "editable": true
   },
   "source": [
    "## Physics driven Machine Learning\n",
    "\n",
    "Another hot topic is what has loosely been dubbed **Physics-driven deep learning**. See the recent work on [Learning nonlinear operators via DeepONet based on the universal approximation theorem of operators](https://www.nature.com/articles/s42256-021-00302-5).\n",
    "\n",
    "**From their abstract.**\n",
    "\n",
    "A less known but powerful result is that a NN with a single hidden layer can accurately approximate any nonlinear continuous operator. This universal approximation theorem of operators is suggestive of the structure and potential of deep neural networks (DNNs) in learning continuous operators or complex systems from streams of scattered data. Here, we thus extend this theorem to DNNs. We design a new network with small generalization error, the deep operator network (DeepONet), which consists of a DNN for encoding the discrete input function space (branch net) and another DNN for encoding the domain of the output functions (trunk net). We demonstrate that DeepONet can learn various explicit operators, such as integrals and fractional Laplacians, as well as implicit operators that represent deterministic and stochastic differential equations."
   ]
  },
  {
   "cell_type": "markdown",
   "id": "57f3f459",
   "metadata": {
    "editable": true
   },
   "source": [
    "## Machine Learning and Physics\n",
    "Machine learning  is an extremely rich field, in spite of its young age. The\n",
    "increases we have seen during the last three decades in computational\n",
    "capabilities have been followed by developments of methods and\n",
    "techniques for analyzing and handling large date sets, relying heavily\n",
    "on statistics, computer science and mathematics.  The field is rather\n",
    "new and developing rapidly. \n",
    "\n",
    "Popular software packages written in Python for ML are\n",
    "\n",
    "* [Scikit-learn](http://scikit-learn.org/stable/), \n",
    "\n",
    "* [Tensorflow](https://www.tensorflow.org/),\n",
    "\n",
    "* [PyTorch](http://pytorch.org/)\n",
    "\n",
    "* [Keras](https://keras.io/),\n",
    "\n",
    "and more. These are all freely available at their respective GitHub sites. They \n",
    "encompass communities of developers in the thousands or more. And the number\n",
    "of code developers and contributors keeps increasing."
   ]
  },
  {
   "cell_type": "markdown",
   "id": "83719aeb",
   "metadata": {
    "editable": true
   },
   "source": [
    "## Lots of room for creativity\n",
    "Not all the\n",
    "algorithms and methods can be given a rigorous mathematical\n",
    "justification, opening up thereby for experimenting\n",
    "and trial and error and thereby exciting new developments.\n",
    "\n",
    "A solid command of linear algebra, multivariate theory, \n",
    "probability theory, statistical data analysis, optimization algorithms, \n",
    "understanding errors and Monte Carlo methods is important in order to understand many of the \n",
    "various algorithms and methods.\n",
    "\n",
    "**Job market, a personal statement**: [A familiarity with ML is almost becoming a prerequisite for many of the most exciting employment opportunities](https://www.analyticsindiamag.com/top-countries-hiring-most-number-of-artificial-intelligence-machine-learning-experts/). And add quantum computing and there you are!"
   ]
  },
  {
   "cell_type": "markdown",
   "id": "e70b2625",
   "metadata": {
    "editable": true
   },
   "source": [
    "## Types of machine learning\n",
    "\n",
    "The approaches to machine learning are many, but are often split into two main categories. \n",
    "In *supervised learning* we know the answer to a problem,\n",
    "and let the computer deduce the logic behind it. On the other hand, *unsupervised learning*\n",
    "is a method for finding patterns and relationship in data sets without any prior knowledge of the system.\n",
    "Some authours also operate with a third category, namely *reinforcement learning*. This is a paradigm \n",
    "of learning inspired by behavioural psychology, where learning is achieved by trial-and-error, \n",
    "solely from rewards and punishment.\n",
    "\n",
    "Another way to categorize machine learning tasks is to consider the desired output of a system.\n",
    "Some of the most common tasks are:\n",
    "\n",
    "  * Classification: Outputs are divided into two or more classes. The goal is to   produce a model that assigns inputs into one of these classes. An example is to identify  digits based on pictures of hand-written ones. Classification is typically supervised learning.\n",
    "\n",
    "  * Regression: Finding a functional relationship between an input data set and a reference data set.   The goal is to construct a function that maps input data to continuous output values.\n",
    "\n",
    "  * Clustering: Data are divided into groups with certain common traits, without knowing the different groups beforehand.  It is thus a form of unsupervised learning."
   ]
  },
  {
   "cell_type": "markdown",
   "id": "0ff207b3",
   "metadata": {
    "editable": true
   },
   "source": [
    "## Machine learning and nuclear theory: Why?\n",
    "\n",
    "1. ML tools can help us to speed up the scientific process cycle and hence facilitate discoveries\n",
    "\n",
    "2. Enabling fast emulation for big simulations\n",
    "\n",
    "3. Revealing the information content of measured observables w.r.t. theory\n",
    "\n",
    "4. Identifying crucial experimental data for better constraining theory\n",
    "\n",
    "5. Providing meaningful input to applications and planned measurements\n",
    "\n",
    "6. ML tools can help us to reveal the structure of our models\n",
    "\n",
    "7. Parameter estimation with heterogeneous/multi-scale datasets\n",
    "\n",
    "8. Model reduction\n",
    "\n",
    "9. ML tools can help us to provide predictive capability\n",
    "\n",
    "10. Theoretical results often involve ultraviolet  and infrared extrapolations due to Hilbert-space truncations \n",
    "\n",
    "11. Uncertainty quantification essential\n",
    "\n",
    "12. Theoretical models are often applied to entirely new nuclear systems and conditions that are not accessible to experiment"
   ]
  },
  {
   "cell_type": "markdown",
   "id": "014e7217",
   "metadata": {
    "editable": true
   },
   "source": [
    "## The plethora  of machine learning algorithms/methods\n",
    "\n",
    "1. Deep learning: Neural Networks (NN), Convolutional NN, Recurrent NN, Boltzmann machines, autoencoders and variational autoencoders  and generative adversarial networks \n",
    "\n",
    "2. Bayesian statistics and Bayesian Machine Learning, Bayesian experimental design, Bayesian Regression models, Bayesian neural networks, Gaussian processes and much more\n",
    "\n",
    "3. Dimensionality reduction (Principal component analysis), Clustering Methods and more\n",
    "\n",
    "4. Ensemble Methods, Random forests, bagging and voting methods, gradient boosting approaches \n",
    "\n",
    "5. Linear and logistic regression, Kernel methods, support vector machines and more\n",
    "\n",
    "6. Reinforcement Learning \n",
    "\n",
    "7. and more"
   ]
  },
  {
   "cell_type": "markdown",
   "id": "f5767cd5",
   "metadata": {
    "editable": true
   },
   "source": [
    "## Examples of Machine Learning methods and applications in nuclear physics\n",
    "\n",
    "* **Machine  learning  for  data  mining:** Oftentimes,  it  is necessary to be able to accurately calculate observables that have not been measured, to supplement the existing databases.\n",
    "\n",
    "* **Nuclear  density  functional   theory:** Energy density functional calibration   involving Bayesian optimization  and NN  ML. A promising avenue for ML applications is the emulation of DFT results.\n",
    "\n",
    "* **Nuclear properties with ML:** Improving predictive power of nuclear models by emulating model residuals.\n",
    "\n",
    "* **Effective field theory and A-body systems:** Truncation errors and low-energy coupling constant calibration, nucleon-nucleon scattering calculations, variational calculations with ANN for light nuclei, NN extrapolation of nuclear structure observables\n",
    "\n",
    "* **Nuclear  shell  model  UQ:** ML methods  have  been  used  to  provide  UQ  of  configuration  interaction  calculations."
   ]
  },
  {
   "cell_type": "markdown",
   "id": "c108ae6c",
   "metadata": {
    "editable": true
   },
   "source": [
    "## Examples of Machine Learning methods and applications in nuclear physics, continues\n",
    "\n",
    "* **Low-energy nuclear reactions UQ:** Bayesian optimization studies of the nucleon-nucleus optical potential, R-matrix analyses,  and  statistical spatial networks to study patterns in nuclear reaction networks.\n",
    "\n",
    "* **Neutron star properties and nuclear matter equation of state:** constraining the equation of state by properties on neutron stars and selected properties of finite nuclei\n",
    "\n",
    "* **Experimental design:** Bayesian ML provides a framework  to  maximize  the  success  of  on  experiment  based on  the  best  information  available  on existing  data, experimental conditions, and theoretical models."
   ]
  },
  {
   "cell_type": "markdown",
   "id": "b0b9a8a2",
   "metadata": {
    "editable": true
   },
   "source": [
    "## More examples\n",
    "\n",
    "The large amount of degrees of freedom pertain to both theory and experiment in nuclear physics. With increasingly complicated experiments that produce large amounts data, automated classification of events becomes increasingly important. Here, deep learning methods offer a plethora of interesting research avenues. \n",
    "\n",
    "* Reconstruction of particle trajectories or classification of events are typical examples where ML methods are being used. However, since these data can often be extremely noisy, the precision necessary for discovery in physics requires algorithmic improvements. Research along such directions, interfacing nuclear physics with AI/ML is expected to play a significant role in physics discoveries related to new facilities.  The treatment of corrupted data in imaging and image processing is also a relevant topic. \n",
    "\n",
    "* Design of detectors represents an important area of applications for ML/AI methods in nuclear physics."
   ]
  },
  {
   "cell_type": "markdown",
   "id": "204733ff",
   "metadata": {
    "editable": true
   },
   "source": [
    "## And more\n",
    "\n",
    "* An important application of AI/ML methods is to improve the estimation of bias or uncertainty due to the introduction of or lack of physical constraints in various theoretical models.\n",
    "\n",
    "* In theory, we expect to use AI/ML algorithms and methods to improve our knowledge about  correlations of physical model parameters in data for quantum many-body systems. Deep learning methods show great promise in circumventing the exploding dimensionalities encountered in quantum mechanical many-body studies. \n",
    "\n",
    "* Merging a frequentist approach (the standard path in ML theory) with a Bayesian approach, has the potential to infer better probabilitity distributions and error estimates. As an example, methods for fast Monte-Carlo- based Bayesian computation of nuclear density functionals show great promise in providing a better understanding \n",
    "\n",
    "* Machine Learning and Quantum Computing is a very interesting avenue to explore. See for example talk of [Sofia Vallecorsa](https://www.youtube.com/watch?v=7WPKv1Q57os&list=PLUPPQ1TVXK7uHwCTccWMBud-zLyvAf8A2&index=5&ab_channel=ECTstar)."
   ]
  },
  {
   "cell_type": "markdown",
   "id": "b93a411b",
   "metadata": {
    "editable": true
   },
   "source": [
    "## Selected references\n",
    "* [Mehta et al.](https://arxiv.org/abs/1803.08823) and [Physics Reports (2019)](https://www.sciencedirect.com/science/article/pii/S0370157319300766?via%3Dihub).\n",
    "\n",
    "* [Machine Learning and the Physical Sciences by Carleo et al](https://link.aps.org/doi/10.1103/RevModPhys.91.045002)\n",
    "\n",
    "* [Ab initio solution of the many-electron Schrödinger equation with deep neural networks by Pfau et al.](https://journals.aps.org/prresearch/abstract/10.1103/PhysRevResearch.2.033429)\n",
    "\n",
    "* [Report from the A.I. For Nuclear Physics  Workshop by Bedaque et al., Eur J. Phys. A 57, (2021)](https://link.springer.com/article/10.1140/epja/s10050-020-00290-x)\n",
    "\n",
    "* [Particle Data Group summary on ML methods](https://pdg.lbl.gov/2021/reviews/rpp2021-rev-machine-learning.pdf)\n",
    "\n",
    "* And the BAND collaboration at <https://bandframework.github.io/>"
   ]
  },
  {
   "cell_type": "markdown",
   "id": "0794347f",
   "metadata": {
    "editable": true
   },
   "source": [
    "## What are the basic ingredients?\n",
    "Almost every problem in ML and data science starts with the same ingredients:\n",
    "* The dataset $\\mathbf{x}$ (could be some observable quantity of the system we are studying)\n",
    "\n",
    "* A model which is a function of a set of parameters $\\mathbf{\\alpha}$ that relates to the dataset, say a likelihood  function $p(\\mathbf{x}\\vert \\mathbf{\\alpha})$ or just a simple model $f(\\mathbf{\\alpha})$\n",
    "\n",
    "* A so-called **loss/cost/risk** function $C (\\mathbf{x}, f(\\mathbf{\\alpha}))$ which allows us to decide how well our model represents the dataset. \n",
    "\n",
    "We seek to minimize the function $C (\\mathbf{x}, f(\\mathbf{\\alpha}))$ by finding the parameter values which minimize $\\mathcal{C}$. This leads to  various minimization algorithms. It may surprise many, but at the heart of all machine learning algortihms there is an optimization problem."
   ]
  },
  {
   "cell_type": "markdown",
   "id": "d9274463",
   "metadata": {
    "editable": true
   },
   "source": [
    "## [Unsupervised learning in nuclear physics, Argon-46 by Solli, Bazin, Kuchera, MHJ, Strauss.](https://www.sciencedirect.com/science/article/abs/pii/S0168900221004460?via%3Dihub)\n",
    "\n",
    "Two- and three-dimensional representations of two events from the\n",
    "Argon-46 experiment. Each row is one event in two projections,\n",
    "where the color intensity of each point indicates higher charge values\n",
    "recorded by the detector. The bottom row illustrates a carbon event with\n",
    "a large fraction of noise, while the top row shows a proton event\n",
    "almost free of noise. \n",
    "\n",
    "<!-- dom:FIGURE: [figures/examples_raw.png, width=500 frac=0.6] -->\n",
    "<!-- begin figure -->\n",
    "\n",
    "<img src=\"figures/examples_raw.png\" width=\"500\"><p style=\"font-size: 0.9em\"><i>Figure 1: </i></p>\n",
    "<!-- end figure -->"
   ]
  },
  {
   "cell_type": "markdown",
   "id": "582c2e11",
   "metadata": {
    "editable": true
   },
   "source": [
    "## Quantum Monte Carlo and deep learning\n",
    "Given a hamiltonian $H$ and a trial wave function $\\Psi_T$, the variational principle states that the expectation value of $\\langle H \\rangle$, defined through"
   ]
  },
  {
   "cell_type": "markdown",
   "id": "1b2ccc0d",
   "metadata": {
    "editable": true
   },
   "source": [
    "$$\n",
    "\\langle E \\rangle =\n",
    "   \\frac{\\int d\\boldsymbol{R}\\Psi^{\\ast}_T(\\boldsymbol{R})H(\\boldsymbol{R})\\Psi_T(\\boldsymbol{R})}\n",
    "        {\\int d\\boldsymbol{R}\\Psi^{\\ast}_T(\\boldsymbol{R})\\Psi_T(\\boldsymbol{R})},\n",
    "$$"
   ]
  },
  {
   "cell_type": "markdown",
   "id": "7f1fd42a",
   "metadata": {
    "editable": true
   },
   "source": [
    "is an upper bound to the ground state energy $E_0$ of the hamiltonian $H$, that is"
   ]
  },
  {
   "cell_type": "markdown",
   "id": "1c3341ba",
   "metadata": {
    "editable": true
   },
   "source": [
    "$$\n",
    "E_0 \\le \\langle E \\rangle.\n",
    "$$"
   ]
  },
  {
   "cell_type": "markdown",
   "id": "6ae8a785",
   "metadata": {
    "editable": true
   },
   "source": [
    "In general, the integrals involved in the calculation of various  expectation values  are multi-dimensional ones. Traditional integration methods such as the Gauss-Legendre will not be adequate for say the  computation of the energy of a many-body system.  **Basic philosophy: Let a neural network find the optimal wave function**"
   ]
  },
  {
   "cell_type": "markdown",
   "id": "004eb5f8",
   "metadata": {
    "editable": true
   },
   "source": [
    "## Monte Carlo methods and Neural Networks\n",
    "\n",
    "[Machine Learning and the Deuteron by Kebble and Rios](https://www.sciencedirect.com/science/article/pii/S0370269320305463?via%3Dihub) and\n",
    "[Variational Monte Carlo calculations of $A\\le 4$ nuclei with an artificial neural-network correlator ansatz by Adams et al.](https://journals.aps.org/prl/abstract/10.1103/PhysRevLett.127.022502)\n",
    "\n",
    "**Adams et al**:"
   ]
  },
  {
   "cell_type": "markdown",
   "id": "a5925761",
   "metadata": {
    "editable": true
   },
   "source": [
    "$$\n",
    "H_{LO} =-\\sum_i \\frac{{\\vec{\\nabla}_i^2}}{2m_N}\n",
    "+\\sum_{i<j} {\\left(C_1  + C_2\\, \\vec{\\sigma_i}\\cdot\\vec{\\sigma_j}\\right)\n",
    "e^{-r_{ij}^2\\Lambda^2 / 4 }}\n",
    "\\nonumber\n",
    "$$"
   ]
  },
  {
   "cell_type": "markdown",
   "id": "adba60d4",
   "metadata": {
    "editable": true
   },
   "source": [
    "<!-- Equation labels as ordinary links -->\n",
    "<div id=\"_auto1\"></div>\n",
    "\n",
    "$$\n",
    "\\begin{equation} \n",
    "+D_0 \\sum_{i<j<k} \\sum_{\\text{cyc}}\n",
    "{e^{-\\left(r_{ik}^2+r_{ij}^2\\right)\\Lambda^2/4}}\\,,\n",
    "\\label{_auto1} \\tag{1}\n",
    "\\end{equation}\n",
    "$$"
   ]
  },
  {
   "cell_type": "markdown",
   "id": "bd0288bf",
   "metadata": {
    "editable": true
   },
   "source": [
    "where $m_N$ is the mass of the nucleon, $\\vec{\\sigma_i}$ is the Pauli\n",
    "matrix acting on nucleon $i$, and $\\sum_{\\text{cyc}}$ stands for the\n",
    "cyclic permutation of $i$, $j$, and $k$. The low-energy constants\n",
    "$C_1$ and $C_2$ are fit to the deuteron binding energy and to the\n",
    "neutron-neutron scattering length"
   ]
  },
  {
   "cell_type": "markdown",
   "id": "ab5a602e",
   "metadata": {
    "editable": true
   },
   "source": [
    "## Deep learning neural networks, [Variational Monte Carlo calculations of $A\\le 4$ nuclei with an artificial neural-network correlator ansatz by Adams et al.](https://journals.aps.org/prl/abstract/10.1103/PhysRevLett.127.022502)\n",
    "\n",
    "An appealing feature of the neural network ansatz is that it is more general than the more conventional product of two-\n",
    "and three-body spin-independent Jastrow functions"
   ]
  },
  {
   "cell_type": "markdown",
   "id": "200c1012",
   "metadata": {
    "editable": true
   },
   "source": [
    "<!-- Equation labels as ordinary links -->\n",
    "<div id=\"_auto2\"></div>\n",
    "\n",
    "$$\n",
    "\\begin{equation}\n",
    "|\\Psi_V^J \\rangle = \\prod_{i<j<k} \\Big( 1-\\sum_{\\text{cyc}} u(r_{ij}) u(r_{jk})\\Big) \\prod_{i<j} f(r_{ij}) | \\Phi\\rangle\\,,\n",
    "\\label{_auto2} \\tag{2}\n",
    "\\end{equation}\n",
    "$$"
   ]
  },
  {
   "cell_type": "markdown",
   "id": "a98d9f52",
   "metadata": {
    "editable": true
   },
   "source": [
    "which is commonly used for nuclear Hamiltonians that do not contain tensor and spin-orbit terms.\n",
    "The above function is replaced by a four-layer Neural Network. \n",
    "\n",
    "<!-- dom:FIGURE: [figures/energyconvergence.png, width=700 frac=0.9] -->\n",
    "<!-- begin figure -->\n",
    "\n",
    "<img src=\"figures/energyconvergence.png\" width=\"700\"><p style=\"font-size: 0.9em\"><i>Figure 1: </i></p>\n",
    "<!-- end figure -->"
   ]
  },
  {
   "cell_type": "markdown",
   "id": "1dfd8159",
   "metadata": {
    "editable": true
   },
   "source": [
    "## [Gnech et al, Variational Monte Carlo calculations of $A\\le 6$ nuclei Few Body Systems 63, (2022)](https://link.springer.com/article/10.1007/s00601-021-01706-0)\n",
    "\n",
    "<!-- dom:FIGURE: [figures/pointnucleondensity.png, width=700 frac=0.9] -->\n",
    "<!-- begin figure -->\n",
    "\n",
    "<img src=\"figures/pointnucleondensity.png\" width=\"700\"><p style=\"font-size: 0.9em\"><i>Figure 1: </i></p>\n",
    "<!-- end figure -->"
   ]
  },
  {
   "cell_type": "markdown",
   "id": "a9042428",
   "metadata": {
    "editable": true
   },
   "source": [
    "## Neutron matter with $N=14$ neutron\n",
    "Bryce Fore, Jane Kim, Alessandro Lovato and MHJ, in preparation\n",
    "<!-- dom:FIGURE: [figslides/16.png, width=700 frac=0.9] -->\n",
    "<!-- begin figure -->\n",
    "\n",
    "<img src=\"figslides/16.png\" width=\"700\"><p style=\"font-size: 0.9em\"><i>Figure 1: </i></p>\n",
    "<!-- end figure -->"
   ]
  },
  {
   "cell_type": "markdown",
   "id": "504fd51e",
   "metadata": {
    "editable": true
   },
   "source": [
    "## The electron gas in three dimensions with $N=14$ electrons (Wigner-Seitz radius $r_s=4$ Ry)\n",
    "Jane Kim, Bryce Fore, Alessandro Lovato and MHJ, in preparation and [Nordhagen, Kim, Fore, Lovato and MHJ, ArXiv 2210.00365](https://arxiv.org/abs/2210.00365)\n",
    "<!-- dom:FIGURE: [figslides/periodic_input_rs4.00.png, width=700 frac=0.9] -->\n",
    "<!-- begin figure -->\n",
    "\n",
    "<img src=\"figslides/periodic_input_rs4.00.png\" width=\"700\"><p style=\"font-size: 0.9em\"><i>Figure 1: </i></p>\n",
    "<!-- end figure -->"
   ]
  },
  {
   "cell_type": "markdown",
   "id": "e78184c2",
   "metadata": {
    "editable": true
   },
   "source": [
    "## Extrapolations and model interpretability\n",
    "\n",
    "When you hear phrases like **predictions and estimations** and\n",
    "**correlations and causations**, what do you think of?  May be you think\n",
    "of the difference between classifying new data points and generating\n",
    "new data points.\n",
    "Or perhaps you consider that correlations represent some kind of symmetric statements like\n",
    "if $A$ is correlated with $B$, then $B$ is correlated with\n",
    "$A$. Causation on the other hand is directional, that is if $A$ causes $B$, $B$ does not\n",
    "necessarily cause $A$."
   ]
  },
  {
   "cell_type": "markdown",
   "id": "6ace7aef",
   "metadata": {
    "editable": true
   },
   "source": [
    "## Physics based statistical learning and data analysis\n",
    "\n",
    "The above concepts are in some sense the difference between **old-fashioned** machine\n",
    "learning and statistics and Bayesian learning. In machine learning and prediction based\n",
    "tasks, we are often interested in developing algorithms that are\n",
    "capable of learning patterns from given data in an automated fashion,\n",
    "and then using these learned patterns to make predictions or\n",
    "assessments of newly given data. In many cases, our primary concern\n",
    "is the quality of the predictions or assessments, and we are less\n",
    "concerned about the underlying patterns that were learned in order\n",
    "to make these predictions.\n",
    "\n",
    "Physics based statistical learning points however to approaches that give us both predictions and correlations as well as being able to produce error estimates and understand causations.  This leads us to the very interesting field of Bayesian statistics."
   ]
  },
  {
   "cell_type": "markdown",
   "id": "a6839030",
   "metadata": {
    "editable": true
   },
   "source": [
    "## Bayes' Theorem\n",
    "\n",
    "Bayes' theorem"
   ]
  },
  {
   "cell_type": "markdown",
   "id": "9c46a8db",
   "metadata": {
    "editable": true
   },
   "source": [
    "$$\n",
    "p(X\\vert Y)= \\frac{p(X,Y)}{\\sum_{i=0}^{n-1}p(Y\\vert X=x_i)p(x_i)}=\\frac{p(Y\\vert X)p(X)}{\\sum_{i=0}^{n-1}p(Y\\vert X=x_i)p(x_i)}.\n",
    "$$"
   ]
  },
  {
   "cell_type": "markdown",
   "id": "53b2b26f",
   "metadata": {
    "editable": true
   },
   "source": [
    "The quantity $p(Y\\vert X)$ on the right-hand side of the theorem is\n",
    "evaluated for the observed data $Y$ and can be viewed as a function of\n",
    "the parameter space represented by $X$. This function is not\n",
    "necessarily normalized and is normally called the likelihood function.\n",
    "\n",
    "The function $p(X)$ on the right hand side is called the prior while the function on the left hand side is the called the posterior probability. The denominator on the right hand side serves as a normalization factor for the posterior distribution."
   ]
  },
  {
   "cell_type": "markdown",
   "id": "9d141435",
   "metadata": {
    "editable": true
   },
   "source": [
    "## Quantified limits of the nuclear landscape\n",
    "\n",
    "[Neufcourt et al., Phys. Rev. C 101, 044307 (2020)](https://journals.aps.org/prc/abstract/10.1103/PhysRevC.101.044307)\n",
    "Predictions made with eleven global mass model and Bayesian model averaging. Plot shows the probability of existence  \n",
    "that the nucleus is bound with respect to proton and neutron decay.\n",
    "\n",
    "<!-- dom:FIGURE: [figures/landscape.jpg, width=800 frac=1.0] -->\n",
    "<!-- begin figure -->\n",
    "\n",
    "<img src=\"figures/landscape.jpg\" width=\"800\"><p style=\"font-size: 0.9em\"><i>Figure 1: </i></p>\n",
    "<!-- end figure -->"
   ]
  },
  {
   "cell_type": "markdown",
   "id": "1f4d8f96",
   "metadata": {
    "editable": true
   },
   "source": [
    "## Constraining the equation of state for dense nuclear matter\n",
    "\n",
    "[G. Raaijmakers et al., Constraining the Dense Matter Equation of State with Joint Analysis of NICER and LIGO/Virgo Measurements, AJ Letters, 893, L21 (2020)](https://iopscience.iop.org/article/10.3847/2041-8213/ab822f)\n",
    "\n",
    "<!-- dom:FIGURE: [figures/nstareos.png, width=800 frac=1.0] -->\n",
    "<!-- begin figure -->\n",
    "\n",
    "<img src=\"figures/nstareos.png\" width=\"800\"><p style=\"font-size: 0.9em\"><i>Figure 1: </i></p>\n",
    "<!-- end figure -->"
   ]
  },
  {
   "cell_type": "markdown",
   "id": "276b2b8d",
   "metadata": {
    "editable": true
   },
   "source": [
    "## Experimental design\n",
    "\n",
    "Beam time and compute cycles are expensive!\n",
    "\n",
    "* Bayesian experimental design provides a framework in which experiments can be designed using the best experimental and theoretical information available \n",
    "\n",
    "* The utility function is designed to encode the goals of the experiment and the constraints inherent in carrying it out. \n",
    "\n",
    "* Once the utility function and the possible designs have been specified, the optimal design is simply the scenario that  maximizes the expected utility function over the domain of possible designs.\n",
    "\n",
    "<!-- dom:FIGURE: [figures/utility.png, width=700 frac=1.0] -->\n",
    "<!-- begin figure -->\n",
    "\n",
    "<img src=\"figures/utility.png\" width=\"700\"><p style=\"font-size: 0.9em\"><i>Figure 1: </i></p>\n",
    "<!-- end figure -->"
   ]
  },
  {
   "cell_type": "markdown",
   "id": "6a6d1318",
   "metadata": {
    "editable": true
   },
   "source": [
    "## Observations (or conclusions if you prefer)\n",
    "* Need for AI/Machine Learning in physics, lots of ongoing activities\n",
    "\n",
    "* To solve many complex problems and facilitate discoveries, multidisciplinary efforts efforts are required involving scientists in  physics, statistics, computational science, applied math and other fields.\n",
    "\n",
    "* There is a need for  focused AI/ML learning efforts that will benefit accelerator science and experimental and theoretical programs\n",
    "\n",
    "* How do we develop insights, competences, knowledge in statistical learning that can advance a given field?\n",
    "\n",
    "  * For example: Can we use ML to find out which correlations are relevant and thereby diminish the dimensionality problem in standard many-body  theories?\n",
    "\n",
    "  * Can we use AI/ML in detector analysis, accelerator design, analysis of experimental data and more?\n",
    "\n",
    "  * Can we use AL/ML to carry out reliable extrapolations by using current experimental knowledge and current theoretical models?\n",
    "\n",
    "* The community needs to invest in relevant educational efforts and training of scientists with knowledge in AI/ML. These are great challenges to the CS and DS communities\n",
    "\n",
    "* Quantum computing and quantum machine learning not discussed here\n",
    "\n",
    "* Most likely tons of things I have forgotten"
   ]
  },
  {
   "cell_type": "markdown",
   "id": "29ec831a",
   "metadata": {
    "editable": true
   },
   "source": [
    "## Possible start to raise awareness about ML in your own field\n",
    "* Make an ML challenge in your own field a la [Learning to discover: the Higgs boson machine learning challenge](https://home.cern/news/news/computing/higgs-boson-machine-learning-challenge). Alternatively go to kaggle.com at <https://www.kaggle.com/c/higgs-boson>\n",
    "\n",
    "* HEP@CERN and HEP in general have made significant impacts in the field of machine learning and AI. Something to learn from"
   ]
  },
  {
   "cell_type": "markdown",
   "id": "fe65a93b",
   "metadata": {
    "editable": true
   },
   "source": [
    "## Education\n",
    "\n",
    "1. Incorporate elements of statistical data analysis and Machine Learning in undergraduate programs\n",
    "\n",
    "2. Develop courses on Machine Learning and statistical data analysis\n",
    "\n",
    "3. Build up a series of courses in QIS, inspiration [QuSTEAM (Quantum Information Science, Technology, Engineering, Arts and Mathematics) initiative from USA](https://qusteam.org/)\n",
    "\n",
    "4. Modifying contents of present Physics programs or new programs on  Computational Physics and Quantum Technologies\n",
    "\n",
    "a. study direction/option in **quantum technologies**\n",
    "\n",
    "b. study direction/option in **Artificial Intelligence and Machine Learning**\n",
    "\n",
    "c. and more\n",
    "\n",
    "4. Master of Science/PhD programs in Computational and Data Science\n",
    "\n",
    "a. UiO has already MSc programs in CS and DS\n",
    "\n",
    "b. MSU has own graduate programs plus dual degree programs in CS and DS\n",
    "\n",
    "c. Many other universities are developing or have similar programs"
   ]
  },
  {
   "cell_type": "markdown",
   "id": "a54f49d6",
   "metadata": {
    "editable": true
   },
   "source": [
    "## QuSTEAM Model\n",
    "\n",
    "<!-- dom:FIGURE: [figures/qusteam.png, width=800 frac=1.0] -->\n",
    "<!-- begin figure -->\n",
    "\n",
    "<img src=\"figures/qusteam.png\" width=\"800\"><p style=\"font-size: 0.9em\"><i>Figure 1: </i></p>\n",
    "<!-- end figure -->"
   ]
  },
  {
   "cell_type": "markdown",
   "id": "4089b8f3",
   "metadata": {
    "editable": true
   },
   "source": [
    "## Possible courses\n",
    "\n",
    "**Topics  in a Bachelor of Science/Master of Science.**\n",
    "\n",
    "1. General university course on quantum mech and quantum technologies\n",
    "\n",
    "2. Information Systems \n",
    "\n",
    "3. From Classical Information theory to Quantum Information theory\n",
    "\n",
    "4. Classical vs. Quantum Logic\n",
    "\n",
    "5. Classical and Quantum Laboratory \n",
    "\n",
    "6. Discipline-Based Quantum Mechanics \n",
    "\n",
    "7. Quantum Software\n",
    "\n",
    "8. Quantum Hardware\n",
    "\n",
    "9. more"
   ]
  },
  {
   "cell_type": "markdown",
   "id": "716f4af2",
   "metadata": {
    "editable": true
   },
   "source": [
    "## Important Issues to think of\n",
    "\n",
    "1. Lots of conceptual learning: superposition, entanglement, QIS applications, etc.\n",
    "\n",
    "2. Coding is indispensable. That is why this should be a part of a CS/DS program\n",
    "\n",
    "3. Teamwork, project management, and communication are important and highly valued\n",
    "\n",
    "4. Engagement with industry: guest lectures, virtual tours, co-ops, and/or internships."
   ]
  },
  {
   "cell_type": "markdown",
   "id": "8a1a5bdf",
   "metadata": {
    "editable": true
   },
   "source": [
    "## Observations\n",
    "\n",
    "1. Students do not really know what QIS is.\n",
    "\n",
    "2. ML/AI seen as black boxes/magic!\n",
    "\n",
    "3. Students perceive that a graduate degree is necessary to work in QIS. A BSc will help."
   ]
  },
  {
   "cell_type": "markdown",
   "id": "2bcb898e",
   "metadata": {
    "editable": true
   },
   "source": [
    "## Future Needs/Problems\n",
    "\n",
    "1. There are already  great needs for specialized people (Ph. D. s, postdocs), but also needs of  people with a broad overview of what is possible in ML/AI and/or QIS.\n",
    "\n",
    "2. There are not enough potential employees in AI/ML and QIS . It is a supply gap, not a skills gap.\n",
    "\n",
    "3. A BSc with specialization  is a good place to start\n",
    "\n",
    "4. It is tremendously important to get everyone speaking the same language. Facility with the vernacular of quantum mechanics is a big plus.\n",
    "\n",
    "5. There is a huge list of areas where technical expertise may be important. But employers are often more concerned with attributes like project management, working well in a team, interest in the field, and adaptability than in specific technical skills."
   ]
  },
  {
   "cell_type": "markdown",
   "id": "472ec6e8",
   "metadata": {
    "editable": true
   },
   "source": [
    "## Educational initiatives since 2019 in nuclear physics\n",
    "\n",
    "**Please feel free to propose new schools and/or update the list here.**\n",
    "\n",
    "**AI/ML courses.**\n",
    "\n",
    "1. The FRIB-TA Summer School: Machine Learning Applied to Nuclear Physics, FRIB/NSCL (MSU)from May 20 to 23, 2019; organizers and teachers: Matthew Hirn (MSU), Morten Hjorth-Jensen (MSU) and Michelle Kuchera (Davidson)\n",
    "\n",
    "2. Nuclear TALENT course Learning from Data: Bayesian Methods and Machine Learning, in York, UK, June 10-28, 2019; Teachers and organizers Christian Forssén, Chalmers University of Technology, Sweden, Dick Furnstahl, Ohio State University, USA, Daniel Phillips, Ohio University, USA\n",
    "\n",
    "3. Nuclear TALENT School on Machine learning from 22 June 2020 to 03 July 2020. Teachers and organizers: Daniel Bazin (MSU), Morten Hjorth-Jensen (MSU), Michelle Kuchera (Davidson), Sean Liddick (MSU), Raghuram Ramanujan (Davidson)\n",
    "\n",
    "4. Nuclear TALENT School on Machine learning from 19 July 2021 to  30 July 2021. Teachers and organizers: Daniel Bazin (MSU), Morten Hjorth-Jensen (MSU), Michelle Kuchera (Davidson), Sean Liddick (MSU), Raghuram Ramanujan (Davidson)\n",
    "\n",
    "5. Intensive course on Machine Learning at FRIB/MSU, summer 2019; teacher Morten Hjorth-Jensen, MSU\n",
    "\n",
    "6. Four two-week intensive course on Machine Learning for Nuclear Physics held at Ganil, France, 2019, 2020, 2021 and 2022. Teacher and organizer Morten Hjorth-Jensen (MSU)\n",
    "\n",
    "7. AI4NP Winter School, 11-15 Jan 2021, (Virtual). Organizers Amber Boehnlein (JLAB), Paulo Bedaque (University of Maryland), Tanja Horn (Catholic University of America)\n",
    "\n",
    "8. 2022?"
   ]
  },
  {
   "cell_type": "markdown",
   "id": "b027e8da",
   "metadata": {
    "editable": true
   },
   "source": [
    "## Additional material"
   ]
  },
  {
   "cell_type": "markdown",
   "id": "c67e6328",
   "metadata": {
    "editable": true
   },
   "source": [
    "## Addendum: Quantum Monte Carlo Motivation\n",
    "Given a hamiltonian $H$ and a trial wave function $\\Psi_T$, the variational principle states that the expectation value of $\\langle H \\rangle$, defined through"
   ]
  },
  {
   "cell_type": "markdown",
   "id": "5bf3c2f0",
   "metadata": {
    "editable": true
   },
   "source": [
    "$$\n",
    "\\langle E \\rangle =\n",
    "   \\frac{\\int d\\boldsymbol{R}\\Psi^{\\ast}_T(\\boldsymbol{R})H(\\boldsymbol{R})\\Psi_T(\\boldsymbol{R})}\n",
    "        {\\int d\\boldsymbol{R}\\Psi^{\\ast}_T(\\boldsymbol{R})\\Psi_T(\\boldsymbol{R})},\n",
    "$$"
   ]
  },
  {
   "cell_type": "markdown",
   "id": "83d0eb42",
   "metadata": {
    "editable": true
   },
   "source": [
    "is an upper bound to the ground state energy $E_0$ of the hamiltonian $H$, that is"
   ]
  },
  {
   "cell_type": "markdown",
   "id": "51dbe8d5",
   "metadata": {
    "editable": true
   },
   "source": [
    "$$\n",
    "E_0 \\le \\langle E \\rangle.\n",
    "$$"
   ]
  },
  {
   "cell_type": "markdown",
   "id": "078ca5d3",
   "metadata": {
    "editable": true
   },
   "source": [
    "In general, the integrals involved in the calculation of various  expectation values  are multi-dimensional ones. Traditional integration methods such as the Gauss-Legendre will not be adequate for say the  computation of the energy of a many-body system."
   ]
  },
  {
   "cell_type": "markdown",
   "id": "6c90f9ae",
   "metadata": {
    "editable": true
   },
   "source": [
    "## Quantum Monte Carlo Motivation\n",
    "**Basic steps.**\n",
    "\n",
    "Choose a trial wave function\n",
    "$\\psi_T(\\boldsymbol{R})$."
   ]
  },
  {
   "cell_type": "markdown",
   "id": "7bc7b8f2",
   "metadata": {
    "editable": true
   },
   "source": [
    "$$\n",
    "P(\\boldsymbol{R},\\boldsymbol{\\alpha})= \\frac{\\left|\\psi_T(\\boldsymbol{R},\\boldsymbol{\\alpha})\\right|^2}{\\int \\left|\\psi_T(\\boldsymbol{R},\\boldsymbol{\\alpha})\\right|^2d\\boldsymbol{R}}.\n",
    "$$"
   ]
  },
  {
   "cell_type": "markdown",
   "id": "7d7d8383",
   "metadata": {
    "editable": true
   },
   "source": [
    "This is our model, or likelihood/probability distribution function  (PDF). It depends on some variational parameters $\\boldsymbol{\\alpha}$.\n",
    "The approximation to the expectation value of the Hamiltonian is now"
   ]
  },
  {
   "cell_type": "markdown",
   "id": "cde55280",
   "metadata": {
    "editable": true
   },
   "source": [
    "$$\n",
    "\\langle E[\\boldsymbol{\\alpha}] \\rangle = \n",
    "   \\frac{\\int d\\boldsymbol{R}\\Psi^{\\ast}_T(\\boldsymbol{R},\\boldsymbol{\\alpha})H(\\boldsymbol{R})\\Psi_T(\\boldsymbol{R},\\boldsymbol{\\alpha})}\n",
    "        {\\int d\\boldsymbol{R}\\Psi^{\\ast}_T(\\boldsymbol{R},\\boldsymbol{\\alpha})\\Psi_T(\\boldsymbol{R},\\boldsymbol{\\alpha})}.\n",
    "$$"
   ]
  },
  {
   "cell_type": "markdown",
   "id": "fbf3e696",
   "metadata": {
    "editable": true
   },
   "source": [
    "## Quantum Monte Carlo Motivation\n",
    "**Define a new quantity.**"
   ]
  },
  {
   "cell_type": "markdown",
   "id": "1db971a4",
   "metadata": {
    "editable": true
   },
   "source": [
    "$$\n",
    "E_L(\\boldsymbol{R},\\boldsymbol{\\alpha})=\\frac{1}{\\psi_T(\\boldsymbol{R},\\boldsymbol{\\alpha})}H\\psi_T(\\boldsymbol{R},\\boldsymbol{\\alpha}),\n",
    "$$"
   ]
  },
  {
   "cell_type": "markdown",
   "id": "9e884d44",
   "metadata": {
    "editable": true
   },
   "source": [
    "called the local energy, which, together with our trial PDF yields"
   ]
  },
  {
   "cell_type": "markdown",
   "id": "7fd4fa33",
   "metadata": {
    "editable": true
   },
   "source": [
    "$$\n",
    "\\langle E[\\boldsymbol{\\alpha}] \\rangle=\\int P(\\boldsymbol{R})E_L(\\boldsymbol{R},\\boldsymbol{\\alpha}) d\\boldsymbol{R}\\approx \\frac{1}{N}\\sum_{i=1}^NE_L(\\boldsymbol{R_i},\\boldsymbol{\\alpha})\n",
    "$$"
   ]
  },
  {
   "cell_type": "markdown",
   "id": "ad16a468",
   "metadata": {
    "editable": true
   },
   "source": [
    "with $N$ being the number of Monte Carlo samples."
   ]
  },
  {
   "cell_type": "markdown",
   "id": "2313d44d",
   "metadata": {
    "editable": true
   },
   "source": [
    "## The trial wave function\n",
    "We want to perform  a Variational Monte Carlo calculation of the ground state of two electrons in a quantum dot well with different oscillator energies, assuming total spin $S=0$.\n",
    "Our trial wave function has the following form"
   ]
  },
  {
   "cell_type": "markdown",
   "id": "b74484ff",
   "metadata": {
    "editable": true
   },
   "source": [
    "<!-- Equation labels as ordinary links -->\n",
    "<div id=\"eq:trial\"></div>\n",
    "\n",
    "$$\n",
    "\\begin{equation}\n",
    "   \\psi_{T}(\\boldsymbol{r}_1,\\boldsymbol{r}_2) = \n",
    "   C\\exp{\\left(-\\alpha_1\\omega(r_1^2+r_2^2)/2\\right)}\n",
    "   \\exp{\\left(\\frac{r_{12}}{(1+\\alpha_2 r_{12})}\\right)}, \n",
    "\\label{eq:trial} \\tag{3}\n",
    "\\end{equation}\n",
    "$$"
   ]
  },
  {
   "cell_type": "markdown",
   "id": "a1dcd5a9",
   "metadata": {
    "editable": true
   },
   "source": [
    "where the variables $\\alpha_1$ and $\\alpha_2$ represent our variational parameters.\n",
    "\n",
    "Why does the trial function look like this? How did we get there? **This is one of our main motivations** for switching to\n",
    "Machine Learning."
   ]
  },
  {
   "cell_type": "markdown",
   "id": "3034b4bb",
   "metadata": {
    "editable": true
   },
   "source": [
    "## The correlation part of the wave function\n",
    "\n",
    "To find an ansatz for the correlated part of the wave function, it is useful to rewrite the two-particle\n",
    "local energy in terms of the relative and center-of-mass motion.\n",
    "Let us denote the distance between the two electrons as\n",
    "$r_{12}$. We omit the center-of-mass motion since we are only interested in the case when\n",
    "$r_{12} \\rightarrow 0$. The contribution from the center-of-mass (CoM) variable $\\boldsymbol{R}_{\\mathrm{CoM}}$\n",
    "gives only a finite contribution.\n",
    "We focus only on the terms that are relevant for $r_{12}$ and for three dimensions. The relevant local energy operator becomes then (with $l=0$)"
   ]
  },
  {
   "cell_type": "markdown",
   "id": "85cb5e1b",
   "metadata": {
    "editable": true
   },
   "source": [
    "$$\n",
    "\\lim_{r_{12} \\rightarrow 0}E_L(R)=\n",
    "    \\frac{1}{R_T(r_{12})}\\left(-2\\frac{d^2}{dr_{ij}^2}-\\frac{4}{r_{ij}}\\frac{d}{dr_{ij}}+\n",
    "\\frac{2}{r_{ij}}\\right)R_T(r_{12}).\n",
    "$$"
   ]
  },
  {
   "cell_type": "markdown",
   "id": "c1892b09",
   "metadata": {
    "editable": true
   },
   "source": [
    "In order to avoid divergencies when $r_{12}\\rightarrow 0$ we obtain  the so-called **cusp** condition"
   ]
  },
  {
   "cell_type": "markdown",
   "id": "17f4303f",
   "metadata": {
    "editable": true
   },
   "source": [
    "$$\n",
    "\\frac{d R_T(r_{12})}{dr_{12}} = \\frac{1}{2}\n",
    "R_T(r_{12})\\qquad r_{12}\\to 0\n",
    "$$"
   ]
  },
  {
   "cell_type": "markdown",
   "id": "914fe43d",
   "metadata": {
    "editable": true
   },
   "source": [
    "## Resulting ansatz\n",
    "The above  results in"
   ]
  },
  {
   "cell_type": "markdown",
   "id": "23167a4f",
   "metadata": {
    "editable": true
   },
   "source": [
    "$$\n",
    "R_T  \\propto \\exp{(r_{ij}/2)},\n",
    "$$"
   ]
  },
  {
   "cell_type": "markdown",
   "id": "aee96349",
   "metadata": {
    "editable": true
   },
   "source": [
    "for anti-parallel spins and"
   ]
  },
  {
   "cell_type": "markdown",
   "id": "2e2b6c01",
   "metadata": {
    "editable": true
   },
   "source": [
    "$$\n",
    "R_T  \\propto \\exp{(r_{ij}/4)},\n",
    "$$"
   ]
  },
  {
   "cell_type": "markdown",
   "id": "a72c0d37",
   "metadata": {
    "editable": true
   },
   "source": [
    "for anti-parallel spins. \n",
    "This is the so-called cusp condition for the relative motion, resulting in a minimal requirement\n",
    "for the correlation part of the wave fuction.\n",
    "For general systems containing more than say two electrons, we have this\n",
    "condition for each electron pair $ij$."
   ]
  },
  {
   "cell_type": "markdown",
   "id": "399ce74c",
   "metadata": {
    "editable": true
   },
   "source": [
    "## Energy derivatives\n",
    "To find the derivatives of the local energy expectation value as function of the variational parameters, we can use the chain rule and the hermiticity of the Hamiltonian.  \n",
    "\n",
    "Let us define (with the notation $\\langle E[\\boldsymbol{\\alpha}]\\rangle =\\langle  E_L\\rangle$)"
   ]
  },
  {
   "cell_type": "markdown",
   "id": "e6a3855b",
   "metadata": {
    "editable": true
   },
   "source": [
    "$$\n",
    "\\bar{E}_{\\alpha_i}=\\frac{d\\langle  E_L\\rangle}{d\\alpha_i},\n",
    "$$"
   ]
  },
  {
   "cell_type": "markdown",
   "id": "476608d6",
   "metadata": {
    "editable": true
   },
   "source": [
    "as the derivative of the energy with respect to the variational parameter $\\alpha_i$\n",
    "We define also the derivative of the trial function (skipping the subindex $T$) as"
   ]
  },
  {
   "cell_type": "markdown",
   "id": "54eaf5e4",
   "metadata": {
    "editable": true
   },
   "source": [
    "$$\n",
    "\\bar{\\Psi}_{i}=\\frac{d\\Psi}{d\\alpha_i}.\n",
    "$$"
   ]
  },
  {
   "cell_type": "markdown",
   "id": "b598b99c",
   "metadata": {
    "editable": true
   },
   "source": [
    "## Derivatives of the local energy\n",
    "The elements of the gradient of the local energy are then (using the chain rule and the hermiticity of the Hamiltonian)"
   ]
  },
  {
   "cell_type": "markdown",
   "id": "eb6b764a",
   "metadata": {
    "editable": true
   },
   "source": [
    "$$\n",
    "\\bar{E}_{i}= 2\\left( \\langle \\frac{\\bar{\\Psi}_{i}}{\\Psi}E_L\\rangle -\\langle \\frac{\\bar{\\Psi}_{i}}{\\Psi}\\rangle\\langle E_L \\rangle\\right).\n",
    "$$"
   ]
  },
  {
   "cell_type": "markdown",
   "id": "87b9b5b6",
   "metadata": {
    "editable": true
   },
   "source": [
    "From a computational point of view it means that you need to compute the expectation values of"
   ]
  },
  {
   "cell_type": "markdown",
   "id": "66a6b66e",
   "metadata": {
    "editable": true
   },
   "source": [
    "$$\n",
    "\\langle \\frac{\\bar{\\Psi}_{i}}{\\Psi}E_L\\rangle,\n",
    "$$"
   ]
  },
  {
   "cell_type": "markdown",
   "id": "a21a8614",
   "metadata": {
    "editable": true
   },
   "source": [
    "and"
   ]
  },
  {
   "cell_type": "markdown",
   "id": "6981c362",
   "metadata": {
    "editable": true
   },
   "source": [
    "$$\n",
    "\\langle \\frac{\\bar{\\Psi}_{i}}{\\Psi}\\rangle\\langle E_L\\rangle\n",
    "$$"
   ]
  },
  {
   "cell_type": "markdown",
   "id": "23b61efb",
   "metadata": {
    "editable": true
   },
   "source": [
    "These integrals are evaluted using MC intergration (with all its possible error sources). \n",
    "We can then use methods like stochastic gradient or other minimization methods to find the optimal variational parameters (I don't discuss this topic here, but these methods are very important in ML)."
   ]
  },
  {
   "cell_type": "markdown",
   "id": "faca038f",
   "metadata": {
    "editable": true
   },
   "source": [
    "## How do we define our cost function?\n",
    "We have a model, our likelihood function. \n",
    "\n",
    "How should we define the cost function?"
   ]
  },
  {
   "cell_type": "markdown",
   "id": "4aa9ffec",
   "metadata": {
    "editable": true
   },
   "source": [
    "## Meet the variance and its derivatives\n",
    "**Why the variance?**\n",
    "\n",
    "Suppose the trial function (our model) is the exact wave function. The action of the hamiltionan\n",
    "on the wave function"
   ]
  },
  {
   "cell_type": "markdown",
   "id": "3366b58a",
   "metadata": {
    "editable": true
   },
   "source": [
    "$$\n",
    "H\\Psi = \\mathrm{constant}\\times \\Psi,\n",
    "$$"
   ]
  },
  {
   "cell_type": "markdown",
   "id": "1f813c43",
   "metadata": {
    "editable": true
   },
   "source": [
    "The integral which defines various \n",
    "expectation values involving moments of the hamiltonian becomes then"
   ]
  },
  {
   "cell_type": "markdown",
   "id": "73912046",
   "metadata": {
    "editable": true
   },
   "source": [
    "$$\n",
    "\\langle E^n \\rangle =   \\langle H^n \\rangle =\n",
    "   \\frac{\\int d\\boldsymbol{R}\\Psi^{\\ast}(\\boldsymbol{R})H^n(\\boldsymbol{R})\\Psi(\\boldsymbol{R})}\n",
    "        {\\int d\\boldsymbol{R}\\Psi^{\\ast}(\\boldsymbol{R})\\Psi(\\boldsymbol{R})}=\n",
    "\\mathrm{constant}\\times\\frac{\\int d\\boldsymbol{R}\\Psi^{\\ast}(\\boldsymbol{R})\\Psi(\\boldsymbol{R})}\n",
    "        {\\int d\\boldsymbol{R}\\Psi^{\\ast}(\\boldsymbol{R})\\Psi(\\boldsymbol{R})}=\\mathrm{constant}.\n",
    "$$"
   ]
  },
  {
   "cell_type": "markdown",
   "id": "a4f5e868",
   "metadata": {
    "editable": true
   },
   "source": [
    "**This gives an important information: If I want the variance, the exact wave function leads to zero variance!**\n",
    "The variance is defined as"
   ]
  },
  {
   "cell_type": "markdown",
   "id": "4a37a528",
   "metadata": {
    "editable": true
   },
   "source": [
    "$$\n",
    "\\sigma_E = \\langle E^2\\rangle - \\langle E\\rangle^2.\n",
    "$$"
   ]
  },
  {
   "cell_type": "markdown",
   "id": "02a9c438",
   "metadata": {
    "editable": true
   },
   "source": [
    "Variation is then performed by minimizing both the energy and the variance."
   ]
  },
  {
   "cell_type": "markdown",
   "id": "426254ae",
   "metadata": {
    "editable": true
   },
   "source": [
    "## The variance defines the cost function\n",
    "We can then take the derivatives of"
   ]
  },
  {
   "cell_type": "markdown",
   "id": "4db4f70d",
   "metadata": {
    "editable": true
   },
   "source": [
    "$$\n",
    "\\sigma_E = \\langle E^2\\rangle - \\langle E\\rangle^2,\n",
    "$$"
   ]
  },
  {
   "cell_type": "markdown",
   "id": "4df1aec0",
   "metadata": {
    "editable": true
   },
   "source": [
    "with respect to the variational parameters. The derivatives of the variance can then be used to defined the\n",
    "so-called Hessian matrix, which in turn allows us to use minimization methods like Newton's method or \n",
    "standard gradient methods. \n",
    "\n",
    "This leads to however a more complicated expression, with obvious errors when evaluating integrals by Monte Carlo integration. Less used, see however [Filippi and Umrigar](https://journals.aps.org/prl/abstract/10.1103/PhysRevLett.94.150201). The expression becomes complicated"
   ]
  },
  {
   "cell_type": "markdown",
   "id": "fcb2ec23",
   "metadata": {
    "editable": true
   },
   "source": [
    "<!-- Equation labels as ordinary links -->\n",
    "<div id=\"_auto3\"></div>\n",
    "\n",
    "$$\n",
    "\\begin{equation}\n",
    "\\bar{E}_{ij} = 2\\left[ \\langle (\\frac{\\bar{\\Psi}_{ij}}{\\Psi}+\\frac{\\bar{\\Psi}_{j}}{\\Psi}\\frac{\\bar{\\Psi}_{i}}{\\Psi})(E_L-\\langle E\\rangle)\\rangle -\\langle \\frac{\\bar{\\Psi}_{i}}{\\Psi}\\rangle\\bar{E}_j-\\langle \\frac{\\bar{\\Psi}_{j}}{\\Psi}\\rangle\\bar{E}_i\\right] \n",
    "\\label{_auto3} \\tag{4}\n",
    "\\end{equation}\n",
    "$$"
   ]
  },
  {
   "cell_type": "markdown",
   "id": "819ecc3b",
   "metadata": {
    "editable": true
   },
   "source": [
    "$$\n",
    "\\nonumber\n",
    "+\\langle \\frac{\\bar{\\Psi}_{i}}{\\Psi}E_L{_j}\\rangle +\\langle \\frac{\\bar{\\Psi}_{j}}{\\Psi}E_L{_i}\\rangle -\\langle \\frac{\\bar{\\Psi}_{i}}{\\Psi}\\rangle\\langle E_L{_j}\\rangle \\langle \\frac{\\bar{\\Psi}_{j}}{\\Psi}\\rangle\\langle E_L{_i}\\rangle.\n",
    "$$"
   ]
  },
  {
   "cell_type": "markdown",
   "id": "b08a6fe7",
   "metadata": {
    "editable": true
   },
   "source": [
    "Evaluating the cost function means having to evaluate the above second derivative of the energy."
   ]
  },
  {
   "cell_type": "markdown",
   "id": "9060eaca",
   "metadata": {
    "editable": true
   },
   "source": [
    "## Why Boltzmann machines?\n",
    "\n",
    "What is known as restricted Boltzmann Machines (RMB) have received a\n",
    "lot of attention lately.  One of the major reasons is that they can be\n",
    "stacked layer-wise to build deep neural networks that capture\n",
    "complicated statistics.\n",
    "\n",
    "The original RBMs had just one visible layer and a hidden layer, but\n",
    "recently so-called Gaussian-binary RBMs have gained quite some\n",
    "popularity in imaging since they are capable of modeling continuous\n",
    "data that are common to natural images.\n",
    "\n",
    "Furthermore, they have been used to solve complicated quantum\n",
    "mechanical many-particle problems or classical statistical physics\n",
    "problems like the Ising and Potts classes of models."
   ]
  },
  {
   "cell_type": "markdown",
   "id": "69165ab7",
   "metadata": {
    "editable": true
   },
   "source": [
    "## A standard BM setup\n",
    "\n",
    "A standard BM network is divided into a set of observable and visible units $\\hat{x}$ and a set of unknown hidden units/nodes $\\hat{h}$.\n",
    "\n",
    "Additionally there can be bias nodes for the hidden and visible layers. These biases are normally set to $1$.\n",
    "\n",
    "BMs are stackable, meaning we can train a BM which serves as input to another BM. We can construct deep networks for learning complex PDFs. The layers can be trained one after another, a feature which makes them popular in deep learning\n",
    "\n",
    "However, they are often hard to train. This leads to the introduction of so-called restricted BMs, or RBMS.\n",
    "Here we take away all lateral connections between nodes in the visible layer as well as connections between nodes in the hidden layer. The network is illustrated in the figure below."
   ]
  },
  {
   "cell_type": "markdown",
   "id": "7f29bdfd",
   "metadata": {
    "editable": true
   },
   "source": [
    "## The structure of the RBM network\n",
    "\n",
    "<!-- dom:FIGURE: [figures/RBM.png, width=800 frac=1.0] -->\n",
    "<!-- begin figure -->\n",
    "\n",
    "<img src=\"figures/RBM.png\" width=\"800\"><p style=\"font-size: 0.9em\"><i>Figure 1: </i></p>\n",
    "<!-- end figure -->"
   ]
  },
  {
   "cell_type": "markdown",
   "id": "b9b99112",
   "metadata": {
    "editable": true
   },
   "source": [
    "## The network\n",
    "\n",
    "**The network layers**:\n",
    "1. A function $\\mathbf{x}$ that represents the visible layer, a vector of $M$ elements (nodes). This layer represents both what the RBM might be given as training input, and what we want it to be able to reconstruct. This might for example be the pixels of an image, the spin values of the Ising model, or coefficients representing speech.\n",
    "\n",
    "2. The function $\\mathbf{h}$ represents the hidden, or latent, layer. A vector of $N$ elements (nodes). Also called \"feature detectors\"."
   ]
  },
  {
   "cell_type": "markdown",
   "id": "fa845be0",
   "metadata": {
    "editable": true
   },
   "source": [
    "## Joint distribution\n",
    "\n",
    "The restricted Boltzmann machine is described by a Boltzmann distribution"
   ]
  },
  {
   "cell_type": "markdown",
   "id": "c599ff3e",
   "metadata": {
    "editable": true
   },
   "source": [
    "<!-- Equation labels as ordinary links -->\n",
    "<div id=\"_auto4\"></div>\n",
    "\n",
    "$$\n",
    "\\begin{equation}\n",
    "\tP_{rbm}(\\mathbf{x},\\mathbf{h}) = \\frac{1}{Z} e^{-\\frac{1}{T_0}E(\\mathbf{x},\\mathbf{h})},\n",
    "\\label{_auto4} \\tag{5}\n",
    "\\end{equation}\n",
    "$$"
   ]
  },
  {
   "cell_type": "markdown",
   "id": "82c95490",
   "metadata": {
    "editable": true
   },
   "source": [
    "where $Z$ is the normalization constant or partition function, defined as"
   ]
  },
  {
   "cell_type": "markdown",
   "id": "8bb4a4d9",
   "metadata": {
    "editable": true
   },
   "source": [
    "<!-- Equation labels as ordinary links -->\n",
    "<div id=\"_auto5\"></div>\n",
    "\n",
    "$$\n",
    "\\begin{equation}\n",
    "\tZ = \\int \\int e^{-\\frac{1}{T_0}E(\\mathbf{x},\\mathbf{h})} d\\mathbf{x} d\\mathbf{h}.\n",
    "\\label{_auto5} \\tag{6}\n",
    "\\end{equation}\n",
    "$$"
   ]
  },
  {
   "cell_type": "markdown",
   "id": "fae07804",
   "metadata": {
    "editable": true
   },
   "source": [
    "It is common to ignore $T_0$ by setting it to one."
   ]
  },
  {
   "cell_type": "markdown",
   "id": "3a1a1b4e",
   "metadata": {
    "editable": true
   },
   "source": [
    "## Defining different types of RBMs\n",
    "\n",
    "There are different variants of RBMs, and the differences lie in the types of visible and hidden units we choose as well as in the implementation of the energy function $E(\\mathbf{x},\\mathbf{h})$. \n",
    "\n",
    "**Binary-Binary RBM:**\n",
    "\n",
    "RBMs were first developed using binary units in both the visible and hidden layer. The corresponding energy function is defined as follows:"
   ]
  },
  {
   "cell_type": "markdown",
   "id": "6559a517",
   "metadata": {
    "editable": true
   },
   "source": [
    "<!-- Equation labels as ordinary links -->\n",
    "<div id=\"_auto6\"></div>\n",
    "\n",
    "$$\n",
    "\\begin{equation}\n",
    "\tE(\\mathbf{x}, \\mathbf{h}) = - \\sum_i^M x_i a_i- \\sum_j^N b_j h_j - \\sum_{i,j}^{M,N} x_i w_{ij} h_j,\n",
    "\\label{_auto6} \\tag{7}\n",
    "\\end{equation}\n",
    "$$"
   ]
  },
  {
   "cell_type": "markdown",
   "id": "a9113d9d",
   "metadata": {
    "editable": true
   },
   "source": [
    "where the binary values taken on by the nodes are most commonly 0 and 1.\n",
    "\n",
    "**Gaussian-Binary RBM:**\n",
    "\n",
    "Another variant is the RBM where the visible units are Gaussian while the hidden units remain binary:"
   ]
  },
  {
   "cell_type": "markdown",
   "id": "8cf268c2",
   "metadata": {
    "editable": true
   },
   "source": [
    "<!-- Equation labels as ordinary links -->\n",
    "<div id=\"_auto7\"></div>\n",
    "\n",
    "$$\n",
    "\\begin{equation}\n",
    "\tE(\\mathbf{x}, \\mathbf{h}) = \\sum_i^M \\frac{(x_i - a_i)^2}{2\\sigma_i^2} - \\sum_j^N b_j h_j - \\sum_{i,j}^{M,N} \\frac{x_i w_{ij} h_j}{\\sigma_i^2}. \n",
    "\\label{_auto7} \\tag{8}\n",
    "\\end{equation}\n",
    "$$"
   ]
  },
  {
   "cell_type": "markdown",
   "id": "dd7fc167",
   "metadata": {
    "editable": true
   },
   "source": [
    "## Representing the wave function\n",
    "\n",
    "The wavefunction should be a probability amplitude depending on $\\boldsymbol{x}$. The RBM model is given by the joint distribution of $\\boldsymbol{x}$ and $\\boldsymbol{h}$"
   ]
  },
  {
   "cell_type": "markdown",
   "id": "697b5316",
   "metadata": {
    "editable": true
   },
   "source": [
    "<!-- Equation labels as ordinary links -->\n",
    "<div id=\"_auto8\"></div>\n",
    "\n",
    "$$\n",
    "\\begin{equation}\n",
    "\tF_{rbm}(\\mathbf{x},\\mathbf{h}) = \\frac{1}{Z} e^{-\\frac{1}{T_0}E(\\mathbf{x},\\mathbf{h})}.\n",
    "\\label{_auto8} \\tag{9}\n",
    "\\end{equation}\n",
    "$$"
   ]
  },
  {
   "cell_type": "markdown",
   "id": "137b8888",
   "metadata": {
    "editable": true
   },
   "source": [
    "To find the marginal distribution of $\\boldsymbol{x}$ we set:"
   ]
  },
  {
   "cell_type": "markdown",
   "id": "491fb4f6",
   "metadata": {
    "editable": true
   },
   "source": [
    "<!-- Equation labels as ordinary links -->\n",
    "<div id=\"_auto9\"></div>\n",
    "\n",
    "$$\n",
    "\\begin{equation}\n",
    "\tF_{rbm}(\\mathbf{x}) = \\sum_\\mathbf{h} F_{rbm}(\\mathbf{x}, \\mathbf{h}) \n",
    "\\label{_auto9} \\tag{10}\n",
    "\\end{equation}\n",
    "$$"
   ]
  },
  {
   "cell_type": "markdown",
   "id": "42e17a77",
   "metadata": {
    "editable": true
   },
   "source": [
    "<!-- Equation labels as ordinary links -->\n",
    "<div id=\"_auto10\"></div>\n",
    "\n",
    "$$\n",
    "\\begin{equation} \n",
    "\t\t\t\t= \\frac{1}{Z}\\sum_\\mathbf{h} e^{-E(\\mathbf{x}, \\mathbf{h})}.\n",
    "\\label{_auto10} \\tag{11}\n",
    "\\end{equation}\n",
    "$$"
   ]
  },
  {
   "cell_type": "markdown",
   "id": "782c919d",
   "metadata": {
    "editable": true
   },
   "source": [
    "Now this is what we use to represent the wave function, calling it a neural-network quantum state (NQS)"
   ]
  },
  {
   "cell_type": "markdown",
   "id": "ff0b3df3",
   "metadata": {
    "editable": true
   },
   "source": [
    "<!-- Equation labels as ordinary links -->\n",
    "<div id=\"_auto11\"></div>\n",
    "\n",
    "$$\n",
    "\\begin{equation}\n",
    "\t\\Psi (\\mathbf{x}) = F_{rbm}(\\mathbf{x}) \n",
    "\\label{_auto11} \\tag{12}\n",
    "\\end{equation}\n",
    "$$"
   ]
  },
  {
   "cell_type": "markdown",
   "id": "47a941a1",
   "metadata": {
    "editable": true
   },
   "source": [
    "<!-- Equation labels as ordinary links -->\n",
    "<div id=\"_auto12\"></div>\n",
    "\n",
    "$$\n",
    "\\begin{equation} \n",
    "\t= \\frac{1}{Z}\\sum_{\\boldsymbol{h}} e^{-E(\\mathbf{x}, \\mathbf{h})} \n",
    "\\label{_auto12} \\tag{13}\n",
    "\\end{equation}\n",
    "$$"
   ]
  },
  {
   "cell_type": "markdown",
   "id": "3e89e475",
   "metadata": {
    "editable": true
   },
   "source": [
    "<!-- Equation labels as ordinary links -->\n",
    "<div id=\"_auto13\"></div>\n",
    "\n",
    "$$\n",
    "\\begin{equation} \n",
    "\t= \\frac{1}{Z} \\sum_{\\{h_j\\}} e^{-\\sum_i^M \\frac{(x_i - a_i)^2}{2\\sigma^2} + \\sum_j^N b_j h_j + \\sum_{i,j}^{M,N} \\frac{x_i w_{ij} h_j}{\\sigma^2}} \n",
    "\\label{_auto13} \\tag{14}\n",
    "\\end{equation}\n",
    "$$"
   ]
  },
  {
   "cell_type": "markdown",
   "id": "dba80a31",
   "metadata": {
    "editable": true
   },
   "source": [
    "<!-- Equation labels as ordinary links -->\n",
    "<div id=\"_auto14\"></div>\n",
    "\n",
    "$$\n",
    "\\begin{equation} \n",
    "\t= \\frac{1}{Z} e^{-\\sum_i^M \\frac{(x_i - a_i)^2}{2\\sigma^2}} \\prod_j^N (1 + e^{b_j + \\sum_i^M \\frac{x_i w_{ij}}{\\sigma^2}}). \n",
    "\\label{_auto14} \\tag{15}\n",
    "\\end{equation}\n",
    "$$"
   ]
  },
  {
   "cell_type": "markdown",
   "id": "fcb23fb9",
   "metadata": {
    "editable": true
   },
   "source": [
    "<!-- Equation labels as ordinary links -->\n",
    "<div id=\"_auto15\"></div>\n",
    "\n",
    "$$\n",
    "\\begin{equation} \n",
    "\\label{_auto15} \\tag{16}\n",
    "\\end{equation}\n",
    "$$"
   ]
  },
  {
   "cell_type": "markdown",
   "id": "49c426c7",
   "metadata": {
    "editable": true
   },
   "source": [
    "## Choose the cost/loss function\n",
    "\n",
    "Now we don't necessarily have training data (unless we generate it by\n",
    "using some other method). However, what we do have is the variational\n",
    "principle which allows us to obtain the ground state wave function by\n",
    "minimizing the expectation value of the energy of a trial wavefunction\n",
    "(corresponding to the untrained NQS). Similarly to the traditional\n",
    "variational Monte Carlo method then, it is the local energy we wish to\n",
    "minimize. The gradient to use for the stochastic gradient descent\n",
    "procedure is"
   ]
  },
  {
   "cell_type": "markdown",
   "id": "c0e1d72b",
   "metadata": {
    "editable": true
   },
   "source": [
    "<!-- Equation labels as ordinary links -->\n",
    "<div id=\"_auto16\"></div>\n",
    "\n",
    "$$\n",
    "\\begin{equation}\n",
    "\t\\frac{\\partial \\langle E_L \\rangle}{\\partial \\theta_i}\n",
    "\t= 2(\\langle E_L \\frac{1}{\\Psi}\\frac{\\partial \\Psi}{\\partial \\theta_i} \\rangle - \\langle E_L \\rangle \\langle \\frac{1}{\\Psi}\\frac{\\partial \\Psi}{\\partial \\theta_i} \\rangle ),\n",
    "\\label{_auto16} \\tag{17}\n",
    "\\end{equation}\n",
    "$$"
   ]
  },
  {
   "cell_type": "markdown",
   "id": "454100a5",
   "metadata": {
    "editable": true
   },
   "source": [
    "where the local energy is given by"
   ]
  },
  {
   "cell_type": "markdown",
   "id": "9b43bfbb",
   "metadata": {
    "editable": true
   },
   "source": [
    "<!-- Equation labels as ordinary links -->\n",
    "<div id=\"_auto17\"></div>\n",
    "\n",
    "$$\n",
    "\\begin{equation}\n",
    "\tE_L = \\frac{1}{\\Psi} \\hat{\\mathbf{H}} \\Psi.\n",
    "\\label{_auto17} \\tag{18}\n",
    "\\end{equation}\n",
    "$$"
   ]
  },
  {
   "cell_type": "markdown",
   "id": "59b577f1",
   "metadata": {
    "editable": true
   },
   "source": [
    "## Electrons in a harmonic oscillator trap in two dimensions\n",
    "\n",
    "The Hamiltonian of the quantum dot is given by"
   ]
  },
  {
   "cell_type": "markdown",
   "id": "61e077cf",
   "metadata": {
    "editable": true
   },
   "source": [
    "$$\n",
    "\\hat{H} = \\hat{H}_0 + \\hat{V},\n",
    "$$"
   ]
  },
  {
   "cell_type": "markdown",
   "id": "c229f075",
   "metadata": {
    "editable": true
   },
   "source": [
    "where $\\hat{H}_0$ is the many-body HO Hamiltonian, and $\\hat{V}$ is the\n",
    "inter-electron Coulomb interactions. In dimensionless units,"
   ]
  },
  {
   "cell_type": "markdown",
   "id": "c00b51fb",
   "metadata": {
    "editable": true
   },
   "source": [
    "$$\n",
    "\\hat{V}= \\sum_{i < j}^N \\frac{1}{r_{ij}},\n",
    "$$"
   ]
  },
  {
   "cell_type": "markdown",
   "id": "d17eeed2",
   "metadata": {
    "editable": true
   },
   "source": [
    "with $r_{ij}=\\sqrt{\\mathbf{r}_i^2 - \\mathbf{r}_j^2}$.\n",
    "\n",
    "This leads to the  separable Hamiltonian, with the relative motion part given by ($r_{ij}=r$)"
   ]
  },
  {
   "cell_type": "markdown",
   "id": "9b122a56",
   "metadata": {
    "editable": true
   },
   "source": [
    "$$\n",
    "\\hat{H}_r=-\\nabla^2_r + \\frac{1}{4}\\omega^2r^2+ \\frac{1}{r},\n",
    "$$"
   ]
  },
  {
   "cell_type": "markdown",
   "id": "b47e9665",
   "metadata": {
    "editable": true
   },
   "source": [
    "plus a standard Harmonic Oscillator problem  for the center-of-mass motion.\n",
    "This system has analytical solutions in two and three dimensions ([M. Taut 1993 and 1994](https://journals.aps.org/pra/abstract/10.1103/PhysRevA.48.3561))."
   ]
  },
  {
   "cell_type": "markdown",
   "id": "8d14d7ea",
   "metadata": {
    "editable": true
   },
   "source": [
    "## Quantum dots and Boltzmann machines, onebody densities $N=6$, $\\hbar\\omega=0.1$ a.u.\n",
    "\n",
    "<!-- dom:FIGURE: [figures/OB6hw01.png, width=700 frac=0.9] -->\n",
    "<!-- begin figure -->\n",
    "\n",
    "<img src=\"figures/OB6hw01.png\" width=\"700\"><p style=\"font-size: 0.9em\"><i>Figure 1: </i></p>\n",
    "<!-- end figure -->"
   ]
  },
  {
   "cell_type": "markdown",
   "id": "df191c7c",
   "metadata": {
    "editable": true
   },
   "source": [
    "## Onebody densities $N=30$, $\\hbar\\omega=1.0$ a.u.\n",
    "<!-- dom:FIGURE: [figures/OB30hw1.png, width=700 frac=0.9] -->\n",
    "<!-- begin figure -->\n",
    "\n",
    "<img src=\"figures/OB30hw1.png\" width=\"700\"><p style=\"font-size: 0.9em\"><i>Figure 1: </i></p>\n",
    "<!-- end figure -->"
   ]
  },
  {
   "cell_type": "markdown",
   "id": "d6656237",
   "metadata": {
    "editable": true
   },
   "source": [
    "## Onebody densities $N=30$, $\\hbar\\omega=0.1$ a.u.\n",
    "<!-- dom:FIGURE: [figures/OB30hw01.png, width=700 frac=0.9] -->\n",
    "<!-- begin figure -->\n",
    "\n",
    "<img src=\"figures/OB30hw01.png\" width=\"700\"><p style=\"font-size: 0.9em\"><i>Figure 1: </i></p>\n",
    "<!-- end figure -->"
   ]
  },
  {
   "cell_type": "markdown",
   "id": "8cf3b66b",
   "metadata": {
    "editable": true
   },
   "source": [
    "## Neutron matter with $N=14$ neutron\n",
    "Jane Kim, Bryce Fore, Alessandro Lovato and MHJ, in preparation\n",
    "<!-- dom:FIGURE: [figslides/04.png, width=700 frac=0.9] -->\n",
    "<!-- begin figure -->\n",
    "\n",
    "<img src=\"figslides/04.png\" width=\"700\"><p style=\"font-size: 0.9em\"><i>Figure 1: </i></p>\n",
    "<!-- end figure -->"
   ]
  },
  {
   "cell_type": "markdown",
   "id": "232c706f",
   "metadata": {
    "editable": true
   },
   "source": [
    "## Neutron matter with $N=14$ neutron\n",
    "Jane Kim, Bryce Fore, Alessandro Lovato and MHJ, in preparation\n",
    "<!-- dom:FIGURE: [figslides/08.png, width=700 frac=0.9] -->\n",
    "<!-- begin figure -->\n",
    "\n",
    "<img src=\"figslides/08.png\" width=\"700\"><p style=\"font-size: 0.9em\"><i>Figure 1: </i></p>\n",
    "<!-- end figure -->"
   ]
  },
  {
   "cell_type": "markdown",
   "id": "e2650847",
   "metadata": {
    "editable": true
   },
   "source": [
    "## Neutron matter with $N=14$ neutron\n",
    "Jane Kim, Bryce Fore, Alessandro Lovato and MHJ, in preparation\n",
    "<!-- dom:FIGURE: [figslides/12.png, width=700 frac=0.9] -->\n",
    "<!-- begin figure -->\n",
    "\n",
    "<img src=\"figslides/12.png\" width=\"700\"><p style=\"font-size: 0.9em\"><i>Figure 1: </i></p>\n",
    "<!-- end figure -->"
   ]
  },
  {
   "cell_type": "markdown",
   "id": "4ebf0b01",
   "metadata": {
    "editable": true
   },
   "source": [
    "## The electron gas in three dimensions with $N=14$ electrons (Various Wigner-Seitz  Radii)\n",
    "Jane Kim, Bryce Fore, Alessandro Lovato and MHJ, in preparation and [Nordhagen, Kim, Fore, Lovato and MHJ, ArXiv 2210.00365](https://arxiv.org/abs/2210.00365)\n",
    "<!-- dom:FIGURE: [figslides/periodic_input_rs0.25.png, width=700 frac=0.9] -->\n",
    "<!-- begin figure -->\n",
    "\n",
    "<img src=\"figslides/periodic_input_rs0.25.png\" width=\"700\"><p style=\"font-size: 0.9em\"><i>Figure 1: </i></p>\n",
    "<!-- end figure -->"
   ]
  },
  {
   "cell_type": "markdown",
   "id": "8b7ea104",
   "metadata": {
    "editable": true
   },
   "source": [
    "## The electron gas in three dimensions with $N=14$ electrons (Various Wigner-Seitz  Radii)\n",
    "Jane Kim, Bryce Fore, Alessandro Lovato and MHJ, in preparation and [Nordhagen, Kim, Fore, Lovato and MHJ, ArXiv 2210.00365](https://arxiv.org/abs/2210.00365)\n",
    "<!-- dom:FIGURE: [figslides/periodic_input_rs0.50.png, width=700 frac=0.9] -->\n",
    "<!-- begin figure -->\n",
    "\n",
    "<img src=\"figslides/periodic_input_rs0.50.png\" width=\"700\"><p style=\"font-size: 0.9em\"><i>Figure 1: </i></p>\n",
    "<!-- end figure -->"
   ]
  },
  {
   "cell_type": "markdown",
   "id": "551ff1dc",
   "metadata": {
    "editable": true
   },
   "source": [
    "## The electron gas in three dimensions with $N=14$ electrons (Various Wigner-Seitz  Radii)\n",
    "Jane Kim, Bryce Fore, Alessandro Lovato and MHJ, in preparation and [Nordhagen, Kim, Fore, Lovato and MHJ, ArXiv 2210.00365](https://arxiv.org/abs/2210.00365)\n",
    "<!-- dom:FIGURE: [figslides/periodic_input_rs0.75.png, width=700 frac=0.9] -->\n",
    "<!-- begin figure -->\n",
    "\n",
    "<img src=\"figslides/periodic_input_rs0.75.png\" width=\"700\"><p style=\"font-size: 0.9em\"><i>Figure 1: </i></p>\n",
    "<!-- end figure -->"
   ]
  },
  {
   "cell_type": "markdown",
   "id": "59f10cf2",
   "metadata": {
    "editable": true
   },
   "source": [
    "## The electron gas in three dimensions with $N=14$ electrons (Various Wigner-Seitz  Radii)\n",
    "Jane Kim, Bryce Fore, Alessandro Lovato and MHJ, in preparation and [Nordhagen, Kim, Fore, Lovato and MHJ, ArXiv 2210.00365](https://arxiv.org/abs/2210.00365)\n",
    "<!-- dom:FIGURE: [figslides/periodic_input_rs1.00.png, width=700 frac=0.9] -->\n",
    "<!-- begin figure -->\n",
    "\n",
    "<img src=\"figslides/periodic_input_rs1.00.png\" width=\"700\"><p style=\"font-size: 0.9em\"><i>Figure 1: </i></p>\n",
    "<!-- end figure -->"
   ]
  },
  {
   "cell_type": "markdown",
   "id": "d867ffb5",
   "metadata": {
    "editable": true
   },
   "source": [
    "## The electron gas in three dimensions with $N=14$ electrons (Various Wigner-Seitz  Radii)\n",
    "Jane Kim, Bryce Fore, Alessandro Lovato and MHJ, in preparation and [Nordhagen, Kim, Fore, Lovato and MHJ, ArXiv 2210.00365](https://arxiv.org/abs/2210.00365)\n",
    "<!-- dom:FIGURE: [figslides/periodic_input_rs1.50.png, width=700 frac=0.9] -->\n",
    "<!-- begin figure -->\n",
    "\n",
    "<img src=\"figslides/periodic_input_rs1.50.png\" width=\"700\"><p style=\"font-size: 0.9em\"><i>Figure 1: </i></p>\n",
    "<!-- end figure -->"
   ]
  },
  {
   "cell_type": "markdown",
   "id": "5485acfe",
   "metadata": {
    "editable": true
   },
   "source": [
    "## The electron gas in three dimensions with $N=14$ electrons (Various Wigner-Seitz  Radii)\n",
    "Jane Kim, Bryce Fore, Alessandro Lovato and MHJ, in preparation and [Nordhagen, Kim, Fore, Lovato and MHJ, ArXiv 2210.00365](https://arxiv.org/abs/2210.00365)\n",
    "<!-- dom:FIGURE: [figslides/periodic_input_rs2.00.png, width=700 frac=0.9] -->\n",
    "<!-- begin figure -->\n",
    "\n",
    "<img src=\"figslides/periodic_input_rs2.00.png\" width=\"700\"><p style=\"font-size: 0.9em\"><i>Figure 1: </i></p>\n",
    "<!-- end figure -->"
   ]
  },
  {
   "cell_type": "markdown",
   "id": "81e9cef6",
   "metadata": {
    "editable": true
   },
   "source": [
    "## The electron gas in three dimensions with $N=14$ electrons (Various Wigner-Seitz  Radii)\n",
    "Jane Kim, Bryce Fore, Alessandro Lovato and MHJ, in preparation and [Nordhagen, Kim, Fore, Lovato and MHJ, ArXiv 2210.00365](https://arxiv.org/abs/2210.00365)\n",
    "<!-- dom:FIGURE: [figslides/periodic_input_rs3.00.png, width=700 frac=0.9] -->\n",
    "<!-- begin figure -->\n",
    "\n",
    "<img src=\"figslides/periodic_input_rs3.00.png\" width=\"700\"><p style=\"font-size: 0.9em\"><i>Figure 1: </i></p>\n",
    "<!-- end figure -->"
   ]
  },
  {
   "cell_type": "markdown",
   "id": "903ca40c",
   "metadata": {
    "editable": true
   },
   "source": [
    "## The electron gas in three dimensions with $N=14$ electrons (Various Wigner-Seitz  Radii)\n",
    "Jane Kim, Bryce Fore, Alessandro Lovato and MHJ, in preparation and [Nordhagen, Kim, Fore, Lovato and MHJ, ArXiv 2210.00365](https://arxiv.org/abs/2210.00365)\n",
    "<!-- dom:FIGURE: [figslides/periodic_input_rs5.00.png, width=700 frac=0.9] -->\n",
    "<!-- begin figure -->\n",
    "\n",
    "<img src=\"figslides/periodic_input_rs5.00.png\" width=\"700\"><p style=\"font-size: 0.9em\"><i>Figure 1: </i></p>\n",
    "<!-- end figure -->"
   ]
  },
  {
   "cell_type": "markdown",
   "id": "0cf5da28",
   "metadata": {
    "editable": true
   },
   "source": [
    "## Neutron matter with $N=14$ neutron\n",
    "Bryce Fore, Jane Kim, Alessandro Lovato and MHJ, in preparation\n",
    "<!-- dom:FIGURE: [figslides/16_going_up.png, width=700 frac=0.9] -->\n",
    "<!-- begin figure -->\n",
    "\n",
    "<img src=\"figslides/16_going_up.png\" width=\"700\"><p style=\"font-size: 0.9em\"><i>Figure 1: </i></p>\n",
    "<!-- end figure -->"
   ]
  },
  {
   "cell_type": "markdown",
   "id": "e0130707",
   "metadata": {
    "editable": true
   },
   "source": [
    "## Folding and unfolding and response functions\n",
    "\n",
    "A good read on folding/unfolding is [An Unfolding Method for High Energy Physics Experiments by Volker Blobel](https://arxiv.org/abs/hep-ex/0208022)\n",
    "\n",
    "See notebook details and [examples of simple data reconstructed with Gaussian processes](https://github.com/adambozson/gp-unfold/blob/master/Falling%20exponential.ipynb)."
   ]
  }
 ],
 "metadata": {},
 "nbformat": 4,
 "nbformat_minor": 5
}
