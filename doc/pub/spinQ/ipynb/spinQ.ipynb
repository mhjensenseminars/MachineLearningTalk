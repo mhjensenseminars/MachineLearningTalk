{
 "cells": [
  {
   "cell_type": "markdown",
   "id": "e56c7d26",
   "metadata": {
    "editable": true
   },
   "source": [
    "<!-- HTML file automatically generated from DocOnce source (https://github.com/doconce/doconce/)\n",
    "doconce format html spinQ.do.txt --no_mako -->\n",
    "<!-- dom:TITLE: Exciting Avenues in Research and Education in Quantum Information Systems -->"
   ]
  },
  {
   "cell_type": "markdown",
   "id": "1ae062ae",
   "metadata": {
    "editable": true
   },
   "source": [
    "# Exciting Avenues in Research and Education in Quantum Information Systems\n",
    "**Morten Hjorth-Jensen**, Department of Physics and Astronomy and FRIB Laboratory, Michigan State University, USA and Department of Physics and Center for Computing in Science Education, University of Oslo, Norway\n",
    "\n",
    "Date: **Norway Goes Quantum Workshop, OsloMet, November 18, 2021. **"
   ]
  },
  {
   "cell_type": "markdown",
   "id": "151919b9",
   "metadata": {
    "editable": true
   },
   "source": [
    "## Congratulations\n",
    "\n",
    "First of all, a great **thank you** to OsloMet for the inauguration of the first quantum computer in Norway!\n",
    "\n",
    "**And just few days ago IBM announced that they expect to achieve a 1121-qubit quantum processor, and  thereby quantum advantage by 2023!**\n",
    "\n",
    "Slides at <https://mhjensenseminars.github.io/MachineLearningTalk/doc/pub/spinQ/html/spinQ-reveal.html>"
   ]
  },
  {
   "cell_type": "markdown",
   "id": "5a8affee",
   "metadata": {
    "editable": true
   },
   "source": [
    "## What is this talk about?\n",
    "\n",
    "The main aim is to give you a short introduction to our\n",
    "activities and how to build larger Quantum Information Systems (QIS)\n",
    "(and QT/QC (Quantum Technologies/Quantum Computing) )\n",
    "collaborations and activities, research and education.\n",
    "\n",
    "**Thanks to.**\n",
    "\n",
    "* MSU: **Ben Hall, Jane Kim, Julie Butler, Danny Jammoa, Nicholas Cariello**, Johannes Pollanen (Expt), **Niyaz Beysengulov (Expt)**, Dean Lee, Scott Bogner, Heiko Hergert, Matt Hirn, Huey-Wen Lin, Alexei Bazavov, Andrea Shindler and Angela Wilson\n",
    "\n",
    "* UiO: **Stian Bilek, Heine Åbø (now OsloMet), Håkon Emil Kristiansen, Øyvind Schøyen Sigmundsson, Jonas Boym Flaten, Kristian Wold (now OsloMet)**, Lasse Vines (Expt) Andrej Kuznetsov (Expt), **David Rivas Gongora (Expt) and Marianne Bathen (Expt, now PD at ETH)**\n",
    "\n",
    "**Sponsors.**\n",
    "\n",
    "This work is supported by the U.S. Department of Energy, Office of\n",
    "Science, office of Nuclear Physics under grant No. DE-SC0021152 and\n",
    "U.S. National Science Foundation Grants No. PHY-1404159 and\n",
    "PHY-2013047 and the Norwegian ministry of Education and  Research for PhD fellowships."
   ]
  },
  {
   "cell_type": "markdown",
   "id": "1f3dd6f5",
   "metadata": {
    "editable": true
   },
   "source": [
    "## Why? Basic motivation\n",
    "Overarching keyword: **dimension reduction**\n",
    "How can we avoid the dimensionality curse? In quantum mechanical studies there are Many possibilities\n",
    "1. smarter basis functions\n",
    "\n",
    "2. resummation of specific correlations\n",
    "\n",
    "3. stochastic sampling\n",
    "\n",
    "4. many more"
   ]
  },
  {
   "cell_type": "markdown",
   "id": "2d856f1f",
   "metadata": {
    "editable": true
   },
   "source": [
    "## Some references\n",
    "Machine Learning and Quantum Computing hold great promise in tackling the \n",
    "ever increasing dimensionalities. A hot new field is  **Quantum Machine Learning**, see for example the recent textbook by [Maria Schuld and Francesco Petruccione](https://www.springer.com/gp/book/9783319964232). \n",
    "1. Master of Science  thesis of [Stian Bilek](https://www.duo.uio.no/handle/10852/82489), **Quantum Computing: Many-Body Methods and Machine Learning, August 2020**\n",
    "\n",
    "2. Master of Science  thesis of [Heine Åbø](https://www.duo.uio.no/handle/10852/81259), **Quantum Computing and Many-Particle Problems, June 2020**, now at OsloMet\n",
    "\n",
    "3. Master of Science  thesis of Kristian Wold, Parameterized Quantum Circuits for Machine Learning, September 2021, now at OsloMet\n",
    "\n",
    "4. [Marianne Etzelmueller Bathen's PhD](https://www.mn.uio.no/fysikk/english/people/aca/mariebat/), December 2020"
   ]
  },
  {
   "cell_type": "markdown",
   "id": "60f16906",
   "metadata": {
    "editable": true
   },
   "source": [
    "## Basic activities, Overview\n",
    "* Machine Learning applied to Quantum Mechanical systems\n",
    "\n",
    "* Quantum Engineering\n",
    "\n",
    "* Quantum algorithms \n",
    "\n",
    "* Quantum Machine Learning"
   ]
  },
  {
   "cell_type": "markdown",
   "id": "ecf678ea",
   "metadata": {
    "editable": true
   },
   "source": [
    "## What has happened during the last two years at CCSE@UiO?\n",
    "\n",
    "During the last two years we have started a large scientific activity\n",
    "on Quantum Computing and Machine Learning at the Center for Computing\n",
    "in Science Education (CCSE), with three PhD students hired since\n",
    "October 2019  and several master of Science students. This activity spans from the development\n",
    "of quantum-mechanical many-particle theories for studying systems of\n",
    "interest for making quantum computers, via the development of machine learning and quantum\n",
    "algorithms for solving quantum mechanical problems to exploring\n",
    "quantum machine learning algorithms.\n",
    "\n",
    "In 2022/2023 we expect to hire a post-doctoral fellow working on\n",
    "quantum computing (many-body theories) at the center for Materials Science and Nanotechnology at the University of Oslo."
   ]
  },
  {
   "cell_type": "markdown",
   "id": "0b08176a",
   "metadata": {
    "editable": true
   },
   "source": [
    "## More activities\n",
    "\n",
    "1. [Center of Materials Science UiO, Lasse Vines (Expt) Andrej Kuznetsov(Expt), David Rivas Gongora (Expt) and Marianne Bathen (Expt, now PD at ETH)](https://www.mn.uio.no/fysikk/english/research/groups/semiconductors/index.html)\n",
    "\n",
    "2. [Gemini center on Quantum Computing (SINTEF-UiO-NTNU)](https://www.quantumcomputing.no/)"
   ]
  },
  {
   "cell_type": "markdown",
   "id": "15c79ed5",
   "metadata": {
    "editable": true
   },
   "source": [
    "## Quantum Engineering\n",
    "\n",
    "**Quantum Computing requirements.**\n",
    "\n",
    "1. be scalable\n",
    "\n",
    "2. have qubits that can be entangled\n",
    "\n",
    "3. have reliable initializations protocols to a standard state\n",
    "\n",
    "4. have a set of universal quantum gates to control the quantum evolution\n",
    "\n",
    "5. have a coherence time much longer than the gate operation time\n",
    "\n",
    "6. have a reliable read-out mechanism for measuring the qubit states\n",
    "\n",
    "7. and many more"
   ]
  },
  {
   "cell_type": "markdown",
   "id": "d3210e8f",
   "metadata": {
    "editable": true
   },
   "source": [
    "## Candidate systems\n",
    "1. Superconducting Josephon junctions\n",
    "\n",
    "2. Single photons\n",
    "\n",
    "3. [Trapped ions and atoms](https://www.insidequantumtechnology.com/news-archive/ionq-is-first-quantum-startup-to-go-public-will-it-be-first-to-deliver-profits/)\n",
    "\n",
    "4. Nuclear Magnetic Resonance\n",
    "\n",
    "5. **Quantum dots, expt at MSU**\n",
    "\n",
    "6. **Point Defects in semiconductors, experiments at UiO, center for Materials Science**\n",
    "\n",
    "7. more"
   ]
  },
  {
   "cell_type": "markdown",
   "id": "b2919f98",
   "metadata": {
    "editable": true
   },
   "source": [
    "## Electrons (quantum dots) on superfluid helium\n",
    "\n",
    "Electrons on [superfluid helium represent](https://www.youtube.com/watch?v=EuDuM-fe-lA&ab_channel=JoshuahHeath) a promising platform for investigating\n",
    "strongly-coupled qubits.\n",
    "\n",
    "Therefore a systematic investigation of the\n",
    "controlled generation of entanglement between two trapped electrons\n",
    "under the influence of coherent microwave driving pulses, taking into\n",
    "account the effects of the Coulomb interaction between electrons, is\n",
    "of significant importance for quantum information processing using\n",
    "trapped electrons.\n",
    "\n",
    "1. Time-Dependent full configuration interaction theory\n",
    "\n",
    "2. Time-dependent Coupled-Cluster theory\n",
    "\n",
    "3. Designing quantum circuits"
   ]
  },
  {
   "cell_type": "markdown",
   "id": "78170e2e",
   "metadata": {
    "editable": true
   },
   "source": [
    "## Education\n",
    "\n",
    "1. Build up a series of courses in QIS, inspiration [QuSTEAM (Quantum Information Science, Technology, Engineering, Arts and Mathematics) initiative from USA](https://qusteam.org/)\n",
    "\n",
    "2. Bachelor program in Computational Science and Data Science\n",
    "\n",
    "a. study direction/option in **quantum technologies**\n",
    "\n",
    "b. study direction/option in **Artificial Intelligence and Machine Learning**\n",
    "\n",
    "c. Plans at UiO for such a program, but also a more dedicated one on Computational Physics\n",
    "\n",
    "4. Master of Science program in Computational and Data Science\n",
    "\n",
    "a. UiO has already MSc programs in CS and DS\n",
    "\n",
    "2. PhD program in CS and DS\n",
    "\n",
    "a. with directions in **quantum technologies**\n",
    "\n",
    "b. with directions in **Artificial Intelligence and Machine Learning**\n",
    "\n",
    "Coordination across university boundaries?"
   ]
  },
  {
   "cell_type": "markdown",
   "id": "003fede2",
   "metadata": {
    "editable": true
   },
   "source": [
    "## QuSTEAM Model\n",
    "\n",
    "<!-- dom:FIGURE: [figures/qusteam.png, width=800 frac=1.0] -->\n",
    "<!-- begin figure -->\n",
    "\n",
    "<img src=\"figures/qusteam.png\" width=\"800\"><p style=\"font-size: 0.9em\"><i>Figure 1: </i></p>\n",
    "<!-- end figure -->"
   ]
  },
  {
   "cell_type": "markdown",
   "id": "f9262ba7",
   "metadata": {
    "editable": true
   },
   "source": [
    "## Courses, Prototype\n",
    "\n",
    "The [Center for Computing in Science Education at UiO](https://www.mn.uio.no/ccse/english/) could be the entity which provides the pedagogical resourses. It has research experience\n",
    "on how do we design curricula so that students develop deep knowledge that is connected and useful.\n",
    "\n",
    "**Topics  in a Bachelor of Science/Master of Science.**\n",
    "\n",
    "1. Information Systems \n",
    "\n",
    "2. From Classical Information theory to Quantum Information theory\n",
    "\n",
    "3. Classical vs. Quantum Logic\n",
    "\n",
    "4. Classical and Quantum Laboratory \n",
    "\n",
    "5. Discipline-Based Quantum Mechanics \n",
    "\n",
    "6. Quantum Software\n",
    "\n",
    "7. Quantum Hardware\n",
    "\n",
    "8. more"
   ]
  },
  {
   "cell_type": "markdown",
   "id": "6d4a6c11",
   "metadata": {
    "editable": true
   },
   "source": [
    "## Important Issues to think of\n",
    "1. Lots of conceptual learning: superposition, entanglement, QIS applications, etc.\n",
    "\n",
    "2. Coding is indispensable. That is why this should be a part of a CS/DS program\n",
    "\n",
    "3. Teamwork, project management, and communication are important and highly valued\n",
    "\n",
    "4. Engagement with industry: guest lectures, virtual tours, co-ops, and/or internships.\n",
    "\n",
    "5. Diversity needs to be a priority\n",
    "\n",
    "6. Mentorship should begin the moment students enroll."
   ]
  },
  {
   "cell_type": "markdown",
   "id": "5f0fe26b",
   "metadata": {
    "editable": true
   },
   "source": [
    "## Observations\n",
    "\n",
    "1. Students do not really know what QIS is. This may be important when advertising\n",
    "\n",
    "2. There is conflation of “Quantum Information Science” with “Quantum computing”.\n",
    "\n",
    "3. Students perceive that a graduate degree is necessary to work in QIS. A BSc will help."
   ]
  },
  {
   "cell_type": "markdown",
   "id": "471f9cd0",
   "metadata": {
    "editable": true
   },
   "source": [
    "## Future Needs/Problems (US observations mostly but transfer most likely to Europe as well)\n",
    "\n",
    "1. There are already (USA) great needs for specialized people (Ph. D. s, postdocs), but also needs of  people with a broad overview of what is possible in QIS.\n",
    "\n",
    "2. There are not enough potential employees in QIS (USA). It is a supply gap, not a skills gap.\n",
    "\n",
    "3. A BSc with specialization  is a good place to start\n",
    "\n",
    "4. It is tremendously important to get everyone speaking the same language. Facility with the vernacular of quantum mechanics is a big plus.\n",
    "\n",
    "5. There is a huge list of areas where technical expertise may be important. But employers are often more concerned with attributes like project management, working well in a team, interest in the field, and adaptability than in specific technical skills."
   ]
  }
 ],
 "metadata": {},
 "nbformat": 4,
 "nbformat_minor": 5
}
