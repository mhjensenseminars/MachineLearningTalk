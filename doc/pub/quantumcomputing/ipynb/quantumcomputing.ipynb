{
 "cells": [
  {
   "cell_type": "markdown",
   "metadata": {},
   "source": [
    "<!-- dom:TITLE: Quantum Computing and Quantum Mechanics for Many Interacting Particles -->\n",
    "# Quantum Computing and Quantum Mechanics for Many Interacting Particles\n",
    "<!-- dom:AUTHOR: Morten Hjorth-Jensen at Department of Physics and Astronomy and FRIB/NSCL Laboratory, Michigan State University, USA & Department of Physics and Center for Computing in Science Education, University of Oslo, Norway -->\n",
    "<!-- Author: -->  \n",
    "**Morten Hjorth-Jensen**, Department of Physics and Astronomy and FRIB/NSCL Laboratory, Michigan State University, USA and Department of Physics and Center for Computing in Science Education, University of Oslo, Norway\n",
    "\n",
    "Date: **Gemini Seminar, March 3, 2021. **\n",
    "\n",
    "## What is this talk about?\n",
    "The main aim is to give you a short and pedestrian introduction to our\n",
    "activities and how they could overlap with the Gemini center.\n",
    "\n",
    "\n",
    "\n",
    "**Thanks to.**\n",
    "\n",
    "* MSU: **Ben Hall, Jane Kim, Julie Butler, Danny Jammoa**, Johannes Pollanen (Expt), Niyaz Beysengulov (Expt), Dean Lee, Scott Bogner, Heiko Hergert, Matt Hirn, Huey-Wen Lin, Alexei Bazavov, and Andrea Shindler\n",
    "\n",
    "* UiO: **Stian Bilek, Håkon Emil Kristiansen, Øyvind Schøyen Sigmundsson, Jonas Boym Flaten, Kristian Wold**, Lasse Vines (Expt) and Marianne Bathen (Expt)\n",
    "\n",
    "\n",
    "\n",
    "**Sponsors.**\n",
    "\n",
    "This work is supported by the U.S. Department of Energy, Office of\n",
    "Science, office of Nuclear Physics under grant No. DE-SC0021152 and\n",
    "U.S. National Science Foundation Grants No. PHY-1404159 and\n",
    "PHY-2013047.\n",
    "\n",
    "\n",
    "\n",
    "\n",
    "\n",
    "\n",
    "## Why? Basic motivation\n",
    "\n",
    "How can we avoid the dimensionality curse? Many possibilities\n",
    "1. smarter basis functions\n",
    "\n",
    "2. resummation of specific correlations\n",
    "\n",
    "3. stochastic sampling of high-lying states (stochastic FCI, CC and SRG/IMSRG)\n",
    "\n",
    "4. many more\n",
    "\n",
    "\n",
    "\n",
    "Machine Learning and Quantum Computing hold great promise in tackling the \n",
    "ever increasing dimensionalities. A hot new field is  **Quantum Machine Learning**, see for example the recent textbook by [Maria Schuld and Francesco Petruccione](https://www.springer.com/gp/book/9783319964232). \n",
    "1. Master of Science  thesis of [Stian Bilek](https://www.duo.uio.no/handle/10852/82489), **Quantum Computing: Many-Body Methods and Machine Learning, August 2020**\n",
    "\n",
    "2. Master of Science  thesis of [Heine Åbø](https://www.duo.uio.no/handle/10852/81259), **Quantum Computing and Many-Particle Problems, June 2020**\n",
    "\n",
    "3. [Marianne EtzelmuellerBathen's PhD](https://www.mn.uio.no/fysikk/english/people/aca/mariebat/), December 2020\n",
    "\n",
    "\n",
    "\n",
    "## Basic activities, Overview\n",
    "* Quantum Engineering\n",
    "\n",
    "* Quantum algorithms \n",
    "\n",
    "* Quantum Machine Learning\n",
    "\n",
    "\n",
    "\n",
    "Slides at <https://mhjensenseminars.github.io/MachineLearningTalk/doc/pub/quantumcomputing/html/quantumcomputing-reveal.html>\n",
    "\n",
    "## Interfacing with Gemini and dScience\n",
    "\n",
    "During the last two years we have started a large scientific activity\n",
    "on Quantum Computing and Machine Learning at the Center for Computing\n",
    "in Science Education (CCSE), with three PhD students hired since\n",
    "October 2019 (Øyvind Sigmundsson Schøyen, October 2019, Stian Bilek,\n",
    "September 2020, and Jonas Boym Flaten, December 2020) and several\n",
    "master of Science students. This activity spans from the development\n",
    "of quantum-mechanical many-particle theories for studying systems of\n",
    "interest for making quantum computers, via the development of quantum\n",
    "algorithms for solving quantum mechanical problems to exploring\n",
    "quantum machine learning algorithms.\n",
    "\n",
    "\n",
    "From the fall of 2021 we expect to hire a new PhD student working on\n",
    "quantum computing via the recent EU funded project CompSci,\n",
    "administered by the CCSE. At present we have also four Master of\n",
    "Science students working on the above topics. They would be potential\n",
    "candidates for future PhD fellowships.\n",
    "\n",
    "\n",
    "\n",
    "## Quantum Engineering\n",
    "\n",
    "**Quantum Computing requirements.**\n",
    "\n",
    "1. be scalable\n",
    "\n",
    "2. have qubits that can be entangled\n",
    "\n",
    "3. have reliable initializations protocols to a standard state\n",
    "\n",
    "4. have a set of universal quantum gates to control the quantum evolution\n",
    "\n",
    "5. have a coherence time much longer than the gate operation time\n",
    "\n",
    "6. have a reliable read-out mechanism for measuring the qubit states\n",
    "\n",
    "7. and many more\n",
    "\n",
    "\n",
    "\n",
    "## Candidate systems\n",
    "1. Superconducting Josephon junctions\n",
    "\n",
    "2. Single photons\n",
    "\n",
    "3. Trapped ions and atoms\n",
    "\n",
    "4. Nuclear Magnetic Resonance\n",
    "\n",
    "5. **Quantum dots, expt at MSU**\n",
    "\n",
    "6. **Point Defects in semiconductors, expt at UiO**\n",
    "\n",
    "7. more\n",
    "\n",
    "## Electrons (quantum dots) on superfluid helium\n",
    "\n",
    "Electrons on [superfluid helium represent](https://www.youtube.com/watch?v=EuDuM-fe-lA&ab_channel=JoshuahHeath) a promising platform for investigating\n",
    "strongly-coupled qubits.\n",
    "\n",
    "Therefore a systematic investigation of the\n",
    "controlled generation of entanglement between two trapped electrons\n",
    "under the influence of coherent microwave driving pulses, taking into\n",
    "account the effects of the Coulomb interaction between electrons, is\n",
    "of significant importance for quantum information processing using\n",
    "trapped electrons.\n",
    "\n",
    "1. Time-Dependent full configuration interaction theory\n",
    "\n",
    "2. Time-dependent Coupled-Cluster theory\n",
    "\n",
    "3. Designing quantum circuits\n",
    "\n",
    "\n",
    "\n",
    "\n",
    "## Quantum algorithms for solving many-body problems, simple model\n",
    "\n",
    "The pairing model consists of $2N$ fermions that occupy $N$ of $P$ energy levels. The fermions can only change energy level by pair. It's Hamiltonian is"
   ]
  },
  {
   "cell_type": "markdown",
   "metadata": {},
   "source": [
    "<!-- Equation labels as ordinary links -->\n",
    "<div id=\"_auto1\"></div>\n",
    "\n",
    "$$\n",
    "\\begin{equation}\n",
    "H=\\sum_{p\\sigma} \\delta_pa_{p\\sigma}^{\\dagger}a_{p\\sigma}+\\sum_{pq}g_{pq}a_{p+}^{\\dagger}a_{p-}^{\\dagger}a_{q-}a_{q+}\n",
    ",\n",
    "\\label{_auto1} \\tag{1}\n",
    "\\end{equation}\n",
    "$$"
   ]
  },
  {
   "cell_type": "markdown",
   "metadata": {},
   "source": [
    "where $p$ and $q$ sum over the set  $\\{1,2,...,P\\}$ and $\\sigma$ sums over the set $\\{+,-\\}$. Also, $a$ and $a^{\\dagger}$ are the fermionic creation and annihilation operators.\n",
    "\n",
    "## More on the pairing model\n",
    "\n",
    "If one assumes that energy levels are never half filled (always occupied by either 0 or 2 fermions), then the pairing model is equivalent to a system of $N$ pairs of fermions that occupy $P$ doubly-degenerate energy levels"
   ]
  },
  {
   "cell_type": "markdown",
   "metadata": {},
   "source": [
    "<!-- Equation labels as ordinary links -->\n",
    "<div id=\"_auto2\"></div>\n",
    "\n",
    "$$\n",
    "\\begin{equation}\n",
    "H = 2\\sum_{p} \\delta_pA_p^{\\dagger}A_p+\\sum_{pq}g_{pq}A_p^{\\dagger}A_q,\n",
    "\\label{_auto2} \\tag{2}\n",
    "\\end{equation}\n",
    "$$"
   ]
  },
  {
   "cell_type": "markdown",
   "metadata": {},
   "source": [
    "where $p$ and $q$ sum from over the set $\\{1,...,p\\}$ and"
   ]
  },
  {
   "cell_type": "markdown",
   "metadata": {},
   "source": [
    "$$\n",
    "\\begin{align*}\n",
    "A_p &= a_{p-}a_{p+}\n",
    "\\\\\n",
    "A^{\\dagger}_p &= a^{\\dagger}_{p+}a^{\\dagger}_{p-},\n",
    "\\end{align*}\n",
    "$$"
   ]
  },
  {
   "cell_type": "markdown",
   "metadata": {},
   "source": [
    "are the fermionic pair creation and annihilation operators.\n",
    "\n",
    "## Unitary Coupled Cluster Ansatz\n",
    "\n",
    "The unitary coupled cluster ansatz is"
   ]
  },
  {
   "cell_type": "markdown",
   "metadata": {},
   "source": [
    "<!-- Equation labels as ordinary links -->\n",
    "<div id=\"_auto3\"></div>\n",
    "\n",
    "$$\n",
    "\\begin{equation}\n",
    "\\vert\\Psi\\rangle=e^{T-T^{\\dagger}}\\vert\\Phi\\rangle,\n",
    "\\label{_auto3} \\tag{3}\n",
    "\\end{equation}\n",
    "$$"
   ]
  },
  {
   "cell_type": "markdown",
   "metadata": {},
   "source": [
    "and"
   ]
  },
  {
   "cell_type": "markdown",
   "metadata": {},
   "source": [
    "<!-- Equation labels as ordinary links -->\n",
    "<div id=\"_auto4\"></div>\n",
    "\n",
    "$$\n",
    "\\begin{equation}\n",
    "\\vert\\Psi\\rangle=\\exp{(T_1-T_1^{\\dagger})}\\vert\\Phi\\rangle,\n",
    "\\label{_auto4} \\tag{4}\n",
    "\\end{equation}\n",
    "$$"
   ]
  },
  {
   "cell_type": "markdown",
   "metadata": {},
   "source": [
    "where $\\vert\\Phi\\rangle$ is a Fock state and $T=\\sum_{k=1}^AT_k$.\n",
    "\n",
    "## Technicalities\n",
    "\n",
    "Since our Hamiltonian only has one body terms. We will truncate to $T=T_1$ where"
   ]
  },
  {
   "cell_type": "markdown",
   "metadata": {},
   "source": [
    "<!-- Equation labels as ordinary links -->\n",
    "<div id=\"_auto5\"></div>\n",
    "\n",
    "$$\n",
    "\\begin{equation}\n",
    "T_1=\\sum_{ia}t_i^aA_a^{\\dagger}A_i.\n",
    "\\label{_auto5} \\tag{5}\n",
    "\\end{equation}\n",
    "$$"
   ]
  },
  {
   "cell_type": "markdown",
   "metadata": {},
   "source": [
    "Thus, we define our ansatz as"
   ]
  },
  {
   "cell_type": "markdown",
   "metadata": {},
   "source": [
    "<!-- Equation labels as ordinary links -->\n",
    "<div id=\"_auto6\"></div>\n",
    "\n",
    "$$\n",
    "\\begin{equation}\n",
    "\\vert\\Psi(\\theta)\\rangle=\\exp\\left\\{\\sum_{ia}t_i^a\\left(A_a^{\\dagger}A_i-A_aA_i^{\\dagger}\\right)\\right\\}\\vert\\Phi\\rangle.\n",
    "\\label{_auto6} \\tag{6}\n",
    "\\end{equation}\n",
    "$$"
   ]
  },
  {
   "cell_type": "markdown",
   "metadata": {},
   "source": [
    "We define the set of angles $\\theta=\\{t_i^a \\ | \\ i < F, \\ a \\geq F\\}$ where $F$ is the number of particles below the Fermi level.\n",
    "\n",
    "## Mapping Pair Operators to Pauli Gates\n",
    "\n",
    "The Jordan-Wigner transformation from pair operators to Pauli matrices is"
   ]
  },
  {
   "cell_type": "markdown",
   "metadata": {},
   "source": [
    "<!-- Equation labels as ordinary links -->\n",
    "<div id=\"_auto7\"></div>\n",
    "\n",
    "$$\n",
    "\\begin{equation}\n",
    "A_p = \\frac{X_p+iY_p}{2} \n",
    "\\label{_auto7} \\tag{7}\n",
    "\\end{equation}\n",
    "$$"
   ]
  },
  {
   "cell_type": "markdown",
   "metadata": {},
   "source": [
    "<!-- Equation labels as ordinary links -->\n",
    "<div id=\"_auto8\"></div>\n",
    "\n",
    "$$\n",
    "\\begin{equation} \n",
    "A_p^{\\dagger} = \\frac{X_p-iY_p}{2},\n",
    "\\label{_auto8} \\tag{8}\n",
    "\\end{equation}\n",
    "$$"
   ]
  },
  {
   "cell_type": "markdown",
   "metadata": {},
   "source": [
    "where $P_i\\equiv \\left(\\bigotimes_{n=1}^{i-1}I\\right)\\otimes P\\otimes\\left(\\bigotimes_{n=i+1}^NI\\right)$ where $P \\in \\{X,Y,Z\\}$ and $N$ is the total number of particles.\n",
    "\n",
    "## Mapping the Ansatz\n",
    "\n",
    "Applying this transformation"
   ]
  },
  {
   "cell_type": "markdown",
   "metadata": {},
   "source": [
    "<!-- Equation labels as ordinary links -->\n",
    "<div id=\"_auto9\"></div>\n",
    "\n",
    "$$\n",
    "\\begin{equation}\n",
    "A_a^{\\dagger}A_i-A_aA_i^{\\dagger}\n",
    "=\\left(\\frac{X_a-iY_i}{2}\\right)\\left(\\frac{X_a+iY_i}{2}\\right) \n",
    "\\label{_auto9} \\tag{9}\n",
    "\\end{equation}\n",
    "$$"
   ]
  },
  {
   "cell_type": "markdown",
   "metadata": {},
   "source": [
    "<!-- Equation labels as ordinary links -->\n",
    "<div id=\"_auto10\"></div>\n",
    "\n",
    "$$\n",
    "\\begin{equation} \n",
    "-\\left(\\frac{X_a+iY_i}{2}\\right)\\left(\\frac{X_a-iY_i}{2}\\right)\n",
    "\\label{_auto10} \\tag{10}\n",
    "\\end{equation}\n",
    "$$"
   ]
  },
  {
   "cell_type": "markdown",
   "metadata": {},
   "source": [
    "<!-- Equation labels as ordinary links -->\n",
    "<div id=\"_auto11\"></div>\n",
    "\n",
    "$$\n",
    "\\begin{equation} \n",
    "=\\frac{i}{2}\\left(X_aY_i-Y_aX_i\\right),\n",
    "\\label{_auto11} \\tag{11}\n",
    "\\end{equation}\n",
    "$$"
   ]
  },
  {
   "cell_type": "markdown",
   "metadata": {},
   "source": [
    "The ansatz becomes"
   ]
  },
  {
   "cell_type": "markdown",
   "metadata": {},
   "source": [
    "<!-- Equation labels as ordinary links -->\n",
    "<div id=\"_auto12\"></div>\n",
    "\n",
    "$$\n",
    "\\begin{equation}\n",
    "\\vert\\Psi(\\theta)\\rangle\n",
    "=\\exp\\left\\{\\frac{i}{2}\\sum_{ia}t_i^a\\left(X_aY_i-Y_aX_i\\right)\\right\\}\\vert\\Phi\\rangle.\n",
    "\\label{_auto12} \\tag{12}\n",
    "\\end{equation}\n",
    "$$"
   ]
  },
  {
   "cell_type": "markdown",
   "metadata": {},
   "source": [
    "## Trotter approximation\n",
    "To first order Trotter approximation we have"
   ]
  },
  {
   "cell_type": "markdown",
   "metadata": {},
   "source": [
    "<!-- Equation labels as ordinary links -->\n",
    "<div id=\"ansatz\"></div>\n",
    "\n",
    "$$\n",
    "\\begin{equation}\n",
    "\\label{ansatz} \\tag{13}\n",
    "\\vert\\Psi(\\theta)\\rangle\n",
    "\\approx\\prod_{ia}\\exp\\left\\{\\frac{i}{2}t_i^a\\left(X_aY_i-Y_aX_i\\right)\\right\\}\\vert\\Phi\\rangle\n",
    "\\end{equation}\n",
    "$$"
   ]
  },
  {
   "cell_type": "markdown",
   "metadata": {},
   "source": [
    "<!-- Equation labels as ordinary links -->\n",
    "<div id=\"_auto13\"></div>\n",
    "\n",
    "$$\n",
    "\\begin{equation} \n",
    "\\equiv\n",
    "\\prod_{ia}A_{ia}\\vert\\Phi\\rangle.\n",
    "\\label{_auto13} \\tag{14}\n",
    "\\end{equation}\n",
    "$$"
   ]
  },
  {
   "cell_type": "markdown",
   "metadata": {},
   "source": [
    "## Mapping the Hamiltonian\n",
    "\n",
    "First, we rewrite the Hamiltonian"
   ]
  },
  {
   "cell_type": "markdown",
   "metadata": {},
   "source": [
    "<!-- Equation labels as ordinary links -->\n",
    "<div id=\"_auto14\"></div>\n",
    "\n",
    "$$\n",
    "\\begin{equation}\n",
    "H\n",
    "=2\\sum_{p}\\delta_pa_p^{\\dagger}a_p+\\sum_{pq}g_{pq}a_p^{\\dagger}a_q \n",
    "\\label{_auto14} \\tag{15}\n",
    "\\end{equation}\n",
    "$$"
   ]
  },
  {
   "cell_type": "markdown",
   "metadata": {},
   "source": [
    "<!-- Equation labels as ordinary links -->\n",
    "<div id=\"_auto15\"></div>\n",
    "\n",
    "$$\n",
    "\\begin{equation} \n",
    "=\\sum_{p}\\left(2\\delta_p+g_{pq}\\right)a_p^{\\dagger}a_p+\\sum_{p\\neq q}g_{pq}a_p^{\\dagger}a_q.\n",
    "\\label{_auto15} \\tag{16}\n",
    "\\end{equation}\n",
    "$$"
   ]
  },
  {
   "cell_type": "markdown",
   "metadata": {},
   "source": [
    "Applying the transformation to the first term in the Hamiltonian"
   ]
  },
  {
   "cell_type": "markdown",
   "metadata": {},
   "source": [
    "<!-- Equation labels as ordinary links -->\n",
    "<div id=\"_auto16\"></div>\n",
    "\n",
    "$$\n",
    "\\begin{equation}\n",
    "a^{\\dagger}_pa_p=\\left(\\frac{X_p-iY_p}{2}\\right)\\left(\\frac{X_p+iY_p}{2}\\right)=\\frac{I_p-Z_p}{2}.\n",
    "\\label{_auto16} \\tag{17}\n",
    "\\end{equation}\n",
    "$$"
   ]
  },
  {
   "cell_type": "markdown",
   "metadata": {},
   "source": [
    "## More manipulations\n",
    "For the second term, first note that"
   ]
  },
  {
   "cell_type": "markdown",
   "metadata": {},
   "source": [
    "<!-- Equation labels as ordinary links -->\n",
    "<div id=\"_auto17\"></div>\n",
    "\n",
    "$$\n",
    "\\begin{equation}\n",
    "\\sum_{p\\neq q}a_p^{\\dagger}a_q\n",
    "=\\sum_{p<q}a_p^{\\dagger}a_q+\\sum_{q<p}a_p^{\\dagger}a_q\n",
    "=\\sum_{p<q}a_p^{\\dagger}a_q+a_pa_q^{\\dagger},\n",
    "\\label{_auto17} \\tag{18}\n",
    "\\end{equation}\n",
    "$$"
   ]
  },
  {
   "cell_type": "markdown",
   "metadata": {},
   "source": [
    "which we arrive at by swapping the indices $p$ and $q$ in the second sum and combining the sums. Applying the transformation"
   ]
  },
  {
   "cell_type": "markdown",
   "metadata": {},
   "source": [
    "<!-- Equation labels as ordinary links -->\n",
    "<div id=\"_auto18\"></div>\n",
    "\n",
    "$$\n",
    "\\begin{equation}\n",
    "a_p^{\\dagger}a_q+a_pa_q^{\\dagger}\n",
    "=\\left(\\frac{X_p-iY_p}{2}\\right)\\left(\\frac{X_q+iY_q}{2}\\right) \n",
    "\\label{_auto18} \\tag{19}\n",
    "\\end{equation}\n",
    "$$"
   ]
  },
  {
   "cell_type": "markdown",
   "metadata": {},
   "source": [
    "<!-- Equation labels as ordinary links -->\n",
    "<div id=\"_auto19\"></div>\n",
    "\n",
    "$$\n",
    "\\begin{equation} \n",
    "+\\left(\\frac{X_p+iY_p}{2}\\right)\\left(\\frac{X_q-iY_q}{2}\\right) \n",
    "\\label{_auto19} \\tag{20}\n",
    "\\end{equation}\n",
    "$$"
   ]
  },
  {
   "cell_type": "markdown",
   "metadata": {},
   "source": [
    "<!-- Equation labels as ordinary links -->\n",
    "<div id=\"_auto20\"></div>\n",
    "\n",
    "$$\n",
    "\\begin{equation} \n",
    "=\\frac{1}{2}\\left(X_pX_q+Y_pY_q\\right).\n",
    "\\label{_auto20} \\tag{21}\n",
    "\\end{equation}\n",
    "$$"
   ]
  },
  {
   "cell_type": "markdown",
   "metadata": {},
   "source": [
    "## Hamiltonian\n",
    "Thus, the Hamiltonian can be written in terms of Pauli matrices as"
   ]
  },
  {
   "cell_type": "markdown",
   "metadata": {},
   "source": [
    "$$\n",
    "\\begin{align*}\n",
    "H = \\sum_p\\left(2\\delta_p+g_{pq}\\right)\\left(\\frac{I_p-Z_p}{2}\\right)\n",
    "+\\sum_{p<q}g_{pq}\\frac{X_pX_q+Y_pY_q}{2}\n",
    "\\end{align*}\n",
    "$$"
   ]
  },
  {
   "cell_type": "markdown",
   "metadata": {},
   "source": [
    "## Exact and Calculated Correlation Energies vs Pairing Strength for $(p,n)=(4,2)$\n",
    "\n",
    "<!-- dom:FIGURE: [figures/QCpairing1.png, width=600 frac=0.6] -->\n",
    "<!-- begin figure -->\n",
    "<img src=\"figures/QCpairing1.png\" width=600><p style=\"font-size: 0.9em\"><i>Figure 1: </i></p><!-- end figure -->\n",
    "\n",
    "\n",
    "**Note**: $p$ is the number of doubly-degenerate levels and $n$ is the number of pairs of fermions.\n",
    "\n",
    "\n",
    "\n",
    "## Exact and Calculated Correlation Energies vs Pairing Strength for $(p,n)=(5,2)$\n",
    "\n",
    "<!-- dom:FIGURE: [figures/QCpairing2.png, width=600 frac=0.6] -->\n",
    "<!-- begin figure -->\n",
    "<img src=\"figures/QCpairing2.png\" width=600><p style=\"font-size: 0.9em\"><i>Figure 1: </i></p><!-- end figure -->\n",
    "\n",
    "\n",
    "\n",
    "## Quantum Machine Learning\n",
    "\n",
    "The emergence of quantum computers has opened up even more\n",
    "possibilities within the field of machine learning. Since quantum\n",
    "mechanics is known to create patterns which are not believed to be\n",
    "efficiently produced by classical computers, it is natural to\n",
    "hypothesize that quantum computers may be able to outperform classical\n",
    "computers on certain machine learning tasks. There are several\n",
    "interesting approaches to machine learning from a quantum computing\n",
    "perspective - from running existing algorithms or parts of these more\n",
    "efficiently, to exploring completely new algorithms that are\n",
    "specifically developed for quantum computers. Recent results show that\n",
    "quantum neural networks are able to achieve a significantly better\n",
    "effective dimension than comparable classical neural networks.\n",
    "\n",
    "\n",
    "## More on Quantum Machine Learning\n",
    "\n",
    "A few examples of existing algorithms that exhibit a speed up on\n",
    "quantum computers are $k$-nearest neighbors, support vector machines\n",
    "and $k$-means clustering.\n",
    "\n",
    "Among algorithmic approaches that are specifically designed for\n",
    "quantum computers we find so-called parameterized quantum\n",
    "circuits. These are hybrid quantum-classical methods where the\n",
    "input-output relation is being produced by a quantum computer, while a\n",
    "classical computer is responsible for updating the model parameters\n",
    "during training.\n",
    "\n",
    "## Present Plans\n",
    "\n",
    "1. Quantum circuit optimization\n",
    "\n",
    "2. Quantum Boltzmann Machines\n",
    "\n",
    "So-called Boltzmann Machines (BMs) define a machine learning method\n",
    "that aims to model probability distributions and has played a central\n",
    "role in the development of deep learning methods.\n",
    "\n",
    "It has since been shown that BMs are\n",
    "universal approximators of discrete probability distributions, meaning that they can approximate\n",
    "any discrete distribution arbitrarily well. Our research group has\n",
    "lately conducted several investigations of BMs applied to\n",
    "quantum-mechanical problems, with several interesting results.\n",
    "\n",
    "\n",
    "\n",
    "## Conclusions and where do we stand\n",
    "\n",
    "Lots of interesting research directions. \n",
    "1. We have used many-body methods like time-dependent full configuration  interaction theory to design quantum circuits, in close collaboration with experimentalists\n",
    "\n",
    "2. Successfully applied various quantum algorithms to many-body systems\n",
    "\n",
    "3. Quantum machine learning, just started\n",
    "\n",
    "4. What could be of interest to the Gemini center?"
   ]
  }
 ],
 "metadata": {},
 "nbformat": 4,
 "nbformat_minor": 4
}
