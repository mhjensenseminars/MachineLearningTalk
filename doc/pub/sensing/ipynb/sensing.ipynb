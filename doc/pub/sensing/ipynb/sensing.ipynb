{
 "cells": [
  {
   "cell_type": "markdown",
   "id": "4df85a17",
   "metadata": {
    "editable": true
   },
   "source": [
    "<!-- HTML file automatically generated from DocOnce source (https://github.com/doconce/doconce/)\n",
    "doconce format html sensing.do.txt --no_mako -->\n",
    "<!-- dom:TITLE: Making sense of sensing?  -->"
   ]
  },
  {
   "cell_type": "markdown",
   "id": "0b123472",
   "metadata": {
    "editable": true
   },
   "source": [
    "# Making sense of sensing? \n",
    "**Morten Hjorth-Jensen**, Department of Physics, University of Oslo, Norway\n",
    "\n",
    "Date: **March 14, 2025**"
   ]
  },
  {
   "cell_type": "markdown",
   "id": "c37f66ac",
   "metadata": {
    "editable": true
   },
   "source": [
    "## Motivation and Content\n",
    "\n",
    "These notes aim at linking entanglement in quantum mechanical systems\n",
    "with quantum sensing using simple examples.  Numerical codes are\n",
    "included in order to illustrate basic elements of sensing.  The\n",
    "examples are tailored to simple one- and two-qubit systems. The\n",
    "material contains (as of now, March 14, 2025))\n",
    "1. One-qubit system with basic elements of sensing\n",
    "\n",
    "2. Linking analytically solvable case with many-qubit entanglement and sensing\n",
    "\n",
    "3. Simple two-particle (or two-qubit) system to demonstrate entanglement and its links with sensing (to come)\n",
    "\n",
    "4. Numerical codes for simple time-dependent interactions for one and two qubits"
   ]
  },
  {
   "cell_type": "markdown",
   "id": "f74421b2",
   "metadata": {
    "editable": true
   },
   "source": [
    "## More material will be added\n",
    "\n",
    "In particular, we will include\n",
    "* Quantum computing simulations of the above systems where the measurement is done on only one qubit\n",
    "\n",
    "* Discussion of Fisher entropy and other measures\n",
    "\n",
    "Feel free to come with suggestions for additions. You can access the material as a jupyter-notebook at <https://github.com/mhjensenseminars/MachineLearningTalk/blob/master/doc/pub/sensing/ipynb/sensing.ipynb> or as a PDF file at <https://github.com/mhjensenseminars/MachineLearningTalk/blob/master/doc/pub/sensing/pdf/sensing.pdf>"
   ]
  },
  {
   "cell_type": "markdown",
   "id": "2ab65a0d",
   "metadata": {
    "editable": true
   },
   "source": [
    "## Literature\n",
    "\n",
    "In the discussions here we have borrowed extensively from two Review of Modern Physics\n",
    "articles\n",
    "1. **Quantum sensing**, C.L. Degen, F. Reinhard, and P. Cappellaro, Reviews of  Modern  Physics **89**, 035002 (2017), see <https://journals.aps.org/rmp/abstract/10.1103/RevModPhys.89.035002>\n",
    "\n",
    "2. **Quantum metrology with nonclassical states of atomic ensembles**, L. Pezzè, A. Smerzi, M.K. Oberthaler, R. Schmied, and P. Treutlein, Reviews of  Modern  Physics **90**, 035005 (2018), see <https://journals.aps.org/rmp/abstract/10.1103/RevModPhys.90.035005>\n",
    "\n",
    "3. See also recent work by Liu et at <https://www.nature.com/articles/s41534-021-00507-x>. We may add codes which simulate these systems as well, stay tuned."
   ]
  },
  {
   "cell_type": "markdown",
   "id": "fdfcc604",
   "metadata": {
    "editable": true
   },
   "source": [
    "## One-qubit system\n",
    "\n",
    "In the first part of this notebook, we will analyze our systems using\n",
    "plain diagonalization and simple analytical manipulations.  Thereafter\n",
    "we will develop codes and material for performing a quantum computing\n",
    "simulation of the same systems (this material is not yet ready).\n",
    "\n",
    "Our first encounter is a simple one-qubit system, described by a simple $2\\times 2$ Hamiltonian.\n",
    "\n",
    "We start with a simple $2\\times 2$ Hamiltonian matrix expressed in\n",
    "terms of Pauli $\\boldsymbol{X}$, $\\boldsymbol{Y}$  and $\\boldsymbol{Z}$ matrices. But before we proceed, a simple reminder is appropriate."
   ]
  },
  {
   "cell_type": "markdown",
   "id": "6c326b95",
   "metadata": {
    "editable": true
   },
   "source": [
    "## Definitions: Single qubit gates\n",
    "\n",
    "The Pauli matrices (and gate operations following therefrom) are defined as"
   ]
  },
  {
   "cell_type": "markdown",
   "id": "f070c6c7",
   "metadata": {
    "editable": true
   },
   "source": [
    "$$\n",
    "\\boldsymbol{X} \\equiv \\sigma_x = \\begin{bmatrix}\n",
    "\t\t0 & 1 \\\\\n",
    "\t\t1 & 0\n",
    "\t\\end{bmatrix}, \\quad\n",
    "\t\\boldsymbol{Y} \\equiv \\sigma_y = \\begin{bmatrix}\n",
    "\t\t0 & -i \\\\\n",
    "\t\ti & 0\n",
    "\t\\end{bmatrix}, \\quad\n",
    "\t\\boldsymbol{Z} \\equiv \\sigma_z = \\begin{bmatrix}\n",
    "\t\t1 & 0 \\\\\n",
    "\t\t0 & -1\n",
    "\t\\end{bmatrix}.\n",
    "$$"
   ]
  },
  {
   "cell_type": "markdown",
   "id": "8dcdd489",
   "metadata": {
    "editable": true
   },
   "source": [
    "## Pauli-$\\boldsymbol{X}$ gate\n",
    "\n",
    "The Pauli-$\\boldsymbol{X}$ gate is also known as the **NOT** gate, which flips the state of the qubit."
   ]
  },
  {
   "cell_type": "markdown",
   "id": "81124c53",
   "metadata": {
    "editable": true
   },
   "source": [
    "$$\n",
    "\\begin{align*}\n",
    "\t\\boldsymbol{X}\\vert 0\\rangle &= \\vert 1\\rangle, \\\\\n",
    "\t\\boldsymbol{X}\\vert 1\\rangle &= \\vert 0\\rangle.\t\n",
    "\\end{align*}\n",
    "$$"
   ]
  },
  {
   "cell_type": "markdown",
   "id": "748b0434",
   "metadata": {
    "editable": true
   },
   "source": [
    "The Pauli-$\\boldsymbol{Y}$ gate flips the bit and multiplies the phase by $ i $."
   ]
  },
  {
   "cell_type": "markdown",
   "id": "ea522313",
   "metadata": {
    "editable": true
   },
   "source": [
    "$$\n",
    "\\begin{align*}\n",
    "\t\\boldsymbol{Y}\\vert 0\\rangle &= i\\vert 1\\rangle, \\\\\n",
    "\t\\boldsymbol{Y}\\vert 1\\rangle &= -i\\vert 0\\rangle.\n",
    "\\end{align*}\n",
    "$$"
   ]
  },
  {
   "cell_type": "markdown",
   "id": "8a60ae98",
   "metadata": {
    "editable": true
   },
   "source": [
    "The Pauli-$\\boldsymbol{Z}$ gate multiplies only the phase of $\\vert 1\\rangle$ by $ -1 $."
   ]
  },
  {
   "cell_type": "markdown",
   "id": "ad62c02a",
   "metadata": {
    "editable": true
   },
   "source": [
    "$$\n",
    "\\begin{align*}\n",
    "\t\\boldsymbol{Z}\\vert 0\\rangle &= \\vert 0\\rangle, \\\\\n",
    "\t\\boldsymbol{Z}\\vert 1\\rangle &= -\\vert 1\\rangle.\n",
    "\\end{align*}\n",
    "$$"
   ]
  },
  {
   "cell_type": "markdown",
   "id": "c61defbd",
   "metadata": {
    "editable": true
   },
   "source": [
    "## Hadamard gate\n",
    "\n",
    "The Hadamard gate is defined as"
   ]
  },
  {
   "cell_type": "markdown",
   "id": "73fef33c",
   "metadata": {
    "editable": true
   },
   "source": [
    "$$\n",
    "\\boldsymbol{H} = \\frac{1}{\\sqrt{2}} \\begin{bmatrix}\n",
    "\t\t1 & 1 \\\\\n",
    "\t\t1 & -1\n",
    "\t\\end{bmatrix}.\n",
    "$$"
   ]
  },
  {
   "cell_type": "markdown",
   "id": "fd8fc9e5",
   "metadata": {
    "editable": true
   },
   "source": [
    "It creates a superposition of the $ \\vert 0\\rangle $ and $ \\vert 1\\rangle $ states."
   ]
  },
  {
   "cell_type": "markdown",
   "id": "47bd914e",
   "metadata": {
    "editable": true
   },
   "source": [
    "<!-- Equation labels as ordinary links -->\n",
    "<div id=\"_auto1\"></div>\n",
    "\n",
    "$$\n",
    "\\begin{equation}\n",
    "\t\\boldsymbol{H}\\vert 0\\rangle = \\frac{1}{\\sqrt{2}} \\left( \\vert 0\\rangle + \\vert 1\\rangle \\right), \n",
    "\\label{_auto1} \\tag{1}\n",
    "\\end{equation}\n",
    "$$"
   ]
  },
  {
   "cell_type": "markdown",
   "id": "840283b8",
   "metadata": {
    "editable": true
   },
   "source": [
    "<!-- Equation labels as ordinary links -->\n",
    "<div id=\"_auto2\"></div>\n",
    "\n",
    "$$\n",
    "\\begin{equation} \n",
    "\t\\boldsymbol{H}\\vert 1\\rangle = \\frac{1}{\\sqrt{2}} \\left( \\vert 0\\rangle - \\vert 1\\rangle \\right).\n",
    "\\label{_auto2} \\tag{2}\n",
    "\\end{equation}\n",
    "$$"
   ]
  },
  {
   "cell_type": "markdown",
   "id": "d7fc1f43",
   "metadata": {
    "editable": true
   },
   "source": [
    "Note that we will use $H$ as symbol for the Hadamard gate while we will reserve the notation $\\mathcal{H}$ for a given Hamiltonian."
   ]
  },
  {
   "cell_type": "markdown",
   "id": "e68a0003",
   "metadata": {
    "editable": true
   },
   "source": [
    "## Sensing Hamiltonian\n",
    "\n",
    "For our discussions, we will assume that the quantum sensor can be\n",
    "described by the generic Hamiltonian (we follow here Degen *et al.,*)"
   ]
  },
  {
   "cell_type": "markdown",
   "id": "45feb759",
   "metadata": {
    "editable": true
   },
   "source": [
    "$$\n",
    "\\mathcal{H}(t) = \\mathcal{H}_0 + \\mathcal{H}_I(t) + \\mathcal{H}_\\mathrm{control}(t),\n",
    "$$"
   ]
  },
  {
   "cell_type": "markdown",
   "id": "48266c8c",
   "metadata": {
    "editable": true
   },
   "source": [
    "where $\\mathcal{H}_0$ is the internal Hamiltonian, $\\mathcal{H}_I(t)$ is the\n",
    "Hamiltonian associated with a signal ($V(t)$ in the notes below), and\n",
    "$\\mathcal{H}_\\mathrm{control}(t)$ is the control Hamiltonian.  Following\n",
    "the above mentioned authors, we will assume that $\\mathcal{H}_0$ is known\n",
    "and that $\\mathcal{H}_\\mathrm{control}(t)$ can be chosen so as to\n",
    "manipulate or tune the sensor in a controlled way.\n",
    "\n",
    "The goal of a quantum sensing experiment is then to infer $V(t)$ from\n",
    "the effect it has on the actual qubits via its Hamiltonian\n",
    "$\\mathcal{H}_I(t)$, usually by a specific choice of\n",
    "$\\mathcal{H}_\\mathrm{control}(t)$."
   ]
  },
  {
   "cell_type": "markdown",
   "id": "9dbdfc89",
   "metadata": {
    "editable": true
   },
   "source": [
    "## Time-dependent Hamiltonian matrix\n",
    "\n",
    "We define a  hermitian  matrix  $\\mathcal{H}\\in {\\mathbb{C}}^{2\\times 2}$"
   ]
  },
  {
   "cell_type": "markdown",
   "id": "f1cc615c",
   "metadata": {
    "editable": true
   },
   "source": [
    "$$\n",
    "\\mathcal{H} = \\begin{bmatrix} \\mathcal{H}_{11} & \\mathcal{H}_{12} \\\\ \\mathcal{H}_{21} & \\mathcal{H}_{22}\n",
    "\\end{bmatrix}.\n",
    "$$"
   ]
  },
  {
   "cell_type": "markdown",
   "id": "b847829d",
   "metadata": {
    "editable": true
   },
   "source": [
    "We  let $\\mathcal{H} = \\mathcal{H}_0 + \\mathcal{H}_I$, where"
   ]
  },
  {
   "cell_type": "markdown",
   "id": "c12aa3d9",
   "metadata": {
    "editable": true
   },
   "source": [
    "$$\n",
    "\\mathcal{H}_0= \\begin{bmatrix} E_0 & 0 \\\\ 0 & E_1\\end{bmatrix},\n",
    "$$"
   ]
  },
  {
   "cell_type": "markdown",
   "id": "11905776",
   "metadata": {
    "editable": true
   },
   "source": [
    "is a diagonal matrix. Similarly,"
   ]
  },
  {
   "cell_type": "markdown",
   "id": "a387261b",
   "metadata": {
    "editable": true
   },
   "source": [
    "$$\n",
    "\\mathcal{H}_I(t)= \\begin{bmatrix} V_{11}(t) & V_{12}(t) \\\\ V_{21}(t) & V_{22}(t)\\end{bmatrix},\n",
    "$$"
   ]
  },
  {
   "cell_type": "markdown",
   "id": "16d4c0f5",
   "metadata": {
    "editable": true
   },
   "source": [
    "where $V_{ij}(t)$ represent various time-dependent interaction matrix elements and since we have a hermitian matrix, we require that\n",
    "$V_{21}=V_{12}^*$."
   ]
  },
  {
   "cell_type": "markdown",
   "id": "4784fc96",
   "metadata": {
    "editable": true
   },
   "source": [
    "## Interaction part\n",
    "\n",
    "We will now label  the interaction matrix elements, assuming that they have an explicit time dependence.\n",
    "We define"
   ]
  },
  {
   "cell_type": "markdown",
   "id": "2108edd8",
   "metadata": {
    "editable": true
   },
   "source": [
    "$$\n",
    "\\begin{align*}\n",
    "V_{11} & = V_z(t)\\\\\n",
    "V_{22} & = -V_z(t)\\\\\n",
    "V_{12} & = V_x(t)-\\imath V_y(t).\n",
    "\\end{align*}\n",
    "$$"
   ]
  },
  {
   "cell_type": "markdown",
   "id": "8baf7ac5",
   "metadata": {
    "editable": true
   },
   "source": [
    "In the numerical example below we let $V_y(t)=0$, $V_z(t) = tV_z$\n",
    "and $V_x(t) = tV_x$ with $V_z$ and $V_x$ being real-valued constants to\n",
    "be determined. In the same numerical example we let $t\\in [0,1]$."
   ]
  },
  {
   "cell_type": "markdown",
   "id": "e2f00d3b",
   "metadata": {
    "editable": true
   },
   "source": [
    "## Non-interacting solution\n",
    "\n",
    "We can view $\\mathcal{H}_0$ as the non-interacting solution"
   ]
  },
  {
   "cell_type": "markdown",
   "id": "f687df4a",
   "metadata": {
    "editable": true
   },
   "source": [
    "$$\n",
    "\\mathcal{H}_0\\vert 0 \\rangle =E_0\\vert 0 \\rangle,\n",
    "$$"
   ]
  },
  {
   "cell_type": "markdown",
   "id": "612d6876",
   "metadata": {
    "editable": true
   },
   "source": [
    "and"
   ]
  },
  {
   "cell_type": "markdown",
   "id": "a0b7fed5",
   "metadata": {
    "editable": true
   },
   "source": [
    "$$\n",
    "\\mathcal{H}_0\\vert 1\\rangle =E_1\\vert 1\\rangle,\n",
    "$$"
   ]
  },
  {
   "cell_type": "markdown",
   "id": "88d46067",
   "metadata": {
    "editable": true
   },
   "source": [
    "where we have defined the orthogonal computational one-qubit basis states $\\vert 0\\rangle$ and $\\vert 1\\rangle$."
   ]
  },
  {
   "cell_type": "markdown",
   "id": "ca98eebd",
   "metadata": {
    "editable": true
   },
   "source": [
    "## Rewriting with Pauli matrices\n",
    "\n",
    "We rewrite $\\mathcal{H}$ (and $\\mathcal{H}_0$ and $\\mathcal{H}_I$)  via Pauli matrices"
   ]
  },
  {
   "cell_type": "markdown",
   "id": "7fb9ac74",
   "metadata": {
    "editable": true
   },
   "source": [
    "$$\n",
    "\\mathcal{H}_0 = \\mathcal{E}_{\\mathrm{avg}} I -\\Delta E \\boldsymbol{Z}, \\quad \\mathcal{E}_{\\mathrm{avg}} = \\frac{E_0\n",
    "  + E_1}{2}, \\; \\Delta E = \\frac{E_1-E_0}{2},\n",
    "$$"
   ]
  },
  {
   "cell_type": "markdown",
   "id": "3aaffc5c",
   "metadata": {
    "editable": true
   },
   "source": [
    "and"
   ]
  },
  {
   "cell_type": "markdown",
   "id": "14911c5f",
   "metadata": {
    "editable": true
   },
   "source": [
    "$$\n",
    "\\mathcal{H}_I = V_z(t)\\boldsymbol{Z} + V_x(t)\\boldsymbol{X}+V_y(t)\\boldsymbol{Y},\n",
    "$$"
   ]
  },
  {
   "cell_type": "markdown",
   "id": "91c8b587",
   "metadata": {
    "editable": true
   },
   "source": [
    "with $V_z(t) = V_{11}=-V_{22}$, $V_x(t) = \\Re (V_{12})$ and $V_y(t) = \\Im (V_{12})$.\n",
    "\n",
    "This is the expression we will discuss in connection with quantum computing simulations. The discussions here, focus mainly on some simpler analytical considerations and simplifications. The numerical solutions are also given by standard eigenvalue solvers."
   ]
  },
  {
   "cell_type": "markdown",
   "id": "f6a7f2dd",
   "metadata": {
    "editable": true
   },
   "source": [
    "## Simple time dependence\n",
    "We let our Hamiltonian depend linearly on time  $t$"
   ]
  },
  {
   "cell_type": "markdown",
   "id": "ef881add",
   "metadata": {
    "editable": true
   },
   "source": [
    "$$\n",
    "\\mathcal{H}=\\mathcal{H}_0+t \\mathcal{H}_\\mathrm{I},\n",
    "$$"
   ]
  },
  {
   "cell_type": "markdown",
   "id": "2f5b7f49",
   "metadata": {
    "editable": true
   },
   "source": [
    "with $t \\in [0,1]$, where the limits $t=0$ and $t=1$\n",
    "represent the non-interacting (or unperturbed) and fully interacting\n",
    "system, respectively. This means that the various potential terms are given by $V_i(t)=tV_i$, with $i=\\{x,y,z\\}$ and $V_i$ are real-valued constants."
   ]
  },
  {
   "cell_type": "markdown",
   "id": "49fe9175",
   "metadata": {
    "editable": true
   },
   "source": [
    "## Exact solution\n",
    "\n",
    "Since this a simple $2\\times 2$ matrix eigenvalue problem we find the eigenvalues $\\lambda_0$ and $\\lambda_1$ to be"
   ]
  },
  {
   "cell_type": "markdown",
   "id": "2c2fc06c",
   "metadata": {
    "editable": true
   },
   "source": [
    "$$\n",
    "\\lambda_{0,1}=\\mathcal{E}_{\\mathrm{avg}}\\pm \\Delta E\\sqrt{1+\\frac{2V_z(t)}{\\Delta E}+\\frac{1}{\\Delta E^2}(V_z^2(t)+V_x^2(t)+V_y^2(t))}.\n",
    "$$"
   ]
  },
  {
   "cell_type": "markdown",
   "id": "b12888c0",
   "metadata": {
    "editable": true
   },
   "source": [
    "If we assume that $\\Delta E \\gg V_z(t)$ and set $V_x(t)=V_y(t)=0$ for\n",
    "simplicity and Taylor-expand our square root expression, we obtain"
   ]
  },
  {
   "cell_type": "markdown",
   "id": "310e8d59",
   "metadata": {
    "editable": true
   },
   "source": [
    "$$\n",
    "\\lambda_{0}=E_0-\\frac{1}{2}V_z(t),\n",
    "$$"
   ]
  },
  {
   "cell_type": "markdown",
   "id": "5f84baac",
   "metadata": {
    "editable": true
   },
   "source": [
    "$$\n",
    "\\lambda_{1}=E_1+\\frac{1}{2}V_z(t),\n",
    "$$"
   ]
  },
  {
   "cell_type": "markdown",
   "id": "a77b45fb",
   "metadata": {
    "editable": true
   },
   "source": [
    "where we kept only terms up to $\\Delta E$. The above problem can however be easily solved numerically, see the code here."
   ]
  },
  {
   "cell_type": "markdown",
   "id": "d6e97dd2",
   "metadata": {
    "editable": true
   },
   "source": [
    "## Selecting parameters\n",
    "\n",
    "The model is an eigenvalue problem with only\n",
    "two available states.\n",
    "\n",
    "Here we set the parameters $E_0=0$,\n",
    "$E_1=4$, $V_{11}=-V_{22}=3$ and $V_{12}=V_{21}=0.2$.\n",
    "\n",
    "The non-interacting solutions represent our computational basis.\n",
    "Pertinent to our choice of parameters, is that at $t\\geq 2/3$,\n",
    "the lowest eigenstate is dominated by $\\vert 1\\rangle$ while the upper\n",
    "is $\\vert 0 \\rangle$. At $t=1$ the $\\vert 0 \\rangle$ mixing of\n",
    "the lowest eigenvalue is $1\\%$ while for $t\\leq 2/3$ we have a\n",
    "$\\vert 0 \\rangle$ component of more than $90\\%$.  The character of the\n",
    "eigenvectors has therefore been interchanged when passing $z=2/3$. The\n",
    "value of the parameter $V_{12}$ represents the strength of the coupling\n",
    "between the two states.  Here we keep only the real part of the non-diagonal term."
   ]
  },
  {
   "cell_type": "markdown",
   "id": "da5623a7",
   "metadata": {
    "editable": true
   },
   "source": [
    "## Setting up the matrix for the simple one-qubit system\n",
    "\n",
    "Here we solve the above problem as a standard eigenvalue problem (best seen using the jupyter-notebook)"
   ]
  },
  {
   "cell_type": "code",
   "execution_count": 1,
   "id": "88650885",
   "metadata": {
    "collapsed": false,
    "editable": true
   },
   "outputs": [],
   "source": [
    "%matplotlib inline\n",
    "\n",
    "import numpy as np\n",
    "import matplotlib.pyplot as plt\n",
    "import seaborn as sns; sns.set_theme(font_scale=1.5)\n",
    "from tqdm import tqdm\n",
    "\n",
    "sigma_x = np.array([[0, 1], [1, 0]])\n",
    "sigma_y = np.array([[0, -1j], [1j, 0]])\n",
    "sigma_z = np.array([[1, 0], [0, -1]])\n",
    "I = np.eye(2)\n",
    "\n",
    "def Hamiltonian(lmb):\n",
    "    E0 = 0\n",
    "    E1 = 4\n",
    "    V11 = 3\n",
    "    V22 = -3\n",
    "    V12 = 0.2\n",
    "    V21 = 0.2\n",
    "\n",
    "    eps = (E0 + E1) / 2\n",
    "    omega = (E0 - E1) / 2\n",
    "    c = (V11 + V22) / 2\n",
    "    omega_z = (V11 - V22) / 2\n",
    "    omega_x = V12\n",
    "\n",
    "    H0 = eps * I + omega * sigma_z\n",
    "    H1 = c * I + omega_z * sigma_z + omega_x * sigma_x\n",
    "    return H0 + lmb * H1\n",
    "    \n",
    "lmbvalues_ana = np.arange(0, 1, 0.01)\n",
    "eigvals_ana = np.zeros((len(lmbvalues_ana), 2))\n",
    "for index, lmb in enumerate(lmbvalues_ana):\n",
    "    H = Hamiltonian(lmb)\n",
    "    eigen, eigvecs = np.linalg.eig(H)\n",
    "    permute = eigen.argsort()\n",
    "    eigvals_ana[index] = eigen[permute]\n",
    "    eigvecs = eigvecs[:,permute]\n",
    "\n",
    "\n",
    "fig, axs = plt.subplots(1, 1, figsize=(10, 10))\n",
    "for i in range(2):\n",
    "    axs.plot(lmbvalues_ana, eigvals_ana[:,i], label=f'$E_{i}$')\n",
    "axs.set_xlabel(r'$\\lambda$')\n",
    "axs.set_ylabel('Energy')\n",
    "axs.legend()\n",
    "plt.show()"
   ]
  },
  {
   "cell_type": "markdown",
   "id": "d035db4e",
   "metadata": {
    "editable": true
   },
   "source": [
    "## Sensing protocol, taken from  Degen *et al.,*\n",
    "\n",
    "1. The quantum sensor is initialized in some known basis, say $\\vert 0\\rangle$.\n",
    "\n",
    "2. The quantum sensor is transformed into the desired inittial state $\\vert \\psi_{\\mathrm{Initial}}\\rangle$, through an appropriate transformation $\\boldsymbol{U}_1$. For a single qubit system this could be a Hadamard gate which results in a linear superposition of $\\vert 0\\rangle$ and $\\vert 1\\rangle$.\n",
    "\n",
    "3. The quantum sensor evolves under the Hamiltonian $\\mathcal{H}$ for a time $t$. At the end of the sensing period, the sensor is in its final stage (see below) $\\vert\\psi(t)\\rangle=\\boldsymbol{U}_{\\mathcal{H}}(t, 0)\\left|\\psi_{\\mathrm{Initial}}\\right\\rangle$\n",
    "\n",
    "4. This quantum state is transformed into a superposition of observable readout states, say a superposition of the one=qubit states $\\vert 0\\rangle$ and $\\vert 1\\rangle$, via the action $\\boldsymbol{U}_2\\vert \\psi(t)$.\n",
    "\n",
    "5. The final state of the quantum sensor is read out.\n",
    "\n",
    "6. Steps 1-5 are repeated and averaged over a large number of cycles $N$ to estimate the final transition probabilities $p$.\n",
    "\n",
    "7. The transition probability $p$ is measured as a function of time $t$ and used to infer to desired signal $V(t)$."
   ]
  },
  {
   "cell_type": "markdown",
   "id": "689e3b24",
   "metadata": {
    "editable": true
   },
   "source": [
    "## Initialization and sensing analysis, Ramsey measurement\n",
    "\n",
    "We stay now with the Taylor-approximated solution from the simple\n",
    "example above (the one-qubit case). We do so in order to illustrate\n",
    "some of the basic sensing ideas.\n",
    "\n",
    "To initialize a given system to a known quantum state, we first start\n",
    "with a known initial state $|0\\rangle$. Then, depending on the type of\n",
    "information that we want to learn about the stimulus, the measurement\n",
    "scheme to be used, and the physical implementation of the quantum\n",
    "system, we choose some unitary operator $\\boldsymbol{U}_{\\mathrm{Initial}}$ such that\n",
    "it transforms our state $|0\\rangle$ to a desired initial superposition\n",
    "state $\\left|\\psi_{\\mathrm{Initial}}\\right\\rangle=a|0\\rangle+b|1\\rangle$\n",
    "for some $a, b \\in \\mathbb{C}$ such that $|a|^{2}+|b|^{2}=1$."
   ]
  },
  {
   "cell_type": "markdown",
   "id": "b784910f",
   "metadata": {
    "editable": true
   },
   "source": [
    "## Effects of stimulus\n",
    "\n",
    "After the sensing state is initialized, it is exposed to the\n",
    "environment and evolves according to the time-evolution operator of\n",
    "the sensing Hamiltonian via the unitary transformation $\\boldsymbol{U}_{\\mathcal{H}}$ as (setting $\\hbar=c=e=1$)"
   ]
  },
  {
   "cell_type": "markdown",
   "id": "c930d941",
   "metadata": {
    "editable": true
   },
   "source": [
    "$$\n",
    "|\\psi(t)\\rangle=\\boldsymbol{U}_{\\mathcal{H}}(t, 0)\\left|\\psi_{\\mathrm{Initial}}\\right\\rangle.\n",
    "$$"
   ]
  },
  {
   "cell_type": "markdown",
   "id": "6224a5ae",
   "metadata": {
    "editable": true
   },
   "source": [
    "In general we have"
   ]
  },
  {
   "cell_type": "markdown",
   "id": "7fe5dc7f",
   "metadata": {
    "editable": true
   },
   "source": [
    "$$\n",
    "\\boldsymbol{U}_{\\mathcal{H}}=\\exp{(\\imath\\int_{0}^{t}\n",
    "\\mathcal{H}(\\tau) d \\tau)}.\n",
    "$$"
   ]
  },
  {
   "cell_type": "markdown",
   "id": "8ad0f248",
   "metadata": {
    "editable": true
   },
   "source": [
    "Here the Hamiltonian could be a\n",
    "complicated, non-analytical function with a time-dependent $V(t)$\n",
    "(making $\\mathcal{H}$ time-dependent as well)."
   ]
  },
  {
   "cell_type": "markdown",
   "id": "70722a0a",
   "metadata": {
    "editable": true
   },
   "source": [
    "## Slowly changing potential\n",
    "\n",
    "In the case where $V(t)$ is constant or changes much more slowly than our sensing integration time, we can assume"
   ]
  },
  {
   "cell_type": "markdown",
   "id": "b7e5da5f",
   "metadata": {
    "editable": true
   },
   "source": [
    "$$\n",
    "|\\psi(t)\\rangle=\\boldsymbol{U}_{\\mathcal{H}}(t, 0)\\left|\\psi_{\\mathrm{Initial}}\\right\\rangle=\\exp{(\\imath t \\mathcal{H})}\\left|\\psi_{\\mathrm{Initial}}\\right\\rangle.\n",
    "$$"
   ]
  },
  {
   "cell_type": "markdown",
   "id": "95ffa3a0",
   "metadata": {
    "editable": true
   },
   "source": [
    "The sensing state evolves thus as"
   ]
  },
  {
   "cell_type": "markdown",
   "id": "cdb4278e",
   "metadata": {
    "editable": true
   },
   "source": [
    "$$\n",
    "|\\psi(t)\\rangle=\\left(\\exp{\\imath t\\left(E_{0}-\\frac{1}{2}  V_z\\right)}\\left|\\lambda_{0}\\right\\rangle\\left\\langle\\lambda_{0}\\right|+\\exp{\\imath t\\left(E_{1}+\\frac{1}{2}  V_z\\right)}\\left|\\lambda_{1}\\right\\rangle\\left\\langle\\lambda_{1}\\right|\\right)\\left|\\psi_{\\mathrm{Initial}}\\right\\rangle,\n",
    "$$"
   ]
  },
  {
   "cell_type": "markdown",
   "id": "6ef45f07",
   "metadata": {
    "editable": true
   },
   "source": [
    "where we have using the spectral decomposition and the final representation of the\n",
    "sensing Hamiltonian found above."
   ]
  },
  {
   "cell_type": "markdown",
   "id": "fbf0d167",
   "metadata": {
    "editable": true
   },
   "source": [
    "## Readout\n",
    "\n",
    "After the sensing state has evolved over time in the presence of $V(t)$, it\n",
    "can be transformed again before a measurement is taken. The first\n",
    "part, the transformation to some desired read-out state, is performed\n",
    "by a readout  operator, see discussions in Degen et al., 2017) where"
   ]
  },
  {
   "cell_type": "markdown",
   "id": "658b3f64",
   "metadata": {
    "editable": true
   },
   "source": [
    "$$\n",
    "\\left|\\psi_{\\mathrm{Final}}\\right\\rangle=\\boldsymbol{U}_{\\mathrm{Readout}}|\\psi(t)\\rangle.\n",
    "$$"
   ]
  },
  {
   "cell_type": "markdown",
   "id": "a1d700d9",
   "metadata": {
    "editable": true
   },
   "source": [
    "Here the readout operator $\\boldsymbol{U}_{\\mathrm{Readout}}$ is left unspecified."
   ]
  },
  {
   "cell_type": "markdown",
   "id": "b428aaa7",
   "metadata": {
    "editable": true
   },
   "source": [
    "## Measurement\n",
    "\n",
    "A measurement of this final state $\\left|\\psi_{\\mathrm{Final}}\\right\\rangle=a^{\\prime}|0\\rangle+b^{\\prime}|1\\rangle$ is made with\n",
    "respect to the basis $\\{|0\\rangle,|1\\rangle\\}$ where\n",
    "$|0\\rangle$ is measured with  probability"
   ]
  },
  {
   "cell_type": "markdown",
   "id": "ce058667",
   "metadata": {
    "editable": true
   },
   "source": [
    "$$\n",
    "\\left|\\left\\langle 0 \\mid \\psi_{\\mathrm{Final}}\\right\\rangle\\right|^{2}=\\left|a^{\\prime}\\right|^{2},\n",
    "$$"
   ]
  },
  {
   "cell_type": "markdown",
   "id": "65115071",
   "metadata": {
    "editable": true
   },
   "source": [
    "and $|1\\rangle$ is measured with probability"
   ]
  },
  {
   "cell_type": "markdown",
   "id": "b82a72ab",
   "metadata": {
    "editable": true
   },
   "source": [
    "$$\n",
    "\\left|\\left\\langle 1 \\mid\\psi_{\\mathrm{Final}}\\right\\rangle\\right|^{2}=\\left|b^{\\prime}\\right|^{2}.\n",
    "$$"
   ]
  },
  {
   "cell_type": "markdown",
   "id": "0c1ce276",
   "metadata": {
    "editable": true
   },
   "source": [
    "After this measurement, the sensing state has collapsed into one\n",
    "of the basis states and  no more information can be gained."
   ]
  },
  {
   "cell_type": "markdown",
   "id": "e423b369",
   "metadata": {
    "editable": true
   },
   "source": [
    "## Multiple measurements\n",
    "\n",
    "However, by having\n",
    "multiple quantum sensing elements time-evolving together or by\n",
    "repeating the process many times before the external stimulus $V(t)$\n",
    "can change, a transition probability"
   ]
  },
  {
   "cell_type": "markdown",
   "id": "0ca93042",
   "metadata": {
    "editable": true
   },
   "source": [
    "$$\n",
    "p_{|0\\rangle\\rightarrow|1\\rangle}=\\left|\\left\\langle 1 \\mid \\psi_{\\mathrm{Final}}\\right\\rangle\\right|^{2}=\\left|b^{\\prime}\\right|^{2},\n",
    "$$"
   ]
  },
  {
   "cell_type": "markdown",
   "id": "d5870682",
   "metadata": {
    "editable": true
   },
   "source": [
    "can be estimated. The *sensing* is then achieved by taking a\n",
    "series of these transition probabilities as a time series, and then\n",
    "using the results to estimate the sensed stimulus $V(t)$, see for example the abovementioned review of\n",
    "Degen et al., 2017."
   ]
  },
  {
   "cell_type": "markdown",
   "id": "b4a2c72e",
   "metadata": {
    "editable": true
   },
   "source": [
    "## Example\n",
    "\n",
    "The simplest mathematical example of quantum sensing is sensing an\n",
    "external stimulus's effect on the splitting of the energy levels of an\n",
    "isolated system. Suppose our stimulus is constant and *parallel* with\n",
    "our sensor, that is we set  $V_z(t)=V_{0}$ and $V_x=0$, and we choose\n",
    "our initialization and readout preparation operators to be the famous\n",
    "Hadamard gate"
   ]
  },
  {
   "cell_type": "markdown",
   "id": "f996da0b",
   "metadata": {
    "editable": true
   },
   "source": [
    "$$\n",
    "\\boldsymbol{U}_{H}=\\frac{1}{\\sqrt{2}}\\left[\\begin{array}{cc}\n",
    "1 & 1 \\\\\n",
    "1 & -1\n",
    "\\end{array}\\right].\n",
    "$$"
   ]
  },
  {
   "cell_type": "markdown",
   "id": "080f01a0",
   "metadata": {
    "editable": true
   },
   "source": [
    "Here, the subscript $H$ stands for the Hadamard unitary transformation."
   ]
  },
  {
   "cell_type": "markdown",
   "id": "fd31436f",
   "metadata": {
    "editable": true
   },
   "source": [
    "## Evolution of initial state\n",
    "\n",
    "The initial state is"
   ]
  },
  {
   "cell_type": "markdown",
   "id": "ee5cf229",
   "metadata": {
    "editable": true
   },
   "source": [
    "$$\n",
    "\\left|\\psi_{\\mathrm{Initial}}\\right\\rangle=\\boldsymbol{U}_{H}|0\\rangle=\\frac{1}{\\sqrt{2}}\\left[\\begin{array}{cc}\n",
    "1 & 1 \\\\\n",
    "1 & -1\n",
    "\\end{array}\\right]\\begin{bmatrix} 1 \\\\ 0\\end{bmatrix}=\\frac{1}{\\sqrt{2}}\\begin{bmatrix} 1 \\\\ 1\\end{bmatrix}.\n",
    "$$"
   ]
  },
  {
   "cell_type": "markdown",
   "id": "462e0ada",
   "metadata": {
    "editable": true
   },
   "source": [
    "This may not necessarily be the same basis into which the system was\n",
    "initialized, but we  assume it is so and then we only have to keep track\n",
    "of one basis."
   ]
  },
  {
   "cell_type": "markdown",
   "id": "7bad58ac",
   "metadata": {
    "editable": true
   },
   "source": [
    "## State evolution\n",
    "\n",
    "The state evolves as"
   ]
  },
  {
   "cell_type": "markdown",
   "id": "e68f5f97",
   "metadata": {
    "editable": true
   },
   "source": [
    "$$\n",
    "\\begin{align*}\n",
    "|\\psi(t)\\rangle=&\\left(\\exp{\\imath t\\left(E_{0}-\\frac{1}{2}  V_z\\right)}|0\\rangle\\langle 0|+\\exp{\\imath t\\left(E_{1}+\\frac{1}{2}  V_z\\right)}|1\\rangle\\langle 1|\\right)\\left|\\psi_{\\mathrm{Initial}}\\right\\rangle\\\\\n",
    "&=\\frac{1}{\\sqrt{2}} \\exp{\\imath t\\left(E_{0}-\\frac{1}{2}  V_z\\right)}\\begin{bmatrix}1 \\\\ \\exp{\\imath t\\left(E_{1}-E_{0}+ V_z\\right)}\\end{bmatrix}\n",
    "\\end{align*}\n",
    "$$"
   ]
  },
  {
   "cell_type": "markdown",
   "id": "04e0ea76",
   "metadata": {
    "editable": true
   },
   "source": [
    "## Preparing for readout\n",
    "\n",
    "This is then prepared for readout as"
   ]
  },
  {
   "cell_type": "markdown",
   "id": "107e1cd7",
   "metadata": {
    "editable": true
   },
   "source": [
    "$$\n",
    "\\vert\\psi_{\\mathrm{Final}}\\rangle=\\frac{1}{2} \\exp{\\imath t(E_{0}-\\frac{1}{2}  V_z)}\n",
    "\\begin{bmatrix} 1+\\exp{\\imath t(E_{1}-E_{0}+ V_z)} \\\\ 1-\\exp{(\\imath t(E_{1}-E_{0}+ V_z)}\\end{bmatrix}.\n",
    "$$"
   ]
  },
  {
   "cell_type": "markdown",
   "id": "4ed29414",
   "metadata": {
    "editable": true
   },
   "source": [
    "## Transition probability\n",
    "\n",
    "The transition probability"
   ]
  },
  {
   "cell_type": "markdown",
   "id": "8c60c5c0",
   "metadata": {
    "editable": true
   },
   "source": [
    "$$\n",
    "\\begin{align*}\n",
    "p_{|0\\rangle \\rightarrow|1\\rangle}=\\left|\\left\\langle 1 \\mid \\psi_{\\mathrm{Final}}\\right\\rangle\\right|^{2}=&\\left|1-\\exp{\\imath t\\left(E_{1}-E_{0}+ V_z\\right)}\\right|^{2}\\\\\n",
    "&=\\frac{1}{2}\\left(1-\\cos \\left(t\\left(E_{1}-E_{0}\\right)+ V_z\\right)\\right)\n",
    "\\end{align*}\n",
    "$$"
   ]
  },
  {
   "cell_type": "markdown",
   "id": "ec507cbc",
   "metadata": {
    "editable": true
   },
   "source": [
    "## [Ramsey interferometry](https://en.wikipedia.org/wiki/Ramsey_interferometry)\n",
    "\n",
    "We know the difference in energy between $E_{1}$ and $E_{0}$, either\n",
    "since we constructed the system or by taking measurements without the\n",
    "external stimulus $V$, and we can control the time $t$ for which the\n",
    "system is allowed to evolve under the external stimulus. Then we can\n",
    "fix $t$ and take many measurements to estimate $p_{|0\\rangle\n",
    "\\rightarrow|1\\rangle}$, which then makes finding $tV_z$ a simple phase-estimation problem which gives us $\n",
    "V_z$. The physical implementation of this process is known as Ramsey\n",
    "Interferometry, and it can be done with arbitary initialization and\n",
    "readout preparation unitary operators."
   ]
  },
  {
   "cell_type": "markdown",
   "id": "a1648ab1",
   "metadata": {
    "editable": true
   },
   "source": [
    "## Benefits of Entanglement\n",
    "\n",
    "Up until now, we have said that we take many measurements of\n",
    "$\\left|\\psi_{\\text {Final }}\\right\\rangle$ to estimate $p_{|0\\rangle\n",
    "\\rightarrow|1\\rangle}$, but we have neglected the estimation\n",
    "process. Assuming we can take $N$ measurements, either by having $N$\n",
    "experimental apparatuses running in parallel or by taking $N$\n",
    "different measurements of a (relatively) constant $V$ with a single\n",
    "apparatus (this is what we will do below), the uncertainty in $p$, denoted as $\\sigma_{p}$ (this is a\n",
    "positive real number; not to be confused with the Pauli matrices),\n",
    "scales as"
   ]
  },
  {
   "cell_type": "markdown",
   "id": "45953dc0",
   "metadata": {
    "editable": true
   },
   "source": [
    "$$\n",
    "\\sigma_{p} \\propto \\frac{1}{\\sqrt{N}}\n",
    "$$"
   ]
  },
  {
   "cell_type": "markdown",
   "id": "389adabd",
   "metadata": {
    "editable": true
   },
   "source": [
    "## Ramsey interferometry\n",
    "\n",
    "If we consider Ramsey Interferometry as an example, see <https://en.wikipedia.org/wiki/Ramsey_interferometry>, then the\n",
    "uncertainty in $V_z$, denoted $\\sigma_{V}$,\n",
    "scales as"
   ]
  },
  {
   "cell_type": "markdown",
   "id": "a35c6fbf",
   "metadata": {
    "editable": true
   },
   "source": [
    "$$\n",
    "\\sigma_{V} \\propto \\sigma_{p} \\propto \\frac{1}{\\sqrt{N}}\n",
    "$$"
   ]
  },
  {
   "cell_type": "markdown",
   "id": "5f2fafbf",
   "metadata": {
    "editable": true
   },
   "source": [
    "This relationship is known as the standard quantum limit (SQL)\n",
    ", see Giovannetti *et al.*, 2011, <https://www.nature.com/articles/nphoton.2011.35>,\n",
    "but can also be explained with the law of\n",
    "Large Numbers from statistics, where measuring $N$ similarly\n",
    "distributed, well-behaved random variables gives the sample mean as an\n",
    "estimator for the population mean and the sample variance divided by\n",
    "the size of the sample as an uncertainty in the estimate of the\n",
    "population mean."
   ]
  },
  {
   "cell_type": "markdown",
   "id": "0f6d9bbc",
   "metadata": {
    "editable": true
   },
   "source": [
    "## Key components of code for one qubit\n",
    "\n",
    "**Physical System:**\n",
    "\n",
    "1. Hamiltonian: $\\mathcal{H} = -\\frac{\\gamma B}{2}Z$ (we will set $\\gamma=1$)\n",
    "\n",
    "2. Initial state: $\\vert \\psi_{\\mathrm{Initial}}\\rangle = \\frac{1}{\\sqrt{2}}(|0\\rangle + |1\\rangle)$, Hadamard gate\n",
    "\n",
    "**Time Evolution:**\n",
    "\n",
    "1. Calculated using matrix exponential: $U_{\\mathcal{H}}(t) = \\exp{-i\\mathcal{H}t}$\n",
    "\n",
    "2. State at time $t$: $\\vert \\psi(t)\\rangle = U_{\\mathcal{H}}(t)\\vert\\psi_{\\mathrm{Initial}} \\rangle$\n",
    "\n",
    "**Expectation Values:**\n",
    "\n",
    "1. $\\langle X\\rangle$: Oscillates as $\\cos(Bt)$\n",
    "\n",
    "2. $\\langle Y\\rangle$: Oscillates as $-\\sin(Bt)$\n",
    "\n",
    "3. $\\langle Z\\rangle$: Remains constant at $0$"
   ]
  },
  {
   "cell_type": "markdown",
   "id": "22d2a3cd",
   "metadata": {
    "editable": true
   },
   "source": [
    "## One-qubit program example (best seen using the jupyter-notebook)"
   ]
  },
  {
   "cell_type": "code",
   "execution_count": 2,
   "id": "df92f5f4",
   "metadata": {
    "collapsed": false,
    "editable": true
   },
   "outputs": [],
   "source": [
    "import numpy as np\n",
    "from scipy.linalg import expm\n",
    "import matplotlib.pyplot as plt\n",
    "\n",
    "# Define single-qubit operations, Identity, Pauli, Hadamard and S matrices\n",
    "Id = np.array([[1, 0], [0, 1]], dtype=complex)\n",
    "X = np.array([[0, 1], [1, 0]], dtype=complex)\n",
    "Y = np.array([[0, -1j], [1j, 0]], dtype=complex)\n",
    "Z = np.array([[1, 0], [0, -1]], dtype=complex)\n",
    "Had = np.array([[1, 1],[1, -1]], dtype=complex) / np.sqrt(2)\n",
    "S = np.array([[1, 0],[0, 1j]], dtype=complex)\n",
    "\n",
    "# Simulation parameters\n",
    "B = 2 * np.pi  # Magnetic field strength (in angular frequency units)\n",
    "times = np.linspace(0, 1, 200)  # Time range from 0 to 1 seconds\n",
    "\n",
    "# Initial state: superposition state via Hadamard gate acting on |0>\n",
    "psi0 =  np.array([1, 0], dtype=complex) # start with |0> then act with Hadamard\n",
    "psi0 = Had @ psi0\n",
    "\n",
    "# Lists to store expectation values\n",
    "expect_x, expect_y, expect_z = [], [], []\n",
    "\n",
    "for t in times:\n",
    "   # Construct Hamiltonian\n",
    "   H = B * Z/ 2\n",
    "   # Calculate time evolution operator\n",
    "   U = expm(-1j * H * t)\n",
    "   # Evolve the initial state\n",
    "   psi_t = U @ psi0\n",
    "   # Calculate expectation values\n",
    "   expect_x.append(np.vdot(psi_t, X @ psi_t).real)\n",
    "   expect_y.append(np.vdot(psi_t, Y @ psi_t).real)\n",
    "   expect_z.append(np.vdot(psi_t, Z @ psi_t).real)\n",
    "# Plot results\n",
    "plt.figure(figsize=(10, 6))\n",
    "plt.plot(times, expect_x, label='<X>')\n",
    "plt.plot(times, expect_y, label='<Y>')\n",
    "plt.plot(times, expect_z, label='<Z>')\n",
    "plt.xlabel('Time (s)')\n",
    "plt.ylabel('Expectation value')\n",
    "plt.title('Qubit Spin Evolution in a z-Directional Magnetic Field')\n",
    "plt.legend()\n",
    "plt.grid(True)\n",
    "plt.show()"
   ]
  },
  {
   "cell_type": "markdown",
   "id": "9cfd304f",
   "metadata": {
    "editable": true
   },
   "source": [
    "## Interpretation\n",
    "\n",
    "1. The oscillations in $X$ and $Y$ components demonstrate the Larmor precession caused by the magnetic field\n",
    "\n",
    "2. The frequency of oscillation is directly proportional to the magnetic field strength $B$\n",
    "\n",
    "3. This forms the basis for quantum sensing: measuring oscillation frequency allows precise determination of $B$"
   ]
  },
  {
   "cell_type": "markdown",
   "id": "54c2d85c",
   "metadata": {
    "editable": true
   },
   "source": [
    "## To use this for sensing (protocol of Degen *et al.,* (2017))\n",
    "\n",
    "1. Prepare the qubit in a known superposition state\n",
    "\n",
    "2. Let it evolve in the magnetic field for a known time\n",
    "\n",
    "3. Measure the expectation values\n",
    "\n",
    "4. Determine (here) $B$ from the oscillation frequency"
   ]
  },
  {
   "cell_type": "markdown",
   "id": "3783d01b",
   "metadata": {
    "editable": true
   },
   "source": [
    "## Feel free to play around with this code\n",
    "\n",
    "1. Change $B$ value to see different oscillation frequencies\n",
    "\n",
    "2. Adjust *time* array to observe different numbers of oscillations\n",
    "\n",
    "3. Add noise to simulate real-world sensing scenarios\n",
    "\n",
    "4. Implement actual measurement simulations instead of expectation values\n",
    "\n",
    "This code provides a fundamental demonstration of quantum sensing\n",
    "principles using a simple qubit system. Real-world implementations\n",
    "would typically use more sophisticated techniques like Ramsey\n",
    "interferometry or dynamical decoupling for enhanced sensitivity."
   ]
  },
  {
   "cell_type": "markdown",
   "id": "a9278508",
   "metadata": {
    "editable": true
   },
   "source": [
    "## More than one qubit\n",
    "\n",
    "The nature of quantum systems allows for more information to be\n",
    "extracted by exploiting entanglement between quantum systems. This is\n",
    "the fundamental basis for the benefits of quantum computing over\n",
    "classical computing, and quantum sensing has similar benefits over\n",
    "classical sensing. Suppose we return to the example above, but rather\n",
    "than initializing $N$ sensing qubits separately, we initialize\n",
    "$\\frac{N}{n}$ groups each with $n$ entangled quantum systems. Then we\n",
    "have"
   ]
  },
  {
   "cell_type": "markdown",
   "id": "fc71bb5e",
   "metadata": {
    "editable": true
   },
   "source": [
    "$$\n",
    "\\left|\\psi_{\\text {Init }}\\right\\rangle=\\frac{1}{\\sqrt{2^{n}}}\\left(|0\\rangle^{\\otimes n}+|1\\rangle^{\\otimes n}\\right),\n",
    "$$"
   ]
  },
  {
   "cell_type": "markdown",
   "id": "779ccea4",
   "metadata": {
    "editable": true
   },
   "source": [
    "where $|0\\rangle^{\\otimes n}=|0\\rangle \\otimes \\ldots \\otimes|0\\rangle, n$ times."
   ]
  },
  {
   "cell_type": "markdown",
   "id": "a7106b18",
   "metadata": {
    "editable": true
   },
   "source": [
    "## After initialization\n",
    "\n",
    "After initialization, each of the $n$ sensing qubits evolves to pick up a relative phase factor of $\\exp{\\imath t\\left(E_{1}-E_{0}+ V_z\\right)}$, which combined results in"
   ]
  },
  {
   "cell_type": "markdown",
   "id": "35dda74a",
   "metadata": {
    "editable": true
   },
   "source": [
    "$$\n",
    "|\\psi(t)\\rangle=\\mathcal{N}\\left(|0\\rangle^{\\otimes n}+\\exp{n \\imath t\\left(E_{1}-E_{0}+ V_z\\right)}|1\\rangle^{\\otimes n}\\right)\n",
    "$$"
   ]
  },
  {
   "cell_type": "markdown",
   "id": "d773b92d",
   "metadata": {
    "editable": true
   },
   "source": [
    "where $\\mathcal{N}$ is just a factor to take care of normalization."
   ]
  },
  {
   "cell_type": "markdown",
   "id": "6f43498f",
   "metadata": {
    "editable": true
   },
   "source": [
    "## Transition probability\n",
    "\n",
    "The transition probability"
   ]
  },
  {
   "cell_type": "markdown",
   "id": "3b0bc357",
   "metadata": {
    "editable": true
   },
   "source": [
    "$$\n",
    "p_{|0\\rangle \\rightarrow|1\\rangle}=\\left|\\left\\langle 1 \\mid \\psi_{\\text {Final }}\\right\\rangle\\right|^{2}=\\frac{1}{2}\\left(1-\\cos \\left(t n\\left(E_{1}-E_{0}\\right)+n  V_z\\right)\\right)\n",
    "$$"
   ]
  },
  {
   "cell_type": "markdown",
   "id": "682d93c0",
   "metadata": {
    "editable": true
   },
   "source": [
    "## Role of entanglement\n",
    "\n",
    "From this, we can see that through entangling $n$ sensing qubits, the\n",
    "**signal** we are trying to sense increases from $V_z \\rightarrow n\n",
    "V_z$, and with $\\frac{N}{n}$ total measurements,"
   ]
  },
  {
   "cell_type": "markdown",
   "id": "2c2b667e",
   "metadata": {
    "editable": true
   },
   "source": [
    "$$\n",
    "\\sigma_{V} \\propto \\frac{1}{n} \\sigma_{p} \\propto \\frac{1}{n}\\left(\\frac{1}{\\sqrt{\\frac{N}{n}}}\\right)=\\frac{1}{\\sqrt{N n}}\n",
    "$$"
   ]
  },
  {
   "cell_type": "markdown",
   "id": "a933b709",
   "metadata": {
    "editable": true
   },
   "source": [
    "which means the error decreased by a factor of $\\sqrt{n}$. In the case where $n=N$, the uncertainty now scales as"
   ]
  },
  {
   "cell_type": "markdown",
   "id": "c1a074d1",
   "metadata": {
    "editable": true
   },
   "source": [
    "$$\n",
    "\\sigma_{V} \\propto \\frac{1}{N}\n",
    "$$"
   ]
  },
  {
   "cell_type": "markdown",
   "id": "6b18b213",
   "metadata": {
    "editable": true
   },
   "source": [
    "which is known as the Heisenberg limit, and is the\n",
    "quantum-mechanically limited, maximal amount of information one can\n",
    "get from taking $n$ quantum sensing measurements, see again Giovannetti *et al.*, at <https://www.nature.com/articles/nphoton.2011.35>."
   ]
  },
  {
   "cell_type": "markdown",
   "id": "1c3f9f7e",
   "metadata": {
    "editable": true
   },
   "source": [
    "## Two qubits and entanglement\n",
    "\n",
    "We will now look at a simple system where we can produce an entangled state. We focus on a two-qubit system.\n",
    "\n",
    "Our computational basis states"
   ]
  },
  {
   "cell_type": "markdown",
   "id": "4efa0791",
   "metadata": {
    "editable": true
   },
   "source": [
    "$$\n",
    "\\vert 00\\rangle = \\vert 0\\rangle_{\\mathrm{A}}\\otimes \\vert 0\\rangle_{\\mathrm{B}}=\\begin{bmatrix} 1 & 0 & 0 &0\\end{bmatrix}^T,\n",
    "$$"
   ]
  },
  {
   "cell_type": "markdown",
   "id": "052e9050",
   "metadata": {
    "editable": true
   },
   "source": [
    "and"
   ]
  },
  {
   "cell_type": "markdown",
   "id": "4c4a4bf1",
   "metadata": {
    "editable": true
   },
   "source": [
    "$$\n",
    "\\vert 01\\rangle = \\vert 0\\rangle_{\\mathrm{A}}\\otimes \\vert 1\\rangle_{\\mathrm{B}}=\\begin{bmatrix} 0 & 1 & 0 &0\\end{bmatrix}^T,\n",
    "$$"
   ]
  },
  {
   "cell_type": "markdown",
   "id": "a1933034",
   "metadata": {
    "editable": true
   },
   "source": [
    "and"
   ]
  },
  {
   "cell_type": "markdown",
   "id": "61b35867",
   "metadata": {
    "editable": true
   },
   "source": [
    "$$\n",
    "\\vert 10\\rangle = \\vert 1\\rangle_{\\mathrm{A}}\\otimes \\vert 0\\rangle_{\\mathrm{B}}=\\begin{bmatrix} 0 & 0 & 1 &0\\end{bmatrix}^T,\n",
    "$$"
   ]
  },
  {
   "cell_type": "markdown",
   "id": "95abb91a",
   "metadata": {
    "editable": true
   },
   "source": [
    "and finally"
   ]
  },
  {
   "cell_type": "markdown",
   "id": "728aa2a5",
   "metadata": {
    "editable": true
   },
   "source": [
    "$$\n",
    "\\vert 11\\rangle = \\vert 1\\rangle_{\\mathrm{A}}\\otimes \\vert 1\\rangle_{\\mathrm{B}}=\\begin{bmatrix} 0 & 0 & 0 &1\\end{bmatrix}^T.\n",
    "$$"
   ]
  },
  {
   "cell_type": "markdown",
   "id": "dbf5b54b",
   "metadata": {
    "editable": true
   },
   "source": [
    "## Simple system to lllustrate entanglement\n",
    "\n",
    "This system can be thought of as composed of two subsystems\n",
    "$A$ and $B$. Each subsystem has computational basis states"
   ]
  },
  {
   "cell_type": "markdown",
   "id": "68e9ff2a",
   "metadata": {
    "editable": true
   },
   "source": [
    "$$\n",
    "\\vert 0\\rangle_{\\mathrm{A,B}}=\\begin{bmatrix} 1 & 0\\end{bmatrix}^T \\hspace{1cm} \\vert 1\\rangle_{\\mathrm{A,B}}=\\begin{bmatrix} 0 & 1\\end{bmatrix}^T.\n",
    "$$"
   ]
  },
  {
   "cell_type": "markdown",
   "id": "c43caa71",
   "metadata": {
    "editable": true
   },
   "source": [
    "The subsystems could represent single particles or composite many-particle systems of a given symmetry."
   ]
  },
  {
   "cell_type": "markdown",
   "id": "68334f10",
   "metadata": {
    "editable": true
   },
   "source": [
    "## Computational basis states\n",
    "\n",
    "This leads to the many-body computational basis states"
   ]
  },
  {
   "cell_type": "markdown",
   "id": "f4f39be0",
   "metadata": {
    "editable": true
   },
   "source": [
    "$$\n",
    "\\vert 00\\rangle = \\vert 0\\rangle_{\\mathrm{A}}\\otimes \\vert 0\\rangle_{\\mathrm{B}}=\\begin{bmatrix} 1 & 0 & 0 &0\\end{bmatrix}^T,\n",
    "$$"
   ]
  },
  {
   "cell_type": "markdown",
   "id": "974d18ff",
   "metadata": {
    "editable": true
   },
   "source": [
    "and"
   ]
  },
  {
   "cell_type": "markdown",
   "id": "00c46075",
   "metadata": {
    "editable": true
   },
   "source": [
    "$$\n",
    "\\vert 01\\rangle = \\vert 0\\rangle_{\\mathrm{A}}\\otimes \\vert 1\\rangle_{\\mathrm{B}}=\\begin{bmatrix} 0 & 1 & 0 &0\\end{bmatrix}^T,\n",
    "$$"
   ]
  },
  {
   "cell_type": "markdown",
   "id": "7128d53c",
   "metadata": {
    "editable": true
   },
   "source": [
    "and"
   ]
  },
  {
   "cell_type": "markdown",
   "id": "953a17f6",
   "metadata": {
    "editable": true
   },
   "source": [
    "$$\n",
    "\\vert 10\\rangle = \\vert 1\\rangle_{\\mathrm{A}}\\otimes \\vert 0\\rangle_{\\mathrm{B}}=\\begin{bmatrix} 0 & 0 & 1 &0\\end{bmatrix}^T,\n",
    "$$"
   ]
  },
  {
   "cell_type": "markdown",
   "id": "5d54c646",
   "metadata": {
    "editable": true
   },
   "source": [
    "and finally"
   ]
  },
  {
   "cell_type": "markdown",
   "id": "7861a0e9",
   "metadata": {
    "editable": true
   },
   "source": [
    "$$\n",
    "\\vert 11\\rangle = \\vert 1\\rangle_{\\mathrm{A}}\\otimes \\vert 1\\rangle_{\\mathrm{B}}=\\begin{bmatrix} 0 & 0 & 0 &1\\end{bmatrix}^T.\n",
    "$$"
   ]
  },
  {
   "cell_type": "markdown",
   "id": "be181d37",
   "metadata": {
    "editable": true
   },
   "source": [
    "## Eigenstates of non-interacting Hamiltonian\n",
    "\n",
    "These computational basis states define the eigenstates of the non-interacting  Hamiltonian"
   ]
  },
  {
   "cell_type": "markdown",
   "id": "3448435e",
   "metadata": {
    "editable": true
   },
   "source": [
    "$$\n",
    "H_0\\vert 00 \\rangle = \\epsilon_{00}\\vert 00 \\rangle,\n",
    "$$"
   ]
  },
  {
   "cell_type": "markdown",
   "id": "abdf2fe5",
   "metadata": {
    "editable": true
   },
   "source": [
    "$$\n",
    "H_0\\vert 10 \\rangle = \\epsilon_{10}\\vert 10 \\rangle,\n",
    "$$"
   ]
  },
  {
   "cell_type": "markdown",
   "id": "379b65a7",
   "metadata": {
    "editable": true
   },
   "source": [
    "$$\n",
    "H_0\\vert 01 \\rangle = \\epsilon_{01}\\vert 01 \\rangle,\n",
    "$$"
   ]
  },
  {
   "cell_type": "markdown",
   "id": "3eee7d17",
   "metadata": {
    "editable": true
   },
   "source": [
    "and"
   ]
  },
  {
   "cell_type": "markdown",
   "id": "5b59e169",
   "metadata": {
    "editable": true
   },
   "source": [
    "$$\n",
    "H_0\\vert 11 \\rangle = \\epsilon_{11}\\vert 11 \\rangle.\n",
    "$$"
   ]
  },
  {
   "cell_type": "markdown",
   "id": "da40d0df",
   "metadata": {
    "editable": true
   },
   "source": [
    "## Interaction part\n",
    "\n",
    "The interacting part of the Hamiltonian $H_{\\mathrm{I}}$ is given by the tensor product of two $\\sigma_x$ and $\\sigma_z$  matrices, respectively, that is"
   ]
  },
  {
   "cell_type": "markdown",
   "id": "72575c74",
   "metadata": {
    "editable": true
   },
   "source": [
    "$$\n",
    "H_{\\mathrm{I}}=H_x\\sigma_x\\otimes\\sigma_x+H_z\\sigma_z\\otimes\\sigma_z,\n",
    "$$"
   ]
  },
  {
   "cell_type": "markdown",
   "id": "3bd4f831",
   "metadata": {
    "editable": true
   },
   "source": [
    "where $H_x$ and $H_z$ are interaction strength parameters. Our final Hamiltonian matrix is given by"
   ]
  },
  {
   "cell_type": "markdown",
   "id": "5d415a1f",
   "metadata": {
    "editable": true
   },
   "source": [
    "$$\n",
    "\\boldsymbol{H}=\\begin{bmatrix} \\epsilon_{00}+H_z & 0 & 0 & H_x \\\\\n",
    "                       0  & \\epsilon_{10}-H_z & H_x & 0 \\\\\n",
    "\t\t       0 & H_x & \\epsilon_{01}-H_z & 0 \\\\\n",
    "\t\t       H_x & 0 & 0 & \\epsilon_{11} +H_z \\end{bmatrix}.\n",
    "$$"
   ]
  },
  {
   "cell_type": "markdown",
   "id": "3485ac11",
   "metadata": {
    "editable": true
   },
   "source": [
    "## Entangled state\n",
    "\n",
    "This system produces an initial state (we select the lowest-lying state) which is entangled (it acts like\n",
    "a SWAP gate) transforming the system from $\\vert 00\\rangle$ at interaction strength $0$ to"
   ]
  },
  {
   "cell_type": "markdown",
   "id": "e9784ff7",
   "metadata": {
    "editable": true
   },
   "source": [
    "$$\n",
    "\\vert \\psi_{\\mathrm{Initial}}\\rangle=\\alpha \\vert 01\\rangle +\\beta \\vert 10\\rangle.\n",
    "$$"
   ]
  },
  {
   "cell_type": "markdown",
   "id": "ee9ef354",
   "metadata": {
    "editable": true
   },
   "source": [
    "We can then act with a given probe on this state and study its time-evolution, in the same way as we studied the one-qubit system.\n",
    "\n",
    "The code below (to be added) performs then"
   ]
  },
  {
   "cell_type": "markdown",
   "id": "0efb9c80",
   "metadata": {
    "editable": true
   },
   "source": [
    "$$\n",
    "\\vert \\psi(t)\\rangle = \\boldsymbol{U}_{\\mathcal{H}}(\\alpha \\vert 01\\rangle +\\beta \\vert 10\\rangle).\n",
    "$$"
   ]
  },
  {
   "cell_type": "markdown",
   "id": "efdce07e",
   "metadata": {
    "editable": true
   },
   "source": [
    "## Intermezzo (digression) on density matrices and entropy\n",
    "\n",
    "The four eigenstates of the above Hamiltonian matrix can in turn be used to\n",
    "define density matrices. As an example, the density matrix of the\n",
    "first eigenstate (lowest energy $E_0$) $\\Psi_0$ is given by the outerproduct"
   ]
  },
  {
   "cell_type": "markdown",
   "id": "c8ad128f",
   "metadata": {
    "editable": true
   },
   "source": [
    "$$\n",
    "\\rho_0=\\left(\\alpha_{00}\\vert 00 \\rangle+\\alpha_{10}\\vert 10 \\rangle+\\alpha_{01}\\vert 01 \\rangle+\\alpha_{11}\\vert 11 \\rangle\\right)\\left(\\alpha_{00}^*\\langle 00\\vert+\\alpha_{10}^*\\langle 10\\vert+\\alpha_{01}^*\\langle 01\\vert+\\alpha_{11}^*\\langle 11\\vert\\right),\n",
    "$$"
   ]
  },
  {
   "cell_type": "markdown",
   "id": "971e4369",
   "metadata": {
    "editable": true
   },
   "source": [
    "where the coefficients $\\alpha_{ij}$ are the eigenvector coefficients\n",
    "resulting from the solution of the above eigenvalue problem."
   ]
  },
  {
   "cell_type": "markdown",
   "id": "0f87236d",
   "metadata": {
    "editable": true
   },
   "source": [
    "## Subsystems\n",
    "\n",
    "We can\n",
    "then in turn define the density matrix for the subsets $A$ or $B$ as"
   ]
  },
  {
   "cell_type": "markdown",
   "id": "80890f2e",
   "metadata": {
    "editable": true
   },
   "source": [
    "$$\n",
    "\\rho_A=\\mathrm{Tr}_B(\\rho_{0})=\\langle 0 \\vert \\rho_{0} \\vert 0\\rangle_{B}+\\langle 1 \\vert \\rho_{0} \\vert 1\\rangle_{B},\n",
    "$$"
   ]
  },
  {
   "cell_type": "markdown",
   "id": "fea54ff5",
   "metadata": {
    "editable": true
   },
   "source": [
    "or"
   ]
  },
  {
   "cell_type": "markdown",
   "id": "fdc09900",
   "metadata": {
    "editable": true
   },
   "source": [
    "$$\n",
    "\\rho_B=\\mathrm{Tr}_A(\\rho_0)=\\langle 0 \\vert \\rho_{0} \\vert 0\\rangle_{A}+\\langle 1 \\vert \\rho_{0} \\vert 1\\rangle_{A}.\n",
    "$$"
   ]
  },
  {
   "cell_type": "markdown",
   "id": "56cd6d96",
   "metadata": {
    "editable": true
   },
   "source": [
    "## Entropies\n",
    "\n",
    "The density matrices for these subsets can be used to compute the\n",
    "so-called von Neumann entropy, which is one of the possible measures\n",
    "of entanglement. A pure state has entropy equal zero while entangled\n",
    "state have an entropy larger than zero. The von-Neumann entropy is\n",
    "defined as"
   ]
  },
  {
   "cell_type": "markdown",
   "id": "9c50f0e2",
   "metadata": {
    "editable": true
   },
   "source": [
    "$$\n",
    "S(A,B)=-\\mathrm{Tr}\\left(\\rho_{A,B}\\log_2 (\\rho_{A,B})\\right).\n",
    "$$"
   ]
  },
  {
   "cell_type": "markdown",
   "id": "9b32a876",
   "metadata": {
    "editable": true
   },
   "source": [
    "## Understanding the example\n",
    "The example here shows the above von Neumann entropy based on the\n",
    "density matrix for the lowest many-body state. We see clearly a jump\n",
    "in the entropy around the point where we have a level crossing. At\n",
    "interaction strenght $\\lambda=0$ we have many-body states purely\n",
    "defined by their computational basis states. As we switch on the\n",
    "interaction strength, we obtain an increased degree of mixing and the\n",
    "entropy increases till we reach the level crossing point where we see\n",
    "an additional and sudden increase in entropy. Similar behaviors are\n",
    "observed for the other states. The most important result from this\n",
    "example is that entanglement is driven by the Hamiltonian itself and\n",
    "the strength of the interaction matrix elements and the\n",
    "non-interacting energies."
   ]
  },
  {
   "cell_type": "markdown",
   "id": "0711239c",
   "metadata": {
    "editable": true
   },
   "source": [
    "## Code, best seen in jupyter-notebook"
   ]
  },
  {
   "cell_type": "code",
   "execution_count": 3,
   "id": "7b697da5",
   "metadata": {
    "collapsed": false,
    "editable": true
   },
   "outputs": [],
   "source": [
    "%matplotlib inline\n",
    "from  matplotlib import pyplot as plt\n",
    "import numpy as np\n",
    "from scipy.linalg import logm, expm\n",
    "def log2M(a): # base 2 matrix logarithm\n",
    "    return logm(a)/np.log(2.0)\n",
    "\n",
    "dim = 4\n",
    "Hamiltonian = np.zeros((dim,dim))\n",
    "#number of lambda values\n",
    "n = 40\n",
    "lmbd = np.linspace(0.0,1.0,n)\n",
    "Hx = 2.0\n",
    "Hz = 3.0\n",
    "# Non-diagonal part as sigma_x tensor product with sigma_x\n",
    "sx = np.matrix([[0,1],[1,0]])\n",
    "sx2 = Hx*np.kron(sx, sx)\n",
    "# Diagonal part as sigma_z tensor product with sigma_z\n",
    "sz = np.matrix([[1,0],[0,-1]])\n",
    "sz2 = Hz*np.kron(sz, sz)\n",
    "noninteracting = [0.0, 2.5, 6.5, 7.0]\n",
    "D = np.diag(noninteracting)\n",
    "Eigenvalue = np.zeros((dim,n))\n",
    "Entropy = np.zeros(n)\n",
    "\n",
    "for i in range(n): \n",
    "    Hamiltonian = lmbd[i]*(sx2+sz2)+D\n",
    "    # diagonalize and obtain eigenvalues, not necessarily sorted\n",
    "    EigValues, EigVectors = np.linalg.eig(Hamiltonian)\n",
    "    # sort eigenvectors and eigenvalues\n",
    "    permute = EigValues.argsort()\n",
    "    EigValues = EigValues[permute]\n",
    "    EigVectors = EigVectors[:,permute]\n",
    "    # Compute density matrix for selected system state, here ground state\n",
    "    DensityMatrix = np.zeros((dim,dim))\n",
    "    DensityMatrix = np.outer(EigVectors[:,0],EigVectors[:,0])\n",
    "    # Project down on substates and find density matrix for subsystem\n",
    "    d = np.matrix([[1,0],[0,1]])\n",
    "    v1 = [1.0,0.0]\n",
    "    proj1 = np.kron(v1,d)\n",
    "    x1 = proj1 @ DensityMatrix @ proj1.T\n",
    "    v2 = [0.0,1.0]\n",
    "    proj2 = np.kron(v2,d)\n",
    "    x2 = proj2 @ DensityMatrix @ proj2.T\n",
    "    # Total density matrix for subsystem\n",
    "    total = x1+x2\n",
    "    # von Neumann Entropy for subsystem \n",
    "    Entropy[i] = -np.matrix.trace(total @ log2M(total))\n",
    "    # Plotting eigenvalues and entropy as functions of interaction strengths\n",
    "    Eigenvalue[0,i] = EigValues[0]\n",
    "    Eigenvalue[1,i] = EigValues[1]\n",
    "    Eigenvalue[2,i] = EigValues[2]\n",
    "    Eigenvalue[3,i] = EigValues[3]\n",
    "plt.plot(lmbd, Eigenvalue[0,:] ,'b-',lmbd, Eigenvalue[1,:],'g-',)\n",
    "plt.plot(lmbd, Eigenvalue[2,:] ,'r-',lmbd, Eigenvalue[3,:],'y-',)\n",
    "plt.xlabel('$\\lambda$')\n",
    "plt.ylabel('Eigenvalues')\n",
    "plt.show()\n",
    "plt.plot(lmbd, Entropy)\n",
    "plt.xlabel('$\\lambda$')\n",
    "plt.ylabel('Entropy')          \n",
    "plt.show"
   ]
  },
  {
   "cell_type": "markdown",
   "id": "91d72a4f",
   "metadata": {
    "editable": true
   },
   "source": [
    "## Role of entanglement\n",
    "\n",
    "In the example below, our initial state is an entangled Bell state"
   ]
  },
  {
   "cell_type": "markdown",
   "id": "a8143511",
   "metadata": {
    "editable": true
   },
   "source": [
    "$$\n",
    "\\vert \\psi_{\\mathrm{Initial}}\\rangle =\\frac{1}{\\sqrt{2}}\\left) \\vert 00\\rangle +\\vert 11\\rangle\\right).\n",
    "$$"
   ]
  },
  {
   "cell_type": "markdown",
   "id": "67d46cd2",
   "metadata": {
    "editable": true
   },
   "source": [
    "We can then act with a given probe on this state and study its\n",
    "time-evolution, in the same way as we studied the one-qubit system.\n",
    "\n",
    "The code below ) performs then"
   ]
  },
  {
   "cell_type": "markdown",
   "id": "16b252e3",
   "metadata": {
    "editable": true
   },
   "source": [
    "$$\n",
    "\\vert \\psi(t)\\rangle = \\boldsymbol{U}_{\\mathcal{H}}\\frac{1}{\\sqrt{2}}\\left) \\vert 00\\rangle +\\vert 11\\rangle\\right).\n",
    "$$"
   ]
  },
  {
   "cell_type": "markdown",
   "id": "34f6ea05",
   "metadata": {
    "editable": true
   },
   "source": [
    "Thereafter we implement an explicit measurement. Note that this code\n",
    "does not compute these expectation values as one would when\n",
    "implementing a quantum sensing approach. The readout is as simnple as possible. Further improvements will include measurements on only one qubit and with more realistic **readout** functions."
   ]
  },
  {
   "cell_type": "markdown",
   "id": "537f83b8",
   "metadata": {
    "editable": true
   },
   "source": [
    "## Two-qubit program example (best seen using the jupyter-notebook)"
   ]
  },
  {
   "cell_type": "code",
   "execution_count": 4,
   "id": "8b124ca6",
   "metadata": {
    "collapsed": false,
    "editable": true
   },
   "outputs": [],
   "source": [
    "import numpy as np\n",
    "from scipy.linalg import expm\n",
    "import matplotlib.pyplot as plt\n",
    "\n",
    "# Define single-qubit operations, Identity, Pauli, Hadamard and S matrices\n",
    "Id = np.array([[1, 0], [0, 1]], dtype=complex)\n",
    "X = np.array([[0, 1], [1, 0]], dtype=complex)\n",
    "Y = np.array([[0, -1j], [1j, 0]], dtype=complex)\n",
    "Z = np.array([[1, 0], [0, -1]], dtype=complex)\n",
    "Had = np.array([[1, 1],[1, -1]], dtype=complex) / np.sqrt(2)\n",
    "S = np.array([[1, 0],[0, 1j]], dtype=complex)\n",
    "# Define two-qubit gates\n",
    "CNOT01 = np.array([[1, 0, 0, 0], [0, 1, 0, 0], [0, 0, 0, 1], [0, 0, 1, 0]], dtype=complex)\n",
    "CNOT10 = np.array([[1, 0, 0, 0], [0, 0, 0, 1], [0, 0, 1, 0], [0, 1, 0, 0]], dtype=complex)\n",
    "SWAP = np.array([[1, 0, 0, 0], [0, 0, 1, 0], [0, 1, 0, 0], [0, 0, 0, 1]], dtype=complex)\n",
    "\n",
    "times = np.linspace(0, 1, 100)  # Time range from 0 to 1 seconds\n",
    "\n",
    "# Initial state for each qubit\n",
    "psi_1 =  np.array([1, 0], dtype=complex) # start with |0> for qubits 1 and 2\n",
    "psi_2 =  np.array([1, 0], dtype=complex) # start with |0> for qubits 1 and 2\n",
    "# possible basis states for measurements\n",
    "basis_00 = np.array([1, 0, 0, 0], dtype=complex)\n",
    "basis_01 = np.array([0, 1, 0, 0], dtype=complex)\n",
    "basis_10 = np.array([0, 0, 1, 0], dtype=complex)\n",
    "basis_11 = np.array([0, 0, 0, 1], dtype=complex)\n",
    "# then act with Hadamard on first qubit only\n",
    "psi_1 = Had @ psi_1\n",
    "# Initial two-qubit state\n",
    "Psi_0 = np.kron(psi_1,psi_2)\n",
    "# Then we act on this state in order to get a Bell state 1/sqrt(2)(|00>+|11)\n",
    "Psi_0 = CNOT01 @ Psi_0\n",
    "# Define parameters of Hamiltonian (Time-independent)\n",
    "B = 1.0  # Strength of the magnetic field (in arbitrary units)\n",
    "omega = B  # Frequency associated with the magnetic field\n",
    "# Constructing the Hamiltonian H = -omega/2 * (Z * I + I * Z)\n",
    "H_z_I = -omega / 2 * np.kron(Z, Id)  # Z * I\n",
    "I_H_z = -omega / 2 * np.kron(Id, Z)    # I * Z\n",
    "# Total Hamiltonian, try a more complicated one, this one is very simple\n",
    "H = H_z_I + I_H_z   \n",
    "# Lists to store expectation values\n",
    "expect_00, expect_11 = [], []\n",
    "for t in times:\n",
    "   # Calculate time evolution operator\n",
    "   U = expm(-1j * H * t)\n",
    "   # Evolve the initial state (if you have a time-dependent H, remember to integrate or Trotterize)\n",
    "   Psi_t = U @ Psi_0\n",
    "   # Calculate probabilities of measuring specific states: P(|00>) and P(|11>)\n",
    "   # Calculate expectation values (boring case here)\n",
    "   expect_00.append(abs(np.dot(basis_00.conj(), Psi_t))**2)\n",
    "   expect_11.append(abs(np.dot(basis_11.conj(), Psi_t))**2)\n",
    "\n",
    "# Plotting results using matplotlib\n",
    "plt.figure(figsize=(10, 6))\n",
    "plt.plot(times, expect_00, label='Probability |00>')\n",
    "plt.plot(times, expect_11, label='Probability |11>')\n",
    "plt.xlabel('Time')\n",
    "plt.ylabel('Probability')\n",
    "plt.title('Quantum Sensing Simulation')\n",
    "plt.legend()\n",
    "plt.show()"
   ]
  },
  {
   "cell_type": "markdown",
   "id": "868e947d",
   "metadata": {
    "editable": true
   },
   "source": [
    "## Analysis\n",
    "\n",
    "The result here is pretty boring, we just get $0.5$, as expected. The field acts only in the $z$-direction and is a constant. The probabilities are thus left unchanged.\n",
    "Feel free to change the Hamiltonian. Here's a list of suggestion:\n",
    "1. More realistic Hamiltonian (keep in mind that if you make it time-dependent, you need to integrate over time or Trotterize)\n",
    "\n",
    "2. Change the measurements to say making a measurement on only one of the qubits\n",
    "\n",
    "3. More realistic readout functions\n",
    "\n",
    "4. Study different entangled states\n",
    "\n",
    "5. Study the Fisher entropy and much more\n",
    "\n",
    "Several of these additions will be added."
   ]
  }
 ],
 "metadata": {},
 "nbformat": 4,
 "nbformat_minor": 5
}
