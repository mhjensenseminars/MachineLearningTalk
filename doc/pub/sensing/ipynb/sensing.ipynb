{
 "cells": [
  {
   "cell_type": "markdown",
   "id": "54d47289",
   "metadata": {},
   "source": [
    "<!-- HTML file automatically generated from DocOnce source (https://github.com/doconce/doconce/)\n",
    "doconce format html sensing.do.txt --no_mako -->\n",
    "<!-- dom:TITLE: Making sense of sensing? -->"
   ]
  },
  {
   "cell_type": "markdown",
   "id": "08bbe634",
   "metadata": {},
   "source": [
    "# Making sense of sensing?\n",
    "**Morten Hjorth-Jensen**, Department of Physics, University of Oslo, Norway\n",
    "\n",
    "Date: **March 7, 2025**"
   ]
  },
  {
   "cell_type": "markdown",
   "id": "f5fc821f",
   "metadata": {},
   "source": [
    "## Content\n",
    "1. Simple two-particle (or two-qubit) system to demonstrate entanglement\n",
    "\n",
    "2. Basic elements of sensing"
   ]
  },
  {
   "cell_type": "markdown",
   "id": "ac826fbc",
   "metadata": {},
   "source": [
    "## Computational basis\n",
    "Our computational basis states"
   ]
  },
  {
   "cell_type": "markdown",
   "id": "097d7e5c",
   "metadata": {},
   "source": [
    "$$\n",
    "\\vert 00\\rangle = \\vert 0\\rangle_{\\mathrm{A}}\\otimes \\vert 0\\rangle_{\\mathrm{B}}=\\begin{bmatrix} 1 & 0 & 0 &0\\end{bmatrix}^T,\n",
    "$$"
   ]
  },
  {
   "cell_type": "markdown",
   "id": "79340f27",
   "metadata": {},
   "source": [
    "and"
   ]
  },
  {
   "cell_type": "markdown",
   "id": "b9933eee",
   "metadata": {},
   "source": [
    "$$\n",
    "\\vert 01\\rangle = \\vert 0\\rangle_{\\mathrm{A}}\\otimes \\vert 1\\rangle_{\\mathrm{B}}=\\begin{bmatrix} 0 & 1 & 0 &0\\end{bmatrix}^T,\n",
    "$$"
   ]
  },
  {
   "cell_type": "markdown",
   "id": "58f5f1f7",
   "metadata": {},
   "source": [
    "and"
   ]
  },
  {
   "cell_type": "markdown",
   "id": "dfa5765f",
   "metadata": {},
   "source": [
    "$$\n",
    "\\vert 10\\rangle = \\vert 1\\rangle_{\\mathrm{A}}\\otimes \\vert 0\\rangle_{\\mathrm{B}}=\\begin{bmatrix} 0 & 0 & 1 &0\\end{bmatrix}^T,\n",
    "$$"
   ]
  },
  {
   "cell_type": "markdown",
   "id": "7ea28856",
   "metadata": {},
   "source": [
    "and finally"
   ]
  },
  {
   "cell_type": "markdown",
   "id": "02051851",
   "metadata": {},
   "source": [
    "$$\n",
    "\\vert 11\\rangle = \\vert 1\\rangle_{\\mathrm{A}}\\otimes \\vert 1\\rangle_{\\mathrm{B}}=\\begin{bmatrix} 0 & 0 & 0 &1\\end{bmatrix}^T.\n",
    "$$"
   ]
  },
  {
   "cell_type": "markdown",
   "id": "eed5e0f4",
   "metadata": {},
   "source": [
    "## Simple system to lllustrate entanglement\n",
    "\n",
    "This system can be thought of as composed of two subsystems\n",
    "$A$ and $B$. Each subsystem has computational basis states"
   ]
  },
  {
   "cell_type": "markdown",
   "id": "084c8a14",
   "metadata": {},
   "source": [
    "$$\n",
    "\\vert 0\\rangle_{\\mathrm{A,B}}=\\begin{bmatrix} 1 & 0\\end{bmatrix}^T \\hspace{1cm} \\vert 1\\rangle_{\\mathrm{A,B}}=\\begin{bmatrix} 0 & 1\\end{bmatrix}^T.\n",
    "$$"
   ]
  },
  {
   "cell_type": "markdown",
   "id": "6a4ab06a",
   "metadata": {},
   "source": [
    "The subsystems could represent single particles or composite many-particle systems of a given symmetry."
   ]
  },
  {
   "cell_type": "markdown",
   "id": "9993d47f",
   "metadata": {},
   "source": [
    "## Computational basis states\n",
    "\n",
    "This leads to the many-body computational basis states"
   ]
  },
  {
   "cell_type": "markdown",
   "id": "ead32f62",
   "metadata": {},
   "source": [
    "$$\n",
    "\\vert 00\\rangle = \\vert 0\\rangle_{\\mathrm{A}}\\otimes \\vert 0\\rangle_{\\mathrm{B}}=\\begin{bmatrix} 1 & 0 & 0 &0\\end{bmatrix}^T,\n",
    "$$"
   ]
  },
  {
   "cell_type": "markdown",
   "id": "46a9a54f",
   "metadata": {},
   "source": [
    "and"
   ]
  },
  {
   "cell_type": "markdown",
   "id": "9380a2ea",
   "metadata": {},
   "source": [
    "$$\n",
    "\\vert 01\\rangle = \\vert 0\\rangle_{\\mathrm{A}}\\otimes \\vert 1\\rangle_{\\mathrm{B}}=\\begin{bmatrix} 0 & 1 & 0 &0\\end{bmatrix}^T,\n",
    "$$"
   ]
  },
  {
   "cell_type": "markdown",
   "id": "f221f1f6",
   "metadata": {},
   "source": [
    "and"
   ]
  },
  {
   "cell_type": "markdown",
   "id": "3fa74a40",
   "metadata": {},
   "source": [
    "$$\n",
    "\\vert 10\\rangle = \\vert 1\\rangle_{\\mathrm{A}}\\otimes \\vert 0\\rangle_{\\mathrm{B}}=\\begin{bmatrix} 0 & 0 & 1 &0\\end{bmatrix}^T,\n",
    "$$"
   ]
  },
  {
   "cell_type": "markdown",
   "id": "40087f07",
   "metadata": {},
   "source": [
    "and finally"
   ]
  },
  {
   "cell_type": "markdown",
   "id": "3566d83f",
   "metadata": {},
   "source": [
    "$$\n",
    "\\vert 11\\rangle = \\vert 1\\rangle_{\\mathrm{A}}\\otimes \\vert 1\\rangle_{\\mathrm{B}}=\\begin{bmatrix} 0 & 0 & 0 &1\\end{bmatrix}^T.\n",
    "$$"
   ]
  },
  {
   "cell_type": "markdown",
   "id": "ce43b5d3",
   "metadata": {},
   "source": [
    "## Eigenstates of non-interacting Hamiltonian\n",
    "\n",
    "These computational basis states define the eigenstates of the non-interacting  Hamiltonian"
   ]
  },
  {
   "cell_type": "markdown",
   "id": "14d0f085",
   "metadata": {},
   "source": [
    "$$\n",
    "H_0\\vert 00 \\rangle = \\epsilon_{00}\\vert 00 \\rangle,\n",
    "$$"
   ]
  },
  {
   "cell_type": "markdown",
   "id": "21b0bdd7",
   "metadata": {},
   "source": [
    "$$\n",
    "H_0\\vert 10 \\rangle = \\epsilon_{10}\\vert 10 \\rangle,\n",
    "$$"
   ]
  },
  {
   "cell_type": "markdown",
   "id": "4ba74746",
   "metadata": {},
   "source": [
    "$$\n",
    "H_0\\vert 01 \\rangle = \\epsilon_{01}\\vert 01 \\rangle,\n",
    "$$"
   ]
  },
  {
   "cell_type": "markdown",
   "id": "81e334de",
   "metadata": {},
   "source": [
    "and"
   ]
  },
  {
   "cell_type": "markdown",
   "id": "2ecd7ae1",
   "metadata": {},
   "source": [
    "$$\n",
    "H_0\\vert 11 \\rangle = \\epsilon_{11}\\vert 11 \\rangle.\n",
    "$$"
   ]
  },
  {
   "cell_type": "markdown",
   "id": "004869fd",
   "metadata": {},
   "source": [
    "## Interaction part\n",
    "\n",
    "The interacting part of the Hamiltonian $H_{\\mathrm{I}}$ is given by the tensor product of two $\\sigma_x$ and $\\sigma_z$  matrices, respectively, that is"
   ]
  },
  {
   "cell_type": "markdown",
   "id": "151b1d87",
   "metadata": {},
   "source": [
    "$$\n",
    "H_{\\mathrm{I}}=H_x\\sigma_x\\otimes\\sigma_x+H_z\\sigma_z\\otimes\\sigma_z,\n",
    "$$"
   ]
  },
  {
   "cell_type": "markdown",
   "id": "f7049fa8",
   "metadata": {},
   "source": [
    "where $H_x$ and $H_z$ are interaction strength parameters. Our final Hamiltonian matrix is given by"
   ]
  },
  {
   "cell_type": "markdown",
   "id": "8aad381d",
   "metadata": {},
   "source": [
    "$$\n",
    "\\boldsymbol{H}=\\begin{bmatrix} \\epsilon_{00}+H_z & 0 & 0 & H_x \\\\\n",
    "                       0  & \\epsilon_{10}-H_z & H_x & 0 \\\\\n",
    "\t\t       0 & H_x & \\epsilon_{01}-H_z & 0 \\\\\n",
    "\t\t       H_x & 0 & 0 & \\epsilon_{11} +H_z \\end{bmatrix}.\n",
    "$$"
   ]
  },
  {
   "cell_type": "markdown",
   "id": "ea0a8229",
   "metadata": {},
   "source": [
    "## Density matrices\n",
    "\n",
    "The four eigenstates of the above Hamiltonian matrix can in turn be used to\n",
    "define density matrices. As an example, the density matrix of the\n",
    "first eigenstate (lowest energy $E_0$) $\\Psi_0$ is given by the outerproduct"
   ]
  },
  {
   "cell_type": "markdown",
   "id": "8d5779e5",
   "metadata": {},
   "source": [
    "$$\n",
    "\\rho_0=\\left(\\alpha_{00}\\vert 00 \\rangle+\\alpha_{10}\\vert 10 \\rangle+\\alpha_{01}\\vert 01 \\rangle+\\alpha_{11}\\vert 11 \\rangle\\right)\\left(\\alpha_{00}^*\\langle 00\\vert+\\alpha_{10}^*\\langle 10\\vert+\\alpha_{01}^*\\langle 01\\vert+\\alpha_{11}^*\\langle 11\\vert\\right),\n",
    "$$"
   ]
  },
  {
   "cell_type": "markdown",
   "id": "65aa32e3",
   "metadata": {},
   "source": [
    "where the coefficients $\\alpha_{ij}$ are the eigenvector coefficients\n",
    "resulting from the solution of the above eigenvalue problem."
   ]
  },
  {
   "cell_type": "markdown",
   "id": "8421d96d",
   "metadata": {},
   "source": [
    "## Subsystems\n",
    "\n",
    "We can\n",
    "then in turn define the density matrix for the subsets $A$ or $B$ as"
   ]
  },
  {
   "cell_type": "markdown",
   "id": "93822ca5",
   "metadata": {},
   "source": [
    "$$\n",
    "\\rho_A=\\mathrm{Tr}_B(\\rho_{0})=\\langle 0 \\vert \\rho_{0} \\vert 0\\rangle_{B}+\\langle 1 \\vert \\rho_{0} \\vert 1\\rangle_{B},\n",
    "$$"
   ]
  },
  {
   "cell_type": "markdown",
   "id": "9e41aa17",
   "metadata": {},
   "source": [
    "or"
   ]
  },
  {
   "cell_type": "markdown",
   "id": "31439ca8",
   "metadata": {},
   "source": [
    "$$\n",
    "\\rho_B=\\mathrm{Tr}_A(\\rho_0)=\\langle 0 \\vert \\rho_{0} \\vert 0\\rangle_{A}+\\langle 1 \\vert \\rho_{0} \\vert 1\\rangle_{A}.\n",
    "$$"
   ]
  },
  {
   "cell_type": "markdown",
   "id": "c0e02158",
   "metadata": {},
   "source": [
    "## Entropies\n",
    "\n",
    "The density matrices for these subsets can be used to compute the\n",
    "so-called von Neumann entropy, which is one of the possible measures\n",
    "of entanglement. A pure state has entropy equal zero while entangled\n",
    "state have an entropy larger than zero. The von-Neumann entropy is\n",
    "defined as"
   ]
  },
  {
   "cell_type": "markdown",
   "id": "76f0e1c0",
   "metadata": {},
   "source": [
    "$$\n",
    "S(A,B)=-\\mathrm{Tr}\\left(\\rho_{A,B}\\log_2 (\\rho_{A,B})\\right).\n",
    "$$"
   ]
  },
  {
   "cell_type": "markdown",
   "id": "18020381",
   "metadata": {},
   "source": [
    "## Understanding the example\n",
    "The example here shows the above von Neumann entropy based on the\n",
    "density matrix for the lowest many-body state. We see clearly a jump\n",
    "in the entropy around the point where we have a level crossing. At\n",
    "interaction strenght $\\lambda=0$ we have many-body states purely\n",
    "defined by their computational basis states. As we switch on the\n",
    "interaction strength, we obtain an increased degree of mixing and the\n",
    "entropy increases till we reach the level crossing point where we see\n",
    "an additional and sudden increase in entropy. Similar behaviors are\n",
    "observed for the other states. The most important result from this\n",
    "example is that entanglement is driven by the Hamiltonian itself and\n",
    "the strength of the interaction matrix elements and the\n",
    "non-interacting energies."
   ]
  },
  {
   "cell_type": "markdown",
   "id": "b7b8d768",
   "metadata": {},
   "source": [
    "## Code, best seen in jupyter-notebook"
   ]
  },
  {
   "cell_type": "code",
   "execution_count": 1,
   "id": "6bf01e39",
   "metadata": {},
   "outputs": [
    {
     "name": "stderr",
     "output_type": "stream",
     "text": [
      "/Users/mhjensen/miniforge3/envs/myenv/lib/python3.9/site-packages/scipy/linalg/_matfuncs_inv_ssq.py:827: LogmExactlySingularWarning: The logm input matrix is exactly singular.\n",
      "  warnings.warn(exact_singularity_msg, LogmExactlySingularWarning)\n",
      "/var/folders/td/3yk470mj5p931p9dtkk0y6jw0000gn/T/ipykernel_66344/1520558138.py:50: DeprecationWarning: Conversion of an array with ndim > 0 to a scalar is deprecated, and will error in future. Ensure you extract a single element from your array before performing this operation. (Deprecated NumPy 1.25.)\n",
      "  Entropy[i] = -np.matrix.trace(total @ log2M(total))\n"
     ]
    },
    {
     "data": {
      "image/png": "[encoded data removed]",
      "text/plain": [
       "<Figure size 640x480 with 1 Axes>"
      ]
     },
     "metadata": {},
     "output_type": "display_data"
    },
    {
     "data": {
      "text/plain": [
       "<function matplotlib.pyplot.show(close=None, block=None)>"
      ]
     },
     "execution_count": 1,
     "metadata": {},
     "output_type": "execute_result"
    },
    {
     "data": {
      "image/png": "[encoded data removed]",
      "text/plain": [
       "<Figure size 640x480 with 1 Axes>"
      ]
     },
     "metadata": {},
     "output_type": "display_data"
    }
   ],
   "source": [
    "%matplotlib inline\n",
    "\n",
    "%matplotlib inline\n",
    "from  matplotlib import pyplot as plt\n",
    "import numpy as np\n",
    "from scipy.linalg import logm, expm\n",
    "def log2M(a): # base 2 matrix logarithm\n",
    "    return logm(a)/np.log(2.0)\n",
    "\n",
    "dim = 4\n",
    "Hamiltonian = np.zeros((dim,dim))\n",
    "#number of lambda values\n",
    "n = 40\n",
    "lmbd = np.linspace(0.0,1.0,n)\n",
    "Hx = 2.0\n",
    "Hz = 3.0\n",
    "# Non-diagonal part as sigma_x tensor product with sigma_x\n",
    "sx = np.matrix([[0,1],[1,0]])\n",
    "sx2 = Hx*np.kron(sx, sx)\n",
    "# Diagonal part as sigma_z tensor product with sigma_z\n",
    "sz = np.matrix([[1,0],[0,-1]])\n",
    "sz2 = Hz*np.kron(sz, sz)\n",
    "noninteracting = [0.0, 2.5, 6.5, 7.0]\n",
    "D = np.diag(noninteracting)\n",
    "Eigenvalue = np.zeros((dim,n))\n",
    "Entropy = np.zeros(n)\n",
    "\n",
    "for i in range(n): \n",
    "    Hamiltonian = lmbd[i]*(sx2+sz2)+D\n",
    "    # diagonalize and obtain eigenvalues, not necessarily sorted\n",
    "    EigValues, EigVectors = np.linalg.eig(Hamiltonian)\n",
    "    # sort eigenvectors and eigenvalues\n",
    "    permute = EigValues.argsort()\n",
    "    EigValues = EigValues[permute]\n",
    "    EigVectors = EigVectors[:,permute]\n",
    "    # Compute density matrix for selected system state, here ground state\n",
    "    DensityMatrix = np.zeros((dim,dim))\n",
    "    DensityMatrix = np.outer(EigVectors[:,0],EigVectors[:,0])\n",
    "    # Project down on substates and find density matrix for subsystem\n",
    "    d = np.matrix([[1,0],[0,1]])\n",
    "    v1 = [1.0,0.0]\n",
    "    proj1 = np.kron(v1,d)\n",
    "    x1 = proj1 @ DensityMatrix @ proj1.T\n",
    "    v2 = [0.0,1.0]\n",
    "    proj2 = np.kron(v2,d)\n",
    "    x2 = proj2 @ DensityMatrix @ proj2.T\n",
    "    # Total density matrix for subsystem\n",
    "    total = x1+x2\n",
    "    # von Neumann Entropy for subsystem \n",
    "    Entropy[i] = -np.matrix.trace(total @ log2M(total))\n",
    "    # Plotting eigenvalues and entropy as functions of interaction strengths\n",
    "    Eigenvalue[0,i] = EigValues[0]\n",
    "    Eigenvalue[1,i] = EigValues[1]\n",
    "    Eigenvalue[2,i] = EigValues[2]\n",
    "    Eigenvalue[3,i] = EigValues[3]\n",
    "plt.plot(lmbd, Eigenvalue[0,:] ,'b-',lmbd, Eigenvalue[1,:],'g-',)\n",
    "plt.plot(lmbd, Eigenvalue[2,:] ,'r-',lmbd, Eigenvalue[3,:],'y-',)\n",
    "plt.xlabel('$\\lambda$')\n",
    "plt.ylabel('Eigenvalues')\n",
    "plt.show()\n",
    "plt.plot(lmbd, Entropy)\n",
    "plt.xlabel('$\\lambda$')\n",
    "plt.ylabel('Entropy')          \n",
    "plt.show"
   ]
  },
  {
   "cell_type": "markdown",
   "id": "51030152",
   "metadata": {},
   "source": [
    "## Hamiltonian example, simple one-qubit system\n",
    "See whiteboard notes"
   ]
  },
  {
   "cell_type": "markdown",
   "id": "25c83267",
   "metadata": {},
   "source": [
    "## Initialization\n",
    "\n",
    "To initialize a given system to a known quantum state, we first start\n",
    "with a known ground state $|0\\rangle$. Then, depending on the type of\n",
    "information that we want to learn about the stimulus, the measurement\n",
    "scheme to be used, and the physical implementation of the quantum\n",
    "system, we choose some unitary operator $U_{\\text {Init }}$ such that\n",
    "it transforms our state $|0\\rangle$ to a desired initial superposition\n",
    "state $\\left|\\psi_{\\text {Init }}\\right\\rangle=a|0\\rangle+b|1\\rangle$\n",
    "for some $a, b \\in \\mathbb{C}$ such that $|a|^{2}+|b|^{2}=1$."
   ]
  },
  {
   "cell_type": "markdown",
   "id": "4d73a091",
   "metadata": {},
   "source": [
    "## Effects of Stimulus\n",
    "\n",
    "After the sensing state is initialized, it is exposed to the environment and evolves according to the time-evolution operator of the sensing Hamiltonian $\\hat{U}_{H}$ as"
   ]
  },
  {
   "cell_type": "markdown",
   "id": "c0fa3410",
   "metadata": {},
   "source": [
    "$$\n",
    "|\\psi(t)\\rangle=\\hat{U}_{H}(0, t)\\left|\\psi_{\\text {Init }}(0)\\right\\rangle\n",
    "$$"
   ]
  },
  {
   "cell_type": "markdown",
   "id": "25bc4802",
   "metadata": {},
   "source": [
    "In general, $\\hat{U}_{H}(0, t)=e^{\\frac{i}{\\hbar} \\int_{0}^{t} \\hat{H} d \\tau}$ could be a complicated, non-analytical function for a time-dependent $V(t)$ (making $\\hat{H}$ time-dependent as well)."
   ]
  },
  {
   "cell_type": "markdown",
   "id": "a47f8cc4",
   "metadata": {},
   "source": [
    "## Slowly changing potential\n",
    "\n",
    "However, in the case where $V(t)$ is constant or changes much more slowly than our sensing integration time, we can assume"
   ]
  },
  {
   "cell_type": "markdown",
   "id": "5da4500b",
   "metadata": {},
   "source": [
    "$$\n",
    "|\\psi(t)\\rangle=\\hat{U}_{H}(0, t)\\left|\\psi_{\\text {Init }}(0)\\right\\rangle=e^{\\frac{i t}{\\hbar} \\hat{H}}\\left|\\psi_{\\text {Init }}(0)\\right\\rangle\n",
    "$$"
   ]
  },
  {
   "cell_type": "markdown",
   "id": "9d16d073",
   "metadata": {},
   "source": [
    "which means the sensing state evolves as"
   ]
  },
  {
   "cell_type": "markdown",
   "id": "c04626a9",
   "metadata": {},
   "source": [
    "$$\n",
    "|\\psi(t)\\rangle=\\left(e^{\\frac{i t}{\\hbar}\\left(E_{0}-\\frac{1}{2} \\gamma V_Z\\right)}\\left|\\lambda_{0}\\right\\rangle\\left\\langle\\lambda_{0}\\right|+e^{\\frac{i t}{\\hbar}\\left(E_{1}+\\frac{1}{2} \\gamma V_Z\\right)}\\left|\\lambda_{1}\\right\\rangle\\left\\langle\\lambda_{1}\\right|\\right)\\left|\\psi_{\\text {Init }}(0)\\right\\rangle\n",
    "$$"
   ]
  },
  {
   "cell_type": "markdown",
   "id": "42b29cd4",
   "metadata": {},
   "source": [
    "using the spectral decomposition and the final representation of the\n",
    "sensing Hamiltonian found previously (whiteboard notes)."
   ]
  },
  {
   "cell_type": "markdown",
   "id": "fcf86245",
   "metadata": {},
   "source": [
    "## Readout\n",
    "\n",
    "After the sensing state has time-evolved in the presence of $V(t)$, it\n",
    "can be transformed again before a measurement is taken. The first\n",
    "part, the transformation to some desired read-out state, is performed\n",
    "by an operator $\\hat{U}_{\\text {Readout }}$ (which is often\n",
    "$\\hat{U}_{\\text {Init }}^{-1}$, see Degen et al., 2017) where"
   ]
  },
  {
   "cell_type": "markdown",
   "id": "9eed2806",
   "metadata": {},
   "source": [
    "$$\n",
    "\\left|\\psi_{\\text {Final }}\\right\\rangle=\\hat{U}_{\\text {Readout }}|\\psi(t)\\rangle\n",
    "$$"
   ]
  },
  {
   "cell_type": "markdown",
   "id": "057e4274",
   "metadata": {},
   "source": [
    "## Measurement\n",
    "\n",
    "A measurement of this final state $\\left|\\psi_{\\text {Final\n",
    "}}\\right\\rangle=a^{\\prime}|0\\rangle+b^{\\prime}|1\\rangle$ is made with\n",
    "respect to the basis $\\{|0\\rangle,|1\\rangle\\}$ where\n",
    "$|0\\rangle$ is measured with proability"
   ]
  },
  {
   "cell_type": "markdown",
   "id": "666fea94",
   "metadata": {},
   "source": [
    "$$\n",
    "\\left|\\left\\langle 0 \\mid \\psi_{\\text {Final}}\\right\\rangle\\right|^{2}=\\left|a^{\\prime}\\right|^{2},\n",
    "$$"
   ]
  },
  {
   "cell_type": "markdown",
   "id": "c32bd76e",
   "metadata": {},
   "source": [
    "and $|1\\rangle$ is measured with probability"
   ]
  },
  {
   "cell_type": "markdown",
   "id": "cca99240",
   "metadata": {},
   "source": [
    "$$\n",
    "\\left|\\left\\langle 1 \\mid\\psi_{\\text {Final}}\\right\\rangle\\right|^{2}=\\left|b^{\\prime}\\right|^{2}.\n",
    "$$"
   ]
  },
  {
   "cell_type": "markdown",
   "id": "8ba832fe",
   "metadata": {},
   "source": [
    "After this\n",
    "measurement, the sensing state has been collapsed into one of the\n",
    "basis states, so no more information can be gained."
   ]
  },
  {
   "cell_type": "markdown",
   "id": "62e0b9ac",
   "metadata": {},
   "source": [
    "## Multiple measurements\n",
    "\n",
    "However, by having\n",
    "multiple quantum sensing elements time-evolving together or by\n",
    "repeating the process many times before the external stimulus $V(t)$\n",
    "can change, a transition probability $p_{|0\\rangle\n",
    "\\rightarrow|1\\rangle}=\\left|\\left\\langle 1 \\mid \\psi_{\\text {Final\n",
    "}}\\right\\rangle\\right|^{2}=\\left|b^{\\prime}\\right|^{2}$ can be\n",
    "estimated. The 'sensing' is then accomplished by taking a series of\n",
    "these transition probabilities as a time-series, and then using the\n",
    "results to estimate the sensed stimulus $V(t)$ [Degen et al., 2017]."
   ]
  },
  {
   "cell_type": "markdown",
   "id": "1db72079",
   "metadata": {},
   "source": [
    "## Example\n",
    "\n",
    "The simplest mathematical example of quantum sensing is sensing an\n",
    "external stimulus's effect on the splitting of the energy levels of an\n",
    "isolated system. Suppose our stimulus is constant and 'parallel' with\n",
    "our sensor, i.e. $V_z(t)=V_{0}$ and $V_x=0$, and we choose\n",
    "our initialization and readout preparation operators to be the famous\n",
    "Hadamard gate"
   ]
  },
  {
   "cell_type": "markdown",
   "id": "9da0adba",
   "metadata": {},
   "source": [
    "$$\n",
    "\\hat{U}_{H a d}=\\frac{1}{\\sqrt{2}}\\left(\\begin{array}{cc}\n",
    "1 & 1 \\\\\n",
    "1 & -1\n",
    "\\end{array}\\right)\n",
    "$$"
   ]
  },
  {
   "cell_type": "markdown",
   "id": "1c3ab1f4",
   "metadata": {},
   "source": [
    "since $\\hat{U}_{\\text {Had }}^{-1}=\\hat{U}_{\\text {Had }}$.\\\\"
   ]
  },
  {
   "cell_type": "markdown",
   "id": "c6ad0468",
   "metadata": {},
   "source": [
    "## Evolution of initial state\n",
    "\n",
    "The initial state is"
   ]
  },
  {
   "cell_type": "markdown",
   "id": "a0a7e3ce",
   "metadata": {},
   "source": [
    "$$\n",
    "\\left|\\psi_{\\text {Init }}\\right\\rangle=\\hat{U}_{\\text {Had }}|0\\rangle=\\frac{1}{\\sqrt{2}}\\left(\\begin{array}{cc}\n",
    "1 & 1 \\\\\n",
    "1 & -1\n",
    "\\end{array}\\right)\\binom{1}{0}=\\frac{1}{\\sqrt{2}}\\binom{1}{1}\n",
    "$$"
   ]
  },
  {
   "cell_type": "markdown",
   "id": "36f37785",
   "metadata": {},
   "source": [
    "This need not necessarily be the same basis into which the system was initialized, but we'll assume it is so that we only have to keep track of one basis."
   ]
  },
  {
   "cell_type": "markdown",
   "id": "33589f46",
   "metadata": {},
   "source": [
    "## State evolution\n",
    "\n",
    "The state evolves as"
   ]
  },
  {
   "cell_type": "markdown",
   "id": "e71d66e4",
   "metadata": {},
   "source": [
    "$$\n",
    "\\begin{align*}\n",
    "|\\psi(t)\\rangle=&\\left(e^{\\frac{i t}{\\hbar}\\left(E_{0}-\\frac{1}{2} \\gamma V_Z\\right)}|0\\rangle\\langle 0|+e^{\\frac{i t}{\\hbar}\\left(E_{1}+\\frac{1}{2} \\gamma V_Z\\right)}|1\\rangle\\langle 1|\\right)\\left|\\psi_{\\text {Init }}(0)\\right\\rangle\\\\\n",
    "&=\\left(\\begin{array}{cc}\n",
    "e^{\\frac{i t}{\\hbar}\\left(E_{0}-\\frac{1}{2} \\gamma V_Z\\right)} & 0 \\\\\n",
    "0 & e^{\\frac{i t}{\\hbar}\\left(E_{1}+\\frac{1}{2} \\gamma V_Z\\right)}\n",
    "\\end{array}\\right) \\frac{1}{\\sqrt{2}}\\binom{1}{1} \\\\\n",
    "& =\\frac{1}{\\sqrt{2}}\\binom{e^{\\frac{i t}{\\hbar}\\left(E_{0}-\\frac{1}{2} \\gamma V_Z\\right)}}{e^{\\frac{i t}{\\hbar}\\left(E_{1}+\\frac{1}{2} \\gamma V_Z\\right)}}\\\\\n",
    "&=\\frac{1}{\\sqrt{2}} e^{\\frac{i t}{\\hbar}\\left(E_{0}-\\frac{1}{2} \\gamma V_Z\\right)}\\binom{1}{e^{\\frac{i t}{\\hbar}\\left(E_{1}-E_{0}+\\gamma V_Z\\right)}}\n",
    "\\end{align*}\n",
    "$$"
   ]
  },
  {
   "cell_type": "markdown",
   "id": "ba5afe29",
   "metadata": {},
   "source": [
    "## Preparing for readout\n",
    "\n",
    "This is then prepared for readout as"
   ]
  },
  {
   "cell_type": "markdown",
   "id": "8758b085",
   "metadata": {},
   "source": [
    "$$\n",
    "\\vert\\psi_{\\text {Final }}\\rangle=\\frac{1}{2} \\exp{\\frac{\\imath t}{\\hbar}(E_{0}-\\frac{1}{2} \\gamma V_Z)}\n",
    "\\begin{bmatrix} 1+\\exp{\\frac{\\imath t}{\\hbar}(E_{1}-E_{0}+\\gamma V_Z)} \\\\ 1-\\exp{(\\frac{\\imath t}{\\hbar}(E_{1}-E_{0}+\\gamma V_Z)}\\end{bmatrix}.\n",
    "$$"
   ]
  },
  {
   "cell_type": "markdown",
   "id": "0d8b4a32",
   "metadata": {},
   "source": [
    "## Transition probability\n",
    "\n",
    "The transition probability"
   ]
  },
  {
   "cell_type": "markdown",
   "id": "0c295196",
   "metadata": {},
   "source": [
    "$$\n",
    "\\begin{align*}\n",
    "p_{|0\\rangle \\rightarrow|1\\rangle}=\\left|\\left\\langle 1 \\mid \\psi_{\\text {Final }}\\right\\rangle\\right|^{2}=&\\left|1-e^{\\frac{i t}{\\hbar}\\left(E_{1}-E_{0}+\\gamma V_Z\\right)}\\right|^{2}\\\\\n",
    "&=\\frac{1}{2}\\left(1-\\cos \\left(t \\frac{\\left(E_{1}-E_{0}\\right)+\\gamma V_Z}{\\hbar}\\right)\\right)\n",
    "\\end{align*}\n",
    "$$"
   ]
  },
  {
   "cell_type": "markdown",
   "id": "6b4e7e53",
   "metadata": {},
   "source": [
    "## [Ramsey interferometry](https://en.wikipedia.org/wiki/Ramsey_interferometry)\n",
    "\n",
    "We know the difference in energy between $E_{1}$ and $E_{0}$, either\n",
    "since we constructed the system or by taking measurements without the\n",
    "external stimulus $V$, and we can control the time $t$ for which the\n",
    "system is allowed to evolve under the external stimulus. Then we can\n",
    "fix $t$ and take many measurements to estimate $p_{|0\\rangle\n",
    "\\rightarrow|1\\rangle}$, which then makes finding $t \\frac{\\gamma\n",
    "V_Z}{\\hbar}$ a simple phase-estimation problem which gives us $\\gamma\n",
    "V_Z$. The physical implementation of this process is known as Ramsey\n",
    "Interferometry, and it can be done with arbitary initialization and\n",
    "readout preparation unitary operators."
   ]
  },
  {
   "cell_type": "markdown",
   "id": "e9836cd7",
   "metadata": {},
   "source": [
    "## Benefits of Entanglement\n",
    "\n",
    "Up until now, we have said that we take many measurements of\n",
    "$\\left|\\psi_{\\text {Final }}\\right\\rangle$ to estimate $p_{|0\\rangle\n",
    "\\rightarrow|1\\rangle}$, but we have been glossing over the estimation\n",
    "process. Assuming we can take $N$ measurements, either by having $N$\n",
    "experimental apparatuses running in parallel or by taking $N$\n",
    "different measurements of a (relatively) constant $V$ with a single\n",
    "apparatus, the uncertainty in $p$, denoted as $\\sigma_{p}$ (this is a\n",
    "positive real number; not to be confused with the Pauli matrices),\n",
    "scales as"
   ]
  },
  {
   "cell_type": "markdown",
   "id": "10c5dc45",
   "metadata": {},
   "source": [
    "$$\n",
    "\\sigma_{p} \\propto \\frac{1}{\\sqrt{N}}\n",
    "$$"
   ]
  },
  {
   "cell_type": "markdown",
   "id": "64c0c043",
   "metadata": {},
   "source": [
    "## Ramsey interferometry\n",
    "\n",
    "If we consider Ramsey Interferometry as an example, see <https://en.wikipedia.org/wiki/Ramsey_interferometry>, then the\n",
    "uncertainty in $\\gamma V_Z$ and so in $V_Z$, denoted $\\sigma_{V}$,\n",
    "scales as"
   ]
  },
  {
   "cell_type": "markdown",
   "id": "c8f6a61d",
   "metadata": {},
   "source": [
    "$$\n",
    "\\sigma_{V} \\propto \\sigma_{p} \\propto \\frac{1}{\\sqrt{N}}\n",
    "$$"
   ]
  },
  {
   "cell_type": "markdown",
   "id": "23f559fc",
   "metadata": {},
   "source": [
    "This relationship is known as the standard quantum limit (SQL)\n",
    "[Giovannetti et al., 2011], but can also be explained with the Law of\n",
    "\n",
    "Large Numbers from statistics, where measuring $N$ similarly\n",
    "distributed, well-behaved random variables gives the sample mean as an\n",
    "estimator for the population mean and the sample variance divided by\n",
    "the size of the sample as an uncertainty in the estimate of the\n",
    "population mean."
   ]
  },
  {
   "cell_type": "markdown",
   "id": "7b9b890e",
   "metadata": {},
   "source": [
    "## More than one qubit\n",
    "\n",
    "The nature of quantum systems allows for more information to be\n",
    "extracted by exploiting entanglement between quantum systems. This is\n",
    "the fundamental basis for the benefits of quantum computing over\n",
    "classical computing, and quantum sensing has similar benefits over\n",
    "classical sensing. Suppose we return to the example above, but rather\n",
    "than initializing $N$ sensing qubits separately, we initialize\n",
    "$\\frac{N}{n}$ groups each with $n$ entangled quantum systems. Then we\n",
    "have"
   ]
  },
  {
   "cell_type": "markdown",
   "id": "298de0b0",
   "metadata": {},
   "source": [
    "$$\n",
    "\\left|\\psi_{\\text {Init }}\\right\\rangle=\\frac{1}{\\sqrt{2^{n}}}\\left(|0\\rangle^{\\otimes n}+|1\\rangle^{\\otimes n}\\right),\n",
    "$$"
   ]
  },
  {
   "cell_type": "markdown",
   "id": "5564b478",
   "metadata": {},
   "source": [
    "where $|0\\rangle^{\\otimes n}=|0\\rangle \\otimes \\ldots \\otimes|0\\rangle, n$ times."
   ]
  },
  {
   "cell_type": "markdown",
   "id": "7caf4c20",
   "metadata": {},
   "source": [
    "## After initialization\n",
    "\n",
    "After initialization, each of the $n$ sensing qubits evolves to pick up a relative phase factor of $e^{\\frac{i t}{\\hbar}\\left(E_{1}-E_{0}+\\gamma V_Z\\right)}$, which combined results in"
   ]
  },
  {
   "cell_type": "markdown",
   "id": "4fb0ceeb",
   "metadata": {},
   "source": [
    "$$\n",
    "|\\psi(t)\\rangle=\\mathcal{N}\\left(|0\\rangle^{\\otimes n}+e^{n \\frac{i t}{\\hbar}\\left(E_{1}-E_{0}+\\gamma V_Z\\right)}|1\\rangle^{\\otimes n}\\right)\n",
    "$$"
   ]
  },
  {
   "cell_type": "markdown",
   "id": "9e12255b",
   "metadata": {},
   "source": [
    "where $\\mathcal{N}$ is just a factor to take care of normalization."
   ]
  },
  {
   "cell_type": "markdown",
   "id": "df8f1045",
   "metadata": {},
   "source": [
    "## Transition probability\n",
    "\n",
    "The transition probability"
   ]
  },
  {
   "cell_type": "markdown",
   "id": "0af99c94",
   "metadata": {},
   "source": [
    "$$\n",
    "p_{|0\\rangle \\rightarrow|1\\rangle}=\\left|\\left\\langle 1 \\mid \\psi_{\\text {Final }}\\right\\rangle\\right|^{2}=\\frac{1}{2}\\left(1-\\cos \\left(t \\frac{n\\left(E_{1}-E_{0}\\right)+n \\gamma V_Z}{\\hbar}\\right)\\right)\n",
    "$$"
   ]
  },
  {
   "cell_type": "markdown",
   "id": "37f67cbf",
   "metadata": {},
   "source": [
    "## Role of entanglement\n",
    "\n",
    "From this, we can see that through entangling $n$ sensing qubits, the\n",
    "**signal** we are trying to sense increases from $V_Z \\rightarrow n\n",
    "V_Z$, and with $\\frac{N}{n}$ total measurements,"
   ]
  },
  {
   "cell_type": "markdown",
   "id": "8637195b",
   "metadata": {},
   "source": [
    "$$\n",
    "\\sigma_{V} \\propto \\frac{1}{n} \\sigma_{p} \\propto \\frac{1}{n}\\left(\\frac{1}{\\sqrt{\\frac{N}{n}}}\\right)=\\frac{1}{\\sqrt{N n}}\n",
    "$$"
   ]
  },
  {
   "cell_type": "markdown",
   "id": "1cc759b4",
   "metadata": {},
   "source": [
    "which means the error decreased by a factor of $\\sqrt{n}$. In the case where $n=N$, the uncertainty now scales as"
   ]
  },
  {
   "cell_type": "markdown",
   "id": "a50b52e5",
   "metadata": {},
   "source": [
    "$$\n",
    "\\sigma_{V} \\propto \\frac{1}{N}\n",
    "$$"
   ]
  },
  {
   "cell_type": "markdown",
   "id": "592208f0",
   "metadata": {},
   "source": [
    "which is known as the Heisenberg limit, and is the\n",
    "quantum-mechanically limited, maximal amount of information one can\n",
    "get from taking $n$ quantum sensing measurements [Giovannetti et al.,\n",
    "2011]."
   ]
  },
  {
   "cell_type": "markdown",
   "id": "0c13137d",
   "metadata": {},
   "source": [
    "## Concluding remarks\n",
    "\n",
    "Quantum sensing is an emerging field with a large number of exciting\n",
    "applications. In terms of physical implementation, quantum sensors are\n",
    "able to naturally be more sensitive and sense on smaller scales than\n",
    "many classical sensors, while also often being directly tracable to\n",
    "fundamental physical constants.\n",
    "\n",
    "Additionally, exploiting entanglement and the quantum nature of these\n",
    "devices allows for fundamentally more information to be collected than\n",
    "is allowed by classical measurements and the SQL. Quantum sensing\n",
    "fundamentally improves upon the physical and theoretical limitations\n",
    "of classical sensing, and it will be interesting to see how and what\n",
    "physical realizations develop to the point of practicality in the near\n",
    "future."
   ]
  }
 ],
 "metadata": {
  "kernelspec": {
   "display_name": "Python 3 (ipykernel)",
   "language": "python",
   "name": "python3"
  },
  "language_info": {
   "codemirror_mode": {
    "name": "ipython",
    "version": 3
   },
   "file_extension": ".py",
   "mimetype": "text/x-python",
   "name": "python",
   "nbconvert_exporter": "python",
   "pygments_lexer": "ipython3",
   "version": "3.9.15"
  }
 },
 "nbformat": 4,
 "nbformat_minor": 5
}
