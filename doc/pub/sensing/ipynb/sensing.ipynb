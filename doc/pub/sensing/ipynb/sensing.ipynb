{
 "cells": [
  {
   "cell_type": "markdown",
   "id": "c2ab6ade",
   "metadata": {
    "editable": true
   },
   "source": [
    "<!-- HTML file automatically generated from DocOnce source (https://github.com/doconce/doconce/)\n",
    "doconce format html sensing.do.txt --no_mako -->\n",
    "<!-- dom:TITLE: Making sense of sensing?  -->"
   ]
  },
  {
   "cell_type": "markdown",
   "id": "e7f91ce0",
   "metadata": {
    "editable": true
   },
   "source": [
    "# Making sense of sensing? \n",
    "**Morten Hjorth-Jensen**, Department of Physics, University of Oslo, Norway\n",
    "\n",
    "Date: **March 2025**"
   ]
  },
  {
   "cell_type": "markdown",
   "id": "0ec5970a",
   "metadata": {
    "editable": true
   },
   "source": [
    "## Motivation and Content\n",
    "\n",
    "These notes aim at linking entanglement in quantum mechanical systems\n",
    "with quantum sensing using simple examples.  Numerical codes are\n",
    "included in order to illustrate basic elements of sensing.  The\n",
    "examples are tailored to simple one- and two-qubit systems. The\n",
    "material contains\n",
    "1. One-qubit system with basic elements of sensing\n",
    "\n",
    "2. Linking analytically solvable case with many-qubit entanglement and sensing\n",
    "\n",
    "3. Simple two-particle (or two-qubit) system to demonstrate entanglement and its links with sensing (to come)"
   ]
  },
  {
   "cell_type": "markdown",
   "id": "1f9a102a",
   "metadata": {
    "editable": true
   },
   "source": [
    "## More material will be added\n",
    "\n",
    "In particular, we will include\n",
    "* Quantum computing simulations of the above systems using the Variational Quantum Eigensolver algorithm\n",
    "\n",
    "* Discussion of Fisher entropy and other measures\n",
    "\n",
    "* Numerical codes for general time-dependent interactions\n",
    "\n",
    "* Initial state preparations and final results and more\n",
    "\n",
    "Feel free to come with suggestions for additions. You can access the material at <https://github.com/mhjensenseminars/MachineLearningTalk/blob/master/doc/pub/sensing/ipynb/sensing.ipynb>"
   ]
  },
  {
   "cell_type": "markdown",
   "id": "f27576d5",
   "metadata": {
    "editable": true
   },
   "source": [
    "## Literature\n",
    "\n",
    "In the discussions here we have borrowed extensively from two Review of Modern Physics\n",
    "articles\n",
    "1. **Quantum sensing**, C.L. Degen, F. Reinhard, and P. Cappellaro, Reviews of  Modern  Physics **89**, 035002 (2017), see <https://journals.aps.org/rmp/abstract/10.1103/RevModPhys.89.035002>\n",
    "\n",
    "2. **Quantum metrology with nonclassical states of atomic ensembles**, L. Pezzè, A. Smerzi, M.K. Oberthaler, R. Schmied, and P. Treutlein, Reviews of  Modern  Physics **90**, 035005 (2018), see <https://journals.aps.org/rmp/abstract/10.1103/RevModPhys.90.035005>\n",
    "\n",
    "3. See also recent work by Liu et at <https://www.nature.com/articles/s41534-021-00507-x>. We may add codes which simulate these systems as well, stay tuned."
   ]
  },
  {
   "cell_type": "markdown",
   "id": "f84d9912",
   "metadata": {
    "editable": true
   },
   "source": [
    "## One-qubit system\n",
    "\n",
    "In the first part of this notebook, we will analyze our systems using\n",
    "plain diagonalization and simple analytical manipulations.  Thereafter\n",
    "we will develop codes and material for performing a quantum computing\n",
    "simulation of the same systems (this material is not yet ready).\n",
    "\n",
    "Our first encounter is a simple one-qubit system, described by a simple $2\\times 2$ Hamiltonian.\n",
    "\n",
    "We start with a simple $2\\times 2$ Hamiltonian matrix expressed in\n",
    "terms of Pauli $\\boldsymbol{X}$, $\\boldsymbol{Y}$  and $\\boldsymbol{Z}$ matrices. But before we proceed, a simple reminder is appropriate."
   ]
  },
  {
   "cell_type": "markdown",
   "id": "f189c489",
   "metadata": {
    "editable": true
   },
   "source": [
    "## Definitions: Single qubit gates\n",
    "\n",
    "The Pauli matrices (and gate operations following therefrom) are defined as"
   ]
  },
  {
   "cell_type": "markdown",
   "id": "5201f260",
   "metadata": {
    "editable": true
   },
   "source": [
    "$$\n",
    "\\boldsymbol{X} \\equiv \\sigma_x = \\begin{bmatrix}\n",
    "\t\t0 & 1 \\\\\n",
    "\t\t1 & 0\n",
    "\t\\end{bmatrix}, \\quad\n",
    "\t\\boldsymbol{Y} \\equiv \\sigma_y = \\begin{bmatrix}\n",
    "\t\t0 & -i \\\\\n",
    "\t\ti & 0\n",
    "\t\\end{bmatrix}, \\quad\n",
    "\t\\boldsymbol{Z} \\equiv \\sigma_z = \\begin{bmatrix}\n",
    "\t\t1 & 0 \\\\\n",
    "\t\t0 & -1\n",
    "\t\\end{bmatrix}.\n",
    "$$"
   ]
  },
  {
   "cell_type": "markdown",
   "id": "d6e9a00a",
   "metadata": {
    "editable": true
   },
   "source": [
    "## Pauli-$\\boldsymbol{X}$ gate\n",
    "\n",
    "The Pauli-$\\boldsymbol{X}$ gate is also known as the **NOT** gate, which flips the state of the qubit."
   ]
  },
  {
   "cell_type": "markdown",
   "id": "fe8074a2",
   "metadata": {
    "editable": true
   },
   "source": [
    "$$\n",
    "\\begin{align*}\n",
    "\t\\boldsymbol{X}\\vert 0\\rangle &= \\vert 1\\rangle, \\\\\n",
    "\t\\boldsymbol{X}\\vert 1\\rangle &= \\vert 0\\rangle.\t\n",
    "\\end{align*}\n",
    "$$"
   ]
  },
  {
   "cell_type": "markdown",
   "id": "abbf0930",
   "metadata": {
    "editable": true
   },
   "source": [
    "The Pauli-$\\boldsymbol{Y}$ gate flips the bit and multiplies the phase by $ i $."
   ]
  },
  {
   "cell_type": "markdown",
   "id": "4ec1a081",
   "metadata": {
    "editable": true
   },
   "source": [
    "$$\n",
    "\\begin{align*}\n",
    "\t\\boldsymbol{Y}\\vert 0\\rangle &= i\\vert 1\\rangle, \\\\\n",
    "\t\\boldsymbol{Y}\\vert 1\\rangle &= -i\\vert 0\\rangle.\n",
    "\\end{align*}\n",
    "$$"
   ]
  },
  {
   "cell_type": "markdown",
   "id": "ea9c64a6",
   "metadata": {
    "editable": true
   },
   "source": [
    "The Pauli-$\\boldsymbol{Z}$ gate multiplies only the phase of $\\vert 1\\rangle$ by $ -1 $."
   ]
  },
  {
   "cell_type": "markdown",
   "id": "418669d9",
   "metadata": {
    "editable": true
   },
   "source": [
    "$$\n",
    "\\begin{align*}\n",
    "\t\\boldsymbol{Z}\\vert 0\\rangle &= \\vert 0\\rangle, \\\\\n",
    "\t\\boldsymbol{Z}\\vert 1\\rangle &= -\\vert 1\\rangle.\n",
    "\\end{align*}\n",
    "$$"
   ]
  },
  {
   "cell_type": "markdown",
   "id": "abcf294f",
   "metadata": {
    "editable": true
   },
   "source": [
    "## Hadamard gate\n",
    "\n",
    "The Hadamard gate is defined as"
   ]
  },
  {
   "cell_type": "markdown",
   "id": "8432d73e",
   "metadata": {
    "editable": true
   },
   "source": [
    "$$\n",
    "\\boldsymbol{H} = \\frac{1}{\\sqrt{2}} \\begin{bmatrix}\n",
    "\t\t1 & 1 \\\\\n",
    "\t\t1 & -1\n",
    "\t\\end{bmatrix}.\n",
    "$$"
   ]
  },
  {
   "cell_type": "markdown",
   "id": "827ea917",
   "metadata": {
    "editable": true
   },
   "source": [
    "It creates a superposition of the $ \\vert 0\\rangle $ and $ \\vert 1\\rangle $ states."
   ]
  },
  {
   "cell_type": "markdown",
   "id": "ec21f7b4",
   "metadata": {
    "editable": true
   },
   "source": [
    "<!-- Equation labels as ordinary links -->\n",
    "<div id=\"_auto1\"></div>\n",
    "\n",
    "$$\n",
    "\\begin{equation}\n",
    "\t\\boldsymbol{H}\\vert 0\\rangle = \\frac{1}{\\sqrt{2}} \\left( \\vert 0\\rangle + \\vert 1\\rangle \\right), \n",
    "\\label{_auto1} \\tag{1}\n",
    "\\end{equation}\n",
    "$$"
   ]
  },
  {
   "cell_type": "markdown",
   "id": "a8d14c38",
   "metadata": {
    "editable": true
   },
   "source": [
    "<!-- Equation labels as ordinary links -->\n",
    "<div id=\"_auto2\"></div>\n",
    "\n",
    "$$\n",
    "\\begin{equation} \n",
    "\t\\boldsymbol{H}\\vert 1\\rangle = \\frac{1}{\\sqrt{2}} \\left( \\vert 0\\rangle - \\vert 1\\rangle \\right).\n",
    "\\label{_auto2} \\tag{2}\n",
    "\\end{equation}\n",
    "$$"
   ]
  },
  {
   "cell_type": "markdown",
   "id": "e19dbf9c",
   "metadata": {
    "editable": true
   },
   "source": [
    "Note that we will use $H$ as symbol for the Hadamard gate while we will reserve the notation $\\mathcal{H}$ for a given Hamiltonian."
   ]
  },
  {
   "cell_type": "markdown",
   "id": "41b5512a",
   "metadata": {
    "editable": true
   },
   "source": [
    "## Sensing Hamiltonian\n",
    "\n",
    "For our discussions, we will assume that the quantum sensor can be\n",
    "described by the generic Hamiltonian (we follow here Degen *et al.,*)"
   ]
  },
  {
   "cell_type": "markdown",
   "id": "f04f2b00",
   "metadata": {
    "editable": true
   },
   "source": [
    "$$\n",
    "\\mathcal{H}(t) = \\mathcal{H}_0 + \\mathcal{H}_I(t) + \\mathcal{H}_\\mathrm{control}(t),\n",
    "$$"
   ]
  },
  {
   "cell_type": "markdown",
   "id": "6349036b",
   "metadata": {
    "editable": true
   },
   "source": [
    "where $\\mathcal{H}_0$ is the internal Hamiltonian, $\\mathcal{H}_I(t)$ is the\n",
    "Hamiltonian associated with a signal ($V(t)$ in the notes below), and\n",
    "$\\mathcal{H}_\\mathrm{control}(t)$ is the control Hamiltonian.  Following\n",
    "the above mentioned authors, we will assume that $\\mathcal{H}_0$ is known\n",
    "and that $\\mathcal{H}_\\mathrm{control}(t)$ can be chosen so as to\n",
    "manipulate or tune the sensor in a controlled way.\n",
    "\n",
    "The goal of a quantum sensing experiment is then to infer $V(t)$ from\n",
    "the effect it has on the actual qubits via its Hamiltonian\n",
    "$\\mathcal{H}_I(t)$, usually by a specific choice of\n",
    "$\\mathcal{H}_\\mathrm{control}(t)$."
   ]
  },
  {
   "cell_type": "markdown",
   "id": "bbb741ab",
   "metadata": {
    "editable": true
   },
   "source": [
    "## Time-dependent Hamiltonian matrix\n",
    "\n",
    "We define a  hermitian  matrix  $H\\in {\\mathbb{R}}^{2\\times 2}$"
   ]
  },
  {
   "cell_type": "markdown",
   "id": "3957bd6d",
   "metadata": {
    "editable": true
   },
   "source": [
    "$$\n",
    "\\mathcal{H} = \\begin{bmatrix} \\mathcal{H}_{11} & \\mathcal{H}_{12} \\\\ \\mathcal{H}_{21} & \\mathcal{H}_{22}\n",
    "\\end{bmatrix},\n",
    "$$"
   ]
  },
  {
   "cell_type": "markdown",
   "id": "cfcfffdb",
   "metadata": {
    "editable": true
   },
   "source": [
    "We  let $\\mathcal{H} = \\mathcal{H}_0 + \\mathcal{H}_I$, where"
   ]
  },
  {
   "cell_type": "markdown",
   "id": "629df31f",
   "metadata": {
    "editable": true
   },
   "source": [
    "$$\n",
    "\\mathcal{H}_0= \\begin{bmatrix} E_0 & 0 \\\\ 0 & E_1\\end{bmatrix},\n",
    "$$"
   ]
  },
  {
   "cell_type": "markdown",
   "id": "d6a3df99",
   "metadata": {
    "editable": true
   },
   "source": [
    "is a diagonal matrix. Similarly,"
   ]
  },
  {
   "cell_type": "markdown",
   "id": "96de6edc",
   "metadata": {
    "editable": true
   },
   "source": [
    "$$\n",
    "\\mathcal{H}_I(t)= \\begin{bmatrix} V_{11}(t) & V_{12}(t) \\\\ V_{21}(t) & V_{22}(t)\\end{bmatrix},\n",
    "$$"
   ]
  },
  {
   "cell_type": "markdown",
   "id": "729517ad",
   "metadata": {
    "editable": true
   },
   "source": [
    "where $V_{ij}(t)$ represent various time-dependent interaction matrix elements and since we have a hermitian matrix, we require that\n",
    "$V_{21}=V_{12}^*$."
   ]
  },
  {
   "cell_type": "markdown",
   "id": "0e289f47",
   "metadata": {
    "editable": true
   },
   "source": [
    "## Interaction part\n",
    "\n",
    "We will now label  the interaction matrix elements, assuming that they have an explicit time dependence.\n",
    "We define"
   ]
  },
  {
   "cell_type": "markdown",
   "id": "8ddfc9af",
   "metadata": {
    "editable": true
   },
   "source": [
    "$$\n",
    "\\begin{align*}\n",
    "V_{11} & = V_z(t)\\\\\n",
    "V_{22} & = -V_z(t)\\\\\n",
    "V_{12} & = V_x(t)-\\imath V_y(t).\n",
    "\\end{align*}\n",
    "$$"
   ]
  },
  {
   "cell_type": "markdown",
   "id": "fc03bc4e",
   "metadata": {
    "editable": true
   },
   "source": [
    "In the numerical example below we let $V_y(t)=0$, $V_z(t) = tV_z$\n",
    "and $V_x(t) = tV_x$ with $V_z$ and $V_x$ real-valued constants to\n",
    "be determined. In the same numerical example we let $t\\in [0,1]$."
   ]
  },
  {
   "cell_type": "markdown",
   "id": "1c132ccf",
   "metadata": {
    "editable": true
   },
   "source": [
    "## Non-interacting solution\n",
    "\n",
    "We can view $H_0$ as the non-interacting solution"
   ]
  },
  {
   "cell_type": "markdown",
   "id": "101d865c",
   "metadata": {
    "editable": true
   },
   "source": [
    "$$\n",
    "\\mathcal{H}_0\\vert 0 \\rangle =E_0\\vert 0 \\rangle,\n",
    "$$"
   ]
  },
  {
   "cell_type": "markdown",
   "id": "550b5fc8",
   "metadata": {
    "editable": true
   },
   "source": [
    "and"
   ]
  },
  {
   "cell_type": "markdown",
   "id": "e82a258e",
   "metadata": {
    "editable": true
   },
   "source": [
    "$$\n",
    "\\mathcal{H}_0\\vert 1\\rangle =E_1\\vert 1\\rangle,\n",
    "$$"
   ]
  },
  {
   "cell_type": "markdown",
   "id": "a69d9c6c",
   "metadata": {
    "editable": true
   },
   "source": [
    "where we have defined the orthogonal computational one-qubit basis states $\\vert 0\\rangle$ and $\\vert 1\\rangle$."
   ]
  },
  {
   "cell_type": "markdown",
   "id": "1793d8c4",
   "metadata": {
    "editable": true
   },
   "source": [
    "## Rewriting with Pauli matrices\n",
    "\n",
    "We rewrite $\\mathcal{H}$ (and $\\mathcal{H}_0$ and $\\mathcal{H}_I$)  via Pauli matrices"
   ]
  },
  {
   "cell_type": "markdown",
   "id": "82c35cc9",
   "metadata": {
    "editable": true
   },
   "source": [
    "$$\n",
    "\\mathcal{H}_0 = \\mathcal{E}_{\\mathrm{avg}} I -\\Delta E \\boldsymbol{Z}, \\quad \\mathcal{E}_{\\mathrm{avg}} = \\frac{E_0\n",
    "  + E_1}{2}, \\; \\Delta E = \\frac{E_1-E_0}{2},\n",
    "$$"
   ]
  },
  {
   "cell_type": "markdown",
   "id": "09b9a092",
   "metadata": {
    "editable": true
   },
   "source": [
    "and"
   ]
  },
  {
   "cell_type": "markdown",
   "id": "5570638d",
   "metadata": {
    "editable": true
   },
   "source": [
    "$$\n",
    "\\mathcal{H}_I = V_z(t)\\boldsymbol{Z} + V_x(t)\\boldsymbol{X}+V_y(t)\\boldsymbol{Y},\n",
    "$$"
   ]
  },
  {
   "cell_type": "markdown",
   "id": "7a874d19",
   "metadata": {
    "editable": true
   },
   "source": [
    "with $V_z(t) = V_{11}=-V_{22}$, $V_x(t) = \\Re (V_{12})$ and $V_y(t) = \\Im (V_{12})$.\n",
    "\n",
    "This is the expression we will discuss in connection with quantum computing simulations. The discussions here, focus mainly on some simpler analytical considerations and simplifications. The numerical solutions are also given by standard eigenvalue solvers."
   ]
  },
  {
   "cell_type": "markdown",
   "id": "02ed5c83",
   "metadata": {
    "editable": true
   },
   "source": [
    "## Simple time dependence\n",
    "We let our Hamiltonian depend linearly on time  $t$"
   ]
  },
  {
   "cell_type": "markdown",
   "id": "c6ec443f",
   "metadata": {
    "editable": true
   },
   "source": [
    "$$\n",
    "\\mathcal{H}=\\mathcal{H}_0+t \\mathcal{H}_\\mathrm{I},\n",
    "$$"
   ]
  },
  {
   "cell_type": "markdown",
   "id": "b8254c07",
   "metadata": {
    "editable": true
   },
   "source": [
    "with $t \\in [0,1]$, where the limits $t=0$ and $t=1$\n",
    "represent the non-interacting (or unperturbed) and fully interacting\n",
    "system, respectively. This means that the various potential terms are given by $V_i(t)=tV_i$, with $i=\\{x,y,z\\}$ and $V_i$ real-valued constants."
   ]
  },
  {
   "cell_type": "markdown",
   "id": "1f883d4d",
   "metadata": {
    "editable": true
   },
   "source": [
    "## Exact solution\n",
    "\n",
    "Since this a simple $2\\times 2$ matrix eigenvalue problem we find the eigenvalues $\\lambda_0$ and $\\lambda_1$ to be"
   ]
  },
  {
   "cell_type": "markdown",
   "id": "c48d0379",
   "metadata": {
    "editable": true
   },
   "source": [
    "$$\n",
    "\\lambda_{0,1}=\\mathcal{E}_{\\mathrm{avg}}\\pm \\Delta E\\sqrt{1+\\frac{2V_z(t)}{\\Delta E}+\\frac{1}{\\Delta E^2}(V_z^2(t)+V_x^2(t)+V_y^2(t))}.\n",
    "$$"
   ]
  },
  {
   "cell_type": "markdown",
   "id": "7b81b0e5",
   "metadata": {
    "editable": true
   },
   "source": [
    "If we assume that $\\Delta E \\gg V_z(t)$ and set $V_x(t)=V_y(t)=0$ for\n",
    "simplicity and Taylor-expand our square root expression, we obtain"
   ]
  },
  {
   "cell_type": "markdown",
   "id": "5b7028de",
   "metadata": {
    "editable": true
   },
   "source": [
    "$$\n",
    "\\lambda_{0}=E_0-\\frac{1}{2}V_z(t),\n",
    "$$"
   ]
  },
  {
   "cell_type": "markdown",
   "id": "d323ae2e",
   "metadata": {
    "editable": true
   },
   "source": [
    "$$\n",
    "\\lambda_{1}=E_1+\\frac{1}{2}V_z(t),\n",
    "$$"
   ]
  },
  {
   "cell_type": "markdown",
   "id": "69f3df1d",
   "metadata": {
    "editable": true
   },
   "source": [
    "where we kept only terms up to $\\Delta E$. The above problem can however be easily solved numerically, see the code here."
   ]
  },
  {
   "cell_type": "markdown",
   "id": "1aa3b4dd",
   "metadata": {
    "editable": true
   },
   "source": [
    "## Selecting parameters\n",
    "\n",
    "The model is an eigenvalue problem with only\n",
    "two available states.\n",
    "\n",
    "Here we set the parameters $E_0=0$,\n",
    "$E_1=4$, $V_{11}=-V_{22}=3$ and $V_{12}=V_{21}=0.2$.\n",
    "\n",
    "The non-interacting solutions represent our computational basis.\n",
    "Pertinent to our choice of parameters, is that at $t\\geq 2/3$,\n",
    "the lowest eigenstate is dominated by $\\vert 1\\rangle$ while the upper\n",
    "is $\\vert 0 \\rangle$. At $t=1$ the $\\vert 0 \\rangle$ mixing of\n",
    "the lowest eigenvalue is $1\\%$ while for $t\\leq 2/3$ we have a\n",
    "$\\vert 0 \\rangle$ component of more than $90\\%$.  The character of the\n",
    "eigenvectors has therefore been interchanged when passing $z=2/3$. The\n",
    "value of the parameter $V_{12}$ represents the strength of the coupling\n",
    "between the two states.  Here we keep only the real part of the non-diagonal term."
   ]
  },
  {
   "cell_type": "markdown",
   "id": "4df0203a",
   "metadata": {
    "editable": true
   },
   "source": [
    "## Setting up the matrix for the simple one-qubit system\n",
    "\n",
    "Here we solve the above problem as a standard eigenvalue problem."
   ]
  },
  {
   "cell_type": "code",
   "execution_count": 1,
   "id": "b3c920b1",
   "metadata": {
    "collapsed": false,
    "editable": true
   },
   "outputs": [],
   "source": [
    "%matplotlib inline\n",
    "\n",
    "import numpy as np\n",
    "import matplotlib.pyplot as plt\n",
    "import seaborn as sns; sns.set_theme(font_scale=1.5)\n",
    "from tqdm import tqdm\n",
    "\n",
    "sigma_x = np.array([[0, 1], [1, 0]])\n",
    "sigma_y = np.array([[0, -1j], [1j, 0]])\n",
    "sigma_z = np.array([[1, 0], [0, -1]])\n",
    "I = np.eye(2)\n",
    "\n",
    "def Hamiltonian(lmb):\n",
    "    E0 = 0\n",
    "    E1 = 4\n",
    "    V11 = 3\n",
    "    V22 = -3\n",
    "    V12 = 0.2\n",
    "    V21 = 0.2\n",
    "\n",
    "    eps = (E0 + E1) / 2\n",
    "    omega = (E0 - E1) / 2\n",
    "    c = (V11 + V22) / 2\n",
    "    omega_z = (V11 - V22) / 2\n",
    "    omega_x = V12\n",
    "\n",
    "    H0 = eps * I + omega * sigma_z\n",
    "    H1 = c * I + omega_z * sigma_z + omega_x * sigma_x\n",
    "    return H0 + lmb * H1\n",
    "    \n",
    "lmbvalues_ana = np.arange(0, 1, 0.01)\n",
    "eigvals_ana = np.zeros((len(lmbvalues_ana), 2))\n",
    "for index, lmb in enumerate(lmbvalues_ana):\n",
    "    H = Hamiltonian(lmb)\n",
    "    eigen, eigvecs = np.linalg.eig(H)\n",
    "    permute = eigen.argsort()\n",
    "    eigvals_ana[index] = eigen[permute]\n",
    "    eigvecs = eigvecs[:,permute]\n",
    "\n",
    "\n",
    "fig, axs = plt.subplots(1, 1, figsize=(10, 10))\n",
    "for i in range(2):\n",
    "    axs.plot(lmbvalues_ana, eigvals_ana[:,i], label=f'$E_{i}$')\n",
    "axs.set_xlabel(r'$\\lambda$')\n",
    "axs.set_ylabel('Energy')\n",
    "axs.legend()\n",
    "plt.show()"
   ]
  },
  {
   "cell_type": "markdown",
   "id": "a361aa22",
   "metadata": {
    "editable": true
   },
   "source": [
    "## Initialization and sensing analysis\n",
    "\n",
    "We stay now with the Taylor-approximated solution in order to illustrate some of the basic sensing ideas.\n",
    "\n",
    "To initialize a given system to a known quantum state, we first start\n",
    "with a known initial state $|0\\rangle$. Then, depending on the type of\n",
    "information that we want to learn about the stimulus, the measurement\n",
    "scheme to be used, and the physical implementation of the quantum\n",
    "system, we choose some unitary operator $\\boldsymbol{U}_{\\mathrm{Initial}}$ such that\n",
    "it transforms our state $|0\\rangle$ to a desired initial superposition\n",
    "state $\\left|\\psi_{\\mathrm{Initial}}\\right\\rangle=a|0\\rangle+b|1\\rangle$\n",
    "for some $a, b \\in \\mathbb{C}$ such that $|a|^{2}+|b|^{2}=1$."
   ]
  },
  {
   "cell_type": "markdown",
   "id": "10fd207e",
   "metadata": {
    "editable": true
   },
   "source": [
    "## Effects of stimulus\n",
    "\n",
    "After the sensing state is initialized, it is exposed to the\n",
    "environment and evolves according to the time-evolution operator of\n",
    "the sensing Hamiltonian via the unitary transformation $\\boldsymbol{U}$ as (setting $\\hbar=c=e=1$)"
   ]
  },
  {
   "cell_type": "markdown",
   "id": "13c22b47",
   "metadata": {
    "editable": true
   },
   "source": [
    "$$\n",
    "|\\psi(t)\\rangle=\\boldsymbol{U}(t, 0)\\left|\\psi_{\\mathrm{Initial}}\\right\\rangle.\n",
    "$$"
   ]
  },
  {
   "cell_type": "markdown",
   "id": "df5ad5dc",
   "metadata": {
    "editable": true
   },
   "source": [
    "In general we have"
   ]
  },
  {
   "cell_type": "markdown",
   "id": "ef94901f",
   "metadata": {
    "editable": true
   },
   "source": [
    "$$\n",
    "\\boldsymbol{U}(t, 0)=\\exp{(\\imath\\int_{0}^{t}\n",
    "\\mathcal{H}(\\tau) d \\tau)}.\n",
    "$$"
   ]
  },
  {
   "cell_type": "markdown",
   "id": "db8b9894",
   "metadata": {
    "editable": true
   },
   "source": [
    "Here the Hamiltonian could be a\n",
    "complicated, non-analytical function with a time-dependent $V(t)$\n",
    "(making $\\mathcal{H}$ time-dependent as well)."
   ]
  },
  {
   "cell_type": "markdown",
   "id": "f01b62d6",
   "metadata": {
    "editable": true
   },
   "source": [
    "## Slowly changing potential\n",
    "\n",
    "In the case where $V(t)$ is constant or changes much more slowly than our sensing integration time, we can assume"
   ]
  },
  {
   "cell_type": "markdown",
   "id": "46aaca32",
   "metadata": {
    "editable": true
   },
   "source": [
    "$$\n",
    "|\\psi(t)\\rangle=\\boldsymbol{U}(t, 0)\\left|\\psi_{\\mathrm{Initial}}\\right\\rangle=\\exp{(\\imath t \\mathcal{H})}\\left|\\psi_{\\mathrm{Initial}}\\right\\rangle.\n",
    "$$"
   ]
  },
  {
   "cell_type": "markdown",
   "id": "577a9e7f",
   "metadata": {
    "editable": true
   },
   "source": [
    "The sensing state evolves thus as"
   ]
  },
  {
   "cell_type": "markdown",
   "id": "551821a7",
   "metadata": {
    "editable": true
   },
   "source": [
    "$$\n",
    "|\\psi(t)\\rangle=\\left(\\exp{\\imath t\\left(E_{0}-\\frac{1}{2}  V_z\\right)}\\left|\\lambda_{0}\\right\\rangle\\left\\langle\\lambda_{0}\\right|+\\exp{\\imath t\\left(E_{1}+\\frac{1}{2}  V_z\\right)}\\left|\\lambda_{1}\\right\\rangle\\left\\langle\\lambda_{1}\\right|\\right)\\left|\\psi_{\\mathrm{Initial}}\\right\\rangle,\n",
    "$$"
   ]
  },
  {
   "cell_type": "markdown",
   "id": "d4477963",
   "metadata": {
    "editable": true
   },
   "source": [
    "where we have using the spectral decomposition and the final representation of the\n",
    "sensing Hamiltonian found above."
   ]
  },
  {
   "cell_type": "markdown",
   "id": "460023aa",
   "metadata": {
    "editable": true
   },
   "source": [
    "## Readout\n",
    "\n",
    "After the sensing state has evolved over time in the presence of $V(t)$, it\n",
    "can be transformed again before a measurement is taken. The first\n",
    "part, the transformation to some desired read-out state, is performed\n",
    "by a readout  operator, see discussions in Degen et al., 2017) where"
   ]
  },
  {
   "cell_type": "markdown",
   "id": "65647a94",
   "metadata": {
    "editable": true
   },
   "source": [
    "$$\n",
    "\\left|\\psi_{\\mathrm{Final}}\\right\\rangle=\\boldsymbol{U}_{\\mathrm{Readout}}|\\psi(t)\\rangle.\n",
    "$$"
   ]
  },
  {
   "cell_type": "markdown",
   "id": "7806b9f3",
   "metadata": {
    "editable": true
   },
   "source": [
    "Here the readout operator $\\boldsymbol{U}_{\\mathrm{Readout}}$ is left unspecified."
   ]
  },
  {
   "cell_type": "markdown",
   "id": "ec2e8118",
   "metadata": {
    "editable": true
   },
   "source": [
    "## Measurement\n",
    "\n",
    "A measurement of this final state $\\left|\\psi_{\\mathrm{Final}}\\right\\rangle=a^{\\prime}|0\\rangle+b^{\\prime}|1\\rangle$ is made with\n",
    "respect to the basis $\\{|0\\rangle,|1\\rangle\\}$ where\n",
    "$|0\\rangle$ is measured with  probability"
   ]
  },
  {
   "cell_type": "markdown",
   "id": "9645ec9b",
   "metadata": {
    "editable": true
   },
   "source": [
    "$$\n",
    "\\left|\\left\\langle 0 \\mid \\psi_{\\mathrm{Final}}\\right\\rangle\\right|^{2}=\\left|a^{\\prime}\\right|^{2},\n",
    "$$"
   ]
  },
  {
   "cell_type": "markdown",
   "id": "4703d86e",
   "metadata": {
    "editable": true
   },
   "source": [
    "and $|1\\rangle$ is measured with probability"
   ]
  },
  {
   "cell_type": "markdown",
   "id": "180739ae",
   "metadata": {
    "editable": true
   },
   "source": [
    "$$\n",
    "\\left|\\left\\langle 1 \\mid\\psi_{\\mathrm{Final}}\\right\\rangle\\right|^{2}=\\left|b^{\\prime}\\right|^{2}.\n",
    "$$"
   ]
  },
  {
   "cell_type": "markdown",
   "id": "a672c3ce",
   "metadata": {
    "editable": true
   },
   "source": [
    "After this measurement, the sensing state has collapsed into one\n",
    "of the basis states and  no more information can be gained."
   ]
  },
  {
   "cell_type": "markdown",
   "id": "922b7547",
   "metadata": {
    "editable": true
   },
   "source": [
    "## Multiple measurements\n",
    "\n",
    "However, by having\n",
    "multiple quantum sensing elements time-evolving together or by\n",
    "repeating the process many times before the external stimulus $V(t)$\n",
    "can change, a transition probability"
   ]
  },
  {
   "cell_type": "markdown",
   "id": "18e414fe",
   "metadata": {
    "editable": true
   },
   "source": [
    "$$\n",
    "p_{|0\\rangle\\rightarrow|1\\rangle}=\\left|\\left\\langle 1 \\mid \\psi_{\\mathrm{Final}}\\right\\rangle\\right|^{2}=\\left|b^{\\prime}\\right|^{2},\n",
    "$$"
   ]
  },
  {
   "cell_type": "markdown",
   "id": "af5ebf11",
   "metadata": {
    "editable": true
   },
   "source": [
    "can be estimated. The *sensing* is then achieved by taking a\n",
    "series of these transition probabilities as a time series, and then\n",
    "using the results to estimate the sensed stimulus $V(t)$, see for example the abovementioned review of\n",
    "Degen et al., 2017."
   ]
  },
  {
   "cell_type": "markdown",
   "id": "a8990bbe",
   "metadata": {
    "editable": true
   },
   "source": [
    "## Example\n",
    "\n",
    "The simplest mathematical example of quantum sensing is sensing an\n",
    "external stimulus's effect on the splitting of the energy levels of an\n",
    "isolated system. Suppose our stimulus is constant and *parallel* with\n",
    "our sensor, that is we set  $V_z(t)=V_{0}$ and $V_x=0$, and we choose\n",
    "our initialization and readout preparation operators to be the famous\n",
    "Hadamard gate"
   ]
  },
  {
   "cell_type": "markdown",
   "id": "017fc202",
   "metadata": {
    "editable": true
   },
   "source": [
    "$$\n",
    "\\boldsymbol{U}_{H}=\\frac{1}{\\sqrt{2}}\\left[\\begin{array}{cc}\n",
    "1 & 1 \\\\\n",
    "1 & -1\n",
    "\\end{array}\\right].\n",
    "$$"
   ]
  },
  {
   "cell_type": "markdown",
   "id": "db022e8b",
   "metadata": {
    "editable": true
   },
   "source": [
    "Here, the subscript $H$ stands for the Hadamard unitary transformation."
   ]
  },
  {
   "cell_type": "markdown",
   "id": "0c4e3365",
   "metadata": {
    "editable": true
   },
   "source": [
    "## Evolution of initial state\n",
    "\n",
    "The initial state is"
   ]
  },
  {
   "cell_type": "markdown",
   "id": "886fd858",
   "metadata": {
    "editable": true
   },
   "source": [
    "$$\n",
    "\\left|\\psi_{\\mathrm{Initial}}\\right\\rangle=\\boldsymbol{U}_{H}|0\\rangle=\\frac{1}{\\sqrt{2}}\\left[\\begin{array}{cc}\n",
    "1 & 1 \\\\\n",
    "1 & -1\n",
    "\\end{array}\\right]\\begin{bmatrix} 1 \\\\ 0\\end{bmatrix}=\\frac{1}{\\sqrt{2}}\\begin{bmatrix} 1 \\\\ 1\\end{bmatrix}.\n",
    "$$"
   ]
  },
  {
   "cell_type": "markdown",
   "id": "33bb0050",
   "metadata": {
    "editable": true
   },
   "source": [
    "This may not necessarily be the same basis into which the system was\n",
    "initialized, but we  assume it is so and then we only have to keep track\n",
    "of one basis."
   ]
  },
  {
   "cell_type": "markdown",
   "id": "4dd9860e",
   "metadata": {
    "editable": true
   },
   "source": [
    "## State evolution\n",
    "\n",
    "The state evolves as"
   ]
  },
  {
   "cell_type": "markdown",
   "id": "28539f78",
   "metadata": {
    "editable": true
   },
   "source": [
    "$$\n",
    "\\begin{align*}\n",
    "|\\psi(t)\\rangle=&\\left(\\exp{\\imath t\\left(E_{0}-\\frac{1}{2}  V_z\\right)}|0\\rangle\\langle 0|+\\exp{\\imath t\\left(E_{1}+\\frac{1}{2}  V_z\\right)}|1\\rangle\\langle 1|\\right)\\left|\\psi_{\\mathrm{Initial}}\\right\\rangle\\\\\n",
    "&=\\frac{1}{\\sqrt{2}} \\exp{\\imath t\\left(E_{0}-\\frac{1}{2}  V_z\\right)}\\begin{bmatrix}1 \\\\ \\exp{\\imath t\\left(E_{1}-E_{0}+ V_z\\right)}\\end{bmatrix}\n",
    "\\end{align*}\n",
    "$$"
   ]
  },
  {
   "cell_type": "markdown",
   "id": "e9e897bd",
   "metadata": {
    "editable": true
   },
   "source": [
    "## Preparing for readout\n",
    "\n",
    "This is then prepared for readout as"
   ]
  },
  {
   "cell_type": "markdown",
   "id": "0520f91a",
   "metadata": {
    "editable": true
   },
   "source": [
    "$$\n",
    "\\vert\\psi_{\\mathrm{Final}}\\rangle=\\frac{1}{2} \\exp{\\imath t(E_{0}-\\frac{1}{2}  V_z)}\n",
    "\\begin{bmatrix} 1+\\exp{\\imath t(E_{1}-E_{0}+ V_z)} \\\\ 1-\\exp{(\\imath t(E_{1}-E_{0}+ V_z)}\\end{bmatrix}.\n",
    "$$"
   ]
  },
  {
   "cell_type": "markdown",
   "id": "c9283f81",
   "metadata": {
    "editable": true
   },
   "source": [
    "## Transition probability\n",
    "\n",
    "The transition probability"
   ]
  },
  {
   "cell_type": "markdown",
   "id": "4ab790cb",
   "metadata": {
    "editable": true
   },
   "source": [
    "$$\n",
    "\\begin{align*}\n",
    "p_{|0\\rangle \\rightarrow|1\\rangle}=\\left|\\left\\langle 1 \\mid \\psi_{\\mathrm{Final}}\\right\\rangle\\right|^{2}=&\\left|1-\\exp{\\imath t\\left(E_{1}-E_{0}+ V_z\\right)}\\right|^{2}\\\\\n",
    "&=\\frac{1}{2}\\left(1-\\cos \\left(t\\left(E_{1}-E_{0}\\right)+ V_z\\right)\\right)\n",
    "\\end{align*}\n",
    "$$"
   ]
  },
  {
   "cell_type": "markdown",
   "id": "83c5f1f8",
   "metadata": {
    "editable": true
   },
   "source": [
    "## [Ramsey interferometry](https://en.wikipedia.org/wiki/Ramsey_interferometry)\n",
    "\n",
    "We know the difference in energy between $E_{1}$ and $E_{0}$, either\n",
    "since we constructed the system or by taking measurements without the\n",
    "external stimulus $V$, and we can control the time $t$ for which the\n",
    "system is allowed to evolve under the external stimulus. Then we can\n",
    "fix $t$ and take many measurements to estimate $p_{|0\\rangle\n",
    "\\rightarrow|1\\rangle}$, which then makes finding $tV_z$ a simple phase-estimation problem which gives us $\n",
    "V_z$. The physical implementation of this process is known as Ramsey\n",
    "Interferometry, and it can be done with arbitary initialization and\n",
    "readout preparation unitary operators."
   ]
  },
  {
   "cell_type": "markdown",
   "id": "7acd6fd5",
   "metadata": {
    "editable": true
   },
   "source": [
    "## Benefits of Entanglement\n",
    "\n",
    "Up until now, we have said that we take many measurements of\n",
    "$\\left|\\psi_{\\text {Final }}\\right\\rangle$ to estimate $p_{|0\\rangle\n",
    "\\rightarrow|1\\rangle}$, but we have neglected the estimation\n",
    "process. Assuming we can take $N$ measurements, either by having $N$\n",
    "experimental apparatuses running in parallel or by taking $N$\n",
    "different measurements of a (relatively) constant $V$ with a single\n",
    "apparatus (this is what we will do below), the uncertainty in $p$, denoted as $\\sigma_{p}$ (this is a\n",
    "positive real number; not to be confused with the Pauli matrices),\n",
    "scales as"
   ]
  },
  {
   "cell_type": "markdown",
   "id": "b56eb194",
   "metadata": {
    "editable": true
   },
   "source": [
    "$$\n",
    "\\sigma_{p} \\propto \\frac{1}{\\sqrt{N}}\n",
    "$$"
   ]
  },
  {
   "cell_type": "markdown",
   "id": "1bf3c67e",
   "metadata": {
    "editable": true
   },
   "source": [
    "## Ramsey interferometry\n",
    "\n",
    "If we consider Ramsey Interferometry as an example, see <https://en.wikipedia.org/wiki/Ramsey_interferometry>, then the\n",
    "uncertainty in $V_z$, denoted $\\sigma_{V}$,\n",
    "scales as"
   ]
  },
  {
   "cell_type": "markdown",
   "id": "661e8634",
   "metadata": {
    "editable": true
   },
   "source": [
    "$$\n",
    "\\sigma_{V} \\propto \\sigma_{p} \\propto \\frac{1}{\\sqrt{N}}\n",
    "$$"
   ]
  },
  {
   "cell_type": "markdown",
   "id": "f6833f57",
   "metadata": {
    "editable": true
   },
   "source": [
    "This relationship is known as the standard quantum limit (SQL)\n",
    ", see Giovannetti *et al.*, 2011, <https://www.nature.com/articles/nphoton.2011.35>,\n",
    "but can also be explained with the law of\n",
    "Large Numbers from statistics, where measuring $N$ similarly\n",
    "distributed, well-behaved random variables gives the sample mean as an\n",
    "estimator for the population mean and the sample variance divided by\n",
    "the size of the sample as an uncertainty in the estimate of the\n",
    "population mean."
   ]
  },
  {
   "cell_type": "markdown",
   "id": "d776f880",
   "metadata": {
    "editable": true
   },
   "source": [
    "## More than one qubit\n",
    "\n",
    "The nature of quantum systems allows for more information to be\n",
    "extracted by exploiting entanglement between quantum systems. This is\n",
    "the fundamental basis for the benefits of quantum computing over\n",
    "classical computing, and quantum sensing has similar benefits over\n",
    "classical sensing. Suppose we return to the example above, but rather\n",
    "than initializing $N$ sensing qubits separately, we initialize\n",
    "$\\frac{N}{n}$ groups each with $n$ entangled quantum systems. Then we\n",
    "have"
   ]
  },
  {
   "cell_type": "markdown",
   "id": "adbdabb3",
   "metadata": {
    "editable": true
   },
   "source": [
    "$$\n",
    "\\left|\\psi_{\\text {Init }}\\right\\rangle=\\frac{1}{\\sqrt{2^{n}}}\\left(|0\\rangle^{\\otimes n}+|1\\rangle^{\\otimes n}\\right),\n",
    "$$"
   ]
  },
  {
   "cell_type": "markdown",
   "id": "59978526",
   "metadata": {
    "editable": true
   },
   "source": [
    "where $|0\\rangle^{\\otimes n}=|0\\rangle \\otimes \\ldots \\otimes|0\\rangle, n$ times."
   ]
  },
  {
   "cell_type": "markdown",
   "id": "a0780817",
   "metadata": {
    "editable": true
   },
   "source": [
    "## After initialization\n",
    "\n",
    "After initialization, each of the $n$ sensing qubits evolves to pick up a relative phase factor of $e^{\\frac{i t}{\\hbar}\\left(E_{1}-E_{0}+ V_z\\right)}$, which combined results in"
   ]
  },
  {
   "cell_type": "markdown",
   "id": "fd8b71bd",
   "metadata": {
    "editable": true
   },
   "source": [
    "$$\n",
    "|\\psi(t)\\rangle=\\mathcal{N}\\left(|0\\rangle^{\\otimes n}+\\exp{n \\imath t\\left(E_{1}-E_{0}+ V_z\\right)}|1\\rangle^{\\otimes n}\\right)\n",
    "$$"
   ]
  },
  {
   "cell_type": "markdown",
   "id": "c29791a0",
   "metadata": {
    "editable": true
   },
   "source": [
    "where $\\mathcal{N}$ is just a factor to take care of normalization."
   ]
  },
  {
   "cell_type": "markdown",
   "id": "5ca8e3f6",
   "metadata": {
    "editable": true
   },
   "source": [
    "## Transition probability\n",
    "\n",
    "The transition probability"
   ]
  },
  {
   "cell_type": "markdown",
   "id": "5484a75f",
   "metadata": {
    "editable": true
   },
   "source": [
    "$$\n",
    "p_{|0\\rangle \\rightarrow|1\\rangle}=\\left|\\left\\langle 1 \\mid \\psi_{\\text {Final }}\\right\\rangle\\right|^{2}=\\frac{1}{2}\\left(1-\\cos \\left(t n\\left(E_{1}-E_{0}\\right)+n  V_z\\right)\\right)\n",
    "$$"
   ]
  },
  {
   "cell_type": "markdown",
   "id": "441c7b56",
   "metadata": {
    "editable": true
   },
   "source": [
    "## Role of entanglement\n",
    "\n",
    "From this, we can see that through entangling $n$ sensing qubits, the\n",
    "**signal** we are trying to sense increases from $V_z \\rightarrow n\n",
    "V_z$, and with $\\frac{N}{n}$ total measurements,"
   ]
  },
  {
   "cell_type": "markdown",
   "id": "44276e5f",
   "metadata": {
    "editable": true
   },
   "source": [
    "$$\n",
    "\\sigma_{V} \\propto \\frac{1}{n} \\sigma_{p} \\propto \\frac{1}{n}\\left(\\frac{1}{\\sqrt{\\frac{N}{n}}}\\right)=\\frac{1}{\\sqrt{N n}}\n",
    "$$"
   ]
  },
  {
   "cell_type": "markdown",
   "id": "3be8826a",
   "metadata": {
    "editable": true
   },
   "source": [
    "which means the error decreased by a factor of $\\sqrt{n}$. In the case where $n=N$, the uncertainty now scales as"
   ]
  },
  {
   "cell_type": "markdown",
   "id": "291e8292",
   "metadata": {
    "editable": true
   },
   "source": [
    "$$\n",
    "\\sigma_{V} \\propto \\frac{1}{N}\n",
    "$$"
   ]
  },
  {
   "cell_type": "markdown",
   "id": "2c5b0778",
   "metadata": {
    "editable": true
   },
   "source": [
    "which is known as the Heisenberg limit, and is the\n",
    "quantum-mechanically limited, maximal amount of information one can\n",
    "get from taking $n$ quantum sensing measurements, see again Giovannetti *et al.*, at <https://www.nature.com/articles/nphoton.2011.35>."
   ]
  },
  {
   "cell_type": "markdown",
   "id": "f2566a8e",
   "metadata": {
    "editable": true
   },
   "source": [
    "## Moving on to other systems\n",
    "\n",
    "We will now look at a simple system where we can produce an entangled state. We focus on a two-qubit system.\n",
    "\n",
    "Our computational basis states"
   ]
  },
  {
   "cell_type": "markdown",
   "id": "46151aa5",
   "metadata": {
    "editable": true
   },
   "source": [
    "$$\n",
    "\\vert 00\\rangle = \\vert 0\\rangle_{\\mathrm{A}}\\otimes \\vert 0\\rangle_{\\mathrm{B}}=\\begin{bmatrix} 1 & 0 & 0 &0\\end{bmatrix}^T,\n",
    "$$"
   ]
  },
  {
   "cell_type": "markdown",
   "id": "21b71f58",
   "metadata": {
    "editable": true
   },
   "source": [
    "and"
   ]
  },
  {
   "cell_type": "markdown",
   "id": "6942f669",
   "metadata": {
    "editable": true
   },
   "source": [
    "$$\n",
    "\\vert 01\\rangle = \\vert 0\\rangle_{\\mathrm{A}}\\otimes \\vert 1\\rangle_{\\mathrm{B}}=\\begin{bmatrix} 0 & 1 & 0 &0\\end{bmatrix}^T,\n",
    "$$"
   ]
  },
  {
   "cell_type": "markdown",
   "id": "9598c9ae",
   "metadata": {
    "editable": true
   },
   "source": [
    "and"
   ]
  },
  {
   "cell_type": "markdown",
   "id": "71951b70",
   "metadata": {
    "editable": true
   },
   "source": [
    "$$\n",
    "\\vert 10\\rangle = \\vert 1\\rangle_{\\mathrm{A}}\\otimes \\vert 0\\rangle_{\\mathrm{B}}=\\begin{bmatrix} 0 & 0 & 1 &0\\end{bmatrix}^T,\n",
    "$$"
   ]
  },
  {
   "cell_type": "markdown",
   "id": "09bcb102",
   "metadata": {
    "editable": true
   },
   "source": [
    "and finally"
   ]
  },
  {
   "cell_type": "markdown",
   "id": "90461005",
   "metadata": {
    "editable": true
   },
   "source": [
    "$$\n",
    "\\vert 11\\rangle = \\vert 1\\rangle_{\\mathrm{A}}\\otimes \\vert 1\\rangle_{\\mathrm{B}}=\\begin{bmatrix} 0 & 0 & 0 &1\\end{bmatrix}^T.\n",
    "$$"
   ]
  },
  {
   "cell_type": "markdown",
   "id": "16c64cee",
   "metadata": {
    "editable": true
   },
   "source": [
    "## Simple system to lllustrate entanglement\n",
    "\n",
    "This system can be thought of as composed of two subsystems\n",
    "$A$ and $B$. Each subsystem has computational basis states"
   ]
  },
  {
   "cell_type": "markdown",
   "id": "518a7806",
   "metadata": {
    "editable": true
   },
   "source": [
    "$$\n",
    "\\vert 0\\rangle_{\\mathrm{A,B}}=\\begin{bmatrix} 1 & 0\\end{bmatrix}^T \\hspace{1cm} \\vert 1\\rangle_{\\mathrm{A,B}}=\\begin{bmatrix} 0 & 1\\end{bmatrix}^T.\n",
    "$$"
   ]
  },
  {
   "cell_type": "markdown",
   "id": "34c9b0ed",
   "metadata": {
    "editable": true
   },
   "source": [
    "The subsystems could represent single particles or composite many-particle systems of a given symmetry."
   ]
  },
  {
   "cell_type": "markdown",
   "id": "cbcfbf49",
   "metadata": {
    "editable": true
   },
   "source": [
    "## Computational basis states\n",
    "\n",
    "This leads to the many-body computational basis states"
   ]
  },
  {
   "cell_type": "markdown",
   "id": "d84ace75",
   "metadata": {
    "editable": true
   },
   "source": [
    "$$\n",
    "\\vert 00\\rangle = \\vert 0\\rangle_{\\mathrm{A}}\\otimes \\vert 0\\rangle_{\\mathrm{B}}=\\begin{bmatrix} 1 & 0 & 0 &0\\end{bmatrix}^T,\n",
    "$$"
   ]
  },
  {
   "cell_type": "markdown",
   "id": "d1726870",
   "metadata": {
    "editable": true
   },
   "source": [
    "and"
   ]
  },
  {
   "cell_type": "markdown",
   "id": "c6acf923",
   "metadata": {
    "editable": true
   },
   "source": [
    "$$\n",
    "\\vert 01\\rangle = \\vert 0\\rangle_{\\mathrm{A}}\\otimes \\vert 1\\rangle_{\\mathrm{B}}=\\begin{bmatrix} 0 & 1 & 0 &0\\end{bmatrix}^T,\n",
    "$$"
   ]
  },
  {
   "cell_type": "markdown",
   "id": "3a2e51cc",
   "metadata": {
    "editable": true
   },
   "source": [
    "and"
   ]
  },
  {
   "cell_type": "markdown",
   "id": "85ffa34b",
   "metadata": {
    "editable": true
   },
   "source": [
    "$$\n",
    "\\vert 10\\rangle = \\vert 1\\rangle_{\\mathrm{A}}\\otimes \\vert 0\\rangle_{\\mathrm{B}}=\\begin{bmatrix} 0 & 0 & 1 &0\\end{bmatrix}^T,\n",
    "$$"
   ]
  },
  {
   "cell_type": "markdown",
   "id": "2d203279",
   "metadata": {
    "editable": true
   },
   "source": [
    "and finally"
   ]
  },
  {
   "cell_type": "markdown",
   "id": "012b5c3c",
   "metadata": {
    "editable": true
   },
   "source": [
    "$$\n",
    "\\vert 11\\rangle = \\vert 1\\rangle_{\\mathrm{A}}\\otimes \\vert 1\\rangle_{\\mathrm{B}}=\\begin{bmatrix} 0 & 0 & 0 &1\\end{bmatrix}^T.\n",
    "$$"
   ]
  },
  {
   "cell_type": "markdown",
   "id": "3edeaf75",
   "metadata": {
    "editable": true
   },
   "source": [
    "## Eigenstates of non-interacting Hamiltonian\n",
    "\n",
    "These computational basis states define the eigenstates of the non-interacting  Hamiltonian"
   ]
  },
  {
   "cell_type": "markdown",
   "id": "71eed4cb",
   "metadata": {
    "editable": true
   },
   "source": [
    "$$\n",
    "H_0\\vert 00 \\rangle = \\epsilon_{00}\\vert 00 \\rangle,\n",
    "$$"
   ]
  },
  {
   "cell_type": "markdown",
   "id": "9cf1758d",
   "metadata": {
    "editable": true
   },
   "source": [
    "$$\n",
    "H_0\\vert 10 \\rangle = \\epsilon_{10}\\vert 10 \\rangle,\n",
    "$$"
   ]
  },
  {
   "cell_type": "markdown",
   "id": "89ad2a10",
   "metadata": {
    "editable": true
   },
   "source": [
    "$$\n",
    "H_0\\vert 01 \\rangle = \\epsilon_{01}\\vert 01 \\rangle,\n",
    "$$"
   ]
  },
  {
   "cell_type": "markdown",
   "id": "724ebb9d",
   "metadata": {
    "editable": true
   },
   "source": [
    "and"
   ]
  },
  {
   "cell_type": "markdown",
   "id": "0a188b49",
   "metadata": {
    "editable": true
   },
   "source": [
    "$$\n",
    "H_0\\vert 11 \\rangle = \\epsilon_{11}\\vert 11 \\rangle.\n",
    "$$"
   ]
  },
  {
   "cell_type": "markdown",
   "id": "9d724d07",
   "metadata": {
    "editable": true
   },
   "source": [
    "## Interaction part\n",
    "\n",
    "The interacting part of the Hamiltonian $H_{\\mathrm{I}}$ is given by the tensor product of two $\\sigma_x$ and $\\sigma_z$  matrices, respectively, that is"
   ]
  },
  {
   "cell_type": "markdown",
   "id": "04648182",
   "metadata": {
    "editable": true
   },
   "source": [
    "$$\n",
    "H_{\\mathrm{I}}=H_x\\sigma_x\\otimes\\sigma_x+H_z\\sigma_z\\otimes\\sigma_z,\n",
    "$$"
   ]
  },
  {
   "cell_type": "markdown",
   "id": "1d8af3bf",
   "metadata": {
    "editable": true
   },
   "source": [
    "where $H_x$ and $H_z$ are interaction strength parameters. Our final Hamiltonian matrix is given by"
   ]
  },
  {
   "cell_type": "markdown",
   "id": "706c9bb7",
   "metadata": {
    "editable": true
   },
   "source": [
    "$$\n",
    "\\boldsymbol{H}=\\begin{bmatrix} \\epsilon_{00}+H_z & 0 & 0 & H_x \\\\\n",
    "                       0  & \\epsilon_{10}-H_z & H_x & 0 \\\\\n",
    "\t\t       0 & H_x & \\epsilon_{01}-H_z & 0 \\\\\n",
    "\t\t       H_x & 0 & 0 & \\epsilon_{11} +H_z \\end{bmatrix}.\n",
    "$$"
   ]
  },
  {
   "cell_type": "markdown",
   "id": "7f5d848d",
   "metadata": {
    "editable": true
   },
   "source": [
    "## Density matrices\n",
    "\n",
    "The four eigenstates of the above Hamiltonian matrix can in turn be used to\n",
    "define density matrices. As an example, the density matrix of the\n",
    "first eigenstate (lowest energy $E_0$) $\\Psi_0$ is given by the outerproduct"
   ]
  },
  {
   "cell_type": "markdown",
   "id": "f70205c9",
   "metadata": {
    "editable": true
   },
   "source": [
    "$$\n",
    "\\rho_0=\\left(\\alpha_{00}\\vert 00 \\rangle+\\alpha_{10}\\vert 10 \\rangle+\\alpha_{01}\\vert 01 \\rangle+\\alpha_{11}\\vert 11 \\rangle\\right)\\left(\\alpha_{00}^*\\langle 00\\vert+\\alpha_{10}^*\\langle 10\\vert+\\alpha_{01}^*\\langle 01\\vert+\\alpha_{11}^*\\langle 11\\vert\\right),\n",
    "$$"
   ]
  },
  {
   "cell_type": "markdown",
   "id": "0957c8ad",
   "metadata": {
    "editable": true
   },
   "source": [
    "where the coefficients $\\alpha_{ij}$ are the eigenvector coefficients\n",
    "resulting from the solution of the above eigenvalue problem."
   ]
  },
  {
   "cell_type": "markdown",
   "id": "95b99656",
   "metadata": {
    "editable": true
   },
   "source": [
    "## Subsystems\n",
    "\n",
    "We can\n",
    "then in turn define the density matrix for the subsets $A$ or $B$ as"
   ]
  },
  {
   "cell_type": "markdown",
   "id": "bc19b297",
   "metadata": {
    "editable": true
   },
   "source": [
    "$$\n",
    "\\rho_A=\\mathrm{Tr}_B(\\rho_{0})=\\langle 0 \\vert \\rho_{0} \\vert 0\\rangle_{B}+\\langle 1 \\vert \\rho_{0} \\vert 1\\rangle_{B},\n",
    "$$"
   ]
  },
  {
   "cell_type": "markdown",
   "id": "7f4ecf56",
   "metadata": {
    "editable": true
   },
   "source": [
    "or"
   ]
  },
  {
   "cell_type": "markdown",
   "id": "3bd9b93b",
   "metadata": {
    "editable": true
   },
   "source": [
    "$$\n",
    "\\rho_B=\\mathrm{Tr}_A(\\rho_0)=\\langle 0 \\vert \\rho_{0} \\vert 0\\rangle_{A}+\\langle 1 \\vert \\rho_{0} \\vert 1\\rangle_{A}.\n",
    "$$"
   ]
  },
  {
   "cell_type": "markdown",
   "id": "da85d5e5",
   "metadata": {
    "editable": true
   },
   "source": [
    "## Entropies\n",
    "\n",
    "The density matrices for these subsets can be used to compute the\n",
    "so-called von Neumann entropy, which is one of the possible measures\n",
    "of entanglement. A pure state has entropy equal zero while entangled\n",
    "state have an entropy larger than zero. The von-Neumann entropy is\n",
    "defined as"
   ]
  },
  {
   "cell_type": "markdown",
   "id": "16353302",
   "metadata": {
    "editable": true
   },
   "source": [
    "$$\n",
    "S(A,B)=-\\mathrm{Tr}\\left(\\rho_{A,B}\\log_2 (\\rho_{A,B})\\right).\n",
    "$$"
   ]
  },
  {
   "cell_type": "markdown",
   "id": "c955bb41",
   "metadata": {
    "editable": true
   },
   "source": [
    "## Understanding the example\n",
    "The example here shows the above von Neumann entropy based on the\n",
    "density matrix for the lowest many-body state. We see clearly a jump\n",
    "in the entropy around the point where we have a level crossing. At\n",
    "interaction strenght $\\lambda=0$ we have many-body states purely\n",
    "defined by their computational basis states. As we switch on the\n",
    "interaction strength, we obtain an increased degree of mixing and the\n",
    "entropy increases till we reach the level crossing point where we see\n",
    "an additional and sudden increase in entropy. Similar behaviors are\n",
    "observed for the other states. The most important result from this\n",
    "example is that entanglement is driven by the Hamiltonian itself and\n",
    "the strength of the interaction matrix elements and the\n",
    "non-interacting energies."
   ]
  },
  {
   "cell_type": "markdown",
   "id": "0539b402",
   "metadata": {
    "editable": true
   },
   "source": [
    "## Code, best seen in jupyter-notebook"
   ]
  },
  {
   "cell_type": "code",
   "execution_count": 2,
   "id": "5b827e5e",
   "metadata": {
    "collapsed": false,
    "editable": true
   },
   "outputs": [],
   "source": [
    "%matplotlib inline\n",
    "from  matplotlib import pyplot as plt\n",
    "import numpy as np\n",
    "from scipy.linalg import logm, expm\n",
    "def log2M(a): # base 2 matrix logarithm\n",
    "    return logm(a)/np.log(2.0)\n",
    "\n",
    "dim = 4\n",
    "Hamiltonian = np.zeros((dim,dim))\n",
    "#number of lambda values\n",
    "n = 40\n",
    "lmbd = np.linspace(0.0,1.0,n)\n",
    "Hx = 2.0\n",
    "Hz = 3.0\n",
    "# Non-diagonal part as sigma_x tensor product with sigma_x\n",
    "sx = np.matrix([[0,1],[1,0]])\n",
    "sx2 = Hx*np.kron(sx, sx)\n",
    "# Diagonal part as sigma_z tensor product with sigma_z\n",
    "sz = np.matrix([[1,0],[0,-1]])\n",
    "sz2 = Hz*np.kron(sz, sz)\n",
    "noninteracting = [0.0, 2.5, 6.5, 7.0]\n",
    "D = np.diag(noninteracting)\n",
    "Eigenvalue = np.zeros((dim,n))\n",
    "Entropy = np.zeros(n)\n",
    "\n",
    "for i in range(n): \n",
    "    Hamiltonian = lmbd[i]*(sx2+sz2)+D\n",
    "    # diagonalize and obtain eigenvalues, not necessarily sorted\n",
    "    EigValues, EigVectors = np.linalg.eig(Hamiltonian)\n",
    "    # sort eigenvectors and eigenvalues\n",
    "    permute = EigValues.argsort()\n",
    "    EigValues = EigValues[permute]\n",
    "    EigVectors = EigVectors[:,permute]\n",
    "    # Compute density matrix for selected system state, here ground state\n",
    "    DensityMatrix = np.zeros((dim,dim))\n",
    "    DensityMatrix = np.outer(EigVectors[:,0],EigVectors[:,0])\n",
    "    # Project down on substates and find density matrix for subsystem\n",
    "    d = np.matrix([[1,0],[0,1]])\n",
    "    v1 = [1.0,0.0]\n",
    "    proj1 = np.kron(v1,d)\n",
    "    x1 = proj1 @ DensityMatrix @ proj1.T\n",
    "    v2 = [0.0,1.0]\n",
    "    proj2 = np.kron(v2,d)\n",
    "    x2 = proj2 @ DensityMatrix @ proj2.T\n",
    "    # Total density matrix for subsystem\n",
    "    total = x1+x2\n",
    "    # von Neumann Entropy for subsystem \n",
    "    Entropy[i] = -np.matrix.trace(total @ log2M(total))\n",
    "    # Plotting eigenvalues and entropy as functions of interaction strengths\n",
    "    Eigenvalue[0,i] = EigValues[0]\n",
    "    Eigenvalue[1,i] = EigValues[1]\n",
    "    Eigenvalue[2,i] = EigValues[2]\n",
    "    Eigenvalue[3,i] = EigValues[3]\n",
    "plt.plot(lmbd, Eigenvalue[0,:] ,'b-',lmbd, Eigenvalue[1,:],'g-',)\n",
    "plt.plot(lmbd, Eigenvalue[2,:] ,'r-',lmbd, Eigenvalue[3,:],'y-',)\n",
    "plt.xlabel('$\\lambda$')\n",
    "plt.ylabel('Eigenvalues')\n",
    "plt.show()\n",
    "plt.plot(lmbd, Entropy)\n",
    "plt.xlabel('$\\lambda$')\n",
    "plt.ylabel('Entropy')          \n",
    "plt.show"
   ]
  },
  {
   "cell_type": "markdown",
   "id": "e80d0c0b",
   "metadata": {
    "editable": true
   },
   "source": [
    "## More material to come"
   ]
  }
 ],
 "metadata": {},
 "nbformat": 4,
 "nbformat_minor": 5
}
