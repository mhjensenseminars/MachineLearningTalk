{
 "cells": [
  {
   "cell_type": "markdown",
   "id": "8762b3d7",
   "metadata": {
    "editable": true
   },
   "source": [
    "<!-- HTML file automatically generated from DocOnce source (https://github.com/doconce/doconce/)\n",
    "doconce format html sensing.do.txt --no_mako -->\n",
    "<!-- dom:TITLE: Making sense of sensing?  -->"
   ]
  },
  {
   "cell_type": "markdown",
   "id": "661d9e88",
   "metadata": {
    "editable": true
   },
   "source": [
    "# Making sense of sensing? \n",
    "**Morten Hjorth-Jensen**, Department of Physics, University of Oslo, Norway\n",
    "\n",
    "Date: **March 2025**"
   ]
  },
  {
   "cell_type": "markdown",
   "id": "0f97c883",
   "metadata": {
    "editable": true
   },
   "source": [
    "## Motivation and Content\n",
    "\n",
    "These notes aim at linking entanglement in quantum mechanical systems with quantum sensing using simple examples.\n",
    "Numerical codes are included in order to illustrate basic elements of sensing.\n",
    "The examples are tailored to simple one- and two-qubit systems. The material contains\n",
    "1. One-qubit system with basic elements of sensing\n",
    "\n",
    "2. Linking analytically solvable case with many-qubit entanglement\n",
    "\n",
    "3. Simple two-particle (or two-qubit) system to demonstrate entanglement and its links with sensing"
   ]
  },
  {
   "cell_type": "markdown",
   "id": "c20fc18f",
   "metadata": {
    "editable": true
   },
   "source": [
    "## More material will be added\n",
    "\n",
    "In particular, we will include\n",
    "* Quantum computing simulations of the above systems using the Variational Quantum Eigensolver algorithm\n",
    "\n",
    "* Discussion of Fisher entropy and other measures\n",
    "\n",
    "* Numerical codes for general time-dependent interactions\n",
    "\n",
    "* Initial state preparations and final results and more\n",
    "\n",
    "Feel free to come with suggestions for additions. You can access the material at <https://github.com/mhjensenseminars/MachineLearningTalk/blob/master/doc/pub/sensing/ipynb/sensing.ipynb>"
   ]
  },
  {
   "cell_type": "markdown",
   "id": "8fdf6d10",
   "metadata": {
    "editable": true
   },
   "source": [
    "## Literature\n",
    "\n",
    "In the discussions here we have borrowed extensively from two Review of Modern Physics\n",
    "articles\n",
    "1. **Quantum sensing**, C.L. Degen, F. Reinhard, and P. Cappellaro, Reviews of  Modern  Physics **89**, 035002 (2017), see <https://journals.aps.org/rmp/abstract/10.1103/RevModPhys.89.035002>\n",
    "\n",
    "2. **Quantum metrology with nonclassical states of atomic ensembles**, L. Pezzè, A. Smerzi, M.K. Oberthaler, R. Schmied, and P. Treutlein, Reviews of  Modern  Physics **90**, 035005 (2018), see <https://journals.aps.org/rmp/abstract/10.1103/RevModPhys.90.035005>\n",
    "\n",
    "3. See also recent work by Liu et at <https://www.nature.com/articles/s41534-021-00507-x>. We may add codes which simulate these systems as well, stay tuned."
   ]
  },
  {
   "cell_type": "markdown",
   "id": "572112cf",
   "metadata": {
    "editable": true
   },
   "source": [
    "## One-qubit system\n",
    "\n",
    "In the first part of this notebook, we will analyze our systems using\n",
    "plain diagonalization and simple analytical manipulations.  Thereafter\n",
    "we will develop codes and material for performing a quantum computing\n",
    "simulation of the same systems (this material is not yet ready).\n",
    "\n",
    "Our first encounter is a simple one-qubit system, described by a simple $2\\times 2$ Hamiltonian.\n",
    "\n",
    "We start with a simple $2\\times 2$ Hamiltonian matrix expressed in\n",
    "terms of Pauli $\\boldsymbol{X}$, $\\boldsymbol{Y}$  and $\\boldsymbol{Z}$ matrices. But before we proceed, a simple reminder is appropriate."
   ]
  },
  {
   "cell_type": "markdown",
   "id": "f345cbe6",
   "metadata": {
    "editable": true
   },
   "source": [
    "## Definitions: Single qubit gates\n",
    "\n",
    "The Pauli matrices (and gate operations following therefrom) are defined as"
   ]
  },
  {
   "cell_type": "markdown",
   "id": "f2186598",
   "metadata": {
    "editable": true
   },
   "source": [
    "$$\n",
    "\\boldsymbol{X} \\equiv \\sigma_x = \\begin{bmatrix}\n",
    "\t\t0 & 1 \\\\\n",
    "\t\t1 & 0\n",
    "\t\\end{bmatrix}, \\quad\n",
    "\t\\boldsymbol{Y} \\equiv \\sigma_y = \\begin{bmatrix}\n",
    "\t\t0 & -i \\\\\n",
    "\t\ti & 0\n",
    "\t\\end{bmatrix}, \\quad\n",
    "\t\\boldsymbol{Z} \\equiv \\sigma_z = \\begin{bmatrix}\n",
    "\t\t1 & 0 \\\\\n",
    "\t\t0 & -1\n",
    "\t\\end{bmatrix}.\n",
    "$$"
   ]
  },
  {
   "cell_type": "markdown",
   "id": "d52a5294",
   "metadata": {
    "editable": true
   },
   "source": [
    "## Pauli-$\\boldsymbol{X}$ gate\n",
    "\n",
    "The Pauli-$\\boldsymbol{X}$ gate is also known as the **NOT** gate, which flips the state of the qubit."
   ]
  },
  {
   "cell_type": "markdown",
   "id": "0039d277",
   "metadata": {
    "editable": true
   },
   "source": [
    "$$\n",
    "\\begin{align*}\n",
    "\t\\boldsymbol{X}\\vert 0\\rangle &= \\vert 1\\rangle, \\\\\n",
    "\t\\boldsymbol{X}\\vert 1\\rangle &= \\vert 0\\rangle.\t\n",
    "\\end{align*}\n",
    "$$"
   ]
  },
  {
   "cell_type": "markdown",
   "id": "a5e55ab2",
   "metadata": {
    "editable": true
   },
   "source": [
    "The Pauli-$\\boldsymbol{Y}$ gate flips the bit and multiplies the phase by $ i $."
   ]
  },
  {
   "cell_type": "markdown",
   "id": "47658092",
   "metadata": {
    "editable": true
   },
   "source": [
    "$$\n",
    "\\begin{align*}\n",
    "\t\\boldsymbol{Y}\\vert 0\\rangle &= i\\vert 1\\rangle, \\\\\n",
    "\t\\boldsymbol{Y}\\vert 1\\rangle &= -i\\vert 0\\rangle.\n",
    "\\end{align*}\n",
    "$$"
   ]
  },
  {
   "cell_type": "markdown",
   "id": "fc9e6cec",
   "metadata": {
    "editable": true
   },
   "source": [
    "The Pauli-$\\boldsymbol{Z}$ gate multiplies only the phase of $\\vert 1\\rangle$ by $ -1 $."
   ]
  },
  {
   "cell_type": "markdown",
   "id": "ecf087d0",
   "metadata": {
    "editable": true
   },
   "source": [
    "$$\n",
    "\\begin{align*}\n",
    "\t\\boldsymbol{Z}\\vert 0\\rangle &= \\vert 0\\rangle, \\\\\n",
    "\t\\boldsymbol{Z}\\vert 1\\rangle &= -\\vert 1\\rangle.\n",
    "\\end{align*}\n",
    "$$"
   ]
  },
  {
   "cell_type": "markdown",
   "id": "85788cb8",
   "metadata": {
    "editable": true
   },
   "source": [
    "## Hadamard gate\n",
    "\n",
    "The Hadamard gate is defined as"
   ]
  },
  {
   "cell_type": "markdown",
   "id": "9469dd98",
   "metadata": {
    "editable": true
   },
   "source": [
    "$$\n",
    "\\boldsymbol{H} = \\frac{1}{\\sqrt{2}} \\begin{bmatrix}\n",
    "\t\t1 & 1 \\\\\n",
    "\t\t1 & -1\n",
    "\t\\end{bmatrix}.\n",
    "$$"
   ]
  },
  {
   "cell_type": "markdown",
   "id": "2408b56f",
   "metadata": {
    "editable": true
   },
   "source": [
    "It creates a superposition of the $ \\vert 0\\rangle $ and $ \\vert 1\\rangle $ states."
   ]
  },
  {
   "cell_type": "markdown",
   "id": "b86b7c11",
   "metadata": {
    "editable": true
   },
   "source": [
    "<!-- Equation labels as ordinary links -->\n",
    "<div id=\"_auto1\"></div>\n",
    "\n",
    "$$\n",
    "\\begin{equation}\n",
    "\t\\boldsymbol{H}\\vert 0\\rangle = \\frac{1}{\\sqrt{2}} \\left( \\vert 0\\rangle + \\vert 1\\rangle \\right), \n",
    "\\label{_auto1} \\tag{1}\n",
    "\\end{equation}\n",
    "$$"
   ]
  },
  {
   "cell_type": "markdown",
   "id": "605009a8",
   "metadata": {
    "editable": true
   },
   "source": [
    "<!-- Equation labels as ordinary links -->\n",
    "<div id=\"_auto2\"></div>\n",
    "\n",
    "$$\n",
    "\\begin{equation} \n",
    "\t\\boldsymbol{H}\\vert 1\\rangle = \\frac{1}{\\sqrt{2}} \\left( \\vert 0\\rangle - \\vert 1\\rangle \\right).\n",
    "\\label{_auto2} \\tag{2}\n",
    "\\end{equation}\n",
    "$$"
   ]
  },
  {
   "cell_type": "markdown",
   "id": "f04456d7",
   "metadata": {
    "editable": true
   },
   "source": [
    "Note that we will use $H$ as symbol for the Hadamard gate while we will reserve the notation $\\mathcal{H}$ for a given Hamiltonian."
   ]
  },
  {
   "cell_type": "markdown",
   "id": "bd47302b",
   "metadata": {
    "editable": true
   },
   "source": [
    "## Symmetric matrix\n",
    "\n",
    "We define a  hermitian  matrix  $H\\in {\\mathbb{R}}^{2\\times 2}$"
   ]
  },
  {
   "cell_type": "markdown",
   "id": "59256b0e",
   "metadata": {
    "editable": true
   },
   "source": [
    "$$\n",
    "\\mathcal{H} = \\begin{bmatrix} \\mathcal{H}_{11} & \\mathcal{H}_{12} \\\\ \\mathcal{H}_{21} & \\mathcal{H}_{22}\n",
    "\\end{bmatrix},\n",
    "$$"
   ]
  },
  {
   "cell_type": "markdown",
   "id": "6b0cf274",
   "metadata": {
    "editable": true
   },
   "source": [
    "We  let $\\mathcal{H} = \\mathcal{H}_0 + \\mathcal{H}_I$, where"
   ]
  },
  {
   "cell_type": "markdown",
   "id": "14a7eaa3",
   "metadata": {
    "editable": true
   },
   "source": [
    "$$\n",
    "\\mathcal{H}_0= \\begin{bmatrix} E_1 & 0 \\\\ 0 & E_2\\end{bmatrix},\n",
    "$$"
   ]
  },
  {
   "cell_type": "markdown",
   "id": "ee050601",
   "metadata": {
    "editable": true
   },
   "source": [
    "is a diagonal matrix. Similarly,"
   ]
  },
  {
   "cell_type": "markdown",
   "id": "0dedc341",
   "metadata": {
    "editable": true
   },
   "source": [
    "$$\n",
    "\\mathcal{H}_I= \\begin{bmatrix} V_{11} & V_{12} \\\\ V_{21} & V_{22}\\end{bmatrix},\n",
    "$$"
   ]
  },
  {
   "cell_type": "markdown",
   "id": "06922fa9",
   "metadata": {
    "editable": true
   },
   "source": [
    "where $V_{ij}$ represent various interaction matrix elements."
   ]
  },
  {
   "cell_type": "markdown",
   "id": "89d033e4",
   "metadata": {
    "editable": true
   },
   "source": [
    "## Non-interacting solution\n",
    "\n",
    "We can view $H_0$ as the non-interacting solution"
   ]
  },
  {
   "cell_type": "markdown",
   "id": "b7443c87",
   "metadata": {
    "editable": true
   },
   "source": [
    "$$\n",
    "\\mathcal{H}_0\\vert 0 \\rangle =E_1\\vert 0 \\rangle,\n",
    "$$"
   ]
  },
  {
   "cell_type": "markdown",
   "id": "71bb9227",
   "metadata": {
    "editable": true
   },
   "source": [
    "and"
   ]
  },
  {
   "cell_type": "markdown",
   "id": "3a1e2a6f",
   "metadata": {
    "editable": true
   },
   "source": [
    "$$\n",
    "\\mathcal{H}_0\\vert 1\\rangle =E_2\\vert 1\\rangle,\n",
    "$$"
   ]
  },
  {
   "cell_type": "markdown",
   "id": "c83f1bc0",
   "metadata": {
    "editable": true
   },
   "source": [
    "where we have defined the orthogonal computational one-qubit basis states $\\vert 0\\rangle$ and $\\vert 1\\rangle$."
   ]
  },
  {
   "cell_type": "markdown",
   "id": "c54c7adb",
   "metadata": {
    "editable": true
   },
   "source": [
    "## Rewriting with Pauli matrices\n",
    "We rewrite $H$ (and $H_0$ and $H_I$)  via Pauli matrices"
   ]
  },
  {
   "cell_type": "markdown",
   "id": "b4fa9610",
   "metadata": {
    "editable": true
   },
   "source": [
    "$$\n",
    "\\mathcal{H}_0 = \\mathcal{E} I + \\Omega \\boldsymbol{Z}, \\quad \\mathcal{E} = \\frac{E_1\n",
    "  + E_2}{2}, \\; \\Omega = \\frac{E_1-E_2}{2},\n",
    "$$"
   ]
  },
  {
   "cell_type": "markdown",
   "id": "2543542f",
   "metadata": {
    "editable": true
   },
   "source": [
    "and"
   ]
  },
  {
   "cell_type": "markdown",
   "id": "85a35810",
   "metadata": {
    "editable": true
   },
   "source": [
    "$$\n",
    "\\mathcal{H}_I = c \\boldsymbol{I} +\\omega_z\\boldsymbol{Z} + \\omega_x\\boldsymbol{X},\n",
    "$$"
   ]
  },
  {
   "cell_type": "markdown",
   "id": "7229c62d",
   "metadata": {
    "editable": true
   },
   "source": [
    "with $c = (V_{11}+V_{22})/2$, $\\omega_z = (V_{11}-V_{22})/2$ and $\\omega_x = V_{12}=V_{21}$.\n",
    "We let our Hamiltonian depend linearly on a strength parameter $\\lambda$"
   ]
  },
  {
   "cell_type": "markdown",
   "id": "b82cb182",
   "metadata": {
    "editable": true
   },
   "source": [
    "$$\n",
    "\\mathcal{H}=\\mathcal{H}_0+\\lambda \\mathcal{H}_\\mathrm{I},\n",
    "$$"
   ]
  },
  {
   "cell_type": "markdown",
   "id": "29ab894b",
   "metadata": {
    "editable": true
   },
   "source": [
    "with $\\lambda \\in [0,1]$, where the limits $\\lambda=0$ and $\\lambda=1$\n",
    "represent the non-interacting (or unperturbed) and fully interacting\n",
    "system, respectively."
   ]
  },
  {
   "cell_type": "markdown",
   "id": "0eaed3ae",
   "metadata": {
    "editable": true
   },
   "source": [
    "## Selecting parameters\n",
    "\n",
    "The model is an eigenvalue problem with only\n",
    "two available states.\n",
    "\n",
    "Here we set the parameters $E_1=0$,\n",
    "$E_2=4$, $V_{11}=-V_{22}=3$ and $V_{12}=V_{21}=0.2$.\n",
    "\n",
    "The non-interacting solutions represent our computational basis.\n",
    "Pertinent to our choice of parameters, is that at $\\lambda\\geq 2/3$,\n",
    "the lowest eigenstate is dominated by $\\vert 1\\rangle$ while the upper\n",
    "is $\\vert 0 \\rangle$. At $\\lambda=1$ the $\\vert 0 \\rangle$ mixing of\n",
    "the lowest eigenvalue is $1\\%$ while for $\\lambda\\leq 2/3$ we have a\n",
    "$\\vert 0 \\rangle$ component of more than $90\\%$.  The character of the\n",
    "eigenvectors has therefore been interchanged when passing $z=2/3$. The\n",
    "value of the parameter $V_{12}$ represents the strength of the coupling\n",
    "between the two states."
   ]
  },
  {
   "cell_type": "markdown",
   "id": "0a98bba7",
   "metadata": {
    "editable": true
   },
   "source": [
    "## Setting up the matrix\n",
    "This part is best seen using the jupyter-notebook"
   ]
  },
  {
   "cell_type": "code",
   "execution_count": 1,
   "id": "66b52e4b",
   "metadata": {
    "collapsed": false,
    "editable": true
   },
   "outputs": [],
   "source": [
    "%matplotlib inline\n",
    "\n",
    "from  matplotlib import pyplot as plt\n",
    "import numpy as np\n",
    "dim = 2\n",
    "Hamiltonian = np.zeros((dim,dim))\n",
    "e0 = 0.0\n",
    "e1 = 4.0\n",
    "Xnondiag = 0.20\n",
    "Xdiag = 3.0\n",
    "Eigenvalue = np.zeros(dim)\n",
    "# setting up the Hamiltonian\n",
    "Hamiltonian[0,0] = Xdiag+e0\n",
    "Hamiltonian[0,1] = Xnondiag\n",
    "Hamiltonian[1,0] = Hamiltonian[0,1]\n",
    "Hamiltonian[1,1] = e1-Xdiag\n",
    "# diagonalize and obtain eigenvalues, not necessarily sorted\n",
    "EigValues, EigVectors = np.linalg.eig(Hamiltonian)\n",
    "permute = EigValues.argsort()\n",
    "EigValues = EigValues[permute]\n",
    "# print only the lowest eigenvalue\n",
    "print(EigValues[0])"
   ]
  },
  {
   "cell_type": "markdown",
   "id": "f4fc6a3e",
   "metadata": {
    "editable": true
   },
   "source": [
    "Now rewrite it in terms of the identity matrix and the Pauli matrix X and Z"
   ]
  },
  {
   "cell_type": "code",
   "execution_count": 2,
   "id": "5b9cb65f",
   "metadata": {
    "collapsed": false,
    "editable": true
   },
   "outputs": [],
   "source": [
    "# Now rewrite it in terms of the identity matrix and the Pauli matrix X and Z\n",
    "X = np.array([[0,1],[1,0]])\n",
    "Y = np.array([[0,-1j],[1j,0]])\n",
    "Z = np.array([[1,0],[0,-1]])\n",
    "# identity matrix\n",
    "I = np.array([[1,0],[0,1]])\n",
    "\n",
    "epsilon = (e0+e1)*0.5; omega = (e0-e1)*0.5\n",
    "c = 0.0; omega_z=Xdiag; omega_x = Xnondiag\n",
    "Hamiltonian = (epsilon+c)*I+(omega_z+omega)*Z+omega_x*X\n",
    "EigValues, EigVectors = np.linalg.eig(Hamiltonian)\n",
    "permute = EigValues.argsort()\n",
    "EigValues = EigValues[permute]\n",
    "# print only the lowest eigenvalue\n",
    "print(EigValues[0])"
   ]
  },
  {
   "cell_type": "markdown",
   "id": "f6a9333e",
   "metadata": {
    "editable": true
   },
   "source": [
    "## Initialization\n",
    "\n",
    "To initialize a given system to a known quantum state, we first start\n",
    "with a known ground state $|0\\rangle$. Then, depending on the type of\n",
    "information that we want to learn about the stimulus, the measurement\n",
    "scheme to be used, and the physical implementation of the quantum\n",
    "system, we choose some unitary operator $U_{\\text {Init }}$ such that\n",
    "it transforms our state $|0\\rangle$ to a desired initial superposition\n",
    "state $\\left|\\psi_{\\text {Init }}\\right\\rangle=a|0\\rangle+b|1\\rangle$\n",
    "for some $a, b \\in \\mathbb{C}$ such that $|a|^{2}+|b|^{2}=1$."
   ]
  },
  {
   "cell_type": "markdown",
   "id": "8c06db47",
   "metadata": {
    "editable": true
   },
   "source": [
    "## Effects of Stimulus\n",
    "\n",
    "After the sensing state is initialized, it is exposed to the environment and evolves according to the time-evolution operator of the sensing Hamiltonian $\\hat{U}_{H}$ as"
   ]
  },
  {
   "cell_type": "markdown",
   "id": "973207b3",
   "metadata": {
    "editable": true
   },
   "source": [
    "$$\n",
    "|\\psi(t)\\rangle=\\hat{U}_{H}(0, t)\\left|\\psi_{\\text {Init }}(0)\\right\\rangle\n",
    "$$"
   ]
  },
  {
   "cell_type": "markdown",
   "id": "d9c4b751",
   "metadata": {
    "editable": true
   },
   "source": [
    "In general, $\\hat{U}_{H}(0, t)=e^{\\frac{i}{\\hbar} \\int_{0}^{t} \\hat{H} d \\tau}$ could be a complicated, non-analytical function for a time-dependent $V(t)$ (making $\\hat{H}$ time-dependent as well)."
   ]
  },
  {
   "cell_type": "markdown",
   "id": "ec48f96c",
   "metadata": {
    "editable": true
   },
   "source": [
    "## Slowly changing potential\n",
    "\n",
    "However, in the case where $V(t)$ is constant or changes much more slowly than our sensing integration time, we can assume"
   ]
  },
  {
   "cell_type": "markdown",
   "id": "4d68913b",
   "metadata": {
    "editable": true
   },
   "source": [
    "$$\n",
    "|\\psi(t)\\rangle=\\hat{U}_{H}(0, t)\\left|\\psi_{\\text {Init }}(0)\\right\\rangle=e^{\\frac{i t}{\\hbar} \\hat{H}}\\left|\\psi_{\\text {Init }}(0)\\right\\rangle\n",
    "$$"
   ]
  },
  {
   "cell_type": "markdown",
   "id": "a95b8df7",
   "metadata": {
    "editable": true
   },
   "source": [
    "which means the sensing state evolves as"
   ]
  },
  {
   "cell_type": "markdown",
   "id": "5eb4662e",
   "metadata": {
    "editable": true
   },
   "source": [
    "$$\n",
    "|\\psi(t)\\rangle=\\left(e^{\\frac{i t}{\\hbar}\\left(E_{0}-\\frac{1}{2} \\gamma V_Z\\right)}\\left|\\lambda_{0}\\right\\rangle\\left\\langle\\lambda_{0}\\right|+e^{\\frac{i t}{\\hbar}\\left(E_{1}+\\frac{1}{2} \\gamma V_Z\\right)}\\left|\\lambda_{1}\\right\\rangle\\left\\langle\\lambda_{1}\\right|\\right)\\left|\\psi_{\\text {Init }}(0)\\right\\rangle\n",
    "$$"
   ]
  },
  {
   "cell_type": "markdown",
   "id": "89948b2b",
   "metadata": {
    "editable": true
   },
   "source": [
    "using the spectral decomposition and the final representation of the\n",
    "sensing Hamiltonian found previously (whiteboard notes)."
   ]
  },
  {
   "cell_type": "markdown",
   "id": "8c5d584b",
   "metadata": {
    "editable": true
   },
   "source": [
    "## Readout\n",
    "\n",
    "After the sensing state has time-evolved in the presence of $V(t)$, it\n",
    "can be transformed again before a measurement is taken. The first\n",
    "part, the transformation to some desired read-out state, is performed\n",
    "by an operator $\\hat{U}_{\\text {Readout }}$ (which is often\n",
    "$\\hat{U}_{\\text {Init }}^{-1}$, see Degen et al., 2017) where"
   ]
  },
  {
   "cell_type": "markdown",
   "id": "01c68f1d",
   "metadata": {
    "editable": true
   },
   "source": [
    "$$\n",
    "\\left|\\psi_{\\text {Final }}\\right\\rangle=\\hat{U}_{\\text {Readout }}|\\psi(t)\\rangle\n",
    "$$"
   ]
  },
  {
   "cell_type": "markdown",
   "id": "7d2c3a4a",
   "metadata": {
    "editable": true
   },
   "source": [
    "## Measurement\n",
    "\n",
    "A measurement of this final state $\\left|\\psi_{\\text {Final\n",
    "}}\\right\\rangle=a^{\\prime}|0\\rangle+b^{\\prime}|1\\rangle$ is made with\n",
    "respect to the basis $\\{|0\\rangle,|1\\rangle\\}$ where\n",
    "$|0\\rangle$ is measured with proability"
   ]
  },
  {
   "cell_type": "markdown",
   "id": "fca1ba02",
   "metadata": {
    "editable": true
   },
   "source": [
    "$$\n",
    "\\left|\\left\\langle 0 \\mid \\psi_{\\text {Final}}\\right\\rangle\\right|^{2}=\\left|a^{\\prime}\\right|^{2},\n",
    "$$"
   ]
  },
  {
   "cell_type": "markdown",
   "id": "6dab26f6",
   "metadata": {
    "editable": true
   },
   "source": [
    "and $|1\\rangle$ is measured with probability"
   ]
  },
  {
   "cell_type": "markdown",
   "id": "298d9a2c",
   "metadata": {
    "editable": true
   },
   "source": [
    "$$\n",
    "\\left|\\left\\langle 1 \\mid\\psi_{\\text {Final}}\\right\\rangle\\right|^{2}=\\left|b^{\\prime}\\right|^{2}.\n",
    "$$"
   ]
  },
  {
   "cell_type": "markdown",
   "id": "4697ab5c",
   "metadata": {
    "editable": true
   },
   "source": [
    "After this\n",
    "measurement, the sensing state has been collapsed into one of the\n",
    "basis states, so no more information can be gained."
   ]
  },
  {
   "cell_type": "markdown",
   "id": "7ce41b4e",
   "metadata": {
    "editable": true
   },
   "source": [
    "## Multiple measurements\n",
    "\n",
    "However, by having\n",
    "multiple quantum sensing elements time-evolving together or by\n",
    "repeating the process many times before the external stimulus $V(t)$\n",
    "can change, a transition probability $p_{|0\\rangle\n",
    "\\rightarrow|1\\rangle}=\\left|\\left\\langle 1 \\mid \\psi_{\\text {Final\n",
    "}}\\right\\rangle\\right|^{2}=\\left|b^{\\prime}\\right|^{2}$ can be\n",
    "estimated. The 'sensing' is then accomplished by taking a series of\n",
    "these transition probabilities as a time-series, and then using the\n",
    "results to estimate the sensed stimulus $V(t)$ [Degen et al., 2017]."
   ]
  },
  {
   "cell_type": "markdown",
   "id": "d9e55cbc",
   "metadata": {
    "editable": true
   },
   "source": [
    "## Example\n",
    "\n",
    "The simplest mathematical example of quantum sensing is sensing an\n",
    "external stimulus's effect on the splitting of the energy levels of an\n",
    "isolated system. Suppose our stimulus is constant and 'parallel' with\n",
    "our sensor, i.e. $V_z(t)=V_{0}$ and $V_x=0$, and we choose\n",
    "our initialization and readout preparation operators to be the famous\n",
    "Hadamard gate"
   ]
  },
  {
   "cell_type": "markdown",
   "id": "42ed5fe7",
   "metadata": {
    "editable": true
   },
   "source": [
    "$$\n",
    "\\hat{U}_{H a d}=\\frac{1}{\\sqrt{2}}\\left(\\begin{array}{cc}\n",
    "1 & 1 \\\\\n",
    "1 & -1\n",
    "\\end{array}\\right)\n",
    "$$"
   ]
  },
  {
   "cell_type": "markdown",
   "id": "63b0c4c3",
   "metadata": {
    "editable": true
   },
   "source": [
    "since $\\hat{U}_{\\text {Had }}^{-1}=\\hat{U}_{\\text {Had }}$.\\\\"
   ]
  },
  {
   "cell_type": "markdown",
   "id": "d053607b",
   "metadata": {
    "editable": true
   },
   "source": [
    "## Evolution of initial state\n",
    "\n",
    "The initial state is"
   ]
  },
  {
   "cell_type": "markdown",
   "id": "5acccede",
   "metadata": {
    "editable": true
   },
   "source": [
    "$$\n",
    "\\left|\\psi_{\\text {Init }}\\right\\rangle=\\hat{U}_{\\text {Had }}|0\\rangle=\\frac{1}{\\sqrt{2}}\\left(\\begin{array}{cc}\n",
    "1 & 1 \\\\\n",
    "1 & -1\n",
    "\\end{array}\\right)\\binom{1}{0}=\\frac{1}{\\sqrt{2}}\\binom{1}{1}\n",
    "$$"
   ]
  },
  {
   "cell_type": "markdown",
   "id": "eac946f8",
   "metadata": {
    "editable": true
   },
   "source": [
    "This need not necessarily be the same basis into which the system was initialized, but we'll assume it is so that we only have to keep track of one basis."
   ]
  },
  {
   "cell_type": "markdown",
   "id": "7a810175",
   "metadata": {
    "editable": true
   },
   "source": [
    "## State evolution\n",
    "\n",
    "The state evolves as"
   ]
  },
  {
   "cell_type": "markdown",
   "id": "67a552b1",
   "metadata": {
    "editable": true
   },
   "source": [
    "$$\n",
    "\\begin{align*}\n",
    "|\\psi(t)\\rangle=&\\left(e^{\\frac{i t}{\\hbar}\\left(E_{0}-\\frac{1}{2} \\gamma V_Z\\right)}|0\\rangle\\langle 0|+e^{\\frac{i t}{\\hbar}\\left(E_{1}+\\frac{1}{2} \\gamma V_Z\\right)}|1\\rangle\\langle 1|\\right)\\left|\\psi_{\\text {Init }}(0)\\right\\rangle\\\\\n",
    "&=\\left(\\begin{array}{cc}\n",
    "e^{\\frac{i t}{\\hbar}\\left(E_{0}-\\frac{1}{2} \\gamma V_Z\\right)} & 0 \\\\\n",
    "0 & e^{\\frac{i t}{\\hbar}\\left(E_{1}+\\frac{1}{2} \\gamma V_Z\\right)}\n",
    "\\end{array}\\right) \\frac{1}{\\sqrt{2}}\\binom{1}{1} \\\\\n",
    "& =\\frac{1}{\\sqrt{2}}\\binom{e^{\\frac{i t}{\\hbar}\\left(E_{0}-\\frac{1}{2} \\gamma V_Z\\right)}}{e^{\\frac{i t}{\\hbar}\\left(E_{1}+\\frac{1}{2} \\gamma V_Z\\right)}}\\\\\n",
    "&=\\frac{1}{\\sqrt{2}} e^{\\frac{i t}{\\hbar}\\left(E_{0}-\\frac{1}{2} \\gamma V_Z\\right)}\\binom{1}{e^{\\frac{i t}{\\hbar}\\left(E_{1}-E_{0}+\\gamma V_Z\\right)}}\n",
    "\\end{align*}\n",
    "$$"
   ]
  },
  {
   "cell_type": "markdown",
   "id": "f6b91fd9",
   "metadata": {
    "editable": true
   },
   "source": [
    "## Preparing for readout\n",
    "\n",
    "This is then prepared for readout as"
   ]
  },
  {
   "cell_type": "markdown",
   "id": "aa521a59",
   "metadata": {
    "editable": true
   },
   "source": [
    "$$\n",
    "\\vert\\psi_{\\text {Final }}\\rangle=\\frac{1}{2} \\exp{\\frac{\\imath t}{\\hbar}(E_{0}-\\frac{1}{2} \\gamma V_Z)}\n",
    "\\begin{bmatrix} 1+\\exp{\\frac{\\imath t}{\\hbar}(E_{1}-E_{0}+\\gamma V_Z)} \\\\ 1-\\exp{(\\frac{\\imath t}{\\hbar}(E_{1}-E_{0}+\\gamma V_Z)}\\end{bmatrix}.\n",
    "$$"
   ]
  },
  {
   "cell_type": "markdown",
   "id": "c4f4f2ac",
   "metadata": {
    "editable": true
   },
   "source": [
    "## Transition probability\n",
    "\n",
    "The transition probability"
   ]
  },
  {
   "cell_type": "markdown",
   "id": "ff51e83a",
   "metadata": {
    "editable": true
   },
   "source": [
    "$$\n",
    "\\begin{align*}\n",
    "p_{|0\\rangle \\rightarrow|1\\rangle}=\\left|\\left\\langle 1 \\mid \\psi_{\\text {Final }}\\right\\rangle\\right|^{2}=&\\left|1-e^{\\frac{i t}{\\hbar}\\left(E_{1}-E_{0}+\\gamma V_Z\\right)}\\right|^{2}\\\\\n",
    "&=\\frac{1}{2}\\left(1-\\cos \\left(t \\frac{\\left(E_{1}-E_{0}\\right)+\\gamma V_Z}{\\hbar}\\right)\\right)\n",
    "\\end{align*}\n",
    "$$"
   ]
  },
  {
   "cell_type": "markdown",
   "id": "4dd96bed",
   "metadata": {
    "editable": true
   },
   "source": [
    "## [Ramsey interferometry](https://en.wikipedia.org/wiki/Ramsey_interferometry)\n",
    "\n",
    "We know the difference in energy between $E_{1}$ and $E_{0}$, either\n",
    "since we constructed the system or by taking measurements without the\n",
    "external stimulus $V$, and we can control the time $t$ for which the\n",
    "system is allowed to evolve under the external stimulus. Then we can\n",
    "fix $t$ and take many measurements to estimate $p_{|0\\rangle\n",
    "\\rightarrow|1\\rangle}$, which then makes finding $t \\frac{\\gamma\n",
    "V_Z}{\\hbar}$ a simple phase-estimation problem which gives us $\\gamma\n",
    "V_Z$. The physical implementation of this process is known as Ramsey\n",
    "Interferometry, and it can be done with arbitary initialization and\n",
    "readout preparation unitary operators."
   ]
  },
  {
   "cell_type": "markdown",
   "id": "0d8c6858",
   "metadata": {
    "editable": true
   },
   "source": [
    "## Benefits of Entanglement\n",
    "\n",
    "Up until now, we have said that we take many measurements of\n",
    "$\\left|\\psi_{\\text {Final }}\\right\\rangle$ to estimate $p_{|0\\rangle\n",
    "\\rightarrow|1\\rangle}$, but we have been glossing over the estimation\n",
    "process. Assuming we can take $N$ measurements, either by having $N$\n",
    "experimental apparatuses running in parallel or by taking $N$\n",
    "different measurements of a (relatively) constant $V$ with a single\n",
    "apparatus, the uncertainty in $p$, denoted as $\\sigma_{p}$ (this is a\n",
    "positive real number; not to be confused with the Pauli matrices),\n",
    "scales as"
   ]
  },
  {
   "cell_type": "markdown",
   "id": "6d46f003",
   "metadata": {
    "editable": true
   },
   "source": [
    "$$\n",
    "\\sigma_{p} \\propto \\frac{1}{\\sqrt{N}}\n",
    "$$"
   ]
  },
  {
   "cell_type": "markdown",
   "id": "812b11c7",
   "metadata": {
    "editable": true
   },
   "source": [
    "## Ramsey interferometry\n",
    "\n",
    "If we consider Ramsey Interferometry as an example, see <https://en.wikipedia.org/wiki/Ramsey_interferometry>, then the\n",
    "uncertainty in $\\gamma V_Z$ and so in $V_Z$, denoted $\\sigma_{V}$,\n",
    "scales as"
   ]
  },
  {
   "cell_type": "markdown",
   "id": "199f18af",
   "metadata": {
    "editable": true
   },
   "source": [
    "$$\n",
    "\\sigma_{V} \\propto \\sigma_{p} \\propto \\frac{1}{\\sqrt{N}}\n",
    "$$"
   ]
  },
  {
   "cell_type": "markdown",
   "id": "7e5cdee1",
   "metadata": {
    "editable": true
   },
   "source": [
    "This relationship is known as the standard quantum limit (SQL)\n",
    "[Giovannetti et al., 2011], but can also be explained with the Law of\n",
    "\n",
    "Large Numbers from statistics, where measuring $N$ similarly\n",
    "distributed, well-behaved random variables gives the sample mean as an\n",
    "estimator for the population mean and the sample variance divided by\n",
    "the size of the sample as an uncertainty in the estimate of the\n",
    "population mean."
   ]
  },
  {
   "cell_type": "markdown",
   "id": "dd4c492a",
   "metadata": {
    "editable": true
   },
   "source": [
    "## More than one qubit\n",
    "\n",
    "The nature of quantum systems allows for more information to be\n",
    "extracted by exploiting entanglement between quantum systems. This is\n",
    "the fundamental basis for the benefits of quantum computing over\n",
    "classical computing, and quantum sensing has similar benefits over\n",
    "classical sensing. Suppose we return to the example above, but rather\n",
    "than initializing $N$ sensing qubits separately, we initialize\n",
    "$\\frac{N}{n}$ groups each with $n$ entangled quantum systems. Then we\n",
    "have"
   ]
  },
  {
   "cell_type": "markdown",
   "id": "5336fdea",
   "metadata": {
    "editable": true
   },
   "source": [
    "$$\n",
    "\\left|\\psi_{\\text {Init }}\\right\\rangle=\\frac{1}{\\sqrt{2^{n}}}\\left(|0\\rangle^{\\otimes n}+|1\\rangle^{\\otimes n}\\right),\n",
    "$$"
   ]
  },
  {
   "cell_type": "markdown",
   "id": "e0634f27",
   "metadata": {
    "editable": true
   },
   "source": [
    "where $|0\\rangle^{\\otimes n}=|0\\rangle \\otimes \\ldots \\otimes|0\\rangle, n$ times."
   ]
  },
  {
   "cell_type": "markdown",
   "id": "519ea7b0",
   "metadata": {
    "editable": true
   },
   "source": [
    "## After initialization\n",
    "\n",
    "After initialization, each of the $n$ sensing qubits evolves to pick up a relative phase factor of $e^{\\frac{i t}{\\hbar}\\left(E_{1}-E_{0}+\\gamma V_Z\\right)}$, which combined results in"
   ]
  },
  {
   "cell_type": "markdown",
   "id": "8ebaa713",
   "metadata": {
    "editable": true
   },
   "source": [
    "$$\n",
    "|\\psi(t)\\rangle=\\mathcal{N}\\left(|0\\rangle^{\\otimes n}+e^{n \\frac{i t}{\\hbar}\\left(E_{1}-E_{0}+\\gamma V_Z\\right)}|1\\rangle^{\\otimes n}\\right)\n",
    "$$"
   ]
  },
  {
   "cell_type": "markdown",
   "id": "ff4a707a",
   "metadata": {
    "editable": true
   },
   "source": [
    "where $\\mathcal{N}$ is just a factor to take care of normalization."
   ]
  },
  {
   "cell_type": "markdown",
   "id": "dac614e6",
   "metadata": {
    "editable": true
   },
   "source": [
    "## Transition probability\n",
    "\n",
    "The transition probability"
   ]
  },
  {
   "cell_type": "markdown",
   "id": "1a7ec463",
   "metadata": {
    "editable": true
   },
   "source": [
    "$$\n",
    "p_{|0\\rangle \\rightarrow|1\\rangle}=\\left|\\left\\langle 1 \\mid \\psi_{\\text {Final }}\\right\\rangle\\right|^{2}=\\frac{1}{2}\\left(1-\\cos \\left(t \\frac{n\\left(E_{1}-E_{0}\\right)+n \\gamma V_Z}{\\hbar}\\right)\\right)\n",
    "$$"
   ]
  },
  {
   "cell_type": "markdown",
   "id": "5ece118c",
   "metadata": {
    "editable": true
   },
   "source": [
    "## Role of entanglement\n",
    "\n",
    "From this, we can see that through entangling $n$ sensing qubits, the\n",
    "**signal** we are trying to sense increases from $V_Z \\rightarrow n\n",
    "V_Z$, and with $\\frac{N}{n}$ total measurements,"
   ]
  },
  {
   "cell_type": "markdown",
   "id": "08748f41",
   "metadata": {
    "editable": true
   },
   "source": [
    "$$\n",
    "\\sigma_{V} \\propto \\frac{1}{n} \\sigma_{p} \\propto \\frac{1}{n}\\left(\\frac{1}{\\sqrt{\\frac{N}{n}}}\\right)=\\frac{1}{\\sqrt{N n}}\n",
    "$$"
   ]
  },
  {
   "cell_type": "markdown",
   "id": "74403740",
   "metadata": {
    "editable": true
   },
   "source": [
    "which means the error decreased by a factor of $\\sqrt{n}$. In the case where $n=N$, the uncertainty now scales as"
   ]
  },
  {
   "cell_type": "markdown",
   "id": "e2a06505",
   "metadata": {
    "editable": true
   },
   "source": [
    "$$\n",
    "\\sigma_{V} \\propto \\frac{1}{N}\n",
    "$$"
   ]
  },
  {
   "cell_type": "markdown",
   "id": "eb61e97a",
   "metadata": {
    "editable": true
   },
   "source": [
    "which is known as the Heisenberg limit, and is the\n",
    "quantum-mechanically limited, maximal amount of information one can\n",
    "get from taking $n$ quantum sensing measurements [Giovannetti et al.,\n",
    "2011]."
   ]
  },
  {
   "cell_type": "markdown",
   "id": "5062e36e",
   "metadata": {
    "editable": true
   },
   "source": [
    "## Concluding remarks for the simple example\n",
    "\n",
    "Quantum sensing is an emerging field with a large number of exciting\n",
    "applications. In terms of physical implementation, quantum sensors are\n",
    "able to naturally be more sensitive and sense on smaller scales than\n",
    "many classical sensors, while also often being directly tracable to\n",
    "fundamental physical constants.\n",
    "\n",
    "Additionally, exploiting entanglement and the quantum nature of these\n",
    "devices allows for fundamentally more information to be collected than\n",
    "is allowed by classical measurements and the SQL. Quantum sensing\n",
    "fundamentally improves upon the physical and theoretical limitations\n",
    "of classical sensing, and it will be interesting to see how and what\n",
    "physical realizations develop to the point of practicality in the near\n",
    "future."
   ]
  },
  {
   "cell_type": "markdown",
   "id": "e2b3bbfe",
   "metadata": {
    "editable": true
   },
   "source": [
    "## Two-qubit system, Computational basis\n",
    "\n",
    "Our computational basis states"
   ]
  },
  {
   "cell_type": "markdown",
   "id": "5a34dc79",
   "metadata": {
    "editable": true
   },
   "source": [
    "$$\n",
    "\\vert 00\\rangle = \\vert 0\\rangle_{\\mathrm{A}}\\otimes \\vert 0\\rangle_{\\mathrm{B}}=\\begin{bmatrix} 1 & 0 & 0 &0\\end{bmatrix}^T,\n",
    "$$"
   ]
  },
  {
   "cell_type": "markdown",
   "id": "30e652cd",
   "metadata": {
    "editable": true
   },
   "source": [
    "and"
   ]
  },
  {
   "cell_type": "markdown",
   "id": "4f73ee3a",
   "metadata": {
    "editable": true
   },
   "source": [
    "$$\n",
    "\\vert 01\\rangle = \\vert 0\\rangle_{\\mathrm{A}}\\otimes \\vert 1\\rangle_{\\mathrm{B}}=\\begin{bmatrix} 0 & 1 & 0 &0\\end{bmatrix}^T,\n",
    "$$"
   ]
  },
  {
   "cell_type": "markdown",
   "id": "5d792248",
   "metadata": {
    "editable": true
   },
   "source": [
    "and"
   ]
  },
  {
   "cell_type": "markdown",
   "id": "04149c72",
   "metadata": {
    "editable": true
   },
   "source": [
    "$$\n",
    "\\vert 10\\rangle = \\vert 1\\rangle_{\\mathrm{A}}\\otimes \\vert 0\\rangle_{\\mathrm{B}}=\\begin{bmatrix} 0 & 0 & 1 &0\\end{bmatrix}^T,\n",
    "$$"
   ]
  },
  {
   "cell_type": "markdown",
   "id": "a7e29bf8",
   "metadata": {
    "editable": true
   },
   "source": [
    "and finally"
   ]
  },
  {
   "cell_type": "markdown",
   "id": "c7f354b9",
   "metadata": {
    "editable": true
   },
   "source": [
    "$$\n",
    "\\vert 11\\rangle = \\vert 1\\rangle_{\\mathrm{A}}\\otimes \\vert 1\\rangle_{\\mathrm{B}}=\\begin{bmatrix} 0 & 0 & 0 &1\\end{bmatrix}^T.\n",
    "$$"
   ]
  },
  {
   "cell_type": "markdown",
   "id": "a458dcff",
   "metadata": {
    "editable": true
   },
   "source": [
    "## Simple system to lllustrate entanglement\n",
    "\n",
    "This system can be thought of as composed of two subsystems\n",
    "$A$ and $B$. Each subsystem has computational basis states"
   ]
  },
  {
   "cell_type": "markdown",
   "id": "3777c667",
   "metadata": {
    "editable": true
   },
   "source": [
    "$$\n",
    "\\vert 0\\rangle_{\\mathrm{A,B}}=\\begin{bmatrix} 1 & 0\\end{bmatrix}^T \\hspace{1cm} \\vert 1\\rangle_{\\mathrm{A,B}}=\\begin{bmatrix} 0 & 1\\end{bmatrix}^T.\n",
    "$$"
   ]
  },
  {
   "cell_type": "markdown",
   "id": "d1033ef9",
   "metadata": {
    "editable": true
   },
   "source": [
    "The subsystems could represent single particles or composite many-particle systems of a given symmetry."
   ]
  },
  {
   "cell_type": "markdown",
   "id": "e9140382",
   "metadata": {
    "editable": true
   },
   "source": [
    "## Computational basis states\n",
    "\n",
    "This leads to the many-body computational basis states"
   ]
  },
  {
   "cell_type": "markdown",
   "id": "8d91b024",
   "metadata": {
    "editable": true
   },
   "source": [
    "$$\n",
    "\\vert 00\\rangle = \\vert 0\\rangle_{\\mathrm{A}}\\otimes \\vert 0\\rangle_{\\mathrm{B}}=\\begin{bmatrix} 1 & 0 & 0 &0\\end{bmatrix}^T,\n",
    "$$"
   ]
  },
  {
   "cell_type": "markdown",
   "id": "17037ebe",
   "metadata": {
    "editable": true
   },
   "source": [
    "and"
   ]
  },
  {
   "cell_type": "markdown",
   "id": "ac9d96ec",
   "metadata": {
    "editable": true
   },
   "source": [
    "$$\n",
    "\\vert 01\\rangle = \\vert 0\\rangle_{\\mathrm{A}}\\otimes \\vert 1\\rangle_{\\mathrm{B}}=\\begin{bmatrix} 0 & 1 & 0 &0\\end{bmatrix}^T,\n",
    "$$"
   ]
  },
  {
   "cell_type": "markdown",
   "id": "8b1a9170",
   "metadata": {
    "editable": true
   },
   "source": [
    "and"
   ]
  },
  {
   "cell_type": "markdown",
   "id": "9f8ed315",
   "metadata": {
    "editable": true
   },
   "source": [
    "$$\n",
    "\\vert 10\\rangle = \\vert 1\\rangle_{\\mathrm{A}}\\otimes \\vert 0\\rangle_{\\mathrm{B}}=\\begin{bmatrix} 0 & 0 & 1 &0\\end{bmatrix}^T,\n",
    "$$"
   ]
  },
  {
   "cell_type": "markdown",
   "id": "90049f47",
   "metadata": {
    "editable": true
   },
   "source": [
    "and finally"
   ]
  },
  {
   "cell_type": "markdown",
   "id": "23c193da",
   "metadata": {
    "editable": true
   },
   "source": [
    "$$\n",
    "\\vert 11\\rangle = \\vert 1\\rangle_{\\mathrm{A}}\\otimes \\vert 1\\rangle_{\\mathrm{B}}=\\begin{bmatrix} 0 & 0 & 0 &1\\end{bmatrix}^T.\n",
    "$$"
   ]
  },
  {
   "cell_type": "markdown",
   "id": "526f2b56",
   "metadata": {
    "editable": true
   },
   "source": [
    "## Eigenstates of non-interacting Hamiltonian\n",
    "\n",
    "These computational basis states define the eigenstates of the non-interacting  Hamiltonian"
   ]
  },
  {
   "cell_type": "markdown",
   "id": "0be7589d",
   "metadata": {
    "editable": true
   },
   "source": [
    "$$\n",
    "H_0\\vert 00 \\rangle = \\epsilon_{00}\\vert 00 \\rangle,\n",
    "$$"
   ]
  },
  {
   "cell_type": "markdown",
   "id": "a50ecc3a",
   "metadata": {
    "editable": true
   },
   "source": [
    "$$\n",
    "H_0\\vert 10 \\rangle = \\epsilon_{10}\\vert 10 \\rangle,\n",
    "$$"
   ]
  },
  {
   "cell_type": "markdown",
   "id": "b3a52581",
   "metadata": {
    "editable": true
   },
   "source": [
    "$$\n",
    "H_0\\vert 01 \\rangle = \\epsilon_{01}\\vert 01 \\rangle,\n",
    "$$"
   ]
  },
  {
   "cell_type": "markdown",
   "id": "868c6246",
   "metadata": {
    "editable": true
   },
   "source": [
    "and"
   ]
  },
  {
   "cell_type": "markdown",
   "id": "732b6fa1",
   "metadata": {
    "editable": true
   },
   "source": [
    "$$\n",
    "H_0\\vert 11 \\rangle = \\epsilon_{11}\\vert 11 \\rangle.\n",
    "$$"
   ]
  },
  {
   "cell_type": "markdown",
   "id": "12c10463",
   "metadata": {
    "editable": true
   },
   "source": [
    "## Interaction part\n",
    "\n",
    "The interacting part of the Hamiltonian $H_{\\mathrm{I}}$ is given by the tensor product of two $\\sigma_x$ and $\\sigma_z$  matrices, respectively, that is"
   ]
  },
  {
   "cell_type": "markdown",
   "id": "e91333fa",
   "metadata": {
    "editable": true
   },
   "source": [
    "$$\n",
    "H_{\\mathrm{I}}=H_x\\sigma_x\\otimes\\sigma_x+H_z\\sigma_z\\otimes\\sigma_z,\n",
    "$$"
   ]
  },
  {
   "cell_type": "markdown",
   "id": "e9800a5d",
   "metadata": {
    "editable": true
   },
   "source": [
    "where $H_x$ and $H_z$ are interaction strength parameters. Our final Hamiltonian matrix is given by"
   ]
  },
  {
   "cell_type": "markdown",
   "id": "d18e6e13",
   "metadata": {
    "editable": true
   },
   "source": [
    "$$\n",
    "\\boldsymbol{H}=\\begin{bmatrix} \\epsilon_{00}+H_z & 0 & 0 & H_x \\\\\n",
    "                       0  & \\epsilon_{10}-H_z & H_x & 0 \\\\\n",
    "\t\t       0 & H_x & \\epsilon_{01}-H_z & 0 \\\\\n",
    "\t\t       H_x & 0 & 0 & \\epsilon_{11} +H_z \\end{bmatrix}.\n",
    "$$"
   ]
  },
  {
   "cell_type": "markdown",
   "id": "f5042dc4",
   "metadata": {
    "editable": true
   },
   "source": [
    "## Density matrices\n",
    "\n",
    "The four eigenstates of the above Hamiltonian matrix can in turn be used to\n",
    "define density matrices. As an example, the density matrix of the\n",
    "first eigenstate (lowest energy $E_0$) $\\Psi_0$ is given by the outerproduct"
   ]
  },
  {
   "cell_type": "markdown",
   "id": "514703b2",
   "metadata": {
    "editable": true
   },
   "source": [
    "$$\n",
    "\\rho_0=\\left(\\alpha_{00}\\vert 00 \\rangle+\\alpha_{10}\\vert 10 \\rangle+\\alpha_{01}\\vert 01 \\rangle+\\alpha_{11}\\vert 11 \\rangle\\right)\\left(\\alpha_{00}^*\\langle 00\\vert+\\alpha_{10}^*\\langle 10\\vert+\\alpha_{01}^*\\langle 01\\vert+\\alpha_{11}^*\\langle 11\\vert\\right),\n",
    "$$"
   ]
  },
  {
   "cell_type": "markdown",
   "id": "b36c80b9",
   "metadata": {
    "editable": true
   },
   "source": [
    "where the coefficients $\\alpha_{ij}$ are the eigenvector coefficients\n",
    "resulting from the solution of the above eigenvalue problem."
   ]
  },
  {
   "cell_type": "markdown",
   "id": "9140eec4",
   "metadata": {
    "editable": true
   },
   "source": [
    "## Subsystems\n",
    "\n",
    "We can\n",
    "then in turn define the density matrix for the subsets $A$ or $B$ as"
   ]
  },
  {
   "cell_type": "markdown",
   "id": "7789363b",
   "metadata": {
    "editable": true
   },
   "source": [
    "$$\n",
    "\\rho_A=\\mathrm{Tr}_B(\\rho_{0})=\\langle 0 \\vert \\rho_{0} \\vert 0\\rangle_{B}+\\langle 1 \\vert \\rho_{0} \\vert 1\\rangle_{B},\n",
    "$$"
   ]
  },
  {
   "cell_type": "markdown",
   "id": "0553033e",
   "metadata": {
    "editable": true
   },
   "source": [
    "or"
   ]
  },
  {
   "cell_type": "markdown",
   "id": "e27f3db5",
   "metadata": {
    "editable": true
   },
   "source": [
    "$$\n",
    "\\rho_B=\\mathrm{Tr}_A(\\rho_0)=\\langle 0 \\vert \\rho_{0} \\vert 0\\rangle_{A}+\\langle 1 \\vert \\rho_{0} \\vert 1\\rangle_{A}.\n",
    "$$"
   ]
  },
  {
   "cell_type": "markdown",
   "id": "efe93718",
   "metadata": {
    "editable": true
   },
   "source": [
    "## Entropies\n",
    "\n",
    "The density matrices for these subsets can be used to compute the\n",
    "so-called von Neumann entropy, which is one of the possible measures\n",
    "of entanglement. A pure state has entropy equal zero while entangled\n",
    "state have an entropy larger than zero. The von-Neumann entropy is\n",
    "defined as"
   ]
  },
  {
   "cell_type": "markdown",
   "id": "b37820b1",
   "metadata": {
    "editable": true
   },
   "source": [
    "$$\n",
    "S(A,B)=-\\mathrm{Tr}\\left(\\rho_{A,B}\\log_2 (\\rho_{A,B})\\right).\n",
    "$$"
   ]
  },
  {
   "cell_type": "markdown",
   "id": "a3c2078c",
   "metadata": {
    "editable": true
   },
   "source": [
    "## Understanding the example\n",
    "The example here shows the above von Neumann entropy based on the\n",
    "density matrix for the lowest many-body state. We see clearly a jump\n",
    "in the entropy around the point where we have a level crossing. At\n",
    "interaction strenght $\\lambda=0$ we have many-body states purely\n",
    "defined by their computational basis states. As we switch on the\n",
    "interaction strength, we obtain an increased degree of mixing and the\n",
    "entropy increases till we reach the level crossing point where we see\n",
    "an additional and sudden increase in entropy. Similar behaviors are\n",
    "observed for the other states. The most important result from this\n",
    "example is that entanglement is driven by the Hamiltonian itself and\n",
    "the strength of the interaction matrix elements and the\n",
    "non-interacting energies."
   ]
  },
  {
   "cell_type": "markdown",
   "id": "ac6820e3",
   "metadata": {
    "editable": true
   },
   "source": [
    "## Code, best seen in jupyter-notebook"
   ]
  },
  {
   "cell_type": "code",
   "execution_count": 3,
   "id": "878c619a",
   "metadata": {
    "collapsed": false,
    "editable": true
   },
   "outputs": [],
   "source": [
    "%matplotlib inline\n",
    "from  matplotlib import pyplot as plt\n",
    "import numpy as np\n",
    "from scipy.linalg import logm, expm\n",
    "def log2M(a): # base 2 matrix logarithm\n",
    "    return logm(a)/np.log(2.0)\n",
    "\n",
    "dim = 4\n",
    "Hamiltonian = np.zeros((dim,dim))\n",
    "#number of lambda values\n",
    "n = 40\n",
    "lmbd = np.linspace(0.0,1.0,n)\n",
    "Hx = 2.0\n",
    "Hz = 3.0\n",
    "# Non-diagonal part as sigma_x tensor product with sigma_x\n",
    "sx = np.matrix([[0,1],[1,0]])\n",
    "sx2 = Hx*np.kron(sx, sx)\n",
    "# Diagonal part as sigma_z tensor product with sigma_z\n",
    "sz = np.matrix([[1,0],[0,-1]])\n",
    "sz2 = Hz*np.kron(sz, sz)\n",
    "noninteracting = [0.0, 2.5, 6.5, 7.0]\n",
    "D = np.diag(noninteracting)\n",
    "Eigenvalue = np.zeros((dim,n))\n",
    "Entropy = np.zeros(n)\n",
    "\n",
    "for i in range(n): \n",
    "    Hamiltonian = lmbd[i]*(sx2+sz2)+D\n",
    "    # diagonalize and obtain eigenvalues, not necessarily sorted\n",
    "    EigValues, EigVectors = np.linalg.eig(Hamiltonian)\n",
    "    # sort eigenvectors and eigenvalues\n",
    "    permute = EigValues.argsort()\n",
    "    EigValues = EigValues[permute]\n",
    "    EigVectors = EigVectors[:,permute]\n",
    "    # Compute density matrix for selected system state, here ground state\n",
    "    DensityMatrix = np.zeros((dim,dim))\n",
    "    DensityMatrix = np.outer(EigVectors[:,0],EigVectors[:,0])\n",
    "    # Project down on substates and find density matrix for subsystem\n",
    "    d = np.matrix([[1,0],[0,1]])\n",
    "    v1 = [1.0,0.0]\n",
    "    proj1 = np.kron(v1,d)\n",
    "    x1 = proj1 @ DensityMatrix @ proj1.T\n",
    "    v2 = [0.0,1.0]\n",
    "    proj2 = np.kron(v2,d)\n",
    "    x2 = proj2 @ DensityMatrix @ proj2.T\n",
    "    # Total density matrix for subsystem\n",
    "    total = x1+x2\n",
    "    # von Neumann Entropy for subsystem \n",
    "    Entropy[i] = -np.matrix.trace(total @ log2M(total))\n",
    "    # Plotting eigenvalues and entropy as functions of interaction strengths\n",
    "    Eigenvalue[0,i] = EigValues[0]\n",
    "    Eigenvalue[1,i] = EigValues[1]\n",
    "    Eigenvalue[2,i] = EigValues[2]\n",
    "    Eigenvalue[3,i] = EigValues[3]\n",
    "plt.plot(lmbd, Eigenvalue[0,:] ,'b-',lmbd, Eigenvalue[1,:],'g-',)\n",
    "plt.plot(lmbd, Eigenvalue[2,:] ,'r-',lmbd, Eigenvalue[3,:],'y-',)\n",
    "plt.xlabel('$\\lambda$')\n",
    "plt.ylabel('Eigenvalues')\n",
    "plt.show()\n",
    "plt.plot(lmbd, Entropy)\n",
    "plt.xlabel('$\\lambda$')\n",
    "plt.ylabel('Entropy')          \n",
    "plt.show"
   ]
  }
 ],
 "metadata": {},
 "nbformat": 4,
 "nbformat_minor": 5
}
