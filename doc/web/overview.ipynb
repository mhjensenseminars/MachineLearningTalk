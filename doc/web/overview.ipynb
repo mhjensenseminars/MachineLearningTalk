{
 "cells": [
  {
   "cell_type": "markdown",
   "id": "de6984e8",
   "metadata": {
    "editable": true
   },
   "source": [
    "<!-- HTML file automatically generated from DocOnce source (https://github.com/doconce/doconce/)\n",
    "doconce format html overview.do.txt  -->\n",
    "<!-- dom:TITLE: Talks over a wide range of topics -->"
   ]
  },
  {
   "cell_type": "markdown",
   "id": "bdeed1f2",
   "metadata": {
    "editable": true
   },
   "source": [
    "# Talks over a wide range of topics\n",
    "**Morten Hjorth-Jensen** (email: `hjensen@msu.edu`)\n",
    "\n",
    "Date: **Oct 13, 2022**"
   ]
  },
  {
   "cell_type": "markdown",
   "id": "3f731ea2",
   "metadata": {
    "editable": true
   },
   "source": [
    "# Slides in various formats"
   ]
  },
  {
   "cell_type": "markdown",
   "id": "bd0a8a27",
   "metadata": {
    "editable": true
   },
   "source": [
    "## From variational Monte Carlo to machine learning, talks at Michigan State University April and June 2018\n",
    "\n",
    " * HTML:\n",
    "\n",
    "   * [Plain html style](http://mhjensenseminars.github.io/MachineLearningTalk/doc/pub/vmcml/html/vmcml.html)\n",
    "\n",
    "   * [reveal.js beige slide style](http://mhjensenseminars.github.io/MachineLearningTalk/doc/pub/vmcml/html/vmcml-reveal.html)\n",
    "\n",
    "   * [Bootstrap style](http://mhjensenseminars.github.io/MachineLearningTalk/doc/pub/vmcml/html/vmcml-bs.html)\n",
    "\n",
    " * iPython notebook:\n",
    "\n",
    "   * [ipynb file](http://mhjensenseminars.github.io/MachineLearningTalk/doc/pub/vmcml/ipynb/vmcml.ipynb)"
   ]
  },
  {
   "cell_type": "markdown",
   "id": "c2b5a3e0",
   "metadata": {
    "editable": true
   },
   "source": [
    "## Talk at University of Trento, March 12, 2019\n",
    "\n",
    " * HTML:\n",
    "\n",
    "   * [Plain html style](http://mhjensenseminars.github.io/MachineLearningTalk/doc/pub/unitn/html/unitn.html)\n",
    "\n",
    "   * [reveal.js beige slide style](http://mhjensenseminars.github.io/MachineLearningTalk/doc/pub/unitn/html/unitn-reveal.html)\n",
    "\n",
    "   * [Bootstrap style](http://mhjensenseminars.github.io/MachineLearningTalk/doc/pub/unitn/html/unitn-bs.html)\n",
    "\n",
    " * iPython notebook:\n",
    "\n",
    "   * [ipynb file](http://mhjensenseminars.github.io/MachineLearningTalk/doc/pub/unitn/ipynb/unitn.ipynb)"
   ]
  },
  {
   "cell_type": "markdown",
   "id": "dd3496bd",
   "metadata": {
    "editable": true
   },
   "source": [
    "## Talk at University of Ohio, Athens, April 16, 2019\n",
    "\n",
    " * HTML:\n",
    "\n",
    "   * [Plain html style](http://mhjensenseminars.github.io/MachineLearningTalk/doc/pub/uniohio/html/uniohio.html)\n",
    "\n",
    "   * [reveal.js beige slide style](http://mhjensenseminars.github.io/MachineLearningTalk/doc/pub/uniohio/html/uniohio-reveal.html)\n",
    "\n",
    "   * [Bootstrap style](http://mhjensenseminars.github.io/MachineLearningTalk/doc/pub/uniohio/html/uniohio-bs.html)\n",
    "\n",
    " * iPython notebook:\n",
    "\n",
    "   * [ipynb file](http://mhjensenseminars.github.io/MachineLearningTalk/doc/pub/uniohio/ipynb/uniohio.ipynb)"
   ]
  },
  {
   "cell_type": "markdown",
   "id": "d1fded0f",
   "metadata": {
    "editable": true
   },
   "source": [
    "## Talk at University of Surrey, Guildford, UK, October 1, 2019\n",
    "\n",
    " * HTML:\n",
    "\n",
    "   * [Plain html style](http://mhjensenseminars.github.io/MachineLearningTalk/doc/pub/unisurrey/html/unisurrey.html)\n",
    "\n",
    "   * [reveal.js beige slide style](http://mhjensenseminars.github.io/MachineLearningTalk/doc/pub/unisurrey/html/unisurrey-reveal.html)\n",
    "\n",
    "   * [Bootstrap style](http://mhjensenseminars.github.io/MachineLearningTalk/doc/pub/unisurrey/html/unisurrey-bs.html)\n",
    "\n",
    " * iPython notebook:\n",
    "\n",
    "   * [ipynb file](http://mhjensenseminars.github.io/MachineLearningTalk/doc/pub/unisurrey/ipynb/unisurrey.ipynb)"
   ]
  },
  {
   "cell_type": "markdown",
   "id": "205eb389",
   "metadata": {
    "editable": true
   },
   "source": [
    "## Talk at University of Oslo, October 8, 2019\n",
    "\n",
    " * HTML:\n",
    "\n",
    "   * [Plain html style](http://mhjensenseminars.github.io/MachineLearningTalk/doc/pub/uio2019/html/uio2019.html)\n",
    "\n",
    "   * [reveal.js beige slide style](http://mhjensenseminars.github.io/MachineLearningTalk/doc/pub/uio2019/html/uio2019-reveal.html)\n",
    "\n",
    "   * [Bootstrap style](http://mhjensenseminars.github.io/MachineLearningTalk/doc/pub/uio2019/html/uio2019-bs.html)\n",
    "\n",
    " * iPython notebook:\n",
    "\n",
    "   * [ipynb file](http://mhjensenseminars.github.io/MachineLearningTalk/doc/pub/uio2019/ipynb/uio2019.ipynb)"
   ]
  },
  {
   "cell_type": "markdown",
   "id": "38bd96e2",
   "metadata": {
    "editable": true
   },
   "source": [
    "## Talk at Chalmers, October 28, 2019\n",
    "\n",
    " * HTML:\n",
    "\n",
    "   * [Plain html style](http://mhjensenseminars.github.io/MachineLearningTalk/doc/pub/chalmers/html/chalmers.html)\n",
    "\n",
    "   * [reveal.js beige slide style](http://mhjensenseminars.github.io/MachineLearningTalk/doc/pub/chalmers/html/chalmers-reveal.html)\n",
    "\n",
    "   * [Bootstrap style](http://mhjensenseminars.github.io/MachineLearningTalk/doc/pub/chalmers/html/chalmers-bs.html)\n",
    "\n",
    " * iPython notebook:\n",
    "\n",
    "   * [ipynb file](http://mhjensenseminars.github.io/MachineLearningTalk/doc/pub/chalmers/ipynb/chalmers.ipynb)"
   ]
  },
  {
   "cell_type": "markdown",
   "id": "96598cf3",
   "metadata": {
    "editable": true
   },
   "source": [
    "## UiO, Math Dept, March 3, 2020\n",
    "\n",
    " * HTML:\n",
    "\n",
    "   * [Plain html style](http://mhjensenseminars.github.io/MachineLearningTalk/doc/pub/uiomath/html/uiomath.html)\n",
    "\n",
    "   * [reveal.js beige slide style](http://mhjensenseminars.github.io/MachineLearningTalk/doc/pub/uiomath/html/uiomath-reveal.html)\n",
    "\n",
    "   * [Bootstrap style](http://mhjensenseminars.github.io/MachineLearningTalk/doc/pub/uiomath/html/uiomath-bs.html)\n",
    "\n",
    " * iPython notebook:\n",
    "\n",
    "   * [ipynb file](http://mhjensenseminars.github.io/MachineLearningTalk/doc/pub/uiomath/ipynb/uiomath.ipynb)"
   ]
  },
  {
   "cell_type": "markdown",
   "id": "73cdfc27",
   "metadata": {
    "editable": true
   },
   "source": [
    "## Uni-Padova, October 13, 2020\n",
    "\n",
    " * HTML:\n",
    "\n",
    "   * [Plain html style](http://mhjensenseminars.github.io/MachineLearningTalk/doc/pub/unipd/html/unipd.html)\n",
    "\n",
    "   * [reveal.js beige slide style](http://mhjensenseminars.github.io/MachineLearningTalk/doc/pub/unipd/html/unipd-reveal.html)\n",
    "\n",
    "   * [Bootstrap style](http://mhjensenseminars.github.io/MachineLearningTalk/doc/pub/unipd/html/unipd-bs.html)\n",
    "\n",
    " * iPython notebook:\n",
    "\n",
    "   * [ipynb file](http://mhjensenseminars.github.io/MachineLearningTalk/doc/pub/unipd/ipynb/unipd.ipynb)"
   ]
  },
  {
   "cell_type": "markdown",
   "id": "4eac6f5b",
   "metadata": {
    "editable": true
   },
   "source": [
    "## AI and ML slides\n",
    "\n",
    " * HTML:\n",
    "\n",
    "   * [Plain html style](http://mhjensenseminars.github.io/MachineLearningTalk/doc/pub/overview/html/overview.html)\n",
    "\n",
    "   * [reveal.js beige slide style](http://mhjensenseminars.github.io/MachineLearningTalk/doc/pub/overview/html/overview-reveal.html)\n",
    "\n",
    "   * [Bootstrap style](http://mhjensenseminars.github.io/MachineLearningTalk/doc/pub/overview/html/overview-bs.html)\n",
    "\n",
    " * iPython notebook:\n",
    "\n",
    "   * [ipynb file](http://mhjensenseminars.github.io/MachineLearningTalk/doc/pub/overview/ipynb/overview.ipynb)"
   ]
  },
  {
   "cell_type": "markdown",
   "id": "da373338",
   "metadata": {
    "editable": true
   },
   "source": [
    "## Tastes of Nuclear Physics, November 30-December 4, 2020\n",
    "\n",
    " * HTML:\n",
    "\n",
    "   * [Plain html style](http://mhjensenseminars.github.io/MachineLearningTalk/doc/pub/WorkshopTastesNP/html/WorkshopTastesNP.html)\n",
    "\n",
    "   * [reveal.js beige slide style](http://mhjensenseminars.github.io/MachineLearningTalk/doc/pub/WorkshopTastesNP/html/WorkshopTastesNP-reveal.html)\n",
    "\n",
    "   * [Bootstrap style](http://mhjensenseminars.github.io/MachineLearningTalk/doc/pub/WorkshopTastesNP/html/WorkshopTastesNP-bs.html)\n",
    "\n",
    " * iPython notebook:\n",
    "\n",
    "   * [ipynb file](http://mhjensenseminars.github.io/MachineLearningTalk/doc/pub/WorkshopTastesNP/ipynb/WorkshopTastesNP.ipynb)"
   ]
  },
  {
   "cell_type": "markdown",
   "id": "a3c33a9f",
   "metadata": {
    "editable": true
   },
   "source": [
    "## XAI: Explaining what goes on inside DNN/AI, December 8, 2020\n",
    "\n",
    " * HTML:\n",
    "\n",
    "   * [Plain html style](http://mhjensenseminars.github.io/MachineLearningTalk/doc/pub/xai/html/xai.html)\n",
    "\n",
    "   * [reveal.js beige slide style](http://mhjensenseminars.github.io/MachineLearningTalk/doc/pub/xai/html/xai-reveal.html)\n",
    "\n",
    "   * [Bootstrap style](http://mhjensenseminars.github.io/MachineLearningTalk/doc/pub/xai/html/xai-bs.html)\n",
    "\n",
    " * iPython notebook:\n",
    "\n",
    "   * [ipynb file](http://mhjensenseminars.github.io/MachineLearningTalk/doc/pub/xai/ipynb/xai.ipynb)"
   ]
  },
  {
   "cell_type": "markdown",
   "id": "95d45c77",
   "metadata": {
    "editable": true
   },
   "source": [
    "## NITheP Colloquium February 2, 2021\n",
    "\n",
    " * HTML:\n",
    "\n",
    "   * [Plain html style](http://mhjensenseminars.github.io/MachineLearningTalk/doc/pub/NIThePColloquium/html/NIThePColloquium.html)\n",
    "\n",
    "   * [reveal.js beige slide style](http://mhjensenseminars.github.io/MachineLearningTalk/doc/pub/NIThePColloquium/html/NIThePColloquium-reveal.html)\n",
    "\n",
    "   * [Bootstrap style](http://mhjensenseminars.github.io/MachineLearningTalk/doc/pub/NIThePColloquium/html/NIThePColloquium-bs.html)\n",
    "\n",
    " * iPython notebook:\n",
    "\n",
    "   * [ipynb file](http://mhjensenseminars.github.io/MachineLearningTalk/doc/pub/NIThePColloquium/ipynb/NIThePColloquium.ipynb)"
   ]
  },
  {
   "cell_type": "markdown",
   "id": "6606bd7f",
   "metadata": {
    "editable": true
   },
   "source": [
    "## Quantum Computing and Quantum Machine Learning, March 3, 2021\n",
    "\n",
    " * HTML:\n",
    "\n",
    "   * [Plain html style](http://mhjensenseminars.github.io/MachineLearningTalk/doc/pub/quantumcomputing/html/quantumcomputing.html)\n",
    "\n",
    "   * [reveal.js beige slide style](http://mhjensenseminars.github.io/MachineLearningTalk/doc/pub/quantumcomputing/html/quantumcomputing-reveal.html)\n",
    "\n",
    "   * [Bootstrap style](http://mhjensenseminars.github.io/MachineLearningTalk/doc/pub/quantumcomputing/html/quantumcomputing-bs.html)\n",
    "\n",
    " * iPython notebook:\n",
    "\n",
    "   * [ipynb file](http://mhjensenseminars.github.io/MachineLearningTalk/doc/pub/quantumcomputing/ipynb/quantumcomputing.ipynb)"
   ]
  },
  {
   "cell_type": "markdown",
   "id": "dcbdb5b4",
   "metadata": {
    "editable": true
   },
   "source": [
    "## Quantum Computing and the Quantum Mechanical Many-Body Problem, Talk at Notre Dame University, May 12, 2021\n",
    "\n",
    " * HTML:\n",
    "\n",
    "   * [Plain html style](http://mhjensenseminars.github.io/MachineLearningTalk/doc/pub/NotreDameMay2021/html/NotreDameMay2021.html)\n",
    "\n",
    "   * [reveal.js beige slide style](http://mhjensenseminars.github.io/MachineLearningTalk/doc/pub/NotreDameMay2021/html/NotreDameMay2021-reveal.html)\n",
    "\n",
    "   * [Bootstrap style](http://mhjensenseminars.github.io/MachineLearningTalk/doc/pub/NotreDameMay2021/html/NotreDameMay2021-bs.html)\n",
    "\n",
    " * iPython notebook:\n",
    "\n",
    "   * [ipynb file](http://mhjensenseminars.github.io/MachineLearningTalk/doc/pub/NotreDameMay2021/ipynb/NotreDameMay2021.ipynb)"
   ]
  },
  {
   "cell_type": "markdown",
   "id": "55df284c",
   "metadata": {
    "editable": true
   },
   "source": [
    "## From Machine Learning to Quantum Computing and Quantum Machine Learning applied to Quantum Mechanical Many-Body Systems, Talk at OsloMet University, August 27, 2021\n",
    "\n",
    " * HTML:\n",
    "\n",
    "   * [Plain html style](http://mhjensenseminars.github.io/MachineLearningTalk/doc/pub/oslometqc/html/oslometqc.html)\n",
    "\n",
    "   * [reveal.js beige slide style](http://mhjensenseminars.github.io/MachineLearningTalk/doc/pub/oslometqc/html/oslometqc-reveal.html)\n",
    "\n",
    "   * [Bootstrap style](http://mhjensenseminars.github.io/MachineLearningTalk/doc/pub/oslometqc/html/oslometqc-bs.html)\n",
    "\n",
    " * iPython notebook:\n",
    "\n",
    "   * [ipynb file](http://mhjensenseminars.github.io/MachineLearningTalk/doc/pub/oslometqc/ipynb/oslometqc.ipynb)"
   ]
  },
  {
   "cell_type": "markdown",
   "id": "9618c53f",
   "metadata": {
    "editable": true
   },
   "source": [
    "## IAEA AI Technical Meeting: Nuclear Physics Working Group, October 25-29, 2021\n",
    "\n",
    " * HTML:\n",
    "\n",
    "   * [Plain html style](http://mhjensenseminars.github.io/MachineLearningTalk/doc/pub/IAEA/html/IAEA.html)\n",
    "\n",
    "   * [reveal.js beige slide style](http://mhjensenseminars.github.io/MachineLearningTalk/doc/pub/IAEA/html/IAEA-reveal.html)\n",
    "\n",
    "   * [Bootstrap style](http://mhjensenseminars.github.io/MachineLearningTalk/doc/pub/IAEA/html/IAEA-bs.html)\n",
    "\n",
    " * iPython notebook:\n",
    "\n",
    "   * [ipynb file](http://mhjensenseminars.github.io/MachineLearningTalk/doc/pub/IAEA/ipynb/IAEA.ipynb)"
   ]
  },
  {
   "cell_type": "markdown",
   "id": "a7b745c5",
   "metadata": {
    "editable": true
   },
   "source": [
    "## Exciting Avenues in Research and Education in Quantum Information Technologies, OsloMet, November 18, 2021\n",
    "\n",
    " * HTML:\n",
    "\n",
    "   * [Plain html style](http://mhjensenseminars.github.io/MachineLearningTalk/doc/pub/spinQ/html/spinQ.html)\n",
    "\n",
    "   * [reveal.js beige slide style](http://mhjensenseminars.github.io/MachineLearningTalk/doc/pub/spinQ/html/spinQ-reveal.html)\n",
    "\n",
    "   * [Bootstrap style](http://mhjensenseminars.github.io/MachineLearningTalk/doc/pub/spinQ/html/spinQ-bs.html)\n",
    "\n",
    " * iPython notebook:\n",
    "\n",
    "   * [ipynb file](http://mhjensenseminars.github.io/MachineLearningTalk/doc/pub/spinQ/ipynb/spinQ.ipynb)"
   ]
  },
  {
   "cell_type": "markdown",
   "id": "99a79de7",
   "metadata": {
    "editable": true
   },
   "source": [
    "## Artificial Intelligence and Machine Learning in Nuclear Physics, Physics Colloquia 2021/2022, Università di Milano, December 3, 2021\n",
    "\n",
    " * HTML:\n",
    "\n",
    "   * [Plain html style](http://mhjensenseminars.github.io/MachineLearningTalk/doc/pub/UniMilano/html/UniMilano.html)\n",
    "\n",
    "   * [reveal.js beige slide style](http://mhjensenseminars.github.io/MachineLearningTalk/doc/pub/UniMilano/html/UniMilano-reveal.html)\n",
    "\n",
    "   * [Bootstrap style](http://mhjensenseminars.github.io/MachineLearningTalk/doc/pub/UniMilano/html/UniMilano-bs.html)\n",
    "\n",
    " * iPython notebook:\n",
    "\n",
    "   * [ipynb file](http://mhjensenseminars.github.io/MachineLearningTalk/doc/pub/UniMilano/ipynb/UniMilano.ipynb)"
   ]
  },
  {
   "cell_type": "markdown",
   "id": "00412ec8",
   "metadata": {
    "editable": true
   },
   "source": [
    "## Artificial Intelligence and Machine Learning in Nuclear Physics, Research Discussion, FRIB/NSCL, MSU, February 10, 2022\n",
    "\n",
    " * HTML:\n",
    "\n",
    "   * [Plain html style](http://mhjensenseminars.github.io/MachineLearningTalk/doc/pub/MSUFeb10/html/MSUFeb10.html)\n",
    "\n",
    "   * [reveal.js beige slide style](http://mhjensenseminars.github.io/MachineLearningTalk/doc/pub/MSUFeb10/html/MSUFeb10-reveal.html)\n",
    "\n",
    "   * [Bootstrap style](http://mhjensenseminars.github.io/MachineLearningTalk/doc/pub/MSUFeb10/html/MSUFeb10-bs.html)\n",
    "\n",
    " * iPython notebook:\n",
    "\n",
    "   * [ipynb file](http://mhjensenseminars.github.io/MachineLearningTalk/doc/pub/MSUFeb10/ipynb/MSUFeb10.ipynb)"
   ]
  },
  {
   "cell_type": "markdown",
   "id": "bc022185",
   "metadata": {
    "editable": true
   },
   "source": [
    "## Artificial Intelligence and Machine Learning in Nuclear Physics, Oak Ridge National Laboratory, Tennessee, March 24, 2022\n",
    "\n",
    " * HTML:\n",
    "\n",
    "   * [Plain html style](http://mhjensenseminars.github.io/MachineLearningTalk/doc/pub/ORNLMarch24/html/ORNLMarch24.html)\n",
    "\n",
    "   * [reveal.js beige slide style](http://mhjensenseminars.github.io/MachineLearningTalk/doc/pub/ORNLMarch24/html/ORNLMarch24-reveal.html)\n",
    "\n",
    "   * [Bootstrap style](http://mhjensenseminars.github.io/MachineLearningTalk/doc/pub/ORNLMarch24/html/ORNLMarch24-bs.html)\n",
    "\n",
    " * iPython notebook:\n",
    "\n",
    "   * [ipynb file](http://mhjensenseminars.github.io/MachineLearningTalk/doc/pub/ORNLMarch24/ipynb/ORNLMarch24.ipynb)"
   ]
  },
  {
   "cell_type": "markdown",
   "id": "09d5808c",
   "metadata": {
    "editable": true
   },
   "source": [
    "## Artificial Intelligence and Machine Learning in Nuclear Physics, University of Tennessee, Knoxville, Tennessee, March 28, 2022\n",
    "\n",
    " * HTML:\n",
    "\n",
    "   * [Plain html style](http://mhjensenseminars.github.io/MachineLearningTalk/doc/pub/UTKMarch28/html/UTKMarch28.html)\n",
    "\n",
    "   * [reveal.js beige slide style](http://mhjensenseminars.github.io/MachineLearningTalk/doc/pub/UTKMarch28/html/UTKMarch28-reveal.html)\n",
    "\n",
    "   * [Bootstrap style](http://mhjensenseminars.github.io/MachineLearningTalk/doc/pub/UTKMarch28/html/UTKMarch28-bs.html)\n",
    "\n",
    " * iPython notebook:\n",
    "\n",
    "   * [ipynb file](http://mhjensenseminars.github.io/MachineLearningTalk/doc/pub/UTKMarch28/ipynb/UTKMarch28.ipynb)"
   ]
  },
  {
   "cell_type": "markdown",
   "id": "98bbeae4",
   "metadata": {
    "editable": true
   },
   "source": [
    "## Education and Research in Quantum Information Systems and more, Gemini center, SINTEF, Oslo, Norway, April 6, 2022\n",
    "\n",
    " * HTML:\n",
    "\n",
    "   * [Plain html style](http://mhjensenseminars.github.io/MachineLearningTalk/doc/pub/gemini/html/gemini.html)\n",
    "\n",
    "   * [reveal.js beige slide style](http://mhjensenseminars.github.io/MachineLearningTalk/doc/pub/gemini/html/gemini-reveal.html)\n",
    "\n",
    "   * [Bootstrap style](http://mhjensenseminars.github.io/MachineLearningTalk/doc/pub/gemini/html/gemini-bs.html)\n",
    "\n",
    " * iPython notebook:\n",
    "\n",
    "   * [ipynb file](http://mhjensenseminars.github.io/MachineLearningTalk/doc/pub/gemini/ipynb/gemini.ipynb)"
   ]
  },
  {
   "cell_type": "markdown",
   "id": "5391a7ed",
   "metadata": {
    "editable": true
   },
   "source": [
    "## QUTE workshop May 18, 2022, University of Oslo\n",
    "\n",
    " * HTML:\n",
    "\n",
    "   * [Plain html style](http://mhjensenseminars.github.io/MachineLearningTalk/doc/pub/quteMay2022/html/quteMay2022.html)\n",
    "\n",
    "   * [reveal.js beige slide style](http://mhjensenseminars.github.io/MachineLearningTalk/doc/pub/quteMay2022/html/quteMay2022-reveal.html)\n",
    "\n",
    "   * [Bootstrap style](http://mhjensenseminars.github.io/MachineLearningTalk/doc/pub/quteMay2022/html/quteMay2022-bs.html)\n",
    "\n",
    " * iPython notebook:\n",
    "\n",
    "   * [ipynb file](http://mhjensenseminars.github.io/MachineLearningTalk/doc/pub/quteMay2022/ipynb/quteMay2022.ipynb)"
   ]
  },
  {
   "cell_type": "markdown",
   "id": "cae6f958",
   "metadata": {
    "editable": true
   },
   "source": [
    "## Frontiers in Nuclear Structure, KTH, Stockholm, May 23-25, 2022\n",
    "\n",
    " * HTML:\n",
    "\n",
    "   * [Plain html style](http://mhjensenseminars.github.io/MachineLearningTalk/doc/pub/KTHMat23/html/KTHMat23.html)\n",
    "\n",
    "   * [reveal.js beige slide style](http://mhjensenseminars.github.io/MachineLearningTalk/doc/pub/KTHMat23/html/KTHMat23-reveal.html)\n",
    "\n",
    "   * [Bootstrap style](http://mhjensenseminars.github.io/MachineLearningTalk/doc/pub/KTHMat23/html/KTHMat23-bs.html)\n",
    "\n",
    " * iPython notebook:\n",
    "\n",
    "   * [ipynb file](http://mhjensenseminars.github.io/MachineLearningTalk/doc/pub/KTHMat23/ipynb/KTHMat23.ipynb)"
   ]
  },
  {
   "cell_type": "markdown",
   "id": "b3d7fddf",
   "metadata": {
    "editable": true
   },
   "source": [
    "## UiO, Fysisk institutt, fysikkforeningen, September 29, 2022\n",
    "\n",
    " * HTML:\n",
    "\n",
    "   * [Plain html style](http://mhjensenseminars.github.io/MachineLearningTalk/doc/pub/fysforening/html/fysforening.html)\n",
    "\n",
    "   * [reveal.js beige slide style](http://mhjensenseminars.github.io/MachineLearningTalk/doc/pub/fysforening/html/fysforening-reveal.html)\n",
    "\n",
    "   * [Bootstrap style](http://mhjensenseminars.github.io/MachineLearningTalk/doc/pub/fysforening/html/fysforening-bs.html)\n",
    "\n",
    " * iPython notebook:\n",
    "\n",
    "   * [ipynb file](http://mhjensenseminars.github.io/MachineLearningTalk/doc/pub/fysforening/ipynb/fysforening.ipynb)"
   ]
  },
  {
   "cell_type": "markdown",
   "id": "44d6b359",
   "metadata": {
    "editable": true
   },
   "source": [
    "## The 30th Anniversary Symposium of the Center for Computational Sciences at the University of Tsukuba, Japan, October 13-14, 2022\n",
    "\n",
    " * HTML:\n",
    "\n",
    "   * [Plain html style](http://mhjensenseminars.github.io/MachineLearningTalk/doc/pub/Tsukubasymposium/html/Tsukubasymposium.html)\n",
    "\n",
    "   * [reveal.js beige slide style](http://mhjensenseminars.github.io/MachineLearningTalk/doc/pub/Tsukubasymposium/html/Tsukubasymposium-reveal.html)\n",
    "\n",
    "   * [Bootstrap style](http://mhjensenseminars.github.io/MachineLearningTalk/doc/pub/Tsukubasymposium/html/Tsukubasymposium-bs.html)\n",
    "\n",
    " * iPython notebook:\n",
    "\n",
    "   * [ipynb file](http://mhjensenseminars.github.io/MachineLearningTalk/doc/pub/Tsukubasymposium/ipynb/Tsukubasymposium.ipynb)"
   ]
  }
 ],
 "metadata": {},
 "nbformat": 4,
 "nbformat_minor": 5
}
